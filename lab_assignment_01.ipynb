{
  "cells": [
    {
      "cell_type": "markdown",
      "metadata": {
        "id": "view-in-github",
        "colab_type": "text"
      },
      "source": [
        "<a href=\"https://colab.research.google.com/github/AmithReddyKasarla/AmithReddy_INFO5502_-Spring2022/blob/main/lab_assignment_01.ipynb\" target=\"_parent\"><img src=\"https://colab.research.google.com/assets/colab-badge.svg\" alt=\"Open In Colab\"/></a>"
      ]
    },
    {
      "cell_type": "markdown",
      "metadata": {
        "id": "DymRJbxDBCnf"
      },
      "source": [
        "# **The first Lab-assignment (01/25/2022, 50 points in total)**"
      ]
    },
    {
      "cell_type": "markdown",
      "metadata": {
        "id": "jJDe71iLB616"
      },
      "source": [
        "(1) Write a Python program to count the number of characters in a string. (5 points)\n",
        "\n",
        "Sample String : 'google.com', \n",
        "\n",
        "Expected Result : {'o': 3, 'g': 2, '.': 1, 'e': 1, 'l': 1, 'm': 1, 'c': 1}"
      ]
    },
    {
      "cell_type": "code",
      "execution_count": null,
      "metadata": {
        "colab": {
          "base_uri": "https://localhost:8080/"
        },
        "id": "MtKskTzbCLaU",
        "outputId": "f9bcdc2e-57fa-4c20-97c7-0b86e6e2ee6a"
      },
      "outputs": [
        {
          "output_type": "stream",
          "name": "stdout",
          "text": [
            "Enter a string: google.com\n",
            "OrderedDict([('o', 3), ('m', 1), ('l', 1), ('g', 2), ('e', 1), ('c', 1), ('.', 1)])\n"
          ]
        },
        {
          "output_type": "execute_result",
          "data": {
            "text/plain": [
              "dict"
            ]
          },
          "metadata": {},
          "execution_count": 35
        }
      ],
      "source": [
        "# write your answer here\n",
        "#Importing OrderedDict to sort the Dictionaries\n",
        "from collections import OrderedDict\n",
        "#Taking input file string to check the occurances\n",
        "str = input('Enter a string: ')\n",
        "#Creating a variable to check all the elements in the input \n",
        "x = {}.fromkeys(str,0)\n",
        "#Starting a for loop to take every chararter from the string\n",
        "for char in str:\n",
        "#Creating if statement to check if it satisfies the the condition\n",
        "  if char in x:\n",
        "#Incase above if statement is satified then we can increment the char and check for the other\n",
        "    x[char] = x[char]+1\n",
        "# Created a variable C to store the Ordered dictionariers.\n",
        "c = OrderedDict(sorted(x.items(), reverse = True))\n",
        "#Printing the result which is stored in C\n",
        "print(c)\n",
        "#Checking the type\n",
        "type(x)\n"
      ]
    },
    {
      "cell_type": "markdown",
      "metadata": {
        "id": "55W9AMdXCSpV"
      },
      "source": [
        "(2) Write a Python program to sum all the items in a list. (5 points)"
      ]
    },
    {
      "cell_type": "code",
      "execution_count": 2,
      "metadata": {
        "colab": {
          "base_uri": "https://localhost:8080/"
        },
        "id": "I57NXsauCec2",
        "outputId": "b12c2df4-4aa2-422e-979a-add94b44ce01"
      },
      "outputs": [
        {
          "output_type": "stream",
          "name": "stdout",
          "text": [
            "The Sum of all the items in the list :  28\n"
          ]
        }
      ],
      "source": [
        "# write your answer here\n",
        "# Declaring ths elements in the list\n",
        "list = [4, 5, 8, 3, 8]\n",
        "#declaring the x variable\n",
        "x = 0\n",
        "# Starting for loop to perform the operation in the list\n",
        "for i in range(0, len(list)):\n",
        "# Storing the sum value in the X\n",
        "  x = x + list[i]\n",
        "#Printing the Sum value by calling the X from above stored value\n",
        "print('The Sum of all the items in the list : ', x)"
      ]
    },
    {
      "cell_type": "markdown",
      "metadata": {
        "id": "4ulBZ6yhCi9F"
      },
      "source": [
        "(3) Write a Python program to get a string from a given string where all occurrences of its first char have been changed to '\\$', except the first char itself. (5 points)\n",
        "\n",
        "Sample String : 'restart', \n",
        "\n",
        "Expected Result : 'resta\\$t'"
      ]
    },
    {
      "cell_type": "code",
      "execution_count": 48,
      "metadata": {
        "id": "Fj0XhwbBCw2o",
        "colab": {
          "base_uri": "https://localhost:8080/"
        },
        "outputId": "69d24aac-0232-4190-e3fe-f3cdbd2e16b8"
      },
      "outputs": [
        {
          "output_type": "stream",
          "name": "stdout",
          "text": [
            "resta$t\n"
          ]
        }
      ],
      "source": [
        "# write your answer here\n",
        "#Defining the function change with x as string parameter\n",
        "def change(x: str):\n",
        "#In below code taking the first index location and checking with the rest of the index locations if there is any repeatations, if any then replacing it with '$' \n",
        "  y = x[0] + x[1: ].replace(x[0], '$', x.count(x[0]))\n",
        "#After replacing then returning the result stored in y\n",
        "  return y\n",
        "#x is the input\n",
        "x = 'restart'\n",
        "print(change(x))\n"
      ]
    },
    {
      "cell_type": "markdown",
      "metadata": {
        "id": "_bIP7s1MCzue"
      },
      "source": [
        "(4) Write a program with python which could accept two parameter a and b to calculate and output the result of S, where \n",
        "\n",
        "$\\ S=3.14*(1+a/b)^3$ (5 points)\n",
        "\n"
      ]
    },
    {
      "cell_type": "code",
      "execution_count": null,
      "metadata": {
        "colab": {
          "base_uri": "https://localhost:8080/"
        },
        "id": "w79QilHXD3Mg",
        "outputId": "223ab666-5178-4ba1-8524-9d8ac5d280fc"
      },
      "outputs": [
        {
          "output_type": "stream",
          "name": "stdout",
          "text": [
            "Enter the value for a: 2\n",
            "Enter the value for b: 1\n",
            "S =  84.78\n"
          ]
        }
      ],
      "source": [
        "# write your answer here\n",
        "#importing math library\n",
        "import math\n",
        "# Taking two variable to store the the input values for a and b in int type \n",
        "a = int(input('Enter the value for a: '))\n",
        "b = int(input('Enter the value for b: '))\n",
        "#Taking the formula to perform operations\n",
        "S = 3.14 * (1+ a/b)**3\n",
        "#Printing the Value\n",
        "print('S = ', S)"
      ]
    },
    {
      "cell_type": "markdown",
      "metadata": {
        "id": "xCa2bK9aD4Q3"
      },
      "source": [
        "(5) Write a Python program to concatenate following dictionaries to create a new one. (5 points)\n",
        "\n",
        "Sample Dictionary : dic1={1:10, 2:20}, dic2={3:30, 4:40}, dic3={5:50,6:60}, \n",
        "\n",
        "Expected Result : {1: 10, 2: 20, 3: 30, 4: 40, 5: 50, 6: 60}\n"
      ]
    },
    {
      "cell_type": "code",
      "execution_count": null,
      "metadata": {
        "colab": {
          "base_uri": "https://localhost:8080/"
        },
        "id": "_z4aLqAbEET1",
        "outputId": "ce492d3d-8e1e-41f9-e91c-60794cf8c708"
      },
      "outputs": [
        {
          "output_type": "stream",
          "name": "stdout",
          "text": [
            "{1: 10, 2: 20, 3: 30, 4: 40, 5: 50, 6: 60}\n"
          ]
        }
      ],
      "source": [
        "# write your answer here\n",
        "#defining the three dictionaries\n",
        "dic1 = {1:10, 2:20}\n",
        "dic2 = {3:30, 4:40}\n",
        "dic3 = {5:50, 6:60}\n",
        "# Using **[double star] to concatenate all the parameters from the defined dictionaries\n",
        "result= {**dic1, **dic2, **dic3}\n",
        "#printing the result\n",
        "print(result)"
      ]
    },
    {
      "cell_type": "markdown",
      "metadata": {
        "id": "0v48Vqa7FrQh"
      },
      "source": [
        "(6) Write a Python program to check whether an element exists within a tuple. (5 points)"
      ]
    },
    {
      "cell_type": "code",
      "execution_count": null,
      "metadata": {
        "colab": {
          "base_uri": "https://localhost:8080/"
        },
        "id": "7WEmgq-DF2P1",
        "outputId": "8d4694e5-d0a8-42c1-fa01-ba5a50258a9b"
      },
      "outputs": [
        {
          "output_type": "stream",
          "name": "stdout",
          "text": [
            "True\n"
          ]
        }
      ],
      "source": [
        "# write your answer here\n",
        "#defining a tuple with elements\n",
        "tuple = ('a','b','c','d','e','f')\n",
        "#Printing the result as True if the element found in the tuple and False if not found\n",
        "print('d' in tuple)"
      ]
    },
    {
      "cell_type": "markdown",
      "metadata": {
        "id": "vD5PYLMuGga_"
      },
      "source": [
        "(7) Write a Python program to find maximum and the minimum value in a set. (5 points)"
      ]
    },
    {
      "cell_type": "code",
      "execution_count": null,
      "metadata": {
        "colab": {
          "base_uri": "https://localhost:8080/"
        },
        "id": "t0D5kdJUGjjw",
        "outputId": "7e2a6d32-8d98-4464-e637-eb9b137e63c8"
      },
      "outputs": [
        {
          "output_type": "stream",
          "name": "stdout",
          "text": [
            "The maximum value in the set :  19\n",
            "The minimum value in the set :  1\n"
          ]
        }
      ],
      "source": [
        "# write your answer here\n",
        "#Defining the set with random elements\n",
        "Set = {3, 8, 5, 10, 1, 17, 15, 19}\n",
        "#Creating two elements x and y and calling min and max functions.\n",
        "x = min(Set)\n",
        "y = max(Set)\n",
        "#Printing the Maximum or Minimum value.\n",
        "print('The maximum value in the set : ',y)\n",
        "print('The minimum value in the set : ',x)"
      ]
    },
    {
      "cell_type": "markdown",
      "metadata": {
        "id": "uHkd-y5VhVWC"
      },
      "source": [
        "(8) Write a Python program to randomly divide the students in this class into six groups for term projects, each group should have at least 4 students but no more than 6 students (including 6). Here is the students list: (5 points)\n",
        "\n",
        "---\n",
        "\n",
        "\n",
        "\n",
        "studnet_list = ['ja0964','sa1198','sb1357','vb0218','sc1229','kg0569','kg0470','sg1297','bg0320','fh0141','jl1252','sk1386',\n",
        "           'ak0956','sk1390','sk1458','sk1313','ak0934','vm0377','nm0618','sm1640','sm1907','gn0108','pr0353','dr0609','ms1500','aos0040','ds0814', 'av0659','nv0234','hy0232']"
      ]
    },
    {
      "cell_type": "code",
      "execution_count": 30,
      "metadata": {
        "colab": {
          "base_uri": "https://localhost:8080/"
        },
        "id": "3iGbmcOBhTwy",
        "outputId": "b3046ec8-e44e-4ec8-ba34-330b53a9eba7"
      },
      "outputs": [
        {
          "output_type": "stream",
          "name": "stdout",
          "text": [
            "['aos0040', 'sc1229', 'sk1313', 'jl1252', 'dr0609']\n",
            "['jl1252', 'ms1500', 'sa1198', 'sk1390', 'aos0040', 'sc1229']\n",
            "['sb1357', 'pr0353', 'sk1458', 'ak0934', 'fh0141', 'vb0218']\n",
            "['sg1297', 'jl1252', 'sb1357', 'sc1229']\n",
            "['ak0934', 'sk1458', 'kg0569', 'kg0470', 'vm0377']\n",
            "['sc1229', 'sa1198', 'nm0618', 'sg1297', 'hy0232', 'pr0353']\n"
          ]
        }
      ],
      "source": [
        "# write your answer here\n",
        "#Importing random module\n",
        "from random import sample, randint\n",
        "#Declarin the list of students\n",
        "student_list = ['ja0964','sa1198','sb1357','vb0218','sc1229','kg0569','kg0470','sg1297','bg0320','fh0141','jl1252','sk1386', 'ak0956','sk1390','sk1458','sk1313','ak0934','vm0377','nm0618','sm1640','sm1907','gn0108','pr0353','dr0609','ms1500','aos0040','ds0814', 'av0659','nv0234','hy0232']\n",
        "#Defining a function group and passng the parameters with there type\n",
        "def group(student_list : list, count : int):\n",
        "#Starting for loop to count and select the required number of students\n",
        "  for i in range(count):\n",
        "#Dividing the students in a group with minimum of 4 and maximum of 6\n",
        "    print(sample(student_list, randint(4,6)))\n",
        "#count = 6 because we need to divide the students into 6 groups\n",
        "count = 6\n",
        "group(student_list, count)\n",
        "\n"
      ]
    },
    {
      "cell_type": "markdown",
      "metadata": {
        "id": "AD9-WH2uxeeG"
      },
      "source": [
        "(9) Write a Python program to find the duplicate elements in a given array of integers. Return -1 If there are no such elements. (5 points)"
      ]
    },
    {
      "cell_type": "code",
      "execution_count": 29,
      "metadata": {
        "colab": {
          "base_uri": "https://localhost:8080/"
        },
        "id": "pX8eYvgZxeeG",
        "outputId": "86c1bd82-2f7e-499e-afa1-066c6a43c0ee"
      },
      "outputs": [
        {
          "output_type": "stream",
          "name": "stdout",
          "text": [
            "-1\n"
          ]
        }
      ],
      "source": [
        "# write your answer here\n",
        "#Importin the he modules\n",
        "from collections import Counter\n",
        "from typing import List\n",
        "# Creating a list to check if there is any duplicates\n",
        "z = [2, 5, 6, 8, 9, 12, 15];\n",
        "#Defining a function def of list z \n",
        "def dup(z):\n",
        "#Defining an emppty list d to perform the operations and store the result\n",
        "  d = []\n",
        "  count = dict(Counter(z))\n",
        "#Starting a for loop to check every position in the list\n",
        "  for x in count.keys():\n",
        "    if  count[x] > 1:\n",
        "      d.append(x)\n",
        "  return d if len(d)>0 else -1\n",
        "print(dup(z)) "
      ]
    },
    {
      "cell_type": "markdown",
      "metadata": {
        "id": "UF2ji6XOxeeG"
      },
      "source": [
        "(10) Write a Python program to select all the Sundays of a specified year. (5 extra points)"
      ]
    },
    {
      "cell_type": "code",
      "execution_count": null,
      "metadata": {
        "colab": {
          "base_uri": "https://localhost:8080/"
        },
        "id": "H9FH629gxeeG",
        "outputId": "0e25f612-7ed0-4414-9181-475835e797dd"
      },
      "outputs": [
        {
          "output_type": "stream",
          "name": "stdout",
          "text": [
            "Enter a Specified Year: 2022\n",
            "2022-01-02\n",
            "2022-01-09\n",
            "2022-01-16\n",
            "2022-01-23\n",
            "2022-01-30\n",
            "2022-02-06\n",
            "2022-02-13\n",
            "2022-02-20\n",
            "2022-02-27\n",
            "2022-03-06\n",
            "2022-03-13\n",
            "2022-03-20\n",
            "2022-03-27\n",
            "2022-04-03\n",
            "2022-04-10\n",
            "2022-04-17\n",
            "2022-04-24\n",
            "2022-05-01\n",
            "2022-05-08\n",
            "2022-05-15\n",
            "2022-05-22\n",
            "2022-05-29\n",
            "2022-06-05\n",
            "2022-06-12\n",
            "2022-06-19\n",
            "2022-06-26\n",
            "2022-07-03\n",
            "2022-07-10\n",
            "2022-07-17\n",
            "2022-07-24\n",
            "2022-07-31\n",
            "2022-08-07\n",
            "2022-08-14\n",
            "2022-08-21\n",
            "2022-08-28\n",
            "2022-09-04\n",
            "2022-09-11\n",
            "2022-09-18\n",
            "2022-09-25\n",
            "2022-10-02\n",
            "2022-10-09\n",
            "2022-10-16\n",
            "2022-10-23\n",
            "2022-10-30\n",
            "2022-11-06\n",
            "2022-11-13\n",
            "2022-11-20\n",
            "2022-11-27\n",
            "2022-12-04\n",
            "2022-12-11\n",
            "2022-12-18\n",
            "2022-12-25\n"
          ]
        }
      ],
      "source": [
        "# write your answer here\n",
        "#Impoting the required modules\n",
        "import calendar\n",
        "import datetime\n",
        "from datetime import date, timedelta\n",
        "#Taking input year to check the sundays in the specified year\n",
        "Year = int(input('Enter a Specified Year: '))\n",
        "#Defining Sundays as a function\n",
        "def sundays(year):\n",
        "#Assigning d with date from datetime module\n",
        "  d = date(year,1, 1)\n",
        "  d = d + datetime.timedelta(days = 6 - d.weekday())\n",
        "#Creating while statement to check if they are equal\n",
        "  while d.year == year:\n",
        "#If yes we will Yield the d, we ar not using return because it will exit the function and gives a value\n",
        "    yield d\n",
        "    d = d+datetime.timedelta(days=7)\n",
        "for d in sundays(Year):\n",
        "  print(d)\n",
        "\n"
      ]
    },
    {
      "cell_type": "code",
      "source": [
        ""
      ],
      "metadata": {
        "id": "xBSmtnYDJGli"
      },
      "execution_count": null,
      "outputs": []
    }
  ],
  "metadata": {
    "colab": {
      "collapsed_sections": [],
      "name": "lab_assignment_01.ipynb",
      "provenance": [],
      "include_colab_link": true
    },
    "kernelspec": {
      "display_name": "Python 3",
      "language": "python",
      "name": "python3"
    },
    "language_info": {
      "codemirror_mode": {
        "name": "ipython",
        "version": 3
      },
      "file_extension": ".py",
      "mimetype": "text/x-python",
      "name": "python",
      "nbconvert_exporter": "python",
      "pygments_lexer": "ipython3",
      "version": "3.8.5"
    }
  },
  "nbformat": 4,
  "nbformat_minor": 0
}