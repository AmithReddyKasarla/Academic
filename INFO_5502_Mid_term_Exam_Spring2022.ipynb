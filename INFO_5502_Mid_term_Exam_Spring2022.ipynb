{
  "cells": [
    {
      "cell_type": "markdown",
      "metadata": {
        "id": "view-in-github",
        "colab_type": "text"
      },
      "source": [
        "<a href=\"https://colab.research.google.com/github/AmithReddyKasarla/AmithReddy_INFO5502_-Spring2022/blob/main/INFO_5502_Mid_term_Exam_Spring2022.ipynb\" target=\"_parent\"><img src=\"https://colab.research.google.com/assets/colab-badge.svg\" alt=\"Open In Colab\"/></a>"
      ]
    },
    {
      "cell_type": "markdown",
      "metadata": {
        "id": "X4Gq8vEsvPvq"
      },
      "source": [
        "### INFO 5502 Mid-term Exam (03/10/2022, 80 points in total)"
      ]
    },
    {
      "cell_type": "markdown",
      "metadata": {
        "id": "_QjpHg8dvPvu"
      },
      "source": [
        "<span style='background:yellow'>**Question 1 (5 pt).**</span> Make an array called `weird_numbers` containing the following numbers (in the given order):\n",
        "\n",
        "1. -3\n",
        "2. the sine of 2.1\n",
        "3. 5\n",
        "4. 4 to the power of the cosine of 4.2\n",
        "\n",
        "*Hint:* `sin` and `cos` are functions in the `math` module."
      ]
    },
    {
      "cell_type": "code",
      "execution_count": 169,
      "metadata": {
        "colab": {
          "base_uri": "https://localhost:8080/"
        },
        "id": "oa2-tYpAvPvv",
        "outputId": "2937574d-4b1c-4008-db79-a512bd820670"
      },
      "outputs": [
        {
          "output_type": "execute_result",
          "data": {
            "text/plain": [
              "array([-3.        ,  0.86320937,  5.        ,  0.50679646])"
            ]
          },
          "metadata": {},
          "execution_count": 169
        }
      ],
      "source": [
        "#### You code here\n",
        "#Importing the required libraries\n",
        "import math\n",
        "import numpy as np\n",
        "weird_numbers=np.array([-3,math.sin(2.1),5,pow(4,math.cos(4.2))])\n",
        "weird_numbers\n"
      ]
    },
    {
      "cell_type": "markdown",
      "metadata": {
        "id": "4iAkyDB4vPvx"
      },
      "source": [
        "<span style='background:yellow'>**Question 2 (5 pt).**</span> Write a simple function that takes in a number (weight in pounds) and returns a number which is the coreesponding conversion to kg.\n",
        "\n",
        "Test it by calling the function on 15 and 27. E.g., `convert_pounds_to_kg(15)`, `convert_pounds_to_kg(27)`. Print both to screen.\n",
        "\n",
        "Hint: 1 pound = 0.453592 kg"
      ]
    },
    {
      "cell_type": "code",
      "execution_count": 170,
      "metadata": {
        "colab": {
          "base_uri": "https://localhost:8080/"
        },
        "id": "uEKXPQXVvPvx",
        "outputId": "7cdfc404-6a8e-4e28-a66f-2a943f8383b2"
      },
      "outputs": [
        {
          "output_type": "stream",
          "name": "stdout",
          "text": [
            "6.8038799999999995\n",
            "12.246984\n"
          ]
        }
      ],
      "source": [
        "#### You code here\n",
        "\n",
        "def convert_pounds_to_kg(number):\n",
        "    \"\"\"Converts a number in pounds to kg.\"\"\"\n",
        "    kgs = 0.453592*number\n",
        "    return kgs\n",
        "\n",
        "    \n",
        "    \n",
        "print(convert_pounds_to_kg(15))\n",
        "print(convert_pounds_to_kg(27))\n"
      ]
    },
    {
      "cell_type": "markdown",
      "metadata": {
        "id": "AmUZdzbtvPvy"
      },
      "source": [
        "<span style='background:yellow'>**Question 3 (5 pt).**</span> We've loaded an array of temperatures in the next cell.  Each number is the highest temperature observed on a day at a climate observation station, mostly from the US.  Since they're from the US government agency [NOAA](noaa.gov), all the temperatures are in Fahrenheit.  Convert them all to Celsius by first subtracting 32 from them, then multiplying the results by $\\frac{5}{9}$. Make sure to **ROUND** the final result after converting to Celsius to the nearest integer using the `np.round` function. Download the data from here: https://github.com/unt-iialab/info5502-spring2022/blob/main/datasets/temperatures.csv"
      ]
    },
    {
      "cell_type": "code",
      "execution_count": 171,
      "metadata": {
        "colab": {
          "base_uri": "https://localhost:8080/"
        },
        "id": "23GRJoO3vPvy",
        "outputId": "9567fd42-ea26-4732-f87e-dd9adb232bef"
      },
      "outputs": [
        {
          "output_type": "execute_result",
          "data": {
            "text/plain": [
              "[-4.0,\n",
              " 31.0,\n",
              " 32.0,\n",
              " 36.0,\n",
              " 26.0,\n",
              " 33.0,\n",
              " 24.0,\n",
              " 29.0,\n",
              " 21.0,\n",
              " -14.0,\n",
              " 33.0,\n",
              " 9.0,\n",
              " -14.0,\n",
              " 24.0,\n",
              " 17.0,\n",
              " 7.0,\n",
              " 28.0,\n",
              " 24.0,\n",
              " 6.0,\n",
              " 23.0,\n",
              " 18.0,\n",
              " 13.0,\n",
              " 21.0,\n",
              " 28.0,\n",
              " 18.0,\n",
              " 41.0,\n",
              " 20.0,\n",
              " -8.0,\n",
              " 2.0,\n",
              " 4.0,\n",
              " 26.0,\n",
              " 34.0,\n",
              " 16.0,\n",
              " 8.0,\n",
              " -6.0,\n",
              " 17.0,\n",
              " 23.0,\n",
              " 19.0,\n",
              " 32.0,\n",
              " 0.0,\n",
              " 33.0,\n",
              " 7.0,\n",
              " 26.0,\n",
              " 26.0,\n",
              " 13.0,\n",
              " 21.0,\n",
              " 24.0,\n",
              " 35.0,\n",
              " 29.0,\n",
              " 30.0,\n",
              " 11.0,\n",
              " 9.0,\n",
              " 22.0,\n",
              " 11.0,\n",
              " 27.0,\n",
              " 8.0,\n",
              " 40.0,\n",
              " 35.0,\n",
              " 19.0,\n",
              " 29.0,\n",
              " 27.0,\n",
              " 17.0,\n",
              " 16.0,\n",
              " -1.0,\n",
              " 12.0,\n",
              " 32.0,\n",
              " -2.0,\n",
              " 13.0,\n",
              " -5.0,\n",
              " 21.0,\n",
              " 7.0,\n",
              " 15.0,\n",
              " -5.0,\n",
              " 14.0,\n",
              " 4.0,\n",
              " 19.0,\n",
              " 26.0,\n",
              " 21.0,\n",
              " -3.0,\n",
              " 34.0,\n",
              " 35.0,\n",
              " 21.0,\n",
              " 13.0,\n",
              " 14.0,\n",
              " 34.0,\n",
              " 29.0,\n",
              " 17.0,\n",
              " 27.0,\n",
              " 27.0,\n",
              " 30.0,\n",
              " 36.0,\n",
              " -4.0,\n",
              " 25.0,\n",
              " 30.0,\n",
              " 24.0,\n",
              " 19.0,\n",
              " 16.0,\n",
              " 30.0,\n",
              " 14.0,\n",
              " 28.0,\n",
              " 29.0,\n",
              " 22.0,\n",
              " 2.0,\n",
              " 33.0,\n",
              " 9.0,\n",
              " 29.0,\n",
              " 11.0,\n",
              " -8.0,\n",
              " 29.0,\n",
              " 26.0,\n",
              " 10.0,\n",
              " 22.0,\n",
              " 11.0,\n",
              " -2.0,\n",
              " 7.0,\n",
              " 23.0,\n",
              " 25.0,\n",
              " 7.0,\n",
              " 33.0,\n",
              " 13.0,\n",
              " 23.0,\n",
              " 21.0,\n",
              " 15.0,\n",
              " 25.0,\n",
              " 34.0,\n",
              " 1.0,\n",
              " 18.0,\n",
              " 27.0,\n",
              " 26.0,\n",
              " 13.0,\n",
              " 14.0,\n",
              " 12.0,\n",
              " 9.0,\n",
              " 39.0,\n",
              " 22.0,\n",
              " 33.0,\n",
              " 23.0,\n",
              " 16.0,\n",
              " 12.0,\n",
              " 9.0,\n",
              " 31.0,\n",
              " 22.0,\n",
              " 22.0,\n",
              " 3.0,\n",
              " 1.0,\n",
              " -2.0,\n",
              " 4.0,\n",
              " 37.0,\n",
              " 14.0,\n",
              " 29.0,\n",
              " 32.0,\n",
              " -5.0,\n",
              " 9.0,\n",
              " 25.0,\n",
              " 28.0,\n",
              " 17.0,\n",
              " -3.0,\n",
              " 28.0,\n",
              " 36.0,\n",
              " 32.0,\n",
              " 19.0,\n",
              " 18.0,\n",
              " 33.0,\n",
              " 19.0,\n",
              " 11.0,\n",
              " 25.0,\n",
              " 9.0,\n",
              " -6.0,\n",
              " 7.0,\n",
              " 21.0,\n",
              " 8.0,\n",
              " 26.0,\n",
              " 24.0,\n",
              " 24.0,\n",
              " 9.0,\n",
              " 31.0,\n",
              " 35.0,\n",
              " 24.0,\n",
              " 24.0,\n",
              " 29.0,\n",
              " 27.0,\n",
              " 29.0,\n",
              " 27.0,\n",
              " 13.0,\n",
              " 27.0,\n",
              " 0.0,\n",
              " 9.0,\n",
              " 28.0,\n",
              " 8.0,\n",
              " -4.0,\n",
              " 3.0,\n",
              " 22.0,\n",
              " 40.0,\n",
              " 8.0,\n",
              " 29.0,\n",
              " 30.0,\n",
              " -2.0,\n",
              " 8.0,\n",
              " 28.0,\n",
              " 14.0,\n",
              " 18.0,\n",
              " 24.0,\n",
              " 14.0,\n",
              " 11.0,\n",
              " 33.0,\n",
              " 10.0,\n",
              " 13.0,\n",
              " 27.0,\n",
              " 27.0,\n",
              " 26.0,\n",
              " 16.0,\n",
              " 17.0,\n",
              " 30.0,\n",
              " 36.0,\n",
              " 6.0,\n",
              " 22.0,\n",
              " 32.0,\n",
              " 17.0,\n",
              " 32.0,\n",
              " 29.0,\n",
              " 19.0,\n",
              " 4.0,\n",
              " 12.0,\n",
              " 8.0,\n",
              " 22.0,\n",
              " 29.0,\n",
              " -9.0,\n",
              " 22.0,\n",
              " 20.0,\n",
              " 21.0,\n",
              " 29.0,\n",
              " 22.0,\n",
              " 26.0,\n",
              " 29.0,\n",
              " 29.0,\n",
              " 15.0,\n",
              " 34.0,\n",
              " 16.0,\n",
              " 28.0,\n",
              " 31.0,\n",
              " 27.0,\n",
              " 23.0,\n",
              " 21.0,\n",
              " 31.0,\n",
              " 17.0,\n",
              " 16.0,\n",
              " 33.0,\n",
              " 34.0,\n",
              " 12.0,\n",
              " 32.0,\n",
              " 27.0,\n",
              " 18.0,\n",
              " 32.0,\n",
              " 19.0,\n",
              " 21.0,\n",
              " 17.0,\n",
              " 9.0,\n",
              " 3.0,\n",
              " 13.0,\n",
              " 10.0,\n",
              " 18.0,\n",
              " 22.0,\n",
              " 29.0,\n",
              " 34.0,\n",
              " 29.0,\n",
              " 16.0,\n",
              " 14.0,\n",
              " 18.0,\n",
              " 15.0,\n",
              " 32.0,\n",
              " 6.0,\n",
              " 32.0,\n",
              " 24.0,\n",
              " 16.0,\n",
              " 26.0,\n",
              " 23.0,\n",
              " 29.0,\n",
              " 34.0,\n",
              " 34.0,\n",
              " 11.0,\n",
              " 29.0,\n",
              " 27.0,\n",
              " 13.0,\n",
              " 19.0,\n",
              " 1.0,\n",
              " -7.0,\n",
              " -11.0,\n",
              " 30.0,\n",
              " 26.0,\n",
              " 16.0,\n",
              " 29.0,\n",
              " 24.0,\n",
              " 26.0,\n",
              " 29.0,\n",
              " 14.0,\n",
              " 17.0,\n",
              " 18.0,\n",
              " 36.0,\n",
              " 32.0,\n",
              " 27.0,\n",
              " 17.0,\n",
              " 18.0,\n",
              " 9.0,\n",
              " 33.0,\n",
              " 1.0,\n",
              " 22.0,\n",
              " 34.0,\n",
              " 24.0,\n",
              " 15.0,\n",
              " 20.0,\n",
              " 24.0,\n",
              " 34.0,\n",
              " 24.0,\n",
              " 14.0,\n",
              " 32.0,\n",
              " 32.0,\n",
              " 22.0,\n",
              " -9.0,\n",
              " 42.0,\n",
              " 16.0,\n",
              " 34.0,\n",
              " 31.0,\n",
              " 26.0,\n",
              " 12.0,\n",
              " -1.0,\n",
              " 32.0,\n",
              " 9.0,\n",
              " 29.0,\n",
              " 37.0,\n",
              " 4.0,\n",
              " 21.0,\n",
              " 11.0,\n",
              " 14.0,\n",
              " 34.0,\n",
              " -4.0,\n",
              " 26.0,\n",
              " 35.0,\n",
              " -3.0,\n",
              " -4.0,\n",
              " 38.0,\n",
              " 6.0,\n",
              " 32.0,\n",
              " 32.0,\n",
              " 36.0,\n",
              " 17.0,\n",
              " 34.0,\n",
              " 23.0,\n",
              " 12.0,\n",
              " 30.0,\n",
              " 23.0,\n",
              " -11.0,\n",
              " 34.0,\n",
              " 40.0,\n",
              " 2.0,\n",
              " 32.0,\n",
              " 26.0,\n",
              " 3.0,\n",
              " 14.0,\n",
              " -1.0,\n",
              " 36.0,\n",
              " 35.0,\n",
              " 36.0,\n",
              " 29.0,\n",
              " 24.0,\n",
              " 19.0,\n",
              " 23.0,\n",
              " 6.0,\n",
              " -5.0,\n",
              " 23.0,\n",
              " 18.0,\n",
              " 30.0,\n",
              " 3.0,\n",
              " 33.0,\n",
              " 29.0,\n",
              " 19.0,\n",
              " -6.0,\n",
              " 33.0,\n",
              " 23.0,\n",
              " 27.0,\n",
              " 22.0,\n",
              " 16.0,\n",
              " 7.0,\n",
              " -6.0,\n",
              " 23.0,\n",
              " 21.0,\n",
              " 13.0,\n",
              " 36.0,\n",
              " 18.0,\n",
              " 23.0,\n",
              " 26.0,\n",
              " 22.0,\n",
              " 26.0,\n",
              " 17.0,\n",
              " 27.0,\n",
              " 24.0,\n",
              " 11.0,\n",
              " 36.0,\n",
              " 7.0,\n",
              " 4.0,\n",
              " 4.0,\n",
              " 12.0,\n",
              " -11.0,\n",
              " 27.0,\n",
              " 12.0,\n",
              " 12.0,\n",
              " 3.0,\n",
              " 27.0,\n",
              " 32.0,\n",
              " 33.0,\n",
              " 19.0,\n",
              " 32.0,\n",
              " 14.0,\n",
              " 16.0,\n",
              " 1.0,\n",
              " 28.0,\n",
              " 18.0,\n",
              " -13.0,\n",
              " 26.0,\n",
              " 34.0,\n",
              " 17.0,\n",
              " 26.0,\n",
              " 28.0,\n",
              " 17.0,\n",
              " 26.0,\n",
              " 16.0,\n",
              " 4.0,\n",
              " 10.0,\n",
              " 25.0,\n",
              " 31.0,\n",
              " 19.0,\n",
              " -17.0,\n",
              " 13.0,\n",
              " 30.0,\n",
              " -4.0,\n",
              " 38.0,\n",
              " 32.0,\n",
              " 8.0,\n",
              " 2.0,\n",
              " 27.0,\n",
              " 9.0,\n",
              " 16.0,\n",
              " 18.0,\n",
              " 33.0,\n",
              " -6.0,\n",
              " 36.0,\n",
              " 19.0,\n",
              " 28.0,\n",
              " -2.0,\n",
              " -3.0,\n",
              " 18.0,\n",
              " 24.0,\n",
              " 36.0,\n",
              " 29.0,\n",
              " 14.0,\n",
              " 26.0,\n",
              " 20.0,\n",
              " 7.0,\n",
              " 34.0,\n",
              " 33.0,\n",
              " 23.0,\n",
              " 24.0,\n",
              " -3.0,\n",
              " 17.0,\n",
              " 33.0,\n",
              " 29.0,\n",
              " 7.0,\n",
              " 27.0,\n",
              " 27.0,\n",
              " 24.0,\n",
              " 16.0,\n",
              " 29.0,\n",
              " 29.0,\n",
              " 26.0,\n",
              " 23.0,\n",
              " 7.0,\n",
              " 23.0,\n",
              " 35.0,\n",
              " 24.0,\n",
              " 18.0,\n",
              " 27.0,\n",
              " 28.0,\n",
              " 14.0,\n",
              " 2.0,\n",
              " 34.0,\n",
              " 20.0,\n",
              " 36.0,\n",
              " 4.0,\n",
              " 21.0,\n",
              " 19.0,\n",
              " 33.0,\n",
              " 6.0,\n",
              " 25.0,\n",
              " 25.0,\n",
              " 23.0,\n",
              " 21.0,\n",
              " 28.0,\n",
              " 35.0,\n",
              " 21.0,\n",
              " -4.0,\n",
              " 30.0,\n",
              " 27.0,\n",
              " 36.0,\n",
              " 29.0,\n",
              " 17.0,\n",
              " 39.0,\n",
              " -5.0,\n",
              " 1.0,\n",
              " 31.0,\n",
              " 7.0,\n",
              " 11.0,\n",
              " 28.0,\n",
              " 17.0,\n",
              " 16.0,\n",
              " 16.0,\n",
              " 43.0,\n",
              " -10.0,\n",
              " -11.0,\n",
              " 23.0,\n",
              " 22.0,\n",
              " -8.0,\n",
              " 24.0,\n",
              " 9.0,\n",
              " 12.0,\n",
              " 24.0,\n",
              " 36.0,\n",
              " 35.0,\n",
              " 18.0,\n",
              " 12.0,\n",
              " 11.0,\n",
              " 21.0,\n",
              " 26.0,\n",
              " 31.0,\n",
              " 0.0,\n",
              " -22.0,\n",
              " -3.0,\n",
              " 36.0,\n",
              " 32.0,\n",
              " 18.0,\n",
              " 30.0,\n",
              " 15.0,\n",
              " 27.0,\n",
              " 17.0,\n",
              " 28.0,\n",
              " 25.0,\n",
              " 34.0,\n",
              " 14.0,\n",
              " 23.0,\n",
              " 26.0,\n",
              " 17.0,\n",
              " 10.0,\n",
              " 16.0,\n",
              " 37.0,\n",
              " 27.0,\n",
              " -1.0,\n",
              " 18.0,\n",
              " 24.0,\n",
              " 32.0,\n",
              " -3.0,\n",
              " 32.0,\n",
              " 37.0,\n",
              " 25.0,\n",
              " 23.0,\n",
              " 23.0,\n",
              " 23.0,\n",
              " 8.0,\n",
              " 17.0,\n",
              " 28.0,\n",
              " 22.0,\n",
              " 30.0,\n",
              " 22.0,\n",
              " 29.0,\n",
              " 33.0,\n",
              " 21.0,\n",
              " 31.0,\n",
              " 24.0,\n",
              " 31.0,\n",
              " 24.0,\n",
              " 22.0,\n",
              " 28.0,\n",
              " 31.0,\n",
              " 22.0,\n",
              " 2.0,\n",
              " 39.0,\n",
              " 21.0,\n",
              " 23.0,\n",
              " 27.0,\n",
              " 18.0,\n",
              " 17.0,\n",
              " 1.0,\n",
              " 26.0,\n",
              " 17.0,\n",
              " 36.0,\n",
              " 5.0,\n",
              " 17.0,\n",
              " 13.0,\n",
              " 15.0,\n",
              " 20.0,\n",
              " 30.0,\n",
              " 6.0,\n",
              " 0.0,\n",
              " 3.0,\n",
              " 31.0,\n",
              " 24.0,\n",
              " 30.0,\n",
              " 38.0,\n",
              " 13.0,\n",
              " 29.0,\n",
              " 4.0,\n",
              " 24.0,\n",
              " 32.0,\n",
              " 2.0,\n",
              " 36.0,\n",
              " 1.0,\n",
              " 19.0,\n",
              " 41.0,\n",
              " 4.0,\n",
              " 27.0,\n",
              " 32.0,\n",
              " 26.0,\n",
              " 29.0,\n",
              " 28.0,\n",
              " 7.0,\n",
              " 29.0,\n",
              " 1.0,\n",
              " 33.0,\n",
              " 28.0,\n",
              " 30.0,\n",
              " 29.0,\n",
              " 37.0,\n",
              " 6.0,\n",
              " 22.0,\n",
              " 36.0,\n",
              " 29.0,\n",
              " 25.0,\n",
              " 27.0,\n",
              " 13.0,\n",
              " 19.0,\n",
              " 29.0,\n",
              " 29.0,\n",
              " 19.0,\n",
              " 13.0,\n",
              " 12.0,\n",
              " 13.0,\n",
              " 31.0,\n",
              " 4.0,\n",
              " 20.0,\n",
              " 3.0,\n",
              " 16.0,\n",
              " 12.0,\n",
              " 23.0,\n",
              " 16.0,\n",
              " 14.0,\n",
              " 25.0,\n",
              " 32.0,\n",
              " 19.0,\n",
              " 14.0,\n",
              " 35.0,\n",
              " 8.0,\n",
              " -8.0,\n",
              " 13.0,\n",
              " 34.0,\n",
              " 22.0,\n",
              " 26.0,\n",
              " 29.0,\n",
              " -6.0,\n",
              " 27.0,\n",
              " 2.0,\n",
              " 17.0,\n",
              " 24.0,\n",
              " 23.0,\n",
              " 31.0,\n",
              " 19.0,\n",
              " 18.0,\n",
              " 4.0,\n",
              " 12.0,\n",
              " 11.0,\n",
              " 28.0,\n",
              " 38.0,\n",
              " 14.0,\n",
              " 18.0,\n",
              " 25.0,\n",
              " -15.0,\n",
              " -2.0,\n",
              " 24.0,\n",
              " -9.0,\n",
              " 33.0,\n",
              " 27.0,\n",
              " 25.0,\n",
              " 20.0,\n",
              " 11.0,\n",
              " 9.0,\n",
              " 29.0,\n",
              " 31.0,\n",
              " 24.0,\n",
              " 31.0,\n",
              " 0.0,\n",
              " 23.0,\n",
              " 16.0,\n",
              " 25.0,\n",
              " 16.0,\n",
              " -12.0,\n",
              " 10.0,\n",
              " 33.0,\n",
              " -4.0,\n",
              " 38.0,\n",
              " -4.0,\n",
              " 10.0,\n",
              " 15.0,\n",
              " 32.0,\n",
              " 19.0,\n",
              " 28.0,\n",
              " 22.0,\n",
              " 38.0,\n",
              " 21.0,\n",
              " 12.0,\n",
              " 1.0,\n",
              " 1.0,\n",
              " 7.0,\n",
              " 32.0,\n",
              " 9.0,\n",
              " 19.0,\n",
              " 27.0,\n",
              " 29.0,\n",
              " 17.0,\n",
              " 24.0,\n",
              " 7.0,\n",
              " -1.0,\n",
              " 29.0,\n",
              " 39.0,\n",
              " -10.0,\n",
              " 27.0,\n",
              " 4.0,\n",
              " 16.0,\n",
              " 31.0,\n",
              " 35.0,\n",
              " 21.0,\n",
              " 14.0,\n",
              " 24.0,\n",
              " 32.0,\n",
              " 28.0,\n",
              " 35.0,\n",
              " 21.0,\n",
              " 13.0,\n",
              " 20.0,\n",
              " 21.0,\n",
              " 6.0,\n",
              " 9.0,\n",
              " 31.0,\n",
              " 29.0,\n",
              " 19.0,\n",
              " 17.0,\n",
              " 26.0,\n",
              " 4.0,\n",
              " 31.0,\n",
              " 19.0,\n",
              " 39.0,\n",
              " 35.0,\n",
              " 15.0,\n",
              " 14.0,\n",
              " 12.0,\n",
              " 34.0,\n",
              " 18.0,\n",
              " 26.0,\n",
              " 32.0,\n",
              " 24.0,\n",
              " 32.0,\n",
              " 33.0,\n",
              " 29.0,\n",
              " 31.0,\n",
              " 22.0,\n",
              " 27.0,\n",
              " 29.0,\n",
              " 8.0,\n",
              " 19.0,\n",
              " 27.0,\n",
              " 27.0,\n",
              " 20.0,\n",
              " 29.0,\n",
              " 26.0,\n",
              " 16.0,\n",
              " 14.0,\n",
              " 29.0,\n",
              " 16.0,\n",
              " 23.0,\n",
              " 5.0,\n",
              " 8.0,\n",
              " 19.0,\n",
              " 10.0,\n",
              " 33.0,\n",
              " 26.0,\n",
              " -5.0,\n",
              " 11.0,\n",
              " 20.0,\n",
              " 13.0,\n",
              " 31.0,\n",
              " 23.0,\n",
              " 24.0,\n",
              " -13.0,\n",
              " 27.0,\n",
              " 24.0,\n",
              " 31.0,\n",
              " 4.0,\n",
              " 6.0,\n",
              " 21.0,\n",
              " 24.0,\n",
              " 3.0,\n",
              " 31.0,\n",
              " 26.0,\n",
              " 26.0,\n",
              " -17.0,\n",
              " 7.0,\n",
              " 0.0,\n",
              " 12.0,\n",
              " 29.0,\n",
              " 0.0,\n",
              " 23.0,\n",
              " 31.0,\n",
              " -6.0,\n",
              " 24.0,\n",
              " 3.0,\n",
              " 31.0,\n",
              " 22.0,\n",
              " 31.0,\n",
              " 25.0,\n",
              " 23.0,\n",
              " 31.0,\n",
              " 24.0,\n",
              " 38.0,\n",
              " 38.0,\n",
              " 27.0,\n",
              " 14.0,\n",
              " 27.0,\n",
              " 1.0,\n",
              " 35.0,\n",
              " 27.0,\n",
              " 28.0,\n",
              " 24.0,\n",
              " 33.0,\n",
              " -12.0,\n",
              " 13.0,\n",
              " 15.0,\n",
              " 33.0,\n",
              " 3.0,\n",
              " 33.0,\n",
              " 7.0,\n",
              " -3.0,\n",
              " 27.0,\n",
              " 33.0,\n",
              " 29.0,\n",
              " 28.0,\n",
              " 28.0,\n",
              " 11.0,\n",
              " 23.0,\n",
              " 27.0,\n",
              " 21.0,\n",
              " 3.0,\n",
              " 13.0,\n",
              " 7.0,\n",
              " 31.0,\n",
              " 19.0,\n",
              " 18.0,\n",
              " 18.0,\n",
              " 23.0,\n",
              " 14.0,\n",
              " 21.0,\n",
              " 19.0,\n",
              " 24.0,\n",
              " 35.0,\n",
              " 29.0,\n",
              " 21.0,\n",
              " 18.0,\n",
              " 35.0,\n",
              " 10.0,\n",
              " 1.0,\n",
              " 33.0,\n",
              " 4.0,\n",
              " 14.0,\n",
              " 31.0,\n",
              " 35.0,\n",
              " 18.0,\n",
              " 23.0,\n",
              " 25.0,\n",
              " -5.0,\n",
              " 31.0,\n",
              " 31.0,\n",
              " 26.0,\n",
              " 35.0,\n",
              " 3.0,\n",
              " 32.0,\n",
              " 29.0,\n",
              " 17.0,\n",
              " 28.0,\n",
              " 20.0,\n",
              " 16.0,\n",
              " 8.0,\n",
              " 4.0,\n",
              " 7.0,\n",
              " 14.0,\n",
              " 29.0,\n",
              " 23.0,\n",
              " 9.0,\n",
              " 19.0,\n",
              " 12.0,\n",
              " 29.0,\n",
              " 22.0,\n",
              " 11.0,\n",
              " 22.0,\n",
              " 28.0,\n",
              " 8.0,\n",
              " -1.0,\n",
              " 2.0,\n",
              " 37.0,\n",
              " 3.0,\n",
              " 30.0,\n",
              " 16.0,\n",
              " 19.0,\n",
              " 4.0,\n",
              " 24.0,\n",
              " 21.0,\n",
              " 35.0,\n",
              " 20.0,\n",
              " 23.0,\n",
              " 27.0,\n",
              " 31.0,\n",
              " 24.0,\n",
              " 1.0,\n",
              " 15.0,\n",
              " 29.0,\n",
              " 13.0,\n",
              " 16.0,\n",
              " 22.0,\n",
              " 5.0,\n",
              " 27.0,\n",
              " 31.0,\n",
              " 14.0,\n",
              " 22.0,\n",
              " 19.0,\n",
              " 24.0,\n",
              " 18.0,\n",
              " 15.0,\n",
              " 19.0,\n",
              " 14.0,\n",
              " 19.0,\n",
              " 13.0,\n",
              " 27.0,\n",
              " 27.0,\n",
              " 32.0,\n",
              " 36.0,\n",
              " -4.0,\n",
              " 5.0,\n",
              " 26.0,\n",
              " 12.0,\n",
              " 14.0,\n",
              " 37.0,\n",
              " 17.0,\n",
              " -4.0,\n",
              " 6.0,\n",
              " 3.0,\n",
              " 22.0,\n",
              " 2.0,\n",
              " 36.0,\n",
              " 21.0,\n",
              " 31.0,\n",
              " 30.0,\n",
              " 30.0,\n",
              " 12.0,\n",
              " 11.0,\n",
              " 37.0,\n",
              " 29.0,\n",
              " 28.0,\n",
              " 9.0,\n",
              " 33.0,\n",
              " 9.0,\n",
              " 19.0,\n",
              " 22.0,\n",
              " 15.0,\n",
              " 32.0,\n",
              " 21.0,\n",
              " 31.0,\n",
              " 33.0,\n",
              " 30.0,\n",
              " 26.0,\n",
              " 27.0,\n",
              " -1.0,\n",
              " 9.0,\n",
              " 22.0,\n",
              " 12.0,\n",
              " 13.0,\n",
              " -2.0,\n",
              " 37.0,\n",
              " 28.0,\n",
              " 25.0,\n",
              " 14.0,\n",
              " 16.0,\n",
              " 22.0,\n",
              " 30.0,\n",
              " 18.0,\n",
              " 12.0,\n",
              " -2.0,\n",
              " 28.0,\n",
              " ...]"
            ]
          },
          "metadata": {},
          "execution_count": 171
        }
      ],
      "source": [
        "#### You code here\n",
        "#Importing the Table from datascience\n",
        "from datascience.tables import Table\n",
        "max_temperatures = Table.read_table(\"https://raw.githubusercontent.com/unt-iialab/info5502-spring2022/main/datasets/temperatures.csv\").column(\"Daily Max Temperature\")\n",
        "celsius_max_temperatures=(list(map(lambda x : np.round(((x-32)*(5/9))),max_temperatures)))\n",
        "celsius_max_temperatures\n",
        "\n"
      ]
    },
    {
      "cell_type": "markdown",
      "metadata": {
        "id": "v9myFdDcvPvz"
      },
      "source": [
        "<span style='background:yellow'>**Question 4 (5 pt).**</span> Suppose you have 4 apples, 3 oranges, and 3 pineapples.  (Perhaps you're using Python to solve a high school Algebra problem.)  Create a table that contains this information.  It should have two columns: `fruit name` and `count`.  Assign the new table to the variable `fruits`.\n",
        "\n",
        "**Note:** Use lower-case and singular words for the name of each fruit, like `\"apple\"`."
      ]
    },
    {
      "cell_type": "code",
      "execution_count": 172,
      "metadata": {
        "colab": {
          "base_uri": "https://localhost:8080/",
          "height": 143
        },
        "id": "4P6J1uy5vPv0",
        "outputId": "09da6562-9fb9-4382-cef8-2b8c3227d06e"
      },
      "outputs": [
        {
          "output_type": "execute_result",
          "data": {
            "text/html": [
              "<table border=\"1\" class=\"dataframe\">\n",
              "    <thead>\n",
              "        <tr>\n",
              "            <th>fruit name</th> <th>count</th>\n",
              "        </tr>\n",
              "    </thead>\n",
              "    <tbody>\n",
              "        <tr>\n",
              "            <td>apples    </td> <td>4    </td>\n",
              "        </tr>\n",
              "        <tr>\n",
              "            <td>bananas   </td> <td>3    </td>\n",
              "        </tr>\n",
              "        <tr>\n",
              "            <td>pineapples</td> <td>3    </td>\n",
              "        </tr>\n",
              "    </tbody>\n",
              "</table>"
            ],
            "text/plain": [
              "fruit name | count\n",
              "apples     | 4\n",
              "bananas    | 3\n",
              "pineapples | 3"
            ]
          },
          "metadata": {},
          "execution_count": 172
        }
      ],
      "source": [
        "#### You code here\n",
        "import numpy as np\n",
        "from datascience.tables import Table\n",
        "fruits = Table().with_columns('fruit name', np.array(['apples','bananas','pineapples']),'count', np.array([4,3,3]))\n",
        "fruits"
      ]
    },
    {
      "cell_type": "markdown",
      "metadata": {
        "id": "yah-XmJvvPv1"
      },
      "source": [
        "<span style='background:yellow'>**Question 5 (10 pt).**</span> Below we load a table containing 200,000 weekday Uber rides in the Boston, Massachusetts metropolitan area from the [Uber Movement](https://movement.uber.com) project. The `sourceid` and `dstid` columns contain codes corresponding to start and end locations of each ride. The `hod` column contains codes corresponding to the hour of the day the ride took place. The `ride time` column contains the length of the ride, in minutes. Produce a histogram of all ride times in Boston using the given bins. Download the data from here: https://github.com/unt-iialab/info5502-spring2022/blob/main/datasets/boston.csv"
      ]
    },
    {
      "cell_type": "code",
      "execution_count": 173,
      "metadata": {
        "id": "IcenVewivPv1",
        "colab": {
          "base_uri": "https://localhost:8080/",
          "height": 423
        },
        "outputId": "0aff5474-b379-4994-f25a-94540b5db3d4"
      },
      "outputs": [
        {
          "output_type": "execute_result",
          "data": {
            "text/html": [
              "\n",
              "  <div id=\"df-1e81368c-add0-4178-9afc-99ebde2b2c3b\">\n",
              "    <div class=\"colab-df-container\">\n",
              "      <div>\n",
              "<style scoped>\n",
              "    .dataframe tbody tr th:only-of-type {\n",
              "        vertical-align: middle;\n",
              "    }\n",
              "\n",
              "    .dataframe tbody tr th {\n",
              "        vertical-align: top;\n",
              "    }\n",
              "\n",
              "    .dataframe thead th {\n",
              "        text-align: right;\n",
              "    }\n",
              "</style>\n",
              "<table border=\"1\" class=\"dataframe\">\n",
              "  <thead>\n",
              "    <tr style=\"text-align: right;\">\n",
              "      <th></th>\n",
              "      <th>sourceid</th>\n",
              "      <th>dstid</th>\n",
              "      <th>hod</th>\n",
              "      <th>ride time</th>\n",
              "    </tr>\n",
              "  </thead>\n",
              "  <tbody>\n",
              "    <tr>\n",
              "      <th>0</th>\n",
              "      <td>584</td>\n",
              "      <td>33</td>\n",
              "      <td>7</td>\n",
              "      <td>11.866000</td>\n",
              "    </tr>\n",
              "    <tr>\n",
              "      <th>1</th>\n",
              "      <td>1013</td>\n",
              "      <td>1116</td>\n",
              "      <td>13</td>\n",
              "      <td>17.799333</td>\n",
              "    </tr>\n",
              "    <tr>\n",
              "      <th>2</th>\n",
              "      <td>884</td>\n",
              "      <td>1190</td>\n",
              "      <td>22</td>\n",
              "      <td>19.348833</td>\n",
              "    </tr>\n",
              "    <tr>\n",
              "      <th>3</th>\n",
              "      <td>211</td>\n",
              "      <td>364</td>\n",
              "      <td>1</td>\n",
              "      <td>1.723500</td>\n",
              "    </tr>\n",
              "    <tr>\n",
              "      <th>4</th>\n",
              "      <td>218</td>\n",
              "      <td>1189</td>\n",
              "      <td>7</td>\n",
              "      <td>42.558833</td>\n",
              "    </tr>\n",
              "    <tr>\n",
              "      <th>...</th>\n",
              "      <td>...</td>\n",
              "      <td>...</td>\n",
              "      <td>...</td>\n",
              "      <td>...</td>\n",
              "    </tr>\n",
              "    <tr>\n",
              "      <th>199995</th>\n",
              "      <td>448</td>\n",
              "      <td>333</td>\n",
              "      <td>1</td>\n",
              "      <td>14.460833</td>\n",
              "    </tr>\n",
              "    <tr>\n",
              "      <th>199996</th>\n",
              "      <td>207</td>\n",
              "      <td>810</td>\n",
              "      <td>10</td>\n",
              "      <td>18.052333</td>\n",
              "    </tr>\n",
              "    <tr>\n",
              "      <th>199997</th>\n",
              "      <td>364</td>\n",
              "      <td>773</td>\n",
              "      <td>8</td>\n",
              "      <td>8.431333</td>\n",
              "    </tr>\n",
              "    <tr>\n",
              "      <th>199998</th>\n",
              "      <td>33</td>\n",
              "      <td>487</td>\n",
              "      <td>3</td>\n",
              "      <td>8.291667</td>\n",
              "    </tr>\n",
              "    <tr>\n",
              "      <th>199999</th>\n",
              "      <td>1040</td>\n",
              "      <td>435</td>\n",
              "      <td>3</td>\n",
              "      <td>4.037667</td>\n",
              "    </tr>\n",
              "  </tbody>\n",
              "</table>\n",
              "<p>200000 rows × 4 columns</p>\n",
              "</div>\n",
              "      <button class=\"colab-df-convert\" onclick=\"convertToInteractive('df-1e81368c-add0-4178-9afc-99ebde2b2c3b')\"\n",
              "              title=\"Convert this dataframe to an interactive table.\"\n",
              "              style=\"display:none;\">\n",
              "        \n",
              "  <svg xmlns=\"http://www.w3.org/2000/svg\" height=\"24px\"viewBox=\"0 0 24 24\"\n",
              "       width=\"24px\">\n",
              "    <path d=\"M0 0h24v24H0V0z\" fill=\"none\"/>\n",
              "    <path d=\"M18.56 5.44l.94 2.06.94-2.06 2.06-.94-2.06-.94-.94-2.06-.94 2.06-2.06.94zm-11 1L8.5 8.5l.94-2.06 2.06-.94-2.06-.94L8.5 2.5l-.94 2.06-2.06.94zm10 10l.94 2.06.94-2.06 2.06-.94-2.06-.94-.94-2.06-.94 2.06-2.06.94z\"/><path d=\"M17.41 7.96l-1.37-1.37c-.4-.4-.92-.59-1.43-.59-.52 0-1.04.2-1.43.59L10.3 9.45l-7.72 7.72c-.78.78-.78 2.05 0 2.83L4 21.41c.39.39.9.59 1.41.59.51 0 1.02-.2 1.41-.59l7.78-7.78 2.81-2.81c.8-.78.8-2.07 0-2.86zM5.41 20L4 18.59l7.72-7.72 1.47 1.35L5.41 20z\"/>\n",
              "  </svg>\n",
              "      </button>\n",
              "      \n",
              "  <style>\n",
              "    .colab-df-container {\n",
              "      display:flex;\n",
              "      flex-wrap:wrap;\n",
              "      gap: 12px;\n",
              "    }\n",
              "\n",
              "    .colab-df-convert {\n",
              "      background-color: #E8F0FE;\n",
              "      border: none;\n",
              "      border-radius: 50%;\n",
              "      cursor: pointer;\n",
              "      display: none;\n",
              "      fill: #1967D2;\n",
              "      height: 32px;\n",
              "      padding: 0 0 0 0;\n",
              "      width: 32px;\n",
              "    }\n",
              "\n",
              "    .colab-df-convert:hover {\n",
              "      background-color: #E2EBFA;\n",
              "      box-shadow: 0px 1px 2px rgba(60, 64, 67, 0.3), 0px 1px 3px 1px rgba(60, 64, 67, 0.15);\n",
              "      fill: #174EA6;\n",
              "    }\n",
              "\n",
              "    [theme=dark] .colab-df-convert {\n",
              "      background-color: #3B4455;\n",
              "      fill: #D2E3FC;\n",
              "    }\n",
              "\n",
              "    [theme=dark] .colab-df-convert:hover {\n",
              "      background-color: #434B5C;\n",
              "      box-shadow: 0px 1px 3px 1px rgba(0, 0, 0, 0.15);\n",
              "      filter: drop-shadow(0px 1px 2px rgba(0, 0, 0, 0.3));\n",
              "      fill: #FFFFFF;\n",
              "    }\n",
              "  </style>\n",
              "\n",
              "      <script>\n",
              "        const buttonEl =\n",
              "          document.querySelector('#df-1e81368c-add0-4178-9afc-99ebde2b2c3b button.colab-df-convert');\n",
              "        buttonEl.style.display =\n",
              "          google.colab.kernel.accessAllowed ? 'block' : 'none';\n",
              "\n",
              "        async function convertToInteractive(key) {\n",
              "          const element = document.querySelector('#df-1e81368c-add0-4178-9afc-99ebde2b2c3b');\n",
              "          const dataTable =\n",
              "            await google.colab.kernel.invokeFunction('convertToInteractive',\n",
              "                                                     [key], {});\n",
              "          if (!dataTable) return;\n",
              "\n",
              "          const docLinkHtml = 'Like what you see? Visit the ' +\n",
              "            '<a target=\"_blank\" href=https://colab.research.google.com/notebooks/data_table.ipynb>data table notebook</a>'\n",
              "            + ' to learn more about interactive tables.';\n",
              "          element.innerHTML = '';\n",
              "          dataTable['output_type'] = 'display_data';\n",
              "          await google.colab.output.renderOutput(dataTable, element);\n",
              "          const docLink = document.createElement('div');\n",
              "          docLink.innerHTML = docLinkHtml;\n",
              "          element.appendChild(docLink);\n",
              "        }\n",
              "      </script>\n",
              "    </div>\n",
              "  </div>\n",
              "  "
            ],
            "text/plain": [
              "        sourceid  dstid  hod  ride time\n",
              "0            584     33    7  11.866000\n",
              "1           1013   1116   13  17.799333\n",
              "2            884   1190   22  19.348833\n",
              "3            211    364    1   1.723500\n",
              "4            218   1189    7  42.558833\n",
              "...          ...    ...  ...        ...\n",
              "199995       448    333    1  14.460833\n",
              "199996       207    810   10  18.052333\n",
              "199997       364    773    8   8.431333\n",
              "199998        33    487    3   8.291667\n",
              "199999      1040    435    3   4.037667\n",
              "\n",
              "[200000 rows x 4 columns]"
            ]
          },
          "metadata": {},
          "execution_count": 173
        }
      ],
      "source": [
        "#### You code here\n",
        "import pandas as pd\n",
        "%matplotlib inline\n",
        "data = pd.read_csv('https://raw.githubusercontent.com/unt-iialab/info5502-spring2022/main/datasets/boston.csv') \n",
        "data\n"
      ]
    },
    {
      "cell_type": "code",
      "source": [
        "x = np.arange(0, 100, 10)\n",
        "data.hist(\"ride time\", bins = x)"
      ],
      "metadata": {
        "colab": {
          "base_uri": "https://localhost:8080/",
          "height": 316
        },
        "id": "YDpZYlwa2seP",
        "outputId": "9017693d-1adc-4839-c338-f5c474ac7a73"
      },
      "execution_count": 174,
      "outputs": [
        {
          "output_type": "execute_result",
          "data": {
            "text/plain": [
              "array([[<matplotlib.axes._subplots.AxesSubplot object at 0x7fd4bb186910>]],\n",
              "      dtype=object)"
            ]
          },
          "metadata": {},
          "execution_count": 174
        },
        {
          "output_type": "display_data",
          "data": {
            "image/png": "[encoded data removed]",
            "text/plain": [
              "<Figure size 432x288 with 1 Axes>"
            ]
          },
          "metadata": {
            "needs_background": "light"
          }
        }
      ]
    },
    {
      "cell_type": "markdown",
      "metadata": {
        "id": "oXSkiEAkvPv2"
      },
      "source": [
        "<span style='background:yellow'>**Question 6 (20 pt).**</span> Below is a dataset we collected from this website: https://ddr.densho.org/narrators/?page=1. Narrators are the interview subjects of oral histories contained in the Densho Digital Repository. The interviewees, or narrators, share their life histories to preserve history, educate the public, and promote tolerance. We urge our users to approach these materials in the same spirit. You are required to conduct the exploratory data analysis on the location, year of born, generation, and gender. Please select the best visualiztions to present your results. Download the data from here: https://github.com/unt-iialab/info5502-spring2022/blob/main/datasets/Combined-data.xlsx"
      ]
    },
    {
      "cell_type": "code",
      "execution_count": 141,
      "metadata": {
        "id": "aphUK2KSvPv2",
        "colab": {
          "base_uri": "https://localhost:8080/"
        },
        "outputId": "d76f3f70-1816-4880-e6cd-cb6b212f14b7"
      },
      "outputs": [
        {
          "output_type": "stream",
          "name": "stdout",
          "text": [
            "Requirement already satisfied: pyforest in /usr/local/lib/python3.7/dist-packages (1.1.0)\n"
          ]
        }
      ],
      "source": [
        "#### You code here\n",
        "#As this is a EDA problem here I will check the info of the data provided then i will clean the data using certain funtion and also encode them that will help us to perform the model building.\n",
        "#By end of this problem I will process the data in such a way that it will be ready to build a model\n",
        "#Installing pyforest as this is a automated library which contains all the major libraries like numpy, pandas, matplotlib\n",
        "!pip install pyforest\n",
        "#Reading the data\n",
        "df = pd.read_excel('/content/sample_data/Combined-data.xlsx')\n",
        "\n",
        "\n"
      ]
    },
    {
      "cell_type": "code",
      "source": [
        "df"
      ],
      "metadata": {
        "colab": {
          "base_uri": "https://localhost:8080/",
          "height": 423
        },
        "id": "apxS8Rpo8uns",
        "outputId": "6cf4399a-f2fa-44ee-c005-f27816a3754a"
      },
      "execution_count": 142,
      "outputs": [
        {
          "output_type": "execute_result",
          "data": {
            "text/html": [
              "\n",
              "  <div id=\"df-7e5f39e3-c60b-41c9-a161-f1f64fcb06c2\">\n",
              "    <div class=\"colab-df-container\">\n",
              "      <div>\n",
              "<style scoped>\n",
              "    .dataframe tbody tr th:only-of-type {\n",
              "        vertical-align: middle;\n",
              "    }\n",
              "\n",
              "    .dataframe tbody tr th {\n",
              "        vertical-align: top;\n",
              "    }\n",
              "\n",
              "    .dataframe thead th {\n",
              "        text-align: right;\n",
              "    }\n",
              "</style>\n",
              "<table border=\"1\" class=\"dataframe\">\n",
              "  <thead>\n",
              "    <tr style=\"text-align: right;\">\n",
              "      <th></th>\n",
              "      <th>Narrator</th>\n",
              "      <th>Location</th>\n",
              "      <th>Year</th>\n",
              "      <th>Generation</th>\n",
              "      <th>Gender</th>\n",
              "    </tr>\n",
              "  </thead>\n",
              "  <tbody>\n",
              "    <tr>\n",
              "      <th>0</th>\n",
              "      <td>Kay Aiko Abe</td>\n",
              "      <td>Washington</td>\n",
              "      <td>1927.0</td>\n",
              "      <td>Nisei</td>\n",
              "      <td>female</td>\n",
              "    </tr>\n",
              "    <tr>\n",
              "      <th>1</th>\n",
              "      <td>Art Abe</td>\n",
              "      <td>Washington</td>\n",
              "      <td>1921.0</td>\n",
              "      <td>Nisei</td>\n",
              "      <td>male</td>\n",
              "    </tr>\n",
              "    <tr>\n",
              "      <th>2</th>\n",
              "      <td>Sharon Tanagi Aburano</td>\n",
              "      <td>Washington</td>\n",
              "      <td>1925.0</td>\n",
              "      <td>Nisei</td>\n",
              "      <td>female</td>\n",
              "    </tr>\n",
              "    <tr>\n",
              "      <th>3</th>\n",
              "      <td>Toshiko Aiboshi</td>\n",
              "      <td>California</td>\n",
              "      <td>1928.0</td>\n",
              "      <td>Nisei</td>\n",
              "      <td>female</td>\n",
              "    </tr>\n",
              "    <tr>\n",
              "      <th>4</th>\n",
              "      <td>Yae Aihara</td>\n",
              "      <td>Washington</td>\n",
              "      <td>1925.0</td>\n",
              "      <td>Nisei</td>\n",
              "      <td>female</td>\n",
              "    </tr>\n",
              "    <tr>\n",
              "      <th>...</th>\n",
              "      <td>...</td>\n",
              "      <td>...</td>\n",
              "      <td>...</td>\n",
              "      <td>...</td>\n",
              "      <td>...</td>\n",
              "    </tr>\n",
              "    <tr>\n",
              "      <th>899</th>\n",
              "      <td>George M. Yoshino</td>\n",
              "      <td>Washington</td>\n",
              "      <td>1921.0</td>\n",
              "      <td>Nisei</td>\n",
              "      <td>male</td>\n",
              "    </tr>\n",
              "    <tr>\n",
              "      <th>900</th>\n",
              "      <td>John Young</td>\n",
              "      <td>California</td>\n",
              "      <td>1923.0</td>\n",
              "      <td>American</td>\n",
              "      <td>male</td>\n",
              "    </tr>\n",
              "    <tr>\n",
              "      <th>901</th>\n",
              "      <td>Sharon Yuen</td>\n",
              "      <td>Washington</td>\n",
              "      <td>1945.0</td>\n",
              "      <td>Sansei</td>\n",
              "      <td>female</td>\n",
              "    </tr>\n",
              "    <tr>\n",
              "      <th>902</th>\n",
              "      <td>Lois Yuki</td>\n",
              "      <td>NaN</td>\n",
              "      <td>1944.0</td>\n",
              "      <td>Nisei</td>\n",
              "      <td>female</td>\n",
              "    </tr>\n",
              "    <tr>\n",
              "      <th>903</th>\n",
              "      <td>Aaron Zajic</td>\n",
              "      <td>Maryland</td>\n",
              "      <td>NaN</td>\n",
              "      <td>NaN</td>\n",
              "      <td>NaN</td>\n",
              "    </tr>\n",
              "  </tbody>\n",
              "</table>\n",
              "<p>904 rows × 5 columns</p>\n",
              "</div>\n",
              "      <button class=\"colab-df-convert\" onclick=\"convertToInteractive('df-7e5f39e3-c60b-41c9-a161-f1f64fcb06c2')\"\n",
              "              title=\"Convert this dataframe to an interactive table.\"\n",
              "              style=\"display:none;\">\n",
              "        \n",
              "  <svg xmlns=\"http://www.w3.org/2000/svg\" height=\"24px\"viewBox=\"0 0 24 24\"\n",
              "       width=\"24px\">\n",
              "    <path d=\"M0 0h24v24H0V0z\" fill=\"none\"/>\n",
              "    <path d=\"M18.56 5.44l.94 2.06.94-2.06 2.06-.94-2.06-.94-.94-2.06-.94 2.06-2.06.94zm-11 1L8.5 8.5l.94-2.06 2.06-.94-2.06-.94L8.5 2.5l-.94 2.06-2.06.94zm10 10l.94 2.06.94-2.06 2.06-.94-2.06-.94-.94-2.06-.94 2.06-2.06.94z\"/><path d=\"M17.41 7.96l-1.37-1.37c-.4-.4-.92-.59-1.43-.59-.52 0-1.04.2-1.43.59L10.3 9.45l-7.72 7.72c-.78.78-.78 2.05 0 2.83L4 21.41c.39.39.9.59 1.41.59.51 0 1.02-.2 1.41-.59l7.78-7.78 2.81-2.81c.8-.78.8-2.07 0-2.86zM5.41 20L4 18.59l7.72-7.72 1.47 1.35L5.41 20z\"/>\n",
              "  </svg>\n",
              "      </button>\n",
              "      \n",
              "  <style>\n",
              "    .colab-df-container {\n",
              "      display:flex;\n",
              "      flex-wrap:wrap;\n",
              "      gap: 12px;\n",
              "    }\n",
              "\n",
              "    .colab-df-convert {\n",
              "      background-color: #E8F0FE;\n",
              "      border: none;\n",
              "      border-radius: 50%;\n",
              "      cursor: pointer;\n",
              "      display: none;\n",
              "      fill: #1967D2;\n",
              "      height: 32px;\n",
              "      padding: 0 0 0 0;\n",
              "      width: 32px;\n",
              "    }\n",
              "\n",
              "    .colab-df-convert:hover {\n",
              "      background-color: #E2EBFA;\n",
              "      box-shadow: 0px 1px 2px rgba(60, 64, 67, 0.3), 0px 1px 3px 1px rgba(60, 64, 67, 0.15);\n",
              "      fill: #174EA6;\n",
              "    }\n",
              "\n",
              "    [theme=dark] .colab-df-convert {\n",
              "      background-color: #3B4455;\n",
              "      fill: #D2E3FC;\n",
              "    }\n",
              "\n",
              "    [theme=dark] .colab-df-convert:hover {\n",
              "      background-color: #434B5C;\n",
              "      box-shadow: 0px 1px 3px 1px rgba(0, 0, 0, 0.15);\n",
              "      filter: drop-shadow(0px 1px 2px rgba(0, 0, 0, 0.3));\n",
              "      fill: #FFFFFF;\n",
              "    }\n",
              "  </style>\n",
              "\n",
              "      <script>\n",
              "        const buttonEl =\n",
              "          document.querySelector('#df-7e5f39e3-c60b-41c9-a161-f1f64fcb06c2 button.colab-df-convert');\n",
              "        buttonEl.style.display =\n",
              "          google.colab.kernel.accessAllowed ? 'block' : 'none';\n",
              "\n",
              "        async function convertToInteractive(key) {\n",
              "          const element = document.querySelector('#df-7e5f39e3-c60b-41c9-a161-f1f64fcb06c2');\n",
              "          const dataTable =\n",
              "            await google.colab.kernel.invokeFunction('convertToInteractive',\n",
              "                                                     [key], {});\n",
              "          if (!dataTable) return;\n",
              "\n",
              "          const docLinkHtml = 'Like what you see? Visit the ' +\n",
              "            '<a target=\"_blank\" href=https://colab.research.google.com/notebooks/data_table.ipynb>data table notebook</a>'\n",
              "            + ' to learn more about interactive tables.';\n",
              "          element.innerHTML = '';\n",
              "          dataTable['output_type'] = 'display_data';\n",
              "          await google.colab.output.renderOutput(dataTable, element);\n",
              "          const docLink = document.createElement('div');\n",
              "          docLink.innerHTML = docLinkHtml;\n",
              "          element.appendChild(docLink);\n",
              "        }\n",
              "      </script>\n",
              "    </div>\n",
              "  </div>\n",
              "  "
            ],
            "text/plain": [
              "                  Narrator    Location    Year Generation  Gender\n",
              "0             Kay Aiko Abe  Washington  1927.0      Nisei  female\n",
              "1                  Art Abe  Washington  1921.0      Nisei    male\n",
              "2    Sharon Tanagi Aburano  Washington  1925.0      Nisei  female\n",
              "3          Toshiko Aiboshi  California  1928.0      Nisei  female\n",
              "4               Yae Aihara  Washington  1925.0      Nisei  female\n",
              "..                     ...         ...     ...        ...     ...\n",
              "899      George M. Yoshino  Washington  1921.0      Nisei    male\n",
              "900             John Young  California  1923.0   American    male\n",
              "901            Sharon Yuen  Washington  1945.0     Sansei  female\n",
              "902              Lois Yuki         NaN  1944.0      Nisei  female\n",
              "903            Aaron Zajic    Maryland     NaN        NaN     NaN\n",
              "\n",
              "[904 rows x 5 columns]"
            ]
          },
          "metadata": {},
          "execution_count": 142
        }
      ]
    },
    {
      "cell_type": "code",
      "source": [
        "#Here checking the features and there datatypes\n",
        "df.info()"
      ],
      "metadata": {
        "colab": {
          "base_uri": "https://localhost:8080/"
        },
        "id": "TjQujnoB85nD",
        "outputId": "b7a29985-07ee-48c6-8f83-e99312e3ef13"
      },
      "execution_count": 143,
      "outputs": [
        {
          "output_type": "stream",
          "name": "stdout",
          "text": [
            "<class 'pandas.core.frame.DataFrame'>\n",
            "RangeIndex: 904 entries, 0 to 903\n",
            "Data columns (total 5 columns):\n",
            " #   Column      Non-Null Count  Dtype  \n",
            "---  ------      --------------  -----  \n",
            " 0   Narrator    904 non-null    object \n",
            " 1   Location    832 non-null    object \n",
            " 2   Year        710 non-null    float64\n",
            " 3   Generation  850 non-null    object \n",
            " 4   Gender      850 non-null    object \n",
            "dtypes: float64(1), object(4)\n",
            "memory usage: 35.4+ KB\n"
          ]
        }
      ]
    },
    {
      "cell_type": "code",
      "source": [
        "#Here I am find if there are any null values for our features.\n",
        "df.isnull().sum()"
      ],
      "metadata": {
        "colab": {
          "base_uri": "https://localhost:8080/"
        },
        "id": "zZUsFpZI85pq",
        "outputId": "9229a8de-e589-4b2e-befa-068d916fe702"
      },
      "execution_count": 144,
      "outputs": [
        {
          "output_type": "execute_result",
          "data": {
            "text/plain": [
              "Narrator        0\n",
              "Location       72\n",
              "Year          194\n",
              "Generation     54\n",
              "Gender         54\n",
              "dtype: int64"
            ]
          },
          "metadata": {},
          "execution_count": 144
        }
      ]
    },
    {
      "cell_type": "code",
      "source": [
        "#In Location we have 72 Null values so will try to solve them\n",
        "df['Location'].unique()"
      ],
      "metadata": {
        "colab": {
          "base_uri": "https://localhost:8080/"
        },
        "id": "Qw7Zl5i585sM",
        "outputId": "125187a7-bbab-444c-9766-304ceefe2ae3"
      },
      "execution_count": 145,
      "outputs": [
        {
          "output_type": "execute_result",
          "data": {
            "text/plain": [
              "array(['Washington', 'California', 'Idaho', 'Oregon', nan, 'British',\n",
              "       'Mississippi', 'Japan', 'Colorado', 'Maryland', 'Verification',\n",
              "       'Georgia', 'University', 'Virginia', 'Illinois', 'Fukuoka',\n",
              "       'Chinese', 'Hawaii', 'Delaware', 'Santa', 'Iwate', 'Massachusetts',\n",
              "       'India', 'Kansas', 'Seattle', 'Wyoming', 'South', 'Alberta',\n",
              "       'Nebraska', 'Califonia', 'Defense', 'Arizona', 'Texas', 'Montana',\n",
              "       'Berkeley', 'Marilyn', 'Alaska', 'Saipan', 'Kauai', 'Nisei',\n",
              "       'Nevada', 'Minneapolis', 'Minnesota', 'Florida', 'Missouri',\n",
              "       'Issei', 'Okinawa', 'Indiana'], dtype=object)"
            ]
          },
          "metadata": {},
          "execution_count": 145
        }
      ]
    },
    {
      "cell_type": "code",
      "source": [
        "#Here I am checking which location is mostly repeated so that i will use that to fill the null in location attribute\n",
        "df['Location'].mode()[0]"
      ],
      "metadata": {
        "colab": {
          "base_uri": "https://localhost:8080/",
          "height": 35
        },
        "id": "xvwSkBmQ85u0",
        "outputId": "9d8b3e89-f472-41a7-af0b-52c13b674e98"
      },
      "execution_count": 146,
      "outputs": [
        {
          "output_type": "execute_result",
          "data": {
            "application/vnd.google.colaboratory.intrinsic+json": {
              "type": "string"
            },
            "text/plain": [
              "'California'"
            ]
          },
          "metadata": {},
          "execution_count": 146
        }
      ]
    },
    {
      "cell_type": "code",
      "source": [
        "#Now I will use california to fill the missing values\n",
        "df['Location']=df['Location'].fillna(df['Location'].mode()[0])"
      ],
      "metadata": {
        "id": "zL7wjMoi85xK"
      },
      "execution_count": 147,
      "outputs": []
    },
    {
      "cell_type": "code",
      "source": [
        "#checking for other null values\n",
        "df.isnull().sum()"
      ],
      "metadata": {
        "colab": {
          "base_uri": "https://localhost:8080/"
        },
        "id": "XZnbKc6y850U",
        "outputId": "9d8b1978-8658-4200-a2c9-5056cc6c0508"
      },
      "execution_count": 148,
      "outputs": [
        {
          "output_type": "execute_result",
          "data": {
            "text/plain": [
              "Narrator        0\n",
              "Location        0\n",
              "Year          194\n",
              "Generation     54\n",
              "Gender         54\n",
              "dtype: int64"
            ]
          },
          "metadata": {},
          "execution_count": 148
        }
      ]
    },
    {
      "cell_type": "code",
      "source": [
        "df['Year'].unique()"
      ],
      "metadata": {
        "colab": {
          "base_uri": "https://localhost:8080/"
        },
        "id": "Ik04RhMn-oGI",
        "outputId": "c47a777a-3c5e-4e36-ec4d-539fe7d8dbdd"
      },
      "execution_count": 149,
      "outputs": [
        {
          "output_type": "execute_result",
          "data": {
            "text/plain": [
              "array([1927., 1921., 1925., 1928., 1923., 1929., 1917., 1924., 1920.,\n",
              "       1918., 1933., 1937., 1931., 1919.,   nan, 1930., 1932., 1909.,\n",
              "       1934., 1904., 1979., 1911., 1944., 1922., 1938., 1991., 1941.,\n",
              "       1915., 1916., 1913., 1953., 1926., 1914., 1940., 1943., 1948.,\n",
              "       1936., 1935., 1939., 1950., 1951., 1908., 1945., 1956., 1949.,\n",
              "       1965., 1947., 1957., 1031., 1942., 1912., 1907., 1903., 1901.,\n",
              "       1910., 1952., 1955., 1954., 1962., 1895., 1990.])"
            ]
          },
          "metadata": {},
          "execution_count": 149
        }
      ]
    },
    {
      "cell_type": "code",
      "source": [
        "#Using same mode function and filling the null values \n",
        "df['Year']=df['Year'].fillna(df['Year'].mode()[0])"
      ],
      "metadata": {
        "id": "DsAt4gJq-oId"
      },
      "execution_count": 150,
      "outputs": []
    },
    {
      "cell_type": "code",
      "source": [
        "df.isnull().sum()"
      ],
      "metadata": {
        "colab": {
          "base_uri": "https://localhost:8080/"
        },
        "id": "hca3eHOf-oK7",
        "outputId": "af1bda85-66dc-422d-d7cc-4ae6a3c4e10b"
      },
      "execution_count": 151,
      "outputs": [
        {
          "output_type": "execute_result",
          "data": {
            "text/plain": [
              "Narrator       0\n",
              "Location       0\n",
              "Year           0\n",
              "Generation    54\n",
              "Gender        54\n",
              "dtype: int64"
            ]
          },
          "metadata": {},
          "execution_count": 151
        }
      ]
    },
    {
      "cell_type": "code",
      "source": [
        "df['Generation'].unique()"
      ],
      "metadata": {
        "colab": {
          "base_uri": "https://localhost:8080/"
        },
        "id": "hDJyGNnR-oNM",
        "outputId": "49b91891-a96c-42b6-9492-9b3213a33171"
      },
      "execution_count": 152,
      "outputs": [
        {
          "output_type": "execute_result",
          "data": {
            "text/plain": [
              "array(['Nisei', nan, 'White', 'Sansei', 'Japanese', 'Kibei', 'Yonsei',\n",
              "       'Issei', 'Jewish', 'Ni-ten-gosei (half Nisei, half Sansei)',\n",
              "       'American'], dtype=object)"
            ]
          },
          "metadata": {},
          "execution_count": 152
        }
      ]
    },
    {
      "cell_type": "code",
      "source": [
        "df['Generation']=df['Generation'].fillna(df['Generation'].mode()[0])"
      ],
      "metadata": {
        "id": "qqrFMWbG-oPu"
      },
      "execution_count": 153,
      "outputs": []
    },
    {
      "cell_type": "code",
      "source": [
        "df['Generation'].unique()"
      ],
      "metadata": {
        "colab": {
          "base_uri": "https://localhost:8080/"
        },
        "id": "xwyrCayUGYWm",
        "outputId": "d4e0406c-5f6c-4ccb-93f1-63b7637358ba"
      },
      "execution_count": 155,
      "outputs": [
        {
          "output_type": "execute_result",
          "data": {
            "text/plain": [
              "array(['Nisei', 'White', 'Sansei', 'Japanese', 'Kibei', 'Yonsei', 'Issei',\n",
              "       'Jewish', 'Ni-ten-gosei (half Nisei, half Sansei)', 'American'],\n",
              "      dtype=object)"
            ]
          },
          "metadata": {},
          "execution_count": 155
        }
      ]
    },
    {
      "cell_type": "code",
      "source": [
        "df['Gender'].unique()"
      ],
      "metadata": {
        "colab": {
          "base_uri": "https://localhost:8080/"
        },
        "id": "sBthDihl-oR7",
        "outputId": "1e7b923c-c7d6-49b9-fa2d-dda5363b076f"
      },
      "execution_count": 154,
      "outputs": [
        {
          "output_type": "execute_result",
          "data": {
            "text/plain": [
              "array(['female', 'male', nan], dtype=object)"
            ]
          },
          "metadata": {},
          "execution_count": 154
        }
      ]
    },
    {
      "cell_type": "code",
      "source": [
        "#Here Mapping the male and female with 1 and 0\n",
        "df['Gender']=df['Gender'].map({'female':0,'male':1})\n",
        "df"
      ],
      "metadata": {
        "colab": {
          "base_uri": "https://localhost:8080/",
          "height": 423
        },
        "id": "UXzxMg1GANKT",
        "outputId": "c46c6024-30b9-4d2e-f4e9-d2155d3fa791"
      },
      "execution_count": 156,
      "outputs": [
        {
          "output_type": "execute_result",
          "data": {
            "text/html": [
              "\n",
              "  <div id=\"df-b3e13d34-e535-4103-8c84-52861ca66496\">\n",
              "    <div class=\"colab-df-container\">\n",
              "      <div>\n",
              "<style scoped>\n",
              "    .dataframe tbody tr th:only-of-type {\n",
              "        vertical-align: middle;\n",
              "    }\n",
              "\n",
              "    .dataframe tbody tr th {\n",
              "        vertical-align: top;\n",
              "    }\n",
              "\n",
              "    .dataframe thead th {\n",
              "        text-align: right;\n",
              "    }\n",
              "</style>\n",
              "<table border=\"1\" class=\"dataframe\">\n",
              "  <thead>\n",
              "    <tr style=\"text-align: right;\">\n",
              "      <th></th>\n",
              "      <th>Narrator</th>\n",
              "      <th>Location</th>\n",
              "      <th>Year</th>\n",
              "      <th>Generation</th>\n",
              "      <th>Gender</th>\n",
              "    </tr>\n",
              "  </thead>\n",
              "  <tbody>\n",
              "    <tr>\n",
              "      <th>0</th>\n",
              "      <td>Kay Aiko Abe</td>\n",
              "      <td>Washington</td>\n",
              "      <td>1927.0</td>\n",
              "      <td>Nisei</td>\n",
              "      <td>0.0</td>\n",
              "    </tr>\n",
              "    <tr>\n",
              "      <th>1</th>\n",
              "      <td>Art Abe</td>\n",
              "      <td>Washington</td>\n",
              "      <td>1921.0</td>\n",
              "      <td>Nisei</td>\n",
              "      <td>1.0</td>\n",
              "    </tr>\n",
              "    <tr>\n",
              "      <th>2</th>\n",
              "      <td>Sharon Tanagi Aburano</td>\n",
              "      <td>Washington</td>\n",
              "      <td>1925.0</td>\n",
              "      <td>Nisei</td>\n",
              "      <td>0.0</td>\n",
              "    </tr>\n",
              "    <tr>\n",
              "      <th>3</th>\n",
              "      <td>Toshiko Aiboshi</td>\n",
              "      <td>California</td>\n",
              "      <td>1928.0</td>\n",
              "      <td>Nisei</td>\n",
              "      <td>0.0</td>\n",
              "    </tr>\n",
              "    <tr>\n",
              "      <th>4</th>\n",
              "      <td>Yae Aihara</td>\n",
              "      <td>Washington</td>\n",
              "      <td>1925.0</td>\n",
              "      <td>Nisei</td>\n",
              "      <td>0.0</td>\n",
              "    </tr>\n",
              "    <tr>\n",
              "      <th>...</th>\n",
              "      <td>...</td>\n",
              "      <td>...</td>\n",
              "      <td>...</td>\n",
              "      <td>...</td>\n",
              "      <td>...</td>\n",
              "    </tr>\n",
              "    <tr>\n",
              "      <th>899</th>\n",
              "      <td>George M. Yoshino</td>\n",
              "      <td>Washington</td>\n",
              "      <td>1921.0</td>\n",
              "      <td>Nisei</td>\n",
              "      <td>1.0</td>\n",
              "    </tr>\n",
              "    <tr>\n",
              "      <th>900</th>\n",
              "      <td>John Young</td>\n",
              "      <td>California</td>\n",
              "      <td>1923.0</td>\n",
              "      <td>American</td>\n",
              "      <td>1.0</td>\n",
              "    </tr>\n",
              "    <tr>\n",
              "      <th>901</th>\n",
              "      <td>Sharon Yuen</td>\n",
              "      <td>Washington</td>\n",
              "      <td>1945.0</td>\n",
              "      <td>Sansei</td>\n",
              "      <td>0.0</td>\n",
              "    </tr>\n",
              "    <tr>\n",
              "      <th>902</th>\n",
              "      <td>Lois Yuki</td>\n",
              "      <td>California</td>\n",
              "      <td>1944.0</td>\n",
              "      <td>Nisei</td>\n",
              "      <td>0.0</td>\n",
              "    </tr>\n",
              "    <tr>\n",
              "      <th>903</th>\n",
              "      <td>Aaron Zajic</td>\n",
              "      <td>Maryland</td>\n",
              "      <td>1925.0</td>\n",
              "      <td>Nisei</td>\n",
              "      <td>NaN</td>\n",
              "    </tr>\n",
              "  </tbody>\n",
              "</table>\n",
              "<p>904 rows × 5 columns</p>\n",
              "</div>\n",
              "      <button class=\"colab-df-convert\" onclick=\"convertToInteractive('df-b3e13d34-e535-4103-8c84-52861ca66496')\"\n",
              "              title=\"Convert this dataframe to an interactive table.\"\n",
              "              style=\"display:none;\">\n",
              "        \n",
              "  <svg xmlns=\"http://www.w3.org/2000/svg\" height=\"24px\"viewBox=\"0 0 24 24\"\n",
              "       width=\"24px\">\n",
              "    <path d=\"M0 0h24v24H0V0z\" fill=\"none\"/>\n",
              "    <path d=\"M18.56 5.44l.94 2.06.94-2.06 2.06-.94-2.06-.94-.94-2.06-.94 2.06-2.06.94zm-11 1L8.5 8.5l.94-2.06 2.06-.94-2.06-.94L8.5 2.5l-.94 2.06-2.06.94zm10 10l.94 2.06.94-2.06 2.06-.94-2.06-.94-.94-2.06-.94 2.06-2.06.94z\"/><path d=\"M17.41 7.96l-1.37-1.37c-.4-.4-.92-.59-1.43-.59-.52 0-1.04.2-1.43.59L10.3 9.45l-7.72 7.72c-.78.78-.78 2.05 0 2.83L4 21.41c.39.39.9.59 1.41.59.51 0 1.02-.2 1.41-.59l7.78-7.78 2.81-2.81c.8-.78.8-2.07 0-2.86zM5.41 20L4 18.59l7.72-7.72 1.47 1.35L5.41 20z\"/>\n",
              "  </svg>\n",
              "      </button>\n",
              "      \n",
              "  <style>\n",
              "    .colab-df-container {\n",
              "      display:flex;\n",
              "      flex-wrap:wrap;\n",
              "      gap: 12px;\n",
              "    }\n",
              "\n",
              "    .colab-df-convert {\n",
              "      background-color: #E8F0FE;\n",
              "      border: none;\n",
              "      border-radius: 50%;\n",
              "      cursor: pointer;\n",
              "      display: none;\n",
              "      fill: #1967D2;\n",
              "      height: 32px;\n",
              "      padding: 0 0 0 0;\n",
              "      width: 32px;\n",
              "    }\n",
              "\n",
              "    .colab-df-convert:hover {\n",
              "      background-color: #E2EBFA;\n",
              "      box-shadow: 0px 1px 2px rgba(60, 64, 67, 0.3), 0px 1px 3px 1px rgba(60, 64, 67, 0.15);\n",
              "      fill: #174EA6;\n",
              "    }\n",
              "\n",
              "    [theme=dark] .colab-df-convert {\n",
              "      background-color: #3B4455;\n",
              "      fill: #D2E3FC;\n",
              "    }\n",
              "\n",
              "    [theme=dark] .colab-df-convert:hover {\n",
              "      background-color: #434B5C;\n",
              "      box-shadow: 0px 1px 3px 1px rgba(0, 0, 0, 0.15);\n",
              "      filter: drop-shadow(0px 1px 2px rgba(0, 0, 0, 0.3));\n",
              "      fill: #FFFFFF;\n",
              "    }\n",
              "  </style>\n",
              "\n",
              "      <script>\n",
              "        const buttonEl =\n",
              "          document.querySelector('#df-b3e13d34-e535-4103-8c84-52861ca66496 button.colab-df-convert');\n",
              "        buttonEl.style.display =\n",
              "          google.colab.kernel.accessAllowed ? 'block' : 'none';\n",
              "\n",
              "        async function convertToInteractive(key) {\n",
              "          const element = document.querySelector('#df-b3e13d34-e535-4103-8c84-52861ca66496');\n",
              "          const dataTable =\n",
              "            await google.colab.kernel.invokeFunction('convertToInteractive',\n",
              "                                                     [key], {});\n",
              "          if (!dataTable) return;\n",
              "\n",
              "          const docLinkHtml = 'Like what you see? Visit the ' +\n",
              "            '<a target=\"_blank\" href=https://colab.research.google.com/notebooks/data_table.ipynb>data table notebook</a>'\n",
              "            + ' to learn more about interactive tables.';\n",
              "          element.innerHTML = '';\n",
              "          dataTable['output_type'] = 'display_data';\n",
              "          await google.colab.output.renderOutput(dataTable, element);\n",
              "          const docLink = document.createElement('div');\n",
              "          docLink.innerHTML = docLinkHtml;\n",
              "          element.appendChild(docLink);\n",
              "        }\n",
              "      </script>\n",
              "    </div>\n",
              "  </div>\n",
              "  "
            ],
            "text/plain": [
              "                  Narrator    Location    Year Generation  Gender\n",
              "0             Kay Aiko Abe  Washington  1927.0      Nisei     0.0\n",
              "1                  Art Abe  Washington  1921.0      Nisei     1.0\n",
              "2    Sharon Tanagi Aburano  Washington  1925.0      Nisei     0.0\n",
              "3          Toshiko Aiboshi  California  1928.0      Nisei     0.0\n",
              "4               Yae Aihara  Washington  1925.0      Nisei     0.0\n",
              "..                     ...         ...     ...        ...     ...\n",
              "899      George M. Yoshino  Washington  1921.0      Nisei     1.0\n",
              "900             John Young  California  1923.0   American     1.0\n",
              "901            Sharon Yuen  Washington  1945.0     Sansei     0.0\n",
              "902              Lois Yuki  California  1944.0      Nisei     0.0\n",
              "903            Aaron Zajic    Maryland  1925.0      Nisei     NaN\n",
              "\n",
              "[904 rows x 5 columns]"
            ]
          },
          "metadata": {},
          "execution_count": 156
        }
      ]
    },
    {
      "cell_type": "code",
      "source": [
        "df['Gender'].unique()"
      ],
      "metadata": {
        "colab": {
          "base_uri": "https://localhost:8080/"
        },
        "id": "d7YtGReYANM5",
        "outputId": "98c66d18-8a80-401b-9a81-943156fa99d5"
      },
      "execution_count": 157,
      "outputs": [
        {
          "output_type": "execute_result",
          "data": {
            "text/plain": [
              "array([ 0.,  1., nan])"
            ]
          },
          "metadata": {},
          "execution_count": 157
        }
      ]
    },
    {
      "cell_type": "code",
      "source": [
        "Present = 2022\n",
        "new_year = Present-df['Year']\n",
        "new_year"
      ],
      "metadata": {
        "colab": {
          "base_uri": "https://localhost:8080/"
        },
        "id": "QcatjRH8Da8X",
        "outputId": "79713bd7-21d1-48e7-9ad1-d12c96b17482"
      },
      "execution_count": 158,
      "outputs": [
        {
          "output_type": "execute_result",
          "data": {
            "text/plain": [
              "0       95.0\n",
              "1      101.0\n",
              "2       97.0\n",
              "3       94.0\n",
              "4       97.0\n",
              "       ...  \n",
              "899    101.0\n",
              "900     99.0\n",
              "901     77.0\n",
              "902     78.0\n",
              "903     97.0\n",
              "Name: Year, Length: 904, dtype: float64"
            ]
          },
          "metadata": {},
          "execution_count": 158
        }
      ]
    },
    {
      "cell_type": "code",
      "source": [
        "import seaborn as sns\n",
        "#Here we cansee the distribution between Gender anf Generation\n",
        "sns.barplot('Gender','Generation',data= df)"
      ],
      "metadata": {
        "colab": {
          "base_uri": "https://localhost:8080/",
          "height": 351
        },
        "id": "O-HcWWm-ANPi",
        "outputId": "a58a10f4-f7c6-43e5-ac09-6611e4e2d785"
      },
      "execution_count": 168,
      "outputs": [
        {
          "output_type": "stream",
          "name": "stderr",
          "text": [
            "/usr/local/lib/python3.7/dist-packages/seaborn/_decorators.py:43: FutureWarning: Pass the following variables as keyword args: x, y. From version 0.12, the only valid positional argument will be `data`, and passing other arguments without an explicit keyword will result in an error or misinterpretation.\n",
            "  FutureWarning\n"
          ]
        },
        {
          "output_type": "execute_result",
          "data": {
            "text/plain": [
              "<matplotlib.axes._subplots.AxesSubplot at 0x7fd4baf06050>"
            ]
          },
          "metadata": {},
          "execution_count": 168
        },
        {
          "output_type": "display_data",
          "data": {
            "image/png": "[encoded data removed]",
            "text/plain": [
              "<Figure size 432x288 with 1 Axes>"
            ]
          },
          "metadata": {
            "needs_background": "light"
          }
        }
      ]
    },
    {
      "cell_type": "code",
      "source": [
        "#Plotting Heatmap and we get the result for the features with numeric values \n",
        "sns.heatmap(df.corr(), annot = True)"
      ],
      "metadata": {
        "colab": {
          "base_uri": "https://localhost:8080/",
          "height": 287
        },
        "id": "9BEvkmu_Bbd2",
        "outputId": "68f92bfa-f547-4456-a4c9-530db7b86992"
      },
      "execution_count": 161,
      "outputs": [
        {
          "output_type": "execute_result",
          "data": {
            "text/plain": [
              "<matplotlib.axes._subplots.AxesSubplot at 0x7fd4bc440bd0>"
            ]
          },
          "metadata": {},
          "execution_count": 161
        },
        {
          "output_type": "display_data",
          "data": {
            "image/png": "[encoded data removed]",
            "text/plain": [
              "<Figure size 432x288 with 2 Axes>"
            ]
          },
          "metadata": {
            "needs_background": "light"
          }
        }
      ]
    },
    {
      "cell_type": "markdown",
      "metadata": {
        "id": "sf6QfnbyvPv3"
      },
      "source": [
        "<span style='background:yellow'>**Question 7.**</span> **Monkeys Typing Shakespeare** A monkey is banging repeatedly on the keys of a typewriter. Each time, the monkey is equally likely to hit any of the 26 lowercase letters of the English alphabet, 26 uppercase letters of the English alphabet, and any number between 0-9 (inclusive), regardless of what it has hit before. There are no other keys on the keyboard.  \n",
        "\n",
        "This question is inspired by a mathematical theorem called the Infinite monkey theorem (<https://en.wikipedia.org/wiki/Infinite_monkey_theorem>), which postulates that if you put a monkey in the situation described above for an infinite time, they will eventually type out all of Shakespeare’s works."
      ]
    },
    {
      "cell_type": "markdown",
      "metadata": {
        "id": "v4SIjpb0vPv3"
      },
      "source": [
        "<span style='background:yellow'>**Question 7-1 (10 pt).**</span> Suppose the monkey hits the keyboard 5 times.  Compute the chance that the monkey types the sequence `Data8`.  (Call this `data_chance`.) Use algebra and type in an arithmetic equation that Python can evalute."
      ]
    },
    {
      "cell_type": "code",
      "execution_count": 62,
      "metadata": {
        "id": "QFI5szhfvPv3",
        "colab": {
          "base_uri": "https://localhost:8080/"
        },
        "outputId": "b942661a-df56-48e0-ce67-b0ab6ee72f2e"
      },
      "outputs": [
        {
          "output_type": "execute_result",
          "data": {
            "text/plain": [
              "1.0915447684774164e-09"
            ]
          },
          "metadata": {},
          "execution_count": 62
        }
      ],
      "source": [
        "#### You code here\n",
        "data_chance = (1/62)**5\n",
        "data_chance\n"
      ]
    },
    {
      "cell_type": "markdown",
      "metadata": {
        "id": "to4dgvx6vPv4"
      },
      "source": [
        "<span style='background:yellow'>**Question 7-2 (10 pt).**</span> Write a function called `simulate_key_strike`.  It should take **no arguments**, and it should return a random one-character string that is equally likely to be any of the 26 lower-case English letters, 26 upper-case English letters, or any number between 0-9 (inclusive). "
      ]
    },
    {
      "cell_type": "code",
      "execution_count": 60,
      "metadata": {
        "id": "wVgmb78svPv4",
        "colab": {
          "base_uri": "https://localhost:8080/",
          "height": 35
        },
        "outputId": "852c7d49-242d-47c2-c3d4-6f5aa5532aa9"
      },
      "outputs": [
        {
          "output_type": "execute_result",
          "data": {
            "application/vnd.google.colaboratory.intrinsic+json": {
              "type": "string"
            },
            "text/plain": [
              "'l'"
            ]
          },
          "metadata": {},
          "execution_count": 60
        }
      ],
      "source": [
        "#### You code here\n",
        "import random\n",
        "import string\n",
        "\n",
        "k = list(string.ascii_lowercase + string.ascii_uppercase + string.digits)\n",
        "\n",
        "def simulate_key_strike():\n",
        "  \"Return a random one-character\"\n",
        "  return random.choice(k)\n",
        "\n",
        "simulate_key_strike()\n"
      ]
    },
    {
      "cell_type": "markdown",
      "metadata": {
        "id": "NAV_TgZvvPv4"
      },
      "source": [
        "<span style='background:yellow'>**Question 7-3 (10 pt).**</span> Write a function called `simulate_several_key_strikes`.  It should take one argument: an integer specifying the number of key strikes to simulate. It should return a string containing that many characters, each one obtained from simulating a key strike by the monkey.\n",
        "\n",
        "*Hint:* If you make a list or array of the simulated key strikes called `key_strikes_array`, you can convert that to a string by calling `\"\".join(key_strikes_array)`"
      ]
    },
    {
      "cell_type": "code",
      "execution_count": 61,
      "metadata": {
        "id": "4HI3PvPCvPv5",
        "colab": {
          "base_uri": "https://localhost:8080/",
          "height": 35
        },
        "outputId": "87e3bac7-7421-462b-d09f-0263b9b0c3d5"
      },
      "outputs": [
        {
          "output_type": "execute_result",
          "data": {
            "application/vnd.google.colaboratory.intrinsic+json": {
              "type": "string"
            },
            "text/plain": [
              "'788R6ZQ'"
            ]
          },
          "metadata": {},
          "execution_count": 61
        }
      ],
      "source": [
        "#### You code here\n",
        "def simulate_several_key_strikes(no_of_strikes):\n",
        "  \"Returning a string containing many characters\"\n",
        "  return \"\".join(random.choice(k) for i in range(no_of_strikes))\n",
        "simulate_several_key_strikes(7)\n",
        "\n"
      ]
    }
  ],
  "metadata": {
    "kernelspec": {
      "display_name": "Python 3",
      "language": "python",
      "name": "python3"
    },
    "language_info": {
      "codemirror_mode": {
        "name": "ipython",
        "version": 3
      },
      "file_extension": ".py",
      "mimetype": "text/x-python",
      "name": "python",
      "nbconvert_exporter": "python",
      "pygments_lexer": "ipython3",
      "version": "3.8.5"
    },
    "colab": {
      "name": "INFO 5502-Mid-term Exam-Spring2022.ipynb",
      "provenance": [],
      "include_colab_link": true
    }
  },
  "nbformat": 4,
  "nbformat_minor": 0
}