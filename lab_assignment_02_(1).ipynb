{
  "cells": [
    {
      "cell_type": "markdown",
      "metadata": {
        "id": "view-in-github",
        "colab_type": "text"
      },
      "source": [
        "<a href=\"https://colab.research.google.com/github/AmithReddyKasarla/AmithReddy_INFO5502_-Spring2022/blob/main/lab_assignment_02_(1).ipynb\" target=\"_parent\"><img src=\"https://colab.research.google.com/assets/colab-badge.svg\" alt=\"Open In Colab\"/></a>"
      ]
    },
    {
      "cell_type": "markdown",
      "metadata": {
        "id": "Ryk8D1Q4Wsrp"
      },
      "source": [
        "# **The second Lab-assignment (02/04/2022, 50 points in total)**"
      ]
    },
    {
      "cell_type": "markdown",
      "metadata": {
        "id": "90_NR8c5XGWc"
      },
      "source": [
        "# Question 1\n",
        "\n",
        "(5 points). Write a Python program to generate 12 random numbers between 1 and 100. Sort the list of numbers in ascending order and print it out. Sort the list of numbers in descending order and print it out. Calculate the average for the group and print it out."
      ]
    },
    {
      "cell_type": "code",
      "execution_count": 2,
      "metadata": {
        "colab": {
          "base_uri": "https://localhost:8080/"
        },
        "id": "5QX6bJjGWXY9",
        "outputId": "76943b40-6e24-4831-a85f-a598c7f1c370"
      },
      "outputs": [
        {
          "output_type": "stream",
          "name": "stdout",
          "text": [
            "The list of numbers: [6, 34, 39, 20, 46, 69, 29, 43, 56, 42, 51, 30]\n",
            "The numbers in Ascending order: [6, 20, 29, 30, 34, 39, 42, 43, 46, 51, 56, 69]\n",
            "The numbers in Descending order: [69, 56, 51, 46, 43, 42, 39, 34, 30, 29, 20, 6]\n",
            "The average of the numbers: 38.75\n"
          ]
        }
      ],
      "source": [
        "# Your code here\n",
        "#Firstly I am importing the random, to call a set of numbers in a given range of numbers.\n",
        "import random\n",
        "#Assigning the condition to num\n",
        "num = random.sample(range(1,100), 12)\n",
        "#Printing 12 numbers from 1 to 10\n",
        "print('The list of numbers:', num)\n",
        "#Sorting the 12 numbers in num\n",
        "num.sort()\n",
        "#Printing the sorted numbers\n",
        "print('The numbers in Ascending order:',num)\n",
        "#Now using reverse = True to sort the set of numbers in descending order\n",
        "num.sort(reverse = True)\n",
        "#Printing the numbers in descending order\n",
        "print('The numbers in Descending order:',num)\n",
        "#Now calculating the average of the sorted numbers\n",
        "avg = sum(num)/len(num)\n",
        "#Printing the average\n",
        "print('The average of the numbers:',avg)"
      ]
    },
    {
      "cell_type": "markdown",
      "metadata": {
        "id": "1F_PZdH9Sh49"
      },
      "source": [
        "# Question 2\n",
        "(20 points). Write a program that will do the following string formatting tasks:\n",
        "\n",
        "(1) Ask the user to enter two sentences.\n",
        "\n",
        "(2) Make each sentence into a list. Each element in the list should correspond to a word in the sentence. For example, if the sentence is \"Alas! Am I alive? This is my first python program\", the program should print out ['Alas, '!', 'Am', 'I', 'alive, '?', 'This', 'is', 'my', 'first', 'python', 'program'].\n",
        "\n",
        "(3) Compare the two sentences. Print out a list of words that occur in both sentences.\n",
        "\n",
        "(4) Remove any punctuation from the sentence and print it back out. It should remove at least the following characters, but it can remove more: period(“.”), comma (“,”), semicolon (“;”), and colon (“:”)\n",
        "\n",
        "(5) Count the number of vowels in the sentences. Print out each vowel and the number of times it appears in the sentences, such as: a:2, e:1, i:0, etc"
      ]
    },
    {
      "cell_type": "code",
      "execution_count": 11,
      "metadata": {
        "colab": {
          "base_uri": "https://localhost:8080/"
        },
        "id": "Y0oOSlsOS0cq",
        "outputId": "62cbcd92-07fe-4d76-e564-c8f9597976d3"
      },
      "outputs": [
        {
          "output_type": "stream",
          "name": "stdout",
          "text": [
            "Enter first sentance : Alas ? Am I alive ?\n",
            "Enter second sentance : This is my first python program\n",
            "\n",
            "\n",
            "['Alas', '?', 'Am', 'I', 'alive', '?']\n",
            "['This', 'is', 'my', 'first', 'python', 'program']\n",
            "\n",
            "\n",
            "a\n",
            "s\n",
            " \n",
            " \n",
            "m\n",
            " \n",
            " \n",
            "a\n",
            "i\n",
            " \n",
            "?\n",
            "?\n",
            "\n",
            "\n",
            "Alas   Am I alive  \n",
            "\n",
            "\n",
            "{'a': 4, 'e': 1, 'i': 2, 'o': 0, 'u': 0}\n",
            "{'a': 1, 'e': 0, 'i': 3, 'o': 2, 'u': 0}\n"
          ]
        }
      ],
      "source": [
        "# Your code here\n",
        "#(1)\n",
        "#Here I imported Regular Expression re\n",
        "import re\n",
        "#Here I am using two inputs to read two sentence from user\n",
        "a = input(\"Enter first sentance : \")\n",
        "b = input(\"Enter second sentance : \")\n",
        "\n",
        "#(2)\n",
        "#After reading two sentence creating a new line and then using split function to split the sentence as required\n",
        "print(\"\\n\")\n",
        "print(a.split(' '))\n",
        "print(b.split(' '))\n",
        "print('\\n')\n",
        "\n",
        "#(3)\n",
        "#Here using for statement in the splitted sentence to check if there is any this common\n",
        "for i in a:\n",
        "  if i in b:\n",
        "    print(i)\n",
        "\n",
        "\n",
        "#(4)\n",
        "#Checking for the punctions and removing them using for and if statements and replacing with blanks\n",
        "z=['.',',',':',';','?','!']\n",
        "for i in a:\n",
        "  if i in z:\n",
        "    print(i)\n",
        "    a=a.replace(i,' ')\n",
        "print('\\n')\n",
        "print(a)\n",
        "print('\\n')\n",
        "\n",
        "\n",
        "\n",
        "#(5)\n",
        "#Checking the count of vowels in the two sentence using for statement\n",
        "for sentence in (a, b):\n",
        "  vowels_count = {}\n",
        "  for char in ['a','e','i','o','u']:\n",
        "    vowels_count[char] = sentence.lower().count(char)\n",
        "  print(vowels_count)\n",
        "\n",
        "\n"
      ]
    },
    {
      "cell_type": "markdown",
      "metadata": {
        "id": "CmFoI4jDS9nx"
      },
      "source": [
        "# Question 3 \n",
        "\n",
        "(5 points). The formula that describes the volume V of a sphere with radius r is the following:\n",
        "\n",
        "$ V=\\frac{4}{3}\\ast\\ \\pi\\ast\\ r^3 $\n",
        "\n",
        "Write a program to calculate the value of V when r is in the range of 1–10. Output the result in the following format:\n",
        "\n",
        "\tr\tV\n",
        "\t1\t…\n",
        "\t2\t…\n",
        "\t3\t…\n"
      ]
    },
    {
      "cell_type": "code",
      "execution_count": 5,
      "metadata": {
        "colab": {
          "base_uri": "https://localhost:8080/"
        },
        "id": "pEyqeioAT95b",
        "outputId": "cb2488f8-9806-4fe5-e97b-d20c4dee8ed0"
      },
      "outputs": [
        {
          "output_type": "stream",
          "name": "stdout",
          "text": [
            "r         V\n",
            "1         4.1887902047863905\n",
            "2         33.510321638291124\n",
            "3         113.09733552923254\n",
            "4         268.082573106329\n",
            "5         523.5987755982989\n",
            "6         904.7786842338603\n",
            "7         1436.7550402417319\n",
            "8         2144.660584850632\n",
            "9         3053.6280592892786\n"
          ]
        }
      ],
      "source": [
        "# Your code here\n",
        "#Now from math I am importing pi because to find the volume we need pi value which is inbuilt \n",
        "from math import pi\n",
        "#Now I am assigning 0 to V\n",
        "V = 0\n",
        "#Next I am printing r and V as mentioned in the question \n",
        "print('r         V')\n",
        "#Then I am using for loop to run r in range of (1-10)\n",
        "for r in range(1,10):\n",
        "  V = 4/3 * pi * r ** 3\n",
        "#Then I am printing the values so that it will be below the mentioned Variables\n",
        "  print('{}         {}'.format(r,V))\n"
      ]
    },
    {
      "cell_type": "markdown",
      "metadata": {
        "id": "z3tBE7E-Xn5X"
      },
      "source": [
        "# Question 4\n",
        "\n",
        "(20 points). In the field of Data Science, data is often formatted as a comma-delimited (CSV) file, where each line in a file corresponds to a field's value. Refer to Chapter 9 (p. 106) for more information on comma-delimited files. To answer this question, you will need to download the file [lab_assignment_02_denton_housing.csv](https://raw.githubusercontent.com/unt-iialab/info5502-spring2022/main/datasets/lab_assignment_02_denton_housing.csv) included with this assignment. The file [lab_assignment_02_denton_housing.csv](https://raw.githubusercontent.com/unt-iialab/info5502-spring2022/main/datasets/lab_assignment_02_denton_housing.csv) contains statistics about housing in the city of Denton from 2008 to 2014. Write a program to implement the following questions.\n",
        "\n",
        "(1) (10 pts) Calculate the difference in the number of Occupied Housing Units from year to year and print it. The difference must be calculated for the consecutive years such as 2008-2009, 2009-2010 etc. Finally, print the values in the ascending order.\n",
        "\n",
        "(2) (10 pts) For all the years, calculate the percentage of housing units which are vacant an occupied. Print the results in the following format:\n",
        "\n",
        "Year Vacant Housing Units Occupied Housing Units\n",
        "\n",
        "    2008  30%   70%                          \n",
        "\t2009 ----- -----\n",
        "\t2010 ----- -----\n",
        "    2011 ----- -----\n",
        "\t2012 ----- -----\n",
        "    2013 ----- -----\n",
        "\t2014 ----- -----\n",
        "  \n",
        "  \n",
        "\n",
        "(3) (10 pts) Calculate and print the valued and years in which the highest number of housing units were vacant and occupied. Print the results in the following format:  \n",
        "\n",
        "                              Year\tValue\n",
        "\tVacant Housing Units\t  -----   -----\n",
        "\tOccupied Housing Units\t-----   -----\n",
        "\n",
        "(4) (10 pts) Calculate the harmonic mean of the total housing units and print it out. You can find the information about harmonic mean here: https://ncalculators.com/statistics/harmonic-mean-calculator.htm"
      ]
    },
    {
      "cell_type": "code",
      "execution_count": 7,
      "metadata": {
        "id": "lqGYuHBhcsRH"
      },
      "outputs": [],
      "source": [
        "# Your code here\n",
        "#I am importing numpy for numerical operations on arrays and pandas for data analysis \n",
        "import numpy as np\n",
        "import pandas as pd\n"
      ]
    },
    {
      "cell_type": "code",
      "source": [
        "#Here with the help of pandas i am importing the data from the local files in colab\n",
        "data = pd.read_csv('/content/lab_assignment_02_denton_housing (1).csv')"
      ],
      "metadata": {
        "id": "A3VI0MJ9C48X"
      },
      "execution_count": 16,
      "outputs": []
    },
    {
      "cell_type": "code",
      "source": [
        "#Displaying the contents in data\n",
        "data"
      ],
      "metadata": {
        "id": "LNNLsQwaD5b8",
        "colab": {
          "base_uri": "https://localhost:8080/",
          "height": 1000
        },
        "outputId": "824c5c5d-9a6e-4caf-cbbc-ed13422c3511"
      },
      "execution_count": 17,
      "outputs": [
        {
          "output_type": "execute_result",
          "data": {
            "text/html": [
              "\n",
              "  <div id=\"df-d3c94c27-0ff4-4515-b973-43757a28ee8d\">\n",
              "    <div class=\"colab-df-container\">\n",
              "      <div>\n",
              "<style scoped>\n",
              "    .dataframe tbody tr th:only-of-type {\n",
              "        vertical-align: middle;\n",
              "    }\n",
              "\n",
              "    .dataframe tbody tr th {\n",
              "        vertical-align: top;\n",
              "    }\n",
              "\n",
              "    .dataframe thead th {\n",
              "        text-align: right;\n",
              "    }\n",
              "</style>\n",
              "<table border=\"1\" class=\"dataframe\">\n",
              "  <thead>\n",
              "    <tr style=\"text-align: right;\">\n",
              "      <th></th>\n",
              "      <th>year</th>\n",
              "      <th>title_field</th>\n",
              "      <th>value</th>\n",
              "    </tr>\n",
              "  </thead>\n",
              "  <tbody>\n",
              "    <tr>\n",
              "      <th>0</th>\n",
              "      <td>2014</td>\n",
              "      <td>Total Housing Units</td>\n",
              "      <td>49109</td>\n",
              "    </tr>\n",
              "    <tr>\n",
              "      <th>1</th>\n",
              "      <td>2014</td>\n",
              "      <td>Vacant Housing Units</td>\n",
              "      <td>2814</td>\n",
              "    </tr>\n",
              "    <tr>\n",
              "      <th>2</th>\n",
              "      <td>2014</td>\n",
              "      <td>Occupied Housing Units</td>\n",
              "      <td>46295</td>\n",
              "    </tr>\n",
              "    <tr>\n",
              "      <th>3</th>\n",
              "      <td>2013</td>\n",
              "      <td>Total Housing Units</td>\n",
              "      <td>47888</td>\n",
              "    </tr>\n",
              "    <tr>\n",
              "      <th>4</th>\n",
              "      <td>2013</td>\n",
              "      <td>Vacant Housing Units</td>\n",
              "      <td>4215</td>\n",
              "    </tr>\n",
              "    <tr>\n",
              "      <th>5</th>\n",
              "      <td>2013</td>\n",
              "      <td>Occupied Housing Units</td>\n",
              "      <td>43673</td>\n",
              "    </tr>\n",
              "    <tr>\n",
              "      <th>6</th>\n",
              "      <td>2012</td>\n",
              "      <td>Total Housing Units</td>\n",
              "      <td>45121</td>\n",
              "    </tr>\n",
              "    <tr>\n",
              "      <th>7</th>\n",
              "      <td>2012</td>\n",
              "      <td>Vacant Housing Units</td>\n",
              "      <td>3013</td>\n",
              "    </tr>\n",
              "    <tr>\n",
              "      <th>8</th>\n",
              "      <td>2012</td>\n",
              "      <td>Occupied Housing Units</td>\n",
              "      <td>42108</td>\n",
              "    </tr>\n",
              "    <tr>\n",
              "      <th>9</th>\n",
              "      <td>2011</td>\n",
              "      <td>Total Housing Units</td>\n",
              "      <td>44917</td>\n",
              "    </tr>\n",
              "    <tr>\n",
              "      <th>10</th>\n",
              "      <td>2011</td>\n",
              "      <td>Vacant Housing Units</td>\n",
              "      <td>4213</td>\n",
              "    </tr>\n",
              "    <tr>\n",
              "      <th>11</th>\n",
              "      <td>2011</td>\n",
              "      <td>Occupied Housing Units</td>\n",
              "      <td>40704</td>\n",
              "    </tr>\n",
              "    <tr>\n",
              "      <th>12</th>\n",
              "      <td>2010</td>\n",
              "      <td>Total Housing Units</td>\n",
              "      <td>44642</td>\n",
              "    </tr>\n",
              "    <tr>\n",
              "      <th>13</th>\n",
              "      <td>2010</td>\n",
              "      <td>Vacant Housing Units</td>\n",
              "      <td>3635</td>\n",
              "    </tr>\n",
              "    <tr>\n",
              "      <th>14</th>\n",
              "      <td>2010</td>\n",
              "      <td>Occupied Housing Units</td>\n",
              "      <td>41007</td>\n",
              "    </tr>\n",
              "    <tr>\n",
              "      <th>15</th>\n",
              "      <td>2009</td>\n",
              "      <td>Total Housing Units</td>\n",
              "      <td>39499</td>\n",
              "    </tr>\n",
              "    <tr>\n",
              "      <th>16</th>\n",
              "      <td>2009</td>\n",
              "      <td>Vacant Housing Units</td>\n",
              "      <td>3583</td>\n",
              "    </tr>\n",
              "    <tr>\n",
              "      <th>17</th>\n",
              "      <td>2009</td>\n",
              "      <td>Occupied Housing Units</td>\n",
              "      <td>35916</td>\n",
              "    </tr>\n",
              "    <tr>\n",
              "      <th>18</th>\n",
              "      <td>2008</td>\n",
              "      <td>Total Housing Units</td>\n",
              "      <td>41194</td>\n",
              "    </tr>\n",
              "    <tr>\n",
              "      <th>19</th>\n",
              "      <td>2008</td>\n",
              "      <td>Vacant Housing Units</td>\n",
              "      <td>4483</td>\n",
              "    </tr>\n",
              "    <tr>\n",
              "      <th>20</th>\n",
              "      <td>2008</td>\n",
              "      <td>Occupied Housing Units</td>\n",
              "      <td>36711</td>\n",
              "    </tr>\n",
              "    <tr>\n",
              "      <th>21</th>\n",
              "      <td>2014</td>\n",
              "      <td>Owner Occupied</td>\n",
              "      <td>21427</td>\n",
              "    </tr>\n",
              "    <tr>\n",
              "      <th>22</th>\n",
              "      <td>2014</td>\n",
              "      <td>Renter Occupied</td>\n",
              "      <td>24868</td>\n",
              "    </tr>\n",
              "    <tr>\n",
              "      <th>23</th>\n",
              "      <td>2013</td>\n",
              "      <td>Owner Occupied</td>\n",
              "      <td>20845</td>\n",
              "    </tr>\n",
              "    <tr>\n",
              "      <th>24</th>\n",
              "      <td>2013</td>\n",
              "      <td>Renter Occupied</td>\n",
              "      <td>22828</td>\n",
              "    </tr>\n",
              "    <tr>\n",
              "      <th>25</th>\n",
              "      <td>2012</td>\n",
              "      <td>Owner Occupied</td>\n",
              "      <td>20068</td>\n",
              "    </tr>\n",
              "    <tr>\n",
              "      <th>26</th>\n",
              "      <td>2012</td>\n",
              "      <td>Renter Occupied</td>\n",
              "      <td>22040</td>\n",
              "    </tr>\n",
              "    <tr>\n",
              "      <th>27</th>\n",
              "      <td>2011</td>\n",
              "      <td>Owner Occupied</td>\n",
              "      <td>18478</td>\n",
              "    </tr>\n",
              "    <tr>\n",
              "      <th>28</th>\n",
              "      <td>2011</td>\n",
              "      <td>Renter Occupied</td>\n",
              "      <td>22226</td>\n",
              "    </tr>\n",
              "    <tr>\n",
              "      <th>29</th>\n",
              "      <td>2010</td>\n",
              "      <td>Owner Occupied</td>\n",
              "      <td>18867</td>\n",
              "    </tr>\n",
              "    <tr>\n",
              "      <th>30</th>\n",
              "      <td>2010</td>\n",
              "      <td>Renter Occupied</td>\n",
              "      <td>22140</td>\n",
              "    </tr>\n",
              "    <tr>\n",
              "      <th>31</th>\n",
              "      <td>2009</td>\n",
              "      <td>Owner Occupied</td>\n",
              "      <td>18057</td>\n",
              "    </tr>\n",
              "    <tr>\n",
              "      <th>32</th>\n",
              "      <td>2009</td>\n",
              "      <td>Renter Occupied</td>\n",
              "      <td>17859</td>\n",
              "    </tr>\n",
              "    <tr>\n",
              "      <th>33</th>\n",
              "      <td>2008</td>\n",
              "      <td>Owner Occupied</td>\n",
              "      <td>17340</td>\n",
              "    </tr>\n",
              "    <tr>\n",
              "      <th>34</th>\n",
              "      <td>2008</td>\n",
              "      <td>Renter Occupied</td>\n",
              "      <td>19371</td>\n",
              "    </tr>\n",
              "    <tr>\n",
              "      <th>35</th>\n",
              "      <td>2014</td>\n",
              "      <td>Median Gross Rent</td>\n",
              "      <td>905</td>\n",
              "    </tr>\n",
              "    <tr>\n",
              "      <th>36</th>\n",
              "      <td>2013</td>\n",
              "      <td>Median Gross Rent</td>\n",
              "      <td>887</td>\n",
              "    </tr>\n",
              "    <tr>\n",
              "      <th>37</th>\n",
              "      <td>2012</td>\n",
              "      <td>Median Gross Rent</td>\n",
              "      <td>842</td>\n",
              "    </tr>\n",
              "    <tr>\n",
              "      <th>38</th>\n",
              "      <td>2011</td>\n",
              "      <td>Median Gross Rent</td>\n",
              "      <td>821</td>\n",
              "    </tr>\n",
              "    <tr>\n",
              "      <th>39</th>\n",
              "      <td>2010</td>\n",
              "      <td>Median Gross Rent</td>\n",
              "      <td>780</td>\n",
              "    </tr>\n",
              "    <tr>\n",
              "      <th>40</th>\n",
              "      <td>2009</td>\n",
              "      <td>Median Gross Rent</td>\n",
              "      <td>769</td>\n",
              "    </tr>\n",
              "    <tr>\n",
              "      <th>41</th>\n",
              "      <td>2008</td>\n",
              "      <td>Median Gross Rent</td>\n",
              "      <td>768</td>\n",
              "    </tr>\n",
              "  </tbody>\n",
              "</table>\n",
              "</div>\n",
              "      <button class=\"colab-df-convert\" onclick=\"convertToInteractive('df-d3c94c27-0ff4-4515-b973-43757a28ee8d')\"\n",
              "              title=\"Convert this dataframe to an interactive table.\"\n",
              "              style=\"display:none;\">\n",
              "        \n",
              "  <svg xmlns=\"http://www.w3.org/2000/svg\" height=\"24px\"viewBox=\"0 0 24 24\"\n",
              "       width=\"24px\">\n",
              "    <path d=\"M0 0h24v24H0V0z\" fill=\"none\"/>\n",
              "    <path d=\"M18.56 5.44l.94 2.06.94-2.06 2.06-.94-2.06-.94-.94-2.06-.94 2.06-2.06.94zm-11 1L8.5 8.5l.94-2.06 2.06-.94-2.06-.94L8.5 2.5l-.94 2.06-2.06.94zm10 10l.94 2.06.94-2.06 2.06-.94-2.06-.94-.94-2.06-.94 2.06-2.06.94z\"/><path d=\"M17.41 7.96l-1.37-1.37c-.4-.4-.92-.59-1.43-.59-.52 0-1.04.2-1.43.59L10.3 9.45l-7.72 7.72c-.78.78-.78 2.05 0 2.83L4 21.41c.39.39.9.59 1.41.59.51 0 1.02-.2 1.41-.59l7.78-7.78 2.81-2.81c.8-.78.8-2.07 0-2.86zM5.41 20L4 18.59l7.72-7.72 1.47 1.35L5.41 20z\"/>\n",
              "  </svg>\n",
              "      </button>\n",
              "      \n",
              "  <style>\n",
              "    .colab-df-container {\n",
              "      display:flex;\n",
              "      flex-wrap:wrap;\n",
              "      gap: 12px;\n",
              "    }\n",
              "\n",
              "    .colab-df-convert {\n",
              "      background-color: #E8F0FE;\n",
              "      border: none;\n",
              "      border-radius: 50%;\n",
              "      cursor: pointer;\n",
              "      display: none;\n",
              "      fill: #1967D2;\n",
              "      height: 32px;\n",
              "      padding: 0 0 0 0;\n",
              "      width: 32px;\n",
              "    }\n",
              "\n",
              "    .colab-df-convert:hover {\n",
              "      background-color: #E2EBFA;\n",
              "      box-shadow: 0px 1px 2px rgba(60, 64, 67, 0.3), 0px 1px 3px 1px rgba(60, 64, 67, 0.15);\n",
              "      fill: #174EA6;\n",
              "    }\n",
              "\n",
              "    [theme=dark] .colab-df-convert {\n",
              "      background-color: #3B4455;\n",
              "      fill: #D2E3FC;\n",
              "    }\n",
              "\n",
              "    [theme=dark] .colab-df-convert:hover {\n",
              "      background-color: #434B5C;\n",
              "      box-shadow: 0px 1px 3px 1px rgba(0, 0, 0, 0.15);\n",
              "      filter: drop-shadow(0px 1px 2px rgba(0, 0, 0, 0.3));\n",
              "      fill: #FFFFFF;\n",
              "    }\n",
              "  </style>\n",
              "\n",
              "      <script>\n",
              "        const buttonEl =\n",
              "          document.querySelector('#df-d3c94c27-0ff4-4515-b973-43757a28ee8d button.colab-df-convert');\n",
              "        buttonEl.style.display =\n",
              "          google.colab.kernel.accessAllowed ? 'block' : 'none';\n",
              "\n",
              "        async function convertToInteractive(key) {\n",
              "          const element = document.querySelector('#df-d3c94c27-0ff4-4515-b973-43757a28ee8d');\n",
              "          const dataTable =\n",
              "            await google.colab.kernel.invokeFunction('convertToInteractive',\n",
              "                                                     [key], {});\n",
              "          if (!dataTable) return;\n",
              "\n",
              "          const docLinkHtml = 'Like what you see? Visit the ' +\n",
              "            '<a target=\"_blank\" href=https://colab.research.google.com/notebooks/data_table.ipynb>data table notebook</a>'\n",
              "            + ' to learn more about interactive tables.';\n",
              "          element.innerHTML = '';\n",
              "          dataTable['output_type'] = 'display_data';\n",
              "          await google.colab.output.renderOutput(dataTable, element);\n",
              "          const docLink = document.createElement('div');\n",
              "          docLink.innerHTML = docLinkHtml;\n",
              "          element.appendChild(docLink);\n",
              "        }\n",
              "      </script>\n",
              "    </div>\n",
              "  </div>\n",
              "  "
            ],
            "text/plain": [
              "    year             title_field  value\n",
              "0   2014     Total Housing Units  49109\n",
              "1   2014    Vacant Housing Units   2814\n",
              "2   2014  Occupied Housing Units  46295\n",
              "3   2013     Total Housing Units  47888\n",
              "4   2013    Vacant Housing Units   4215\n",
              "5   2013  Occupied Housing Units  43673\n",
              "6   2012     Total Housing Units  45121\n",
              "7   2012    Vacant Housing Units   3013\n",
              "8   2012  Occupied Housing Units  42108\n",
              "9   2011     Total Housing Units  44917\n",
              "10  2011    Vacant Housing Units   4213\n",
              "11  2011  Occupied Housing Units  40704\n",
              "12  2010     Total Housing Units  44642\n",
              "13  2010    Vacant Housing Units   3635\n",
              "14  2010  Occupied Housing Units  41007\n",
              "15  2009     Total Housing Units  39499\n",
              "16  2009    Vacant Housing Units   3583\n",
              "17  2009  Occupied Housing Units  35916\n",
              "18  2008     Total Housing Units  41194\n",
              "19  2008    Vacant Housing Units   4483\n",
              "20  2008  Occupied Housing Units  36711\n",
              "21  2014          Owner Occupied  21427\n",
              "22  2014         Renter Occupied  24868\n",
              "23  2013          Owner Occupied  20845\n",
              "24  2013         Renter Occupied  22828\n",
              "25  2012          Owner Occupied  20068\n",
              "26  2012         Renter Occupied  22040\n",
              "27  2011          Owner Occupied  18478\n",
              "28  2011         Renter Occupied  22226\n",
              "29  2010          Owner Occupied  18867\n",
              "30  2010         Renter Occupied  22140\n",
              "31  2009          Owner Occupied  18057\n",
              "32  2009         Renter Occupied  17859\n",
              "33  2008          Owner Occupied  17340\n",
              "34  2008         Renter Occupied  19371\n",
              "35  2014       Median Gross Rent    905\n",
              "36  2013       Median Gross Rent    887\n",
              "37  2012       Median Gross Rent    842\n",
              "38  2011       Median Gross Rent    821\n",
              "39  2010       Median Gross Rent    780\n",
              "40  2009       Median Gross Rent    769\n",
              "41  2008       Median Gross Rent    768"
            ]
          },
          "metadata": {},
          "execution_count": 17
        }
      ]
    },
    {
      "cell_type": "code",
      "source": [
        "#(1)\n",
        "#Now creating occupied variable and using loc function to filter out only the occupied housing units and sorting them with respect to year in ascending order\n",
        "occupied = data.loc[data['title_field'] == 'Occupied Housing Units'].sort_values('year', ascending=True)"
      ],
      "metadata": {
        "id": "hRvjUJilYrxf"
      },
      "execution_count": 35,
      "outputs": []
    },
    {
      "cell_type": "code",
      "source": [
        "#Displaying the occupied variable\n",
        "occupied"
      ],
      "metadata": {
        "colab": {
          "base_uri": "https://localhost:8080/",
          "height": 269
        },
        "id": "ID13MnPLZbou",
        "outputId": "95d3087c-1d1b-4b22-a06d-980f1cc3281d"
      },
      "execution_count": 36,
      "outputs": [
        {
          "output_type": "execute_result",
          "data": {
            "text/html": [
              "\n",
              "  <div id=\"df-36d8df7a-5d1b-4db6-83a1-df784eb90933\">\n",
              "    <div class=\"colab-df-container\">\n",
              "      <div>\n",
              "<style scoped>\n",
              "    .dataframe tbody tr th:only-of-type {\n",
              "        vertical-align: middle;\n",
              "    }\n",
              "\n",
              "    .dataframe tbody tr th {\n",
              "        vertical-align: top;\n",
              "    }\n",
              "\n",
              "    .dataframe thead th {\n",
              "        text-align: right;\n",
              "    }\n",
              "</style>\n",
              "<table border=\"1\" class=\"dataframe\">\n",
              "  <thead>\n",
              "    <tr style=\"text-align: right;\">\n",
              "      <th></th>\n",
              "      <th>year</th>\n",
              "      <th>title_field</th>\n",
              "      <th>value</th>\n",
              "    </tr>\n",
              "  </thead>\n",
              "  <tbody>\n",
              "    <tr>\n",
              "      <th>20</th>\n",
              "      <td>2008</td>\n",
              "      <td>Occupied Housing Units</td>\n",
              "      <td>36711</td>\n",
              "    </tr>\n",
              "    <tr>\n",
              "      <th>17</th>\n",
              "      <td>2009</td>\n",
              "      <td>Occupied Housing Units</td>\n",
              "      <td>35916</td>\n",
              "    </tr>\n",
              "    <tr>\n",
              "      <th>14</th>\n",
              "      <td>2010</td>\n",
              "      <td>Occupied Housing Units</td>\n",
              "      <td>41007</td>\n",
              "    </tr>\n",
              "    <tr>\n",
              "      <th>11</th>\n",
              "      <td>2011</td>\n",
              "      <td>Occupied Housing Units</td>\n",
              "      <td>40704</td>\n",
              "    </tr>\n",
              "    <tr>\n",
              "      <th>8</th>\n",
              "      <td>2012</td>\n",
              "      <td>Occupied Housing Units</td>\n",
              "      <td>42108</td>\n",
              "    </tr>\n",
              "    <tr>\n",
              "      <th>5</th>\n",
              "      <td>2013</td>\n",
              "      <td>Occupied Housing Units</td>\n",
              "      <td>43673</td>\n",
              "    </tr>\n",
              "    <tr>\n",
              "      <th>2</th>\n",
              "      <td>2014</td>\n",
              "      <td>Occupied Housing Units</td>\n",
              "      <td>46295</td>\n",
              "    </tr>\n",
              "  </tbody>\n",
              "</table>\n",
              "</div>\n",
              "      <button class=\"colab-df-convert\" onclick=\"convertToInteractive('df-36d8df7a-5d1b-4db6-83a1-df784eb90933')\"\n",
              "              title=\"Convert this dataframe to an interactive table.\"\n",
              "              style=\"display:none;\">\n",
              "        \n",
              "  <svg xmlns=\"http://www.w3.org/2000/svg\" height=\"24px\"viewBox=\"0 0 24 24\"\n",
              "       width=\"24px\">\n",
              "    <path d=\"M0 0h24v24H0V0z\" fill=\"none\"/>\n",
              "    <path d=\"M18.56 5.44l.94 2.06.94-2.06 2.06-.94-2.06-.94-.94-2.06-.94 2.06-2.06.94zm-11 1L8.5 8.5l.94-2.06 2.06-.94-2.06-.94L8.5 2.5l-.94 2.06-2.06.94zm10 10l.94 2.06.94-2.06 2.06-.94-2.06-.94-.94-2.06-.94 2.06-2.06.94z\"/><path d=\"M17.41 7.96l-1.37-1.37c-.4-.4-.92-.59-1.43-.59-.52 0-1.04.2-1.43.59L10.3 9.45l-7.72 7.72c-.78.78-.78 2.05 0 2.83L4 21.41c.39.39.9.59 1.41.59.51 0 1.02-.2 1.41-.59l7.78-7.78 2.81-2.81c.8-.78.8-2.07 0-2.86zM5.41 20L4 18.59l7.72-7.72 1.47 1.35L5.41 20z\"/>\n",
              "  </svg>\n",
              "      </button>\n",
              "      \n",
              "  <style>\n",
              "    .colab-df-container {\n",
              "      display:flex;\n",
              "      flex-wrap:wrap;\n",
              "      gap: 12px;\n",
              "    }\n",
              "\n",
              "    .colab-df-convert {\n",
              "      background-color: #E8F0FE;\n",
              "      border: none;\n",
              "      border-radius: 50%;\n",
              "      cursor: pointer;\n",
              "      display: none;\n",
              "      fill: #1967D2;\n",
              "      height: 32px;\n",
              "      padding: 0 0 0 0;\n",
              "      width: 32px;\n",
              "    }\n",
              "\n",
              "    .colab-df-convert:hover {\n",
              "      background-color: #E2EBFA;\n",
              "      box-shadow: 0px 1px 2px rgba(60, 64, 67, 0.3), 0px 1px 3px 1px rgba(60, 64, 67, 0.15);\n",
              "      fill: #174EA6;\n",
              "    }\n",
              "\n",
              "    [theme=dark] .colab-df-convert {\n",
              "      background-color: #3B4455;\n",
              "      fill: #D2E3FC;\n",
              "    }\n",
              "\n",
              "    [theme=dark] .colab-df-convert:hover {\n",
              "      background-color: #434B5C;\n",
              "      box-shadow: 0px 1px 3px 1px rgba(0, 0, 0, 0.15);\n",
              "      filter: drop-shadow(0px 1px 2px rgba(0, 0, 0, 0.3));\n",
              "      fill: #FFFFFF;\n",
              "    }\n",
              "  </style>\n",
              "\n",
              "      <script>\n",
              "        const buttonEl =\n",
              "          document.querySelector('#df-36d8df7a-5d1b-4db6-83a1-df784eb90933 button.colab-df-convert');\n",
              "        buttonEl.style.display =\n",
              "          google.colab.kernel.accessAllowed ? 'block' : 'none';\n",
              "\n",
              "        async function convertToInteractive(key) {\n",
              "          const element = document.querySelector('#df-36d8df7a-5d1b-4db6-83a1-df784eb90933');\n",
              "          const dataTable =\n",
              "            await google.colab.kernel.invokeFunction('convertToInteractive',\n",
              "                                                     [key], {});\n",
              "          if (!dataTable) return;\n",
              "\n",
              "          const docLinkHtml = 'Like what you see? Visit the ' +\n",
              "            '<a target=\"_blank\" href=https://colab.research.google.com/notebooks/data_table.ipynb>data table notebook</a>'\n",
              "            + ' to learn more about interactive tables.';\n",
              "          element.innerHTML = '';\n",
              "          dataTable['output_type'] = 'display_data';\n",
              "          await google.colab.output.renderOutput(dataTable, element);\n",
              "          const docLink = document.createElement('div');\n",
              "          docLink.innerHTML = docLinkHtml;\n",
              "          element.appendChild(docLink);\n",
              "        }\n",
              "      </script>\n",
              "    </div>\n",
              "  </div>\n",
              "  "
            ],
            "text/plain": [
              "    year             title_field  value\n",
              "20  2008  Occupied Housing Units  36711\n",
              "17  2009  Occupied Housing Units  35916\n",
              "14  2010  Occupied Housing Units  41007\n",
              "11  2011  Occupied Housing Units  40704\n",
              "8   2012  Occupied Housing Units  42108\n",
              "5   2013  Occupied Housing Units  43673\n",
              "2   2014  Occupied Housing Units  46295"
            ]
          },
          "metadata": {},
          "execution_count": 36
        }
      ]
    },
    {
      "cell_type": "code",
      "source": [
        "#Here I am formatting the years in required format and also assigning the difference for the respective years \n",
        "occupied = occupied.assign(years=occupied['year'].map(str)+ '-' + occupied['year'].shift(-1).fillna(-999).astype(int).map(str), Difference = occupied['value'] - occupied['value'].shift(-1).fillna(0).astype(int))"
      ],
      "metadata": {
        "id": "P3Glzf_XaujN"
      },
      "execution_count": 40,
      "outputs": []
    },
    {
      "cell_type": "code",
      "source": [
        "occupied.drop(occupied[occupied['years'].str.contains('--')].index, inplace=True)"
      ],
      "metadata": {
        "id": "7Lg6_aQnb2QB"
      },
      "execution_count": 41,
      "outputs": []
    },
    {
      "cell_type": "code",
      "source": [
        "print(occupied[['years','Difference']].sort_values(by='Difference', ascending=True).to_string(index=False))"
      ],
      "metadata": {
        "colab": {
          "base_uri": "https://localhost:8080/"
        },
        "id": "iyh-KlqhcE6c",
        "outputId": "4bbd4d0e-d824-4379-89fc-2ad4c898b0bd"
      },
      "execution_count": 42,
      "outputs": [
        {
          "output_type": "stream",
          "name": "stdout",
          "text": [
            "    years  Difference\n",
            "2009-2010       -5091\n",
            "2013-2014       -2622\n",
            "2012-2013       -1565\n",
            "2011-2012       -1404\n",
            "2010-2011         303\n",
            "2008-2009         795\n"
          ]
        }
      ]
    },
    {
      "cell_type": "code",
      "source": [
        "#(2)\n",
        "Total = data.loc[data['title_field'] == 'Total Housing Units']\n",
        "Occupy = data.loc[data['title_field'] == 'Occupied Housing Units']\n",
        "\n",
        "res = Total.merge(Occupy, on='year', how='inner')"
      ],
      "metadata": {
        "id": "jy2SxAlFfFod"
      },
      "execution_count": 23,
      "outputs": []
    },
    {
      "cell_type": "code",
      "source": [
        "res['Occupied Housing Units'] = round(((res['value_y']/res['value_x'])*100)).astype(str) + '%'\n",
        "res['Vacant Housing Units'] = round(((res['value_x'] - res['value_y'])/res['value_x'])*100).astype(str) + '%'"
      ],
      "metadata": {
        "id": "9YcwGe1ijXZr"
      },
      "execution_count": 24,
      "outputs": []
    },
    {
      "cell_type": "code",
      "source": [
        "res.drop(['title_field_x','value_x', 'title_field_y', 'value_y'],axis = 1, inplace = True )\n",
        "res.rename(columns={'year': 'YEAR'}, inplace = True)"
      ],
      "metadata": {
        "id": "pvo-SYEgkr3e"
      },
      "execution_count": 25,
      "outputs": []
    },
    {
      "cell_type": "code",
      "source": [
        "print(res.sort_values(by='YEAR', ascending=True).to_string(index=False))"
      ],
      "metadata": {
        "colab": {
          "base_uri": "https://localhost:8080/"
        },
        "id": "PhQz6pQZkxg5",
        "outputId": "811c7f1f-70ff-4818-e93b-b8a6fdf94479"
      },
      "execution_count": 26,
      "outputs": [
        {
          "output_type": "stream",
          "name": "stdout",
          "text": [
            " YEAR Occupied Housing Units Vacant Housing Units\n",
            " 2008                  89.0%                11.0%\n",
            " 2009                  91.0%                 9.0%\n",
            " 2010                  92.0%                 8.0%\n",
            " 2011                  91.0%                 9.0%\n",
            " 2012                  93.0%                 7.0%\n",
            " 2013                  91.0%                 9.0%\n",
            " 2014                  94.0%                 6.0%\n"
          ]
        }
      ]
    },
    {
      "cell_type": "code",
      "source": [
        "#(3)\n",
        "Vacant = data[data['title_field'] == 'Vacant Housing Units'].sort_values(by='value', ascending=False).head(1)\n",
        "Occupied = data[data['title_field'] == 'Occupied Housing Units'].sort_values(by='value',ascending=False).head(1)"
      ],
      "metadata": {
        "id": "Jl5jXhOWp2bd"
      },
      "execution_count": 27,
      "outputs": []
    },
    {
      "cell_type": "code",
      "source": [
        "result = pd.concat([Vacant, Occupied])"
      ],
      "metadata": {
        "id": "0hz2r7UOuGOQ"
      },
      "execution_count": 28,
      "outputs": []
    },
    {
      "cell_type": "code",
      "source": [
        "result = result[['title_field','year','value']]"
      ],
      "metadata": {
        "id": "OkLwoz24ulIa"
      },
      "execution_count": 29,
      "outputs": []
    },
    {
      "cell_type": "code",
      "source": [
        "result.rename(columns={'title_field': '', 'year':'Year','value':'Value'}, inplace = True)"
      ],
      "metadata": {
        "id": "Ia7AgNZavnGN"
      },
      "execution_count": 30,
      "outputs": []
    },
    {
      "cell_type": "code",
      "source": [
        "print(result.to_string(index=False))"
      ],
      "metadata": {
        "colab": {
          "base_uri": "https://localhost:8080/"
        },
        "id": "cdKL7EKHvs4r",
        "outputId": "7d75c965-18d1-43f3-ecea-3e23b2452ed4"
      },
      "execution_count": 31,
      "outputs": [
        {
          "output_type": "stream",
          "name": "stdout",
          "text": [
            "                        Year  Value\n",
            "  Vacant Housing Units  2008   4483\n",
            "Occupied Housing Units  2014  46295\n"
          ]
        }
      ]
    },
    {
      "cell_type": "code",
      "source": [
        "#(4)\n",
        "#to get the hmean I am importing hmean from scipy.stats.mstats\n",
        "from scipy.stats.mstats import hmean"
      ],
      "metadata": {
        "id": "rdSu3dY1wbUo"
      },
      "execution_count": 32,
      "outputs": []
    },
    {
      "cell_type": "code",
      "source": [
        "X = data.loc[data['title_field'] == 'Total Housing Units'].groupby('title_field').value.apply(hmean)"
      ],
      "metadata": {
        "id": "oJRJPNVxxKD2"
      },
      "execution_count": 33,
      "outputs": []
    },
    {
      "cell_type": "code",
      "source": [
        "print(X.to_string(header=False))"
      ],
      "metadata": {
        "colab": {
          "base_uri": "https://localhost:8080/"
        },
        "id": "f8BrTajhxdVN",
        "outputId": "a08f83ea-4c0a-41ef-d3f7-ffddaf121f94"
      },
      "execution_count": 34,
      "outputs": [
        {
          "output_type": "stream",
          "name": "stdout",
          "text": [
            "Total Housing Units    44398.28544\n"
          ]
        }
      ]
    },
    {
      "cell_type": "code",
      "source": [
        ""
      ],
      "metadata": {
        "id": "OZEBfN81ydru"
      },
      "execution_count": null,
      "outputs": []
    }
  ],
  "metadata": {
    "colab": {
      "collapsed_sections": [],
      "name": "lab_assignment_02 (1).ipynb",
      "provenance": [],
      "include_colab_link": true
    },
    "kernelspec": {
      "display_name": "Python 3",
      "language": "python",
      "name": "python3"
    },
    "language_info": {
      "codemirror_mode": {
        "name": "ipython",
        "version": 3
      },
      "file_extension": ".py",
      "mimetype": "text/x-python",
      "name": "python",
      "nbconvert_exporter": "python",
      "pygments_lexer": "ipython3",
      "version": "3.8.5"
    }
  },
  "nbformat": 4,
  "nbformat_minor": 0
}