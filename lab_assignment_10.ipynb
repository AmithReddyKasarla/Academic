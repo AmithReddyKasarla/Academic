{
  "cells": [
    {
      "cell_type": "markdown",
      "metadata": {
        "id": "view-in-github",
        "colab_type": "text"
      },
      "source": [
        "<a href=\"https://colab.research.google.com/github/AmithReddyKasarla/AmithReddy_INFO5502_-Spring2022/blob/main/lab_assignment_10.ipynb\" target=\"_parent\"><img src=\"https://colab.research.google.com/assets/colab-badge.svg\" alt=\"Open In Colab\"/></a>"
      ]
    },
    {
      "cell_type": "markdown",
      "metadata": {
        "id": "q7yPACOeROyM"
      },
      "source": [
        "## The tenth Lab-assignment (04/28/2022, 50 points in total)"
      ]
    },
    {
      "cell_type": "markdown",
      "metadata": {
        "id": "cfD0QbJsROyP"
      },
      "source": [
        "The purpose of this assignment is to practice normal distribution and annotation quality evaluation."
      ]
    },
    {
      "cell_type": "markdown",
      "metadata": {
        "id": "vKneiU7CROyR"
      },
      "source": [
        "### Question 1 (25 points) \n",
        "\n",
        "Cohen's kappa coefficient (κ) is a statistic that is used to measure inter-rater reliability (and also intra-rater reliability) for qualitative (categorical) items. It is generally thought to be a more robust measure than simple percent agreement calculation, as κ takes into account the possibility of the agreement occurring by chance. There is controversy surrounding Cohen's kappa due to the difficulty in interpreting indices of agreement. Some researchers have suggested that it is conceptually simpler to evaluate disagreement between items.\n",
        "\n",
        "A more detailed description of Kappa agreement can be found on wikipedia: https://en.wikipedia.org/wiki/Cohen%27s_kappa\n",
        "\n",
        "Here is the dataset we created for a text classification task: https://github.com/unt-iialab/info5502-spring2022/blob/main/datasets/lab10-dataset.csv\n",
        "\n",
        "The last three columns indicate the annotation on the same sentence by three students respectively. Based on this dataset, please calculate the Cohen's kappa and the Fleiss' kappa using their formulars (Python). Please don't use any existing packages for the implementation. "
      ]
    },
    {
      "cell_type": "code",
      "execution_count": 53,
      "metadata": {
        "colab": {
          "base_uri": "https://localhost:8080/"
        },
        "id": "LTWtgO8GROye",
        "outputId": "ab81b2d6-7b34-4b8f-f618-dfb2f753904d"
      },
      "outputs": [
        {
          "output_type": "stream",
          "name": "stdout",
          "text": [
            "Requirement already satisfied: pyforest in /usr/local/lib/python3.7/dist-packages (1.1.0)\n"
          ]
        }
      ],
      "source": [
        "# your code here\n",
        "!pip install pyforest\n",
        "import pyforest"
      ]
    },
    {
      "cell_type": "code",
      "source": [
        "df= pd.read_csv('https://raw.githubusercontent.com/unt-iialab/info5502-spring2022/main/datasets/lab10-dataset.csv')"
      ],
      "metadata": {
        "colab": {
          "base_uri": "https://localhost:8080/",
          "height": 17
        },
        "id": "2Zi1q156UZrC",
        "outputId": "a3d80e1e-766d-4c26-a22a-89b09fda66c3"
      },
      "execution_count": 54,
      "outputs": [
        {
          "output_type": "display_data",
          "data": {
            "text/plain": [
              "<IPython.core.display.Javascript object>"
            ],
            "application/javascript": [
              "\n",
              "        if (window._pyforest_update_imports_cell) { window._pyforest_update_imports_cell('from sklearn.feature_extraction.text import TfidfVectorizer\\nimport plotly as py\\nimport numpy as np\\nimport pickle\\nimport plotly.express as px\\nimport imutils\\nimport nltk\\nfrom sklearn.manifold import TSNE\\nimport matplotlib.pyplot as plt\\nimport keras\\nimport pydot\\nimport pandas as pd'); }\n",
              "    "
            ]
          },
          "metadata": {}
        }
      ]
    },
    {
      "cell_type": "code",
      "source": [
        "df"
      ],
      "metadata": {
        "colab": {
          "base_uri": "https://localhost:8080/",
          "height": 641
        },
        "id": "xkk7dwYcUZuE",
        "outputId": "21fe9c0e-c338-4d56-9573-b64e6c5dabdc"
      },
      "execution_count": 55,
      "outputs": [
        {
          "output_type": "execute_result",
          "data": {
            "text/plain": [
              "                                       Title of Article  \\\n",
              "0     The measurement of ÒinterdisciplinarityÓ and Ò...   \n",
              "1     Innovation adoption: Broadcasting versus virality   \n",
              "2     Discovering underlying sensations of human emo...   \n",
              "3     Discovering underlying sensations of human emo...   \n",
              "4     Discovering underlying sensations of human emo...   \n",
              "...                                                 ...   \n",
              "3393  The impact of personality traits on usersÕ inf...   \n",
              "3394  The impact of personality traits on usersÕ inf...   \n",
              "3395  The impact of personality traits on usersÕ inf...   \n",
              "3396  The impact of personality traits on usersÕ inf...   \n",
              "3397  The impact of personality traits on usersÕ inf...   \n",
              "\n",
              "                                          Contributions  Source  \\\n",
              "0     In this study, we discuss recent advances in t...  JASIST   \n",
              "1     broadcasting and virality have similar diffusi...  JASIST   \n",
              "2     we report the results of our study on sensatio...  JASIST   \n",
              "3     in the second part of the paper, we define nov...  JASIST   \n",
              "4     we design a method to classify texts into ones...  JASIST   \n",
              "...                                                 ...     ...   \n",
              "3393  Personality traits drive information seeking d...     IPM   \n",
              "3394  Eye-movement parameters can predict these patt...     IPM   \n",
              "3395  Prior domain knowledge improves older adultsÕ ...     IPM   \n",
              "3396  Unlike prior results, older adults were outper...     IPM   \n",
              "3397  In open-ended information problems, older adul...     IPM   \n",
              "\n",
              "                                           Annotation1  \\\n",
              "0     Algorithms/ Methods Construction or Optimization   \n",
              "1                                    Theory proposal\\n   \n",
              "2                                    Theory proposal\\n   \n",
              "3                                    Theory proposal\\n   \n",
              "4     Algorithms/ Methods Construction or Optimization   \n",
              "...                                                ...   \n",
              "3393                                 Theory proposal\\n   \n",
              "3394                                 Theory proposal\\n   \n",
              "3395                                 Theory proposal\\n   \n",
              "3396                                 Theory proposal\\n   \n",
              "3397                                 Theory proposal\\n   \n",
              "\n",
              "                                           Annotation2  \\\n",
              "0     Algorithms/ Methods Construction or Optimization   \n",
              "1                                    Theory proposal\\n   \n",
              "2     Algorithms/ Methods Construction or Optimization   \n",
              "3                                    Theory proposal\\n   \n",
              "4                   Model Construction or Optimization   \n",
              "...                                                ...   \n",
              "3393                                 Theory proposal\\n   \n",
              "3394                                 Theory proposal\\n   \n",
              "3395                                 Theory proposal\\n   \n",
              "3396                                 Theory proposal\\n   \n",
              "3397                                 Theory proposal\\n   \n",
              "\n",
              "                                           Annotation3    Year  \n",
              "0     Algorithms/ Methods Construction or Optimization     NaN  \n",
              "1                                    Theory proposal\\n     NaN  \n",
              "2                                    Theory proposal\\n     NaN  \n",
              "3                                    Theory proposal\\n     NaN  \n",
              "4     Algorithms/ Methods Construction or Optimization     NaN  \n",
              "...                                                ...     ...  \n",
              "3393                                 Theory proposal\\n  2017.0  \n",
              "3394                                 Theory proposal\\n  2017.0  \n",
              "3395                                 Theory proposal\\n  2017.0  \n",
              "3396                                 Theory proposal\\n  2017.0  \n",
              "3397                                 Theory proposal\\n  2017.0  \n",
              "\n",
              "[3398 rows x 7 columns]"
            ],
            "text/html": [
              "\n",
              "  <div id=\"df-0f7f0451-cfaf-435f-9505-2832c86e1fc9\">\n",
              "    <div class=\"colab-df-container\">\n",
              "      <div>\n",
              "<style scoped>\n",
              "    .dataframe tbody tr th:only-of-type {\n",
              "        vertical-align: middle;\n",
              "    }\n",
              "\n",
              "    .dataframe tbody tr th {\n",
              "        vertical-align: top;\n",
              "    }\n",
              "\n",
              "    .dataframe thead th {\n",
              "        text-align: right;\n",
              "    }\n",
              "</style>\n",
              "<table border=\"1\" class=\"dataframe\">\n",
              "  <thead>\n",
              "    <tr style=\"text-align: right;\">\n",
              "      <th></th>\n",
              "      <th>Title of Article</th>\n",
              "      <th>Contributions</th>\n",
              "      <th>Source</th>\n",
              "      <th>Annotation1</th>\n",
              "      <th>Annotation2</th>\n",
              "      <th>Annotation3</th>\n",
              "      <th>Year</th>\n",
              "    </tr>\n",
              "  </thead>\n",
              "  <tbody>\n",
              "    <tr>\n",
              "      <th>0</th>\n",
              "      <td>The measurement of ÒinterdisciplinarityÓ and Ò...</td>\n",
              "      <td>In this study, we discuss recent advances in t...</td>\n",
              "      <td>JASIST</td>\n",
              "      <td>Algorithms/ Methods Construction or Optimization</td>\n",
              "      <td>Algorithms/ Methods Construction or Optimization</td>\n",
              "      <td>Algorithms/ Methods Construction or Optimization</td>\n",
              "      <td>NaN</td>\n",
              "    </tr>\n",
              "    <tr>\n",
              "      <th>1</th>\n",
              "      <td>Innovation adoption: Broadcasting versus virality</td>\n",
              "      <td>broadcasting and virality have similar diffusi...</td>\n",
              "      <td>JASIST</td>\n",
              "      <td>Theory proposal\\n</td>\n",
              "      <td>Theory proposal\\n</td>\n",
              "      <td>Theory proposal\\n</td>\n",
              "      <td>NaN</td>\n",
              "    </tr>\n",
              "    <tr>\n",
              "      <th>2</th>\n",
              "      <td>Discovering underlying sensations of human emo...</td>\n",
              "      <td>we report the results of our study on sensatio...</td>\n",
              "      <td>JASIST</td>\n",
              "      <td>Theory proposal\\n</td>\n",
              "      <td>Algorithms/ Methods Construction or Optimization</td>\n",
              "      <td>Theory proposal\\n</td>\n",
              "      <td>NaN</td>\n",
              "    </tr>\n",
              "    <tr>\n",
              "      <th>3</th>\n",
              "      <td>Discovering underlying sensations of human emo...</td>\n",
              "      <td>in the second part of the paper, we define nov...</td>\n",
              "      <td>JASIST</td>\n",
              "      <td>Theory proposal\\n</td>\n",
              "      <td>Theory proposal\\n</td>\n",
              "      <td>Theory proposal\\n</td>\n",
              "      <td>NaN</td>\n",
              "    </tr>\n",
              "    <tr>\n",
              "      <th>4</th>\n",
              "      <td>Discovering underlying sensations of human emo...</td>\n",
              "      <td>we design a method to classify texts into ones...</td>\n",
              "      <td>JASIST</td>\n",
              "      <td>Algorithms/ Methods Construction or Optimization</td>\n",
              "      <td>Model Construction or Optimization</td>\n",
              "      <td>Algorithms/ Methods Construction or Optimization</td>\n",
              "      <td>NaN</td>\n",
              "    </tr>\n",
              "    <tr>\n",
              "      <th>...</th>\n",
              "      <td>...</td>\n",
              "      <td>...</td>\n",
              "      <td>...</td>\n",
              "      <td>...</td>\n",
              "      <td>...</td>\n",
              "      <td>...</td>\n",
              "      <td>...</td>\n",
              "    </tr>\n",
              "    <tr>\n",
              "      <th>3393</th>\n",
              "      <td>The impact of personality traits on usersÕ inf...</td>\n",
              "      <td>Personality traits drive information seeking d...</td>\n",
              "      <td>IPM</td>\n",
              "      <td>Theory proposal\\n</td>\n",
              "      <td>Theory proposal\\n</td>\n",
              "      <td>Theory proposal\\n</td>\n",
              "      <td>2017.0</td>\n",
              "    </tr>\n",
              "    <tr>\n",
              "      <th>3394</th>\n",
              "      <td>The impact of personality traits on usersÕ inf...</td>\n",
              "      <td>Eye-movement parameters can predict these patt...</td>\n",
              "      <td>IPM</td>\n",
              "      <td>Theory proposal\\n</td>\n",
              "      <td>Theory proposal\\n</td>\n",
              "      <td>Theory proposal\\n</td>\n",
              "      <td>2017.0</td>\n",
              "    </tr>\n",
              "    <tr>\n",
              "      <th>3395</th>\n",
              "      <td>The impact of personality traits on usersÕ inf...</td>\n",
              "      <td>Prior domain knowledge improves older adultsÕ ...</td>\n",
              "      <td>IPM</td>\n",
              "      <td>Theory proposal\\n</td>\n",
              "      <td>Theory proposal\\n</td>\n",
              "      <td>Theory proposal\\n</td>\n",
              "      <td>2017.0</td>\n",
              "    </tr>\n",
              "    <tr>\n",
              "      <th>3396</th>\n",
              "      <td>The impact of personality traits on usersÕ inf...</td>\n",
              "      <td>Unlike prior results, older adults were outper...</td>\n",
              "      <td>IPM</td>\n",
              "      <td>Theory proposal\\n</td>\n",
              "      <td>Theory proposal\\n</td>\n",
              "      <td>Theory proposal\\n</td>\n",
              "      <td>2017.0</td>\n",
              "    </tr>\n",
              "    <tr>\n",
              "      <th>3397</th>\n",
              "      <td>The impact of personality traits on usersÕ inf...</td>\n",
              "      <td>In open-ended information problems, older adul...</td>\n",
              "      <td>IPM</td>\n",
              "      <td>Theory proposal\\n</td>\n",
              "      <td>Theory proposal\\n</td>\n",
              "      <td>Theory proposal\\n</td>\n",
              "      <td>2017.0</td>\n",
              "    </tr>\n",
              "  </tbody>\n",
              "</table>\n",
              "<p>3398 rows × 7 columns</p>\n",
              "</div>\n",
              "      <button class=\"colab-df-convert\" onclick=\"convertToInteractive('df-0f7f0451-cfaf-435f-9505-2832c86e1fc9')\"\n",
              "              title=\"Convert this dataframe to an interactive table.\"\n",
              "              style=\"display:none;\">\n",
              "        \n",
              "  <svg xmlns=\"http://www.w3.org/2000/svg\" height=\"24px\"viewBox=\"0 0 24 24\"\n",
              "       width=\"24px\">\n",
              "    <path d=\"M0 0h24v24H0V0z\" fill=\"none\"/>\n",
              "    <path d=\"M18.56 5.44l.94 2.06.94-2.06 2.06-.94-2.06-.94-.94-2.06-.94 2.06-2.06.94zm-11 1L8.5 8.5l.94-2.06 2.06-.94-2.06-.94L8.5 2.5l-.94 2.06-2.06.94zm10 10l.94 2.06.94-2.06 2.06-.94-2.06-.94-.94-2.06-.94 2.06-2.06.94z\"/><path d=\"M17.41 7.96l-1.37-1.37c-.4-.4-.92-.59-1.43-.59-.52 0-1.04.2-1.43.59L10.3 9.45l-7.72 7.72c-.78.78-.78 2.05 0 2.83L4 21.41c.39.39.9.59 1.41.59.51 0 1.02-.2 1.41-.59l7.78-7.78 2.81-2.81c.8-.78.8-2.07 0-2.86zM5.41 20L4 18.59l7.72-7.72 1.47 1.35L5.41 20z\"/>\n",
              "  </svg>\n",
              "      </button>\n",
              "      \n",
              "  <style>\n",
              "    .colab-df-container {\n",
              "      display:flex;\n",
              "      flex-wrap:wrap;\n",
              "      gap: 12px;\n",
              "    }\n",
              "\n",
              "    .colab-df-convert {\n",
              "      background-color: #E8F0FE;\n",
              "      border: none;\n",
              "      border-radius: 50%;\n",
              "      cursor: pointer;\n",
              "      display: none;\n",
              "      fill: #1967D2;\n",
              "      height: 32px;\n",
              "      padding: 0 0 0 0;\n",
              "      width: 32px;\n",
              "    }\n",
              "\n",
              "    .colab-df-convert:hover {\n",
              "      background-color: #E2EBFA;\n",
              "      box-shadow: 0px 1px 2px rgba(60, 64, 67, 0.3), 0px 1px 3px 1px rgba(60, 64, 67, 0.15);\n",
              "      fill: #174EA6;\n",
              "    }\n",
              "\n",
              "    [theme=dark] .colab-df-convert {\n",
              "      background-color: #3B4455;\n",
              "      fill: #D2E3FC;\n",
              "    }\n",
              "\n",
              "    [theme=dark] .colab-df-convert:hover {\n",
              "      background-color: #434B5C;\n",
              "      box-shadow: 0px 1px 3px 1px rgba(0, 0, 0, 0.15);\n",
              "      filter: drop-shadow(0px 1px 2px rgba(0, 0, 0, 0.3));\n",
              "      fill: #FFFFFF;\n",
              "    }\n",
              "  </style>\n",
              "\n",
              "      <script>\n",
              "        const buttonEl =\n",
              "          document.querySelector('#df-0f7f0451-cfaf-435f-9505-2832c86e1fc9 button.colab-df-convert');\n",
              "        buttonEl.style.display =\n",
              "          google.colab.kernel.accessAllowed ? 'block' : 'none';\n",
              "\n",
              "        async function convertToInteractive(key) {\n",
              "          const element = document.querySelector('#df-0f7f0451-cfaf-435f-9505-2832c86e1fc9');\n",
              "          const dataTable =\n",
              "            await google.colab.kernel.invokeFunction('convertToInteractive',\n",
              "                                                     [key], {});\n",
              "          if (!dataTable) return;\n",
              "\n",
              "          const docLinkHtml = 'Like what you see? Visit the ' +\n",
              "            '<a target=\"_blank\" href=https://colab.research.google.com/notebooks/data_table.ipynb>data table notebook</a>'\n",
              "            + ' to learn more about interactive tables.';\n",
              "          element.innerHTML = '';\n",
              "          dataTable['output_type'] = 'display_data';\n",
              "          await google.colab.output.renderOutput(dataTable, element);\n",
              "          const docLink = document.createElement('div');\n",
              "          docLink.innerHTML = docLinkHtml;\n",
              "          element.appendChild(docLink);\n",
              "        }\n",
              "      </script>\n",
              "    </div>\n",
              "  </div>\n",
              "  "
            ]
          },
          "metadata": {},
          "execution_count": 55
        }
      ]
    },
    {
      "cell_type": "code",
      "source": [
        "df['Annotation1']"
      ],
      "metadata": {
        "colab": {
          "base_uri": "https://localhost:8080/"
        },
        "id": "uTLn0-EpUZ43",
        "outputId": "2018bc18-26f1-42f0-f996-111522f548be"
      },
      "execution_count": 56,
      "outputs": [
        {
          "output_type": "execute_result",
          "data": {
            "text/plain": [
              "0       Algorithms/ Methods Construction or Optimization\n",
              "1                                      Theory proposal\\n\n",
              "2                                      Theory proposal\\n\n",
              "3                                      Theory proposal\\n\n",
              "4       Algorithms/ Methods Construction or Optimization\n",
              "                              ...                       \n",
              "3393                                   Theory proposal\\n\n",
              "3394                                   Theory proposal\\n\n",
              "3395                                   Theory proposal\\n\n",
              "3396                                   Theory proposal\\n\n",
              "3397                                   Theory proposal\\n\n",
              "Name: Annotation1, Length: 3398, dtype: object"
            ]
          },
          "metadata": {},
          "execution_count": 56
        }
      ]
    },
    {
      "cell_type": "code",
      "source": [
        "df['Annotation1'].replace(r'\\n',' ',inplace =True)\n",
        "df['Annotation1'].replace(r'/',' ',inplace =True)"
      ],
      "metadata": {
        "id": "fuKFQaFYmrDt"
      },
      "execution_count": 57,
      "outputs": []
    },
    {
      "cell_type": "code",
      "source": [
        "df['Annotation1'].unique()"
      ],
      "metadata": {
        "colab": {
          "base_uri": "https://localhost:8080/"
        },
        "id": "bqKI0lPBmrGE",
        "outputId": "38d3c9f4-e8e4-4949-d0cf-5a79de0c656e"
      },
      "execution_count": 58,
      "outputs": [
        {
          "output_type": "execute_result",
          "data": {
            "text/plain": [
              "array(['Algorithms/ Methods Construction or Optimization',\n",
              "       'Theory proposal\\n', 'Model Construction or Optimization',\n",
              "       'Resources', 'Performance Evaluation', 'Dataset creation ',\n",
              "       'Applications', ' \"Theory proposal\\n\"'], dtype=object)"
            ]
          },
          "metadata": {},
          "execution_count": 58
        }
      ]
    },
    {
      "cell_type": "code",
      "source": [
        "df['Annotation1']=df['Annotation1'].str.strip()\n",
        "df['Annotation2']=df['Annotation2'].str.strip()\n",
        "df['Annotation3']=df['Annotation3'].str.strip()\n"
      ],
      "metadata": {
        "id": "j3ksqC1HmrH-"
      },
      "execution_count": 59,
      "outputs": []
    },
    {
      "cell_type": "code",
      "source": [
        "values=[]\n",
        "for i in range(1,4):\n",
        "  for value in df['Annotation'+str(i)].unique():\n",
        "    if value not in values:\n",
        "      values.append(value)\n",
        "print(values)"
      ],
      "metadata": {
        "id": "aDKODU-UmrKz",
        "colab": {
          "base_uri": "https://localhost:8080/"
        },
        "outputId": "d6f6360b-2097-45dd-d044-99f053d75c18"
      },
      "execution_count": 60,
      "outputs": [
        {
          "output_type": "stream",
          "name": "stdout",
          "text": [
            "['Algorithms/ Methods Construction or Optimization', 'Theory proposal', 'Model Construction or Optimization', 'Resources', 'Performance Evaluation', 'Dataset creation', 'Applications', '\"Theory proposal\\n\"']\n"
          ]
        }
      ]
    },
    {
      "cell_type": "code",
      "source": [
        "label=dict()\n",
        "temp=1\n",
        "for value in values:\n",
        "  label[temp]=value\n",
        "  temp+=1\n",
        "print(label)"
      ],
      "metadata": {
        "colab": {
          "base_uri": "https://localhost:8080/"
        },
        "id": "BLx2fdez9QWK",
        "outputId": "32133834-c238-42d7-a086-866497c67807"
      },
      "execution_count": 61,
      "outputs": [
        {
          "output_type": "stream",
          "name": "stdout",
          "text": [
            "{1: 'Algorithms/ Methods Construction or Optimization', 2: 'Theory proposal', 3: 'Model Construction or Optimization', 4: 'Resources', 5: 'Performance Evaluation', 6: 'Dataset creation', 7: 'Applications', 8: '\"Theory proposal\\n\"'}\n"
          ]
        }
      ]
    },
    {
      "cell_type": "code",
      "source": [
        "for key in label:\n",
        "  df.loc[df.Annotation1 == label[key], 'Annotation1_new'] = key\n",
        "  df.loc[df.Annotation2 == label[key], 'Annotation2_new'] = key\n",
        "  df.loc[df.Annotation3 == label[key], 'Annotation3_new'] = key\n",
        "print(df.head().to_string())"
      ],
      "metadata": {
        "colab": {
          "base_uri": "https://localhost:8080/"
        },
        "id": "aOzGRZLB9QYo",
        "outputId": "47522209-f532-44a5-960b-b47bb68d1217"
      },
      "execution_count": 62,
      "outputs": [
        {
          "output_type": "stream",
          "name": "stdout",
          "text": [
            "                                                                                           Title of Article                                                                                                                                                                                                                                                                                               Contributions  Source                                       Annotation1                                       Annotation2                                       Annotation3  Year  Annotation1_new  Annotation2_new  Annotation3_new\n",
            "0  The measurement of ÒinterdisciplinarityÓ and ÒsynergyÓ in scientific and extra_scientific collaborations                                                                                                                 In this study, we discuss recent advances in the operationalization and measurement of Òinterdisciplinarity,Ó and propose a methodology for measuring ÒsynergyÓ based on information theory  JASIST  Algorithms/ Methods Construction or Optimization  Algorithms/ Methods Construction or Optimization  Algorithms/ Methods Construction or Optimization   NaN              1.0              1.0              1.0\n",
            "1                                                         Innovation adoption: Broadcasting versus virality                                                                                                                                                                                                   broadcasting and virality have similar diffusion power, but play different roles across diffusion stages.  JASIST                                   Theory proposal                                   Theory proposal                                   Theory proposal   NaN              2.0              2.0              2.0\n",
            "2                                  Discovering underlying sensations of human emotions based on social medi  we report the results of our study on sensation effects that underlie human emotions as revealed in social media. We focus on the key five types of sensations: sight, hearing, touch, smell, and taste. We first establish a correlation between emotion and sensation in terms of linguistic expressions  JASIST                                   Theory proposal  Algorithms/ Methods Construction or Optimization                                   Theory proposal   NaN              2.0              1.0              2.0\n",
            "3                                  Discovering underlying sensations of human emotions based on social medi                                                                                                                                                                                     in the second part of the paper, we define novel features useful for extracting sensation information from social media  JASIST                                   Theory proposal                                   Theory proposal                                   Theory proposal   NaN              2.0              2.0              2.0\n",
            "4                                  Discovering underlying sensations of human emotions based on social medi                                                                                                                                                                                                               we design a method to classify texts into ones associated with different types of sensations.  JASIST  Algorithms/ Methods Construction or Optimization                Model Construction or Optimization  Algorithms/ Methods Construction or Optimization   NaN              1.0              3.0              1.0\n"
          ]
        }
      ]
    },
    {
      "cell_type": "code",
      "source": [
        "print('Agreement Between Annotator 1 and Annotator 2')\n",
        "#Now I am calculating Observed agreement\n",
        "observedAgreement=len(df[df['Annotation1_new']==df['Annotation2_new']])/len(df['Annotation1_new'])\n",
        "print('Observed Agreement',observedAgreement)"
      ],
      "metadata": {
        "colab": {
          "base_uri": "https://localhost:8080/"
        },
        "id": "ywfjborv9QbK",
        "outputId": "2a9bd75a-b60b-4681-b4d0-7c777eaef8ff"
      },
      "execution_count": 63,
      "outputs": [
        {
          "output_type": "stream",
          "name": "stdout",
          "text": [
            "Agreement Between Annotator 1 and Annotator 2\n",
            "Observed Agreement 0.5712183637433784\n"
          ]
        }
      ]
    },
    {
      "cell_type": "code",
      "source": [
        "#Here I am calculating Chance agreement\n",
        "chanceAgreement=((len(df[df['Annotation1_new']==1])/len(df['Annotation1_new']))*(len(df[df['Annotation2_new']==1])/len(df['Annotation2_new'])))\\\n",
        "+((len(df[df['Annotation1_new']==2])/len(df['Annotation1_new']))*(len(df[df['Annotation2_new']==2])/len(df['Annotation2_new'])))\\\n",
        "+((len(df[df['Annotation1_new']==3])/len(df['Annotation1_new']))*(len(df[df['Annotation2_new']==3])/len(df['Annotation2_new'])))\\\n",
        "+((len(df[df['Annotation1_new']==4])/len(df['Annotation1_new']))*(len(df[df['Annotation2_new']==4])/len(df['Annotation2_new'])))\\\n",
        "+((len(df[df['Annotation1_new']==5])/len(df['Annotation1_new']))*(len(df[df['Annotation2_new']==5])/len(df['Annotation2_new'])))\\\n",
        "+((len(df[df['Annotation1_new']==6])/len(df['Annotation1_new']))*(len(df[df['Annotation2_new']==6])/len(df['Annotation2_new'])))\n",
        "print('Chance Agreement',chanceAgreement)"
      ],
      "metadata": {
        "colab": {
          "base_uri": "https://localhost:8080/"
        },
        "id": "bOlqSVH79Qdv",
        "outputId": "68a21906-038a-4724-cb98-9da5a730dea6"
      },
      "execution_count": 64,
      "outputs": [
        {
          "output_type": "stream",
          "name": "stdout",
          "text": [
            "Chance Agreement 0.2488316708821205\n"
          ]
        }
      ]
    },
    {
      "cell_type": "code",
      "source": [
        "#Here I am calculating cohen kappa score\n",
        "score1=(observedAgreement-chanceAgreement)/(1-chanceAgreement)\n",
        "print('Cohen\\'s Kappa Score',score1)"
      ],
      "metadata": {
        "colab": {
          "base_uri": "https://localhost:8080/"
        },
        "id": "MOCYtNlZ9QgY",
        "outputId": "3953afa4-4b16-4458-f4aa-a9cc46b830b8"
      },
      "execution_count": 65,
      "outputs": [
        {
          "output_type": "stream",
          "name": "stdout",
          "text": [
            "Cohen's Kappa Score 0.42918035860197506\n"
          ]
        }
      ]
    },
    {
      "cell_type": "code",
      "source": [
        "print('Agreement Between Annotator 2 and Annotator 3')\n",
        "#Here calculating Observed agreement\n",
        "observedAgreement=len(df[df['Annotation2_new']==df['Annotation3_new']])/len(df['Annotation2_new'])\n",
        "print('Observed Agreement',observedAgreement)"
      ],
      "metadata": {
        "colab": {
          "base_uri": "https://localhost:8080/"
        },
        "id": "Yuc8rcMq9QjD",
        "outputId": "afe58689-e366-4769-bac9-0ffb8e070042"
      },
      "execution_count": 66,
      "outputs": [
        {
          "output_type": "stream",
          "name": "stdout",
          "text": [
            "Agreement Between Annotator 2 and Annotator 3\n",
            "Observed Agreement 0.6439081812831077\n"
          ]
        }
      ]
    },
    {
      "cell_type": "code",
      "source": [
        "#Now calculating Chance agreement\n",
        "chanceAgreement=((len(df[df['Annotation2_new']==1])/len(df['Annotation2_new']))*(len(df[df['Annotation3_new']==1])/len(df['Annotation3_new'])))\\\n",
        "+((len(df[df['Annotation2_new']==2])/len(df['Annotation2_new']))*(len(df[df['Annotation3_new']==2])/len(df['Annotation3_new'])))\\\n",
        "+((len(df[df['Annotation2_new']==3])/len(df['Annotation2_new']))*(len(df[df['Annotation3_new']==3])/len(df['Annotation3_new'])))\\\n",
        "+((len(df[df['Annotation2_new']==4])/len(df['Annotation2_new']))*(len(df[df['Annotation3_new']==4])/len(df['Annotation3_new'])))\\\n",
        "+((len(df[df['Annotation2_new']==5])/len(df['Annotation2_new']))*(len(df[df['Annotation3_new']==5])/len(df['Annotation3_new'])))\\\n",
        "+((len(df[df['Annotation2_new']==6])/len(df['Annotation2_new']))*(len(df[df['Annotation3_new']==6])/len(df['Annotation3_new'])))\n",
        "print('Chance Agreement',chanceAgreement)"
      ],
      "metadata": {
        "colab": {
          "base_uri": "https://localhost:8080/"
        },
        "id": "Nllxc6j09Qld",
        "outputId": "8df305e4-4736-47d6-ea39-d804f7d1e8ca"
      },
      "execution_count": 67,
      "outputs": [
        {
          "output_type": "stream",
          "name": "stdout",
          "text": [
            "Chance Agreement 0.2566239670810063\n"
          ]
        }
      ]
    },
    {
      "cell_type": "code",
      "source": [
        "#calculating the cohen kappa score\n",
        "score2=(observedAgreement-chanceAgreement)/(1-chanceAgreement)\n",
        "print('Cohen\\'s Kappa Score',score2)"
      ],
      "metadata": {
        "colab": {
          "base_uri": "https://localhost:8080/"
        },
        "id": "soBlBzzV96yJ",
        "outputId": "a6cf2293-731c-47ab-b2be-66f121399caf"
      },
      "execution_count": 68,
      "outputs": [
        {
          "output_type": "stream",
          "name": "stdout",
          "text": [
            "Cohen's Kappa Score 0.5209802267654008\n"
          ]
        }
      ]
    },
    {
      "cell_type": "code",
      "source": [
        "print('Agreement Between Annotator 1 and Annotator 3')\n",
        "#Here I am calculating Observed agreement\n",
        "observedAgreement=len(df[df['Annotation1_new']==df['Annotation3_new']])/len(df['Annotation1_new'])\n",
        "print('Observed Agreement',observedAgreement)"
      ],
      "metadata": {
        "colab": {
          "base_uri": "https://localhost:8080/"
        },
        "id": "KEBwygQ5960l",
        "outputId": "9389b083-da42-4df5-e8f3-08c6c7fd6c3c"
      },
      "execution_count": 69,
      "outputs": [
        {
          "output_type": "stream",
          "name": "stdout",
          "text": [
            "Agreement Between Annotator 1 and Annotator 3\n",
            "Observed Agreement 0.7489699823425544\n"
          ]
        }
      ]
    },
    {
      "cell_type": "code",
      "source": [
        "#Now calculating Chance agreement\n",
        "chanceAgreement=((len(df[df['Annotation1_new']==1])/len(df['Annotation1_new']))*(len(df[df['Annotation3_new']==1])/len(df['Annotation3_new'])))\\\n",
        "+((len(df[df['Annotation1_new']==2])/len(df['Annotation1_new']))*(len(df[df['Annotation3_new']==2])/len(df['Annotation3_new'])))\\\n",
        "+((len(df[df['Annotation1_new']==3])/len(df['Annotation1_new']))*(len(df[df['Annotation3_new']==3])/len(df['Annotation3_new'])))\\\n",
        "+((len(df[df['Annotation1_new']==4])/len(df['Annotation1_new']))*(len(df[df['Annotation3_new']==4])/len(df['Annotation3_new'])))\\\n",
        "+((len(df[df['Annotation1_new']==5])/len(df['Annotation1_new']))*(len(df[df['Annotation3_new']==5])/len(df['Annotation3_new'])))\\\n",
        "+((len(df[df['Annotation1_new']==6])/len(df['Annotation1_new']))*(len(df[df['Annotation3_new']==6])/len(df['Annotation3_new'])))\n",
        "print('Chance Agreement',chanceAgreement)"
      ],
      "metadata": {
        "colab": {
          "base_uri": "https://localhost:8080/"
        },
        "id": "JDY1LrkU962x",
        "outputId": "5e76aef8-1eac-4f7b-c400-b7b42b826f6f"
      },
      "execution_count": 70,
      "outputs": [
        {
          "output_type": "stream",
          "name": "stdout",
          "text": [
            "Chance Agreement 0.238087200136077\n"
          ]
        }
      ]
    },
    {
      "cell_type": "code",
      "source": [
        "#calculating the cohen kappa score\n",
        "score3=(observedAgreement-chanceAgreement)/(1-chanceAgreement)\n",
        "print('Cohen\\'s Kappa Score',score3)"
      ],
      "metadata": {
        "colab": {
          "base_uri": "https://localhost:8080/"
        },
        "id": "ul-umuZ4965T",
        "outputId": "7359b42e-242f-4c3b-c7af-c1899c3353b7"
      },
      "execution_count": 71,
      "outputs": [
        {
          "output_type": "stream",
          "name": "stdout",
          "text": [
            "Cohen's Kappa Score 0.6705265777103635\n"
          ]
        }
      ]
    },
    {
      "cell_type": "code",
      "source": [
        "#The final score is obtained by average of the three\n",
        "final=(score1+score2+score3)/3\n",
        "print('Average Cohen\\'s Kappa Score for three annotations',final)\n",
        "print('The Agreement is Moderate')"
      ],
      "metadata": {
        "colab": {
          "base_uri": "https://localhost:8080/"
        },
        "id": "fu3b6NNV9671",
        "outputId": "cf3bd274-dcd8-4481-b27b-a814def1f58f"
      },
      "execution_count": 72,
      "outputs": [
        {
          "output_type": "stream",
          "name": "stdout",
          "text": [
            "Average Cohen's Kappa Score for three annotations 0.5402290543592464\n",
            "The Agreement is Moderate\n"
          ]
        }
      ]
    },
    {
      "cell_type": "code",
      "source": [
        "!pip install krippendorff"
      ],
      "metadata": {
        "colab": {
          "base_uri": "https://localhost:8080/"
        },
        "id": "giyo5BICFpHy",
        "outputId": "a102473b-6ce9-43dc-f063-64632a9882f7"
      },
      "execution_count": 73,
      "outputs": [
        {
          "output_type": "stream",
          "name": "stdout",
          "text": [
            "Requirement already satisfied: krippendorff in /usr/local/lib/python3.7/dist-packages (0.5.1)\n",
            "Requirement already satisfied: numpy in /usr/local/lib/python3.7/dist-packages (from krippendorff) (1.21.6)\n"
          ]
        }
      ]
    },
    {
      "cell_type": "code",
      "source": [
        "import krippendorff"
      ],
      "metadata": {
        "id": "nVk2FvEnFpbO"
      },
      "execution_count": 74,
      "outputs": []
    },
    {
      "cell_type": "code",
      "source": [
        "newdata=[list(df['Annotation1_new'].values),\n",
        "        list(df['Annotation2_new'].values),\n",
        "        list(df['Annotation3_new'].values)]"
      ],
      "metadata": {
        "id": "o2-oi2X2S-bR"
      },
      "execution_count": 75,
      "outputs": []
    },
    {
      "cell_type": "code",
      "source": [
        "score = krippendorff.alpha(newdata)\n",
        "print(\"Fleiss kappa score is:\", round(score, 2))"
      ],
      "metadata": {
        "colab": {
          "base_uri": "https://localhost:8080/"
        },
        "id": "5szTaR-4S-eM",
        "outputId": "848724ac-4fd8-4c2e-c541-476c4a4414b0"
      },
      "execution_count": 76,
      "outputs": [
        {
          "output_type": "stream",
          "name": "stdout",
          "text": [
            "Fleiss kappa score is: 0.51\n"
          ]
        }
      ]
    },
    {
      "cell_type": "markdown",
      "metadata": {
        "id": "zGU_bChqROyf"
      },
      "source": [
        "### Question 2 (25 points) \n",
        "\n",
        "Normal distribution is the default probability for many real world scenarios. It represents a symmetric distribution where most of the observations cluster around the central peak called as mean of the distribution. A normal distribution can be thought of as a bell curve or Gaussian Distribution which typically has two parameters: mean and standard deviation (SD). The parameter used to measure the variability of observations around the mean is called as standard deviation. The probabilities for values occurring near mean are higher than the values far away from the mean. The parameters of the normal distribution plot defining the shape and the probabilities are mean and standard deviation. The area of the plot between two different points in the normal distribution plot represents the probability of the value occurring between those two points.\n",
        "\n",
        "Please generate the nromal distribution for the following cases suing Python:\n",
        "\n",
        "(1) IQ scores (the mean is typically 100, SD = 15)\n",
        "\n",
        "(2) Marks of students in a class (mean = 60, SD = 20)\n",
        "\n",
        "(3) Measure of weight (mean = 80 kg, SD = 10)\n",
        "\n",
        "(4) Measure of blood pressure (mean = 120/80, SD = 20)\n",
        "\n",
        "(5) Measure of wealth (measurement in money; mean = $50,000 , SD = $100)"
      ]
    },
    {
      "cell_type": "code",
      "execution_count": 77,
      "metadata": {
        "colab": {
          "base_uri": "https://localhost:8080/",
          "height": 367
        },
        "id": "B_dYy6WjROyg",
        "outputId": "923d4365-6013-4099-987c-baf55bcfd0cd"
      },
      "outputs": [
        {
          "output_type": "stream",
          "name": "stderr",
          "text": [
            "/usr/local/lib/python3.7/dist-packages/seaborn/distributions.py:2619: FutureWarning: `distplot` is a deprecated function and will be removed in a future version. Please adapt your code to use either `displot` (a figure-level function with similar flexibility) or `kdeplot` (an axes-level function for kernel density plots).\n",
            "  warnings.warn(msg, FutureWarning)\n"
          ]
        },
        {
          "output_type": "display_data",
          "data": {
            "text/plain": [
              "<IPython.core.display.Javascript object>"
            ],
            "application/javascript": [
              "\n",
              "        if (window._pyforest_update_imports_cell) { window._pyforest_update_imports_cell('from sklearn.feature_extraction.text import TfidfVectorizer\\nimport plotly as py\\nimport numpy as np\\nimport pickle\\nimport plotly.express as px\\nimport imutils\\nimport nltk\\nfrom sklearn.manifold import TSNE\\nimport matplotlib.pyplot as plt\\nimport keras\\nimport pydot\\nimport pandas as pd'); }\n",
              "    "
            ]
          },
          "metadata": {}
        },
        {
          "output_type": "display_data",
          "data": {
            "text/plain": [
              "<IPython.core.display.Javascript object>"
            ],
            "application/javascript": [
              "\n",
              "        if (window._pyforest_update_imports_cell) { window._pyforest_update_imports_cell('from sklearn.feature_extraction.text import TfidfVectorizer\\nimport plotly as py\\nimport numpy as np\\nimport pickle\\nimport plotly.express as px\\nimport imutils\\nimport nltk\\nfrom sklearn.manifold import TSNE\\nimport matplotlib.pyplot as plt\\nimport keras\\nimport pydot\\nimport pandas as pd'); }\n",
              "    "
            ]
          },
          "metadata": {}
        },
        {
          "output_type": "display_data",
          "data": {
            "text/plain": [
              "<IPython.core.display.Javascript object>"
            ],
            "application/javascript": [
              "\n",
              "        if (window._pyforest_update_imports_cell) { window._pyforest_update_imports_cell('from sklearn.feature_extraction.text import TfidfVectorizer\\nimport plotly as py\\nimport numpy as np\\nimport pickle\\nimport plotly.express as px\\nimport imutils\\nimport nltk\\nfrom sklearn.manifold import TSNE\\nimport matplotlib.pyplot as plt\\nimport keras\\nimport pydot\\nimport pandas as pd'); }\n",
              "    "
            ]
          },
          "metadata": {}
        },
        {
          "output_type": "execute_result",
          "data": {
            "text/plain": [
              "<function matplotlib.pyplot.show>"
            ]
          },
          "metadata": {},
          "execution_count": 77
        },
        {
          "output_type": "display_data",
          "data": {
            "text/plain": [
              "<Figure size 432x288 with 1 Axes>"
            ],
            "image/png": "[encoded data removed]"
          },
          "metadata": {
            "needs_background": "light"
          }
        }
      ],
      "source": [
        "# your code here\n",
        "#Question 1 : IQ scores (the mean is typically 100, SD = 15)\n",
        "import pyforest\n",
        "import scipy.stats\n",
        "import math\n",
        "import seaborn as sns\n",
        "from numpy import random\n",
        "sns.distplot(random.normal(loc = 100, scale = 15, size = 200), hist = False)\n",
        "plt.title('IQ Scores')\n",
        "plt.xlabel('IQ Scores')\n",
        "plt.show\n"
      ]
    },
    {
      "cell_type": "code",
      "source": [
        "#Question 2 : Marks of students in a class (mean = 60, SD = 20)\n",
        "sns.distplot(random.normal(loc = 60, scale = 20, size = 200), hist = False)\n",
        "plt.title('Marks of Students in a Class')\n",
        "plt.xlabel('Students Marks')\n",
        "plt.show\n",
        "#mu = 60\n",
        "#sigma = 20\n",
        "#z = np.linspace(mu-3*sigma, mu+3*sigma, 100)\n",
        "##plt.plot(z, scipy.stats.norm.pdf(z, mu, sigma))\n",
        "#plt.xlabel('Marks of students in the class')\n",
        "#plt.show\n"
      ],
      "metadata": {
        "colab": {
          "base_uri": "https://localhost:8080/",
          "height": 367
        },
        "id": "K9zNQJbZcbfB",
        "outputId": "9487a01a-db95-43f3-bb24-3e72d347c182"
      },
      "execution_count": 78,
      "outputs": [
        {
          "output_type": "stream",
          "name": "stderr",
          "text": [
            "/usr/local/lib/python3.7/dist-packages/seaborn/distributions.py:2619: FutureWarning: `distplot` is a deprecated function and will be removed in a future version. Please adapt your code to use either `displot` (a figure-level function with similar flexibility) or `kdeplot` (an axes-level function for kernel density plots).\n",
            "  warnings.warn(msg, FutureWarning)\n"
          ]
        },
        {
          "output_type": "display_data",
          "data": {
            "text/plain": [
              "<IPython.core.display.Javascript object>"
            ],
            "application/javascript": [
              "\n",
              "        if (window._pyforest_update_imports_cell) { window._pyforest_update_imports_cell('from sklearn.feature_extraction.text import TfidfVectorizer\\nimport plotly as py\\nimport numpy as np\\nimport pickle\\nimport plotly.express as px\\nimport imutils\\nimport nltk\\nfrom sklearn.manifold import TSNE\\nimport matplotlib.pyplot as plt\\nimport keras\\nimport pydot\\nimport pandas as pd'); }\n",
              "    "
            ]
          },
          "metadata": {}
        },
        {
          "output_type": "display_data",
          "data": {
            "text/plain": [
              "<IPython.core.display.Javascript object>"
            ],
            "application/javascript": [
              "\n",
              "        if (window._pyforest_update_imports_cell) { window._pyforest_update_imports_cell('from sklearn.feature_extraction.text import TfidfVectorizer\\nimport plotly as py\\nimport numpy as np\\nimport pickle\\nimport plotly.express as px\\nimport imutils\\nimport nltk\\nfrom sklearn.manifold import TSNE\\nimport matplotlib.pyplot as plt\\nimport keras\\nimport pydot\\nimport pandas as pd'); }\n",
              "    "
            ]
          },
          "metadata": {}
        },
        {
          "output_type": "display_data",
          "data": {
            "text/plain": [
              "<IPython.core.display.Javascript object>"
            ],
            "application/javascript": [
              "\n",
              "        if (window._pyforest_update_imports_cell) { window._pyforest_update_imports_cell('from sklearn.feature_extraction.text import TfidfVectorizer\\nimport plotly as py\\nimport numpy as np\\nimport pickle\\nimport plotly.express as px\\nimport imutils\\nimport nltk\\nfrom sklearn.manifold import TSNE\\nimport matplotlib.pyplot as plt\\nimport keras\\nimport pydot\\nimport pandas as pd'); }\n",
              "    "
            ]
          },
          "metadata": {}
        },
        {
          "output_type": "execute_result",
          "data": {
            "text/plain": [
              "<function matplotlib.pyplot.show>"
            ]
          },
          "metadata": {},
          "execution_count": 78
        },
        {
          "output_type": "display_data",
          "data": {
            "text/plain": [
              "<Figure size 432x288 with 1 Axes>"
            ],
            "image/png": "[encoded data removed]"
          },
          "metadata": {
            "needs_background": "light"
          }
        }
      ]
    },
    {
      "cell_type": "code",
      "source": [
        "#Question 3: Measure of weight (mean = 80 kg, SD = 10)\n",
        "mu = 80\n",
        "sigma = 10\n",
        "z = np.linspace(mu-3*sigma, mu+3*sigma, 100)\n",
        "plt.plot(z, scipy.stats.norm.pdf(z, mu, sigma))\n",
        "plt.title('Measurement of Weight')\n",
        "plt.xlabel('Measurement of Weight')\n",
        "plt.show\n"
      ],
      "metadata": {
        "colab": {
          "base_uri": "https://localhost:8080/",
          "height": 312
        },
        "id": "Ixce4DepdSNG",
        "outputId": "beee20db-47f6-4ee2-ce33-934006cafe29"
      },
      "execution_count": 79,
      "outputs": [
        {
          "output_type": "display_data",
          "data": {
            "text/plain": [
              "<IPython.core.display.Javascript object>"
            ],
            "application/javascript": [
              "\n",
              "        if (window._pyforest_update_imports_cell) { window._pyforest_update_imports_cell('from sklearn.feature_extraction.text import TfidfVectorizer\\nimport plotly as py\\nimport numpy as np\\nimport pickle\\nimport plotly.express as px\\nimport imutils\\nimport nltk\\nfrom sklearn.manifold import TSNE\\nimport matplotlib.pyplot as plt\\nimport keras\\nimport pydot\\nimport pandas as pd'); }\n",
              "    "
            ]
          },
          "metadata": {}
        },
        {
          "output_type": "display_data",
          "data": {
            "text/plain": [
              "<IPython.core.display.Javascript object>"
            ],
            "application/javascript": [
              "\n",
              "        if (window._pyforest_update_imports_cell) { window._pyforest_update_imports_cell('from sklearn.feature_extraction.text import TfidfVectorizer\\nimport plotly as py\\nimport numpy as np\\nimport pickle\\nimport plotly.express as px\\nimport imutils\\nimport nltk\\nfrom sklearn.manifold import TSNE\\nimport matplotlib.pyplot as plt\\nimport keras\\nimport pydot\\nimport pandas as pd'); }\n",
              "    "
            ]
          },
          "metadata": {}
        },
        {
          "output_type": "display_data",
          "data": {
            "text/plain": [
              "<IPython.core.display.Javascript object>"
            ],
            "application/javascript": [
              "\n",
              "        if (window._pyforest_update_imports_cell) { window._pyforest_update_imports_cell('from sklearn.feature_extraction.text import TfidfVectorizer\\nimport plotly as py\\nimport numpy as np\\nimport pickle\\nimport plotly.express as px\\nimport imutils\\nimport nltk\\nfrom sklearn.manifold import TSNE\\nimport matplotlib.pyplot as plt\\nimport keras\\nimport pydot\\nimport pandas as pd'); }\n",
              "    "
            ]
          },
          "metadata": {}
        },
        {
          "output_type": "display_data",
          "data": {
            "text/plain": [
              "<IPython.core.display.Javascript object>"
            ],
            "application/javascript": [
              "\n",
              "        if (window._pyforest_update_imports_cell) { window._pyforest_update_imports_cell('from sklearn.feature_extraction.text import TfidfVectorizer\\nimport plotly as py\\nimport numpy as np\\nimport pickle\\nimport plotly.express as px\\nimport imutils\\nimport nltk\\nfrom sklearn.manifold import TSNE\\nimport matplotlib.pyplot as plt\\nimport keras\\nimport pydot\\nimport pandas as pd'); }\n",
              "    "
            ]
          },
          "metadata": {}
        },
        {
          "output_type": "display_data",
          "data": {
            "text/plain": [
              "<IPython.core.display.Javascript object>"
            ],
            "application/javascript": [
              "\n",
              "        if (window._pyforest_update_imports_cell) { window._pyforest_update_imports_cell('from sklearn.feature_extraction.text import TfidfVectorizer\\nimport plotly as py\\nimport numpy as np\\nimport pickle\\nimport plotly.express as px\\nimport imutils\\nimport nltk\\nfrom sklearn.manifold import TSNE\\nimport matplotlib.pyplot as plt\\nimport keras\\nimport pydot\\nimport pandas as pd'); }\n",
              "    "
            ]
          },
          "metadata": {}
        },
        {
          "output_type": "execute_result",
          "data": {
            "text/plain": [
              "<function matplotlib.pyplot.show>"
            ]
          },
          "metadata": {},
          "execution_count": 79
        },
        {
          "output_type": "display_data",
          "data": {
            "text/plain": [
              "<Figure size 432x288 with 1 Axes>"
            ],
            "image/png": "[encoded data removed]"
          },
          "metadata": {
            "needs_background": "light"
          }
        }
      ]
    },
    {
      "cell_type": "code",
      "source": [
        "#Question 4: Measure of blood pressure (mean = 120/80, SD = 20)\n",
        "mu = 120\n",
        "sigma = 20\n",
        "z = np.linspace(mu-3*sigma, mu+3*sigma, 100)\n",
        "plt.plot(z, scipy.stats.norm.pdf(z, mu, sigma))\n",
        "plt.title('Blood Pressure Measurement')\n",
        "plt.xlabel('Blood Preasure')\n",
        "plt.show\n"
      ],
      "metadata": {
        "colab": {
          "base_uri": "https://localhost:8080/",
          "height": 312
        },
        "id": "qqZlUQaudb7I",
        "outputId": "58e3e267-3e73-4d70-8b4a-98da586eb5f8"
      },
      "execution_count": 80,
      "outputs": [
        {
          "output_type": "display_data",
          "data": {
            "text/plain": [
              "<IPython.core.display.Javascript object>"
            ],
            "application/javascript": [
              "\n",
              "        if (window._pyforest_update_imports_cell) { window._pyforest_update_imports_cell('from sklearn.feature_extraction.text import TfidfVectorizer\\nimport plotly as py\\nimport numpy as np\\nimport pickle\\nimport plotly.express as px\\nimport imutils\\nimport nltk\\nfrom sklearn.manifold import TSNE\\nimport matplotlib.pyplot as plt\\nimport keras\\nimport pydot\\nimport pandas as pd'); }\n",
              "    "
            ]
          },
          "metadata": {}
        },
        {
          "output_type": "display_data",
          "data": {
            "text/plain": [
              "<IPython.core.display.Javascript object>"
            ],
            "application/javascript": [
              "\n",
              "        if (window._pyforest_update_imports_cell) { window._pyforest_update_imports_cell('from sklearn.feature_extraction.text import TfidfVectorizer\\nimport plotly as py\\nimport numpy as np\\nimport pickle\\nimport plotly.express as px\\nimport imutils\\nimport nltk\\nfrom sklearn.manifold import TSNE\\nimport matplotlib.pyplot as plt\\nimport keras\\nimport pydot\\nimport pandas as pd'); }\n",
              "    "
            ]
          },
          "metadata": {}
        },
        {
          "output_type": "display_data",
          "data": {
            "text/plain": [
              "<IPython.core.display.Javascript object>"
            ],
            "application/javascript": [
              "\n",
              "        if (window._pyforest_update_imports_cell) { window._pyforest_update_imports_cell('from sklearn.feature_extraction.text import TfidfVectorizer\\nimport plotly as py\\nimport numpy as np\\nimport pickle\\nimport plotly.express as px\\nimport imutils\\nimport nltk\\nfrom sklearn.manifold import TSNE\\nimport matplotlib.pyplot as plt\\nimport keras\\nimport pydot\\nimport pandas as pd'); }\n",
              "    "
            ]
          },
          "metadata": {}
        },
        {
          "output_type": "display_data",
          "data": {
            "text/plain": [
              "<IPython.core.display.Javascript object>"
            ],
            "application/javascript": [
              "\n",
              "        if (window._pyforest_update_imports_cell) { window._pyforest_update_imports_cell('from sklearn.feature_extraction.text import TfidfVectorizer\\nimport plotly as py\\nimport numpy as np\\nimport pickle\\nimport plotly.express as px\\nimport imutils\\nimport nltk\\nfrom sklearn.manifold import TSNE\\nimport matplotlib.pyplot as plt\\nimport keras\\nimport pydot\\nimport pandas as pd'); }\n",
              "    "
            ]
          },
          "metadata": {}
        },
        {
          "output_type": "display_data",
          "data": {
            "text/plain": [
              "<IPython.core.display.Javascript object>"
            ],
            "application/javascript": [
              "\n",
              "        if (window._pyforest_update_imports_cell) { window._pyforest_update_imports_cell('from sklearn.feature_extraction.text import TfidfVectorizer\\nimport plotly as py\\nimport numpy as np\\nimport pickle\\nimport plotly.express as px\\nimport imutils\\nimport nltk\\nfrom sklearn.manifold import TSNE\\nimport matplotlib.pyplot as plt\\nimport keras\\nimport pydot\\nimport pandas as pd'); }\n",
              "    "
            ]
          },
          "metadata": {}
        },
        {
          "output_type": "execute_result",
          "data": {
            "text/plain": [
              "<function matplotlib.pyplot.show>"
            ]
          },
          "metadata": {},
          "execution_count": 80
        },
        {
          "output_type": "display_data",
          "data": {
            "text/plain": [
              "<Figure size 432x288 with 1 Axes>"
            ],
            "image/png": "[encoded data removed]"
          },
          "metadata": {
            "needs_background": "light"
          }
        }
      ]
    },
    {
      "cell_type": "code",
      "source": [
        "#Question 5: Measure of wealth (measurement in money; mean =  50,000,SD= 100)\n",
        "mu = 50000\n",
        "sigma = 100\n",
        "z = np.linspace(mu-3*sigma, mu+3*sigma, 100)\n",
        "plt.plot(z, scipy.stats.norm.pdf(z, mu, sigma))\n",
        "plt.title('Wealth Measurement')\n",
        "plt.xlabel('Measurement of Wealth')\n",
        "plt.show\n"
      ],
      "metadata": {
        "colab": {
          "base_uri": "https://localhost:8080/",
          "height": 312
        },
        "id": "fHinZvYbdqqt",
        "outputId": "5db00b2b-5851-49ec-8825-56762a166341"
      },
      "execution_count": 81,
      "outputs": [
        {
          "output_type": "display_data",
          "data": {
            "text/plain": [
              "<IPython.core.display.Javascript object>"
            ],
            "application/javascript": [
              "\n",
              "        if (window._pyforest_update_imports_cell) { window._pyforest_update_imports_cell('from sklearn.feature_extraction.text import TfidfVectorizer\\nimport plotly as py\\nimport numpy as np\\nimport pickle\\nimport plotly.express as px\\nimport imutils\\nimport nltk\\nfrom sklearn.manifold import TSNE\\nimport matplotlib.pyplot as plt\\nimport keras\\nimport pydot\\nimport pandas as pd'); }\n",
              "    "
            ]
          },
          "metadata": {}
        },
        {
          "output_type": "display_data",
          "data": {
            "text/plain": [
              "<IPython.core.display.Javascript object>"
            ],
            "application/javascript": [
              "\n",
              "        if (window._pyforest_update_imports_cell) { window._pyforest_update_imports_cell('from sklearn.feature_extraction.text import TfidfVectorizer\\nimport plotly as py\\nimport numpy as np\\nimport pickle\\nimport plotly.express as px\\nimport imutils\\nimport nltk\\nfrom sklearn.manifold import TSNE\\nimport matplotlib.pyplot as plt\\nimport keras\\nimport pydot\\nimport pandas as pd'); }\n",
              "    "
            ]
          },
          "metadata": {}
        },
        {
          "output_type": "display_data",
          "data": {
            "text/plain": [
              "<IPython.core.display.Javascript object>"
            ],
            "application/javascript": [
              "\n",
              "        if (window._pyforest_update_imports_cell) { window._pyforest_update_imports_cell('from sklearn.feature_extraction.text import TfidfVectorizer\\nimport plotly as py\\nimport numpy as np\\nimport pickle\\nimport plotly.express as px\\nimport imutils\\nimport nltk\\nfrom sklearn.manifold import TSNE\\nimport matplotlib.pyplot as plt\\nimport keras\\nimport pydot\\nimport pandas as pd'); }\n",
              "    "
            ]
          },
          "metadata": {}
        },
        {
          "output_type": "display_data",
          "data": {
            "text/plain": [
              "<IPython.core.display.Javascript object>"
            ],
            "application/javascript": [
              "\n",
              "        if (window._pyforest_update_imports_cell) { window._pyforest_update_imports_cell('from sklearn.feature_extraction.text import TfidfVectorizer\\nimport plotly as py\\nimport numpy as np\\nimport pickle\\nimport plotly.express as px\\nimport imutils\\nimport nltk\\nfrom sklearn.manifold import TSNE\\nimport matplotlib.pyplot as plt\\nimport keras\\nimport pydot\\nimport pandas as pd'); }\n",
              "    "
            ]
          },
          "metadata": {}
        },
        {
          "output_type": "display_data",
          "data": {
            "text/plain": [
              "<IPython.core.display.Javascript object>"
            ],
            "application/javascript": [
              "\n",
              "        if (window._pyforest_update_imports_cell) { window._pyforest_update_imports_cell('from sklearn.feature_extraction.text import TfidfVectorizer\\nimport plotly as py\\nimport numpy as np\\nimport pickle\\nimport plotly.express as px\\nimport imutils\\nimport nltk\\nfrom sklearn.manifold import TSNE\\nimport matplotlib.pyplot as plt\\nimport keras\\nimport pydot\\nimport pandas as pd'); }\n",
              "    "
            ]
          },
          "metadata": {}
        },
        {
          "output_type": "execute_result",
          "data": {
            "text/plain": [
              "<function matplotlib.pyplot.show>"
            ]
          },
          "metadata": {},
          "execution_count": 81
        },
        {
          "output_type": "display_data",
          "data": {
            "text/plain": [
              "<Figure size 432x288 with 1 Axes>"
            ],
            "image/png": "[encoded data removed]"
          },
          "metadata": {
            "needs_background": "light"
          }
        }
      ]
    }
  ],
  "metadata": {
    "kernelspec": {
      "display_name": "Python 3",
      "language": "python",
      "name": "python3"
    },
    "language_info": {
      "codemirror_mode": {
        "name": "ipython",
        "version": 3
      },
      "file_extension": ".py",
      "mimetype": "text/x-python",
      "name": "python",
      "nbconvert_exporter": "python",
      "pygments_lexer": "ipython3",
      "version": "3.8.5"
    },
    "colab": {
      "name": "lab_assignment_10.ipynb",
      "provenance": [],
      "collapsed_sections": [],
      "include_colab_link": true
    }
  },
  "nbformat": 4,
  "nbformat_minor": 0
}