{
  "cells": [
    {
      "cell_type": "markdown",
      "metadata": {
        "id": "view-in-github",
        "colab_type": "text"
      },
      "source": [
        "<a href=\"https://colab.research.google.com/github/AmithReddyKasarla/AmithReddy_INFO5502_-Spring2022/blob/main/lab_assignment_07.ipynb\" target=\"_parent\"><img src=\"https://colab.research.google.com/assets/colab-badge.svg\" alt=\"Open In Colab\"/></a>"
      ]
    },
    {
      "cell_type": "markdown",
      "metadata": {
        "id": "iCGi3uTf4Yq_"
      },
      "source": [
        "## The seventh Lab-assignment (03/31/2022, 50 points in total)"
      ]
    },
    {
      "cell_type": "markdown",
      "metadata": {
        "id": "AXYqBc2p4YrD"
      },
      "source": [
        "The purpose of this exercise is to build several regression models based on real-world datasets. "
      ]
    },
    {
      "cell_type": "markdown",
      "metadata": {
        "id": "O6DcWRaB4YrD"
      },
      "source": [
        "### Question 1 (25 points) Build a regession model to predict the change in price of the stock overtime. It can either be linear regression or non-linear regression. You can download the dataset from here: https://github.com/unt-iialab/info5502-spring2022/blob/main/datasets/portfolio_data.csv. The implementation of the LSTM on this same dataset was posted here as an reference: https://www.kaggle.com/code/faressayah/stock-market-analysis-prediction-using-lstm/notebook"
      ]
    },
    {
      "cell_type": "code",
      "execution_count": 169,
      "metadata": {
        "colab": {
          "base_uri": "https://localhost:8080/"
        },
        "id": "vX3upA324YrE",
        "outputId": "33d7848c-7271-4cd9-ccc0-bec8eabe24ea"
      },
      "outputs": [
        {
          "output_type": "stream",
          "name": "stdout",
          "text": [
            "Requirement already satisfied: pyforest in /usr/local/lib/python3.7/dist-packages (1.1.0)\n"
          ]
        }
      ],
      "source": [
        "### You code here\n",
        "#Importing pyforest as this is an automated library with all the basic libraries installed\n",
        "!pip install pyforest\n",
        "import pyforest\n"
      ]
    },
    {
      "cell_type": "code",
      "source": [
        "#Reading the data\n",
        "df = pd.read_csv('https://raw.githubusercontent.com/unt-iialab/info5502-spring2022/main/datasets/portfolio_data.csv')"
      ],
      "metadata": {
        "colab": {
          "base_uri": "https://localhost:8080/",
          "height": 17
        },
        "id": "2aAc0VA75p-C",
        "outputId": "b0e32131-7c67-47f8-a30b-2718d30dd0e8"
      },
      "execution_count": 170,
      "outputs": [
        {
          "output_type": "display_data",
          "data": {
            "text/plain": [
              "<IPython.core.display.Javascript object>"
            ],
            "application/javascript": [
              "\n",
              "        if (window._pyforest_update_imports_cell) { window._pyforest_update_imports_cell('import numpy as np\\nfrom sklearn.ensemble import RandomForestRegressor\\nimport skimage\\nimport fastai\\nimport sklearn\\nimport re\\nfrom sklearn.model_selection import cross_val_score\\nfrom PIL import Image\\nimport fbprophet\\nimport plotly as py\\nfrom sklearn.feature_extraction.text import CountVectorizer\\nimport keras\\nimport pickle\\nimport altair as alt\\nimport xgboost as xgb\\nimport pandas as pd\\nfrom sklearn.ensemble import RandomForestClassifier\\nimport bokeh\\nfrom sklearn.preprocessing import RobustScaler\\nfrom sklearn.linear_model import LogisticRegression\\nimport pydot\\nimport seaborn as sns\\nfrom sklearn.linear_model import Ridge\\nfrom sklearn.linear_model import LassoCV\\nimport textblob\\nfrom sklearn import svm\\nfrom sklearn.model_selection import train_test_split\\nimport tensorflow as tf\\nfrom statsmodels.tsa.arima_model import ARIMA\\nfrom scipy import stats\\nimport statsmodels.api as sm\\nfrom sklearn.model_selection import RandomizedSearchCV\\nimport sys\\nimport cv2\\nimport torch\\nfrom sklearn.linear_model import Lasso\\nimport tqdm\\nimport matplotlib.pyplot as plt\\nfrom sklearn.linear_model import RidgeCV\\nfrom sklearn import metrics\\nfrom scipy import signal as sg\\nimport imutils\\nimport statistics\\nimport plotly.express as px\\nimport matplotlib as mpl\\nfrom sklearn.preprocessing import LabelEncoder\\nimport spacy'); }\n",
              "    "
            ]
          },
          "metadata": {}
        }
      ]
    },
    {
      "cell_type": "code",
      "source": [
        "#Displaying the data\n",
        "df"
      ],
      "metadata": {
        "colab": {
          "base_uri": "https://localhost:8080/",
          "height": 423
        },
        "id": "YTHMnkR7vowq",
        "outputId": "06538e68-541b-4442-aadc-76876b9fef19"
      },
      "execution_count": 171,
      "outputs": [
        {
          "output_type": "execute_result",
          "data": {
            "text/plain": [
              "           Date         AMZN         DPZ          BTC        NFLX\n",
              "0      5/1/2013   248.229996   51.190983   106.250000   30.415714\n",
              "1      5/2/2013   252.550003   51.987320    98.099998   30.641428\n",
              "2      5/3/2013   258.049988   52.446388   112.900002   30.492857\n",
              "3      5/6/2013   255.720001   53.205257   109.599998   30.098572\n",
              "4      5/7/2013   257.730011   54.151505   113.199997   29.464285\n",
              "...         ...          ...         ...          ...         ...\n",
              "1515   5/8/2019  1917.770020  283.149994  6171.959961  364.369995\n",
              "1516   5/9/2019  1899.869995  282.160004  6358.290039  362.750000\n",
              "1517  5/10/2019  1889.979980  278.369995  7191.359863  361.040009\n",
              "1518  5/13/2019  1822.680054  273.880005  7980.129883  345.260010\n",
              "1519  5/14/2019  1840.119995  272.859985  8183.830078  345.609985\n",
              "\n",
              "[1520 rows x 5 columns]"
            ],
            "text/html": [
              "\n",
              "  <div id=\"df-0e328d45-cec3-4582-af4b-afef575ac113\">\n",
              "    <div class=\"colab-df-container\">\n",
              "      <div>\n",
              "<style scoped>\n",
              "    .dataframe tbody tr th:only-of-type {\n",
              "        vertical-align: middle;\n",
              "    }\n",
              "\n",
              "    .dataframe tbody tr th {\n",
              "        vertical-align: top;\n",
              "    }\n",
              "\n",
              "    .dataframe thead th {\n",
              "        text-align: right;\n",
              "    }\n",
              "</style>\n",
              "<table border=\"1\" class=\"dataframe\">\n",
              "  <thead>\n",
              "    <tr style=\"text-align: right;\">\n",
              "      <th></th>\n",
              "      <th>Date</th>\n",
              "      <th>AMZN</th>\n",
              "      <th>DPZ</th>\n",
              "      <th>BTC</th>\n",
              "      <th>NFLX</th>\n",
              "    </tr>\n",
              "  </thead>\n",
              "  <tbody>\n",
              "    <tr>\n",
              "      <th>0</th>\n",
              "      <td>5/1/2013</td>\n",
              "      <td>248.229996</td>\n",
              "      <td>51.190983</td>\n",
              "      <td>106.250000</td>\n",
              "      <td>30.415714</td>\n",
              "    </tr>\n",
              "    <tr>\n",
              "      <th>1</th>\n",
              "      <td>5/2/2013</td>\n",
              "      <td>252.550003</td>\n",
              "      <td>51.987320</td>\n",
              "      <td>98.099998</td>\n",
              "      <td>30.641428</td>\n",
              "    </tr>\n",
              "    <tr>\n",
              "      <th>2</th>\n",
              "      <td>5/3/2013</td>\n",
              "      <td>258.049988</td>\n",
              "      <td>52.446388</td>\n",
              "      <td>112.900002</td>\n",
              "      <td>30.492857</td>\n",
              "    </tr>\n",
              "    <tr>\n",
              "      <th>3</th>\n",
              "      <td>5/6/2013</td>\n",
              "      <td>255.720001</td>\n",
              "      <td>53.205257</td>\n",
              "      <td>109.599998</td>\n",
              "      <td>30.098572</td>\n",
              "    </tr>\n",
              "    <tr>\n",
              "      <th>4</th>\n",
              "      <td>5/7/2013</td>\n",
              "      <td>257.730011</td>\n",
              "      <td>54.151505</td>\n",
              "      <td>113.199997</td>\n",
              "      <td>29.464285</td>\n",
              "    </tr>\n",
              "    <tr>\n",
              "      <th>...</th>\n",
              "      <td>...</td>\n",
              "      <td>...</td>\n",
              "      <td>...</td>\n",
              "      <td>...</td>\n",
              "      <td>...</td>\n",
              "    </tr>\n",
              "    <tr>\n",
              "      <th>1515</th>\n",
              "      <td>5/8/2019</td>\n",
              "      <td>1917.770020</td>\n",
              "      <td>283.149994</td>\n",
              "      <td>6171.959961</td>\n",
              "      <td>364.369995</td>\n",
              "    </tr>\n",
              "    <tr>\n",
              "      <th>1516</th>\n",
              "      <td>5/9/2019</td>\n",
              "      <td>1899.869995</td>\n",
              "      <td>282.160004</td>\n",
              "      <td>6358.290039</td>\n",
              "      <td>362.750000</td>\n",
              "    </tr>\n",
              "    <tr>\n",
              "      <th>1517</th>\n",
              "      <td>5/10/2019</td>\n",
              "      <td>1889.979980</td>\n",
              "      <td>278.369995</td>\n",
              "      <td>7191.359863</td>\n",
              "      <td>361.040009</td>\n",
              "    </tr>\n",
              "    <tr>\n",
              "      <th>1518</th>\n",
              "      <td>5/13/2019</td>\n",
              "      <td>1822.680054</td>\n",
              "      <td>273.880005</td>\n",
              "      <td>7980.129883</td>\n",
              "      <td>345.260010</td>\n",
              "    </tr>\n",
              "    <tr>\n",
              "      <th>1519</th>\n",
              "      <td>5/14/2019</td>\n",
              "      <td>1840.119995</td>\n",
              "      <td>272.859985</td>\n",
              "      <td>8183.830078</td>\n",
              "      <td>345.609985</td>\n",
              "    </tr>\n",
              "  </tbody>\n",
              "</table>\n",
              "<p>1520 rows × 5 columns</p>\n",
              "</div>\n",
              "      <button class=\"colab-df-convert\" onclick=\"convertToInteractive('df-0e328d45-cec3-4582-af4b-afef575ac113')\"\n",
              "              title=\"Convert this dataframe to an interactive table.\"\n",
              "              style=\"display:none;\">\n",
              "        \n",
              "  <svg xmlns=\"http://www.w3.org/2000/svg\" height=\"24px\"viewBox=\"0 0 24 24\"\n",
              "       width=\"24px\">\n",
              "    <path d=\"M0 0h24v24H0V0z\" fill=\"none\"/>\n",
              "    <path d=\"M18.56 5.44l.94 2.06.94-2.06 2.06-.94-2.06-.94-.94-2.06-.94 2.06-2.06.94zm-11 1L8.5 8.5l.94-2.06 2.06-.94-2.06-.94L8.5 2.5l-.94 2.06-2.06.94zm10 10l.94 2.06.94-2.06 2.06-.94-2.06-.94-.94-2.06-.94 2.06-2.06.94z\"/><path d=\"M17.41 7.96l-1.37-1.37c-.4-.4-.92-.59-1.43-.59-.52 0-1.04.2-1.43.59L10.3 9.45l-7.72 7.72c-.78.78-.78 2.05 0 2.83L4 21.41c.39.39.9.59 1.41.59.51 0 1.02-.2 1.41-.59l7.78-7.78 2.81-2.81c.8-.78.8-2.07 0-2.86zM5.41 20L4 18.59l7.72-7.72 1.47 1.35L5.41 20z\"/>\n",
              "  </svg>\n",
              "      </button>\n",
              "      \n",
              "  <style>\n",
              "    .colab-df-container {\n",
              "      display:flex;\n",
              "      flex-wrap:wrap;\n",
              "      gap: 12px;\n",
              "    }\n",
              "\n",
              "    .colab-df-convert {\n",
              "      background-color: #E8F0FE;\n",
              "      border: none;\n",
              "      border-radius: 50%;\n",
              "      cursor: pointer;\n",
              "      display: none;\n",
              "      fill: #1967D2;\n",
              "      height: 32px;\n",
              "      padding: 0 0 0 0;\n",
              "      width: 32px;\n",
              "    }\n",
              "\n",
              "    .colab-df-convert:hover {\n",
              "      background-color: #E2EBFA;\n",
              "      box-shadow: 0px 1px 2px rgba(60, 64, 67, 0.3), 0px 1px 3px 1px rgba(60, 64, 67, 0.15);\n",
              "      fill: #174EA6;\n",
              "    }\n",
              "\n",
              "    [theme=dark] .colab-df-convert {\n",
              "      background-color: #3B4455;\n",
              "      fill: #D2E3FC;\n",
              "    }\n",
              "\n",
              "    [theme=dark] .colab-df-convert:hover {\n",
              "      background-color: #434B5C;\n",
              "      box-shadow: 0px 1px 3px 1px rgba(0, 0, 0, 0.15);\n",
              "      filter: drop-shadow(0px 1px 2px rgba(0, 0, 0, 0.3));\n",
              "      fill: #FFFFFF;\n",
              "    }\n",
              "  </style>\n",
              "\n",
              "      <script>\n",
              "        const buttonEl =\n",
              "          document.querySelector('#df-0e328d45-cec3-4582-af4b-afef575ac113 button.colab-df-convert');\n",
              "        buttonEl.style.display =\n",
              "          google.colab.kernel.accessAllowed ? 'block' : 'none';\n",
              "\n",
              "        async function convertToInteractive(key) {\n",
              "          const element = document.querySelector('#df-0e328d45-cec3-4582-af4b-afef575ac113');\n",
              "          const dataTable =\n",
              "            await google.colab.kernel.invokeFunction('convertToInteractive',\n",
              "                                                     [key], {});\n",
              "          if (!dataTable) return;\n",
              "\n",
              "          const docLinkHtml = 'Like what you see? Visit the ' +\n",
              "            '<a target=\"_blank\" href=https://colab.research.google.com/notebooks/data_table.ipynb>data table notebook</a>'\n",
              "            + ' to learn more about interactive tables.';\n",
              "          element.innerHTML = '';\n",
              "          dataTable['output_type'] = 'display_data';\n",
              "          await google.colab.output.renderOutput(dataTable, element);\n",
              "          const docLink = document.createElement('div');\n",
              "          docLink.innerHTML = docLinkHtml;\n",
              "          element.appendChild(docLink);\n",
              "        }\n",
              "      </script>\n",
              "    </div>\n",
              "  </div>\n",
              "  "
            ]
          },
          "metadata": {},
          "execution_count": 171
        }
      ]
    },
    {
      "cell_type": "code",
      "source": [
        "#Checking the info of the data\n",
        "df.info()"
      ],
      "metadata": {
        "colab": {
          "base_uri": "https://localhost:8080/"
        },
        "id": "xViGbctV5qAi",
        "outputId": "58072026-f239-4d6a-e779-caf5fce2f9f2"
      },
      "execution_count": 172,
      "outputs": [
        {
          "output_type": "stream",
          "name": "stdout",
          "text": [
            "<class 'pandas.core.frame.DataFrame'>\n",
            "RangeIndex: 1520 entries, 0 to 1519\n",
            "Data columns (total 5 columns):\n",
            " #   Column  Non-Null Count  Dtype  \n",
            "---  ------  --------------  -----  \n",
            " 0   Date    1520 non-null   object \n",
            " 1   AMZN    1520 non-null   float64\n",
            " 2   DPZ     1520 non-null   float64\n",
            " 3   BTC     1520 non-null   float64\n",
            " 4   NFLX    1520 non-null   float64\n",
            "dtypes: float64(4), object(1)\n",
            "memory usage: 59.5+ KB\n"
          ]
        }
      ]
    },
    {
      "cell_type": "code",
      "source": [
        "#Checking for null values\n",
        "df.isnull().sum()"
      ],
      "metadata": {
        "colab": {
          "base_uri": "https://localhost:8080/"
        },
        "id": "_uEpxnms5qDJ",
        "outputId": "a7c8ab7b-220e-4eba-e174-d90758964f96"
      },
      "execution_count": 173,
      "outputs": [
        {
          "output_type": "execute_result",
          "data": {
            "text/plain": [
              "Date    0\n",
              "AMZN    0\n",
              "DPZ     0\n",
              "BTC     0\n",
              "NFLX    0\n",
              "dtype: int64"
            ]
          },
          "metadata": {},
          "execution_count": 173
        }
      ]
    },
    {
      "cell_type": "markdown",
      "source": [
        "**MULTI VARIATE REGRESSION**"
      ],
      "metadata": {
        "id": "dUdbXETEKp-1"
      }
    },
    {
      "cell_type": "code",
      "source": [
        "#This is a Multi Variate Regression problem.\n",
        "#Here, i am taking Amazon as my dependent variable and will predict the stock prices with the help of other stock prices like DPZ,BTC,NFLX \n",
        "df['AMZN']"
      ],
      "metadata": {
        "colab": {
          "base_uri": "https://localhost:8080/"
        },
        "id": "C6_p2co45qG5",
        "outputId": "6d0dea08-74a1-488e-98c2-67c7ebc03f54"
      },
      "execution_count": 174,
      "outputs": [
        {
          "output_type": "execute_result",
          "data": {
            "text/plain": [
              "0        248.229996\n",
              "1        252.550003\n",
              "2        258.049988\n",
              "3        255.720001\n",
              "4        257.730011\n",
              "           ...     \n",
              "1515    1917.770020\n",
              "1516    1899.869995\n",
              "1517    1889.979980\n",
              "1518    1822.680054\n",
              "1519    1840.119995\n",
              "Name: AMZN, Length: 1520, dtype: float64"
            ]
          },
          "metadata": {},
          "execution_count": 174
        }
      ]
    },
    {
      "cell_type": "code",
      "source": [
        "type(df['AMZN'])"
      ],
      "metadata": {
        "colab": {
          "base_uri": "https://localhost:8080/"
        },
        "id": "tDClYS925qIp",
        "outputId": "1eee5415-04f7-4ff3-b34e-817b2dbabfed"
      },
      "execution_count": 175,
      "outputs": [
        {
          "output_type": "execute_result",
          "data": {
            "text/plain": [
              "pandas.core.series.Series"
            ]
          },
          "metadata": {},
          "execution_count": 175
        }
      ]
    },
    {
      "cell_type": "code",
      "source": [
        "#Now i am dividing the data into dependent and independent using iloc\n",
        "x = df.iloc[:,[2,3,4]]\n",
        "x"
      ],
      "metadata": {
        "colab": {
          "base_uri": "https://localhost:8080/",
          "height": 423
        },
        "id": "CWD8up6QCHdj",
        "outputId": "b7c2c50c-dc8e-473c-bc6e-f7b6552d406b"
      },
      "execution_count": 176,
      "outputs": [
        {
          "output_type": "execute_result",
          "data": {
            "text/plain": [
              "             DPZ          BTC        NFLX\n",
              "0      51.190983   106.250000   30.415714\n",
              "1      51.987320    98.099998   30.641428\n",
              "2      52.446388   112.900002   30.492857\n",
              "3      53.205257   109.599998   30.098572\n",
              "4      54.151505   113.199997   29.464285\n",
              "...          ...          ...         ...\n",
              "1515  283.149994  6171.959961  364.369995\n",
              "1516  282.160004  6358.290039  362.750000\n",
              "1517  278.369995  7191.359863  361.040009\n",
              "1518  273.880005  7980.129883  345.260010\n",
              "1519  272.859985  8183.830078  345.609985\n",
              "\n",
              "[1520 rows x 3 columns]"
            ],
            "text/html": [
              "\n",
              "  <div id=\"df-96d9afad-92da-41a1-bcb0-bffccba91c43\">\n",
              "    <div class=\"colab-df-container\">\n",
              "      <div>\n",
              "<style scoped>\n",
              "    .dataframe tbody tr th:only-of-type {\n",
              "        vertical-align: middle;\n",
              "    }\n",
              "\n",
              "    .dataframe tbody tr th {\n",
              "        vertical-align: top;\n",
              "    }\n",
              "\n",
              "    .dataframe thead th {\n",
              "        text-align: right;\n",
              "    }\n",
              "</style>\n",
              "<table border=\"1\" class=\"dataframe\">\n",
              "  <thead>\n",
              "    <tr style=\"text-align: right;\">\n",
              "      <th></th>\n",
              "      <th>DPZ</th>\n",
              "      <th>BTC</th>\n",
              "      <th>NFLX</th>\n",
              "    </tr>\n",
              "  </thead>\n",
              "  <tbody>\n",
              "    <tr>\n",
              "      <th>0</th>\n",
              "      <td>51.190983</td>\n",
              "      <td>106.250000</td>\n",
              "      <td>30.415714</td>\n",
              "    </tr>\n",
              "    <tr>\n",
              "      <th>1</th>\n",
              "      <td>51.987320</td>\n",
              "      <td>98.099998</td>\n",
              "      <td>30.641428</td>\n",
              "    </tr>\n",
              "    <tr>\n",
              "      <th>2</th>\n",
              "      <td>52.446388</td>\n",
              "      <td>112.900002</td>\n",
              "      <td>30.492857</td>\n",
              "    </tr>\n",
              "    <tr>\n",
              "      <th>3</th>\n",
              "      <td>53.205257</td>\n",
              "      <td>109.599998</td>\n",
              "      <td>30.098572</td>\n",
              "    </tr>\n",
              "    <tr>\n",
              "      <th>4</th>\n",
              "      <td>54.151505</td>\n",
              "      <td>113.199997</td>\n",
              "      <td>29.464285</td>\n",
              "    </tr>\n",
              "    <tr>\n",
              "      <th>...</th>\n",
              "      <td>...</td>\n",
              "      <td>...</td>\n",
              "      <td>...</td>\n",
              "    </tr>\n",
              "    <tr>\n",
              "      <th>1515</th>\n",
              "      <td>283.149994</td>\n",
              "      <td>6171.959961</td>\n",
              "      <td>364.369995</td>\n",
              "    </tr>\n",
              "    <tr>\n",
              "      <th>1516</th>\n",
              "      <td>282.160004</td>\n",
              "      <td>6358.290039</td>\n",
              "      <td>362.750000</td>\n",
              "    </tr>\n",
              "    <tr>\n",
              "      <th>1517</th>\n",
              "      <td>278.369995</td>\n",
              "      <td>7191.359863</td>\n",
              "      <td>361.040009</td>\n",
              "    </tr>\n",
              "    <tr>\n",
              "      <th>1518</th>\n",
              "      <td>273.880005</td>\n",
              "      <td>7980.129883</td>\n",
              "      <td>345.260010</td>\n",
              "    </tr>\n",
              "    <tr>\n",
              "      <th>1519</th>\n",
              "      <td>272.859985</td>\n",
              "      <td>8183.830078</td>\n",
              "      <td>345.609985</td>\n",
              "    </tr>\n",
              "  </tbody>\n",
              "</table>\n",
              "<p>1520 rows × 3 columns</p>\n",
              "</div>\n",
              "      <button class=\"colab-df-convert\" onclick=\"convertToInteractive('df-96d9afad-92da-41a1-bcb0-bffccba91c43')\"\n",
              "              title=\"Convert this dataframe to an interactive table.\"\n",
              "              style=\"display:none;\">\n",
              "        \n",
              "  <svg xmlns=\"http://www.w3.org/2000/svg\" height=\"24px\"viewBox=\"0 0 24 24\"\n",
              "       width=\"24px\">\n",
              "    <path d=\"M0 0h24v24H0V0z\" fill=\"none\"/>\n",
              "    <path d=\"M18.56 5.44l.94 2.06.94-2.06 2.06-.94-2.06-.94-.94-2.06-.94 2.06-2.06.94zm-11 1L8.5 8.5l.94-2.06 2.06-.94-2.06-.94L8.5 2.5l-.94 2.06-2.06.94zm10 10l.94 2.06.94-2.06 2.06-.94-2.06-.94-.94-2.06-.94 2.06-2.06.94z\"/><path d=\"M17.41 7.96l-1.37-1.37c-.4-.4-.92-.59-1.43-.59-.52 0-1.04.2-1.43.59L10.3 9.45l-7.72 7.72c-.78.78-.78 2.05 0 2.83L4 21.41c.39.39.9.59 1.41.59.51 0 1.02-.2 1.41-.59l7.78-7.78 2.81-2.81c.8-.78.8-2.07 0-2.86zM5.41 20L4 18.59l7.72-7.72 1.47 1.35L5.41 20z\"/>\n",
              "  </svg>\n",
              "      </button>\n",
              "      \n",
              "  <style>\n",
              "    .colab-df-container {\n",
              "      display:flex;\n",
              "      flex-wrap:wrap;\n",
              "      gap: 12px;\n",
              "    }\n",
              "\n",
              "    .colab-df-convert {\n",
              "      background-color: #E8F0FE;\n",
              "      border: none;\n",
              "      border-radius: 50%;\n",
              "      cursor: pointer;\n",
              "      display: none;\n",
              "      fill: #1967D2;\n",
              "      height: 32px;\n",
              "      padding: 0 0 0 0;\n",
              "      width: 32px;\n",
              "    }\n",
              "\n",
              "    .colab-df-convert:hover {\n",
              "      background-color: #E2EBFA;\n",
              "      box-shadow: 0px 1px 2px rgba(60, 64, 67, 0.3), 0px 1px 3px 1px rgba(60, 64, 67, 0.15);\n",
              "      fill: #174EA6;\n",
              "    }\n",
              "\n",
              "    [theme=dark] .colab-df-convert {\n",
              "      background-color: #3B4455;\n",
              "      fill: #D2E3FC;\n",
              "    }\n",
              "\n",
              "    [theme=dark] .colab-df-convert:hover {\n",
              "      background-color: #434B5C;\n",
              "      box-shadow: 0px 1px 3px 1px rgba(0, 0, 0, 0.15);\n",
              "      filter: drop-shadow(0px 1px 2px rgba(0, 0, 0, 0.3));\n",
              "      fill: #FFFFFF;\n",
              "    }\n",
              "  </style>\n",
              "\n",
              "      <script>\n",
              "        const buttonEl =\n",
              "          document.querySelector('#df-96d9afad-92da-41a1-bcb0-bffccba91c43 button.colab-df-convert');\n",
              "        buttonEl.style.display =\n",
              "          google.colab.kernel.accessAllowed ? 'block' : 'none';\n",
              "\n",
              "        async function convertToInteractive(key) {\n",
              "          const element = document.querySelector('#df-96d9afad-92da-41a1-bcb0-bffccba91c43');\n",
              "          const dataTable =\n",
              "            await google.colab.kernel.invokeFunction('convertToInteractive',\n",
              "                                                     [key], {});\n",
              "          if (!dataTable) return;\n",
              "\n",
              "          const docLinkHtml = 'Like what you see? Visit the ' +\n",
              "            '<a target=\"_blank\" href=https://colab.research.google.com/notebooks/data_table.ipynb>data table notebook</a>'\n",
              "            + ' to learn more about interactive tables.';\n",
              "          element.innerHTML = '';\n",
              "          dataTable['output_type'] = 'display_data';\n",
              "          await google.colab.output.renderOutput(dataTable, element);\n",
              "          const docLink = document.createElement('div');\n",
              "          docLink.innerHTML = docLinkHtml;\n",
              "          element.appendChild(docLink);\n",
              "        }\n",
              "      </script>\n",
              "    </div>\n",
              "  </div>\n",
              "  "
            ]
          },
          "metadata": {},
          "execution_count": 176
        }
      ]
    },
    {
      "cell_type": "code",
      "source": [
        "y = df.iloc[:,1]\n",
        "y"
      ],
      "metadata": {
        "colab": {
          "base_uri": "https://localhost:8080/"
        },
        "id": "u2VH02nwCHge",
        "outputId": "cc7bb1fe-76d5-4a87-a664-451e1a88101a"
      },
      "execution_count": 177,
      "outputs": [
        {
          "output_type": "execute_result",
          "data": {
            "text/plain": [
              "0        248.229996\n",
              "1        252.550003\n",
              "2        258.049988\n",
              "3        255.720001\n",
              "4        257.730011\n",
              "           ...     \n",
              "1515    1917.770020\n",
              "1516    1899.869995\n",
              "1517    1889.979980\n",
              "1518    1822.680054\n",
              "1519    1840.119995\n",
              "Name: AMZN, Length: 1520, dtype: float64"
            ]
          },
          "metadata": {},
          "execution_count": 177
        }
      ]
    },
    {
      "cell_type": "code",
      "source": [
        "#Splitting the data into train and test\n",
        "x_train,x_test,y_train,y_test = train_test_split(x,y,train_size = 0.7,random_state = 5)"
      ],
      "metadata": {
        "colab": {
          "base_uri": "https://localhost:8080/",
          "height": 17
        },
        "id": "ywKSN3aHCHjL",
        "outputId": "46513786-e20d-491f-e910-4cdf1816cdf6"
      },
      "execution_count": 178,
      "outputs": [
        {
          "output_type": "display_data",
          "data": {
            "text/plain": [
              "<IPython.core.display.Javascript object>"
            ],
            "application/javascript": [
              "\n",
              "        if (window._pyforest_update_imports_cell) { window._pyforest_update_imports_cell('import numpy as np\\nfrom sklearn.ensemble import RandomForestRegressor\\nimport skimage\\nimport fastai\\nimport sklearn\\nimport re\\nfrom sklearn.model_selection import cross_val_score\\nfrom PIL import Image\\nimport fbprophet\\nimport plotly as py\\nfrom sklearn.feature_extraction.text import CountVectorizer\\nimport keras\\nimport pickle\\nimport altair as alt\\nimport xgboost as xgb\\nimport pandas as pd\\nfrom sklearn.ensemble import RandomForestClassifier\\nimport bokeh\\nfrom sklearn.preprocessing import RobustScaler\\nfrom sklearn.linear_model import LogisticRegression\\nimport pydot\\nimport seaborn as sns\\nfrom sklearn.linear_model import Ridge\\nfrom sklearn.linear_model import LassoCV\\nimport textblob\\nfrom sklearn import svm\\nfrom sklearn.model_selection import train_test_split\\nimport tensorflow as tf\\nfrom statsmodels.tsa.arima_model import ARIMA\\nfrom scipy import stats\\nimport statsmodels.api as sm\\nfrom sklearn.model_selection import RandomizedSearchCV\\nimport sys\\nimport cv2\\nimport torch\\nfrom sklearn.linear_model import Lasso\\nimport tqdm\\nimport matplotlib.pyplot as plt\\nfrom sklearn.linear_model import RidgeCV\\nfrom sklearn import metrics\\nfrom scipy import signal as sg\\nimport imutils\\nimport statistics\\nimport plotly.express as px\\nimport matplotlib as mpl\\nfrom sklearn.preprocessing import LabelEncoder\\nimport spacy'); }\n",
              "    "
            ]
          },
          "metadata": {}
        }
      ]
    },
    {
      "cell_type": "code",
      "source": [
        "#Importing the LinearRegression model\n",
        "from sklearn.linear_model import LinearRegression   "
      ],
      "metadata": {
        "id": "3c9g-IIqCHmB"
      },
      "execution_count": 179,
      "outputs": []
    },
    {
      "cell_type": "code",
      "source": [
        "mod = LinearRegression()"
      ],
      "metadata": {
        "id": "INdw5apXCHou"
      },
      "execution_count": 180,
      "outputs": []
    },
    {
      "cell_type": "code",
      "source": [
        "#Fitting the model\n",
        "mod.fit(x_train,y_train)"
      ],
      "metadata": {
        "colab": {
          "base_uri": "https://localhost:8080/"
        },
        "id": "FlTtUS5SCHrY",
        "outputId": "dc7f3765-e039-4fb3-a8dd-232a5e04592f"
      },
      "execution_count": 181,
      "outputs": [
        {
          "output_type": "execute_result",
          "data": {
            "text/plain": [
              "LinearRegression()"
            ]
          },
          "metadata": {},
          "execution_count": 181
        }
      ]
    },
    {
      "cell_type": "code",
      "source": [
        "#Predicting the model\n",
        "pr = mod.predict(x_test)\n",
        "pr"
      ],
      "metadata": {
        "colab": {
          "base_uri": "https://localhost:8080/"
        },
        "id": "PEYjTQsMCHuL",
        "outputId": "6d0c3325-cbbd-4d0c-c52f-d9efef33992d"
      },
      "execution_count": 182,
      "outputs": [
        {
          "output_type": "execute_result",
          "data": {
            "text/plain": [
              "array([ 598.26992798, 1024.3902803 ,  368.5053749 ,  312.98544322,\n",
              "       1192.84331114,  573.31298975,  568.65961411,  861.2701905 ,\n",
              "        684.61085573,  545.69003943, 1936.43333919, 1872.70566236,\n",
              "       1854.16269726,  429.65950041,  520.85888309, 1381.4987064 ,\n",
              "        859.66392063, 1279.74128265,  393.97861259,  302.70554296,\n",
              "       1467.36007478, 1693.84781736, 1033.5145128 ,  439.53946228,\n",
              "        344.86968048, 1087.26658547, 1475.09014358,  661.37467362,\n",
              "        250.72328341,  456.57063953, 1562.26843612, 1698.41881745,\n",
              "       1435.89469869,  365.93883623, 1679.28232235,  814.41191849,\n",
              "       1890.03335704, 1048.82635529,  622.38214763,  662.45190428,\n",
              "        368.26752409,  504.73863347,  672.0500439 , 1099.16610722,\n",
              "       1731.69197362,  324.8817285 ,  870.96385601,  913.57759955,\n",
              "        686.4992241 , 1765.81589317, 1520.46614022, 1023.51135176,\n",
              "       1054.72035362,  565.84604634,  525.86688437, 1473.97788073,\n",
              "        230.52511174,  786.24625321, 1097.86318945,  610.86759061,\n",
              "       1314.49612094, 1579.87562442,  597.25076559,  562.39199414,\n",
              "        496.07525758,  633.76976037, 1885.89169896, 1778.47624182,\n",
              "        665.07506078, 1042.03321286,  372.18538213, 1816.67084726,\n",
              "        628.40116739,  661.18726597,  255.82039522,  379.52056905,\n",
              "        630.84627642,  626.76652119,  893.48258607,  600.50884415,\n",
              "       1012.05864996, 1074.78376881,  358.38958495, 1432.29168422,\n",
              "        895.79914291,  246.47061319, 1768.67402065, 1617.95962834,\n",
              "        536.53435262,  283.91939375,  558.61270302, 1724.42384535,\n",
              "       1284.81427739,  352.60061842, 1812.46917166,  557.46061903,\n",
              "        905.65064679,  356.97027414,  631.36821472,  525.5213281 ,\n",
              "        872.8378068 ,  288.22025023,  604.29039659,  384.98494322,\n",
              "        340.28782312,  776.45116065, 1778.48989721,  631.06174404,\n",
              "        322.13832379, 1295.61873921,  613.92971498, 1604.83023073,\n",
              "       1491.62153177, 1716.28148608, 1851.82618274,  313.76664788,\n",
              "        669.81115848,  623.28345504, 1817.69749008,  570.55167719,\n",
              "        324.24773764,  336.03735631,  610.80708315,  342.99940452,\n",
              "       1474.60355969,  368.83797881, 1648.18695494,  993.3043009 ,\n",
              "        430.78927016,  574.82519155,  566.53509399,  356.78504872,\n",
              "        374.75314764,  792.03997326,  684.76542859,  511.37684872,\n",
              "        590.35724069, 1818.15205972, 1474.61877349,  545.67931634,\n",
              "        228.74739699,  550.73419424,  981.99409421,  329.02542512,\n",
              "        520.189751  ,  338.20620238,  287.01616167, 1269.50105486,\n",
              "        372.64904851, 1764.32343629,  219.69349157,  314.36731678,\n",
              "        999.64631507,  685.58236756,  508.37328846,  374.54207271,\n",
              "        522.58514615, 1441.29135439,  522.33208014, 1729.24312326,\n",
              "        386.9609584 , 1650.38297219,  758.43792874,  932.93505791,\n",
              "        548.62824144,  441.37318869,  614.63109077,  385.14057103,\n",
              "       1630.69739326,  354.980841  ,  621.10020352,  365.88275682,\n",
              "       1875.53433288, 1078.74938944, 1002.63198675, 1003.43776109,\n",
              "       1178.72706994,  226.02941707,  662.86213259, 1441.79888544,\n",
              "       1018.12102732, 1882.75610669,  538.3852446 , 1816.47482275,\n",
              "        330.16238287,  777.37438475,  620.18224057,  847.71971573,\n",
              "        603.26262648,  679.91671643, 1497.07218475, 1162.52898339,\n",
              "        571.92202449,  582.63320421,  317.2131879 ,  556.24715743,\n",
              "       1822.25360147, 1025.88779258, 1070.1297254 ,  369.36686187,\n",
              "        391.36275287, 1671.25906944, 1572.28818285, 1541.36224568,\n",
              "       1673.21616216,  289.43739775, 1714.22743471, 1807.73096831,\n",
              "        351.3589539 ,  652.51461356, 1357.9508488 ,  621.83056499,\n",
              "       1778.52471014,  218.21108344,  431.01856749, 1476.81225976,\n",
              "        913.47204945,  898.20245605,  626.2302008 , 1858.13023525,\n",
              "        427.58122101,  918.11456127,  313.87098274,  637.20458976,\n",
              "        599.74268925,  967.02009976,  552.42272111,  280.31652934,\n",
              "        628.36145788,  242.56691502,  565.45087269, 1615.67327059,\n",
              "        234.57176359, 1429.40501073,  910.08068355,  868.8313981 ,\n",
              "       1739.29893136,  372.64349976,  347.66878405, 1500.25554966,\n",
              "        212.21515623,  221.35898869,  783.21339367, 1656.80700919,\n",
              "        282.65160516,  377.19825974,  571.04892017,  545.27843372,\n",
              "        620.05386869, 1882.49225041,  597.23198396,  908.44274957,\n",
              "        788.22335442,  331.67152987,  525.17004107,  219.55577389,\n",
              "        213.56098859,  231.16071258,  597.27470391,  576.73981584,\n",
              "       1522.48776558,  551.97069831, 1505.68696106,  609.64256559,\n",
              "        449.37460862,  314.49214303,  235.74005273, 1698.69008114,\n",
              "       1480.29071632,  228.75829211,  912.00989511, 1088.9005094 ,\n",
              "       1084.9350575 ,  609.95969272,  837.19366999,  332.47322529,\n",
              "       1084.32187929, 1789.63004167,  231.21653468, 1803.85480441,\n",
              "        902.6862624 ,  598.87081983,  275.19679983, 1726.66539702,\n",
              "       1093.72797913, 1078.72666331,  508.42206754,  278.28619771,\n",
              "       1026.39618401,  291.07624796, 1442.90784709,  381.72041912,\n",
              "        364.1288687 , 1657.86626983,  379.05739948,  887.55351687,\n",
              "       1322.58424978, 1535.2435719 , 1580.76079895,  425.51108943,\n",
              "        688.63606986, 1757.31614207,  787.76025776,  529.29267416,\n",
              "        800.99219663,  336.5332122 , 1106.23724397,  565.19321661,\n",
              "        292.56851307,  244.91492567, 1745.37334685,  223.55529039,\n",
              "        906.32514748, 1680.23676962, 1180.00145432,  237.1958699 ,\n",
              "        862.45079612,  279.7713204 , 1487.78238316,  426.4292346 ,\n",
              "        360.85200776, 1888.59901277, 1592.77534773,  597.42963975,\n",
              "        249.66150839,  246.85355462,  312.82763254,  590.00592588,\n",
              "        346.21443958,  382.50393141, 1415.82326204, 1416.38440712,\n",
              "        437.21027447,  647.85477448, 1760.0459382 ,  430.8248902 ,\n",
              "        898.19130451, 1710.85702279, 1754.90286035,  583.32719848,\n",
              "        556.9432487 ,  777.5282796 ,  561.44808774, 1673.86644594,\n",
              "       1733.34175371,  364.60455305,  558.77123033,  619.53749343,\n",
              "        567.92687066,  254.04142855,  356.90110791,  600.2743305 ,\n",
              "        337.05515949, 1033.52196873, 1714.92833584,  906.59013382,\n",
              "        562.7425332 ,  349.67614435,  546.63678288,  592.45309334,\n",
              "        879.36999978,  381.69677745, 1077.51967922,  915.06143938,\n",
              "        377.87646224,  915.84284019,  254.13009831, 1038.21207635,\n",
              "        245.2680004 ,  909.92823805,  387.4012408 ,  803.42971638,\n",
              "       1073.47016229,  673.21682625,  388.59047127, 1677.49770489,\n",
              "        604.298555  ,  588.35786088,  544.40670752,  998.35976588,\n",
              "        428.71979983, 1011.27116588,  422.06177876,  509.0119418 ,\n",
              "        611.94969233,  596.87278783,  240.55111378, 1700.30833513,\n",
              "        801.38145696, 1662.38612069,  286.129146  ,  371.71893026,\n",
              "        624.61534827, 1463.19064833,  223.66209038, 1246.44243841,\n",
              "        540.15940546,  548.47344751,  424.78134711, 1016.54418823,\n",
              "       1040.44412044,  610.95179462, 1685.01847679,  303.54287213,\n",
              "        319.22346229,  575.73033688,  421.71436545,  377.66330932,\n",
              "       1424.78938099, 1588.66519426, 1621.60540688,  371.3508423 ,\n",
              "        606.8827953 , 1089.9246071 ,  604.70465843,  320.66211691,\n",
              "       1825.16215246, 1092.65533517,  522.02866298,  246.95617885,\n",
              "       1111.98716707,  295.28393804,  271.98403458,  351.62870312,\n",
              "       1694.02430583,  224.47219872, 1054.09903867,  309.28520481,\n",
              "        548.83094979,  603.21522755,  885.07913465,  619.66756058,\n",
              "        220.83584113,  354.82572266,  254.65904569, 1052.50645485,\n",
              "        590.73341036,  548.63572241,  341.5936596 ,  640.41659096,\n",
              "        370.58956108,  617.12513847,  693.11286548, 1541.52294967,\n",
              "        320.31943407,  679.8281592 , 1367.74621522,  473.80627979,\n",
              "        366.01118145,  619.74052568,  360.44360247,  609.1779228 ,\n",
              "        602.68653185, 1032.47897313, 1086.42037836,  435.29923638])"
            ]
          },
          "metadata": {},
          "execution_count": 182
        }
      ]
    },
    {
      "cell_type": "code",
      "source": [
        "#import the metrics\n",
        "from sklearn.metrics import r2_score"
      ],
      "metadata": {
        "id": "jbPQ7pjsCHwj"
      },
      "execution_count": 183,
      "outputs": []
    },
    {
      "cell_type": "code",
      "source": [
        "#Importing regressionSummary to display all the error values\n",
        "!pip install dmba\n",
        "from dmba import regressionSummary"
      ],
      "metadata": {
        "colab": {
          "base_uri": "https://localhost:8080/"
        },
        "id": "uJQEojxICHza",
        "outputId": "f882d10e-d6c6-4d46-9059-3b8dce769d8c"
      },
      "execution_count": 184,
      "outputs": [
        {
          "output_type": "stream",
          "name": "stdout",
          "text": [
            "Requirement already satisfied: dmba in /usr/local/lib/python3.7/dist-packages (0.1.0)\n"
          ]
        }
      ]
    },
    {
      "cell_type": "code",
      "source": [
        "#Model Accuracy\n",
        "acc = r2_score(y_test,pr)\n",
        "acc"
      ],
      "metadata": {
        "colab": {
          "base_uri": "https://localhost:8080/"
        },
        "id": "oWKC_BkMCH14",
        "outputId": "87a0801c-d6dc-4f4b-abb6-6e5283f0aa12"
      },
      "execution_count": 185,
      "outputs": [
        {
          "output_type": "execute_result",
          "data": {
            "text/plain": [
              "0.9807140305136463"
            ]
          },
          "metadata": {},
          "execution_count": 185
        }
      ]
    },
    {
      "cell_type": "code",
      "source": [
        "#Error Values\n",
        "regressionSummary(y_test,mod.predict(x_test))"
      ],
      "metadata": {
        "colab": {
          "base_uri": "https://localhost:8080/"
        },
        "id": "X6SEMph9CH5J",
        "outputId": "80f06d76-c0c5-43a4-a88f-80c088a6ac25"
      },
      "execution_count": 186,
      "outputs": [
        {
          "output_type": "stream",
          "name": "stdout",
          "text": [
            "\n",
            "Regression statistics\n",
            "\n",
            "                      Mean Error (ME) : 2.8490\n",
            "       Root Mean Squared Error (RMSE) : 71.3534\n",
            "            Mean Absolute Error (MAE) : 59.6702\n",
            "          Mean Percentage Error (MPE) : -0.5633\n",
            "Mean Absolute Percentage Error (MAPE) : 9.6050\n"
          ]
        }
      ]
    },
    {
      "cell_type": "markdown",
      "source": [
        "**TIME SERIES USING LSTM**"
      ],
      "metadata": {
        "id": "qCMA6Fd_Lsxe"
      }
    },
    {
      "cell_type": "code",
      "source": [
        "#Importing the required libraries\n",
        "from keras.models import Sequential\n",
        "from keras.layers import Dense\n",
        "from sklearn.preprocessing import MinMaxScaler\n",
        "from keras.layers import LSTM\n"
      ],
      "metadata": {
        "id": "zz0mN7OKCH7_"
      },
      "execution_count": 187,
      "outputs": []
    },
    {
      "cell_type": "code",
      "source": [
        "df['Date'] = pd.to_datetime(df['Date'])"
      ],
      "metadata": {
        "colab": {
          "base_uri": "https://localhost:8080/",
          "height": 17
        },
        "id": "ps39lYzuCH_8",
        "outputId": "0872ae50-29ae-4b43-e2a9-10dc4c76f246"
      },
      "execution_count": 188,
      "outputs": [
        {
          "output_type": "display_data",
          "data": {
            "text/plain": [
              "<IPython.core.display.Javascript object>"
            ],
            "application/javascript": [
              "\n",
              "        if (window._pyforest_update_imports_cell) { window._pyforest_update_imports_cell('import numpy as np\\nfrom sklearn.ensemble import RandomForestRegressor\\nimport skimage\\nimport fastai\\nimport sklearn\\nimport re\\nfrom sklearn.model_selection import cross_val_score\\nfrom PIL import Image\\nimport fbprophet\\nimport plotly as py\\nfrom sklearn.feature_extraction.text import CountVectorizer\\nimport keras\\nimport pickle\\nimport altair as alt\\nimport xgboost as xgb\\nimport pandas as pd\\nfrom sklearn.ensemble import RandomForestClassifier\\nimport bokeh\\nfrom sklearn.preprocessing import RobustScaler\\nfrom sklearn.linear_model import LogisticRegression\\nimport pydot\\nimport seaborn as sns\\nfrom sklearn.linear_model import Ridge\\nfrom sklearn.linear_model import LassoCV\\nimport textblob\\nfrom sklearn import svm\\nfrom sklearn.model_selection import train_test_split\\nimport tensorflow as tf\\nfrom statsmodels.tsa.arima_model import ARIMA\\nfrom scipy import stats\\nimport statsmodels.api as sm\\nfrom sklearn.model_selection import RandomizedSearchCV\\nimport sys\\nimport cv2\\nimport torch\\nfrom sklearn.linear_model import Lasso\\nimport tqdm\\nimport matplotlib.pyplot as plt\\nfrom sklearn.linear_model import RidgeCV\\nfrom sklearn import metrics\\nfrom scipy import signal as sg\\nimport imutils\\nimport statistics\\nimport plotly.express as px\\nimport matplotlib as mpl\\nfrom sklearn.preprocessing import LabelEncoder\\nimport spacy'); }\n",
              "    "
            ]
          },
          "metadata": {}
        }
      ]
    },
    {
      "cell_type": "code",
      "source": [
        "#Setting Date as index\n",
        "df.set_index(df['Date'])"
      ],
      "metadata": {
        "colab": {
          "base_uri": "https://localhost:8080/",
          "height": 455
        },
        "id": "lylubQBL0ud4",
        "outputId": "8a00bfff-0eb8-4bfe-8b7a-9d0f86261a81"
      },
      "execution_count": 189,
      "outputs": [
        {
          "output_type": "execute_result",
          "data": {
            "text/plain": [
              "                 Date         AMZN         DPZ          BTC        NFLX\n",
              "Date                                                                   \n",
              "2013-05-01 2013-05-01   248.229996   51.190983   106.250000   30.415714\n",
              "2013-05-02 2013-05-02   252.550003   51.987320    98.099998   30.641428\n",
              "2013-05-03 2013-05-03   258.049988   52.446388   112.900002   30.492857\n",
              "2013-05-06 2013-05-06   255.720001   53.205257   109.599998   30.098572\n",
              "2013-05-07 2013-05-07   257.730011   54.151505   113.199997   29.464285\n",
              "...               ...          ...         ...          ...         ...\n",
              "2019-05-08 2019-05-08  1917.770020  283.149994  6171.959961  364.369995\n",
              "2019-05-09 2019-05-09  1899.869995  282.160004  6358.290039  362.750000\n",
              "2019-05-10 2019-05-10  1889.979980  278.369995  7191.359863  361.040009\n",
              "2019-05-13 2019-05-13  1822.680054  273.880005  7980.129883  345.260010\n",
              "2019-05-14 2019-05-14  1840.119995  272.859985  8183.830078  345.609985\n",
              "\n",
              "[1520 rows x 5 columns]"
            ],
            "text/html": [
              "\n",
              "  <div id=\"df-ddb6f114-8f29-432f-9641-1d3ab8466a0e\">\n",
              "    <div class=\"colab-df-container\">\n",
              "      <div>\n",
              "<style scoped>\n",
              "    .dataframe tbody tr th:only-of-type {\n",
              "        vertical-align: middle;\n",
              "    }\n",
              "\n",
              "    .dataframe tbody tr th {\n",
              "        vertical-align: top;\n",
              "    }\n",
              "\n",
              "    .dataframe thead th {\n",
              "        text-align: right;\n",
              "    }\n",
              "</style>\n",
              "<table border=\"1\" class=\"dataframe\">\n",
              "  <thead>\n",
              "    <tr style=\"text-align: right;\">\n",
              "      <th></th>\n",
              "      <th>Date</th>\n",
              "      <th>AMZN</th>\n",
              "      <th>DPZ</th>\n",
              "      <th>BTC</th>\n",
              "      <th>NFLX</th>\n",
              "    </tr>\n",
              "    <tr>\n",
              "      <th>Date</th>\n",
              "      <th></th>\n",
              "      <th></th>\n",
              "      <th></th>\n",
              "      <th></th>\n",
              "      <th></th>\n",
              "    </tr>\n",
              "  </thead>\n",
              "  <tbody>\n",
              "    <tr>\n",
              "      <th>2013-05-01</th>\n",
              "      <td>2013-05-01</td>\n",
              "      <td>248.229996</td>\n",
              "      <td>51.190983</td>\n",
              "      <td>106.250000</td>\n",
              "      <td>30.415714</td>\n",
              "    </tr>\n",
              "    <tr>\n",
              "      <th>2013-05-02</th>\n",
              "      <td>2013-05-02</td>\n",
              "      <td>252.550003</td>\n",
              "      <td>51.987320</td>\n",
              "      <td>98.099998</td>\n",
              "      <td>30.641428</td>\n",
              "    </tr>\n",
              "    <tr>\n",
              "      <th>2013-05-03</th>\n",
              "      <td>2013-05-03</td>\n",
              "      <td>258.049988</td>\n",
              "      <td>52.446388</td>\n",
              "      <td>112.900002</td>\n",
              "      <td>30.492857</td>\n",
              "    </tr>\n",
              "    <tr>\n",
              "      <th>2013-05-06</th>\n",
              "      <td>2013-05-06</td>\n",
              "      <td>255.720001</td>\n",
              "      <td>53.205257</td>\n",
              "      <td>109.599998</td>\n",
              "      <td>30.098572</td>\n",
              "    </tr>\n",
              "    <tr>\n",
              "      <th>2013-05-07</th>\n",
              "      <td>2013-05-07</td>\n",
              "      <td>257.730011</td>\n",
              "      <td>54.151505</td>\n",
              "      <td>113.199997</td>\n",
              "      <td>29.464285</td>\n",
              "    </tr>\n",
              "    <tr>\n",
              "      <th>...</th>\n",
              "      <td>...</td>\n",
              "      <td>...</td>\n",
              "      <td>...</td>\n",
              "      <td>...</td>\n",
              "      <td>...</td>\n",
              "    </tr>\n",
              "    <tr>\n",
              "      <th>2019-05-08</th>\n",
              "      <td>2019-05-08</td>\n",
              "      <td>1917.770020</td>\n",
              "      <td>283.149994</td>\n",
              "      <td>6171.959961</td>\n",
              "      <td>364.369995</td>\n",
              "    </tr>\n",
              "    <tr>\n",
              "      <th>2019-05-09</th>\n",
              "      <td>2019-05-09</td>\n",
              "      <td>1899.869995</td>\n",
              "      <td>282.160004</td>\n",
              "      <td>6358.290039</td>\n",
              "      <td>362.750000</td>\n",
              "    </tr>\n",
              "    <tr>\n",
              "      <th>2019-05-10</th>\n",
              "      <td>2019-05-10</td>\n",
              "      <td>1889.979980</td>\n",
              "      <td>278.369995</td>\n",
              "      <td>7191.359863</td>\n",
              "      <td>361.040009</td>\n",
              "    </tr>\n",
              "    <tr>\n",
              "      <th>2019-05-13</th>\n",
              "      <td>2019-05-13</td>\n",
              "      <td>1822.680054</td>\n",
              "      <td>273.880005</td>\n",
              "      <td>7980.129883</td>\n",
              "      <td>345.260010</td>\n",
              "    </tr>\n",
              "    <tr>\n",
              "      <th>2019-05-14</th>\n",
              "      <td>2019-05-14</td>\n",
              "      <td>1840.119995</td>\n",
              "      <td>272.859985</td>\n",
              "      <td>8183.830078</td>\n",
              "      <td>345.609985</td>\n",
              "    </tr>\n",
              "  </tbody>\n",
              "</table>\n",
              "<p>1520 rows × 5 columns</p>\n",
              "</div>\n",
              "      <button class=\"colab-df-convert\" onclick=\"convertToInteractive('df-ddb6f114-8f29-432f-9641-1d3ab8466a0e')\"\n",
              "              title=\"Convert this dataframe to an interactive table.\"\n",
              "              style=\"display:none;\">\n",
              "        \n",
              "  <svg xmlns=\"http://www.w3.org/2000/svg\" height=\"24px\"viewBox=\"0 0 24 24\"\n",
              "       width=\"24px\">\n",
              "    <path d=\"M0 0h24v24H0V0z\" fill=\"none\"/>\n",
              "    <path d=\"M18.56 5.44l.94 2.06.94-2.06 2.06-.94-2.06-.94-.94-2.06-.94 2.06-2.06.94zm-11 1L8.5 8.5l.94-2.06 2.06-.94-2.06-.94L8.5 2.5l-.94 2.06-2.06.94zm10 10l.94 2.06.94-2.06 2.06-.94-2.06-.94-.94-2.06-.94 2.06-2.06.94z\"/><path d=\"M17.41 7.96l-1.37-1.37c-.4-.4-.92-.59-1.43-.59-.52 0-1.04.2-1.43.59L10.3 9.45l-7.72 7.72c-.78.78-.78 2.05 0 2.83L4 21.41c.39.39.9.59 1.41.59.51 0 1.02-.2 1.41-.59l7.78-7.78 2.81-2.81c.8-.78.8-2.07 0-2.86zM5.41 20L4 18.59l7.72-7.72 1.47 1.35L5.41 20z\"/>\n",
              "  </svg>\n",
              "      </button>\n",
              "      \n",
              "  <style>\n",
              "    .colab-df-container {\n",
              "      display:flex;\n",
              "      flex-wrap:wrap;\n",
              "      gap: 12px;\n",
              "    }\n",
              "\n",
              "    .colab-df-convert {\n",
              "      background-color: #E8F0FE;\n",
              "      border: none;\n",
              "      border-radius: 50%;\n",
              "      cursor: pointer;\n",
              "      display: none;\n",
              "      fill: #1967D2;\n",
              "      height: 32px;\n",
              "      padding: 0 0 0 0;\n",
              "      width: 32px;\n",
              "    }\n",
              "\n",
              "    .colab-df-convert:hover {\n",
              "      background-color: #E2EBFA;\n",
              "      box-shadow: 0px 1px 2px rgba(60, 64, 67, 0.3), 0px 1px 3px 1px rgba(60, 64, 67, 0.15);\n",
              "      fill: #174EA6;\n",
              "    }\n",
              "\n",
              "    [theme=dark] .colab-df-convert {\n",
              "      background-color: #3B4455;\n",
              "      fill: #D2E3FC;\n",
              "    }\n",
              "\n",
              "    [theme=dark] .colab-df-convert:hover {\n",
              "      background-color: #434B5C;\n",
              "      box-shadow: 0px 1px 3px 1px rgba(0, 0, 0, 0.15);\n",
              "      filter: drop-shadow(0px 1px 2px rgba(0, 0, 0, 0.3));\n",
              "      fill: #FFFFFF;\n",
              "    }\n",
              "  </style>\n",
              "\n",
              "      <script>\n",
              "        const buttonEl =\n",
              "          document.querySelector('#df-ddb6f114-8f29-432f-9641-1d3ab8466a0e button.colab-df-convert');\n",
              "        buttonEl.style.display =\n",
              "          google.colab.kernel.accessAllowed ? 'block' : 'none';\n",
              "\n",
              "        async function convertToInteractive(key) {\n",
              "          const element = document.querySelector('#df-ddb6f114-8f29-432f-9641-1d3ab8466a0e');\n",
              "          const dataTable =\n",
              "            await google.colab.kernel.invokeFunction('convertToInteractive',\n",
              "                                                     [key], {});\n",
              "          if (!dataTable) return;\n",
              "\n",
              "          const docLinkHtml = 'Like what you see? Visit the ' +\n",
              "            '<a target=\"_blank\" href=https://colab.research.google.com/notebooks/data_table.ipynb>data table notebook</a>'\n",
              "            + ' to learn more about interactive tables.';\n",
              "          element.innerHTML = '';\n",
              "          dataTable['output_type'] = 'display_data';\n",
              "          await google.colab.output.renderOutput(dataTable, element);\n",
              "          const docLink = document.createElement('div');\n",
              "          docLink.innerHTML = docLinkHtml;\n",
              "          element.appendChild(docLink);\n",
              "        }\n",
              "      </script>\n",
              "    </div>\n",
              "  </div>\n",
              "  "
            ]
          },
          "metadata": {},
          "execution_count": 189
        }
      ]
    },
    {
      "cell_type": "code",
      "source": [
        "from datetime import datetime\n",
        "%matplotlib inline"
      ],
      "metadata": {
        "id": "Vt8VU1l7uxr-"
      },
      "execution_count": 190,
      "outputs": []
    },
    {
      "cell_type": "code",
      "source": [
        "#Plotting the BTC Price trend line over the years \n",
        "plt.figure(figsize=(10,10))\n",
        "plt.title('Bitcoin Prices Over Time',fontsize=16)\n",
        "plt.plot(df.Date,df.BTC)\n",
        "#plt.plot(df.iloc[:,0],df.iloc[:,1:])\n",
        "plt.xlabel('Date',fontsize=14)\n",
        "plt.ylabel('USD',fontsize=14)\n",
        "plt.grid()\n",
        "plt.show()"
      ],
      "metadata": {
        "colab": {
          "base_uri": "https://localhost:8080/",
          "height": 627
        },
        "id": "-_Vvrk7EHstu",
        "outputId": "c2eca59c-62f8-49ae-f563-4ec5e5fc13cb"
      },
      "execution_count": 191,
      "outputs": [
        {
          "output_type": "display_data",
          "data": {
            "text/plain": [
              "<IPython.core.display.Javascript object>"
            ],
            "application/javascript": [
              "\n",
              "        if (window._pyforest_update_imports_cell) { window._pyforest_update_imports_cell('import numpy as np\\nfrom sklearn.ensemble import RandomForestRegressor\\nimport skimage\\nimport fastai\\nimport sklearn\\nimport re\\nfrom sklearn.model_selection import cross_val_score\\nfrom PIL import Image\\nimport fbprophet\\nimport plotly as py\\nfrom sklearn.feature_extraction.text import CountVectorizer\\nimport keras\\nimport pickle\\nimport altair as alt\\nimport xgboost as xgb\\nimport pandas as pd\\nfrom sklearn.ensemble import RandomForestClassifier\\nimport bokeh\\nfrom sklearn.preprocessing import RobustScaler\\nfrom sklearn.linear_model import LogisticRegression\\nimport pydot\\nimport seaborn as sns\\nfrom sklearn.linear_model import Ridge\\nfrom sklearn.linear_model import LassoCV\\nimport textblob\\nfrom sklearn import svm\\nfrom sklearn.model_selection import train_test_split\\nimport tensorflow as tf\\nfrom statsmodels.tsa.arima_model import ARIMA\\nfrom scipy import stats\\nimport statsmodels.api as sm\\nfrom sklearn.model_selection import RandomizedSearchCV\\nimport sys\\nimport cv2\\nimport torch\\nfrom sklearn.linear_model import Lasso\\nimport tqdm\\nimport matplotlib.pyplot as plt\\nfrom sklearn.linear_model import RidgeCV\\nfrom sklearn import metrics\\nfrom scipy import signal as sg\\nimport imutils\\nimport statistics\\nimport plotly.express as px\\nimport matplotlib as mpl\\nfrom sklearn.preprocessing import LabelEncoder\\nimport spacy'); }\n",
              "    "
            ]
          },
          "metadata": {}
        },
        {
          "output_type": "display_data",
          "data": {
            "text/plain": [
              "<IPython.core.display.Javascript object>"
            ],
            "application/javascript": [
              "\n",
              "        if (window._pyforest_update_imports_cell) { window._pyforest_update_imports_cell('import numpy as np\\nfrom sklearn.ensemble import RandomForestRegressor\\nimport skimage\\nimport fastai\\nimport sklearn\\nimport re\\nfrom sklearn.model_selection import cross_val_score\\nfrom PIL import Image\\nimport fbprophet\\nimport plotly as py\\nfrom sklearn.feature_extraction.text import CountVectorizer\\nimport keras\\nimport pickle\\nimport altair as alt\\nimport xgboost as xgb\\nimport pandas as pd\\nfrom sklearn.ensemble import RandomForestClassifier\\nimport bokeh\\nfrom sklearn.preprocessing import RobustScaler\\nfrom sklearn.linear_model import LogisticRegression\\nimport pydot\\nimport seaborn as sns\\nfrom sklearn.linear_model import Ridge\\nfrom sklearn.linear_model import LassoCV\\nimport textblob\\nfrom sklearn import svm\\nfrom sklearn.model_selection import train_test_split\\nimport tensorflow as tf\\nfrom statsmodels.tsa.arima_model import ARIMA\\nfrom scipy import stats\\nimport statsmodels.api as sm\\nfrom sklearn.model_selection import RandomizedSearchCV\\nimport sys\\nimport cv2\\nimport torch\\nfrom sklearn.linear_model import Lasso\\nimport tqdm\\nimport matplotlib.pyplot as plt\\nfrom sklearn.linear_model import RidgeCV\\nfrom sklearn import metrics\\nfrom scipy import signal as sg\\nimport imutils\\nimport statistics\\nimport plotly.express as px\\nimport matplotlib as mpl\\nfrom sklearn.preprocessing import LabelEncoder\\nimport spacy'); }\n",
              "    "
            ]
          },
          "metadata": {}
        },
        {
          "output_type": "display_data",
          "data": {
            "text/plain": [
              "<IPython.core.display.Javascript object>"
            ],
            "application/javascript": [
              "\n",
              "        if (window._pyforest_update_imports_cell) { window._pyforest_update_imports_cell('import numpy as np\\nfrom sklearn.ensemble import RandomForestRegressor\\nimport skimage\\nimport fastai\\nimport sklearn\\nimport re\\nfrom sklearn.model_selection import cross_val_score\\nfrom PIL import Image\\nimport fbprophet\\nimport plotly as py\\nfrom sklearn.feature_extraction.text import CountVectorizer\\nimport keras\\nimport pickle\\nimport altair as alt\\nimport xgboost as xgb\\nimport pandas as pd\\nfrom sklearn.ensemble import RandomForestClassifier\\nimport bokeh\\nfrom sklearn.preprocessing import RobustScaler\\nfrom sklearn.linear_model import LogisticRegression\\nimport pydot\\nimport seaborn as sns\\nfrom sklearn.linear_model import Ridge\\nfrom sklearn.linear_model import LassoCV\\nimport textblob\\nfrom sklearn import svm\\nfrom sklearn.model_selection import train_test_split\\nimport tensorflow as tf\\nfrom statsmodels.tsa.arima_model import ARIMA\\nfrom scipy import stats\\nimport statsmodels.api as sm\\nfrom sklearn.model_selection import RandomizedSearchCV\\nimport sys\\nimport cv2\\nimport torch\\nfrom sklearn.linear_model import Lasso\\nimport tqdm\\nimport matplotlib.pyplot as plt\\nfrom sklearn.linear_model import RidgeCV\\nfrom sklearn import metrics\\nfrom scipy import signal as sg\\nimport imutils\\nimport statistics\\nimport plotly.express as px\\nimport matplotlib as mpl\\nfrom sklearn.preprocessing import LabelEncoder\\nimport spacy'); }\n",
              "    "
            ]
          },
          "metadata": {}
        },
        {
          "output_type": "display_data",
          "data": {
            "text/plain": [
              "<IPython.core.display.Javascript object>"
            ],
            "application/javascript": [
              "\n",
              "        if (window._pyforest_update_imports_cell) { window._pyforest_update_imports_cell('import numpy as np\\nfrom sklearn.ensemble import RandomForestRegressor\\nimport skimage\\nimport fastai\\nimport sklearn\\nimport re\\nfrom sklearn.model_selection import cross_val_score\\nfrom PIL import Image\\nimport fbprophet\\nimport plotly as py\\nfrom sklearn.feature_extraction.text import CountVectorizer\\nimport keras\\nimport pickle\\nimport altair as alt\\nimport xgboost as xgb\\nimport pandas as pd\\nfrom sklearn.ensemble import RandomForestClassifier\\nimport bokeh\\nfrom sklearn.preprocessing import RobustScaler\\nfrom sklearn.linear_model import LogisticRegression\\nimport pydot\\nimport seaborn as sns\\nfrom sklearn.linear_model import Ridge\\nfrom sklearn.linear_model import LassoCV\\nimport textblob\\nfrom sklearn import svm\\nfrom sklearn.model_selection import train_test_split\\nimport tensorflow as tf\\nfrom statsmodels.tsa.arima_model import ARIMA\\nfrom scipy import stats\\nimport statsmodels.api as sm\\nfrom sklearn.model_selection import RandomizedSearchCV\\nimport sys\\nimport cv2\\nimport torch\\nfrom sklearn.linear_model import Lasso\\nimport tqdm\\nimport matplotlib.pyplot as plt\\nfrom sklearn.linear_model import RidgeCV\\nfrom sklearn import metrics\\nfrom scipy import signal as sg\\nimport imutils\\nimport statistics\\nimport plotly.express as px\\nimport matplotlib as mpl\\nfrom sklearn.preprocessing import LabelEncoder\\nimport spacy'); }\n",
              "    "
            ]
          },
          "metadata": {}
        },
        {
          "output_type": "display_data",
          "data": {
            "text/plain": [
              "<IPython.core.display.Javascript object>"
            ],
            "application/javascript": [
              "\n",
              "        if (window._pyforest_update_imports_cell) { window._pyforest_update_imports_cell('import numpy as np\\nfrom sklearn.ensemble import RandomForestRegressor\\nimport skimage\\nimport fastai\\nimport sklearn\\nimport re\\nfrom sklearn.model_selection import cross_val_score\\nfrom PIL import Image\\nimport fbprophet\\nimport plotly as py\\nfrom sklearn.feature_extraction.text import CountVectorizer\\nimport keras\\nimport pickle\\nimport altair as alt\\nimport xgboost as xgb\\nimport pandas as pd\\nfrom sklearn.ensemble import RandomForestClassifier\\nimport bokeh\\nfrom sklearn.preprocessing import RobustScaler\\nfrom sklearn.linear_model import LogisticRegression\\nimport pydot\\nimport seaborn as sns\\nfrom sklearn.linear_model import Ridge\\nfrom sklearn.linear_model import LassoCV\\nimport textblob\\nfrom sklearn import svm\\nfrom sklearn.model_selection import train_test_split\\nimport tensorflow as tf\\nfrom statsmodels.tsa.arima_model import ARIMA\\nfrom scipy import stats\\nimport statsmodels.api as sm\\nfrom sklearn.model_selection import RandomizedSearchCV\\nimport sys\\nimport cv2\\nimport torch\\nfrom sklearn.linear_model import Lasso\\nimport tqdm\\nimport matplotlib.pyplot as plt\\nfrom sklearn.linear_model import RidgeCV\\nfrom sklearn import metrics\\nfrom scipy import signal as sg\\nimport imutils\\nimport statistics\\nimport plotly.express as px\\nimport matplotlib as mpl\\nfrom sklearn.preprocessing import LabelEncoder\\nimport spacy'); }\n",
              "    "
            ]
          },
          "metadata": {}
        },
        {
          "output_type": "display_data",
          "data": {
            "text/plain": [
              "<IPython.core.display.Javascript object>"
            ],
            "application/javascript": [
              "\n",
              "        if (window._pyforest_update_imports_cell) { window._pyforest_update_imports_cell('import numpy as np\\nfrom sklearn.ensemble import RandomForestRegressor\\nimport skimage\\nimport fastai\\nimport sklearn\\nimport re\\nfrom sklearn.model_selection import cross_val_score\\nfrom PIL import Image\\nimport fbprophet\\nimport plotly as py\\nfrom sklearn.feature_extraction.text import CountVectorizer\\nimport keras\\nimport pickle\\nimport altair as alt\\nimport xgboost as xgb\\nimport pandas as pd\\nfrom sklearn.ensemble import RandomForestClassifier\\nimport bokeh\\nfrom sklearn.preprocessing import RobustScaler\\nfrom sklearn.linear_model import LogisticRegression\\nimport pydot\\nimport seaborn as sns\\nfrom sklearn.linear_model import Ridge\\nfrom sklearn.linear_model import LassoCV\\nimport textblob\\nfrom sklearn import svm\\nfrom sklearn.model_selection import train_test_split\\nimport tensorflow as tf\\nfrom statsmodels.tsa.arima_model import ARIMA\\nfrom scipy import stats\\nimport statsmodels.api as sm\\nfrom sklearn.model_selection import RandomizedSearchCV\\nimport sys\\nimport cv2\\nimport torch\\nfrom sklearn.linear_model import Lasso\\nimport tqdm\\nimport matplotlib.pyplot as plt\\nfrom sklearn.linear_model import RidgeCV\\nfrom sklearn import metrics\\nfrom scipy import signal as sg\\nimport imutils\\nimport statistics\\nimport plotly.express as px\\nimport matplotlib as mpl\\nfrom sklearn.preprocessing import LabelEncoder\\nimport spacy'); }\n",
              "    "
            ]
          },
          "metadata": {}
        },
        {
          "output_type": "display_data",
          "data": {
            "text/plain": [
              "<IPython.core.display.Javascript object>"
            ],
            "application/javascript": [
              "\n",
              "        if (window._pyforest_update_imports_cell) { window._pyforest_update_imports_cell('import numpy as np\\nfrom sklearn.ensemble import RandomForestRegressor\\nimport skimage\\nimport fastai\\nimport sklearn\\nimport re\\nfrom sklearn.model_selection import cross_val_score\\nfrom PIL import Image\\nimport fbprophet\\nimport plotly as py\\nfrom sklearn.feature_extraction.text import CountVectorizer\\nimport keras\\nimport pickle\\nimport altair as alt\\nimport xgboost as xgb\\nimport pandas as pd\\nfrom sklearn.ensemble import RandomForestClassifier\\nimport bokeh\\nfrom sklearn.preprocessing import RobustScaler\\nfrom sklearn.linear_model import LogisticRegression\\nimport pydot\\nimport seaborn as sns\\nfrom sklearn.linear_model import Ridge\\nfrom sklearn.linear_model import LassoCV\\nimport textblob\\nfrom sklearn import svm\\nfrom sklearn.model_selection import train_test_split\\nimport tensorflow as tf\\nfrom statsmodels.tsa.arima_model import ARIMA\\nfrom scipy import stats\\nimport statsmodels.api as sm\\nfrom sklearn.model_selection import RandomizedSearchCV\\nimport sys\\nimport cv2\\nimport torch\\nfrom sklearn.linear_model import Lasso\\nimport tqdm\\nimport matplotlib.pyplot as plt\\nfrom sklearn.linear_model import RidgeCV\\nfrom sklearn import metrics\\nfrom scipy import signal as sg\\nimport imutils\\nimport statistics\\nimport plotly.express as px\\nimport matplotlib as mpl\\nfrom sklearn.preprocessing import LabelEncoder\\nimport spacy'); }\n",
              "    "
            ]
          },
          "metadata": {}
        },
        {
          "output_type": "display_data",
          "data": {
            "text/plain": [
              "<Figure size 720x720 with 1 Axes>"
            ],
            "image/png": "[encoded data removed]"
          },
          "metadata": {
            "needs_background": "light"
          }
        }
      ]
    },
    {
      "cell_type": "code",
      "source": [
        "#Thaking the BTC values\n",
        "BTCStockValues=df['BTC'].values\n",
        "print(BTCStockValues)"
      ],
      "metadata": {
        "colab": {
          "base_uri": "https://localhost:8080/"
        },
        "id": "HKC4M0UzIe8Y",
        "outputId": "6ca24dff-d311-46ce-a228-5fa065cc31c5"
      },
      "execution_count": 192,
      "outputs": [
        {
          "output_type": "stream",
          "name": "stdout",
          "text": [
            "[ 106.25       98.099998  112.900002 ... 7191.359863 7980.129883\n",
            " 8183.830078]\n"
          ]
        }
      ]
    },
    {
      "cell_type": "code",
      "source": [
        "#Scaling the values and reshaping them\n",
        "sc=MinMaxScaler(feature_range=(0,1))\n",
        "BTCStockValuesScaledData=sc.fit_transform(BTCStockValues.reshape(-1, 1))\n",
        "BTCStockValuesScaledData"
      ],
      "metadata": {
        "colab": {
          "base_uri": "https://localhost:8080/"
        },
        "id": "TTSYbkr-IfM1",
        "outputId": "7417fedf-875d-4b5d-f23c-8097600c4365"
      },
      "execution_count": 193,
      "outputs": [
        {
          "output_type": "execute_result",
          "data": {
            "text/plain": [
              "array([[0.00193571],\n",
              "       [0.00150455],\n",
              "       [0.00228751],\n",
              "       ...,\n",
              "       [0.37675649],\n",
              "       [0.41848448],\n",
              "       [0.42926075]])"
            ]
          },
          "metadata": {},
          "execution_count": 193
        }
      ]
    },
    {
      "cell_type": "code",
      "source": [
        "#Traing the the data\n",
        "trainSize=int(len(BTCStockValuesScaledData)*0.8)\n",
        "testSize=len(BTCStockValuesScaledData)-trainSize\n",
        "trainData=BTCStockValuesScaledData[0:trainSize,:]\n",
        "testData=BTCStockValuesScaledData[trainSize:,:]\n"
      ],
      "metadata": {
        "id": "CdRAkoNTIfPY"
      },
      "execution_count": 194,
      "outputs": []
    },
    {
      "cell_type": "code",
      "source": [
        "def convertMatrix(dataset, step=1):\n",
        "  X=[]\n",
        "  Y=[]\n",
        "  for i in range(len(dataset)-step-1):\n",
        "\t  X.append(dataset[i:(i+step), 0])\n",
        "\t  Y.append(dataset[i + step, 0])\n",
        "  return np.array(X), np.array(Y)\n",
        "\n",
        "x_train, y_train = convertMatrix(trainData)\n",
        "x_test, y_test = convertMatrix(testData)"
      ],
      "metadata": {
        "colab": {
          "base_uri": "https://localhost:8080/",
          "height": 17
        },
        "id": "wvBkqIgCIfS_",
        "outputId": "ea50acfc-4a55-40ab-b33a-dff2d322ebff"
      },
      "execution_count": 195,
      "outputs": [
        {
          "output_type": "display_data",
          "data": {
            "text/plain": [
              "<IPython.core.display.Javascript object>"
            ],
            "application/javascript": [
              "\n",
              "        if (window._pyforest_update_imports_cell) { window._pyforest_update_imports_cell('import numpy as np\\nfrom sklearn.ensemble import RandomForestRegressor\\nimport skimage\\nimport fastai\\nimport sklearn\\nimport re\\nfrom sklearn.model_selection import cross_val_score\\nfrom PIL import Image\\nimport fbprophet\\nimport plotly as py\\nfrom sklearn.feature_extraction.text import CountVectorizer\\nimport keras\\nimport pickle\\nimport altair as alt\\nimport xgboost as xgb\\nimport pandas as pd\\nfrom sklearn.ensemble import RandomForestClassifier\\nimport bokeh\\nfrom sklearn.preprocessing import RobustScaler\\nfrom sklearn.linear_model import LogisticRegression\\nimport pydot\\nimport seaborn as sns\\nfrom sklearn.linear_model import Ridge\\nfrom sklearn.linear_model import LassoCV\\nimport textblob\\nfrom sklearn import svm\\nfrom sklearn.model_selection import train_test_split\\nimport tensorflow as tf\\nfrom statsmodels.tsa.arima_model import ARIMA\\nfrom scipy import stats\\nimport statsmodels.api as sm\\nfrom sklearn.model_selection import RandomizedSearchCV\\nimport sys\\nimport cv2\\nimport torch\\nfrom sklearn.linear_model import Lasso\\nimport tqdm\\nimport matplotlib.pyplot as plt\\nfrom sklearn.linear_model import RidgeCV\\nfrom sklearn import metrics\\nfrom scipy import signal as sg\\nimport imutils\\nimport statistics\\nimport plotly.express as px\\nimport matplotlib as mpl\\nfrom sklearn.preprocessing import LabelEncoder\\nimport spacy'); }\n",
              "    "
            ]
          },
          "metadata": {}
        },
        {
          "output_type": "display_data",
          "data": {
            "text/plain": [
              "<IPython.core.display.Javascript object>"
            ],
            "application/javascript": [
              "\n",
              "        if (window._pyforest_update_imports_cell) { window._pyforest_update_imports_cell('import numpy as np\\nfrom sklearn.ensemble import RandomForestRegressor\\nimport skimage\\nimport fastai\\nimport sklearn\\nimport re\\nfrom sklearn.model_selection import cross_val_score\\nfrom PIL import Image\\nimport fbprophet\\nimport plotly as py\\nfrom sklearn.feature_extraction.text import CountVectorizer\\nimport keras\\nimport pickle\\nimport altair as alt\\nimport xgboost as xgb\\nimport pandas as pd\\nfrom sklearn.ensemble import RandomForestClassifier\\nimport bokeh\\nfrom sklearn.preprocessing import RobustScaler\\nfrom sklearn.linear_model import LogisticRegression\\nimport pydot\\nimport seaborn as sns\\nfrom sklearn.linear_model import Ridge\\nfrom sklearn.linear_model import LassoCV\\nimport textblob\\nfrom sklearn import svm\\nfrom sklearn.model_selection import train_test_split\\nimport tensorflow as tf\\nfrom statsmodels.tsa.arima_model import ARIMA\\nfrom scipy import stats\\nimport statsmodels.api as sm\\nfrom sklearn.model_selection import RandomizedSearchCV\\nimport sys\\nimport cv2\\nimport torch\\nfrom sklearn.linear_model import Lasso\\nimport tqdm\\nimport matplotlib.pyplot as plt\\nfrom sklearn.linear_model import RidgeCV\\nfrom sklearn import metrics\\nfrom scipy import signal as sg\\nimport imutils\\nimport statistics\\nimport plotly.express as px\\nimport matplotlib as mpl\\nfrom sklearn.preprocessing import LabelEncoder\\nimport spacy'); }\n",
              "    "
            ]
          },
          "metadata": {}
        },
        {
          "output_type": "display_data",
          "data": {
            "text/plain": [
              "<IPython.core.display.Javascript object>"
            ],
            "application/javascript": [
              "\n",
              "        if (window._pyforest_update_imports_cell) { window._pyforest_update_imports_cell('import numpy as np\\nfrom sklearn.ensemble import RandomForestRegressor\\nimport skimage\\nimport fastai\\nimport sklearn\\nimport re\\nfrom sklearn.model_selection import cross_val_score\\nfrom PIL import Image\\nimport fbprophet\\nimport plotly as py\\nfrom sklearn.feature_extraction.text import CountVectorizer\\nimport keras\\nimport pickle\\nimport altair as alt\\nimport xgboost as xgb\\nimport pandas as pd\\nfrom sklearn.ensemble import RandomForestClassifier\\nimport bokeh\\nfrom sklearn.preprocessing import RobustScaler\\nfrom sklearn.linear_model import LogisticRegression\\nimport pydot\\nimport seaborn as sns\\nfrom sklearn.linear_model import Ridge\\nfrom sklearn.linear_model import LassoCV\\nimport textblob\\nfrom sklearn import svm\\nfrom sklearn.model_selection import train_test_split\\nimport tensorflow as tf\\nfrom statsmodels.tsa.arima_model import ARIMA\\nfrom scipy import stats\\nimport statsmodels.api as sm\\nfrom sklearn.model_selection import RandomizedSearchCV\\nimport sys\\nimport cv2\\nimport torch\\nfrom sklearn.linear_model import Lasso\\nimport tqdm\\nimport matplotlib.pyplot as plt\\nfrom sklearn.linear_model import RidgeCV\\nfrom sklearn import metrics\\nfrom scipy import signal as sg\\nimport imutils\\nimport statistics\\nimport plotly.express as px\\nimport matplotlib as mpl\\nfrom sklearn.preprocessing import LabelEncoder\\nimport spacy'); }\n",
              "    "
            ]
          },
          "metadata": {}
        },
        {
          "output_type": "display_data",
          "data": {
            "text/plain": [
              "<IPython.core.display.Javascript object>"
            ],
            "application/javascript": [
              "\n",
              "        if (window._pyforest_update_imports_cell) { window._pyforest_update_imports_cell('import numpy as np\\nfrom sklearn.ensemble import RandomForestRegressor\\nimport skimage\\nimport fastai\\nimport sklearn\\nimport re\\nfrom sklearn.model_selection import cross_val_score\\nfrom PIL import Image\\nimport fbprophet\\nimport plotly as py\\nfrom sklearn.feature_extraction.text import CountVectorizer\\nimport keras\\nimport pickle\\nimport altair as alt\\nimport xgboost as xgb\\nimport pandas as pd\\nfrom sklearn.ensemble import RandomForestClassifier\\nimport bokeh\\nfrom sklearn.preprocessing import RobustScaler\\nfrom sklearn.linear_model import LogisticRegression\\nimport pydot\\nimport seaborn as sns\\nfrom sklearn.linear_model import Ridge\\nfrom sklearn.linear_model import LassoCV\\nimport textblob\\nfrom sklearn import svm\\nfrom sklearn.model_selection import train_test_split\\nimport tensorflow as tf\\nfrom statsmodels.tsa.arima_model import ARIMA\\nfrom scipy import stats\\nimport statsmodels.api as sm\\nfrom sklearn.model_selection import RandomizedSearchCV\\nimport sys\\nimport cv2\\nimport torch\\nfrom sklearn.linear_model import Lasso\\nimport tqdm\\nimport matplotlib.pyplot as plt\\nfrom sklearn.linear_model import RidgeCV\\nfrom sklearn import metrics\\nfrom scipy import signal as sg\\nimport imutils\\nimport statistics\\nimport plotly.express as px\\nimport matplotlib as mpl\\nfrom sklearn.preprocessing import LabelEncoder\\nimport spacy'); }\n",
              "    "
            ]
          },
          "metadata": {}
        }
      ]
    },
    {
      "cell_type": "code",
      "source": [
        "x_train = np.reshape(x_train, (x_train.shape[0], 1, x_train.shape[1]))\n",
        "x_test = np.reshape(x_test, (x_test.shape[0], 1, x_test.shape[1]))\n",
        "print(x_train.shape)\n",
        "print(x_test.shape)"
      ],
      "metadata": {
        "id": "bG887oC35qTo",
        "colab": {
          "base_uri": "https://localhost:8080/",
          "height": 52
        },
        "outputId": "24d85a76-2f22-4c0d-ec54-d21c8311f1a9"
      },
      "execution_count": 196,
      "outputs": [
        {
          "output_type": "display_data",
          "data": {
            "text/plain": [
              "<IPython.core.display.Javascript object>"
            ],
            "application/javascript": [
              "\n",
              "        if (window._pyforest_update_imports_cell) { window._pyforest_update_imports_cell('import numpy as np\\nfrom sklearn.ensemble import RandomForestRegressor\\nimport skimage\\nimport fastai\\nimport sklearn\\nimport re\\nfrom sklearn.model_selection import cross_val_score\\nfrom PIL import Image\\nimport fbprophet\\nimport plotly as py\\nfrom sklearn.feature_extraction.text import CountVectorizer\\nimport keras\\nimport pickle\\nimport altair as alt\\nimport xgboost as xgb\\nimport pandas as pd\\nfrom sklearn.ensemble import RandomForestClassifier\\nimport bokeh\\nfrom sklearn.preprocessing import RobustScaler\\nfrom sklearn.linear_model import LogisticRegression\\nimport pydot\\nimport seaborn as sns\\nfrom sklearn.linear_model import Ridge\\nfrom sklearn.linear_model import LassoCV\\nimport textblob\\nfrom sklearn import svm\\nfrom sklearn.model_selection import train_test_split\\nimport tensorflow as tf\\nfrom statsmodels.tsa.arima_model import ARIMA\\nfrom scipy import stats\\nimport statsmodels.api as sm\\nfrom sklearn.model_selection import RandomizedSearchCV\\nimport sys\\nimport cv2\\nimport torch\\nfrom sklearn.linear_model import Lasso\\nimport tqdm\\nimport matplotlib.pyplot as plt\\nfrom sklearn.linear_model import RidgeCV\\nfrom sklearn import metrics\\nfrom scipy import signal as sg\\nimport imutils\\nimport statistics\\nimport plotly.express as px\\nimport matplotlib as mpl\\nfrom sklearn.preprocessing import LabelEncoder\\nimport spacy'); }\n",
              "    "
            ]
          },
          "metadata": {}
        },
        {
          "output_type": "display_data",
          "data": {
            "text/plain": [
              "<IPython.core.display.Javascript object>"
            ],
            "application/javascript": [
              "\n",
              "        if (window._pyforest_update_imports_cell) { window._pyforest_update_imports_cell('import numpy as np\\nfrom sklearn.ensemble import RandomForestRegressor\\nimport skimage\\nimport fastai\\nimport sklearn\\nimport re\\nfrom sklearn.model_selection import cross_val_score\\nfrom PIL import Image\\nimport fbprophet\\nimport plotly as py\\nfrom sklearn.feature_extraction.text import CountVectorizer\\nimport keras\\nimport pickle\\nimport altair as alt\\nimport xgboost as xgb\\nimport pandas as pd\\nfrom sklearn.ensemble import RandomForestClassifier\\nimport bokeh\\nfrom sklearn.preprocessing import RobustScaler\\nfrom sklearn.linear_model import LogisticRegression\\nimport pydot\\nimport seaborn as sns\\nfrom sklearn.linear_model import Ridge\\nfrom sklearn.linear_model import LassoCV\\nimport textblob\\nfrom sklearn import svm\\nfrom sklearn.model_selection import train_test_split\\nimport tensorflow as tf\\nfrom statsmodels.tsa.arima_model import ARIMA\\nfrom scipy import stats\\nimport statsmodels.api as sm\\nfrom sklearn.model_selection import RandomizedSearchCV\\nimport sys\\nimport cv2\\nimport torch\\nfrom sklearn.linear_model import Lasso\\nimport tqdm\\nimport matplotlib.pyplot as plt\\nfrom sklearn.linear_model import RidgeCV\\nfrom sklearn import metrics\\nfrom scipy import signal as sg\\nimport imutils\\nimport statistics\\nimport plotly.express as px\\nimport matplotlib as mpl\\nfrom sklearn.preprocessing import LabelEncoder\\nimport spacy'); }\n",
              "    "
            ]
          },
          "metadata": {}
        },
        {
          "output_type": "stream",
          "name": "stdout",
          "text": [
            "(1214, 1, 1)\n",
            "(302, 1, 1)\n"
          ]
        }
      ]
    },
    {
      "cell_type": "code",
      "source": [
        "model=Sequential()\n",
        "model.add(LSTM(50,return_sequences=True,input_shape=(1, 1)))\n",
        "model.add(LSTM(50,return_sequences=False))\n",
        "model.add(Dense(25))\n",
        "model.add(Dense(1))"
      ],
      "metadata": {
        "id": "2jDUTs-O5qWQ"
      },
      "execution_count": 197,
      "outputs": []
    },
    {
      "cell_type": "code",
      "source": [
        "model.compile(loss='mean_squared_error', optimizer='adam')\n",
        "model.fit(x_train, y_train, epochs=5, batch_size=1, verbose=2)"
      ],
      "metadata": {
        "id": "qomd3Vfn5qZo",
        "colab": {
          "base_uri": "https://localhost:8080/"
        },
        "outputId": "0967d94b-f045-497c-e9ea-aface99727ca"
      },
      "execution_count": 198,
      "outputs": [
        {
          "output_type": "stream",
          "name": "stdout",
          "text": [
            "Epoch 1/5\n",
            "1214/1214 - 11s - loss: 0.0040 - 11s/epoch - 9ms/step\n",
            "Epoch 2/5\n",
            "1214/1214 - 5s - loss: 4.6270e-04 - 5s/epoch - 4ms/step\n",
            "Epoch 3/5\n",
            "1214/1214 - 5s - loss: 6.7174e-04 - 5s/epoch - 4ms/step\n",
            "Epoch 4/5\n",
            "1214/1214 - 4s - loss: 4.6639e-04 - 4s/epoch - 3ms/step\n",
            "Epoch 5/5\n",
            "1214/1214 - 3s - loss: 5.4469e-04 - 3s/epoch - 2ms/step\n"
          ]
        },
        {
          "output_type": "execute_result",
          "data": {
            "text/plain": [
              "<keras.callbacks.History at 0x7f00ed28b590>"
            ]
          },
          "metadata": {},
          "execution_count": 198
        }
      ]
    },
    {
      "cell_type": "code",
      "source": [
        "trainX = model.predict(x_train)\n",
        "testX = model.predict(x_test)"
      ],
      "metadata": {
        "id": "srJqPI9j5qbl"
      },
      "execution_count": 199,
      "outputs": []
    },
    {
      "cell_type": "code",
      "source": [
        "trainPredict = sc.inverse_transform(trainX)\n",
        "testPredict = sc.inverse_transform(testX)"
      ],
      "metadata": {
        "id": "Ny6Fo5ta5qdy"
      },
      "execution_count": 200,
      "outputs": []
    },
    {
      "cell_type": "code",
      "source": [
        "trainY = sc.inverse_transform([y_train])\n",
        "testY = sc.inverse_transform([y_test]) "
      ],
      "metadata": {
        "id": "glG1B5Im5qg4"
      },
      "execution_count": 201,
      "outputs": []
    },
    {
      "cell_type": "code",
      "source": [
        "#Displaying the RMSE values\n",
        "trainScore = np.sqrt(np.mean(trainY-trainPredict)**2)\n",
        "print('RMSE' , trainScore)\n",
        "testScore = np.sqrt(np.mean(testY-testPredict)**2)\n",
        "print('RMSE' , testScore)"
      ],
      "metadata": {
        "id": "tcDCYlxW5qje",
        "colab": {
          "base_uri": "https://localhost:8080/",
          "height": 52
        },
        "outputId": "fc9743c6-0cff-43cb-92d8-96a9fe6eabd3"
      },
      "execution_count": 202,
      "outputs": [
        {
          "output_type": "display_data",
          "data": {
            "text/plain": [
              "<IPython.core.display.Javascript object>"
            ],
            "application/javascript": [
              "\n",
              "        if (window._pyforest_update_imports_cell) { window._pyforest_update_imports_cell('import numpy as np\\nfrom sklearn.ensemble import RandomForestRegressor\\nimport skimage\\nimport fastai\\nimport sklearn\\nimport re\\nfrom sklearn.model_selection import cross_val_score\\nfrom PIL import Image\\nimport fbprophet\\nimport plotly as py\\nfrom sklearn.feature_extraction.text import CountVectorizer\\nimport keras\\nimport pickle\\nimport altair as alt\\nimport xgboost as xgb\\nimport pandas as pd\\nfrom sklearn.ensemble import RandomForestClassifier\\nimport bokeh\\nfrom sklearn.preprocessing import RobustScaler\\nfrom sklearn.linear_model import LogisticRegression\\nimport pydot\\nimport seaborn as sns\\nfrom sklearn.linear_model import Ridge\\nfrom sklearn.linear_model import LassoCV\\nimport textblob\\nfrom sklearn import svm\\nfrom sklearn.model_selection import train_test_split\\nimport tensorflow as tf\\nfrom statsmodels.tsa.arima_model import ARIMA\\nfrom scipy import stats\\nimport statsmodels.api as sm\\nfrom sklearn.model_selection import RandomizedSearchCV\\nimport sys\\nimport cv2\\nimport torch\\nfrom sklearn.linear_model import Lasso\\nimport tqdm\\nimport matplotlib.pyplot as plt\\nfrom sklearn.linear_model import RidgeCV\\nfrom sklearn import metrics\\nfrom scipy import signal as sg\\nimport imutils\\nimport statistics\\nimport plotly.express as px\\nimport matplotlib as mpl\\nfrom sklearn.preprocessing import LabelEncoder\\nimport spacy'); }\n",
              "    "
            ]
          },
          "metadata": {}
        },
        {
          "output_type": "display_data",
          "data": {
            "text/plain": [
              "<IPython.core.display.Javascript object>"
            ],
            "application/javascript": [
              "\n",
              "        if (window._pyforest_update_imports_cell) { window._pyforest_update_imports_cell('import numpy as np\\nfrom sklearn.ensemble import RandomForestRegressor\\nimport skimage\\nimport fastai\\nimport sklearn\\nimport re\\nfrom sklearn.model_selection import cross_val_score\\nfrom PIL import Image\\nimport fbprophet\\nimport plotly as py\\nfrom sklearn.feature_extraction.text import CountVectorizer\\nimport keras\\nimport pickle\\nimport altair as alt\\nimport xgboost as xgb\\nimport pandas as pd\\nfrom sklearn.ensemble import RandomForestClassifier\\nimport bokeh\\nfrom sklearn.preprocessing import RobustScaler\\nfrom sklearn.linear_model import LogisticRegression\\nimport pydot\\nimport seaborn as sns\\nfrom sklearn.linear_model import Ridge\\nfrom sklearn.linear_model import LassoCV\\nimport textblob\\nfrom sklearn import svm\\nfrom sklearn.model_selection import train_test_split\\nimport tensorflow as tf\\nfrom statsmodels.tsa.arima_model import ARIMA\\nfrom scipy import stats\\nimport statsmodels.api as sm\\nfrom sklearn.model_selection import RandomizedSearchCV\\nimport sys\\nimport cv2\\nimport torch\\nfrom sklearn.linear_model import Lasso\\nimport tqdm\\nimport matplotlib.pyplot as plt\\nfrom sklearn.linear_model import RidgeCV\\nfrom sklearn import metrics\\nfrom scipy import signal as sg\\nimport imutils\\nimport statistics\\nimport plotly.express as px\\nimport matplotlib as mpl\\nfrom sklearn.preprocessing import LabelEncoder\\nimport spacy'); }\n",
              "    "
            ]
          },
          "metadata": {}
        },
        {
          "output_type": "stream",
          "name": "stdout",
          "text": [
            "RMSE 22.436429840973496\n"
          ]
        },
        {
          "output_type": "display_data",
          "data": {
            "text/plain": [
              "<IPython.core.display.Javascript object>"
            ],
            "application/javascript": [
              "\n",
              "        if (window._pyforest_update_imports_cell) { window._pyforest_update_imports_cell('import numpy as np\\nfrom sklearn.ensemble import RandomForestRegressor\\nimport skimage\\nimport fastai\\nimport sklearn\\nimport re\\nfrom sklearn.model_selection import cross_val_score\\nfrom PIL import Image\\nimport fbprophet\\nimport plotly as py\\nfrom sklearn.feature_extraction.text import CountVectorizer\\nimport keras\\nimport pickle\\nimport altair as alt\\nimport xgboost as xgb\\nimport pandas as pd\\nfrom sklearn.ensemble import RandomForestClassifier\\nimport bokeh\\nfrom sklearn.preprocessing import RobustScaler\\nfrom sklearn.linear_model import LogisticRegression\\nimport pydot\\nimport seaborn as sns\\nfrom sklearn.linear_model import Ridge\\nfrom sklearn.linear_model import LassoCV\\nimport textblob\\nfrom sklearn import svm\\nfrom sklearn.model_selection import train_test_split\\nimport tensorflow as tf\\nfrom statsmodels.tsa.arima_model import ARIMA\\nfrom scipy import stats\\nimport statsmodels.api as sm\\nfrom sklearn.model_selection import RandomizedSearchCV\\nimport sys\\nimport cv2\\nimport torch\\nfrom sklearn.linear_model import Lasso\\nimport tqdm\\nimport matplotlib.pyplot as plt\\nfrom sklearn.linear_model import RidgeCV\\nfrom sklearn import metrics\\nfrom scipy import signal as sg\\nimport imutils\\nimport statistics\\nimport plotly.express as px\\nimport matplotlib as mpl\\nfrom sklearn.preprocessing import LabelEncoder\\nimport spacy'); }\n",
              "    "
            ]
          },
          "metadata": {}
        },
        {
          "output_type": "display_data",
          "data": {
            "text/plain": [
              "<IPython.core.display.Javascript object>"
            ],
            "application/javascript": [
              "\n",
              "        if (window._pyforest_update_imports_cell) { window._pyforest_update_imports_cell('import numpy as np\\nfrom sklearn.ensemble import RandomForestRegressor\\nimport skimage\\nimport fastai\\nimport sklearn\\nimport re\\nfrom sklearn.model_selection import cross_val_score\\nfrom PIL import Image\\nimport fbprophet\\nimport plotly as py\\nfrom sklearn.feature_extraction.text import CountVectorizer\\nimport keras\\nimport pickle\\nimport altair as alt\\nimport xgboost as xgb\\nimport pandas as pd\\nfrom sklearn.ensemble import RandomForestClassifier\\nimport bokeh\\nfrom sklearn.preprocessing import RobustScaler\\nfrom sklearn.linear_model import LogisticRegression\\nimport pydot\\nimport seaborn as sns\\nfrom sklearn.linear_model import Ridge\\nfrom sklearn.linear_model import LassoCV\\nimport textblob\\nfrom sklearn import svm\\nfrom sklearn.model_selection import train_test_split\\nimport tensorflow as tf\\nfrom statsmodels.tsa.arima_model import ARIMA\\nfrom scipy import stats\\nimport statsmodels.api as sm\\nfrom sklearn.model_selection import RandomizedSearchCV\\nimport sys\\nimport cv2\\nimport torch\\nfrom sklearn.linear_model import Lasso\\nimport tqdm\\nimport matplotlib.pyplot as plt\\nfrom sklearn.linear_model import RidgeCV\\nfrom sklearn import metrics\\nfrom scipy import signal as sg\\nimport imutils\\nimport statistics\\nimport plotly.express as px\\nimport matplotlib as mpl\\nfrom sklearn.preprocessing import LabelEncoder\\nimport spacy'); }\n",
              "    "
            ]
          },
          "metadata": {}
        },
        {
          "output_type": "stream",
          "name": "stdout",
          "text": [
            "RMSE 115.90111085699509\n"
          ]
        }
      ]
    },
    {
      "cell_type": "code",
      "source": [
        "trainPlot = np.empty_like(BTCStockValuesScaledData)\n",
        "testPlot = np.empty_like(BTCStockValuesScaledData)\n",
        "trainPlot[:, :] = np.nan\n",
        "testPlot[:, :] = np.nan"
      ],
      "metadata": {
        "id": "HqfjAv-k5qmF",
        "colab": {
          "base_uri": "https://localhost:8080/",
          "height": 17
        },
        "outputId": "498889e8-cbee-4378-a146-1b2309006076"
      },
      "execution_count": 203,
      "outputs": [
        {
          "output_type": "display_data",
          "data": {
            "text/plain": [
              "<IPython.core.display.Javascript object>"
            ],
            "application/javascript": [
              "\n",
              "        if (window._pyforest_update_imports_cell) { window._pyforest_update_imports_cell('import numpy as np\\nfrom sklearn.ensemble import RandomForestRegressor\\nimport skimage\\nimport fastai\\nimport sklearn\\nimport re\\nfrom sklearn.model_selection import cross_val_score\\nfrom PIL import Image\\nimport fbprophet\\nimport plotly as py\\nfrom sklearn.feature_extraction.text import CountVectorizer\\nimport keras\\nimport pickle\\nimport altair as alt\\nimport xgboost as xgb\\nimport pandas as pd\\nfrom sklearn.ensemble import RandomForestClassifier\\nimport bokeh\\nfrom sklearn.preprocessing import RobustScaler\\nfrom sklearn.linear_model import LogisticRegression\\nimport pydot\\nimport seaborn as sns\\nfrom sklearn.linear_model import Ridge\\nfrom sklearn.linear_model import LassoCV\\nimport textblob\\nfrom sklearn import svm\\nfrom sklearn.model_selection import train_test_split\\nimport tensorflow as tf\\nfrom statsmodels.tsa.arima_model import ARIMA\\nfrom scipy import stats\\nimport statsmodels.api as sm\\nfrom sklearn.model_selection import RandomizedSearchCV\\nimport sys\\nimport cv2\\nimport torch\\nfrom sklearn.linear_model import Lasso\\nimport tqdm\\nimport matplotlib.pyplot as plt\\nfrom sklearn.linear_model import RidgeCV\\nfrom sklearn import metrics\\nfrom scipy import signal as sg\\nimport imutils\\nimport statistics\\nimport plotly.express as px\\nimport matplotlib as mpl\\nfrom sklearn.preprocessing import LabelEncoder\\nimport spacy'); }\n",
              "    "
            ]
          },
          "metadata": {}
        },
        {
          "output_type": "display_data",
          "data": {
            "text/plain": [
              "<IPython.core.display.Javascript object>"
            ],
            "application/javascript": [
              "\n",
              "        if (window._pyforest_update_imports_cell) { window._pyforest_update_imports_cell('import numpy as np\\nfrom sklearn.ensemble import RandomForestRegressor\\nimport skimage\\nimport fastai\\nimport sklearn\\nimport re\\nfrom sklearn.model_selection import cross_val_score\\nfrom PIL import Image\\nimport fbprophet\\nimport plotly as py\\nfrom sklearn.feature_extraction.text import CountVectorizer\\nimport keras\\nimport pickle\\nimport altair as alt\\nimport xgboost as xgb\\nimport pandas as pd\\nfrom sklearn.ensemble import RandomForestClassifier\\nimport bokeh\\nfrom sklearn.preprocessing import RobustScaler\\nfrom sklearn.linear_model import LogisticRegression\\nimport pydot\\nimport seaborn as sns\\nfrom sklearn.linear_model import Ridge\\nfrom sklearn.linear_model import LassoCV\\nimport textblob\\nfrom sklearn import svm\\nfrom sklearn.model_selection import train_test_split\\nimport tensorflow as tf\\nfrom statsmodels.tsa.arima_model import ARIMA\\nfrom scipy import stats\\nimport statsmodels.api as sm\\nfrom sklearn.model_selection import RandomizedSearchCV\\nimport sys\\nimport cv2\\nimport torch\\nfrom sklearn.linear_model import Lasso\\nimport tqdm\\nimport matplotlib.pyplot as plt\\nfrom sklearn.linear_model import RidgeCV\\nfrom sklearn import metrics\\nfrom scipy import signal as sg\\nimport imutils\\nimport statistics\\nimport plotly.express as px\\nimport matplotlib as mpl\\nfrom sklearn.preprocessing import LabelEncoder\\nimport spacy'); }\n",
              "    "
            ]
          },
          "metadata": {}
        },
        {
          "output_type": "display_data",
          "data": {
            "text/plain": [
              "<IPython.core.display.Javascript object>"
            ],
            "application/javascript": [
              "\n",
              "        if (window._pyforest_update_imports_cell) { window._pyforest_update_imports_cell('import numpy as np\\nfrom sklearn.ensemble import RandomForestRegressor\\nimport skimage\\nimport fastai\\nimport sklearn\\nimport re\\nfrom sklearn.model_selection import cross_val_score\\nfrom PIL import Image\\nimport fbprophet\\nimport plotly as py\\nfrom sklearn.feature_extraction.text import CountVectorizer\\nimport keras\\nimport pickle\\nimport altair as alt\\nimport xgboost as xgb\\nimport pandas as pd\\nfrom sklearn.ensemble import RandomForestClassifier\\nimport bokeh\\nfrom sklearn.preprocessing import RobustScaler\\nfrom sklearn.linear_model import LogisticRegression\\nimport pydot\\nimport seaborn as sns\\nfrom sklearn.linear_model import Ridge\\nfrom sklearn.linear_model import LassoCV\\nimport textblob\\nfrom sklearn import svm\\nfrom sklearn.model_selection import train_test_split\\nimport tensorflow as tf\\nfrom statsmodels.tsa.arima_model import ARIMA\\nfrom scipy import stats\\nimport statsmodels.api as sm\\nfrom sklearn.model_selection import RandomizedSearchCV\\nimport sys\\nimport cv2\\nimport torch\\nfrom sklearn.linear_model import Lasso\\nimport tqdm\\nimport matplotlib.pyplot as plt\\nfrom sklearn.linear_model import RidgeCV\\nfrom sklearn import metrics\\nfrom scipy import signal as sg\\nimport imutils\\nimport statistics\\nimport plotly.express as px\\nimport matplotlib as mpl\\nfrom sklearn.preprocessing import LabelEncoder\\nimport spacy'); }\n",
              "    "
            ]
          },
          "metadata": {}
        },
        {
          "output_type": "display_data",
          "data": {
            "text/plain": [
              "<IPython.core.display.Javascript object>"
            ],
            "application/javascript": [
              "\n",
              "        if (window._pyforest_update_imports_cell) { window._pyforest_update_imports_cell('import numpy as np\\nfrom sklearn.ensemble import RandomForestRegressor\\nimport skimage\\nimport fastai\\nimport sklearn\\nimport re\\nfrom sklearn.model_selection import cross_val_score\\nfrom PIL import Image\\nimport fbprophet\\nimport plotly as py\\nfrom sklearn.feature_extraction.text import CountVectorizer\\nimport keras\\nimport pickle\\nimport altair as alt\\nimport xgboost as xgb\\nimport pandas as pd\\nfrom sklearn.ensemble import RandomForestClassifier\\nimport bokeh\\nfrom sklearn.preprocessing import RobustScaler\\nfrom sklearn.linear_model import LogisticRegression\\nimport pydot\\nimport seaborn as sns\\nfrom sklearn.linear_model import Ridge\\nfrom sklearn.linear_model import LassoCV\\nimport textblob\\nfrom sklearn import svm\\nfrom sklearn.model_selection import train_test_split\\nimport tensorflow as tf\\nfrom statsmodels.tsa.arima_model import ARIMA\\nfrom scipy import stats\\nimport statsmodels.api as sm\\nfrom sklearn.model_selection import RandomizedSearchCV\\nimport sys\\nimport cv2\\nimport torch\\nfrom sklearn.linear_model import Lasso\\nimport tqdm\\nimport matplotlib.pyplot as plt\\nfrom sklearn.linear_model import RidgeCV\\nfrom sklearn import metrics\\nfrom scipy import signal as sg\\nimport imutils\\nimport statistics\\nimport plotly.express as px\\nimport matplotlib as mpl\\nfrom sklearn.preprocessing import LabelEncoder\\nimport spacy'); }\n",
              "    "
            ]
          },
          "metadata": {}
        }
      ]
    },
    {
      "cell_type": "code",
      "source": [
        "trainPlot[1:len(trainPredict)+1, :] = trainPredict\n",
        "testPlot[len(trainPredict)+(1*2)+1:len(BTCStockValuesScaledData)-1, :] = testPredict"
      ],
      "metadata": {
        "id": "kplGDAid5qo7"
      },
      "execution_count": 204,
      "outputs": []
    },
    {
      "cell_type": "code",
      "source": [
        "#Plotting the final graph\n",
        "plt.figure(figsize=(10,10))\n",
        "plt.title('Stock Price Prediction',fontsize=12)\n",
        "plt.plot(df.Date,sc.inverse_transform(BTCStockValuesScaledData),color = 'blue')\n",
        "#plt.plot(df.Date,trainPlot)\n",
        "plt.plot(df.Date,testPlot,color = 'red')\n",
        "plt.legend(['Actual BTC Price','Predicted BTC Price'],loc='upper left')\n",
        "#plt.legend(['Actual','Train Predictions','Test Predictions'],loc='lower right')\n",
        "plt.xlabel('Date',fontsize=12)\n",
        "plt.ylabel('USD',fontsize=12)\n",
        "plt.show()"
      ],
      "metadata": {
        "id": "7EUCtFBz5qrP",
        "colab": {
          "base_uri": "https://localhost:8080/",
          "height": 625
        },
        "outputId": "feced150-f9dc-4d62-fe85-31716855172b"
      },
      "execution_count": 205,
      "outputs": [
        {
          "output_type": "display_data",
          "data": {
            "text/plain": [
              "<IPython.core.display.Javascript object>"
            ],
            "application/javascript": [
              "\n",
              "        if (window._pyforest_update_imports_cell) { window._pyforest_update_imports_cell('import numpy as np\\nfrom sklearn.ensemble import RandomForestRegressor\\nimport skimage\\nimport fastai\\nimport sklearn\\nimport re\\nfrom sklearn.model_selection import cross_val_score\\nfrom PIL import Image\\nimport fbprophet\\nimport plotly as py\\nfrom sklearn.feature_extraction.text import CountVectorizer\\nimport keras\\nimport pickle\\nimport altair as alt\\nimport xgboost as xgb\\nimport pandas as pd\\nfrom sklearn.ensemble import RandomForestClassifier\\nimport bokeh\\nfrom sklearn.preprocessing import RobustScaler\\nfrom sklearn.linear_model import LogisticRegression\\nimport pydot\\nimport seaborn as sns\\nfrom sklearn.linear_model import Ridge\\nfrom sklearn.linear_model import LassoCV\\nimport textblob\\nfrom sklearn import svm\\nfrom sklearn.model_selection import train_test_split\\nimport tensorflow as tf\\nfrom statsmodels.tsa.arima_model import ARIMA\\nfrom scipy import stats\\nimport statsmodels.api as sm\\nfrom sklearn.model_selection import RandomizedSearchCV\\nimport sys\\nimport cv2\\nimport torch\\nfrom sklearn.linear_model import Lasso\\nimport tqdm\\nimport matplotlib.pyplot as plt\\nfrom sklearn.linear_model import RidgeCV\\nfrom sklearn import metrics\\nfrom scipy import signal as sg\\nimport imutils\\nimport statistics\\nimport plotly.express as px\\nimport matplotlib as mpl\\nfrom sklearn.preprocessing import LabelEncoder\\nimport spacy'); }\n",
              "    "
            ]
          },
          "metadata": {}
        },
        {
          "output_type": "display_data",
          "data": {
            "text/plain": [
              "<IPython.core.display.Javascript object>"
            ],
            "application/javascript": [
              "\n",
              "        if (window._pyforest_update_imports_cell) { window._pyforest_update_imports_cell('import numpy as np\\nfrom sklearn.ensemble import RandomForestRegressor\\nimport skimage\\nimport fastai\\nimport sklearn\\nimport re\\nfrom sklearn.model_selection import cross_val_score\\nfrom PIL import Image\\nimport fbprophet\\nimport plotly as py\\nfrom sklearn.feature_extraction.text import CountVectorizer\\nimport keras\\nimport pickle\\nimport altair as alt\\nimport xgboost as xgb\\nimport pandas as pd\\nfrom sklearn.ensemble import RandomForestClassifier\\nimport bokeh\\nfrom sklearn.preprocessing import RobustScaler\\nfrom sklearn.linear_model import LogisticRegression\\nimport pydot\\nimport seaborn as sns\\nfrom sklearn.linear_model import Ridge\\nfrom sklearn.linear_model import LassoCV\\nimport textblob\\nfrom sklearn import svm\\nfrom sklearn.model_selection import train_test_split\\nimport tensorflow as tf\\nfrom statsmodels.tsa.arima_model import ARIMA\\nfrom scipy import stats\\nimport statsmodels.api as sm\\nfrom sklearn.model_selection import RandomizedSearchCV\\nimport sys\\nimport cv2\\nimport torch\\nfrom sklearn.linear_model import Lasso\\nimport tqdm\\nimport matplotlib.pyplot as plt\\nfrom sklearn.linear_model import RidgeCV\\nfrom sklearn import metrics\\nfrom scipy import signal as sg\\nimport imutils\\nimport statistics\\nimport plotly.express as px\\nimport matplotlib as mpl\\nfrom sklearn.preprocessing import LabelEncoder\\nimport spacy'); }\n",
              "    "
            ]
          },
          "metadata": {}
        },
        {
          "output_type": "display_data",
          "data": {
            "text/plain": [
              "<IPython.core.display.Javascript object>"
            ],
            "application/javascript": [
              "\n",
              "        if (window._pyforest_update_imports_cell) { window._pyforest_update_imports_cell('import numpy as np\\nfrom sklearn.ensemble import RandomForestRegressor\\nimport skimage\\nimport fastai\\nimport sklearn\\nimport re\\nfrom sklearn.model_selection import cross_val_score\\nfrom PIL import Image\\nimport fbprophet\\nimport plotly as py\\nfrom sklearn.feature_extraction.text import CountVectorizer\\nimport keras\\nimport pickle\\nimport altair as alt\\nimport xgboost as xgb\\nimport pandas as pd\\nfrom sklearn.ensemble import RandomForestClassifier\\nimport bokeh\\nfrom sklearn.preprocessing import RobustScaler\\nfrom sklearn.linear_model import LogisticRegression\\nimport pydot\\nimport seaborn as sns\\nfrom sklearn.linear_model import Ridge\\nfrom sklearn.linear_model import LassoCV\\nimport textblob\\nfrom sklearn import svm\\nfrom sklearn.model_selection import train_test_split\\nimport tensorflow as tf\\nfrom statsmodels.tsa.arima_model import ARIMA\\nfrom scipy import stats\\nimport statsmodels.api as sm\\nfrom sklearn.model_selection import RandomizedSearchCV\\nimport sys\\nimport cv2\\nimport torch\\nfrom sklearn.linear_model import Lasso\\nimport tqdm\\nimport matplotlib.pyplot as plt\\nfrom sklearn.linear_model import RidgeCV\\nfrom sklearn import metrics\\nfrom scipy import signal as sg\\nimport imutils\\nimport statistics\\nimport plotly.express as px\\nimport matplotlib as mpl\\nfrom sklearn.preprocessing import LabelEncoder\\nimport spacy'); }\n",
              "    "
            ]
          },
          "metadata": {}
        },
        {
          "output_type": "display_data",
          "data": {
            "text/plain": [
              "<IPython.core.display.Javascript object>"
            ],
            "application/javascript": [
              "\n",
              "        if (window._pyforest_update_imports_cell) { window._pyforest_update_imports_cell('import numpy as np\\nfrom sklearn.ensemble import RandomForestRegressor\\nimport skimage\\nimport fastai\\nimport sklearn\\nimport re\\nfrom sklearn.model_selection import cross_val_score\\nfrom PIL import Image\\nimport fbprophet\\nimport plotly as py\\nfrom sklearn.feature_extraction.text import CountVectorizer\\nimport keras\\nimport pickle\\nimport altair as alt\\nimport xgboost as xgb\\nimport pandas as pd\\nfrom sklearn.ensemble import RandomForestClassifier\\nimport bokeh\\nfrom sklearn.preprocessing import RobustScaler\\nfrom sklearn.linear_model import LogisticRegression\\nimport pydot\\nimport seaborn as sns\\nfrom sklearn.linear_model import Ridge\\nfrom sklearn.linear_model import LassoCV\\nimport textblob\\nfrom sklearn import svm\\nfrom sklearn.model_selection import train_test_split\\nimport tensorflow as tf\\nfrom statsmodels.tsa.arima_model import ARIMA\\nfrom scipy import stats\\nimport statsmodels.api as sm\\nfrom sklearn.model_selection import RandomizedSearchCV\\nimport sys\\nimport cv2\\nimport torch\\nfrom sklearn.linear_model import Lasso\\nimport tqdm\\nimport matplotlib.pyplot as plt\\nfrom sklearn.linear_model import RidgeCV\\nfrom sklearn import metrics\\nfrom scipy import signal as sg\\nimport imutils\\nimport statistics\\nimport plotly.express as px\\nimport matplotlib as mpl\\nfrom sklearn.preprocessing import LabelEncoder\\nimport spacy'); }\n",
              "    "
            ]
          },
          "metadata": {}
        },
        {
          "output_type": "display_data",
          "data": {
            "text/plain": [
              "<IPython.core.display.Javascript object>"
            ],
            "application/javascript": [
              "\n",
              "        if (window._pyforest_update_imports_cell) { window._pyforest_update_imports_cell('import numpy as np\\nfrom sklearn.ensemble import RandomForestRegressor\\nimport skimage\\nimport fastai\\nimport sklearn\\nimport re\\nfrom sklearn.model_selection import cross_val_score\\nfrom PIL import Image\\nimport fbprophet\\nimport plotly as py\\nfrom sklearn.feature_extraction.text import CountVectorizer\\nimport keras\\nimport pickle\\nimport altair as alt\\nimport xgboost as xgb\\nimport pandas as pd\\nfrom sklearn.ensemble import RandomForestClassifier\\nimport bokeh\\nfrom sklearn.preprocessing import RobustScaler\\nfrom sklearn.linear_model import LogisticRegression\\nimport pydot\\nimport seaborn as sns\\nfrom sklearn.linear_model import Ridge\\nfrom sklearn.linear_model import LassoCV\\nimport textblob\\nfrom sklearn import svm\\nfrom sklearn.model_selection import train_test_split\\nimport tensorflow as tf\\nfrom statsmodels.tsa.arima_model import ARIMA\\nfrom scipy import stats\\nimport statsmodels.api as sm\\nfrom sklearn.model_selection import RandomizedSearchCV\\nimport sys\\nimport cv2\\nimport torch\\nfrom sklearn.linear_model import Lasso\\nimport tqdm\\nimport matplotlib.pyplot as plt\\nfrom sklearn.linear_model import RidgeCV\\nfrom sklearn import metrics\\nfrom scipy import signal as sg\\nimport imutils\\nimport statistics\\nimport plotly.express as px\\nimport matplotlib as mpl\\nfrom sklearn.preprocessing import LabelEncoder\\nimport spacy'); }\n",
              "    "
            ]
          },
          "metadata": {}
        },
        {
          "output_type": "display_data",
          "data": {
            "text/plain": [
              "<IPython.core.display.Javascript object>"
            ],
            "application/javascript": [
              "\n",
              "        if (window._pyforest_update_imports_cell) { window._pyforest_update_imports_cell('import numpy as np\\nfrom sklearn.ensemble import RandomForestRegressor\\nimport skimage\\nimport fastai\\nimport sklearn\\nimport re\\nfrom sklearn.model_selection import cross_val_score\\nfrom PIL import Image\\nimport fbprophet\\nimport plotly as py\\nfrom sklearn.feature_extraction.text import CountVectorizer\\nimport keras\\nimport pickle\\nimport altair as alt\\nimport xgboost as xgb\\nimport pandas as pd\\nfrom sklearn.ensemble import RandomForestClassifier\\nimport bokeh\\nfrom sklearn.preprocessing import RobustScaler\\nfrom sklearn.linear_model import LogisticRegression\\nimport pydot\\nimport seaborn as sns\\nfrom sklearn.linear_model import Ridge\\nfrom sklearn.linear_model import LassoCV\\nimport textblob\\nfrom sklearn import svm\\nfrom sklearn.model_selection import train_test_split\\nimport tensorflow as tf\\nfrom statsmodels.tsa.arima_model import ARIMA\\nfrom scipy import stats\\nimport statsmodels.api as sm\\nfrom sklearn.model_selection import RandomizedSearchCV\\nimport sys\\nimport cv2\\nimport torch\\nfrom sklearn.linear_model import Lasso\\nimport tqdm\\nimport matplotlib.pyplot as plt\\nfrom sklearn.linear_model import RidgeCV\\nfrom sklearn import metrics\\nfrom scipy import signal as sg\\nimport imutils\\nimport statistics\\nimport plotly.express as px\\nimport matplotlib as mpl\\nfrom sklearn.preprocessing import LabelEncoder\\nimport spacy'); }\n",
              "    "
            ]
          },
          "metadata": {}
        },
        {
          "output_type": "display_data",
          "data": {
            "text/plain": [
              "<IPython.core.display.Javascript object>"
            ],
            "application/javascript": [
              "\n",
              "        if (window._pyforest_update_imports_cell) { window._pyforest_update_imports_cell('import numpy as np\\nfrom sklearn.ensemble import RandomForestRegressor\\nimport skimage\\nimport fastai\\nimport sklearn\\nimport re\\nfrom sklearn.model_selection import cross_val_score\\nfrom PIL import Image\\nimport fbprophet\\nimport plotly as py\\nfrom sklearn.feature_extraction.text import CountVectorizer\\nimport keras\\nimport pickle\\nimport altair as alt\\nimport xgboost as xgb\\nimport pandas as pd\\nfrom sklearn.ensemble import RandomForestClassifier\\nimport bokeh\\nfrom sklearn.preprocessing import RobustScaler\\nfrom sklearn.linear_model import LogisticRegression\\nimport pydot\\nimport seaborn as sns\\nfrom sklearn.linear_model import Ridge\\nfrom sklearn.linear_model import LassoCV\\nimport textblob\\nfrom sklearn import svm\\nfrom sklearn.model_selection import train_test_split\\nimport tensorflow as tf\\nfrom statsmodels.tsa.arima_model import ARIMA\\nfrom scipy import stats\\nimport statsmodels.api as sm\\nfrom sklearn.model_selection import RandomizedSearchCV\\nimport sys\\nimport cv2\\nimport torch\\nfrom sklearn.linear_model import Lasso\\nimport tqdm\\nimport matplotlib.pyplot as plt\\nfrom sklearn.linear_model import RidgeCV\\nfrom sklearn import metrics\\nfrom scipy import signal as sg\\nimport imutils\\nimport statistics\\nimport plotly.express as px\\nimport matplotlib as mpl\\nfrom sklearn.preprocessing import LabelEncoder\\nimport spacy'); }\n",
              "    "
            ]
          },
          "metadata": {}
        },
        {
          "output_type": "display_data",
          "data": {
            "text/plain": [
              "<IPython.core.display.Javascript object>"
            ],
            "application/javascript": [
              "\n",
              "        if (window._pyforest_update_imports_cell) { window._pyforest_update_imports_cell('import numpy as np\\nfrom sklearn.ensemble import RandomForestRegressor\\nimport skimage\\nimport fastai\\nimport sklearn\\nimport re\\nfrom sklearn.model_selection import cross_val_score\\nfrom PIL import Image\\nimport fbprophet\\nimport plotly as py\\nfrom sklearn.feature_extraction.text import CountVectorizer\\nimport keras\\nimport pickle\\nimport altair as alt\\nimport xgboost as xgb\\nimport pandas as pd\\nfrom sklearn.ensemble import RandomForestClassifier\\nimport bokeh\\nfrom sklearn.preprocessing import RobustScaler\\nfrom sklearn.linear_model import LogisticRegression\\nimport pydot\\nimport seaborn as sns\\nfrom sklearn.linear_model import Ridge\\nfrom sklearn.linear_model import LassoCV\\nimport textblob\\nfrom sklearn import svm\\nfrom sklearn.model_selection import train_test_split\\nimport tensorflow as tf\\nfrom statsmodels.tsa.arima_model import ARIMA\\nfrom scipy import stats\\nimport statsmodels.api as sm\\nfrom sklearn.model_selection import RandomizedSearchCV\\nimport sys\\nimport cv2\\nimport torch\\nfrom sklearn.linear_model import Lasso\\nimport tqdm\\nimport matplotlib.pyplot as plt\\nfrom sklearn.linear_model import RidgeCV\\nfrom sklearn import metrics\\nfrom scipy import signal as sg\\nimport imutils\\nimport statistics\\nimport plotly.express as px\\nimport matplotlib as mpl\\nfrom sklearn.preprocessing import LabelEncoder\\nimport spacy'); }\n",
              "    "
            ]
          },
          "metadata": {}
        },
        {
          "output_type": "display_data",
          "data": {
            "text/plain": [
              "<Figure size 720x720 with 1 Axes>"
            ],
            "image/png": "[encoded data removed]"
          },
          "metadata": {
            "needs_background": "light"
          }
        }
      ]
    },
    {
      "cell_type": "markdown",
      "metadata": {
        "id": "I4oQxwjl4YrF"
      },
      "source": [
        "### Question 2 (25 points) The objective of this task is to detect hate speech in tweets. For the sake of simplicity, we say a tweet contains hate speech if it has a racist or sexist sentiment associated with it. So, the task is to classify racist or sexist tweets from other tweets. Formally, given a training sample of tweets and labels, where label '1' denotes the tweet is racist/sexist and label '0' denotes the tweet is not racist/sexist, your objective is to predict the labels on the test dataset. The dataset can be downloaded here: https://github.com/unt-iialab/info5502-spring2022/tree/main/datasets/Twitter%20Sentiment%20Analysis. Please build a logistic regression model for the classification, evaluation metrics include accuracy, precision, recall, and F-1 score need to be reported. "
      ]
    },
    {
      "cell_type": "code",
      "execution_count": 206,
      "metadata": {
        "id": "WbcaVj3t4YrF"
      },
      "outputs": [],
      "source": [
        "### You code here:\n",
        "import pyforest"
      ]
    },
    {
      "cell_type": "code",
      "source": [
        "#Reading the data\n",
        "df = pd.read_csv(\"https://raw.githubusercontent.com/AmithReddyKasarla/AmithReddy_INFO5502_-Spring2022/main/twitter_train.csv\")"
      ],
      "metadata": {
        "colab": {
          "base_uri": "https://localhost:8080/",
          "height": 17
        },
        "id": "tKqwvpE38Tru",
        "outputId": "a3a50a21-b1bc-4beb-c38f-2d2a8ea2e469"
      },
      "execution_count": 207,
      "outputs": [
        {
          "output_type": "display_data",
          "data": {
            "text/plain": [
              "<IPython.core.display.Javascript object>"
            ],
            "application/javascript": [
              "\n",
              "        if (window._pyforest_update_imports_cell) { window._pyforest_update_imports_cell('import numpy as np\\nfrom sklearn.ensemble import RandomForestRegressor\\nimport skimage\\nimport fastai\\nimport sklearn\\nimport re\\nfrom sklearn.model_selection import cross_val_score\\nfrom PIL import Image\\nimport fbprophet\\nimport plotly as py\\nfrom sklearn.feature_extraction.text import CountVectorizer\\nimport keras\\nimport pickle\\nimport altair as alt\\nimport xgboost as xgb\\nimport pandas as pd\\nfrom sklearn.ensemble import RandomForestClassifier\\nimport bokeh\\nfrom sklearn.preprocessing import RobustScaler\\nfrom sklearn.linear_model import LogisticRegression\\nimport pydot\\nimport seaborn as sns\\nfrom sklearn.linear_model import Ridge\\nfrom sklearn.linear_model import LassoCV\\nimport textblob\\nfrom sklearn import svm\\nfrom sklearn.model_selection import train_test_split\\nimport tensorflow as tf\\nfrom statsmodels.tsa.arima_model import ARIMA\\nfrom scipy import stats\\nimport statsmodels.api as sm\\nfrom sklearn.model_selection import RandomizedSearchCV\\nimport sys\\nimport cv2\\nimport torch\\nfrom sklearn.linear_model import Lasso\\nimport tqdm\\nimport matplotlib.pyplot as plt\\nfrom sklearn.linear_model import RidgeCV\\nfrom sklearn import metrics\\nfrom scipy import signal as sg\\nimport imutils\\nimport statistics\\nimport plotly.express as px\\nimport matplotlib as mpl\\nfrom sklearn.preprocessing import LabelEncoder\\nimport spacy'); }\n",
              "    "
            ]
          },
          "metadata": {}
        }
      ]
    },
    {
      "cell_type": "code",
      "source": [
        "#Displaying the info of the data\n",
        "df.info()"
      ],
      "metadata": {
        "colab": {
          "base_uri": "https://localhost:8080/"
        },
        "id": "7fjaWfJK8jWw",
        "outputId": "5651b4aa-5745-4d09-c142-ad164f038b13"
      },
      "execution_count": 208,
      "outputs": [
        {
          "output_type": "stream",
          "name": "stdout",
          "text": [
            "<class 'pandas.core.frame.DataFrame'>\n",
            "RangeIndex: 31962 entries, 0 to 31961\n",
            "Data columns (total 3 columns):\n",
            " #   Column  Non-Null Count  Dtype \n",
            "---  ------  --------------  ----- \n",
            " 0   id      31962 non-null  int64 \n",
            " 1   label   31962 non-null  int64 \n",
            " 2   tweet   31962 non-null  object\n",
            "dtypes: int64(2), object(1)\n",
            "memory usage: 749.2+ KB\n"
          ]
        }
      ]
    },
    {
      "cell_type": "code",
      "source": [
        "df.describe()"
      ],
      "metadata": {
        "colab": {
          "base_uri": "https://localhost:8080/",
          "height": 300
        },
        "id": "kr6nT-ZY9TJq",
        "outputId": "1cdcff77-cd0d-4722-aa02-0d6c3bab9eb4"
      },
      "execution_count": 209,
      "outputs": [
        {
          "output_type": "execute_result",
          "data": {
            "text/plain": [
              "                 id         label\n",
              "count  31962.000000  31962.000000\n",
              "mean   15981.500000      0.070146\n",
              "std     9226.778988      0.255397\n",
              "min        1.000000      0.000000\n",
              "25%     7991.250000      0.000000\n",
              "50%    15981.500000      0.000000\n",
              "75%    23971.750000      0.000000\n",
              "max    31962.000000      1.000000"
            ],
            "text/html": [
              "\n",
              "  <div id=\"df-ae21694f-6da3-44a9-883a-a97e7547c441\">\n",
              "    <div class=\"colab-df-container\">\n",
              "      <div>\n",
              "<style scoped>\n",
              "    .dataframe tbody tr th:only-of-type {\n",
              "        vertical-align: middle;\n",
              "    }\n",
              "\n",
              "    .dataframe tbody tr th {\n",
              "        vertical-align: top;\n",
              "    }\n",
              "\n",
              "    .dataframe thead th {\n",
              "        text-align: right;\n",
              "    }\n",
              "</style>\n",
              "<table border=\"1\" class=\"dataframe\">\n",
              "  <thead>\n",
              "    <tr style=\"text-align: right;\">\n",
              "      <th></th>\n",
              "      <th>id</th>\n",
              "      <th>label</th>\n",
              "    </tr>\n",
              "  </thead>\n",
              "  <tbody>\n",
              "    <tr>\n",
              "      <th>count</th>\n",
              "      <td>31962.000000</td>\n",
              "      <td>31962.000000</td>\n",
              "    </tr>\n",
              "    <tr>\n",
              "      <th>mean</th>\n",
              "      <td>15981.500000</td>\n",
              "      <td>0.070146</td>\n",
              "    </tr>\n",
              "    <tr>\n",
              "      <th>std</th>\n",
              "      <td>9226.778988</td>\n",
              "      <td>0.255397</td>\n",
              "    </tr>\n",
              "    <tr>\n",
              "      <th>min</th>\n",
              "      <td>1.000000</td>\n",
              "      <td>0.000000</td>\n",
              "    </tr>\n",
              "    <tr>\n",
              "      <th>25%</th>\n",
              "      <td>7991.250000</td>\n",
              "      <td>0.000000</td>\n",
              "    </tr>\n",
              "    <tr>\n",
              "      <th>50%</th>\n",
              "      <td>15981.500000</td>\n",
              "      <td>0.000000</td>\n",
              "    </tr>\n",
              "    <tr>\n",
              "      <th>75%</th>\n",
              "      <td>23971.750000</td>\n",
              "      <td>0.000000</td>\n",
              "    </tr>\n",
              "    <tr>\n",
              "      <th>max</th>\n",
              "      <td>31962.000000</td>\n",
              "      <td>1.000000</td>\n",
              "    </tr>\n",
              "  </tbody>\n",
              "</table>\n",
              "</div>\n",
              "      <button class=\"colab-df-convert\" onclick=\"convertToInteractive('df-ae21694f-6da3-44a9-883a-a97e7547c441')\"\n",
              "              title=\"Convert this dataframe to an interactive table.\"\n",
              "              style=\"display:none;\">\n",
              "        \n",
              "  <svg xmlns=\"http://www.w3.org/2000/svg\" height=\"24px\"viewBox=\"0 0 24 24\"\n",
              "       width=\"24px\">\n",
              "    <path d=\"M0 0h24v24H0V0z\" fill=\"none\"/>\n",
              "    <path d=\"M18.56 5.44l.94 2.06.94-2.06 2.06-.94-2.06-.94-.94-2.06-.94 2.06-2.06.94zm-11 1L8.5 8.5l.94-2.06 2.06-.94-2.06-.94L8.5 2.5l-.94 2.06-2.06.94zm10 10l.94 2.06.94-2.06 2.06-.94-2.06-.94-.94-2.06-.94 2.06-2.06.94z\"/><path d=\"M17.41 7.96l-1.37-1.37c-.4-.4-.92-.59-1.43-.59-.52 0-1.04.2-1.43.59L10.3 9.45l-7.72 7.72c-.78.78-.78 2.05 0 2.83L4 21.41c.39.39.9.59 1.41.59.51 0 1.02-.2 1.41-.59l7.78-7.78 2.81-2.81c.8-.78.8-2.07 0-2.86zM5.41 20L4 18.59l7.72-7.72 1.47 1.35L5.41 20z\"/>\n",
              "  </svg>\n",
              "      </button>\n",
              "      \n",
              "  <style>\n",
              "    .colab-df-container {\n",
              "      display:flex;\n",
              "      flex-wrap:wrap;\n",
              "      gap: 12px;\n",
              "    }\n",
              "\n",
              "    .colab-df-convert {\n",
              "      background-color: #E8F0FE;\n",
              "      border: none;\n",
              "      border-radius: 50%;\n",
              "      cursor: pointer;\n",
              "      display: none;\n",
              "      fill: #1967D2;\n",
              "      height: 32px;\n",
              "      padding: 0 0 0 0;\n",
              "      width: 32px;\n",
              "    }\n",
              "\n",
              "    .colab-df-convert:hover {\n",
              "      background-color: #E2EBFA;\n",
              "      box-shadow: 0px 1px 2px rgba(60, 64, 67, 0.3), 0px 1px 3px 1px rgba(60, 64, 67, 0.15);\n",
              "      fill: #174EA6;\n",
              "    }\n",
              "\n",
              "    [theme=dark] .colab-df-convert {\n",
              "      background-color: #3B4455;\n",
              "      fill: #D2E3FC;\n",
              "    }\n",
              "\n",
              "    [theme=dark] .colab-df-convert:hover {\n",
              "      background-color: #434B5C;\n",
              "      box-shadow: 0px 1px 3px 1px rgba(0, 0, 0, 0.15);\n",
              "      filter: drop-shadow(0px 1px 2px rgba(0, 0, 0, 0.3));\n",
              "      fill: #FFFFFF;\n",
              "    }\n",
              "  </style>\n",
              "\n",
              "      <script>\n",
              "        const buttonEl =\n",
              "          document.querySelector('#df-ae21694f-6da3-44a9-883a-a97e7547c441 button.colab-df-convert');\n",
              "        buttonEl.style.display =\n",
              "          google.colab.kernel.accessAllowed ? 'block' : 'none';\n",
              "\n",
              "        async function convertToInteractive(key) {\n",
              "          const element = document.querySelector('#df-ae21694f-6da3-44a9-883a-a97e7547c441');\n",
              "          const dataTable =\n",
              "            await google.colab.kernel.invokeFunction('convertToInteractive',\n",
              "                                                     [key], {});\n",
              "          if (!dataTable) return;\n",
              "\n",
              "          const docLinkHtml = 'Like what you see? Visit the ' +\n",
              "            '<a target=\"_blank\" href=https://colab.research.google.com/notebooks/data_table.ipynb>data table notebook</a>'\n",
              "            + ' to learn more about interactive tables.';\n",
              "          element.innerHTML = '';\n",
              "          dataTable['output_type'] = 'display_data';\n",
              "          await google.colab.output.renderOutput(dataTable, element);\n",
              "          const docLink = document.createElement('div');\n",
              "          docLink.innerHTML = docLinkHtml;\n",
              "          element.appendChild(docLink);\n",
              "        }\n",
              "      </script>\n",
              "    </div>\n",
              "  </div>\n",
              "  "
            ]
          },
          "metadata": {},
          "execution_count": 209
        }
      ]
    },
    {
      "cell_type": "code",
      "source": [
        "#Checking for null values\n",
        "df.isnull().sum()"
      ],
      "metadata": {
        "colab": {
          "base_uri": "https://localhost:8080/"
        },
        "id": "_Y15OKWm9VgD",
        "outputId": "c59fe78b-fd59-48fa-aa65-ea6c3b34836a"
      },
      "execution_count": 210,
      "outputs": [
        {
          "output_type": "execute_result",
          "data": {
            "text/plain": [
              "id       0\n",
              "label    0\n",
              "tweet    0\n",
              "dtype: int64"
            ]
          },
          "metadata": {},
          "execution_count": 210
        }
      ]
    },
    {
      "cell_type": "code",
      "source": [
        "df"
      ],
      "metadata": {
        "colab": {
          "base_uri": "https://localhost:8080/",
          "height": 423
        },
        "id": "aV-uQit5lKOE",
        "outputId": "a1ba5e2c-1cf2-429b-95da-a638f8771093"
      },
      "execution_count": 211,
      "outputs": [
        {
          "output_type": "execute_result",
          "data": {
            "text/plain": [
              "          id  label                                              tweet\n",
              "0          1      0   @user when a father is dysfunctional and is s...\n",
              "1          2      0  @user @user thanks for #lyft credit i can't us...\n",
              "2          3      0                                bihday your majesty\n",
              "3          4      0  #model   i love u take with u all the time in ...\n",
              "4          5      0             factsguide: society now    #motivation\n",
              "...      ...    ...                                                ...\n",
              "31957  31958      0  ate @user isz that youuu?ðððððð...\n",
              "31958  31959      0    to see nina turner on the airwaves trying to...\n",
              "31959  31960      0  listening to sad songs on a monday morning otw...\n",
              "31960  31961      1  @user #sikh #temple vandalised in in #calgary,...\n",
              "31961  31962      0                   thank you @user for you follow  \n",
              "\n",
              "[31962 rows x 3 columns]"
            ],
            "text/html": [
              "\n",
              "  <div id=\"df-512c7320-6fef-4f7f-ad24-573502fb0615\">\n",
              "    <div class=\"colab-df-container\">\n",
              "      <div>\n",
              "<style scoped>\n",
              "    .dataframe tbody tr th:only-of-type {\n",
              "        vertical-align: middle;\n",
              "    }\n",
              "\n",
              "    .dataframe tbody tr th {\n",
              "        vertical-align: top;\n",
              "    }\n",
              "\n",
              "    .dataframe thead th {\n",
              "        text-align: right;\n",
              "    }\n",
              "</style>\n",
              "<table border=\"1\" class=\"dataframe\">\n",
              "  <thead>\n",
              "    <tr style=\"text-align: right;\">\n",
              "      <th></th>\n",
              "      <th>id</th>\n",
              "      <th>label</th>\n",
              "      <th>tweet</th>\n",
              "    </tr>\n",
              "  </thead>\n",
              "  <tbody>\n",
              "    <tr>\n",
              "      <th>0</th>\n",
              "      <td>1</td>\n",
              "      <td>0</td>\n",
              "      <td>@user when a father is dysfunctional and is s...</td>\n",
              "    </tr>\n",
              "    <tr>\n",
              "      <th>1</th>\n",
              "      <td>2</td>\n",
              "      <td>0</td>\n",
              "      <td>@user @user thanks for #lyft credit i can't us...</td>\n",
              "    </tr>\n",
              "    <tr>\n",
              "      <th>2</th>\n",
              "      <td>3</td>\n",
              "      <td>0</td>\n",
              "      <td>bihday your majesty</td>\n",
              "    </tr>\n",
              "    <tr>\n",
              "      <th>3</th>\n",
              "      <td>4</td>\n",
              "      <td>0</td>\n",
              "      <td>#model   i love u take with u all the time in ...</td>\n",
              "    </tr>\n",
              "    <tr>\n",
              "      <th>4</th>\n",
              "      <td>5</td>\n",
              "      <td>0</td>\n",
              "      <td>factsguide: society now    #motivation</td>\n",
              "    </tr>\n",
              "    <tr>\n",
              "      <th>...</th>\n",
              "      <td>...</td>\n",
              "      <td>...</td>\n",
              "      <td>...</td>\n",
              "    </tr>\n",
              "    <tr>\n",
              "      <th>31957</th>\n",
              "      <td>31958</td>\n",
              "      <td>0</td>\n",
              "      <td>ate @user isz that youuu?ðððððð...</td>\n",
              "    </tr>\n",
              "    <tr>\n",
              "      <th>31958</th>\n",
              "      <td>31959</td>\n",
              "      <td>0</td>\n",
              "      <td>to see nina turner on the airwaves trying to...</td>\n",
              "    </tr>\n",
              "    <tr>\n",
              "      <th>31959</th>\n",
              "      <td>31960</td>\n",
              "      <td>0</td>\n",
              "      <td>listening to sad songs on a monday morning otw...</td>\n",
              "    </tr>\n",
              "    <tr>\n",
              "      <th>31960</th>\n",
              "      <td>31961</td>\n",
              "      <td>1</td>\n",
              "      <td>@user #sikh #temple vandalised in in #calgary,...</td>\n",
              "    </tr>\n",
              "    <tr>\n",
              "      <th>31961</th>\n",
              "      <td>31962</td>\n",
              "      <td>0</td>\n",
              "      <td>thank you @user for you follow</td>\n",
              "    </tr>\n",
              "  </tbody>\n",
              "</table>\n",
              "<p>31962 rows × 3 columns</p>\n",
              "</div>\n",
              "      <button class=\"colab-df-convert\" onclick=\"convertToInteractive('df-512c7320-6fef-4f7f-ad24-573502fb0615')\"\n",
              "              title=\"Convert this dataframe to an interactive table.\"\n",
              "              style=\"display:none;\">\n",
              "        \n",
              "  <svg xmlns=\"http://www.w3.org/2000/svg\" height=\"24px\"viewBox=\"0 0 24 24\"\n",
              "       width=\"24px\">\n",
              "    <path d=\"M0 0h24v24H0V0z\" fill=\"none\"/>\n",
              "    <path d=\"M18.56 5.44l.94 2.06.94-2.06 2.06-.94-2.06-.94-.94-2.06-.94 2.06-2.06.94zm-11 1L8.5 8.5l.94-2.06 2.06-.94-2.06-.94L8.5 2.5l-.94 2.06-2.06.94zm10 10l.94 2.06.94-2.06 2.06-.94-2.06-.94-.94-2.06-.94 2.06-2.06.94z\"/><path d=\"M17.41 7.96l-1.37-1.37c-.4-.4-.92-.59-1.43-.59-.52 0-1.04.2-1.43.59L10.3 9.45l-7.72 7.72c-.78.78-.78 2.05 0 2.83L4 21.41c.39.39.9.59 1.41.59.51 0 1.02-.2 1.41-.59l7.78-7.78 2.81-2.81c.8-.78.8-2.07 0-2.86zM5.41 20L4 18.59l7.72-7.72 1.47 1.35L5.41 20z\"/>\n",
              "  </svg>\n",
              "      </button>\n",
              "      \n",
              "  <style>\n",
              "    .colab-df-container {\n",
              "      display:flex;\n",
              "      flex-wrap:wrap;\n",
              "      gap: 12px;\n",
              "    }\n",
              "\n",
              "    .colab-df-convert {\n",
              "      background-color: #E8F0FE;\n",
              "      border: none;\n",
              "      border-radius: 50%;\n",
              "      cursor: pointer;\n",
              "      display: none;\n",
              "      fill: #1967D2;\n",
              "      height: 32px;\n",
              "      padding: 0 0 0 0;\n",
              "      width: 32px;\n",
              "    }\n",
              "\n",
              "    .colab-df-convert:hover {\n",
              "      background-color: #E2EBFA;\n",
              "      box-shadow: 0px 1px 2px rgba(60, 64, 67, 0.3), 0px 1px 3px 1px rgba(60, 64, 67, 0.15);\n",
              "      fill: #174EA6;\n",
              "    }\n",
              "\n",
              "    [theme=dark] .colab-df-convert {\n",
              "      background-color: #3B4455;\n",
              "      fill: #D2E3FC;\n",
              "    }\n",
              "\n",
              "    [theme=dark] .colab-df-convert:hover {\n",
              "      background-color: #434B5C;\n",
              "      box-shadow: 0px 1px 3px 1px rgba(0, 0, 0, 0.15);\n",
              "      filter: drop-shadow(0px 1px 2px rgba(0, 0, 0, 0.3));\n",
              "      fill: #FFFFFF;\n",
              "    }\n",
              "  </style>\n",
              "\n",
              "      <script>\n",
              "        const buttonEl =\n",
              "          document.querySelector('#df-512c7320-6fef-4f7f-ad24-573502fb0615 button.colab-df-convert');\n",
              "        buttonEl.style.display =\n",
              "          google.colab.kernel.accessAllowed ? 'block' : 'none';\n",
              "\n",
              "        async function convertToInteractive(key) {\n",
              "          const element = document.querySelector('#df-512c7320-6fef-4f7f-ad24-573502fb0615');\n",
              "          const dataTable =\n",
              "            await google.colab.kernel.invokeFunction('convertToInteractive',\n",
              "                                                     [key], {});\n",
              "          if (!dataTable) return;\n",
              "\n",
              "          const docLinkHtml = 'Like what you see? Visit the ' +\n",
              "            '<a target=\"_blank\" href=https://colab.research.google.com/notebooks/data_table.ipynb>data table notebook</a>'\n",
              "            + ' to learn more about interactive tables.';\n",
              "          element.innerHTML = '';\n",
              "          dataTable['output_type'] = 'display_data';\n",
              "          await google.colab.output.renderOutput(dataTable, element);\n",
              "          const docLink = document.createElement('div');\n",
              "          docLink.innerHTML = docLinkHtml;\n",
              "          element.appendChild(docLink);\n",
              "        }\n",
              "      </script>\n",
              "    </div>\n",
              "  </div>\n",
              "  "
            ]
          },
          "metadata": {},
          "execution_count": 211
        }
      ]
    },
    {
      "cell_type": "code",
      "source": [
        "#Dropping the unwanted columns\n",
        "df.drop(columns=['id'],inplace = True)"
      ],
      "metadata": {
        "id": "Y1SfKc-qL3oW"
      },
      "execution_count": 212,
      "outputs": []
    },
    {
      "cell_type": "code",
      "source": [
        "df.info()"
      ],
      "metadata": {
        "colab": {
          "base_uri": "https://localhost:8080/"
        },
        "id": "iZVZX_RrMKds",
        "outputId": "c271330e-fdb7-44ed-a904-83541ee48633"
      },
      "execution_count": 213,
      "outputs": [
        {
          "output_type": "stream",
          "name": "stdout",
          "text": [
            "<class 'pandas.core.frame.DataFrame'>\n",
            "RangeIndex: 31962 entries, 0 to 31961\n",
            "Data columns (total 2 columns):\n",
            " #   Column  Non-Null Count  Dtype \n",
            "---  ------  --------------  ----- \n",
            " 0   label   31962 non-null  int64 \n",
            " 1   tweet   31962 non-null  object\n",
            "dtypes: int64(1), object(1)\n",
            "memory usage: 499.5+ KB\n"
          ]
        }
      ]
    },
    {
      "cell_type": "code",
      "source": [
        "#Checking the cout of tweets\n",
        "df['tweet'].value_counts()"
      ],
      "metadata": {
        "colab": {
          "base_uri": "https://localhost:8080/"
        },
        "id": "jZllfEmwmcfl",
        "outputId": "eed8c307-efb3-4ccf-d2a7-deb8437fe3c3"
      },
      "execution_count": 214,
      "outputs": [
        {
          "output_type": "execute_result",
          "data": {
            "text/plain": [
              "#model   i love u take with u all the time in urð±!!! ðððð\n",
              "ð¦ð¦ð¦                      319\n",
              "i finally found a way how to delete old tweets! you might find it useful as well:    #deletetweets         82\n",
              "aww yeah it's all good bing bong bing bong                                                                 75\n",
              "i'm so   and #grateful now that - #affirmations                                                            56\n",
              "@user you might be a libtard if... #libtard  #sjw #liberal #politics                                       40\n",
              "                                                                                                         ... \n",
              "family time #you?   #move #bodyandsoul                                                                      1\n",
              "nobody clicked the tag to see what was going on, it was  . lol                                              1\n",
              "the scientific facts of happiness you never knew  #healthy   #mind                                          1\n",
              " @user #bestseller @user #motivation    \"never go to bed without a #dream or wakeup without a #hope\"        1\n",
              "thank you @user for you follow                                                                              1\n",
              "Name: tweet, Length: 29530, dtype: int64"
            ]
          },
          "metadata": {},
          "execution_count": 214
        }
      ]
    },
    {
      "cell_type": "code",
      "source": [
        "#Checking label counts\n",
        "df['label'].value_counts()"
      ],
      "metadata": {
        "colab": {
          "base_uri": "https://localhost:8080/"
        },
        "id": "P1kw-IdRmciZ",
        "outputId": "1c242d9f-3b5f-4a12-99c2-5c95bec2adc0"
      },
      "execution_count": 215,
      "outputs": [
        {
          "output_type": "execute_result",
          "data": {
            "text/plain": [
              "0    29720\n",
              "1     2242\n",
              "Name: label, dtype: int64"
            ]
          },
          "metadata": {},
          "execution_count": 215
        }
      ]
    },
    {
      "cell_type": "code",
      "source": [
        "#Displaying the labels count\n",
        "sns.countplot(df['label'])"
      ],
      "metadata": {
        "colab": {
          "base_uri": "https://localhost:8080/",
          "height": 351
        },
        "id": "lonX-HecmclD",
        "outputId": "3175a1d2-162d-4a4d-d8a8-d9d8d4954489"
      },
      "execution_count": 216,
      "outputs": [
        {
          "output_type": "display_data",
          "data": {
            "text/plain": [
              "<IPython.core.display.Javascript object>"
            ],
            "application/javascript": [
              "\n",
              "        if (window._pyforest_update_imports_cell) { window._pyforest_update_imports_cell('import numpy as np\\nfrom sklearn.ensemble import RandomForestRegressor\\nimport skimage\\nimport fastai\\nimport sklearn\\nimport re\\nfrom sklearn.model_selection import cross_val_score\\nfrom PIL import Image\\nimport fbprophet\\nimport plotly as py\\nfrom sklearn.feature_extraction.text import CountVectorizer\\nimport keras\\nimport pickle\\nimport altair as alt\\nimport xgboost as xgb\\nimport pandas as pd\\nfrom sklearn.ensemble import RandomForestClassifier\\nimport bokeh\\nfrom sklearn.preprocessing import RobustScaler\\nfrom sklearn.linear_model import LogisticRegression\\nimport pydot\\nimport seaborn as sns\\nfrom sklearn.linear_model import Ridge\\nfrom sklearn.linear_model import LassoCV\\nimport textblob\\nfrom sklearn import svm\\nfrom sklearn.model_selection import train_test_split\\nimport tensorflow as tf\\nfrom statsmodels.tsa.arima_model import ARIMA\\nfrom scipy import stats\\nimport statsmodels.api as sm\\nfrom sklearn.model_selection import RandomizedSearchCV\\nimport sys\\nimport cv2\\nimport torch\\nfrom sklearn.linear_model import Lasso\\nimport tqdm\\nimport matplotlib.pyplot as plt\\nfrom sklearn.linear_model import RidgeCV\\nfrom sklearn import metrics\\nfrom scipy import signal as sg\\nimport imutils\\nimport statistics\\nimport plotly.express as px\\nimport matplotlib as mpl\\nfrom sklearn.preprocessing import LabelEncoder\\nimport spacy'); }\n",
              "    "
            ]
          },
          "metadata": {}
        },
        {
          "output_type": "stream",
          "name": "stderr",
          "text": [
            "/usr/local/lib/python3.7/dist-packages/seaborn/_decorators.py:43: FutureWarning: Pass the following variable as a keyword arg: x. From version 0.12, the only valid positional argument will be `data`, and passing other arguments without an explicit keyword will result in an error or misinterpretation.\n",
            "  FutureWarning\n"
          ]
        },
        {
          "output_type": "execute_result",
          "data": {
            "text/plain": [
              "<matplotlib.axes._subplots.AxesSubplot at 0x7f00ec232690>"
            ]
          },
          "metadata": {},
          "execution_count": 216
        },
        {
          "output_type": "display_data",
          "data": {
            "text/plain": [
              "<Figure size 432x288 with 1 Axes>"
            ],
            "image/png": "[encoded data removed]"
          },
          "metadata": {
            "needs_background": "light"
          }
        }
      ]
    },
    {
      "cell_type": "code",
      "source": [
        "df['tweet'][1]"
      ],
      "metadata": {
        "colab": {
          "base_uri": "https://localhost:8080/",
          "height": 35
        },
        "id": "cURY28qVqTOS",
        "outputId": "09251cd9-dc0c-4685-a372-016c5b1fc4c8"
      },
      "execution_count": 217,
      "outputs": [
        {
          "output_type": "execute_result",
          "data": {
            "text/plain": [
              "\"@user @user thanks for #lyft credit i can't use cause they don't offer wheelchair vans in pdx.    #disapointed #getthanked\""
            ],
            "application/vnd.google.colaboratory.intrinsic+json": {
              "type": "string"
            }
          },
          "metadata": {},
          "execution_count": 217
        }
      ]
    },
    {
      "cell_type": "code",
      "source": [
        "#Cleaning the tweet by removing the unwanted charaters and other outliers\n",
        "import re\n",
        "import string\n",
        "def text_cleaning(text):\n",
        "  text = text.lower()\n",
        "  text = re.sub('[^A-Za-z0-9]+', ' ', text)\n",
        "  text = re.sub(r\"dysfunctional\", \"disfunctional \", text)\n",
        "  text = re.sub(r\"dysfunctional\", \"disfunctional \", text)\n",
        "  text = re.sub(r\"can t\", \"can not \", text)\n",
        "  text = re.sub(r\"don t\", \"do not \", text)\n",
        "  text = re.sub(r\"getthanked\", \"get thanked \", text)\n",
        "  #text = re.sub(r\"cause\", \"cause \", text)\n",
        "  text = re.sub(r\"youuu\", \"you \", text)\n",
        "  text = re.sub(r\"isz\", \"is \", text)\n",
        "  text = re.sub(r\"what's\", \"what is \", text)\n",
        "  text = re.sub(r\"\\'s\", \" \", text)\n",
        "  text = re.sub(r\"\\'ve\", \" have \", text)\n",
        "  text = re.sub(r\"can't\", \"can not \", text)\n",
        "  text = re.sub(r\"n't\", \" not \", text)\n",
        "  text = re.sub(r\"i'm\", \"i am \", text)\n",
        "  text = re.sub(r\"\\'re\", \" are \", text)\n",
        "  text = re.sub(r\"\\'d\", \" would \", text)\n",
        "  text = re.sub(r\"\\'ll\", \" will \", text)\n",
        "  text = re.sub(r\"\\'scuse\", \" excuse \", text)\n",
        "  text = re.sub('\\W', ' ', text)\n",
        "  text = re.sub('\\s+', ' ', text)\n",
        "  text = text.strip(' ')\n",
        "  return text\n",
        "\n",
        "df['tweet'] = df['tweet'].map(lambda x: text_cleaning(x))\n",
        "df['tweet'] = df['tweet'].map(lambda x: text_cleaning(x))\n",
        "df['tweet'][1]"
      ],
      "metadata": {
        "colab": {
          "base_uri": "https://localhost:8080/",
          "height": 35
        },
        "id": "D826-Mvvmcnv",
        "outputId": "3d3fbd4c-2609-4e82-d61b-3a49bea088c1"
      },
      "execution_count": 218,
      "outputs": [
        {
          "output_type": "execute_result",
          "data": {
            "text/plain": [
              "'user user thanks for lyft credit i can not use cause they do not offer wheelchair vans in pdx disapointed get thanked'"
            ],
            "application/vnd.google.colaboratory.intrinsic+json": {
              "type": "string"
            }
          },
          "metadata": {},
          "execution_count": 218
        }
      ]
    },
    {
      "cell_type": "code",
      "source": [
        "#visulaizing words\n",
        "words = \" \".join(sent for sent in df['tweet'])\n",
        "\n",
        "from wordcloud import WordCloud\n",
        "cld = WordCloud(width = 200, height = 190).generate(words)\n",
        "\n",
        "plt.figure(figsize=(12,10))\n",
        "plt.show()"
      ],
      "metadata": {
        "colab": {
          "base_uri": "https://localhost:8080/",
          "height": 35
        },
        "id": "TZ63EBC7mcqe",
        "outputId": "48b44d7b-74d7-489a-e908-3e8480103aff"
      },
      "execution_count": 219,
      "outputs": [
        {
          "output_type": "display_data",
          "data": {
            "text/plain": [
              "<IPython.core.display.Javascript object>"
            ],
            "application/javascript": [
              "\n",
              "        if (window._pyforest_update_imports_cell) { window._pyforest_update_imports_cell('import numpy as np\\nfrom sklearn.ensemble import RandomForestRegressor\\nimport skimage\\nimport fastai\\nimport sklearn\\nimport re\\nfrom sklearn.model_selection import cross_val_score\\nfrom PIL import Image\\nimport fbprophet\\nimport plotly as py\\nfrom sklearn.feature_extraction.text import CountVectorizer\\nimport keras\\nimport pickle\\nimport altair as alt\\nimport xgboost as xgb\\nimport pandas as pd\\nfrom sklearn.ensemble import RandomForestClassifier\\nimport bokeh\\nfrom sklearn.preprocessing import RobustScaler\\nfrom sklearn.linear_model import LogisticRegression\\nimport pydot\\nimport seaborn as sns\\nfrom sklearn.linear_model import Ridge\\nfrom sklearn.linear_model import LassoCV\\nimport textblob\\nfrom sklearn import svm\\nfrom sklearn.model_selection import train_test_split\\nimport tensorflow as tf\\nfrom statsmodels.tsa.arima_model import ARIMA\\nfrom scipy import stats\\nimport statsmodels.api as sm\\nfrom sklearn.model_selection import RandomizedSearchCV\\nimport sys\\nimport cv2\\nimport torch\\nfrom sklearn.linear_model import Lasso\\nimport tqdm\\nimport matplotlib.pyplot as plt\\nfrom sklearn.linear_model import RidgeCV\\nfrom sklearn import metrics\\nfrom scipy import signal as sg\\nimport imutils\\nimport statistics\\nimport plotly.express as px\\nimport matplotlib as mpl\\nfrom sklearn.preprocessing import LabelEncoder\\nimport spacy'); }\n",
              "    "
            ]
          },
          "metadata": {}
        },
        {
          "output_type": "display_data",
          "data": {
            "text/plain": [
              "<IPython.core.display.Javascript object>"
            ],
            "application/javascript": [
              "\n",
              "        if (window._pyforest_update_imports_cell) { window._pyforest_update_imports_cell('import numpy as np\\nfrom sklearn.ensemble import RandomForestRegressor\\nimport skimage\\nimport fastai\\nimport sklearn\\nimport re\\nfrom sklearn.model_selection import cross_val_score\\nfrom PIL import Image\\nimport fbprophet\\nimport plotly as py\\nfrom sklearn.feature_extraction.text import CountVectorizer\\nimport keras\\nimport pickle\\nimport altair as alt\\nimport xgboost as xgb\\nimport pandas as pd\\nfrom sklearn.ensemble import RandomForestClassifier\\nimport bokeh\\nfrom sklearn.preprocessing import RobustScaler\\nfrom sklearn.linear_model import LogisticRegression\\nimport pydot\\nimport seaborn as sns\\nfrom sklearn.linear_model import Ridge\\nfrom sklearn.linear_model import LassoCV\\nimport textblob\\nfrom sklearn import svm\\nfrom sklearn.model_selection import train_test_split\\nimport tensorflow as tf\\nfrom statsmodels.tsa.arima_model import ARIMA\\nfrom scipy import stats\\nimport statsmodels.api as sm\\nfrom sklearn.model_selection import RandomizedSearchCV\\nimport sys\\nimport cv2\\nimport torch\\nfrom sklearn.linear_model import Lasso\\nimport tqdm\\nimport matplotlib.pyplot as plt\\nfrom sklearn.linear_model import RidgeCV\\nfrom sklearn import metrics\\nfrom scipy import signal as sg\\nimport imutils\\nimport statistics\\nimport plotly.express as px\\nimport matplotlib as mpl\\nfrom sklearn.preprocessing import LabelEncoder\\nimport spacy'); }\n",
              "    "
            ]
          },
          "metadata": {}
        },
        {
          "output_type": "display_data",
          "data": {
            "text/plain": [
              "<Figure size 864x720 with 0 Axes>"
            ]
          },
          "metadata": {}
        }
      ]
    },
    {
      "cell_type": "code",
      "source": [
        "df"
      ],
      "metadata": {
        "colab": {
          "base_uri": "https://localhost:8080/",
          "height": 423
        },
        "id": "VZ6_IeuMmctD",
        "outputId": "074de73f-c3f2-4cd7-beb7-3051d7e32d70"
      },
      "execution_count": 220,
      "outputs": [
        {
          "output_type": "execute_result",
          "data": {
            "text/plain": [
              "       label                                              tweet\n",
              "0          0  user when a father is disfunctional and is so ...\n",
              "1          0  user user thanks for lyft credit i can not use...\n",
              "2          0                                bihday your majesty\n",
              "3          0      model i love u take with u all the time in ur\n",
              "4          0                  factsguide society now motivation\n",
              "...      ...                                                ...\n",
              "31957      0                               ate user is that you\n",
              "31958      0  to see nina turner on the airwaves trying to w...\n",
              "31959      0  listening to sad songs on a monday morning otw...\n",
              "31960      1  user sikh temple vandalised in in calgary wso ...\n",
              "31961      0                      thank you user for you follow\n",
              "\n",
              "[31962 rows x 2 columns]"
            ],
            "text/html": [
              "\n",
              "  <div id=\"df-62075c48-0cc1-45e7-8350-88cbd6241b75\">\n",
              "    <div class=\"colab-df-container\">\n",
              "      <div>\n",
              "<style scoped>\n",
              "    .dataframe tbody tr th:only-of-type {\n",
              "        vertical-align: middle;\n",
              "    }\n",
              "\n",
              "    .dataframe tbody tr th {\n",
              "        vertical-align: top;\n",
              "    }\n",
              "\n",
              "    .dataframe thead th {\n",
              "        text-align: right;\n",
              "    }\n",
              "</style>\n",
              "<table border=\"1\" class=\"dataframe\">\n",
              "  <thead>\n",
              "    <tr style=\"text-align: right;\">\n",
              "      <th></th>\n",
              "      <th>label</th>\n",
              "      <th>tweet</th>\n",
              "    </tr>\n",
              "  </thead>\n",
              "  <tbody>\n",
              "    <tr>\n",
              "      <th>0</th>\n",
              "      <td>0</td>\n",
              "      <td>user when a father is disfunctional and is so ...</td>\n",
              "    </tr>\n",
              "    <tr>\n",
              "      <th>1</th>\n",
              "      <td>0</td>\n",
              "      <td>user user thanks for lyft credit i can not use...</td>\n",
              "    </tr>\n",
              "    <tr>\n",
              "      <th>2</th>\n",
              "      <td>0</td>\n",
              "      <td>bihday your majesty</td>\n",
              "    </tr>\n",
              "    <tr>\n",
              "      <th>3</th>\n",
              "      <td>0</td>\n",
              "      <td>model i love u take with u all the time in ur</td>\n",
              "    </tr>\n",
              "    <tr>\n",
              "      <th>4</th>\n",
              "      <td>0</td>\n",
              "      <td>factsguide society now motivation</td>\n",
              "    </tr>\n",
              "    <tr>\n",
              "      <th>...</th>\n",
              "      <td>...</td>\n",
              "      <td>...</td>\n",
              "    </tr>\n",
              "    <tr>\n",
              "      <th>31957</th>\n",
              "      <td>0</td>\n",
              "      <td>ate user is that you</td>\n",
              "    </tr>\n",
              "    <tr>\n",
              "      <th>31958</th>\n",
              "      <td>0</td>\n",
              "      <td>to see nina turner on the airwaves trying to w...</td>\n",
              "    </tr>\n",
              "    <tr>\n",
              "      <th>31959</th>\n",
              "      <td>0</td>\n",
              "      <td>listening to sad songs on a monday morning otw...</td>\n",
              "    </tr>\n",
              "    <tr>\n",
              "      <th>31960</th>\n",
              "      <td>1</td>\n",
              "      <td>user sikh temple vandalised in in calgary wso ...</td>\n",
              "    </tr>\n",
              "    <tr>\n",
              "      <th>31961</th>\n",
              "      <td>0</td>\n",
              "      <td>thank you user for you follow</td>\n",
              "    </tr>\n",
              "  </tbody>\n",
              "</table>\n",
              "<p>31962 rows × 2 columns</p>\n",
              "</div>\n",
              "      <button class=\"colab-df-convert\" onclick=\"convertToInteractive('df-62075c48-0cc1-45e7-8350-88cbd6241b75')\"\n",
              "              title=\"Convert this dataframe to an interactive table.\"\n",
              "              style=\"display:none;\">\n",
              "        \n",
              "  <svg xmlns=\"http://www.w3.org/2000/svg\" height=\"24px\"viewBox=\"0 0 24 24\"\n",
              "       width=\"24px\">\n",
              "    <path d=\"M0 0h24v24H0V0z\" fill=\"none\"/>\n",
              "    <path d=\"M18.56 5.44l.94 2.06.94-2.06 2.06-.94-2.06-.94-.94-2.06-.94 2.06-2.06.94zm-11 1L8.5 8.5l.94-2.06 2.06-.94-2.06-.94L8.5 2.5l-.94 2.06-2.06.94zm10 10l.94 2.06.94-2.06 2.06-.94-2.06-.94-.94-2.06-.94 2.06-2.06.94z\"/><path d=\"M17.41 7.96l-1.37-1.37c-.4-.4-.92-.59-1.43-.59-.52 0-1.04.2-1.43.59L10.3 9.45l-7.72 7.72c-.78.78-.78 2.05 0 2.83L4 21.41c.39.39.9.59 1.41.59.51 0 1.02-.2 1.41-.59l7.78-7.78 2.81-2.81c.8-.78.8-2.07 0-2.86zM5.41 20L4 18.59l7.72-7.72 1.47 1.35L5.41 20z\"/>\n",
              "  </svg>\n",
              "      </button>\n",
              "      \n",
              "  <style>\n",
              "    .colab-df-container {\n",
              "      display:flex;\n",
              "      flex-wrap:wrap;\n",
              "      gap: 12px;\n",
              "    }\n",
              "\n",
              "    .colab-df-convert {\n",
              "      background-color: #E8F0FE;\n",
              "      border: none;\n",
              "      border-radius: 50%;\n",
              "      cursor: pointer;\n",
              "      display: none;\n",
              "      fill: #1967D2;\n",
              "      height: 32px;\n",
              "      padding: 0 0 0 0;\n",
              "      width: 32px;\n",
              "    }\n",
              "\n",
              "    .colab-df-convert:hover {\n",
              "      background-color: #E2EBFA;\n",
              "      box-shadow: 0px 1px 2px rgba(60, 64, 67, 0.3), 0px 1px 3px 1px rgba(60, 64, 67, 0.15);\n",
              "      fill: #174EA6;\n",
              "    }\n",
              "\n",
              "    [theme=dark] .colab-df-convert {\n",
              "      background-color: #3B4455;\n",
              "      fill: #D2E3FC;\n",
              "    }\n",
              "\n",
              "    [theme=dark] .colab-df-convert:hover {\n",
              "      background-color: #434B5C;\n",
              "      box-shadow: 0px 1px 3px 1px rgba(0, 0, 0, 0.15);\n",
              "      filter: drop-shadow(0px 1px 2px rgba(0, 0, 0, 0.3));\n",
              "      fill: #FFFFFF;\n",
              "    }\n",
              "  </style>\n",
              "\n",
              "      <script>\n",
              "        const buttonEl =\n",
              "          document.querySelector('#df-62075c48-0cc1-45e7-8350-88cbd6241b75 button.colab-df-convert');\n",
              "        buttonEl.style.display =\n",
              "          google.colab.kernel.accessAllowed ? 'block' : 'none';\n",
              "\n",
              "        async function convertToInteractive(key) {\n",
              "          const element = document.querySelector('#df-62075c48-0cc1-45e7-8350-88cbd6241b75');\n",
              "          const dataTable =\n",
              "            await google.colab.kernel.invokeFunction('convertToInteractive',\n",
              "                                                     [key], {});\n",
              "          if (!dataTable) return;\n",
              "\n",
              "          const docLinkHtml = 'Like what you see? Visit the ' +\n",
              "            '<a target=\"_blank\" href=https://colab.research.google.com/notebooks/data_table.ipynb>data table notebook</a>'\n",
              "            + ' to learn more about interactive tables.';\n",
              "          element.innerHTML = '';\n",
              "          dataTable['output_type'] = 'display_data';\n",
              "          await google.colab.output.renderOutput(dataTable, element);\n",
              "          const docLink = document.createElement('div');\n",
              "          docLink.innerHTML = docLinkHtml;\n",
              "          element.appendChild(docLink);\n",
              "        }\n",
              "      </script>\n",
              "    </div>\n",
              "  </div>\n",
              "  "
            ]
          },
          "metadata": {},
          "execution_count": 220
        }
      ]
    },
    {
      "cell_type": "code",
      "source": [
        "#Defining the dependent variable- label\n",
        "y=df['label']"
      ],
      "metadata": {
        "id": "6isosfvamcvx"
      },
      "execution_count": 221,
      "outputs": []
    },
    {
      "cell_type": "code",
      "source": [
        "#Impoting countvector to transform the text format into a array\n",
        "from sklearn.feature_extraction.text import CountVectorizer\n",
        "z = CountVectorizer(max_df=0.90, min_df=2, max_features=1000, stop_words='english')\n",
        "x = z.fit_transform(df['tweet'])"
      ],
      "metadata": {
        "id": "R42kTFVUmcyZ"
      },
      "execution_count": 222,
      "outputs": []
    },
    {
      "cell_type": "code",
      "source": [
        "x"
      ],
      "metadata": {
        "colab": {
          "base_uri": "https://localhost:8080/"
        },
        "id": "szSWcP1Emc1J",
        "outputId": "e3cea8ac-0976-40eb-8550-0d99bf78beb4"
      },
      "execution_count": 223,
      "outputs": [
        {
          "output_type": "execute_result",
          "data": {
            "text/plain": [
              "<31962x1000 sparse matrix of type '<class 'numpy.int64'>'\n",
              "\twith 131947 stored elements in Compressed Sparse Row format>"
            ]
          },
          "metadata": {},
          "execution_count": 223
        }
      ]
    },
    {
      "cell_type": "code",
      "source": [
        "y"
      ],
      "metadata": {
        "colab": {
          "base_uri": "https://localhost:8080/"
        },
        "id": "lRdqA7X_mc3u",
        "outputId": "c7952cfb-4d6f-44ff-d198-628290ec03c2"
      },
      "execution_count": 224,
      "outputs": [
        {
          "output_type": "execute_result",
          "data": {
            "text/plain": [
              "0        0\n",
              "1        0\n",
              "2        0\n",
              "3        0\n",
              "4        0\n",
              "        ..\n",
              "31957    0\n",
              "31958    0\n",
              "31959    0\n",
              "31960    1\n",
              "31961    0\n",
              "Name: label, Length: 31962, dtype: int64"
            ]
          },
          "metadata": {},
          "execution_count": 224
        }
      ]
    },
    {
      "cell_type": "code",
      "source": [
        "#Splitting the data\n",
        "x_train,x_test,y_train,y_test = train_test_split(x,y,test_size=0.2,random_state = 5)"
      ],
      "metadata": {
        "colab": {
          "base_uri": "https://localhost:8080/",
          "height": 17
        },
        "id": "9lkkKGrMmc6c",
        "outputId": "9d8ef622-2b3b-419c-a4c2-dcb043e6e15c"
      },
      "execution_count": 225,
      "outputs": [
        {
          "output_type": "display_data",
          "data": {
            "text/plain": [
              "<IPython.core.display.Javascript object>"
            ],
            "application/javascript": [
              "\n",
              "        if (window._pyforest_update_imports_cell) { window._pyforest_update_imports_cell('import numpy as np\\nfrom sklearn.ensemble import RandomForestRegressor\\nimport skimage\\nimport fastai\\nimport sklearn\\nimport re\\nfrom sklearn.model_selection import cross_val_score\\nfrom PIL import Image\\nimport fbprophet\\nimport plotly as py\\nfrom sklearn.feature_extraction.text import CountVectorizer\\nimport keras\\nimport pickle\\nimport altair as alt\\nimport xgboost as xgb\\nimport pandas as pd\\nfrom sklearn.ensemble import RandomForestClassifier\\nimport bokeh\\nfrom sklearn.preprocessing import RobustScaler\\nfrom sklearn.linear_model import LogisticRegression\\nimport pydot\\nimport seaborn as sns\\nfrom sklearn.linear_model import Ridge\\nfrom sklearn.linear_model import LassoCV\\nimport textblob\\nfrom sklearn import svm\\nfrom sklearn.model_selection import train_test_split\\nimport tensorflow as tf\\nfrom statsmodels.tsa.arima_model import ARIMA\\nfrom scipy import stats\\nimport statsmodels.api as sm\\nfrom sklearn.model_selection import RandomizedSearchCV\\nimport sys\\nimport cv2\\nimport torch\\nfrom sklearn.linear_model import Lasso\\nimport tqdm\\nimport matplotlib.pyplot as plt\\nfrom sklearn.linear_model import RidgeCV\\nfrom sklearn import metrics\\nfrom scipy import signal as sg\\nimport imutils\\nimport statistics\\nimport plotly.express as px\\nimport matplotlib as mpl\\nfrom sklearn.preprocessing import LabelEncoder\\nimport spacy'); }\n",
              "    "
            ]
          },
          "metadata": {}
        }
      ]
    },
    {
      "cell_type": "code",
      "source": [
        "#Importing the required Model\n",
        "from sklearn.linear_model import LogisticRegression"
      ],
      "metadata": {
        "id": "XE4FVPmKmc9G"
      },
      "execution_count": 226,
      "outputs": []
    },
    {
      "cell_type": "code",
      "source": [
        "mod = LogisticRegression()"
      ],
      "metadata": {
        "id": "8dUZk2snmc_2"
      },
      "execution_count": 227,
      "outputs": []
    },
    {
      "cell_type": "code",
      "source": [
        "#Fitting the model\n",
        "mod.fit(x_train,y_train)"
      ],
      "metadata": {
        "colab": {
          "base_uri": "https://localhost:8080/"
        },
        "id": "xSN_5HRGmdCx",
        "outputId": "7e825052-9beb-43ad-886d-ac042b21d138"
      },
      "execution_count": 228,
      "outputs": [
        {
          "output_type": "stream",
          "name": "stderr",
          "text": [
            "/usr/local/lib/python3.7/dist-packages/sklearn/linear_model/_logistic.py:818: ConvergenceWarning: lbfgs failed to converge (status=1):\n",
            "STOP: TOTAL NO. of ITERATIONS REACHED LIMIT.\n",
            "\n",
            "Increase the number of iterations (max_iter) or scale the data as shown in:\n",
            "    https://scikit-learn.org/stable/modules/preprocessing.html\n",
            "Please also refer to the documentation for alternative solver options:\n",
            "    https://scikit-learn.org/stable/modules/linear_model.html#logistic-regression\n",
            "  extra_warning_msg=_LOGISTIC_SOLVER_CONVERGENCE_MSG,\n"
          ]
        },
        {
          "output_type": "execute_result",
          "data": {
            "text/plain": [
              "LogisticRegression()"
            ]
          },
          "metadata": {},
          "execution_count": 228
        }
      ]
    },
    {
      "cell_type": "code",
      "source": [
        "#Predicting the values\n",
        "pr = mod.predict(x_test)\n",
        "pr"
      ],
      "metadata": {
        "colab": {
          "base_uri": "https://localhost:8080/"
        },
        "id": "_OMVH9EnmdFe",
        "outputId": "fe96e7fb-2632-4c75-91d0-e2bf6bdbf2e0"
      },
      "execution_count": 229,
      "outputs": [
        {
          "output_type": "execute_result",
          "data": {
            "text/plain": [
              "array([0, 0, 0, ..., 0, 0, 0])"
            ]
          },
          "metadata": {},
          "execution_count": 229
        }
      ]
    },
    {
      "cell_type": "code",
      "source": [
        "#Importing the metrics\n",
        "from sklearn.metrics import confusion_matrix,accuracy_score,classification_report,plot_confusion_matrix"
      ],
      "metadata": {
        "id": "eOs-HwnbmdIO"
      },
      "execution_count": 230,
      "outputs": []
    },
    {
      "cell_type": "code",
      "source": [
        "#Training Model accuracy \n",
        "mod.score(x_train,y_train)"
      ],
      "metadata": {
        "colab": {
          "base_uri": "https://localhost:8080/"
        },
        "id": "NDyR0yCxx9Uq",
        "outputId": "8e1a1a5c-a4fe-4d01-b7a4-b18494fd9903"
      },
      "execution_count": 231,
      "outputs": [
        {
          "output_type": "execute_result",
          "data": {
            "text/plain": [
              "0.9530290586256795"
            ]
          },
          "metadata": {},
          "execution_count": 231
        }
      ]
    },
    {
      "cell_type": "code",
      "source": [
        "#Testing model accuracy\n",
        "mod.score(x_test,y_test)"
      ],
      "metadata": {
        "colab": {
          "base_uri": "https://localhost:8080/"
        },
        "id": "Es9wdQBUx9XJ",
        "outputId": "deb7e075-771e-40cc-c41b-478d631d32e9"
      },
      "execution_count": 232,
      "outputs": [
        {
          "output_type": "execute_result",
          "data": {
            "text/plain": [
              "0.9438448302831222"
            ]
          },
          "metadata": {},
          "execution_count": 232
        }
      ]
    },
    {
      "cell_type": "code",
      "source": [
        "#confusion Matrix\n",
        "cm = confusion_matrix(y_test,pr)\n",
        "cm"
      ],
      "metadata": {
        "colab": {
          "base_uri": "https://localhost:8080/"
        },
        "id": "NI3eTTTRx9Z0",
        "outputId": "33a7097a-9f34-4e02-deb7-7e566e3dfdb4"
      },
      "execution_count": 233,
      "outputs": [
        {
          "output_type": "execute_result",
          "data": {
            "text/plain": [
              "array([[5892,   43],\n",
              "       [ 316,  142]])"
            ]
          },
          "metadata": {},
          "execution_count": 233
        }
      ]
    },
    {
      "cell_type": "code",
      "source": [
        "plot_confusion_matrix(mod,x_test,y_test)\n",
        "plt.show()"
      ],
      "metadata": {
        "colab": {
          "base_uri": "https://localhost:8080/",
          "height": 334
        },
        "id": "nNkMDaF_x9cd",
        "outputId": "c87cbcf1-0f34-4d8c-a549-abc01ae7480a"
      },
      "execution_count": 234,
      "outputs": [
        {
          "output_type": "stream",
          "name": "stderr",
          "text": [
            "/usr/local/lib/python3.7/dist-packages/sklearn/utils/deprecation.py:87: FutureWarning: Function plot_confusion_matrix is deprecated; Function `plot_confusion_matrix` is deprecated in 1.0 and will be removed in 1.2. Use one of the class methods: ConfusionMatrixDisplay.from_predictions or ConfusionMatrixDisplay.from_estimator.\n",
            "  warnings.warn(msg, category=FutureWarning)\n"
          ]
        },
        {
          "output_type": "display_data",
          "data": {
            "text/plain": [
              "<IPython.core.display.Javascript object>"
            ],
            "application/javascript": [
              "\n",
              "        if (window._pyforest_update_imports_cell) { window._pyforest_update_imports_cell('import numpy as np\\nfrom sklearn.ensemble import RandomForestRegressor\\nimport skimage\\nimport fastai\\nimport sklearn\\nimport re\\nfrom sklearn.model_selection import cross_val_score\\nfrom PIL import Image\\nimport fbprophet\\nimport plotly as py\\nfrom sklearn.feature_extraction.text import CountVectorizer\\nimport keras\\nimport pickle\\nimport altair as alt\\nimport xgboost as xgb\\nimport pandas as pd\\nfrom sklearn.ensemble import RandomForestClassifier\\nimport bokeh\\nfrom sklearn.preprocessing import RobustScaler\\nfrom sklearn.linear_model import LogisticRegression\\nimport pydot\\nimport seaborn as sns\\nfrom sklearn.linear_model import Ridge\\nfrom sklearn.linear_model import LassoCV\\nimport textblob\\nfrom sklearn import svm\\nfrom sklearn.model_selection import train_test_split\\nimport tensorflow as tf\\nfrom statsmodels.tsa.arima_model import ARIMA\\nfrom scipy import stats\\nimport statsmodels.api as sm\\nfrom sklearn.model_selection import RandomizedSearchCV\\nimport sys\\nimport cv2\\nimport torch\\nfrom sklearn.linear_model import Lasso\\nimport tqdm\\nimport matplotlib.pyplot as plt\\nfrom sklearn.linear_model import RidgeCV\\nfrom sklearn import metrics\\nfrom scipy import signal as sg\\nimport imutils\\nimport statistics\\nimport plotly.express as px\\nimport matplotlib as mpl\\nfrom sklearn.preprocessing import LabelEncoder\\nimport spacy'); }\n",
              "    "
            ]
          },
          "metadata": {}
        },
        {
          "output_type": "display_data",
          "data": {
            "text/plain": [
              "<Figure size 432x288 with 2 Axes>"
            ],
            "image/png": "[encoded data removed]"
          },
          "metadata": {
            "needs_background": "light"
          }
        }
      ]
    },
    {
      "cell_type": "code",
      "source": [
        "#Classification Report\n",
        "print(classification_report(y_test,mod.predict(x_test)))"
      ],
      "metadata": {
        "colab": {
          "base_uri": "https://localhost:8080/"
        },
        "id": "M5ic87uTx9fw",
        "outputId": "111e362d-9b09-4671-9d23-b92dd1584414"
      },
      "execution_count": 235,
      "outputs": [
        {
          "output_type": "stream",
          "name": "stdout",
          "text": [
            "              precision    recall  f1-score   support\n",
            "\n",
            "           0       0.95      0.99      0.97      5935\n",
            "           1       0.77      0.31      0.44       458\n",
            "\n",
            "    accuracy                           0.94      6393\n",
            "   macro avg       0.86      0.65      0.71      6393\n",
            "weighted avg       0.94      0.94      0.93      6393\n",
            "\n"
          ]
        }
      ]
    }
  ],
  "metadata": {
    "kernelspec": {
      "display_name": "Python 3",
      "language": "python",
      "name": "python3"
    },
    "language_info": {
      "codemirror_mode": {
        "name": "ipython",
        "version": 3
      },
      "file_extension": ".py",
      "mimetype": "text/x-python",
      "name": "python",
      "nbconvert_exporter": "python",
      "pygments_lexer": "ipython3",
      "version": "3.8.5"
    },
    "colab": {
      "name": "lab_assignment_07.ipynb",
      "provenance": [],
      "include_colab_link": true
    }
  },
  "nbformat": 4,
  "nbformat_minor": 0
}