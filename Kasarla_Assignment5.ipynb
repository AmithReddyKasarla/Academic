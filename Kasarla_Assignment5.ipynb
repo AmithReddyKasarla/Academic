{
 "cells": [
  {
   "cell_type": "code",
   "execution_count": 227,
   "id": "aec6183f",
   "metadata": {},
   "outputs": [],
   "source": [
    "#Importing  the automated pyforest library\n",
    "import pyforest"
   ]
  },
  {
   "cell_type": "code",
   "execution_count": 228,
   "id": "46fc10cb",
   "metadata": {},
   "outputs": [],
   "source": [
    "#Importing metrics\n",
    "from sklearn.metrics import roc_auc_score"
   ]
  },
  {
   "cell_type": "code",
   "execution_count": 229,
   "id": "e3cf1ae7",
   "metadata": {},
   "outputs": [],
   "source": [
    "#Below is the code reads the complete text file and also separate the labels such as Pos and Neg, and data \n",
    "from codecs import open\n",
    "from __future__ import division\n",
    "\n",
    "def read_documents(doc_file):\n",
    "    docs = []\n",
    "    labels = []\n",
    "    with open(doc_file, encoding='utf-8') as f:\n",
    "        for line in f:\n",
    "            words = line.strip().split()\n",
    "            docs.append(words[3:])\n",
    "            labels.append(words[1])\n",
    "    return docs, labels"
   ]
  },
  {
   "cell_type": "code",
   "execution_count": 230,
   "id": "c4e97999",
   "metadata": {},
   "outputs": [],
   "source": [
    "all_docs, all_labels = read_documents(\"C:\\\\Users\\\\Amith Reddy\\\\OneDrive\\\\Desktop\\\\Documents\\\\all_sentiment_shuffled.txt\")\n"
   ]
  },
  {
   "cell_type": "code",
   "execution_count": 231,
   "id": "81d1e94a",
   "metadata": {},
   "outputs": [
    {
     "data": {
      "application/javascript": [
       "\n",
       "        if (window._pyforest_update_imports_cell) { window._pyforest_update_imports_cell('import pandas as pd\\nimport seaborn as sns\\nfrom sklearn.model_selection import KFold\\nfrom sklearn.model_selection import StratifiedKFold\\nfrom sklearn.feature_extraction.text import CountVectorizer\\nfrom sklearn.model_selection import train_test_split\\nimport numpy as np\\nfrom sklearn.model_selection import cross_val_score'); }\n",
       "    "
      ],
      "text/plain": [
       "<IPython.core.display.Javascript object>"
      ]
     },
     "metadata": {},
     "output_type": "display_data"
    },
    {
     "name": "stderr",
     "output_type": "stream",
     "text": [
      "C:\\Users\\Amith Reddy\\anaconda3\\lib\\site-packages\\pandas\\util\\_decorators.py:311: ParserWarning: Falling back to the 'python' engine because the 'c' engine does not support regex separators (separators > 1 char and different from '\\s+' are interpreted as regex); you can avoid this warning by specifying engine='python'.\n",
      "  return func(*args, **kwargs)\n"
     ]
    }
   ],
   "source": [
    "#Here I am just using pandas to convert the text file with help of other parameteres and also naming the labels and data  \n",
    "df = pd.read_csv('C:\\\\Users\\\\Amith Reddy\\\\OneDrive\\\\Desktop\\\\Documents\\\\all_sentiment_shuffled.txt',sep='.txt', names=['result','txt'])\n"
   ]
  },
  {
   "cell_type": "code",
   "execution_count": 232,
   "id": "727ae2a4",
   "metadata": {},
   "outputs": [
    {
     "data": {
      "text/html": [
       "<div>\n",
       "<style scoped>\n",
       "    .dataframe tbody tr th:only-of-type {\n",
       "        vertical-align: middle;\n",
       "    }\n",
       "\n",
       "    .dataframe tbody tr th {\n",
       "        vertical-align: top;\n",
       "    }\n",
       "\n",
       "    .dataframe thead th {\n",
       "        text-align: right;\n",
       "    }\n",
       "</style>\n",
       "<table border=\"1\" class=\"dataframe\">\n",
       "  <thead>\n",
       "    <tr style=\"text-align: right;\">\n",
       "      <th></th>\n",
       "      <th>result</th>\n",
       "      <th>txt</th>\n",
       "    </tr>\n",
       "  </thead>\n",
       "  <tbody>\n",
       "    <tr>\n",
       "      <th>0</th>\n",
       "      <td>music neg 241</td>\n",
       "      <td>i bought this album because i loved the title...</td>\n",
       "    </tr>\n",
       "    <tr>\n",
       "      <th>1</th>\n",
       "      <td>music neg 544</td>\n",
       "      <td>i was misled and thought i was buying the ent...</td>\n",
       "    </tr>\n",
       "    <tr>\n",
       "      <th>2</th>\n",
       "      <td>books neg 729</td>\n",
       "      <td>i have introduced many of my ell , high schoo...</td>\n",
       "    </tr>\n",
       "    <tr>\n",
       "      <th>3</th>\n",
       "      <td>books pos 278</td>\n",
       "      <td>anything you purchase in the left behind seri...</td>\n",
       "    </tr>\n",
       "    <tr>\n",
       "      <th>4</th>\n",
       "      <td>dvd pos 840</td>\n",
       "      <td>i loved these movies , and i cant wiat for th...</td>\n",
       "    </tr>\n",
       "    <tr>\n",
       "      <th>...</th>\n",
       "      <td>...</td>\n",
       "      <td>...</td>\n",
       "    </tr>\n",
       "    <tr>\n",
       "      <th>11909</th>\n",
       "      <td>dvd neg 53</td>\n",
       "      <td>the story here dose n't matter . the main cha...</td>\n",
       "    </tr>\n",
       "    <tr>\n",
       "      <th>11910</th>\n",
       "      <td>software pos 70</td>\n",
       "      <td>i liked everything about this product except ...</td>\n",
       "    </tr>\n",
       "    <tr>\n",
       "      <th>11911</th>\n",
       "      <td>camera pos 864</td>\n",
       "      <td>this flash is the perfect back-up for a studi...</td>\n",
       "    </tr>\n",
       "    <tr>\n",
       "      <th>11912</th>\n",
       "      <td>health neg 264</td>\n",
       "      <td>i had boughten this as a gift which turned ou...</td>\n",
       "    </tr>\n",
       "    <tr>\n",
       "      <th>11913</th>\n",
       "      <td>health neg 83</td>\n",
       "      <td>the pedometer arrive held prisoner in a diffi...</td>\n",
       "    </tr>\n",
       "  </tbody>\n",
       "</table>\n",
       "<p>11914 rows × 2 columns</p>\n",
       "</div>"
      ],
      "text/plain": [
       "                result                                                txt\n",
       "0        music neg 241   i bought this album because i loved the title...\n",
       "1        music neg 544   i was misled and thought i was buying the ent...\n",
       "2        books neg 729   i have introduced many of my ell , high schoo...\n",
       "3        books pos 278   anything you purchase in the left behind seri...\n",
       "4          dvd pos 840   i loved these movies , and i cant wiat for th...\n",
       "...                ...                                                ...\n",
       "11909       dvd neg 53   the story here dose n't matter . the main cha...\n",
       "11910  software pos 70   i liked everything about this product except ...\n",
       "11911   camera pos 864   this flash is the perfect back-up for a studi...\n",
       "11912   health neg 264   i had boughten this as a gift which turned ou...\n",
       "11913    health neg 83   the pedometer arrive held prisoner in a diffi...\n",
       "\n",
       "[11914 rows x 2 columns]"
      ]
     },
     "execution_count": 232,
     "metadata": {},
     "output_type": "execute_result"
    }
   ],
   "source": [
    "df"
   ]
  },
  {
   "cell_type": "code",
   "execution_count": 233,
   "id": "cfdf2b2f",
   "metadata": {},
   "outputs": [],
   "source": [
    "#In the result column i am spliting the string to seperate labels such as neg and pos\n",
    "df['result']=df['result'].str.split(' ').str[1]"
   ]
  },
  {
   "cell_type": "code",
   "execution_count": 234,
   "id": "9be83c01",
   "metadata": {},
   "outputs": [
    {
     "data": {
      "text/plain": [
       "0        neg\n",
       "1        neg\n",
       "2        neg\n",
       "3        pos\n",
       "4        pos\n",
       "        ... \n",
       "11909    neg\n",
       "11910    pos\n",
       "11911    pos\n",
       "11912    neg\n",
       "11913    neg\n",
       "Name: result, Length: 11914, dtype: object"
      ]
     },
     "execution_count": 234,
     "metadata": {},
     "output_type": "execute_result"
    }
   ],
   "source": [
    "df.result"
   ]
  },
  {
   "cell_type": "code",
   "execution_count": 235,
   "id": "e6d045df",
   "metadata": {},
   "outputs": [
    {
     "data": {
      "text/plain": [
       "result    0\n",
       "txt       0\n",
       "dtype: int64"
      ]
     },
     "execution_count": 235,
     "metadata": {},
     "output_type": "execute_result"
    }
   ],
   "source": [
    "df.isnull().sum()"
   ]
  },
  {
   "cell_type": "code",
   "execution_count": 236,
   "id": "2a2fc91a",
   "metadata": {},
   "outputs": [
    {
     "name": "stdout",
     "output_type": "stream",
     "text": [
      "Counter({' ': 1794121, 'e': 797740, 't': 655306, 'a': 544958, 'o': 538743, 'i': 519515, 's': 459622, 'n': 443043, 'r': 398239, 'h': 348456, 'l': 286904, 'd': 250586, 'u': 205210, 'c': 195828, 'm': 177912, 'f': 145133, 'y': 145116, 'g': 143292, 'w': 132264, 'p': 132248, 'b': 114114, '.': 93134, 'v': 83015, ',': 66753, 'k': 62455, \"'\": 31493, '-': 16998, '\"': 16347, 'x': 14115, 'j': 13250, '0': 9765, ')': 8094, '(': 7815, 'q': 7772, 'z': 7684, '!': 7085, '1': 6333, '2': 5237, '5': 3587, '3': 3208, ';': 2960, '?': 2957, ':': 2638, '9': 2533, '&': 2338, '4': 2241, '/': 2216, '7': 2017, '6': 1932, '8': 1904, '*': 1130, '$': 1061, '_': 902, '`': 378, '%': 313, '[': 268, ']': 247, '+': 209, '#': 182, '=': 67, '@': 56, '~': 50, 'é': 41, 'ï': 27, '½': 23, '¿': 21, 'ó': 15, 'á': 14, '^': 12, '{': 12, '}': 11, '\\\\': 9, 'Á': 8, 'è': 7, 'ç': 5, 'ü': 5, 'ã': 3, 'í': 3, 'à': 2, '¡': 2, '®': 1, '¼': 1, 'É': 1, '|': 1, 'ä': 1, 'ö': 1, 'ú': 1, 'ê': 1})\n",
      "0\n",
      "0\n"
     ]
    }
   ],
   "source": [
    "#Here checking the frequency of each character in the document\n",
    "from collections import Counter\n",
    "\n",
    "example_documents = df['txt']\n",
    "\n",
    "freqs1 = Counter()\n",
    "for doc in example_documents:\n",
    "    for w in doc:\n",
    "        freqs1[w] += 1\n",
    "\n",
    "freqs2 = Counter()\n",
    "for doc in example_documents:\n",
    "    freqs2.update(doc)\n",
    "\n",
    "freqs3 = Counter(w for doc in example_documents for w in doc)\n",
    "\n",
    "print(freqs1)\n",
    "print(freqs1['the'])\n",
    "print(freqs1['neverseen'])"
   ]
  },
  {
   "cell_type": "code",
   "execution_count": 237,
   "id": "0d9332a3",
   "metadata": {},
   "outputs": [
    {
     "data": {
      "text/plain": [
       "Counter({' ': 1794121,\n",
       "         'i': 519515,\n",
       "         'b': 114114,\n",
       "         'o': 538743,\n",
       "         'u': 205210,\n",
       "         'g': 143292,\n",
       "         'h': 348456,\n",
       "         't': 655306,\n",
       "         's': 459622,\n",
       "         'a': 544958,\n",
       "         'l': 286904,\n",
       "         'm': 177912,\n",
       "         'e': 797740,\n",
       "         'c': 195828,\n",
       "         'v': 83015,\n",
       "         'd': 250586,\n",
       "         'n': 443043,\n",
       "         '.': 93134,\n",
       "         \"'\": 31493,\n",
       "         'r': 398239,\n",
       "         ',': 66753,\n",
       "         'w': 132264,\n",
       "         'f': 145133,\n",
       "         '?': 2957,\n",
       "         'j': 13250,\n",
       "         'y': 145116,\n",
       "         'p': 132248,\n",
       "         'z': 7684,\n",
       "         'k': 62455,\n",
       "         'x': 14115,\n",
       "         '6': 1932,\n",
       "         '!': 7085,\n",
       "         '-': 16998,\n",
       "         '5': 3587,\n",
       "         '0': 9765,\n",
       "         '(': 7815,\n",
       "         ')': 8094,\n",
       "         ':': 2638,\n",
       "         '2': 5237,\n",
       "         '*': 1130,\n",
       "         'q': 7772,\n",
       "         '1': 6333,\n",
       "         '\"': 16347,\n",
       "         '9': 2533,\n",
       "         '&': 2338,\n",
       "         '3': 3208,\n",
       "         '$': 1061,\n",
       "         '7': 2017,\n",
       "         '/': 2216,\n",
       "         '8': 1904,\n",
       "         '4': 2241,\n",
       "         '+': 209,\n",
       "         ';': 2960,\n",
       "         '_': 902,\n",
       "         '~': 50,\n",
       "         '[': 268,\n",
       "         ']': 247,\n",
       "         '#': 182,\n",
       "         '%': 313,\n",
       "         'é': 41,\n",
       "         '@': 56,\n",
       "         '^': 12,\n",
       "         '½': 23,\n",
       "         '=': 67,\n",
       "         '`': 378,\n",
       "         'è': 7,\n",
       "         'ï': 27,\n",
       "         '¿': 21,\n",
       "         '{': 12,\n",
       "         '}': 11,\n",
       "         'ç': 5,\n",
       "         'à': 2,\n",
       "         '\\\\': 9,\n",
       "         'ü': 5,\n",
       "         '¡': 2,\n",
       "         'ó': 15,\n",
       "         '®': 1,\n",
       "         '¼': 1,\n",
       "         'á': 14,\n",
       "         'ã': 3,\n",
       "         'É': 1,\n",
       "         '|': 1,\n",
       "         'ä': 1,\n",
       "         'í': 3,\n",
       "         'Á': 8,\n",
       "         'ö': 1,\n",
       "         'ú': 1,\n",
       "         'ê': 1})"
      ]
     },
     "execution_count": 237,
     "metadata": {},
     "output_type": "execute_result"
    }
   ],
   "source": [
    "freqs1"
   ]
  },
  {
   "cell_type": "code",
   "execution_count": 238,
   "id": "63b2e5da",
   "metadata": {},
   "outputs": [],
   "source": [
    "#Here I am taking y as dependent feature where we predict if the word is pos or neg\n",
    "y=df.result"
   ]
  },
  {
   "cell_type": "code",
   "execution_count": 239,
   "id": "86b48f7c",
   "metadata": {},
   "outputs": [
    {
     "data": {
      "text/plain": [
       "0        neg\n",
       "1        neg\n",
       "2        neg\n",
       "3        pos\n",
       "4        pos\n",
       "        ... \n",
       "11909    neg\n",
       "11910    pos\n",
       "11911    pos\n",
       "11912    neg\n",
       "11913    neg\n",
       "Name: result, Length: 11914, dtype: object"
      ]
     },
     "execution_count": 239,
     "metadata": {},
     "output_type": "execute_result"
    }
   ],
   "source": [
    "y"
   ]
  },
  {
   "cell_type": "code",
   "execution_count": 240,
   "id": "b1801394",
   "metadata": {},
   "outputs": [
    {
     "name": "stderr",
     "output_type": "stream",
     "text": [
      "[nltk_data] Downloading package stopwords to C:\\Users\\Amith\n",
      "[nltk_data]     Reddy\\AppData\\Roaming\\nltk_data...\n",
      "[nltk_data]   Package stopwords is already up-to-date!\n"
     ]
    },
    {
     "data": {
      "text/plain": [
       "True"
      ]
     },
     "execution_count": 240,
     "metadata": {},
     "output_type": "execute_result"
    }
   ],
   "source": [
    "#Import nltk and downloading stopwords\n",
    "import nltk\n",
    "nltk.download('stopwords')"
   ]
  },
  {
   "cell_type": "code",
   "execution_count": 241,
   "id": "551dc844",
   "metadata": {},
   "outputs": [],
   "source": [
    "#Defining stopset words to 'english'\n",
    "stopset = set(stopwords.words('english'))"
   ]
  },
  {
   "cell_type": "code",
   "execution_count": 242,
   "id": "8c2085f0",
   "metadata": {},
   "outputs": [],
   "source": [
    "#Here I am importing TfidVectorizer for text featue extraction from sklearn to convert the text data\n",
    "#In the below code I am vectorizing the charaters into matrix array that would be used build the model\n",
    "from sklearn.feature_extraction.text import TfidfVectorizer\n",
    "vectorizer = TfidfVectorizer(use_idf=True,lowercase=True, strip_accents='ascii',stop_words=stopset)\n",
    "x=vectorizer.fit_transform(df.txt)"
   ]
  },
  {
   "cell_type": "code",
   "execution_count": 243,
   "id": "643cb2ad",
   "metadata": {},
   "outputs": [
    {
     "data": {
      "text/plain": [
       "<11914x47135 sparse matrix of type '<class 'numpy.float64'>'\n",
       "\twith 649379 stored elements in Compressed Sparse Row format>"
      ]
     },
     "execution_count": 243,
     "metadata": {},
     "output_type": "execute_result"
    }
   ],
   "source": [
    "x"
   ]
  },
  {
   "cell_type": "code",
   "execution_count": 244,
   "id": "d77b36ad",
   "metadata": {},
   "outputs": [
    {
     "name": "stdout",
     "output_type": "stream",
     "text": [
      "(11914, 47135)\n",
      "(11914,)\n"
     ]
    }
   ],
   "source": [
    "print(x.shape)\n",
    "print(y.shape)"
   ]
  },
  {
   "cell_type": "code",
   "execution_count": 245,
   "id": "a2836f62",
   "metadata": {},
   "outputs": [
    {
     "data": {
      "application/javascript": [
       "\n",
       "        if (window._pyforest_update_imports_cell) { window._pyforest_update_imports_cell('import pandas as pd\\nimport seaborn as sns\\nfrom sklearn.model_selection import KFold\\nfrom sklearn.model_selection import StratifiedKFold\\nfrom sklearn.feature_extraction.text import CountVectorizer\\nfrom sklearn.model_selection import train_test_split\\nimport numpy as np\\nfrom sklearn.model_selection import cross_val_score'); }\n",
       "    "
      ],
      "text/plain": [
       "<IPython.core.display.Javascript object>"
      ]
     },
     "metadata": {},
     "output_type": "display_data"
    }
   ],
   "source": [
    "#Here I am splitting the data into 80:20 and setting random state as 5\n",
    "x_train,x_test,y_train,y_test = train_test_split(x,y, test_size = 0.20, random_state = 5)"
   ]
  },
  {
   "cell_type": "code",
   "execution_count": 246,
   "id": "8634b880",
   "metadata": {},
   "outputs": [],
   "source": [
    "#Importing the model\n",
    "from sklearn.naive_bayes import MultinomialNB"
   ]
  },
  {
   "cell_type": "code",
   "execution_count": 247,
   "id": "376bce7a",
   "metadata": {},
   "outputs": [],
   "source": [
    "#defining the model\n",
    "mod = MultinomialNB()"
   ]
  },
  {
   "cell_type": "code",
   "execution_count": 248,
   "id": "24bf15c5",
   "metadata": {},
   "outputs": [
    {
     "data": {
      "text/plain": [
       "MultinomialNB()"
      ]
     },
     "execution_count": 248,
     "metadata": {},
     "output_type": "execute_result"
    }
   ],
   "source": [
    "#Fitting the model with train data\n",
    "mod.fit(x_train,y_train)"
   ]
  },
  {
   "cell_type": "code",
   "execution_count": 249,
   "id": "409fcc2a",
   "metadata": {},
   "outputs": [
    {
     "data": {
      "application/javascript": [
       "\n",
       "        if (window._pyforest_update_imports_cell) { window._pyforest_update_imports_cell('import pandas as pd\\nimport seaborn as sns\\nfrom sklearn.model_selection import KFold\\nfrom sklearn.model_selection import StratifiedKFold\\nfrom sklearn.feature_extraction.text import CountVectorizer\\nfrom sklearn.model_selection import train_test_split\\nimport numpy as np\\nfrom sklearn.model_selection import cross_val_score'); }\n",
       "    "
      ],
      "text/plain": [
       "<IPython.core.display.Javascript object>"
      ]
     },
     "metadata": {},
     "output_type": "display_data"
    }
   ],
   "source": [
    "#kf for cross validation of the data\n",
    "kf = KFold(n_splits = 7, shuffle=True, random_state = 5)"
   ]
  },
  {
   "cell_type": "code",
   "execution_count": 262,
   "id": "a75c7532",
   "metadata": {},
   "outputs": [
    {
     "data": {
      "application/javascript": [
       "\n",
       "        if (window._pyforest_update_imports_cell) { window._pyforest_update_imports_cell('import pandas as pd\\nimport seaborn as sns\\nfrom sklearn.model_selection import KFold\\nfrom sklearn.model_selection import StratifiedKFold\\nfrom sklearn.feature_extraction.text import CountVectorizer\\nfrom sklearn.model_selection import train_test_split\\nimport numpy as np\\nfrom sklearn.model_selection import cross_val_score'); }\n",
       "    "
      ],
      "text/plain": [
       "<IPython.core.display.Javascript object>"
      ]
     },
     "metadata": {},
     "output_type": "display_data"
    },
    {
     "data": {
      "text/plain": [
       "array([0.82232012, 0.82745962, 0.80910426, 0.81938326, 0.81337252,\n",
       "       0.82880235, 0.8104335 ])"
      ]
     },
     "execution_count": 262,
     "metadata": {},
     "output_type": "execute_result"
    }
   ],
   "source": [
    "#Deriving the score for all the 7 splits\n",
    "score = cross_val_score(mod,x_train,y_train,cv=kf)\n",
    "score"
   ]
  },
  {
   "cell_type": "code",
   "execution_count": 263,
   "id": "803b4365",
   "metadata": {},
   "outputs": [
    {
     "data": {
      "text/plain": [
       "0.8186965186045934"
      ]
     },
     "execution_count": 263,
     "metadata": {},
     "output_type": "execute_result"
    }
   ],
   "source": [
    "#Find the average score for 7 splits\n",
    "avg_score = score.mean()\n",
    "avg_score"
   ]
  },
  {
   "cell_type": "code",
   "execution_count": 252,
   "id": "0af8d979",
   "metadata": {},
   "outputs": [
    {
     "data": {
      "text/plain": [
       "0.9351589549889833"
      ]
     },
     "execution_count": 252,
     "metadata": {},
     "output_type": "execute_result"
    }
   ],
   "source": [
    "#Below checking the score for train data\n",
    "mod.score(x_train,y_train)"
   ]
  },
  {
   "cell_type": "code",
   "execution_count": 253,
   "id": "8e8dcc94",
   "metadata": {},
   "outputs": [
    {
     "data": {
      "text/plain": [
       "0.8271086865295846"
      ]
     },
     "execution_count": 253,
     "metadata": {},
     "output_type": "execute_result"
    }
   ],
   "source": [
    "#Below checking the score for test data\n",
    "mod.score(x_test,y_test)"
   ]
  },
  {
   "cell_type": "code",
   "execution_count": 254,
   "id": "0fd00fdf",
   "metadata": {},
   "outputs": [
    {
     "data": {
      "text/plain": [
       "array(['pos', 'pos', 'pos', ..., 'pos', 'neg', 'neg'], dtype='<U3')"
      ]
     },
     "execution_count": 254,
     "metadata": {},
     "output_type": "execute_result"
    }
   ],
   "source": [
    "#Predicting the labels\n",
    "pr = mod.predict(x_test)\n",
    "pr"
   ]
  },
  {
   "cell_type": "code",
   "execution_count": 255,
   "id": "63f147a9",
   "metadata": {},
   "outputs": [
    {
     "data": {
      "application/javascript": [
       "\n",
       "        if (window._pyforest_update_imports_cell) { window._pyforest_update_imports_cell('import pandas as pd\\nimport seaborn as sns\\nfrom sklearn.model_selection import KFold\\nfrom sklearn.model_selection import StratifiedKFold\\nfrom sklearn.feature_extraction.text import CountVectorizer\\nfrom sklearn.model_selection import train_test_split\\nimport numpy as np\\nfrom sklearn.model_selection import cross_val_score'); }\n",
       "    "
      ],
      "text/plain": [
       "<IPython.core.display.Javascript object>"
      ]
     },
     "metadata": {},
     "output_type": "display_data"
    }
   ],
   "source": [
    "#Below i am checking the label while we give a sentance\n",
    "word = np.array([\"not working\"])"
   ]
  },
  {
   "cell_type": "code",
   "execution_count": 256,
   "id": "308b9c18",
   "metadata": {},
   "outputs": [],
   "source": [
    "#Vectorizing the word\n",
    "word_vector = vectorizer.transform(word)"
   ]
  },
  {
   "cell_type": "code",
   "execution_count": 257,
   "id": "04c4bb95",
   "metadata": {},
   "outputs": [
    {
     "name": "stdout",
     "output_type": "stream",
     "text": [
      "['neg']\n"
     ]
    }
   ],
   "source": [
    "#Obtaining the label for the sentance\n",
    "print(mod.predict(word_vector))"
   ]
  },
  {
   "cell_type": "code",
   "execution_count": 258,
   "id": "ef918cb8",
   "metadata": {},
   "outputs": [
    {
     "data": {
      "application/javascript": [
       "\n",
       "        if (window._pyforest_update_imports_cell) { window._pyforest_update_imports_cell('import pandas as pd\\nimport seaborn as sns\\nfrom sklearn.model_selection import KFold\\nfrom sklearn.model_selection import StratifiedKFold\\nfrom sklearn.feature_extraction.text import CountVectorizer\\nfrom sklearn.model_selection import train_test_split\\nimport numpy as np\\nfrom sklearn.model_selection import cross_val_score'); }\n",
       "    "
      ],
      "text/plain": [
       "<IPython.core.display.Javascript object>"
      ]
     },
     "metadata": {},
     "output_type": "display_data"
    }
   ],
   "source": [
    "word = np.array([\"welcome to money\"])"
   ]
  },
  {
   "cell_type": "code",
   "execution_count": 259,
   "id": "cba8e156",
   "metadata": {},
   "outputs": [],
   "source": [
    "word_vector = vectorizer.transform(word)"
   ]
  },
  {
   "cell_type": "code",
   "execution_count": 260,
   "id": "3cfbb063",
   "metadata": {},
   "outputs": [
    {
     "name": "stdout",
     "output_type": "stream",
     "text": [
      "['pos']\n"
     ]
    }
   ],
   "source": [
    "print(mod.predict(word_vector))"
   ]
  },
  {
   "cell_type": "code",
   "execution_count": 261,
   "id": "3d2f47cc",
   "metadata": {},
   "outputs": [
    {
     "data": {
      "application/javascript": [
       "\n",
       "        if (window._pyforest_update_imports_cell) { window._pyforest_update_imports_cell('import pandas as pd\\nimport seaborn as sns\\nfrom sklearn.model_selection import KFold\\nfrom sklearn.model_selection import StratifiedKFold\\nfrom sklearn.feature_extraction.text import CountVectorizer\\nfrom sklearn.model_selection import train_test_split\\nimport numpy as np\\nfrom sklearn.model_selection import cross_val_score'); }\n",
       "    "
      ],
      "text/plain": [
       "<IPython.core.display.Javascript object>"
      ]
     },
     "metadata": {},
     "output_type": "display_data"
    },
    {
     "data": {
      "text/plain": [
       "<AxesSubplot:>"
      ]
     },
     "execution_count": 261,
     "metadata": {},
     "output_type": "execute_result"
    },
    {
     "data": {
      "image/png": "[encoded data removed]",
      "text/plain": [
       "<Figure size 432x288 with 2 Axes>"
      ]
     },
     "metadata": {
      "needs_background": "light"
     },
     "output_type": "display_data"
    }
   ],
   "source": [
    "#Defining the confusion Matrix\n",
    "from sklearn.metrics import confusion_matrix\n",
    "cm = confusion_matrix(y_test, pr)\n",
    "\n",
    "sns.heatmap(cm,annot=True,fmt='d')"
   ]
  }
 ],
 "metadata": {
  "kernelspec": {
   "display_name": "Python 3 (ipykernel)",
   "language": "python",
   "name": "python3"
  },
  "language_info": {
   "codemirror_mode": {
    "name": "ipython",
    "version": 3
   },
   "file_extension": ".py",
   "mimetype": "text/x-python",
   "name": "python",
   "nbconvert_exporter": "python",
   "pygments_lexer": "ipython3",
   "version": "3.9.7"
  }
 },
 "nbformat": 4,
 "nbformat_minor": 5
}
