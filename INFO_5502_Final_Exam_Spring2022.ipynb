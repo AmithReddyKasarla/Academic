{
  "cells": [
    {
      "cell_type": "markdown",
      "metadata": {
        "id": "view-in-github",
        "colab_type": "text"
      },
      "source": [
        "<a href=\"https://colab.research.google.com/github/AmithReddyKasarla/AmithReddy_INFO5502_-Spring2022/blob/main/INFO_5502_Final_Exam_Spring2022.ipynb\" target=\"_parent\"><img src=\"https://colab.research.google.com/assets/colab-badge.svg\" alt=\"Open In Colab\"/></a>"
      ]
    },
    {
      "cell_type": "markdown",
      "metadata": {
        "id": "3YQNVl3x4Lww"
      },
      "source": [
        "### INFO 5502 Final Exam (05/12/2022, 240 points in total)"
      ]
    },
    {
      "cell_type": "markdown",
      "metadata": {
        "id": "jlcNRW234Lw4"
      },
      "source": [
        "<span style='background:yellow'>**Question 1 (40 pt).**</span> We want to create a birthday frequency graph using the data on births in the United States, provided by the Centers for Disease Control (CDC). You can download the data from my GitHub link:https://github.com/unt-iialab/info5502-spring2022/blob/main/datasets/births.csv \n",
        "\n",
        "Please visualize the data as the following figure using python (you can use any data visualization packages):\n",
        "\n",
        "![final-exam.png](attachment:final-exam.png)"
      ]
    },
    {
      "cell_type": "code",
      "execution_count": 13,
      "metadata": {
        "colab": {
          "base_uri": "https://localhost:8080/"
        },
        "id": "wk_4LD_B4Lw6",
        "outputId": "2ea8dcd0-f070-4b22-aaaa-e7c481c67bda"
      },
      "outputs": [
        {
          "output_type": "stream",
          "name": "stdout",
          "text": [
            "Collecting pyforest\n",
            "  Downloading pyforest-1.1.0.tar.gz (15 kB)\n",
            "Building wheels for collected packages: pyforest\n",
            "  Building wheel for pyforest (setup.py) ... \u001b[?25l\u001b[?25hdone\n",
            "  Created wheel for pyforest: filename=pyforest-1.1.0-py2.py3-none-any.whl size=14607 sha256=92da76ec5ce3b6a53c4296c5dc40b99e066324e4a38ad3928288d65d7733294e\n",
            "  Stored in directory: /root/.cache/pip/wheels/61/1c/da/48e6c884142d485475d852d69d20a096aba5beceb338822893\n",
            "Successfully built pyforest\n",
            "Installing collected packages: pyforest\n",
            "Successfully installed pyforest-1.1.0\n"
          ]
        }
      ],
      "source": [
        "#### You code here\n",
        "!pip install pyforest\n",
        "import pyforest\n",
        "import matplotlib.pyplot as plt\n",
        "%matplotlib inline\n",
        "import matplotlib as mpl"
      ]
    },
    {
      "cell_type": "code",
      "source": [
        "df = pd.read_csv('https://raw.githubusercontent.com/unt-iialab/info5502-spring2022/main/datasets/births.csv')"
      ],
      "metadata": {
        "id": "8xRRike04cIx"
      },
      "execution_count": 14,
      "outputs": []
    },
    {
      "cell_type": "code",
      "source": [
        "df.describe()"
      ],
      "metadata": {
        "colab": {
          "base_uri": "https://localhost:8080/",
          "height": 300
        },
        "id": "0KsVLGj4CA4X",
        "outputId": "4f42db56-c716-4b3a-db21-ac1093615649"
      },
      "execution_count": 15,
      "outputs": [
        {
          "output_type": "execute_result",
          "data": {
            "text/plain": [
              "               year         month           day         births\n",
              "count  15547.000000  15547.000000  15067.000000   15547.000000\n",
              "mean    1979.037435      6.515919     17.769894    9762.293561\n",
              "std        6.728340      3.449632     15.284034   28552.465810\n",
              "min     1969.000000      1.000000      1.000000       1.000000\n",
              "25%     1974.000000      4.000000      8.000000    4358.000000\n",
              "50%     1979.000000      7.000000     16.000000    4814.000000\n",
              "75%     1984.000000     10.000000     24.000000    5289.500000\n",
              "max     2008.000000     12.000000     99.000000  199622.000000"
            ],
            "text/html": [
              "\n",
              "  <div id=\"df-8e80919e-e677-4e76-8cd9-39f5eaf99043\">\n",
              "    <div class=\"colab-df-container\">\n",
              "      <div>\n",
              "<style scoped>\n",
              "    .dataframe tbody tr th:only-of-type {\n",
              "        vertical-align: middle;\n",
              "    }\n",
              "\n",
              "    .dataframe tbody tr th {\n",
              "        vertical-align: top;\n",
              "    }\n",
              "\n",
              "    .dataframe thead th {\n",
              "        text-align: right;\n",
              "    }\n",
              "</style>\n",
              "<table border=\"1\" class=\"dataframe\">\n",
              "  <thead>\n",
              "    <tr style=\"text-align: right;\">\n",
              "      <th></th>\n",
              "      <th>year</th>\n",
              "      <th>month</th>\n",
              "      <th>day</th>\n",
              "      <th>births</th>\n",
              "    </tr>\n",
              "  </thead>\n",
              "  <tbody>\n",
              "    <tr>\n",
              "      <th>count</th>\n",
              "      <td>15547.000000</td>\n",
              "      <td>15547.000000</td>\n",
              "      <td>15067.000000</td>\n",
              "      <td>15547.000000</td>\n",
              "    </tr>\n",
              "    <tr>\n",
              "      <th>mean</th>\n",
              "      <td>1979.037435</td>\n",
              "      <td>6.515919</td>\n",
              "      <td>17.769894</td>\n",
              "      <td>9762.293561</td>\n",
              "    </tr>\n",
              "    <tr>\n",
              "      <th>std</th>\n",
              "      <td>6.728340</td>\n",
              "      <td>3.449632</td>\n",
              "      <td>15.284034</td>\n",
              "      <td>28552.465810</td>\n",
              "    </tr>\n",
              "    <tr>\n",
              "      <th>min</th>\n",
              "      <td>1969.000000</td>\n",
              "      <td>1.000000</td>\n",
              "      <td>1.000000</td>\n",
              "      <td>1.000000</td>\n",
              "    </tr>\n",
              "    <tr>\n",
              "      <th>25%</th>\n",
              "      <td>1974.000000</td>\n",
              "      <td>4.000000</td>\n",
              "      <td>8.000000</td>\n",
              "      <td>4358.000000</td>\n",
              "    </tr>\n",
              "    <tr>\n",
              "      <th>50%</th>\n",
              "      <td>1979.000000</td>\n",
              "      <td>7.000000</td>\n",
              "      <td>16.000000</td>\n",
              "      <td>4814.000000</td>\n",
              "    </tr>\n",
              "    <tr>\n",
              "      <th>75%</th>\n",
              "      <td>1984.000000</td>\n",
              "      <td>10.000000</td>\n",
              "      <td>24.000000</td>\n",
              "      <td>5289.500000</td>\n",
              "    </tr>\n",
              "    <tr>\n",
              "      <th>max</th>\n",
              "      <td>2008.000000</td>\n",
              "      <td>12.000000</td>\n",
              "      <td>99.000000</td>\n",
              "      <td>199622.000000</td>\n",
              "    </tr>\n",
              "  </tbody>\n",
              "</table>\n",
              "</div>\n",
              "      <button class=\"colab-df-convert\" onclick=\"convertToInteractive('df-8e80919e-e677-4e76-8cd9-39f5eaf99043')\"\n",
              "              title=\"Convert this dataframe to an interactive table.\"\n",
              "              style=\"display:none;\">\n",
              "        \n",
              "  <svg xmlns=\"http://www.w3.org/2000/svg\" height=\"24px\"viewBox=\"0 0 24 24\"\n",
              "       width=\"24px\">\n",
              "    <path d=\"M0 0h24v24H0V0z\" fill=\"none\"/>\n",
              "    <path d=\"M18.56 5.44l.94 2.06.94-2.06 2.06-.94-2.06-.94-.94-2.06-.94 2.06-2.06.94zm-11 1L8.5 8.5l.94-2.06 2.06-.94-2.06-.94L8.5 2.5l-.94 2.06-2.06.94zm10 10l.94 2.06.94-2.06 2.06-.94-2.06-.94-.94-2.06-.94 2.06-2.06.94z\"/><path d=\"M17.41 7.96l-1.37-1.37c-.4-.4-.92-.59-1.43-.59-.52 0-1.04.2-1.43.59L10.3 9.45l-7.72 7.72c-.78.78-.78 2.05 0 2.83L4 21.41c.39.39.9.59 1.41.59.51 0 1.02-.2 1.41-.59l7.78-7.78 2.81-2.81c.8-.78.8-2.07 0-2.86zM5.41 20L4 18.59l7.72-7.72 1.47 1.35L5.41 20z\"/>\n",
              "  </svg>\n",
              "      </button>\n",
              "      \n",
              "  <style>\n",
              "    .colab-df-container {\n",
              "      display:flex;\n",
              "      flex-wrap:wrap;\n",
              "      gap: 12px;\n",
              "    }\n",
              "\n",
              "    .colab-df-convert {\n",
              "      background-color: #E8F0FE;\n",
              "      border: none;\n",
              "      border-radius: 50%;\n",
              "      cursor: pointer;\n",
              "      display: none;\n",
              "      fill: #1967D2;\n",
              "      height: 32px;\n",
              "      padding: 0 0 0 0;\n",
              "      width: 32px;\n",
              "    }\n",
              "\n",
              "    .colab-df-convert:hover {\n",
              "      background-color: #E2EBFA;\n",
              "      box-shadow: 0px 1px 2px rgba(60, 64, 67, 0.3), 0px 1px 3px 1px rgba(60, 64, 67, 0.15);\n",
              "      fill: #174EA6;\n",
              "    }\n",
              "\n",
              "    [theme=dark] .colab-df-convert {\n",
              "      background-color: #3B4455;\n",
              "      fill: #D2E3FC;\n",
              "    }\n",
              "\n",
              "    [theme=dark] .colab-df-convert:hover {\n",
              "      background-color: #434B5C;\n",
              "      box-shadow: 0px 1px 3px 1px rgba(0, 0, 0, 0.15);\n",
              "      filter: drop-shadow(0px 1px 2px rgba(0, 0, 0, 0.3));\n",
              "      fill: #FFFFFF;\n",
              "    }\n",
              "  </style>\n",
              "\n",
              "      <script>\n",
              "        const buttonEl =\n",
              "          document.querySelector('#df-8e80919e-e677-4e76-8cd9-39f5eaf99043 button.colab-df-convert');\n",
              "        buttonEl.style.display =\n",
              "          google.colab.kernel.accessAllowed ? 'block' : 'none';\n",
              "\n",
              "        async function convertToInteractive(key) {\n",
              "          const element = document.querySelector('#df-8e80919e-e677-4e76-8cd9-39f5eaf99043');\n",
              "          const dataTable =\n",
              "            await google.colab.kernel.invokeFunction('convertToInteractive',\n",
              "                                                     [key], {});\n",
              "          if (!dataTable) return;\n",
              "\n",
              "          const docLinkHtml = 'Like what you see? Visit the ' +\n",
              "            '<a target=\"_blank\" href=https://colab.research.google.com/notebooks/data_table.ipynb>data table notebook</a>'\n",
              "            + ' to learn more about interactive tables.';\n",
              "          element.innerHTML = '';\n",
              "          dataTable['output_type'] = 'display_data';\n",
              "          await google.colab.output.renderOutput(dataTable, element);\n",
              "          const docLink = document.createElement('div');\n",
              "          docLink.innerHTML = docLinkHtml;\n",
              "          element.appendChild(docLink);\n",
              "        }\n",
              "      </script>\n",
              "    </div>\n",
              "  </div>\n",
              "  "
            ]
          },
          "metadata": {},
          "execution_count": 15
        }
      ]
    },
    {
      "cell_type": "code",
      "source": [
        "df.info()"
      ],
      "metadata": {
        "colab": {
          "base_uri": "https://localhost:8080/"
        },
        "id": "xkH90L0KLFG5",
        "outputId": "15fe7bb7-d253-4e9c-be37-1e54d082ca96"
      },
      "execution_count": 23,
      "outputs": [
        {
          "output_type": "stream",
          "name": "stdout",
          "text": [
            "<class 'pandas.core.frame.DataFrame'>\n",
            "RangeIndex: 15547 entries, 0 to 15546\n",
            "Data columns (total 5 columns):\n",
            " #   Column  Non-Null Count  Dtype  \n",
            "---  ------  --------------  -----  \n",
            " 0   year    15547 non-null  int64  \n",
            " 1   month   15547 non-null  int64  \n",
            " 2   day     15067 non-null  float64\n",
            " 3   gender  15547 non-null  object \n",
            " 4   births  15547 non-null  int64  \n",
            "dtypes: float64(1), int64(3), object(1)\n",
            "memory usage: 607.4+ KB\n"
          ]
        }
      ]
    },
    {
      "cell_type": "code",
      "source": [
        "quar = np.percentile(df['births'], [25, 50, 75])\n",
        "mu, sig = quar[1], 0.74 * (quar[2] - quar[0])\n",
        "births = df.query('(births > @mu - 5 * @sig) & (births < @mu + 5 * @sig)')"
      ],
      "metadata": {
        "id": "EDYm0QDiCA6-"
      },
      "execution_count": 16,
      "outputs": []
    },
    {
      "cell_type": "code",
      "source": [
        "births['day'] = births['day'].astype(int)"
      ],
      "metadata": {
        "colab": {
          "base_uri": "https://localhost:8080/"
        },
        "id": "a_g2hP_GCA9g",
        "outputId": "3eddf3df-fcfe-46d9-adf3-806188c8bebf"
      },
      "execution_count": 17,
      "outputs": [
        {
          "output_type": "stream",
          "name": "stderr",
          "text": [
            "/usr/local/lib/python3.7/dist-packages/pyforest/__init__.py:1: SettingWithCopyWarning: \n",
            "A value is trying to be set on a copy of a slice from a DataFrame.\n",
            "Try using .loc[row_indexer,col_indexer] = value instead\n",
            "\n",
            "See the caveats in the documentation: https://pandas.pydata.org/pandas-docs/stable/user_guide/indexing.html#returning-a-view-versus-a-copy\n",
            "  # -*- coding: utf-8 -*-\n"
          ]
        }
      ]
    },
    {
      "cell_type": "code",
      "source": [
        "births.index = pd.to_datetime(10000 * births.year + 100 * births.month + births.day, format='%Y%m%d')\n",
        "births_by_date = births.pivot_table('births', [births.index.month, births.index.day])\n",
        "births_by_date.index = [pd.datetime(2012, month, day) for (month, day) in births_by_date.index]"
      ],
      "metadata": {
        "colab": {
          "base_uri": "https://localhost:8080/"
        },
        "id": "LWbFXdnzCA_6",
        "outputId": "bc4738c9-992d-4fd1-d617-27eddf468a68"
      },
      "execution_count": 18,
      "outputs": [
        {
          "output_type": "stream",
          "name": "stderr",
          "text": [
            "/usr/local/lib/python3.7/dist-packages/pyforest/__init__.py:3: FutureWarning: The pandas.datetime class is deprecated and will be removed from pandas in a future version. Import from datetime module instead.\n",
            "  from .utils import (\n"
          ]
        }
      ]
    },
    {
      "cell_type": "code",
      "source": [
        "fig, ax = plt.subplots(figsize=(16, 4))\n",
        "plt.title(\"USA births (1969 to 1988)\")\n",
        "plt.xlabel(\"Months\")\n",
        "births_by_date.plot(ax=ax);"
      ],
      "metadata": {
        "colab": {
          "base_uri": "https://localhost:8080/",
          "height": 302
        },
        "id": "B_YvQla1CBCY",
        "outputId": "c2dec9f0-db49-4e1e-d0e1-d30b54dea7e0"
      },
      "execution_count": 19,
      "outputs": [
        {
          "output_type": "display_data",
          "data": {
            "text/plain": [
              "<Figure size 1152x288 with 1 Axes>"
            ],
            "image/png": "[encoded data removed]"
          },
          "metadata": {
            "needs_background": "light"
          }
        }
      ]
    },
    {
      "cell_type": "markdown",
      "metadata": {
        "id": "a3EkEwbk4Lw-"
      },
      "source": [
        "<span style='background:yellow'>**Question 2 (40 pt).**</span> Write a python program to evaluate the text classification performance using accuracy, precision, recall, and f1 score. \n",
        "\n",
        "Accuracy = (TP + TN) / (TP+ TN+ FP+ FN)\n",
        "\n",
        "Recall = (TP) / (TP+FN)\n",
        "\n",
        "Precision = (TP) / (TP+FP)\n",
        "\n",
        "F1 Score = (2*Precision*Recall) / (Precision + Recall)\n",
        "\n",
        "Here is the confusion matrix of a text classfication task (six categories) on the testing data. \n",
        "\n",
        "![SciBERT_cm.png](attachment:SciBERT_cm.png)"
      ]
    },
    {
      "cell_type": "code",
      "execution_count": 11,
      "metadata": {
        "id": "jPly-zW_4LxB"
      },
      "outputs": [],
      "source": [
        "#### You code here\n",
        "import numpy as np\n",
        "import pandas as pd\n",
        "import matplotlib.pyplot as plt\n",
        "%matplotlib inline\n"
      ]
    },
    {
      "cell_type": "code",
      "source": [
        "cm= [[157,46,25,22,15,3],\n",
        "              [28,151,45,18,1,6],\n",
        "              [11,38,135,14,3,7],\n",
        "              [11,15,18,70,6,4],\n",
        "              [14,12,14,7,56,2],\n",
        "              [12,7,6,5,5,16]]"
      ],
      "metadata": {
        "id": "lk47biaw9cnt"
      },
      "execution_count": 85,
      "outputs": []
    },
    {
      "cell_type": "code",
      "source": [
        "con = np.array(cm)"
      ],
      "metadata": {
        "id": "dQRp9YnpXp1G"
      },
      "execution_count": 86,
      "outputs": []
    },
    {
      "cell_type": "code",
      "source": [
        "#I am using for loop for checking all the \n",
        "for i in range(len(con)):\n",
        "    \n",
        "    accuracy = 0\n",
        "    precision = 0\n",
        "    recall = 0\n",
        "    f1_score = 0\n",
        "    \n",
        "    TP = con[i,i]\n",
        "    FP = con[i,:].sum() - TP\n",
        "    FN = con[:,i].sum() - TP\n",
        "    TN = con.sum().sum() - (TP+FP+FN)\n",
        "    \n",
        "    accuracy = (TP+TN)/con.sum().sum()\n",
        "    precision = TP/(TP+FP)\n",
        "    recall = TP/(TP+FN)\n",
        "    f1_score = 2*precision*recall/(precision+recall)\n",
        "    \n",
        "    print(f'The accuracy of class{i} is {accuracy}')\n",
        "    print(f'The precision of class{i} is {precision}')\n",
        "    print(f'The recall of class{i} is {recall}')\n",
        "    print(f'The F1-Score of class{i} is {f1_score}')\n",
        "    print()"
      ],
      "metadata": {
        "colab": {
          "base_uri": "https://localhost:8080/"
        },
        "id": "ysSJi7jgXp3m",
        "outputId": "1f3354f7-9e6c-4283-ce9b-36d584be93ba"
      },
      "execution_count": 93,
      "outputs": [
        {
          "output_type": "stream",
          "name": "stdout",
          "text": [
            "The accuracy of class0 is 0.8139303482587065\n",
            "The precision of class0 is 0.585820895522388\n",
            "The recall of class0 is 0.6738197424892703\n",
            "The F1-Score of class0 is 0.626746506986028\n",
            "\n",
            "The accuracy of class1 is 0.7850746268656716\n",
            "The precision of class1 is 0.606425702811245\n",
            "The recall of class1 is 0.5613382899628253\n",
            "The F1-Score of class1 is 0.583011583011583\n",
            "\n",
            "The accuracy of class2 is 0.8199004975124378\n",
            "The precision of class2 is 0.6490384615384616\n",
            "The recall of class2 is 0.5555555555555556\n",
            "The F1-Score of class2 is 0.598669623059867\n",
            "\n",
            "The accuracy of class3 is 0.8805970149253731\n",
            "The precision of class3 is 0.5645161290322581\n",
            "The recall of class3 is 0.5147058823529411\n",
            "The F1-Score of class3 is 0.5384615384615384\n",
            "\n",
            "The accuracy of class4 is 0.9213930348258706\n",
            "The precision of class4 is 0.5333333333333333\n",
            "The recall of class4 is 0.6511627906976745\n",
            "The F1-Score of class4 is 0.5863874345549738\n",
            "\n",
            "The accuracy of class5 is 0.9432835820895522\n",
            "The precision of class5 is 0.3137254901960784\n",
            "The recall of class5 is 0.42105263157894735\n",
            "The F1-Score of class5 is 0.3595505617977528\n",
            "\n"
          ]
        }
      ]
    },
    {
      "cell_type": "markdown",
      "metadata": {
        "id": "3Cpkk6Kc4LxC"
      },
      "source": [
        "<span style='background:yellow'>**Question 3 (100 pt, each sub-question is 10 pt).**</span> \n",
        "\n",
        "Part A: Given Inetd dataset, an intrusion detection dataset that contains 2 columns. The first column represents a process ID number (PID) and the second column represents a system call. The goal is to extract the entire system call sequence by its PID, then tokenize and parse each sequence into 25-grams. After this, we’ll split the data into training and testing sets. Next, we ensure data quality in the training dataset by removing duplicate sequences within each class and overlapped sequences between both classes. To ensure a fair evaluation, we also clean the testing set by repeating the previous step. You will implement a Decision Tree model to train and test on the training set and testing set that we just clean. \n",
        "\n",
        "\n",
        "Part B: As the data type is sequential, we want to know how similar the sequences from both classes are and visualize how the similarity scores vary in different sequence lengths. Compute a cosine similarity score of 100 random pairs from both classes and get a median cosine similarity. Repeat this step in different sequence lengths (5, 10, 15, and 20). Plot a line chart to visualize how the median cosine similarities vary through sequence lengths of 5 to 25. \n",
        "\n",
        "You can download the datasets from github: https://github.com/unt-iialab/info5502-spring2022/tree/main/finalexam/q4\n",
        "\n",
        "\n",
        "Step by step instructions and questions:\n",
        "\n",
        "(1) Attached are the Normal and Intrusion data folders. Read in the data and store them in two separate dataframes. Combine the system calls (the second column) from the same PID (the first column) into a sequence or a string. \n",
        "\n",
        "(2) Parse an entire sequence into smaller sequences of size 25. (Hint: Use word_tokenize and ngrams from nltk library to parse).\n",
        "\n",
        "(3) Add labels to the data, and partition the labeled data into training data and testing data with a ratio of 70/30.\n",
        "\n",
        "(4) As the dataset has a lot of duplicate sequences, make sure that the testing data only contain unique sequences and that these sequences do not exist in the training data. Condense training data and testing data into two sets. Take the difference between the testing set and training set to remove the overlapped sequences from the testing data. \n",
        "\n",
        "(5) The sequences from each class can be repetitive, and some of these sequences may have different labels. Therefore, we need to remove the duplicate sequences within each class and the overlapped sequences from the Intrusion class. Start out by separating the Normal class and Intrusion class in the training data. Use the same concept in Question 4 to remove duplicate sequences and overlapped sequences from the training data.\n",
        "\n",
        "(6) Repeat Question 5 to clean the testing data.\n",
        "\n",
        "(7) Bootstrap the training data to get the same number of sequences from each class. Train and evaluate a Decision Tree model using the training data and testing data that we just clean. How is the performance?\n",
        "\n",
        "(8) Randomly sample 100 pairs of sequences from both classes and calculate the median cosine similarity.\n",
        "\n",
        "(9) Refer back to Question 2, parse the data into a length of 5, 10, 15, and 20. Clean the data from each class using Question 5. For each sequence length, calculate the median cosine similarity of 100 random pairs of sequences from both classes. \n",
        "\n",
        "(10) Plot a line chart to visualize how the median cosine similarities vary through different sequence lengths from 5 to 25.\n"
      ]
    },
    {
      "cell_type": "code",
      "execution_count": 62,
      "metadata": {
        "colab": {
          "base_uri": "https://localhost:8080/"
        },
        "id": "L1HWdoxT4LxG",
        "outputId": "fa447292-a79e-4936-b06a-d5c04039b28a"
      },
      "outputs": [
        {
          "output_type": "stream",
          "name": "stdout",
          "text": [
            "     0    1\n",
            "0  167   90\n",
            "1  167  125\n",
            "2  167  125\n",
            "3  167  106\n",
            "4  167    5\n",
            "     0    1\n",
            "0  167   90\n",
            "1  167  125\n",
            "2  167  125\n",
            "3  167  106\n",
            "4  167    5\n"
          ]
        }
      ],
      "source": [
        "#### You code here\n",
        "normalSet=pd.read_csv('https://raw.githubusercontent.com/unt-iialab/info5502-spring2022/main/finalexam/q4/inetd-normal.int',sep=' ',header=None)\n",
        "print(normalSet.head(5).to_string())\n",
        "intrusionSet=pd.read_csv('https://raw.githubusercontent.com/unt-iialab/info5502-spring2022/main/finalexam/q4/inetd-intrusion.int',sep=' ',header=None)\n",
        "print(intrusionSet.head(5).to_string())\n",
        "\n",
        "\n"
      ]
    },
    {
      "cell_type": "code",
      "source": [
        "#Checking For Null Values in both the datasets\n",
        "print(normalSet.any().isna())\n",
        "print('Note there are no null values in the Normal Dataset\\n')\n",
        "print(intrusionSet.any().isna())\n",
        "print('Note there are no null values in the Intrusion Dataset')"
      ],
      "metadata": {
        "colab": {
          "base_uri": "https://localhost:8080/"
        },
        "id": "Sf1FNg_eMh3Z",
        "outputId": "256bf230-d018-4452-e297-38bcd661921e"
      },
      "execution_count": 63,
      "outputs": [
        {
          "output_type": "stream",
          "name": "stdout",
          "text": [
            "0    False\n",
            "1    False\n",
            "dtype: bool\n",
            "Note there are no null values in the Normal Dataset\n",
            "\n",
            "0    False\n",
            "1    False\n",
            "dtype: bool\n",
            "Note there are no null values in the Intrusion Dataset\n"
          ]
        }
      ]
    },
    {
      "cell_type": "code",
      "source": [
        "#Checking For Duplicate values in both the datasets\n",
        "print(normalSet[normalSet.duplicated()])\n",
        "print('Note there are Duplicates in the Normal Dataset\\n')\n",
        "print(intrusionSet[intrusionSet.duplicated()])\n",
        "print('Note there are Duplicates in the Intrusion Dataset\\n')"
      ],
      "metadata": {
        "colab": {
          "base_uri": "https://localhost:8080/"
        },
        "id": "yd_ZGkwuMh6K",
        "outputId": "b039a2fc-278b-4a01-c475-678f5dc74625"
      },
      "execution_count": 64,
      "outputs": [
        {
          "output_type": "stream",
          "name": "stdout",
          "text": [
            "        0    1\n",
            "2     167  125\n",
            "5     167   90\n",
            "7     167    5\n",
            "9     167   90\n",
            "10    167   90\n",
            "..    ...  ...\n",
            "535  2669    6\n",
            "536  2669    6\n",
            "537  2669    6\n",
            "538  2669    6\n",
            "539  2669    6\n",
            "\n",
            "[489 rows x 2 columns]\n",
            "Note there are Duplicates in the Normal Dataset\n",
            "\n",
            "         0    1\n",
            "2      167  125\n",
            "5      167   90\n",
            "7      167    5\n",
            "9      167   90\n",
            "10     167   90\n",
            "...    ...  ...\n",
            "8365  4470    6\n",
            "8366  4470    6\n",
            "8367  4470    6\n",
            "8368  4470    6\n",
            "8369  4470    6\n",
            "\n",
            "[8018 rows x 2 columns]\n",
            "Note there are Duplicates in the Intrusion Dataset\n",
            "\n"
          ]
        }
      ]
    },
    {
      "cell_type": "code",
      "source": [
        "print('Size of Normal Dataset',normalSet.shape)\n",
        "print('Size of Intrusion Dataset',intrusionSet.shape)"
      ],
      "metadata": {
        "colab": {
          "base_uri": "https://localhost:8080/"
        },
        "id": "7f4ibLOtMh_Z",
        "outputId": "c47d8af1-9fc8-4fdc-8e77-bb22e0541101"
      },
      "execution_count": 65,
      "outputs": [
        {
          "output_type": "stream",
          "name": "stdout",
          "text": [
            "Size of Normal Dataset (541, 2)\n",
            "Size of Intrusion Dataset (8371, 2)\n"
          ]
        }
      ]
    },
    {
      "cell_type": "code",
      "source": [
        "normalSet.drop_duplicates(inplace=True)\n",
        "intrusionSet.drop_duplicates(inplace=True)"
      ],
      "metadata": {
        "id": "SB6rRHSVMiCS"
      },
      "execution_count": 66,
      "outputs": []
    },
    {
      "cell_type": "code",
      "source": [
        "#Checking For Duplicate values in both the datasets\n",
        "print(normalSet[normalSet.duplicated()])\n",
        "print('Note there are no Duplicates in the Normal Dataset\\n')\n",
        "print(intrusionSet[intrusionSet.duplicated()])\n",
        "print('Note there are no Duplicates in the Intrusion Dataset\\n')"
      ],
      "metadata": {
        "colab": {
          "base_uri": "https://localhost:8080/"
        },
        "id": "J8kXOktFMiFC",
        "outputId": "01d2db81-42c3-48a1-c497-c4080570139b"
      },
      "execution_count": 67,
      "outputs": [
        {
          "output_type": "stream",
          "name": "stdout",
          "text": [
            "Empty DataFrame\n",
            "Columns: [0, 1]\n",
            "Index: []\n",
            "Note there are no Duplicates in the Normal Dataset\n",
            "\n",
            "Empty DataFrame\n",
            "Columns: [0, 1]\n",
            "Index: []\n",
            "Note there are no Duplicates in the Intrusion Dataset\n",
            "\n"
          ]
        }
      ]
    },
    {
      "cell_type": "code",
      "source": [
        "print('Size of Normal Dataset',normalSet.shape)\n",
        "print('Size of Intrusion Dataset',intrusionSet.shape)"
      ],
      "metadata": {
        "colab": {
          "base_uri": "https://localhost:8080/"
        },
        "id": "148m-FLbMiHt",
        "outputId": "5309e49b-1ab9-4b84-b207-013a201172f6"
      },
      "execution_count": 68,
      "outputs": [
        {
          "output_type": "stream",
          "name": "stdout",
          "text": [
            "Size of Normal Dataset (52, 2)\n",
            "Size of Intrusion Dataset (353, 2)\n"
          ]
        }
      ]
    },
    {
      "cell_type": "code",
      "source": [
        "normalSet.rename(columns = {0:'PID', 1:'System Call'}, inplace = True)\n",
        "intrusionSet.rename(columns = {0:'PID', 1:'System Call'}, inplace = True)"
      ],
      "metadata": {
        "id": "Eck-F26SMiKX"
      },
      "execution_count": 69,
      "outputs": []
    },
    {
      "cell_type": "code",
      "source": [
        "combinedDataset = normalSet.append(intrusionSet, ignore_index=True)\n",
        "combinedDataset['System Call'] = combinedDataset['System Call'].astype(str)\n",
        "combinedDataset['System Call'] = combinedDataset.groupby('PID')['System Call'].transform(lambda x: ','.join(x))\n",
        "combinedDataset.drop_duplicates(inplace=True)\n",
        "print(combinedDataset.head(5))"
      ],
      "metadata": {
        "colab": {
          "base_uri": "https://localhost:8080/"
        },
        "id": "Pi_Mbe6xMiNM",
        "outputId": "6d631bcb-6498-4d45-ad65-78abd4fcb4e0"
      },
      "execution_count": 70,
      "outputs": [
        {
          "output_type": "stream",
          "name": "stdout",
          "text": [
            "      PID                                        System Call\n",
            "0     167  90,125,106,5,6,3,91,136,49,24,47,50,45,2,1,90,...\n",
            "15    168  66,12,5,63,6,20,108,90,4,91,76,3,126,45,19,102...\n",
            "41   2669                    126,5,45,108,90,3,19,6,91,63,11\n",
            "93   4121                    126,5,45,108,90,3,19,6,91,63,11\n",
            "104  4152                    126,5,45,108,90,3,19,6,91,63,11\n"
          ]
        }
      ]
    },
    {
      "cell_type": "code",
      "source": [
        "Features=normalSet[['PID']]\n",
        "Targets=normalSet['System Call']"
      ],
      "metadata": {
        "id": "UBKjfcdNMiQD"
      },
      "execution_count": 71,
      "outputs": []
    },
    {
      "cell_type": "code",
      "source": [
        "TrainFeatures,TestFeatures,TrainTargets,TestTargets=train_test_split(Features,Targets,test_size = 0.30, random_state = 25)"
      ],
      "metadata": {
        "colab": {
          "base_uri": "https://localhost:8080/",
          "height": 17
        },
        "id": "ZEOoFDXJMiS6",
        "outputId": "8df78597-db1f-45d0-b266-194ec9d9949a"
      },
      "execution_count": 73,
      "outputs": [
        {
          "output_type": "display_data",
          "data": {
            "text/plain": [
              "<IPython.core.display.Javascript object>"
            ],
            "application/javascript": [
              "\n",
              "        if (window._pyforest_update_imports_cell) { window._pyforest_update_imports_cell('import pickle\\nimport imutils\\nimport plotly as py\\nimport fbprophet\\nimport plotly.express as px\\nfrom statsmodels.tsa.arima_model import ARIMA\\nimport pydot\\nimport fastai\\nfrom sklearn.model_selection import train_test_split'); }\n",
              "    "
            ]
          },
          "metadata": {}
        }
      ]
    },
    {
      "cell_type": "code",
      "source": [
        "from sklearn.tree import DecisionTreeRegressor"
      ],
      "metadata": {
        "id": "vshutKscVeN5"
      },
      "execution_count": 74,
      "outputs": []
    },
    {
      "cell_type": "code",
      "source": [
        "DT=DecisionTreeRegressor(max_depth=10)\n",
        "DT.fit(TrainFeatures,TrainTargets)\n",
        "#Predicting on the Test Set and calcualting root mean squared error\n",
        "decisionPredictedValues=DT.predict(TestFeatures)\n",
        "decisionPredictedValues"
      ],
      "metadata": {
        "colab": {
          "base_uri": "https://localhost:8080/"
        },
        "id": "VL9ECSzGMiVh",
        "outputId": "8b9324cc-64fe-4d94-a377-fdec31c6dc78"
      },
      "execution_count": 75,
      "outputs": [
        {
          "output_type": "execute_result",
          "data": {
            "text/plain": [
              "array([52.65, 54.  , 39.6 , 54.  , 52.65, 39.6 , 52.65, 52.65, 54.  ,\n",
              "       54.  , 54.  , 52.65, 39.6 , 52.65, 39.6 , 39.6 ])"
            ]
          },
          "metadata": {},
          "execution_count": 75
        }
      ]
    },
    {
      "cell_type": "code",
      "source": [
        "import math"
      ],
      "metadata": {
        "id": "ceBJKdHVVsoT"
      },
      "execution_count": 77,
      "outputs": []
    },
    {
      "cell_type": "code",
      "source": [
        "RMSE=math.sqrt(np.square(np.subtract(decisionPredictedValues,TestTargets)).mean())\n",
        "print(\"RMSE Error\",RMSE)\n",
        "print(\"Model Score\",DT.score(TrainFeatures,TrainTargets))"
      ],
      "metadata": {
        "colab": {
          "base_uri": "https://localhost:8080/"
        },
        "id": "u2xR4WrTMiYi",
        "outputId": "ee022ba8-f1c4-4a3a-9927-db0a190e8d32"
      },
      "execution_count": 79,
      "outputs": [
        {
          "output_type": "stream",
          "name": "stdout",
          "text": [
            "RMSE Error 52.62813826747057\n",
            "Model Score 0.023867695943429523\n"
          ]
        }
      ]
    },
    {
      "cell_type": "code",
      "source": [
        "DT.fit(normalSet[['PID',]],normalSet['System Call'])\n",
        "Predict=DT.predict(intrusionSet[['PID']])"
      ],
      "metadata": {
        "id": "J4FHdev2MibN"
      },
      "execution_count": 82,
      "outputs": []
    },
    {
      "cell_type": "code",
      "source": [
        "Predict"
      ],
      "metadata": {
        "colab": {
          "base_uri": "https://localhost:8080/"
        },
        "id": "dVCbv9WNV1vo",
        "outputId": "7fb7302e-3cb8-4f2c-b508-5db2daa52d1a"
      },
      "execution_count": 83,
      "outputs": [
        {
          "output_type": "execute_result",
          "data": {
            "text/plain": [
              "array([52.        , 52.        , 52.        , 52.        , 52.        ,\n",
              "       52.        , 52.        , 52.        , 52.        , 52.        ,\n",
              "       52.        , 52.        , 52.        , 52.        , 52.        ,\n",
              "       56.34615385, 56.34615385, 56.34615385, 56.34615385, 56.34615385,\n",
              "       56.34615385, 56.34615385, 56.34615385, 56.34615385, 56.34615385,\n",
              "       56.34615385, 56.34615385, 56.34615385, 56.34615385, 56.34615385,\n",
              "       56.34615385, 56.34615385, 56.34615385, 56.34615385, 56.34615385,\n",
              "       56.34615385, 56.34615385, 56.34615385, 56.34615385, 56.34615385,\n",
              "       56.34615385, 51.54545455, 51.54545455, 51.54545455, 51.54545455,\n",
              "       51.54545455, 51.54545455, 51.54545455, 51.54545455, 51.54545455,\n",
              "       51.54545455, 51.54545455, 51.54545455, 51.54545455, 51.54545455,\n",
              "       51.54545455, 51.54545455, 51.54545455, 51.54545455, 51.54545455,\n",
              "       51.54545455, 51.54545455, 51.54545455, 51.54545455, 51.54545455,\n",
              "       51.54545455, 51.54545455, 51.54545455, 51.54545455, 51.54545455,\n",
              "       51.54545455, 51.54545455, 51.54545455, 51.54545455, 51.54545455,\n",
              "       51.54545455, 51.54545455, 51.54545455, 51.54545455, 51.54545455,\n",
              "       51.54545455, 51.54545455, 51.54545455, 51.54545455, 51.54545455,\n",
              "       51.54545455, 51.54545455, 51.54545455, 51.54545455, 51.54545455,\n",
              "       51.54545455, 51.54545455, 51.54545455, 51.54545455, 51.54545455,\n",
              "       51.54545455, 51.54545455, 51.54545455, 51.54545455, 51.54545455,\n",
              "       51.54545455, 51.54545455, 51.54545455, 51.54545455, 51.54545455,\n",
              "       51.54545455, 51.54545455, 51.54545455, 51.54545455, 51.54545455,\n",
              "       51.54545455, 51.54545455, 51.54545455, 51.54545455, 51.54545455,\n",
              "       51.54545455, 51.54545455, 51.54545455, 51.54545455, 51.54545455,\n",
              "       51.54545455, 51.54545455, 51.54545455, 51.54545455, 51.54545455,\n",
              "       51.54545455, 51.54545455, 51.54545455, 51.54545455, 51.54545455,\n",
              "       51.54545455, 51.54545455, 51.54545455, 51.54545455, 51.54545455,\n",
              "       51.54545455, 51.54545455, 51.54545455, 51.54545455, 51.54545455,\n",
              "       51.54545455, 51.54545455, 51.54545455, 51.54545455, 51.54545455,\n",
              "       51.54545455, 51.54545455, 51.54545455, 51.54545455, 51.54545455,\n",
              "       51.54545455, 51.54545455, 51.54545455, 51.54545455, 51.54545455,\n",
              "       51.54545455, 51.54545455, 51.54545455, 51.54545455, 51.54545455,\n",
              "       51.54545455, 51.54545455, 51.54545455, 51.54545455, 51.54545455,\n",
              "       51.54545455, 51.54545455, 51.54545455, 51.54545455, 51.54545455,\n",
              "       51.54545455, 51.54545455, 51.54545455, 51.54545455, 51.54545455,\n",
              "       51.54545455, 51.54545455, 51.54545455, 51.54545455, 51.54545455,\n",
              "       51.54545455, 51.54545455, 51.54545455, 51.54545455, 51.54545455,\n",
              "       51.54545455, 51.54545455, 51.54545455, 51.54545455, 51.54545455,\n",
              "       51.54545455, 51.54545455, 51.54545455, 51.54545455, 51.54545455,\n",
              "       51.54545455, 51.54545455, 51.54545455, 51.54545455, 51.54545455,\n",
              "       51.54545455, 51.54545455, 51.54545455, 51.54545455, 51.54545455,\n",
              "       51.54545455, 51.54545455, 51.54545455, 51.54545455, 51.54545455,\n",
              "       51.54545455, 51.54545455, 51.54545455, 51.54545455, 51.54545455,\n",
              "       51.54545455, 51.54545455, 51.54545455, 51.54545455, 51.54545455,\n",
              "       51.54545455, 51.54545455, 51.54545455, 51.54545455, 51.54545455,\n",
              "       51.54545455, 51.54545455, 51.54545455, 51.54545455, 51.54545455,\n",
              "       51.54545455, 51.54545455, 51.54545455, 51.54545455, 51.54545455,\n",
              "       51.54545455, 51.54545455, 51.54545455, 51.54545455, 51.54545455,\n",
              "       51.54545455, 51.54545455, 51.54545455, 51.54545455, 51.54545455,\n",
              "       51.54545455, 51.54545455, 51.54545455, 51.54545455, 51.54545455,\n",
              "       51.54545455, 51.54545455, 51.54545455, 51.54545455, 51.54545455,\n",
              "       51.54545455, 51.54545455, 51.54545455, 51.54545455, 51.54545455,\n",
              "       51.54545455, 51.54545455, 51.54545455, 51.54545455, 51.54545455,\n",
              "       51.54545455, 51.54545455, 51.54545455, 51.54545455, 51.54545455,\n",
              "       51.54545455, 51.54545455, 51.54545455, 51.54545455, 51.54545455,\n",
              "       51.54545455, 51.54545455, 51.54545455, 51.54545455, 51.54545455,\n",
              "       51.54545455, 51.54545455, 51.54545455, 51.54545455, 51.54545455,\n",
              "       51.54545455, 51.54545455, 51.54545455, 51.54545455, 51.54545455,\n",
              "       51.54545455, 51.54545455, 51.54545455, 51.54545455, 51.54545455,\n",
              "       51.54545455, 51.54545455, 51.54545455, 51.54545455, 51.54545455,\n",
              "       51.54545455, 51.54545455, 51.54545455, 51.54545455, 51.54545455,\n",
              "       51.54545455, 51.54545455, 51.54545455, 51.54545455, 51.54545455,\n",
              "       51.54545455, 51.54545455, 51.54545455, 51.54545455, 51.54545455,\n",
              "       51.54545455, 51.54545455, 51.54545455, 51.54545455, 51.54545455,\n",
              "       51.54545455, 51.54545455, 51.54545455, 51.54545455, 51.54545455,\n",
              "       51.54545455, 51.54545455, 51.54545455, 51.54545455, 51.54545455,\n",
              "       51.54545455, 51.54545455, 51.54545455, 51.54545455, 51.54545455,\n",
              "       51.54545455, 51.54545455, 51.54545455, 51.54545455, 51.54545455,\n",
              "       51.54545455, 51.54545455, 51.54545455, 51.54545455, 51.54545455,\n",
              "       51.54545455, 51.54545455, 51.54545455, 51.54545455, 51.54545455,\n",
              "       51.54545455, 51.54545455, 51.54545455])"
            ]
          },
          "metadata": {},
          "execution_count": 83
        }
      ]
    },
    {
      "cell_type": "code",
      "source": [
        "from sklearn import tree"
      ],
      "metadata": {
        "id": "pKsATDrOV1yQ"
      },
      "execution_count": 94,
      "outputs": []
    },
    {
      "cell_type": "code",
      "source": [
        "plt.figure(figsize=(20,25))\n",
        "tree.plot_tree(DT,filled=True)"
      ],
      "metadata": {
        "colab": {
          "base_uri": "https://localhost:8080/",
          "height": 1000
        },
        "id": "4qe3q1BkV104",
        "outputId": "b2aff121-1037-46d3-8e97-fba95e34ecbf"
      },
      "execution_count": 95,
      "outputs": [
        {
          "output_type": "execute_result",
          "data": {
            "text/plain": [
              "[Text(0.4, 0.8333333333333334, 'X[0] <= 167.5\\nsquared_error = 1825.648\\nsamples = 52\\nvalue = 54.077'),\n",
              " Text(0.2, 0.5, 'squared_error = 2064.267\\nsamples = 15\\nvalue = 52.0'),\n",
              " Text(0.6, 0.5, 'X[0] <= 1418.5\\nsquared_error = 1726.453\\nsamples = 37\\nvalue = 54.919'),\n",
              " Text(0.4, 0.16666666666666666, 'squared_error = 1633.072\\nsamples = 26\\nvalue = 56.346'),\n",
              " Text(0.8, 0.16666666666666666, 'squared_error = 1930.975\\nsamples = 11\\nvalue = 51.545')]"
            ]
          },
          "metadata": {},
          "execution_count": 95
        },
        {
          "output_type": "display_data",
          "data": {
            "text/plain": [
              "<Figure size 1440x1800 with 1 Axes>"
            ],
            "image/png": "[encoded data removed]"
          },
          "metadata": {
            "needs_background": "light"
          }
        }
      ]
    },
    {
      "cell_type": "markdown",
      "metadata": {
        "id": "F2mzxdZs4LxH"
      },
      "source": [
        "<span style='background:yellow'>**Question 4 (60 pt, each sub-question is 20 pt).**</span> In the world of business, the importance of the customers’ reviews for any product is not ignorable. The impact of customers’ reviews on customer’s decision making is significant. Therefore, businesses try to increase this impact by increasing the ratio of the positive reviews to negative reviews. One effective way to increase the ratio is offering the incentives such as small gifts or free next services to customers to post the reviews for item they purchase or used. However, it is not always the case, and customer may post their reviews without receiving or accepting the incentives. So, the reviews could be in either incentivized or non-incentivized category.\n",
        "\n",
        "\n",
        "Considering the importance of reviews, in this question you need to compare these two categories of reviews. One method to compare the effectiveness of two categories is conducting the A/B testing.\n",
        "\n",
        "\n",
        "The Software_Reviews dataset is collected from software review products, and it is combination of several small datasets. Find the dataset as an attachment on the left side of the page.\n",
        "\n",
        "\n",
        "You can downlaod the dataset from github: https://github.com/unt-iialab/info5502-spring2022/blob/main/finalexam/Software_Reviews_csv_files_S.csv\n",
        "\n",
        "(1) Clean the dataset before you use (You need to know this dataset is combinations of the several CSV files with title rows. So, there are extra title rows in the middle of the file, which they need to be removed.)\n",
        "\n",
        "\n",
        "(2) Apply an A/B test\": consider the “incentivized” column as main column for A & B groups.\n",
        "\n",
        "a. The “incentivized” column includes ‘NominalGift’, ‘VendorReferredIncentivized’, ‘NoIncentive’, ‘NonNominalGift’, ‘VendorReferred’, ‘None’\n",
        "\n",
        "b. Group A (Incentive): ‘NominalGift’, and ‘VendorReferredIncentivized’\n",
        "\n",
        "c. Group B (NoIncentive): ‘NoIncentive’, ‘NonNominalGift’, ‘VendorReferred’\n",
        "\n",
        "d. Make the decision if ‘None’ includes in either Group A or B or remove that.\n",
        "\n",
        "e. The “OverAllRating” is another column that is used to compare groups A and B.\n",
        "\n",
        "Which one A or B group has higher “OverAllRating”?\n",
        "\n",
        "\n",
        "(3) Draw the A/B testing related visualizations."
      ]
    },
    {
      "cell_type": "code",
      "execution_count": 20,
      "metadata": {
        "id": "yK8gTsdf4LxI"
      },
      "outputs": [],
      "source": [
        "#### You code and your answer here here\n",
        "df3 = pd.read_csv('https://raw.githubusercontent.com/unt-iialab/info5502-spring2022/main/finalexam/Software_Reviews_csv_files_S.csv')\n",
        "\n",
        "\n"
      ]
    },
    {
      "cell_type": "code",
      "source": [
        "df3.head(5)"
      ],
      "metadata": {
        "colab": {
          "base_uri": "https://localhost:8080/",
          "height": 647
        },
        "id": "DmNQ7joDEss2",
        "outputId": "b7933ffc-1968-4044-a94f-e0ba45de4209"
      },
      "execution_count": 21,
      "outputs": [
        {
          "output_type": "execute_result",
          "data": {
            "text/plain": [
              "   Unnamed: 0 Unnamed: 0.1       id     status         global_review_id  \\\n",
              "0         0.0            0    13879  Published           GetApp___14383   \n",
              "1         1.0            1  1283833  Published  SoftwareAdvice___434035   \n",
              "2         2.0            2   841881  Published        Capterra___330384   \n",
              "3         3.0            3  1060237  Published  SoftwareAdvice___390950   \n",
              "4         4.0            4    13939  Published           GetApp___14453   \n",
              "\n",
              "  hash_global_review_id listing_id  \\\n",
              "0            f7535d1342      90666   \n",
              "1            8b72a5b935      90666   \n",
              "2            0d580775b7      90666   \n",
              "3            a36d0ef509      90666   \n",
              "4            efc7312240      90666   \n",
              "\n",
              "                                               title is_rating     score  ...  \\\n",
              "0                  The best CRM solution we've found     FALSE  4.462893  ...   \n",
              "1       Reasonable CRM software for small businesses     FALSE  4.462893  ...   \n",
              "2  Security certificate warning, basic lists inac...     FALSE  4.462893  ...   \n",
              "3  1CRM is a great started CRM for a Service Company     FALSE  4.462893  ...   \n",
              "4  Excellent business management app for the SMB ...     FALSE  4.462893  ...   \n",
              "\n",
              "  is_verified   full_name                     company_industry  \\\n",
              "0        TRUE   Marcus B.  Information Technology and Services   \n",
              "1       FALSE  Rushang D.            Marketing and Advertising   \n",
              "2       FALSE   Julian G.                    Computer Hardware   \n",
              "3       FALSE    James C.                Management Consulting   \n",
              "4        TRUE  Jacques G.                   Telecommunications   \n",
              "\n",
              "  frequency_of_use    time_used          source incentivized  \\\n",
              "0              NaN    1-2 years          GetApp          NaN   \n",
              "1            daily     2+ years  SoftwareAdvice  NominalGift   \n",
              "2            daily  6-12 months        Capterra  NominalGift   \n",
              "3            daily    1-2 years  SoftwareAdvice  NominalGift   \n",
              "4              NaN    1-2 years          GetApp          NaN   \n",
              "\n",
              "  ReviewDescription_score   Pros_score   Unnamed: 27  \n",
              "0             0.993886769  0.994333982  1.850533e+04  \n",
              "1             0.998566568   0.99880743  1.711777e+06  \n",
              "2             0.999743998  0.996420145  1.122507e+06  \n",
              "3             0.938319802  0.986604214  1.413648e+06  \n",
              "4             0.985312879  0.996334434  1.858400e+04  \n",
              "\n",
              "[5 rows x 28 columns]"
            ],
            "text/html": [
              "\n",
              "  <div id=\"df-728d7471-b0d7-43fe-bc3c-56facf902c48\">\n",
              "    <div class=\"colab-df-container\">\n",
              "      <div>\n",
              "<style scoped>\n",
              "    .dataframe tbody tr th:only-of-type {\n",
              "        vertical-align: middle;\n",
              "    }\n",
              "\n",
              "    .dataframe tbody tr th {\n",
              "        vertical-align: top;\n",
              "    }\n",
              "\n",
              "    .dataframe thead th {\n",
              "        text-align: right;\n",
              "    }\n",
              "</style>\n",
              "<table border=\"1\" class=\"dataframe\">\n",
              "  <thead>\n",
              "    <tr style=\"text-align: right;\">\n",
              "      <th></th>\n",
              "      <th>Unnamed: 0</th>\n",
              "      <th>Unnamed: 0.1</th>\n",
              "      <th>id</th>\n",
              "      <th>status</th>\n",
              "      <th>global_review_id</th>\n",
              "      <th>hash_global_review_id</th>\n",
              "      <th>listing_id</th>\n",
              "      <th>title</th>\n",
              "      <th>is_rating</th>\n",
              "      <th>score</th>\n",
              "      <th>...</th>\n",
              "      <th>is_verified</th>\n",
              "      <th>full_name</th>\n",
              "      <th>company_industry</th>\n",
              "      <th>frequency_of_use</th>\n",
              "      <th>time_used</th>\n",
              "      <th>source</th>\n",
              "      <th>incentivized</th>\n",
              "      <th>ReviewDescription_score</th>\n",
              "      <th>Pros_score</th>\n",
              "      <th>Unnamed: 27</th>\n",
              "    </tr>\n",
              "  </thead>\n",
              "  <tbody>\n",
              "    <tr>\n",
              "      <th>0</th>\n",
              "      <td>0.0</td>\n",
              "      <td>0</td>\n",
              "      <td>13879</td>\n",
              "      <td>Published</td>\n",
              "      <td>GetApp___14383</td>\n",
              "      <td>f7535d1342</td>\n",
              "      <td>90666</td>\n",
              "      <td>The best CRM solution we've found</td>\n",
              "      <td>FALSE</td>\n",
              "      <td>4.462893</td>\n",
              "      <td>...</td>\n",
              "      <td>TRUE</td>\n",
              "      <td>Marcus B.</td>\n",
              "      <td>Information Technology and Services</td>\n",
              "      <td>NaN</td>\n",
              "      <td>1-2 years</td>\n",
              "      <td>GetApp</td>\n",
              "      <td>NaN</td>\n",
              "      <td>0.993886769</td>\n",
              "      <td>0.994333982</td>\n",
              "      <td>1.850533e+04</td>\n",
              "    </tr>\n",
              "    <tr>\n",
              "      <th>1</th>\n",
              "      <td>1.0</td>\n",
              "      <td>1</td>\n",
              "      <td>1283833</td>\n",
              "      <td>Published</td>\n",
              "      <td>SoftwareAdvice___434035</td>\n",
              "      <td>8b72a5b935</td>\n",
              "      <td>90666</td>\n",
              "      <td>Reasonable CRM software for small businesses</td>\n",
              "      <td>FALSE</td>\n",
              "      <td>4.462893</td>\n",
              "      <td>...</td>\n",
              "      <td>FALSE</td>\n",
              "      <td>Rushang D.</td>\n",
              "      <td>Marketing and Advertising</td>\n",
              "      <td>daily</td>\n",
              "      <td>2+ years</td>\n",
              "      <td>SoftwareAdvice</td>\n",
              "      <td>NominalGift</td>\n",
              "      <td>0.998566568</td>\n",
              "      <td>0.99880743</td>\n",
              "      <td>1.711777e+06</td>\n",
              "    </tr>\n",
              "    <tr>\n",
              "      <th>2</th>\n",
              "      <td>2.0</td>\n",
              "      <td>2</td>\n",
              "      <td>841881</td>\n",
              "      <td>Published</td>\n",
              "      <td>Capterra___330384</td>\n",
              "      <td>0d580775b7</td>\n",
              "      <td>90666</td>\n",
              "      <td>Security certificate warning, basic lists inac...</td>\n",
              "      <td>FALSE</td>\n",
              "      <td>4.462893</td>\n",
              "      <td>...</td>\n",
              "      <td>FALSE</td>\n",
              "      <td>Julian G.</td>\n",
              "      <td>Computer Hardware</td>\n",
              "      <td>daily</td>\n",
              "      <td>6-12 months</td>\n",
              "      <td>Capterra</td>\n",
              "      <td>NominalGift</td>\n",
              "      <td>0.999743998</td>\n",
              "      <td>0.996420145</td>\n",
              "      <td>1.122507e+06</td>\n",
              "    </tr>\n",
              "    <tr>\n",
              "      <th>3</th>\n",
              "      <td>3.0</td>\n",
              "      <td>3</td>\n",
              "      <td>1060237</td>\n",
              "      <td>Published</td>\n",
              "      <td>SoftwareAdvice___390950</td>\n",
              "      <td>a36d0ef509</td>\n",
              "      <td>90666</td>\n",
              "      <td>1CRM is a great started CRM for a Service Company</td>\n",
              "      <td>FALSE</td>\n",
              "      <td>4.462893</td>\n",
              "      <td>...</td>\n",
              "      <td>FALSE</td>\n",
              "      <td>James C.</td>\n",
              "      <td>Management Consulting</td>\n",
              "      <td>daily</td>\n",
              "      <td>1-2 years</td>\n",
              "      <td>SoftwareAdvice</td>\n",
              "      <td>NominalGift</td>\n",
              "      <td>0.938319802</td>\n",
              "      <td>0.986604214</td>\n",
              "      <td>1.413648e+06</td>\n",
              "    </tr>\n",
              "    <tr>\n",
              "      <th>4</th>\n",
              "      <td>4.0</td>\n",
              "      <td>4</td>\n",
              "      <td>13939</td>\n",
              "      <td>Published</td>\n",
              "      <td>GetApp___14453</td>\n",
              "      <td>efc7312240</td>\n",
              "      <td>90666</td>\n",
              "      <td>Excellent business management app for the SMB ...</td>\n",
              "      <td>FALSE</td>\n",
              "      <td>4.462893</td>\n",
              "      <td>...</td>\n",
              "      <td>TRUE</td>\n",
              "      <td>Jacques G.</td>\n",
              "      <td>Telecommunications</td>\n",
              "      <td>NaN</td>\n",
              "      <td>1-2 years</td>\n",
              "      <td>GetApp</td>\n",
              "      <td>NaN</td>\n",
              "      <td>0.985312879</td>\n",
              "      <td>0.996334434</td>\n",
              "      <td>1.858400e+04</td>\n",
              "    </tr>\n",
              "  </tbody>\n",
              "</table>\n",
              "<p>5 rows × 28 columns</p>\n",
              "</div>\n",
              "      <button class=\"colab-df-convert\" onclick=\"convertToInteractive('df-728d7471-b0d7-43fe-bc3c-56facf902c48')\"\n",
              "              title=\"Convert this dataframe to an interactive table.\"\n",
              "              style=\"display:none;\">\n",
              "        \n",
              "  <svg xmlns=\"http://www.w3.org/2000/svg\" height=\"24px\"viewBox=\"0 0 24 24\"\n",
              "       width=\"24px\">\n",
              "    <path d=\"M0 0h24v24H0V0z\" fill=\"none\"/>\n",
              "    <path d=\"M18.56 5.44l.94 2.06.94-2.06 2.06-.94-2.06-.94-.94-2.06-.94 2.06-2.06.94zm-11 1L8.5 8.5l.94-2.06 2.06-.94-2.06-.94L8.5 2.5l-.94 2.06-2.06.94zm10 10l.94 2.06.94-2.06 2.06-.94-2.06-.94-.94-2.06-.94 2.06-2.06.94z\"/><path d=\"M17.41 7.96l-1.37-1.37c-.4-.4-.92-.59-1.43-.59-.52 0-1.04.2-1.43.59L10.3 9.45l-7.72 7.72c-.78.78-.78 2.05 0 2.83L4 21.41c.39.39.9.59 1.41.59.51 0 1.02-.2 1.41-.59l7.78-7.78 2.81-2.81c.8-.78.8-2.07 0-2.86zM5.41 20L4 18.59l7.72-7.72 1.47 1.35L5.41 20z\"/>\n",
              "  </svg>\n",
              "      </button>\n",
              "      \n",
              "  <style>\n",
              "    .colab-df-container {\n",
              "      display:flex;\n",
              "      flex-wrap:wrap;\n",
              "      gap: 12px;\n",
              "    }\n",
              "\n",
              "    .colab-df-convert {\n",
              "      background-color: #E8F0FE;\n",
              "      border: none;\n",
              "      border-radius: 50%;\n",
              "      cursor: pointer;\n",
              "      display: none;\n",
              "      fill: #1967D2;\n",
              "      height: 32px;\n",
              "      padding: 0 0 0 0;\n",
              "      width: 32px;\n",
              "    }\n",
              "\n",
              "    .colab-df-convert:hover {\n",
              "      background-color: #E2EBFA;\n",
              "      box-shadow: 0px 1px 2px rgba(60, 64, 67, 0.3), 0px 1px 3px 1px rgba(60, 64, 67, 0.15);\n",
              "      fill: #174EA6;\n",
              "    }\n",
              "\n",
              "    [theme=dark] .colab-df-convert {\n",
              "      background-color: #3B4455;\n",
              "      fill: #D2E3FC;\n",
              "    }\n",
              "\n",
              "    [theme=dark] .colab-df-convert:hover {\n",
              "      background-color: #434B5C;\n",
              "      box-shadow: 0px 1px 3px 1px rgba(0, 0, 0, 0.15);\n",
              "      filter: drop-shadow(0px 1px 2px rgba(0, 0, 0, 0.3));\n",
              "      fill: #FFFFFF;\n",
              "    }\n",
              "  </style>\n",
              "\n",
              "      <script>\n",
              "        const buttonEl =\n",
              "          document.querySelector('#df-728d7471-b0d7-43fe-bc3c-56facf902c48 button.colab-df-convert');\n",
              "        buttonEl.style.display =\n",
              "          google.colab.kernel.accessAllowed ? 'block' : 'none';\n",
              "\n",
              "        async function convertToInteractive(key) {\n",
              "          const element = document.querySelector('#df-728d7471-b0d7-43fe-bc3c-56facf902c48');\n",
              "          const dataTable =\n",
              "            await google.colab.kernel.invokeFunction('convertToInteractive',\n",
              "                                                     [key], {});\n",
              "          if (!dataTable) return;\n",
              "\n",
              "          const docLinkHtml = 'Like what you see? Visit the ' +\n",
              "            '<a target=\"_blank\" href=https://colab.research.google.com/notebooks/data_table.ipynb>data table notebook</a>'\n",
              "            + ' to learn more about interactive tables.';\n",
              "          element.innerHTML = '';\n",
              "          dataTable['output_type'] = 'display_data';\n",
              "          await google.colab.output.renderOutput(dataTable, element);\n",
              "          const docLink = document.createElement('div');\n",
              "          docLink.innerHTML = docLinkHtml;\n",
              "          element.appendChild(docLink);\n",
              "        }\n",
              "      </script>\n",
              "    </div>\n",
              "  </div>\n",
              "  "
            ]
          },
          "metadata": {},
          "execution_count": 21
        }
      ]
    },
    {
      "cell_type": "code",
      "source": [
        "df3.describe()"
      ],
      "metadata": {
        "colab": {
          "base_uri": "https://localhost:8080/",
          "height": 300
        },
        "id": "dAa-zrY-EuXk",
        "outputId": "7b7f6c02-36b4-412f-895a-58da873cb95b"
      },
      "execution_count": 22,
      "outputs": [
        {
          "output_type": "execute_result",
          "data": {
            "text/plain": [
              "        Unnamed: 0   Unnamed: 27\n",
              "count  2988.000000  2.988000e+03\n",
              "mean    450.589023  5.050132e+06\n",
              "std     407.422849  4.100959e+06\n",
              "min       0.000000  2.183333e+03\n",
              "25%      91.750000  1.009062e+06\n",
              "50%     337.000000  3.758420e+06\n",
              "75%     687.250000  9.036861e+06\n",
              "max    1434.000000  1.157468e+07"
            ],
            "text/html": [
              "\n",
              "  <div id=\"df-d9a428b9-a49f-46f7-9dac-559a62b1051f\">\n",
              "    <div class=\"colab-df-container\">\n",
              "      <div>\n",
              "<style scoped>\n",
              "    .dataframe tbody tr th:only-of-type {\n",
              "        vertical-align: middle;\n",
              "    }\n",
              "\n",
              "    .dataframe tbody tr th {\n",
              "        vertical-align: top;\n",
              "    }\n",
              "\n",
              "    .dataframe thead th {\n",
              "        text-align: right;\n",
              "    }\n",
              "</style>\n",
              "<table border=\"1\" class=\"dataframe\">\n",
              "  <thead>\n",
              "    <tr style=\"text-align: right;\">\n",
              "      <th></th>\n",
              "      <th>Unnamed: 0</th>\n",
              "      <th>Unnamed: 27</th>\n",
              "    </tr>\n",
              "  </thead>\n",
              "  <tbody>\n",
              "    <tr>\n",
              "      <th>count</th>\n",
              "      <td>2988.000000</td>\n",
              "      <td>2.988000e+03</td>\n",
              "    </tr>\n",
              "    <tr>\n",
              "      <th>mean</th>\n",
              "      <td>450.589023</td>\n",
              "      <td>5.050132e+06</td>\n",
              "    </tr>\n",
              "    <tr>\n",
              "      <th>std</th>\n",
              "      <td>407.422849</td>\n",
              "      <td>4.100959e+06</td>\n",
              "    </tr>\n",
              "    <tr>\n",
              "      <th>min</th>\n",
              "      <td>0.000000</td>\n",
              "      <td>2.183333e+03</td>\n",
              "    </tr>\n",
              "    <tr>\n",
              "      <th>25%</th>\n",
              "      <td>91.750000</td>\n",
              "      <td>1.009062e+06</td>\n",
              "    </tr>\n",
              "    <tr>\n",
              "      <th>50%</th>\n",
              "      <td>337.000000</td>\n",
              "      <td>3.758420e+06</td>\n",
              "    </tr>\n",
              "    <tr>\n",
              "      <th>75%</th>\n",
              "      <td>687.250000</td>\n",
              "      <td>9.036861e+06</td>\n",
              "    </tr>\n",
              "    <tr>\n",
              "      <th>max</th>\n",
              "      <td>1434.000000</td>\n",
              "      <td>1.157468e+07</td>\n",
              "    </tr>\n",
              "  </tbody>\n",
              "</table>\n",
              "</div>\n",
              "      <button class=\"colab-df-convert\" onclick=\"convertToInteractive('df-d9a428b9-a49f-46f7-9dac-559a62b1051f')\"\n",
              "              title=\"Convert this dataframe to an interactive table.\"\n",
              "              style=\"display:none;\">\n",
              "        \n",
              "  <svg xmlns=\"http://www.w3.org/2000/svg\" height=\"24px\"viewBox=\"0 0 24 24\"\n",
              "       width=\"24px\">\n",
              "    <path d=\"M0 0h24v24H0V0z\" fill=\"none\"/>\n",
              "    <path d=\"M18.56 5.44l.94 2.06.94-2.06 2.06-.94-2.06-.94-.94-2.06-.94 2.06-2.06.94zm-11 1L8.5 8.5l.94-2.06 2.06-.94-2.06-.94L8.5 2.5l-.94 2.06-2.06.94zm10 10l.94 2.06.94-2.06 2.06-.94-2.06-.94-.94-2.06-.94 2.06-2.06.94z\"/><path d=\"M17.41 7.96l-1.37-1.37c-.4-.4-.92-.59-1.43-.59-.52 0-1.04.2-1.43.59L10.3 9.45l-7.72 7.72c-.78.78-.78 2.05 0 2.83L4 21.41c.39.39.9.59 1.41.59.51 0 1.02-.2 1.41-.59l7.78-7.78 2.81-2.81c.8-.78.8-2.07 0-2.86zM5.41 20L4 18.59l7.72-7.72 1.47 1.35L5.41 20z\"/>\n",
              "  </svg>\n",
              "      </button>\n",
              "      \n",
              "  <style>\n",
              "    .colab-df-container {\n",
              "      display:flex;\n",
              "      flex-wrap:wrap;\n",
              "      gap: 12px;\n",
              "    }\n",
              "\n",
              "    .colab-df-convert {\n",
              "      background-color: #E8F0FE;\n",
              "      border: none;\n",
              "      border-radius: 50%;\n",
              "      cursor: pointer;\n",
              "      display: none;\n",
              "      fill: #1967D2;\n",
              "      height: 32px;\n",
              "      padding: 0 0 0 0;\n",
              "      width: 32px;\n",
              "    }\n",
              "\n",
              "    .colab-df-convert:hover {\n",
              "      background-color: #E2EBFA;\n",
              "      box-shadow: 0px 1px 2px rgba(60, 64, 67, 0.3), 0px 1px 3px 1px rgba(60, 64, 67, 0.15);\n",
              "      fill: #174EA6;\n",
              "    }\n",
              "\n",
              "    [theme=dark] .colab-df-convert {\n",
              "      background-color: #3B4455;\n",
              "      fill: #D2E3FC;\n",
              "    }\n",
              "\n",
              "    [theme=dark] .colab-df-convert:hover {\n",
              "      background-color: #434B5C;\n",
              "      box-shadow: 0px 1px 3px 1px rgba(0, 0, 0, 0.15);\n",
              "      filter: drop-shadow(0px 1px 2px rgba(0, 0, 0, 0.3));\n",
              "      fill: #FFFFFF;\n",
              "    }\n",
              "  </style>\n",
              "\n",
              "      <script>\n",
              "        const buttonEl =\n",
              "          document.querySelector('#df-d9a428b9-a49f-46f7-9dac-559a62b1051f button.colab-df-convert');\n",
              "        buttonEl.style.display =\n",
              "          google.colab.kernel.accessAllowed ? 'block' : 'none';\n",
              "\n",
              "        async function convertToInteractive(key) {\n",
              "          const element = document.querySelector('#df-d9a428b9-a49f-46f7-9dac-559a62b1051f');\n",
              "          const dataTable =\n",
              "            await google.colab.kernel.invokeFunction('convertToInteractive',\n",
              "                                                     [key], {});\n",
              "          if (!dataTable) return;\n",
              "\n",
              "          const docLinkHtml = 'Like what you see? Visit the ' +\n",
              "            '<a target=\"_blank\" href=https://colab.research.google.com/notebooks/data_table.ipynb>data table notebook</a>'\n",
              "            + ' to learn more about interactive tables.';\n",
              "          element.innerHTML = '';\n",
              "          dataTable['output_type'] = 'display_data';\n",
              "          await google.colab.output.renderOutput(dataTable, element);\n",
              "          const docLink = document.createElement('div');\n",
              "          docLink.innerHTML = docLinkHtml;\n",
              "          element.appendChild(docLink);\n",
              "        }\n",
              "      </script>\n",
              "    </div>\n",
              "  </div>\n",
              "  "
            ]
          },
          "metadata": {},
          "execution_count": 22
        }
      ]
    },
    {
      "cell_type": "code",
      "source": [
        "df3.isnull().sum()"
      ],
      "metadata": {
        "colab": {
          "base_uri": "https://localhost:8080/"
        },
        "id": "10SPos4CEwny",
        "outputId": "b8e8c132-b7c2-4b6a-8d0a-ee3f590c9bd3"
      },
      "execution_count": 35,
      "outputs": [
        {
          "output_type": "execute_result",
          "data": {
            "text/plain": [
              "Unnamed: 0                  11\n",
              "Unnamed: 0.1                 0\n",
              "id                           0\n",
              "status                       0\n",
              "global_review_id             0\n",
              "hash_global_review_id        0\n",
              "listing_id                   0\n",
              "title                      128\n",
              "is_rating                    0\n",
              "score                        0\n",
              "created                      0\n",
              "OverAllRating                0\n",
              "Value For Money              0\n",
              "Ease of Use                  0\n",
              "Features                     0\n",
              "Customer Support             0\n",
              "Likelihood to recommned      0\n",
              "isAnonymous                  0\n",
              "is_verified                  0\n",
              "full_name                    0\n",
              "company_industry           476\n",
              "frequency_of_use           424\n",
              "time_used                  313\n",
              "source                       0\n",
              "incentivized               667\n",
              "ReviewDescription_score      0\n",
              "Pros_score                   0\n",
              "Unnamed: 27                 11\n",
              "dtype: int64"
            ]
          },
          "metadata": {},
          "execution_count": 35
        }
      ]
    },
    {
      "cell_type": "code",
      "source": [
        "df3.dropna(inplace=True)"
      ],
      "metadata": {
        "id": "DDqPSa7dPtvU"
      },
      "execution_count": 36,
      "outputs": []
    },
    {
      "cell_type": "code",
      "source": [
        "df3.isnull().sum()"
      ],
      "metadata": {
        "colab": {
          "base_uri": "https://localhost:8080/"
        },
        "id": "Ot8uurmRP5zX",
        "outputId": "3cb80692-d3d2-4132-da4d-d5bd2f00d1ef"
      },
      "execution_count": 38,
      "outputs": [
        {
          "output_type": "execute_result",
          "data": {
            "text/plain": [
              "Unnamed: 0                 0\n",
              "Unnamed: 0.1               0\n",
              "id                         0\n",
              "status                     0\n",
              "global_review_id           0\n",
              "hash_global_review_id      0\n",
              "listing_id                 0\n",
              "title                      0\n",
              "is_rating                  0\n",
              "score                      0\n",
              "created                    0\n",
              "OverAllRating              0\n",
              "Value For Money            0\n",
              "Ease of Use                0\n",
              "Features                   0\n",
              "Customer Support           0\n",
              "Likelihood to recommned    0\n",
              "isAnonymous                0\n",
              "is_verified                0\n",
              "full_name                  0\n",
              "company_industry           0\n",
              "frequency_of_use           0\n",
              "time_used                  0\n",
              "source                     0\n",
              "incentivized               0\n",
              "ReviewDescription_score    0\n",
              "Pros_score                 0\n",
              "Unnamed: 27                0\n",
              "dtype: int64"
            ]
          },
          "metadata": {},
          "execution_count": 38
        }
      ]
    },
    {
      "cell_type": "code",
      "source": [
        "from scipy.stats import norm"
      ],
      "metadata": {
        "id": "Oy10uIN9TIHq"
      },
      "execution_count": 46,
      "outputs": []
    },
    {
      "cell_type": "code",
      "source": [
        "print(df3[df3.duplicated()])\n",
        "print('Note there are no Duplicates Dataset\\n')"
      ],
      "metadata": {
        "colab": {
          "base_uri": "https://localhost:8080/"
        },
        "id": "hw3a3QjiTq8y",
        "outputId": "6ee3b152-3d2f-4231-a84d-e437ac955863"
      },
      "execution_count": 52,
      "outputs": [
        {
          "output_type": "stream",
          "name": "stdout",
          "text": [
            "Empty DataFrame\n",
            "Columns: [Unnamed: 0, Unnamed: 0.1, id, status, global_review_id, hash_global_review_id, listing_id, title, is_rating, score, created, OverAllRating, Value For Money, Ease of Use, Features, Customer Support, Likelihood to recommned, isAnonymous, is_verified, full_name, company_industry, frequency_of_use, time_used, source, incentivized, ReviewDescription_score, Pros_score, Unnamed: 27]\n",
            "Index: []\n",
            "\n",
            "[0 rows x 28 columns]\n",
            "Note there are no Duplicates Dataset\n",
            "\n"
          ]
        }
      ]
    },
    {
      "cell_type": "code",
      "source": [
        "A1=df3.loc[(df3['incentivized']=='NominalGift') | (df3['incentivized']=='VendorReferredIncentivized')]\n",
        "print(A1.head(5).to_string())\n"
      ],
      "metadata": {
        "colab": {
          "base_uri": "https://localhost:8080/"
        },
        "id": "Kn6bOb4VTIKZ",
        "outputId": "11162eff-ea2e-4110-f020-131f16e902e2"
      },
      "execution_count": 53,
      "outputs": [
        {
          "output_type": "stream",
          "name": "stdout",
          "text": [
            "    Unnamed: 0 Unnamed: 0.1       id     status         global_review_id hash_global_review_id listing_id                                                                                      title is_rating     score     created OverAllRating Value For Money Ease of Use Features Customer Support Likelihood to recommned isAnonymous is_verified   full_name           company_industry frequency_of_use           time_used          source incentivized ReviewDescription_score   Pros_score  Unnamed: 27\n",
            "1          1.0            1  1283833  Published  SoftwareAdvice___434035            8b72a5b935      90666                                               Reasonable CRM software for small businesses     FALSE  4.462893   6/22/2018             4               5           4        4                3                       9       FALSE       FALSE  Rushang D.  Marketing and Advertising            daily            2+ years  SoftwareAdvice  NominalGift             0.998566568   0.99880743  1711777.000\n",
            "2          2.0            2   841881  Published        Capterra___330384            0d580775b7      90666  Security certificate warning, basic lists inaccurate, clunky documents, HORRIBLE SUPPORT!     FALSE  4.462893  12/20/2017             1               1           1        1                1                       0       FALSE       FALSE   Julian G.          Computer Hardware            daily         6-12 months        Capterra  NominalGift             0.999743998  0.996420145  1122507.333\n",
            "3          3.0            3  1060237  Published  SoftwareAdvice___390950            a36d0ef509      90666                                          1CRM is a great started CRM for a Service Company     FALSE  4.462893    4/4/2018             4               5           3        3                3                       8       FALSE       FALSE    James C.      Management Consulting            daily           1-2 years  SoftwareAdvice  NominalGift             0.938319802  0.986604214  1413648.333\n",
            "17        17.0           17   846217  Published  SoftwareAdvice___341241            ec69ec93a9      90666                                                                   Functional & Easy To Use     FALSE  4.462893  12/22/2017             5               5           5        5                5                      10       FALSE       FALSE  Sabrina B.      Management Consulting            daily           1-2 years  SoftwareAdvice  NominalGift             0.999515414  0.999205172  1128283.667\n",
            "20        20.0           20  1300111  Published  SoftwareAdvice___436897            695de7bb9f      90666     good CRM, includes all the basics with focus in marketing, sales and customer support.     FALSE  4.462893   6/27/2018             5               0           4        4                0                       8       FALSE       FALSE     Jose R.      Management Consulting            daily  Less than 6 months  SoftwareAdvice  NominalGift             0.997060239  0.984327018  1733474.667\n"
          ]
        }
      ]
    },
    {
      "cell_type": "code",
      "source": [
        "A2=df3.loc[(df3['incentivized']=='NoIncentive') | (df3['incentivized']=='VendorReferred')]\n",
        "print(A2.head(5).to_string())"
      ],
      "metadata": {
        "colab": {
          "base_uri": "https://localhost:8080/"
        },
        "id": "kRHbCi9cUBLr",
        "outputId": "190922e5-e975-42ff-c722-27a5f5260aad"
      },
      "execution_count": 54,
      "outputs": [
        {
          "output_type": "stream",
          "name": "stdout",
          "text": [
            "    Unnamed: 0 Unnamed: 0.1       id     status         global_review_id hash_global_review_id listing_id                                                    title is_rating     score     created OverAllRating Value For Money Ease of Use Features Customer Support Likelihood to recommned isAnonymous is_verified   full_name    company_industry frequency_of_use           time_used          source incentivized ReviewDescription_score   Pros_score  Unnamed: 27\n",
            "10        10.0           10  1301781  Published  SoftwareAdvice___437237            f1a6a9cfb4      90666           Great software that covers a lot of situations     FALSE  4.462893   6/27/2018             5               0           4        4                0                       9       FALSE       FALSE  Eduardo D.  Telecommunications            daily            2+ years  SoftwareAdvice  NoIncentive             0.792923093  0.957252979  1735704.667\n",
            "14        14.0           14   761397  Published  SoftwareAdvice___313796            390a7f4c1b      90666                                          Amazing support     FALSE  4.462893  10/24/2017             5               5           5        5                5                      10       FALSE       FALSE   marcus y.   Computer Software            daily            2+ years  SoftwareAdvice  NoIncentive              0.99984467  0.976857305  1015191.333\n",
            "16        16.0           16  1301447  Published  SoftwareAdvice___437193            a80426575d      90666  Solid, User Friendly and Great for non-technical people     FALSE  4.462893   6/27/2018             5               4           5        5                4                       9       FALSE       FALSE   Rickus W.   Computer Software            daily            2+ years  SoftwareAdvice  NoIncentive             0.999574721  0.971120834  1735257.333\n",
            "19        19.0           19   766563  Published  SoftwareAdvice___315016            53a9d03c78      90666                                  Best bang for your buck     FALSE  4.462893  10/27/2017             5               5           5        4                5                      10       FALSE       FALSE    Terry C.   Computer Software            daily         6-12 months  SoftwareAdvice  NoIncentive             0.995381117  0.755809307  1022077.667\n",
            "29        29.0           29  1322601  Published  SoftwareAdvice___440469            98e3c3a97b      90666                                  1CRM helped my business     FALSE  4.462893    7/4/2018             5               5           5        5                5                      10       FALSE       FALSE  Gilbert A.           Insurance            daily  Less than 6 months  SoftwareAdvice  NoIncentive             0.844004273  0.988325715  1763458.333\n"
          ]
        }
      ]
    },
    {
      "cell_type": "code",
      "source": [
        "a_group = df3[(df3['incentivized'] == \"NoIncentive\") | (df3['incentivized'] == \"NonNominalGift\") | (df3['incentivized'] == \"VendorReferred\")]['OverAllRating']\n",
        "print(a_group.shape[0])\n",
        "print(A2.shape[0])\n",
        "A1['OverAllRating'] = A1['OverAllRating'].astype(float)\n",
        "A2['OverAllRating'] = A2['OverAllRating'].astype(float)"
      ],
      "metadata": {
        "colab": {
          "base_uri": "https://localhost:8080/"
        },
        "id": "nH0_la8VUBOH",
        "outputId": "7c6f1a72-68b7-4184-e3d7-71b5730edf54"
      },
      "execution_count": 55,
      "outputs": [
        {
          "output_type": "stream",
          "name": "stdout",
          "text": [
            "1208\n",
            "1208\n"
          ]
        },
        {
          "output_type": "stream",
          "name": "stderr",
          "text": [
            "/usr/local/lib/python3.7/dist-packages/pyforest/__init__.py:4: SettingWithCopyWarning: \n",
            "A value is trying to be set on a copy of a slice from a DataFrame.\n",
            "Try using .loc[row_indexer,col_indexer] = value instead\n",
            "\n",
            "See the caveats in the documentation: https://pandas.pydata.org/pandas-docs/stable/user_guide/indexing.html#returning-a-view-versus-a-copy\n",
            "  get_user_symbols,\n",
            "/usr/local/lib/python3.7/dist-packages/pyforest/__init__.py:5: SettingWithCopyWarning: \n",
            "A value is trying to be set on a copy of a slice from a DataFrame.\n",
            "Try using .loc[row_indexer,col_indexer] = value instead\n",
            "\n",
            "See the caveats in the documentation: https://pandas.pydata.org/pandas-docs/stable/user_guide/indexing.html#returning-a-view-versus-a-copy\n",
            "  install_extensions,\n"
          ]
        }
      ]
    },
    {
      "cell_type": "code",
      "source": [
        "con = A1['OverAllRating'].shape[0]\n",
        "exp = A2['OverAllRating'].shape[0]\n",
        "\n",
        "# Significance Level\n",
        "alpha = 0.05\n",
        "\n",
        "mu_con = np.mean(A1['OverAllRating'])\n",
        "mu_exp = np.mean(A2['OverAllRating'])\n",
        "\n",
        "variance_con = np.var(A1['OverAllRating'])\n",
        "variance_exp = np.var(A2['OverAllRating'])\n",
        "\n",
        "# Pooled Variance\n",
        "pooled_variance = np.sqrt(variance_con/con + variance_exp/exp)\n",
        "\n",
        "# Test statistics\n",
        "T = (mu_con-mu_exp)/np.sqrt(variance_con/con + variance_exp/exp)\n",
        "\n",
        "# two sided test and using symmetry property of Normal distibution so we multiple with 2\n",
        "p_value = norm.sf(T)*2\n",
        "\n",
        "# Z value\n",
        "Z_crit  = norm.ppf(1-alpha/2)\n",
        "\n",
        "# error margin\n",
        "m = Z_crit*pooled_variance\n",
        "\n",
        "# Confidence Interval\n",
        "CI = [(mu_con - mu_exp) - m, (mu_con - mu_exp) + m]\n",
        "\n",
        "\n",
        "print(\"Test Statistics stat: \", T)\n",
        "print(\"Z-critical: \", Z_crit)\n",
        "print(\"P_value: \", p_value)\n",
        "print(\"Confidence Interval of 2 sample Z-test for proportions: \", np.round(CI,2))"
      ],
      "metadata": {
        "colab": {
          "base_uri": "https://localhost:8080/"
        },
        "id": "1V57LLvrUBQZ",
        "outputId": "891fba64-0d56-4187-8d49-6d858e7f5f59"
      },
      "execution_count": 57,
      "outputs": [
        {
          "output_type": "stream",
          "name": "stdout",
          "text": [
            "Test Statistics stat:  -3.53942063214399\n",
            "Z-critical:  1.959963984540054\n",
            "P_value:  1.9995989936671095\n",
            "Confidence Interval of 2 sample Z-test for proportions:  [-0.22 -0.06]\n"
          ]
        }
      ]
    },
    {
      "cell_type": "code",
      "source": [
        "z = np.arange(-3,3,  0.1)\n",
        "plt.plot(z, norm.pdf(z), label = 'Standard Normal Distribution',color = 'blue',linewidth = 2.5)\n",
        "plt.fill_between(z[z>Z_crit], norm.pdf(z[z>Z_crit]), label = 'Right Rejection Region',color ='r' )\n",
        "plt.fill_between(z[z<(-1)*Z_crit], norm.pdf(z[z<(-1)*Z_crit]), label = 'Left Rejection Region',color ='r' )\n",
        "plt.title(\"Two Sample Z-test rejection region\")\n",
        "plt.legend()\n",
        "plt.show()"
      ],
      "metadata": {
        "colab": {
          "base_uri": "https://localhost:8080/",
          "height": 277
        },
        "id": "I9CyrLMdUBS5",
        "outputId": "ed5e8095-159d-411a-e024-af0479bd60a7"
      },
      "execution_count": 60,
      "outputs": [
        {
          "output_type": "display_data",
          "data": {
            "text/plain": [
              "<Figure size 432x288 with 1 Axes>"
            ],
            "image/png": "[encoded data removed]"
          },
          "metadata": {
            "needs_background": "light"
          }
        }
      ]
    },
    {
      "cell_type": "code",
      "source": [
        ""
      ],
      "metadata": {
        "id": "4pmGZucGU1d-"
      },
      "execution_count": null,
      "outputs": []
    }
  ],
  "metadata": {
    "kernelspec": {
      "display_name": "Python 3",
      "language": "python",
      "name": "python3"
    },
    "language_info": {
      "codemirror_mode": {
        "name": "ipython",
        "version": 3
      },
      "file_extension": ".py",
      "mimetype": "text/x-python",
      "name": "python",
      "nbconvert_exporter": "python",
      "pygments_lexer": "ipython3",
      "version": "3.8.5"
    },
    "colab": {
      "name": "INFO 5502-Final Exam-Spring2022.ipynb",
      "provenance": [],
      "collapsed_sections": [],
      "include_colab_link": true
    }
  },
  "nbformat": 4,
  "nbformat_minor": 0
}