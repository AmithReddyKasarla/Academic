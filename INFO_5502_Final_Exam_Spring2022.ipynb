{
  "cells": [
    {
      "cell_type": "markdown",
      "metadata": {
        "id": "view-in-github",
        "colab_type": "text"
      },
      "source": [
        "<a href=\"https://colab.research.google.com/github/AmithReddyKasarla/AmithReddy_INFO5502_-Spring2022/blob/main/INFO_5502_Final_Exam_Spring2022.ipynb\" target=\"_parent\"><img src=\"https://colab.research.google.com/assets/colab-badge.svg\" alt=\"Open In Colab\"/></a>"
      ]
    },
    {
      "cell_type": "markdown",
      "metadata": {
        "id": "3YQNVl3x4Lww"
      },
      "source": [
        "### INFO 5502 Final Exam (05/12/2022, 240 points in total)"
      ]
    },
    {
      "cell_type": "markdown",
      "metadata": {
        "id": "jlcNRW234Lw4"
      },
      "source": [
        "<span style='background:yellow'>**Question 1 (40 pt).**</span> We want to create a birthday frequency graph using the data on births in the United States, provided by the Centers for Disease Control (CDC). You can download the data from my GitHub link:https://github.com/unt-iialab/info5502-spring2022/blob/main/datasets/births.csv \n",
        "\n",
        "Please visualize the data as the following figure using python (you can use any data visualization packages):\n",
        "\n"
      ]
    },
    {
      "cell_type": "code",
      "execution_count": 60,
      "metadata": {
        "colab": {
          "base_uri": "https://localhost:8080/"
        },
        "id": "wk_4LD_B4Lw6",
        "outputId": "8487d1cb-4faa-498b-d6f6-23673670aa91"
      },
      "outputs": [
        {
          "output_type": "stream",
          "name": "stdout",
          "text": [
            "Requirement already satisfied: pyforest in /usr/local/lib/python3.7/dist-packages (1.1.0)\n"
          ]
        }
      ],
      "source": [
        "#### You code here\n",
        "!pip install pyforest\n",
        "import pyforest\n",
        "import matplotlib.pyplot as plt\n",
        "%matplotlib inline\n",
        "import matplotlib as mpl"
      ]
    },
    {
      "cell_type": "code",
      "source": [
        "df = pd.read_csv('https://raw.githubusercontent.com/unt-iialab/info5502-spring2022/main/datasets/births.csv')"
      ],
      "metadata": {
        "id": "8xRRike04cIx"
      },
      "execution_count": 61,
      "outputs": []
    },
    {
      "cell_type": "code",
      "source": [
        "df.describe()"
      ],
      "metadata": {
        "colab": {
          "base_uri": "https://localhost:8080/",
          "height": 300
        },
        "id": "0KsVLGj4CA4X",
        "outputId": "643e19ea-729e-4a66-85de-6b879a63204d"
      },
      "execution_count": 62,
      "outputs": [
        {
          "output_type": "execute_result",
          "data": {
            "text/plain": [
              "               year         month           day         births\n",
              "count  15547.000000  15547.000000  15067.000000   15547.000000\n",
              "mean    1979.037435      6.515919     17.769894    9762.293561\n",
              "std        6.728340      3.449632     15.284034   28552.465810\n",
              "min     1969.000000      1.000000      1.000000       1.000000\n",
              "25%     1974.000000      4.000000      8.000000    4358.000000\n",
              "50%     1979.000000      7.000000     16.000000    4814.000000\n",
              "75%     1984.000000     10.000000     24.000000    5289.500000\n",
              "max     2008.000000     12.000000     99.000000  199622.000000"
            ],
            "text/html": [
              "\n",
              "  <div id=\"df-290ac12f-2452-489a-8f4c-13541d3443d1\">\n",
              "    <div class=\"colab-df-container\">\n",
              "      <div>\n",
              "<style scoped>\n",
              "    .dataframe tbody tr th:only-of-type {\n",
              "        vertical-align: middle;\n",
              "    }\n",
              "\n",
              "    .dataframe tbody tr th {\n",
              "        vertical-align: top;\n",
              "    }\n",
              "\n",
              "    .dataframe thead th {\n",
              "        text-align: right;\n",
              "    }\n",
              "</style>\n",
              "<table border=\"1\" class=\"dataframe\">\n",
              "  <thead>\n",
              "    <tr style=\"text-align: right;\">\n",
              "      <th></th>\n",
              "      <th>year</th>\n",
              "      <th>month</th>\n",
              "      <th>day</th>\n",
              "      <th>births</th>\n",
              "    </tr>\n",
              "  </thead>\n",
              "  <tbody>\n",
              "    <tr>\n",
              "      <th>count</th>\n",
              "      <td>15547.000000</td>\n",
              "      <td>15547.000000</td>\n",
              "      <td>15067.000000</td>\n",
              "      <td>15547.000000</td>\n",
              "    </tr>\n",
              "    <tr>\n",
              "      <th>mean</th>\n",
              "      <td>1979.037435</td>\n",
              "      <td>6.515919</td>\n",
              "      <td>17.769894</td>\n",
              "      <td>9762.293561</td>\n",
              "    </tr>\n",
              "    <tr>\n",
              "      <th>std</th>\n",
              "      <td>6.728340</td>\n",
              "      <td>3.449632</td>\n",
              "      <td>15.284034</td>\n",
              "      <td>28552.465810</td>\n",
              "    </tr>\n",
              "    <tr>\n",
              "      <th>min</th>\n",
              "      <td>1969.000000</td>\n",
              "      <td>1.000000</td>\n",
              "      <td>1.000000</td>\n",
              "      <td>1.000000</td>\n",
              "    </tr>\n",
              "    <tr>\n",
              "      <th>25%</th>\n",
              "      <td>1974.000000</td>\n",
              "      <td>4.000000</td>\n",
              "      <td>8.000000</td>\n",
              "      <td>4358.000000</td>\n",
              "    </tr>\n",
              "    <tr>\n",
              "      <th>50%</th>\n",
              "      <td>1979.000000</td>\n",
              "      <td>7.000000</td>\n",
              "      <td>16.000000</td>\n",
              "      <td>4814.000000</td>\n",
              "    </tr>\n",
              "    <tr>\n",
              "      <th>75%</th>\n",
              "      <td>1984.000000</td>\n",
              "      <td>10.000000</td>\n",
              "      <td>24.000000</td>\n",
              "      <td>5289.500000</td>\n",
              "    </tr>\n",
              "    <tr>\n",
              "      <th>max</th>\n",
              "      <td>2008.000000</td>\n",
              "      <td>12.000000</td>\n",
              "      <td>99.000000</td>\n",
              "      <td>199622.000000</td>\n",
              "    </tr>\n",
              "  </tbody>\n",
              "</table>\n",
              "</div>\n",
              "      <button class=\"colab-df-convert\" onclick=\"convertToInteractive('df-290ac12f-2452-489a-8f4c-13541d3443d1')\"\n",
              "              title=\"Convert this dataframe to an interactive table.\"\n",
              "              style=\"display:none;\">\n",
              "        \n",
              "  <svg xmlns=\"http://www.w3.org/2000/svg\" height=\"24px\"viewBox=\"0 0 24 24\"\n",
              "       width=\"24px\">\n",
              "    <path d=\"M0 0h24v24H0V0z\" fill=\"none\"/>\n",
              "    <path d=\"M18.56 5.44l.94 2.06.94-2.06 2.06-.94-2.06-.94-.94-2.06-.94 2.06-2.06.94zm-11 1L8.5 8.5l.94-2.06 2.06-.94-2.06-.94L8.5 2.5l-.94 2.06-2.06.94zm10 10l.94 2.06.94-2.06 2.06-.94-2.06-.94-.94-2.06-.94 2.06-2.06.94z\"/><path d=\"M17.41 7.96l-1.37-1.37c-.4-.4-.92-.59-1.43-.59-.52 0-1.04.2-1.43.59L10.3 9.45l-7.72 7.72c-.78.78-.78 2.05 0 2.83L4 21.41c.39.39.9.59 1.41.59.51 0 1.02-.2 1.41-.59l7.78-7.78 2.81-2.81c.8-.78.8-2.07 0-2.86zM5.41 20L4 18.59l7.72-7.72 1.47 1.35L5.41 20z\"/>\n",
              "  </svg>\n",
              "      </button>\n",
              "      \n",
              "  <style>\n",
              "    .colab-df-container {\n",
              "      display:flex;\n",
              "      flex-wrap:wrap;\n",
              "      gap: 12px;\n",
              "    }\n",
              "\n",
              "    .colab-df-convert {\n",
              "      background-color: #E8F0FE;\n",
              "      border: none;\n",
              "      border-radius: 50%;\n",
              "      cursor: pointer;\n",
              "      display: none;\n",
              "      fill: #1967D2;\n",
              "      height: 32px;\n",
              "      padding: 0 0 0 0;\n",
              "      width: 32px;\n",
              "    }\n",
              "\n",
              "    .colab-df-convert:hover {\n",
              "      background-color: #E2EBFA;\n",
              "      box-shadow: 0px 1px 2px rgba(60, 64, 67, 0.3), 0px 1px 3px 1px rgba(60, 64, 67, 0.15);\n",
              "      fill: #174EA6;\n",
              "    }\n",
              "\n",
              "    [theme=dark] .colab-df-convert {\n",
              "      background-color: #3B4455;\n",
              "      fill: #D2E3FC;\n",
              "    }\n",
              "\n",
              "    [theme=dark] .colab-df-convert:hover {\n",
              "      background-color: #434B5C;\n",
              "      box-shadow: 0px 1px 3px 1px rgba(0, 0, 0, 0.15);\n",
              "      filter: drop-shadow(0px 1px 2px rgba(0, 0, 0, 0.3));\n",
              "      fill: #FFFFFF;\n",
              "    }\n",
              "  </style>\n",
              "\n",
              "      <script>\n",
              "        const buttonEl =\n",
              "          document.querySelector('#df-290ac12f-2452-489a-8f4c-13541d3443d1 button.colab-df-convert');\n",
              "        buttonEl.style.display =\n",
              "          google.colab.kernel.accessAllowed ? 'block' : 'none';\n",
              "\n",
              "        async function convertToInteractive(key) {\n",
              "          const element = document.querySelector('#df-290ac12f-2452-489a-8f4c-13541d3443d1');\n",
              "          const dataTable =\n",
              "            await google.colab.kernel.invokeFunction('convertToInteractive',\n",
              "                                                     [key], {});\n",
              "          if (!dataTable) return;\n",
              "\n",
              "          const docLinkHtml = 'Like what you see? Visit the ' +\n",
              "            '<a target=\"_blank\" href=https://colab.research.google.com/notebooks/data_table.ipynb>data table notebook</a>'\n",
              "            + ' to learn more about interactive tables.';\n",
              "          element.innerHTML = '';\n",
              "          dataTable['output_type'] = 'display_data';\n",
              "          await google.colab.output.renderOutput(dataTable, element);\n",
              "          const docLink = document.createElement('div');\n",
              "          docLink.innerHTML = docLinkHtml;\n",
              "          element.appendChild(docLink);\n",
              "        }\n",
              "      </script>\n",
              "    </div>\n",
              "  </div>\n",
              "  "
            ]
          },
          "metadata": {},
          "execution_count": 62
        }
      ]
    },
    {
      "cell_type": "code",
      "source": [
        "df.info()"
      ],
      "metadata": {
        "colab": {
          "base_uri": "https://localhost:8080/"
        },
        "id": "xkH90L0KLFG5",
        "outputId": "14dabd74-6ca6-49b3-dfd6-6519adefc054"
      },
      "execution_count": 63,
      "outputs": [
        {
          "output_type": "stream",
          "name": "stdout",
          "text": [
            "<class 'pandas.core.frame.DataFrame'>\n",
            "RangeIndex: 15547 entries, 0 to 15546\n",
            "Data columns (total 5 columns):\n",
            " #   Column  Non-Null Count  Dtype  \n",
            "---  ------  --------------  -----  \n",
            " 0   year    15547 non-null  int64  \n",
            " 1   month   15547 non-null  int64  \n",
            " 2   day     15067 non-null  float64\n",
            " 3   gender  15547 non-null  object \n",
            " 4   births  15547 non-null  int64  \n",
            "dtypes: float64(1), int64(3), object(1)\n",
            "memory usage: 607.4+ KB\n"
          ]
        }
      ]
    },
    {
      "cell_type": "code",
      "source": [
        "quar = np.percentile(df['births'], [25, 50, 75])\n",
        "mu, sig = quar[1], 0.74 * (quar[2] - quar[0])\n",
        "births = df.query('(births > @mu - 5 * @sig) & (births < @mu + 5 * @sig)')"
      ],
      "metadata": {
        "id": "EDYm0QDiCA6-"
      },
      "execution_count": 64,
      "outputs": []
    },
    {
      "cell_type": "code",
      "source": [
        "births['day'] = births['day'].astype(int)"
      ],
      "metadata": {
        "colab": {
          "base_uri": "https://localhost:8080/"
        },
        "id": "a_g2hP_GCA9g",
        "outputId": "8d3782a6-acd8-42b4-ca62-966be7a6c1bd"
      },
      "execution_count": 65,
      "outputs": [
        {
          "output_type": "stream",
          "name": "stderr",
          "text": [
            "/usr/local/lib/python3.7/dist-packages/pyforest/__init__.py:1: SettingWithCopyWarning: \n",
            "A value is trying to be set on a copy of a slice from a DataFrame.\n",
            "Try using .loc[row_indexer,col_indexer] = value instead\n",
            "\n",
            "See the caveats in the documentation: https://pandas.pydata.org/pandas-docs/stable/user_guide/indexing.html#returning-a-view-versus-a-copy\n",
            "  # -*- coding: utf-8 -*-\n"
          ]
        }
      ]
    },
    {
      "cell_type": "code",
      "source": [
        "births.index = pd.to_datetime(10000 * births.year + 100 * births.month + births.day, format='%Y%m%d')\n",
        "births_by_date = births.pivot_table('births', [births.index.month, births.index.day])\n",
        "births_by_date.index = [pd.datetime(2012, month, day) for (month, day) in births_by_date.index]"
      ],
      "metadata": {
        "colab": {
          "base_uri": "https://localhost:8080/"
        },
        "id": "LWbFXdnzCA_6",
        "outputId": "3a00b8d8-6866-4307-804b-2279ea9f4cee"
      },
      "execution_count": 66,
      "outputs": [
        {
          "output_type": "stream",
          "name": "stderr",
          "text": [
            "/usr/local/lib/python3.7/dist-packages/pyforest/__init__.py:3: FutureWarning: The pandas.datetime class is deprecated and will be removed from pandas in a future version. Import from datetime module instead.\n",
            "  from .utils import (\n"
          ]
        }
      ]
    },
    {
      "cell_type": "code",
      "source": [
        "fig, ax = plt.subplots(figsize=(16, 4))\n",
        "plt.title(\"USA births (1969 to 1988)\")\n",
        "plt.xlabel(\"Months\")\n",
        "births_by_date.plot(ax=ax);"
      ],
      "metadata": {
        "colab": {
          "base_uri": "https://localhost:8080/",
          "height": 307
        },
        "id": "B_YvQla1CBCY",
        "outputId": "ae3d845d-66c1-4e9b-bc0d-a6ed88c4eb52"
      },
      "execution_count": 67,
      "outputs": [
        {
          "output_type": "display_data",
          "data": {
            "text/plain": [
              "<Figure size 1152x288 with 1 Axes>"
            ],
            "image/png": "[encoded data removed]"
          },
          "metadata": {
            "needs_background": "light"
          }
        }
      ]
    },
    {
      "cell_type": "markdown",
      "metadata": {
        "id": "a3EkEwbk4Lw-"
      },
      "source": [
        "<span style='background:yellow'>**Question 2 (40 pt).**</span> Write a python program to evaluate the text classification performance using accuracy, precision, recall, and f1 score. \n",
        "\n",
        "Accuracy = (TP + TN) / (TP+ TN+ FP+ FN)\n",
        "\n",
        "Recall = (TP) / (TP+FN)\n",
        "\n",
        "Precision = (TP) / (TP+FP)\n",
        "\n",
        "F1 Score = (2*Precision*Recall) / (Precision + Recall)\n",
        "\n",
        "Here is the confusion matrix of a text classfication task (six categories) on the testing data. \n",
        "\n"
      ]
    },
    {
      "cell_type": "code",
      "execution_count": 68,
      "metadata": {
        "id": "jPly-zW_4LxB"
      },
      "outputs": [],
      "source": [
        "#### You code here\n",
        "import numpy as np\n",
        "import pandas as pd\n",
        "import matplotlib.pyplot as plt\n",
        "%matplotlib inline\n"
      ]
    },
    {
      "cell_type": "code",
      "source": [
        "cm= [[157,46,25,22,15,3],\n",
        "              [28,151,45,18,1,6],\n",
        "              [11,38,135,14,3,7],\n",
        "              [11,15,18,70,6,4],\n",
        "              [14,12,14,7,56,2],\n",
        "              [12,7,6,5,5,16]]"
      ],
      "metadata": {
        "id": "lk47biaw9cnt"
      },
      "execution_count": 69,
      "outputs": []
    },
    {
      "cell_type": "code",
      "source": [
        "con = np.array(cm)"
      ],
      "metadata": {
        "id": "dQRp9YnpXp1G"
      },
      "execution_count": 70,
      "outputs": []
    },
    {
      "cell_type": "code",
      "source": [
        "# For class 0\n",
        "\n",
        "import numpy as np\n",
        "\n",
        "TP = 157\n",
        "FP = 76\n",
        "TN = 667\n",
        "FN = 111\n",
        "\n",
        "Precision = TP/ (TP + FP)\n",
        "Recall = TP/ (TP + FN)\n",
        "\n",
        "Accuracy = (TP + TN) / (TP+ TN+ FP+ FN)\n",
        "\n",
        "F1_score = (2 * Precision * Recall)/ (Precision + Recall)\n",
        "\n",
        "print(\"For class 0 Results\")\n",
        "print(\"Precision:\", Precision)\n",
        "print(\"Recall:\", Recall)\n",
        "print(\"Accuracy:\", Accuracy)\n",
        "print(\"F1 score:\", F1_score)\n",
        "\n",
        "\n",
        "\n",
        "#### You code here\n",
        "\n",
        "# For class 1\n",
        "\n",
        "import numpy as np\n",
        "\n",
        "TP = 151\n",
        "FP = 118\n",
        "TN = 63\n",
        "FN = 96\n",
        "\n",
        "Precision = TP/ (TP + FP)\n",
        "Recall = TP/ (TP + FN)\n",
        "\n",
        "Accuracy = (TP + TN) / (TP+ TN+ FP+ FN)\n",
        "\n",
        "F1_score = (2 * Precision * Recall)/ (Precision + Recall)\n",
        "\n",
        "print(\"\\nFor class 1 Results\")\n",
        "print(\"Precision:\", Precision)\n",
        "print(\"Recall:\", Recall)\n",
        "print(\"Accuracy:\", Accuracy)\n",
        "print(\"F1 score:\", F1_score)\n",
        "\n",
        "\n",
        "#### You code here\n",
        "\n",
        "# For class 2\n",
        "\n",
        "import numpy as np\n",
        "\n",
        "TP = 135\n",
        "FP = 108\n",
        "TN = 689\n",
        "FN = 73\n",
        "\n",
        "Precision = TP/ (TP + FP)\n",
        "Recall = TP/ (TP + FN)\n",
        "\n",
        "Accuracy = (TP + TN) / (TP+ TN+ FP+ FN)\n",
        "\n",
        "F1_score = (2 * Precision * Recall)/ (Precision + Recall)\n",
        "\n",
        "print(\"\\nFor class 2 Results\")\n",
        "print(\"Precision:\", Precision)\n",
        "print(\"Recall:\", Recall)\n",
        "print(\"Accuracy:\", Accuracy)\n",
        "print(\"F1 score:\", F1_score)\n",
        "\n",
        "\n",
        "#### You code here\n",
        "\n",
        "# For class 3\n",
        "\n",
        "import numpy as np\n",
        "\n",
        "TP = 70\n",
        "FP = 66\n",
        "TN = 815\n",
        "FN = 54\n",
        "\n",
        "Precision = TP/ (TP + FP)\n",
        "Recall = TP/ (TP + FN)\n",
        "\n",
        "Accuracy = (TP + TN) / (TP+ TN+ FP+ FN)\n",
        "\n",
        "F1_score = (2 * Precision * Recall)/ (Precision + Recall)\n",
        "\n",
        "print(\"\\nFor class 3 Results\")\n",
        "print(\"Precision:\", Precision)\n",
        "print(\"Recall:\", Recall)\n",
        "print(\"Accuracy:\", Accuracy)\n",
        "print(\"F1 score:\", F1_score)\n",
        "\n",
        "\n",
        "#### You code here\n",
        "\n",
        "# For class 4\n",
        "\n",
        "import numpy as np\n",
        "\n",
        "TP = 56\n",
        "FP = 30\n",
        "TN = 870\n",
        "FN = 49\n",
        "\n",
        "Precision = TP/ (TP + FP)\n",
        "Recall = TP/ (TP + FN)\n",
        "\n",
        "Accuracy = (TP + TN) / (TP+ TN+ FP+ FN)\n",
        "\n",
        "F1_score = (2 * Precision * Recall)/ (Precision + Recall)\n",
        "\n",
        "print(\"\\nFor class 4 Results\")\n",
        "print(\"Precision:\", Precision)\n",
        "print(\"Recall:\", Recall)\n",
        "print(\"Accuracy:\", Accuracy)\n",
        "print(\"F1 score:\", F1_score)\n",
        "\n",
        "\n",
        "#### You code here\n",
        "\n",
        "# For class 5\n",
        "\n",
        "import numpy as np\n",
        "\n",
        "TP = 16\n",
        "FP = 22\n",
        "TN = 932\n",
        "FN = 35\n",
        "\n",
        "Precision = TP/ (TP + FP)\n",
        "Recall = TP/ (TP + FN)\n",
        "\n",
        "Accuracy = (TP + TN) / (TP+ TN+ FP+ FN)\n",
        "\n",
        "F1_score = (2 * Precision * Recall)/ (Precision + Recall)\n",
        "\n",
        "print(\"\\nFor class 5 Results\")\n",
        "print(\"Precision:\", Precision)\n",
        "print(\"Recall:\", Recall)\n",
        "print(\"Accuracy:\", Accuracy)\n",
        "print(\"F1 score:\", F1_score)\n",
        "\n"
      ],
      "metadata": {
        "colab": {
          "base_uri": "https://localhost:8080/"
        },
        "id": "tgOce7k7o4jl",
        "outputId": "5c919595-a5e6-4d7a-8a14-2274db5608f3"
      },
      "execution_count": 74,
      "outputs": [
        {
          "output_type": "stream",
          "name": "stdout",
          "text": [
            "For class 0 Results\n",
            "Precision: 0.6738197424892703\n",
            "Recall: 0.585820895522388\n",
            "Accuracy: 0.8150346191889218\n",
            "F1 score: 0.626746506986028\n",
            "\n",
            "For class 1 Results\n",
            "Precision: 0.5613382899628253\n",
            "Recall: 0.611336032388664\n",
            "Accuracy: 0.5\n",
            "F1 score: 0.5852713178294574\n",
            "\n",
            "For class 2 Results\n",
            "Precision: 0.5555555555555556\n",
            "Recall: 0.6490384615384616\n",
            "Accuracy: 0.8199004975124378\n",
            "F1 score: 0.598669623059867\n",
            "\n",
            "For class 3 Results\n",
            "Precision: 0.5147058823529411\n",
            "Recall: 0.5645161290322581\n",
            "Accuracy: 0.8805970149253731\n",
            "F1 score: 0.5384615384615384\n",
            "\n",
            "For class 4 Results\n",
            "Precision: 0.6511627906976745\n",
            "Recall: 0.5333333333333333\n",
            "Accuracy: 0.9213930348258706\n",
            "F1 score: 0.5863874345549738\n",
            "\n",
            "For class 5 Results\n",
            "Precision: 0.42105263157894735\n",
            "Recall: 0.3137254901960784\n",
            "Accuracy: 0.9432835820895522\n",
            "F1 score: 0.3595505617977528\n"
          ]
        }
      ]
    },
    {
      "cell_type": "markdown",
      "metadata": {
        "id": "3Cpkk6Kc4LxC"
      },
      "source": [
        "<span style='background:yellow'>**Question 3 (100 pt, each sub-question is 10 pt).**</span> \n",
        "\n",
        "Part A: Given Inetd dataset, an intrusion detection dataset that contains 2 columns. The first column represents a process ID number (PID) and the second column represents a system call. The goal is to extract the entire system call sequence by its PID, then tokenize and parse each sequence into 25-grams. After this, we’ll split the data into training and testing sets. Next, we ensure data quality in the training dataset by removing duplicate sequences within each class and overlapped sequences between both classes. To ensure a fair evaluation, we also clean the testing set by repeating the previous step. You will implement a Decision Tree model to train and test on the training set and testing set that we just clean. \n",
        "\n",
        "\n",
        "Part B: As the data type is sequential, we want to know how similar the sequences from both classes are and visualize how the similarity scores vary in different sequence lengths. Compute a cosine similarity score of 100 random pairs from both classes and get a median cosine similarity. Repeat this step in different sequence lengths (5, 10, 15, and 20). Plot a line chart to visualize how the median cosine similarities vary through sequence lengths of 5 to 25. \n",
        "\n",
        "You can download the datasets from github: https://github.com/unt-iialab/info5502-spring2022/tree/main/finalexam/q4\n",
        "\n",
        "\n",
        "Step by step instructions and questions:\n",
        "\n",
        "(1) Attached are the Normal and Intrusion data folders. Read in the data and store them in two separate dataframes. Combine the system calls (the second column) from the same PID (the first column) into a sequence or a string. \n",
        "\n",
        "(2) Parse an entire sequence into smaller sequences of size 25. (Hint: Use word_tokenize and ngrams from nltk library to parse).\n",
        "\n",
        "(3) Add labels to the data, and partition the labeled data into training data and testing data with a ratio of 70/30.\n",
        "\n",
        "(4) As the dataset has a lot of duplicate sequences, make sure that the testing data only contain unique sequences and that these sequences do not exist in the training data. Condense training data and testing data into two sets. Take the difference between the testing set and training set to remove the overlapped sequences from the testing data. \n",
        "\n",
        "(5) The sequences from each class can be repetitive, and some of these sequences may have different labels. Therefore, we need to remove the duplicate sequences within each class and the overlapped sequences from the Intrusion class. Start out by separating the Normal class and Intrusion class in the training data. Use the same concept in Question 4 to remove duplicate sequences and overlapped sequences from the training data.\n",
        "\n",
        "(6) Repeat Question 5 to clean the testing data.\n",
        "\n",
        "(7) Bootstrap the training data to get the same number of sequences from each class. Train and evaluate a Decision Tree model using the training data and testing data that we just clean. How is the performance?\n",
        "\n",
        "(8) Randomly sample 100 pairs of sequences from both classes and calculate the median cosine similarity.\n",
        "\n",
        "(9) Refer back to Question 2, parse the data into a length of 5, 10, 15, and 20. Clean the data from each class using Question 5. For each sequence length, calculate the median cosine similarity of 100 random pairs of sequences from both classes. \n",
        "\n",
        "(10) Plot a line chart to visualize how the median cosine similarities vary through different sequence lengths from 5 to 25.\n"
      ]
    },
    {
      "cell_type": "code",
      "source": [
        "#Primary headers are already loaded, so we can start with out problem \n",
        "#Reading the data\n",
        "intrusion = pd.read_csv(\"https://raw.githubusercontent.com/unt-iialab/info5502-spring2022/main/finalexam/q4/inetd-intrusion.int\", sep = \" \", header = None)\n",
        "normal = pd.read_csv(\"https://raw.githubusercontent.com/unt-iialab/info5502-spring2022/main/finalexam/q4/inetd-normal.int\", sep = \" \", header = None)\n",
        "\n",
        "intrusion.columns = ['PID', 'SystemCalls']\n",
        "normal.columns = ['PID', 'SystemCalls']\n",
        "\n",
        "print(intrusion.head(2))\n",
        "print()\n",
        "print(normal.head(2))"
      ],
      "metadata": {
        "colab": {
          "base_uri": "https://localhost:8080/"
        },
        "id": "kR0U606miyZ4",
        "outputId": "9fcc2053-3598-4c3e-eda2-220c1fcbc06f"
      },
      "execution_count": 75,
      "outputs": [
        {
          "output_type": "stream",
          "name": "stdout",
          "text": [
            "   PID  SystemCalls\n",
            "0  167           90\n",
            "1  167          125\n",
            "\n",
            "   PID  SystemCalls\n",
            "0  167           90\n",
            "1  167          125\n"
          ]
        }
      ]
    },
    {
      "cell_type": "code",
      "source": [
        "#Describing the data sets we have\n",
        "print(intrusion.describe())\n",
        "print(normal.describe())"
      ],
      "metadata": {
        "colab": {
          "base_uri": "https://localhost:8080/"
        },
        "id": "49R5wj7tjlHo",
        "outputId": "8eefabbe-fc2d-4e03-8121-0d3a6c4076a9"
      },
      "execution_count": 76,
      "outputs": [
        {
          "output_type": "stream",
          "name": "stdout",
          "text": [
            "               PID  SystemCalls\n",
            "count  8371.000000  8371.000000\n",
            "mean   4093.249074    13.621192\n",
            "std    1154.934136    25.679120\n",
            "min     167.000000     1.000000\n",
            "25%    4447.000000     6.000000\n",
            "50%    4455.000000     6.000000\n",
            "75%    4463.000000     6.000000\n",
            "max    4470.000000   136.000000\n",
            "               PID  SystemCalls\n",
            "count   541.000000   541.000000\n",
            "mean   1397.634011    40.417745\n",
            "std    1251.546012    46.519004\n",
            "min     167.000000     1.000000\n",
            "25%     168.000000     6.000000\n",
            "50%     168.000000     6.000000\n",
            "75%    2669.000000    91.000000\n",
            "max    2669.000000   136.000000\n"
          ]
        }
      ]
    },
    {
      "cell_type": "code",
      "source": [
        "#Printing the shape\n",
        "print(intrusion.shape)\n",
        "print(normal.shape)"
      ],
      "metadata": {
        "colab": {
          "base_uri": "https://localhost:8080/"
        },
        "id": "5x-5VQ0TiyhF",
        "outputId": "a75e9ce3-4c42-41a4-be77-cd69421de4e9"
      },
      "execution_count": 77,
      "outputs": [
        {
          "output_type": "stream",
          "name": "stdout",
          "text": [
            "(8371, 2)\n",
            "(541, 2)\n"
          ]
        }
      ]
    },
    {
      "cell_type": "code",
      "source": [
        "#Checking for null values\n",
        "print(normal.any().isna())\n",
        "print('No null values \\n')\n",
        "print(intrusion.any().isna())\n",
        "print('No null values')"
      ],
      "metadata": {
        "colab": {
          "base_uri": "https://localhost:8080/"
        },
        "id": "oJ_QyKP1nNGm",
        "outputId": "d9eca809-448c-4038-fd1b-625603edd0ec"
      },
      "execution_count": 78,
      "outputs": [
        {
          "output_type": "stream",
          "name": "stdout",
          "text": [
            "PID            False\n",
            "SystemCalls    False\n",
            "dtype: bool\n",
            "No null values \n",
            "\n",
            "PID            False\n",
            "SystemCalls    False\n",
            "dtype: bool\n",
            "No null values\n"
          ]
        }
      ]
    },
    {
      "cell_type": "code",
      "source": [
        "#Now creating two dictionaries\n",
        "dict_intrusion = {}\n",
        "dict_normal = {}\n",
        "\n",
        "# combining system calls\n",
        "for pid in list(set(intrusion['PID'].values)):\n",
        "    dict_intrusion[pid] = \" \".join(str(value) for value in list(intrusion[intrusion['PID'] == pid]['SystemCalls'].values))\n",
        "\n",
        "for pid in list(set(normal['PID'].values)):\n",
        "    dict_normal[pid] = \" \".join(str(value) for value in list(normal[normal['PID'] == pid]['SystemCalls'].values))\n",
        "\n",
        "dict_intrusion[167]"
      ],
      "metadata": {
        "colab": {
          "base_uri": "https://localhost:8080/",
          "height": 35
        },
        "id": "etCvwFROiyjn",
        "outputId": "91794614-970d-4d7c-e89c-2c565777bdb1"
      },
      "execution_count": 79,
      "outputs": [
        {
          "output_type": "execute_result",
          "data": {
            "text/plain": [
              "'90 125 125 106 5 90 6 5 3 90 90 90 90 6 125 91 125 125 125 136 49 24 47 50 45 45 5 106 106 106 106 106 2 1'"
            ],
            "application/vnd.google.colaboratory.intrinsic+json": {
              "type": "string"
            }
          },
          "metadata": {},
          "execution_count": 79
        }
      ]
    },
    {
      "cell_type": "code",
      "source": [
        "#Importing other libraries\n",
        "import re\n",
        "from nltk.util import ngrams\n",
        "list_intrusion = []\n",
        "list_normal = []\n",
        "\n",
        "# generating ngrams with sequence length of 25\n",
        "\n",
        "for key in dict_intrusion.keys():\n",
        "    s = dict_intrusion[key]\n",
        "    tokens = [token for token in s.split(\" \") if token != \"\"]\n",
        "    \n",
        "    for ele in list(ngrams(tokens, 25)):\n",
        "        list_intrusion.append(ele)\n",
        "        \n",
        "for key in dict_normal.keys():\n",
        "    s = dict_normal[key]\n",
        "    tokens = [token for token in s.split(\" \") if token != \"\"]\n",
        "    \n",
        "    for ele in list(ngrams(tokens, 25)):\n",
        "        list_normal.append(ele) \n",
        "\n",
        "print(len(list_intrusion))\n",
        "print(len(list_normal))"
      ],
      "metadata": {
        "colab": {
          "base_uri": "https://localhost:8080/"
        },
        "id": "a12Na5Qpiyl8",
        "outputId": "f86eb211-5027-423f-e786-c5686d193327"
      },
      "execution_count": 80,
      "outputs": [
        {
          "output_type": "stream",
          "name": "stdout",
          "text": [
            "7627\n",
            "469\n"
          ]
        }
      ]
    },
    {
      "cell_type": "code",
      "source": [
        "#Transforming the data into dataframes\n",
        "intrusion_data = pd.DataFrame(list_intrusion)\n",
        "normal_data = pd.DataFrame(list_normal)\n",
        "\n",
        "# adding labels to intrusion and normal data sequences\n",
        "intrusion_data['class'] = 1\n",
        "normal_data['class'] = 0\n",
        "\n",
        "print(intrusion_data.shape)\n",
        "print(normal_data.shape)"
      ],
      "metadata": {
        "colab": {
          "base_uri": "https://localhost:8080/"
        },
        "id": "4A3STPOniyoc",
        "outputId": "0d82ae29-7479-4249-c265-e264a3eb1b6a"
      },
      "execution_count": 81,
      "outputs": [
        {
          "output_type": "stream",
          "name": "stdout",
          "text": [
            "(7627, 26)\n",
            "(469, 26)\n"
          ]
        }
      ]
    },
    {
      "cell_type": "code",
      "source": [
        "combined_data = pd.DataFrame()\n",
        "\n",
        "combined_data = combined_data.append(intrusion_data)\n",
        "combined_data = combined_data.append(normal_data)\n",
        "\n",
        "print(combined_data.shape)"
      ],
      "metadata": {
        "colab": {
          "base_uri": "https://localhost:8080/"
        },
        "id": "s9xIeqfDjFcj",
        "outputId": "beabe3af-e6ea-4696-9cce-71a92dc62cbd"
      },
      "execution_count": 82,
      "outputs": [
        {
          "output_type": "stream",
          "name": "stdout",
          "text": [
            "(8096, 26)\n"
          ]
        }
      ]
    },
    {
      "cell_type": "code",
      "source": [
        "combined_data = combined_data.drop_duplicates(subset = combined_data.columns[:-1], keep = 'last')\n",
        "combined_data.shape"
      ],
      "metadata": {
        "colab": {
          "base_uri": "https://localhost:8080/"
        },
        "id": "TheDUvhViyti",
        "outputId": "ec275ab6-7743-4532-bfbf-e919246fc921"
      },
      "execution_count": 83,
      "outputs": [
        {
          "output_type": "execute_result",
          "data": {
            "text/plain": [
              "(333, 26)"
            ]
          },
          "metadata": {},
          "execution_count": 83
        }
      ]
    },
    {
      "cell_type": "code",
      "source": [
        "combined_data.columns[:-1]"
      ],
      "metadata": {
        "colab": {
          "base_uri": "https://localhost:8080/"
        },
        "id": "_v137xoHiywY",
        "outputId": "becf21eb-7cac-444b-d8b4-79b3cc65a8d1"
      },
      "execution_count": 84,
      "outputs": [
        {
          "output_type": "execute_result",
          "data": {
            "text/plain": [
              "Index([ 0,  1,  2,  3,  4,  5,  6,  7,  8,  9, 10, 11, 12, 13, 14, 15, 16, 17,\n",
              "       18, 19, 20, 21, 22, 23, 24],\n",
              "      dtype='object')"
            ]
          },
          "metadata": {},
          "execution_count": 84
        }
      ]
    },
    {
      "cell_type": "code",
      "source": [
        "# Importing the required libraries to build a decision tree\n",
        "from sklearn.tree import DecisionTreeClassifier\n",
        "from sklearn import preprocessing\n",
        "from sklearn.metrics import classification_report\n",
        "from sklearn.model_selection import train_test_split\n",
        "\n",
        "x = combined_data.drop(\"class\", axis = 1)\n",
        "y = combined_data['class']\n",
        "#Spiltting the data into 70/30 as given in the question \n",
        "x_train, x_test, y_train, y_test = train_test_split(x, y, test_size = 0.3, random_state = 5)\n",
        "#Defining the Decision Tree\n",
        "DT = DecisionTreeClassifier(max_depth = 10)\n",
        "DT.fit(x_train, y_train)\n",
        "y_pred = DT.predict(x_test)\n",
        "#Printing the Report\n",
        "print(classification_report(y_test, y_pred))"
      ],
      "metadata": {
        "colab": {
          "base_uri": "https://localhost:8080/"
        },
        "id": "F5t6RfvJiyyy",
        "outputId": "f0ba89e2-50c9-4f5f-9f4c-d740bbe1e508"
      },
      "execution_count": 86,
      "outputs": [
        {
          "output_type": "stream",
          "name": "stdout",
          "text": [
            "              precision    recall  f1-score   support\n",
            "\n",
            "           0       0.88      0.83      0.85        46\n",
            "           1       0.86      0.91      0.88        54\n",
            "\n",
            "    accuracy                           0.87       100\n",
            "   macro avg       0.87      0.87      0.87       100\n",
            "weighted avg       0.87      0.87      0.87       100\n",
            "\n"
          ]
        }
      ]
    },
    {
      "cell_type": "code",
      "source": [
        "#Ngrams"
      ],
      "metadata": {
        "id": "OzwwFRhniy1e"
      },
      "execution_count": 87,
      "outputs": []
    },
    {
      "cell_type": "code",
      "source": [
        "import re\n",
        "from nltk.util import ngrams\n",
        "import pandas as pd\n",
        "\n",
        "cosine_similar_ngram = {}\n",
        "\n",
        "for ngram in range(5, 26, 5):\n",
        "\n",
        "    intrusion = pd.read_csv(\"https://raw.githubusercontent.com/unt-iialab/info5502-spring2022/main/finalexam/q4/inetd-intrusion.int\", sep = \" \", header = None)\n",
        "    normal = pd.read_csv(\"https://raw.githubusercontent.com/unt-iialab/info5502-spring2022/main/finalexam/q4/inetd-normal.int\", sep = \" \", header = None)\n",
        "\n",
        "    intrusion.columns = ['PID', 'SystemCalls']\n",
        "    normal.columns = ['PID', 'SystemCalls']\n",
        "\n",
        "    dict_intrusion = {}\n",
        "    dict_normal_ = {}\n",
        "\n",
        "    for pid in list(set(intrusion['PID'].values)):\n",
        "        dict_intrusion[pid] = \" \".join(str(value) for value in list(intrusion[intrusion['PID'] == pid]['SystemCalls'].values))\n",
        "\n",
        "    for pid in list(set(normal['PID'].values)):\n",
        "        dict_normal[pid] = \" \".join(str(value) for value in list(normal[normal['PID'] == pid]['SystemCalls'].values))\n",
        "\n",
        "    list_intrusion = []\n",
        "    list_normal = []\n",
        "    for key in dict_intrusion.keys():\n",
        "        s = dict_intrusion[key]\n",
        "        tokens = [token for token in s.split(\" \") if token != \"\"]\n",
        "\n",
        "        for ele in list(ngrams(tokens, ngram)):\n",
        "            list_intrusion.append(ele)\n",
        "\n",
        "    for key in dict_normal.keys():\n",
        "        s = dict_normal[key]\n",
        "        tokens = [token for token in s.split(\" \") if token != \"\"]\n",
        "\n",
        "        for ele in list(ngrams(tokens, ngram)):\n",
        "            list_normal.append(ele)\n",
        "\n",
        "    intrusion_data = pd.DataFrame(list_intrusion)\n",
        "    normal_data = pd.DataFrame(list_normal)\n",
        "\n",
        "    intrusion_data['class'] = 1\n",
        "    normal_data['class'] = 0\n",
        "\n",
        "    combined_data = pd.DataFrame()\n",
        "\n",
        "    combined_data = combined_data.append(intrusion_data)\n",
        "    combined_data = combined_data.append(normal_data)\n",
        "\n",
        "    print(combined_data.shape)\n",
        "    print()\n",
        "\n",
        "\n",
        "    combined_data = combined_data.drop_duplicates(subset = combined_data.columns[:-1], keep = 'last')\n",
        "    print(combined_data.shape)\n",
        "    print()\n",
        "\n",
        "    from sklearn.metrics.pairwise import cosine_similarity\n",
        "    import statistics\n",
        "\n",
        "    similarities_list = []\n",
        "    for i in range(0, 100):\n",
        "        list1 = list(combined_data[combined_data['class'] == 0].sample(n = 1).iloc[0, :].values)\n",
        "        list2 = list(combined_data[combined_data['class'] == 1].sample(n = 1).iloc[0, :].values)\n",
        "        try:\n",
        "            similarities_list.append(cosine_similarity([list1], [list2]))\n",
        "        except Exception as e:\n",
        "            print(e)\n",
        "            print(list1, list2)\n",
        "\n",
        "    print(statistics.median(similarities_list)[0][0])\n",
        "    print()\n",
        "    cosine_similar_ngram[ngram] = statistics.median(similarities_list)[0][0]"
      ],
      "metadata": {
        "colab": {
          "base_uri": "https://localhost:8080/"
        },
        "id": "QH3kNsvMiy4I",
        "outputId": "75120c4f-3fb1-42a1-cd1f-2999b086c85f"
      },
      "execution_count": 88,
      "outputs": [
        {
          "output_type": "stream",
          "name": "stdout",
          "text": [
            "(8776, 6)\n",
            "\n",
            "(168, 6)\n",
            "\n",
            "0.7775200866708133\n",
            "\n",
            "(8606, 11)\n",
            "\n",
            "(213, 11)\n",
            "\n",
            "0.7187352030094415\n",
            "\n",
            "(8436, 16)\n",
            "\n",
            "(254, 16)\n",
            "\n",
            "0.7222135043801897\n",
            "\n",
            "(8266, 21)\n",
            "\n",
            "(293, 21)\n",
            "\n",
            "0.7351240337833542\n",
            "\n",
            "(8096, 26)\n",
            "\n",
            "(333, 26)\n",
            "\n",
            "0.7108863077661752\n",
            "\n"
          ]
        }
      ]
    },
    {
      "cell_type": "code",
      "source": [
        "import matplotlib.pyplot as plt\n",
        "import seaborn as sns\n",
        "\n",
        "cosine_similar_ngram_df = pd.DataFrame({\"Ngram\":list(cosine_similar_ngram.keys()), \"Similarity_scores\": list(cosine_similar_ngram.values())})\n",
        "\n",
        "\n",
        "plt.rcParams['figure.figsize'] = [15, 7]\n",
        "\n",
        "# we iterate through each ngram range class and plot the line chart\n",
        "sns.lineplot(x = \"Ngram\", y = \"Similarity_scores\", data = cosine_similar_ngram_df)\n",
        "    \n",
        "plt.title(\"Cosine similarity scores using Line Chart\")\n",
        "plt.xlabel(\"Ngram\")\n",
        "plt.ylabel(\"Cosine similarity scores\")\n",
        "plt.xticks(rotation = 90)\n",
        "plt.show()"
      ],
      "metadata": {
        "colab": {
          "base_uri": "https://localhost:8080/",
          "height": 471
        },
        "id": "G3kxP84Liy6h",
        "outputId": "c03a599d-a0c0-4591-9b99-97462ec08ec4"
      },
      "execution_count": 89,
      "outputs": [
        {
          "output_type": "display_data",
          "data": {
            "text/plain": [
              "<Figure size 1080x504 with 1 Axes>"
            ],
            "image/png": "[encoded data removed]"
          },
          "metadata": {
            "needs_background": "light"
          }
        }
      ]
    },
    {
      "cell_type": "code",
      "source": [
        "from sklearn import tree"
      ],
      "metadata": {
        "id": "pKsATDrOV1yQ"
      },
      "execution_count": 90,
      "outputs": []
    },
    {
      "cell_type": "code",
      "source": [
        "plt.figure(figsize=(20,25))\n",
        "tree.plot_tree(DT,filled=True)"
      ],
      "metadata": {
        "colab": {
          "base_uri": "https://localhost:8080/",
          "height": 1000
        },
        "id": "4qe3q1BkV104",
        "outputId": "05cd1d35-2a98-4527-e57a-1866876e51bb"
      },
      "execution_count": 91,
      "outputs": [
        {
          "output_type": "execute_result",
          "data": {
            "text/plain": [
              "[Text(0.6898584905660378, 0.95, 'X[3] <= 111.0\\ngini = 0.498\\nsamples = 233\\nvalue = [110, 123]'),\n",
              " Text(0.455188679245283, 0.85, 'X[3] <= 86.0\\ngini = 0.492\\nsamples = 183\\nvalue = [103, 80]'),\n",
              " Text(0.21226415094339623, 0.75, 'X[6] <= 9.5\\ngini = 0.487\\nsamples = 122\\nvalue = [51, 71]'),\n",
              " Text(0.07547169811320754, 0.65, 'X[12] <= 108.0\\ngini = 0.227\\nsamples = 23\\nvalue = [20, 3]'),\n",
              " Text(0.03773584905660377, 0.55, 'gini = 0.0\\nsamples = 20\\nvalue = [20, 0]'),\n",
              " Text(0.11320754716981132, 0.55, 'gini = 0.0\\nsamples = 3\\nvalue = [0, 3]'),\n",
              " Text(0.3490566037735849, 0.65, 'X[4] <= 23.5\\ngini = 0.43\\nsamples = 99\\nvalue = [31, 68]'),\n",
              " Text(0.18867924528301888, 0.55, 'X[19] <= 111.0\\ngini = 0.33\\nsamples = 24\\nvalue = [19, 5]'),\n",
              " Text(0.11320754716981132, 0.45, 'X[2] <= 108.5\\ngini = 0.1\\nsamples = 19\\nvalue = [18, 1]'),\n",
              " Text(0.07547169811320754, 0.35, 'gini = 0.0\\nsamples = 18\\nvalue = [18, 0]'),\n",
              " Text(0.1509433962264151, 0.35, 'gini = 0.0\\nsamples = 1\\nvalue = [0, 1]'),\n",
              " Text(0.2641509433962264, 0.45, 'X[23] <= 58.5\\ngini = 0.32\\nsamples = 5\\nvalue = [1, 4]'),\n",
              " Text(0.22641509433962265, 0.35, 'gini = 0.0\\nsamples = 1\\nvalue = [1, 0]'),\n",
              " Text(0.3018867924528302, 0.35, 'gini = 0.0\\nsamples = 4\\nvalue = [0, 4]'),\n",
              " Text(0.5094339622641509, 0.55, 'X[2] <= 72.5\\ngini = 0.269\\nsamples = 75\\nvalue = [12, 63]'),\n",
              " Text(0.41509433962264153, 0.45, 'X[1] <= 9.5\\ngini = 0.43\\nsamples = 32\\nvalue = [10, 22]'),\n",
              " Text(0.37735849056603776, 0.35, 'gini = 0.0\\nsamples = 6\\nvalue = [6, 0]'),\n",
              " Text(0.4528301886792453, 0.35, 'X[22] <= 41.0\\ngini = 0.26\\nsamples = 26\\nvalue = [4, 22]'),\n",
              " Text(0.37735849056603776, 0.25, 'X[2] <= 40.0\\ngini = 0.48\\nsamples = 5\\nvalue = [3, 2]'),\n",
              " Text(0.33962264150943394, 0.15, 'gini = 0.0\\nsamples = 2\\nvalue = [0, 2]'),\n",
              " Text(0.41509433962264153, 0.15, 'gini = 0.0\\nsamples = 3\\nvalue = [3, 0]'),\n",
              " Text(0.5283018867924528, 0.25, 'X[11] <= 120.0\\ngini = 0.091\\nsamples = 21\\nvalue = [1, 20]'),\n",
              " Text(0.49056603773584906, 0.15, 'gini = 0.0\\nsamples = 18\\nvalue = [0, 18]'),\n",
              " Text(0.5660377358490566, 0.15, 'X[1] <= 40.0\\ngini = 0.444\\nsamples = 3\\nvalue = [1, 2]'),\n",
              " Text(0.5283018867924528, 0.05, 'gini = 0.0\\nsamples = 2\\nvalue = [0, 2]'),\n",
              " Text(0.6037735849056604, 0.05, 'gini = 0.0\\nsamples = 1\\nvalue = [1, 0]'),\n",
              " Text(0.6037735849056604, 0.45, 'X[1] <= 61.0\\ngini = 0.089\\nsamples = 43\\nvalue = [2, 41]'),\n",
              " Text(0.5660377358490566, 0.35, 'gini = 0.0\\nsamples = 37\\nvalue = [0, 37]'),\n",
              " Text(0.6415094339622641, 0.35, 'X[15] <= 122.5\\ngini = 0.444\\nsamples = 6\\nvalue = [2, 4]'),\n",
              " Text(0.6037735849056604, 0.25, 'gini = 0.0\\nsamples = 4\\nvalue = [0, 4]'),\n",
              " Text(0.6792452830188679, 0.25, 'gini = 0.0\\nsamples = 2\\nvalue = [2, 0]'),\n",
              " Text(0.6981132075471698, 0.75, 'X[6] <= 4.0\\ngini = 0.252\\nsamples = 61\\nvalue = [52, 9]'),\n",
              " Text(0.6226415094339622, 0.65, 'X[4] <= 78.5\\ngini = 0.198\\nsamples = 9\\nvalue = [1, 8]'),\n",
              " Text(0.5849056603773585, 0.55, 'gini = 0.0\\nsamples = 8\\nvalue = [0, 8]'),\n",
              " Text(0.660377358490566, 0.55, 'gini = 0.0\\nsamples = 1\\nvalue = [1, 0]'),\n",
              " Text(0.7735849056603774, 0.65, 'X[7] <= 4.0\\ngini = 0.038\\nsamples = 52\\nvalue = [51, 1]'),\n",
              " Text(0.7358490566037735, 0.55, 'X[18] <= 84.5\\ngini = 0.5\\nsamples = 2\\nvalue = [1, 1]'),\n",
              " Text(0.6981132075471698, 0.45, 'gini = 0.0\\nsamples = 1\\nvalue = [1, 0]'),\n",
              " Text(0.7735849056603774, 0.45, 'gini = 0.0\\nsamples = 1\\nvalue = [0, 1]'),\n",
              " Text(0.8113207547169812, 0.55, 'gini = 0.0\\nsamples = 50\\nvalue = [50, 0]'),\n",
              " Text(0.9245283018867925, 0.85, 'X[8] <= 23.0\\ngini = 0.241\\nsamples = 50\\nvalue = [7, 43]'),\n",
              " Text(0.8867924528301887, 0.75, 'X[9] <= 23.0\\ngini = 0.346\\nsamples = 9\\nvalue = [7, 2]'),\n",
              " Text(0.8490566037735849, 0.65, 'gini = 0.0\\nsamples = 7\\nvalue = [7, 0]'),\n",
              " Text(0.9245283018867925, 0.65, 'gini = 0.0\\nsamples = 2\\nvalue = [0, 2]'),\n",
              " Text(0.9622641509433962, 0.75, 'gini = 0.0\\nsamples = 41\\nvalue = [0, 41]')]"
            ]
          },
          "metadata": {},
          "execution_count": 91
        },
        {
          "output_type": "display_data",
          "data": {
            "text/plain": [
              "<Figure size 1440x1800 with 1 Axes>"
            ],
            "image/png": "[encoded data removed]"
          },
          "metadata": {
            "needs_background": "light"
          }
        }
      ]
    },
    {
      "cell_type": "markdown",
      "metadata": {
        "id": "F2mzxdZs4LxH"
      },
      "source": [
        "<span style='background:yellow'>**Question 4 (60 pt, each sub-question is 20 pt).**</span> In the world of business, the importance of the customers’ reviews for any product is not ignorable. The impact of customers’ reviews on customer’s decision making is significant. Therefore, businesses try to increase this impact by increasing the ratio of the positive reviews to negative reviews. One effective way to increase the ratio is offering the incentives such as small gifts or free next services to customers to post the reviews for item they purchase or used. However, it is not always the case, and customer may post their reviews without receiving or accepting the incentives. So, the reviews could be in either incentivized or non-incentivized category.\n",
        "\n",
        "\n",
        "Considering the importance of reviews, in this question you need to compare these two categories of reviews. One method to compare the effectiveness of two categories is conducting the A/B testing.\n",
        "\n",
        "\n",
        "The Software_Reviews dataset is collected from software review products, and it is combination of several small datasets. Find the dataset as an attachment on the left side of the page.\n",
        "\n",
        "\n",
        "You can downlaod the dataset from github: https://github.com/unt-iialab/info5502-spring2022/blob/main/finalexam/Software_Reviews_csv_files_S.csv\n",
        "\n",
        "(1) Clean the dataset before you use (You need to know this dataset is combinations of the several CSV files with title rows. So, there are extra title rows in the middle of the file, which they need to be removed.)\n",
        "\n",
        "\n",
        "(2) Apply an A/B test\": consider the “incentivized” column as main column for A & B groups.\n",
        "\n",
        "a. The “incentivized” column includes ‘NominalGift’, ‘VendorReferredIncentivized’, ‘NoIncentive’, ‘NonNominalGift’, ‘VendorReferred’, ‘None’\n",
        "\n",
        "b. Group A (Incentive): ‘NominalGift’, and ‘VendorReferredIncentivized’\n",
        "\n",
        "c. Group B (NoIncentive): ‘NoIncentive’, ‘NonNominalGift’, ‘VendorReferred’\n",
        "\n",
        "d. Make the decision if ‘None’ includes in either Group A or B or remove that.\n",
        "\n",
        "e. The “OverAllRating” is another column that is used to compare groups A and B.\n",
        "\n",
        "Which one A or B group has higher “OverAllRating”?\n",
        "\n",
        "\n",
        "(3) Draw the A/B testing related visualizations."
      ]
    },
    {
      "cell_type": "code",
      "execution_count": 92,
      "metadata": {
        "id": "yK8gTsdf4LxI"
      },
      "outputs": [],
      "source": [
        "#### You code and your answer here here\n",
        "df3 = pd.read_csv('https://raw.githubusercontent.com/unt-iialab/info5502-spring2022/main/finalexam/Software_Reviews_csv_files_S.csv')"
      ]
    },
    {
      "cell_type": "code",
      "source": [
        "df3.head(5)"
      ],
      "metadata": {
        "colab": {
          "base_uri": "https://localhost:8080/",
          "height": 647
        },
        "id": "DmNQ7joDEss2",
        "outputId": "4c1e96aa-48f6-48a5-a508-72741adb3ad9"
      },
      "execution_count": 93,
      "outputs": [
        {
          "output_type": "execute_result",
          "data": {
            "text/plain": [
              "   Unnamed: 0 Unnamed: 0.1       id     status         global_review_id  \\\n",
              "0         0.0            0    13879  Published           GetApp___14383   \n",
              "1         1.0            1  1283833  Published  SoftwareAdvice___434035   \n",
              "2         2.0            2   841881  Published        Capterra___330384   \n",
              "3         3.0            3  1060237  Published  SoftwareAdvice___390950   \n",
              "4         4.0            4    13939  Published           GetApp___14453   \n",
              "\n",
              "  hash_global_review_id listing_id  \\\n",
              "0            f7535d1342      90666   \n",
              "1            8b72a5b935      90666   \n",
              "2            0d580775b7      90666   \n",
              "3            a36d0ef509      90666   \n",
              "4            efc7312240      90666   \n",
              "\n",
              "                                               title is_rating     score  ...  \\\n",
              "0                  The best CRM solution we've found     FALSE  4.462893  ...   \n",
              "1       Reasonable CRM software for small businesses     FALSE  4.462893  ...   \n",
              "2  Security certificate warning, basic lists inac...     FALSE  4.462893  ...   \n",
              "3  1CRM is a great started CRM for a Service Company     FALSE  4.462893  ...   \n",
              "4  Excellent business management app for the SMB ...     FALSE  4.462893  ...   \n",
              "\n",
              "  is_verified   full_name                     company_industry  \\\n",
              "0        TRUE   Marcus B.  Information Technology and Services   \n",
              "1       FALSE  Rushang D.            Marketing and Advertising   \n",
              "2       FALSE   Julian G.                    Computer Hardware   \n",
              "3       FALSE    James C.                Management Consulting   \n",
              "4        TRUE  Jacques G.                   Telecommunications   \n",
              "\n",
              "  frequency_of_use    time_used          source incentivized  \\\n",
              "0              NaN    1-2 years          GetApp          NaN   \n",
              "1            daily     2+ years  SoftwareAdvice  NominalGift   \n",
              "2            daily  6-12 months        Capterra  NominalGift   \n",
              "3            daily    1-2 years  SoftwareAdvice  NominalGift   \n",
              "4              NaN    1-2 years          GetApp          NaN   \n",
              "\n",
              "  ReviewDescription_score   Pros_score   Unnamed: 27  \n",
              "0             0.993886769  0.994333982  1.850533e+04  \n",
              "1             0.998566568   0.99880743  1.711777e+06  \n",
              "2             0.999743998  0.996420145  1.122507e+06  \n",
              "3             0.938319802  0.986604214  1.413648e+06  \n",
              "4             0.985312879  0.996334434  1.858400e+04  \n",
              "\n",
              "[5 rows x 28 columns]"
            ],
            "text/html": [
              "\n",
              "  <div id=\"df-92626ab9-a8a3-4256-bcd1-d58c74f06a52\">\n",
              "    <div class=\"colab-df-container\">\n",
              "      <div>\n",
              "<style scoped>\n",
              "    .dataframe tbody tr th:only-of-type {\n",
              "        vertical-align: middle;\n",
              "    }\n",
              "\n",
              "    .dataframe tbody tr th {\n",
              "        vertical-align: top;\n",
              "    }\n",
              "\n",
              "    .dataframe thead th {\n",
              "        text-align: right;\n",
              "    }\n",
              "</style>\n",
              "<table border=\"1\" class=\"dataframe\">\n",
              "  <thead>\n",
              "    <tr style=\"text-align: right;\">\n",
              "      <th></th>\n",
              "      <th>Unnamed: 0</th>\n",
              "      <th>Unnamed: 0.1</th>\n",
              "      <th>id</th>\n",
              "      <th>status</th>\n",
              "      <th>global_review_id</th>\n",
              "      <th>hash_global_review_id</th>\n",
              "      <th>listing_id</th>\n",
              "      <th>title</th>\n",
              "      <th>is_rating</th>\n",
              "      <th>score</th>\n",
              "      <th>...</th>\n",
              "      <th>is_verified</th>\n",
              "      <th>full_name</th>\n",
              "      <th>company_industry</th>\n",
              "      <th>frequency_of_use</th>\n",
              "      <th>time_used</th>\n",
              "      <th>source</th>\n",
              "      <th>incentivized</th>\n",
              "      <th>ReviewDescription_score</th>\n",
              "      <th>Pros_score</th>\n",
              "      <th>Unnamed: 27</th>\n",
              "    </tr>\n",
              "  </thead>\n",
              "  <tbody>\n",
              "    <tr>\n",
              "      <th>0</th>\n",
              "      <td>0.0</td>\n",
              "      <td>0</td>\n",
              "      <td>13879</td>\n",
              "      <td>Published</td>\n",
              "      <td>GetApp___14383</td>\n",
              "      <td>f7535d1342</td>\n",
              "      <td>90666</td>\n",
              "      <td>The best CRM solution we've found</td>\n",
              "      <td>FALSE</td>\n",
              "      <td>4.462893</td>\n",
              "      <td>...</td>\n",
              "      <td>TRUE</td>\n",
              "      <td>Marcus B.</td>\n",
              "      <td>Information Technology and Services</td>\n",
              "      <td>NaN</td>\n",
              "      <td>1-2 years</td>\n",
              "      <td>GetApp</td>\n",
              "      <td>NaN</td>\n",
              "      <td>0.993886769</td>\n",
              "      <td>0.994333982</td>\n",
              "      <td>1.850533e+04</td>\n",
              "    </tr>\n",
              "    <tr>\n",
              "      <th>1</th>\n",
              "      <td>1.0</td>\n",
              "      <td>1</td>\n",
              "      <td>1283833</td>\n",
              "      <td>Published</td>\n",
              "      <td>SoftwareAdvice___434035</td>\n",
              "      <td>8b72a5b935</td>\n",
              "      <td>90666</td>\n",
              "      <td>Reasonable CRM software for small businesses</td>\n",
              "      <td>FALSE</td>\n",
              "      <td>4.462893</td>\n",
              "      <td>...</td>\n",
              "      <td>FALSE</td>\n",
              "      <td>Rushang D.</td>\n",
              "      <td>Marketing and Advertising</td>\n",
              "      <td>daily</td>\n",
              "      <td>2+ years</td>\n",
              "      <td>SoftwareAdvice</td>\n",
              "      <td>NominalGift</td>\n",
              "      <td>0.998566568</td>\n",
              "      <td>0.99880743</td>\n",
              "      <td>1.711777e+06</td>\n",
              "    </tr>\n",
              "    <tr>\n",
              "      <th>2</th>\n",
              "      <td>2.0</td>\n",
              "      <td>2</td>\n",
              "      <td>841881</td>\n",
              "      <td>Published</td>\n",
              "      <td>Capterra___330384</td>\n",
              "      <td>0d580775b7</td>\n",
              "      <td>90666</td>\n",
              "      <td>Security certificate warning, basic lists inac...</td>\n",
              "      <td>FALSE</td>\n",
              "      <td>4.462893</td>\n",
              "      <td>...</td>\n",
              "      <td>FALSE</td>\n",
              "      <td>Julian G.</td>\n",
              "      <td>Computer Hardware</td>\n",
              "      <td>daily</td>\n",
              "      <td>6-12 months</td>\n",
              "      <td>Capterra</td>\n",
              "      <td>NominalGift</td>\n",
              "      <td>0.999743998</td>\n",
              "      <td>0.996420145</td>\n",
              "      <td>1.122507e+06</td>\n",
              "    </tr>\n",
              "    <tr>\n",
              "      <th>3</th>\n",
              "      <td>3.0</td>\n",
              "      <td>3</td>\n",
              "      <td>1060237</td>\n",
              "      <td>Published</td>\n",
              "      <td>SoftwareAdvice___390950</td>\n",
              "      <td>a36d0ef509</td>\n",
              "      <td>90666</td>\n",
              "      <td>1CRM is a great started CRM for a Service Company</td>\n",
              "      <td>FALSE</td>\n",
              "      <td>4.462893</td>\n",
              "      <td>...</td>\n",
              "      <td>FALSE</td>\n",
              "      <td>James C.</td>\n",
              "      <td>Management Consulting</td>\n",
              "      <td>daily</td>\n",
              "      <td>1-2 years</td>\n",
              "      <td>SoftwareAdvice</td>\n",
              "      <td>NominalGift</td>\n",
              "      <td>0.938319802</td>\n",
              "      <td>0.986604214</td>\n",
              "      <td>1.413648e+06</td>\n",
              "    </tr>\n",
              "    <tr>\n",
              "      <th>4</th>\n",
              "      <td>4.0</td>\n",
              "      <td>4</td>\n",
              "      <td>13939</td>\n",
              "      <td>Published</td>\n",
              "      <td>GetApp___14453</td>\n",
              "      <td>efc7312240</td>\n",
              "      <td>90666</td>\n",
              "      <td>Excellent business management app for the SMB ...</td>\n",
              "      <td>FALSE</td>\n",
              "      <td>4.462893</td>\n",
              "      <td>...</td>\n",
              "      <td>TRUE</td>\n",
              "      <td>Jacques G.</td>\n",
              "      <td>Telecommunications</td>\n",
              "      <td>NaN</td>\n",
              "      <td>1-2 years</td>\n",
              "      <td>GetApp</td>\n",
              "      <td>NaN</td>\n",
              "      <td>0.985312879</td>\n",
              "      <td>0.996334434</td>\n",
              "      <td>1.858400e+04</td>\n",
              "    </tr>\n",
              "  </tbody>\n",
              "</table>\n",
              "<p>5 rows × 28 columns</p>\n",
              "</div>\n",
              "      <button class=\"colab-df-convert\" onclick=\"convertToInteractive('df-92626ab9-a8a3-4256-bcd1-d58c74f06a52')\"\n",
              "              title=\"Convert this dataframe to an interactive table.\"\n",
              "              style=\"display:none;\">\n",
              "        \n",
              "  <svg xmlns=\"http://www.w3.org/2000/svg\" height=\"24px\"viewBox=\"0 0 24 24\"\n",
              "       width=\"24px\">\n",
              "    <path d=\"M0 0h24v24H0V0z\" fill=\"none\"/>\n",
              "    <path d=\"M18.56 5.44l.94 2.06.94-2.06 2.06-.94-2.06-.94-.94-2.06-.94 2.06-2.06.94zm-11 1L8.5 8.5l.94-2.06 2.06-.94-2.06-.94L8.5 2.5l-.94 2.06-2.06.94zm10 10l.94 2.06.94-2.06 2.06-.94-2.06-.94-.94-2.06-.94 2.06-2.06.94z\"/><path d=\"M17.41 7.96l-1.37-1.37c-.4-.4-.92-.59-1.43-.59-.52 0-1.04.2-1.43.59L10.3 9.45l-7.72 7.72c-.78.78-.78 2.05 0 2.83L4 21.41c.39.39.9.59 1.41.59.51 0 1.02-.2 1.41-.59l7.78-7.78 2.81-2.81c.8-.78.8-2.07 0-2.86zM5.41 20L4 18.59l7.72-7.72 1.47 1.35L5.41 20z\"/>\n",
              "  </svg>\n",
              "      </button>\n",
              "      \n",
              "  <style>\n",
              "    .colab-df-container {\n",
              "      display:flex;\n",
              "      flex-wrap:wrap;\n",
              "      gap: 12px;\n",
              "    }\n",
              "\n",
              "    .colab-df-convert {\n",
              "      background-color: #E8F0FE;\n",
              "      border: none;\n",
              "      border-radius: 50%;\n",
              "      cursor: pointer;\n",
              "      display: none;\n",
              "      fill: #1967D2;\n",
              "      height: 32px;\n",
              "      padding: 0 0 0 0;\n",
              "      width: 32px;\n",
              "    }\n",
              "\n",
              "    .colab-df-convert:hover {\n",
              "      background-color: #E2EBFA;\n",
              "      box-shadow: 0px 1px 2px rgba(60, 64, 67, 0.3), 0px 1px 3px 1px rgba(60, 64, 67, 0.15);\n",
              "      fill: #174EA6;\n",
              "    }\n",
              "\n",
              "    [theme=dark] .colab-df-convert {\n",
              "      background-color: #3B4455;\n",
              "      fill: #D2E3FC;\n",
              "    }\n",
              "\n",
              "    [theme=dark] .colab-df-convert:hover {\n",
              "      background-color: #434B5C;\n",
              "      box-shadow: 0px 1px 3px 1px rgba(0, 0, 0, 0.15);\n",
              "      filter: drop-shadow(0px 1px 2px rgba(0, 0, 0, 0.3));\n",
              "      fill: #FFFFFF;\n",
              "    }\n",
              "  </style>\n",
              "\n",
              "      <script>\n",
              "        const buttonEl =\n",
              "          document.querySelector('#df-92626ab9-a8a3-4256-bcd1-d58c74f06a52 button.colab-df-convert');\n",
              "        buttonEl.style.display =\n",
              "          google.colab.kernel.accessAllowed ? 'block' : 'none';\n",
              "\n",
              "        async function convertToInteractive(key) {\n",
              "          const element = document.querySelector('#df-92626ab9-a8a3-4256-bcd1-d58c74f06a52');\n",
              "          const dataTable =\n",
              "            await google.colab.kernel.invokeFunction('convertToInteractive',\n",
              "                                                     [key], {});\n",
              "          if (!dataTable) return;\n",
              "\n",
              "          const docLinkHtml = 'Like what you see? Visit the ' +\n",
              "            '<a target=\"_blank\" href=https://colab.research.google.com/notebooks/data_table.ipynb>data table notebook</a>'\n",
              "            + ' to learn more about interactive tables.';\n",
              "          element.innerHTML = '';\n",
              "          dataTable['output_type'] = 'display_data';\n",
              "          await google.colab.output.renderOutput(dataTable, element);\n",
              "          const docLink = document.createElement('div');\n",
              "          docLink.innerHTML = docLinkHtml;\n",
              "          element.appendChild(docLink);\n",
              "        }\n",
              "      </script>\n",
              "    </div>\n",
              "  </div>\n",
              "  "
            ]
          },
          "metadata": {},
          "execution_count": 93
        }
      ]
    },
    {
      "cell_type": "code",
      "source": [
        "df3.describe()"
      ],
      "metadata": {
        "colab": {
          "base_uri": "https://localhost:8080/",
          "height": 300
        },
        "id": "dAa-zrY-EuXk",
        "outputId": "08061e7b-5a3e-462a-bacf-5757a857e9c1"
      },
      "execution_count": 94,
      "outputs": [
        {
          "output_type": "execute_result",
          "data": {
            "text/plain": [
              "        Unnamed: 0   Unnamed: 27\n",
              "count  2988.000000  2.988000e+03\n",
              "mean    450.589023  5.050132e+06\n",
              "std     407.422849  4.100959e+06\n",
              "min       0.000000  2.183333e+03\n",
              "25%      91.750000  1.009062e+06\n",
              "50%     337.000000  3.758420e+06\n",
              "75%     687.250000  9.036861e+06\n",
              "max    1434.000000  1.157468e+07"
            ],
            "text/html": [
              "\n",
              "  <div id=\"df-c44a23fd-b488-4777-b926-18669f0a3aa1\">\n",
              "    <div class=\"colab-df-container\">\n",
              "      <div>\n",
              "<style scoped>\n",
              "    .dataframe tbody tr th:only-of-type {\n",
              "        vertical-align: middle;\n",
              "    }\n",
              "\n",
              "    .dataframe tbody tr th {\n",
              "        vertical-align: top;\n",
              "    }\n",
              "\n",
              "    .dataframe thead th {\n",
              "        text-align: right;\n",
              "    }\n",
              "</style>\n",
              "<table border=\"1\" class=\"dataframe\">\n",
              "  <thead>\n",
              "    <tr style=\"text-align: right;\">\n",
              "      <th></th>\n",
              "      <th>Unnamed: 0</th>\n",
              "      <th>Unnamed: 27</th>\n",
              "    </tr>\n",
              "  </thead>\n",
              "  <tbody>\n",
              "    <tr>\n",
              "      <th>count</th>\n",
              "      <td>2988.000000</td>\n",
              "      <td>2.988000e+03</td>\n",
              "    </tr>\n",
              "    <tr>\n",
              "      <th>mean</th>\n",
              "      <td>450.589023</td>\n",
              "      <td>5.050132e+06</td>\n",
              "    </tr>\n",
              "    <tr>\n",
              "      <th>std</th>\n",
              "      <td>407.422849</td>\n",
              "      <td>4.100959e+06</td>\n",
              "    </tr>\n",
              "    <tr>\n",
              "      <th>min</th>\n",
              "      <td>0.000000</td>\n",
              "      <td>2.183333e+03</td>\n",
              "    </tr>\n",
              "    <tr>\n",
              "      <th>25%</th>\n",
              "      <td>91.750000</td>\n",
              "      <td>1.009062e+06</td>\n",
              "    </tr>\n",
              "    <tr>\n",
              "      <th>50%</th>\n",
              "      <td>337.000000</td>\n",
              "      <td>3.758420e+06</td>\n",
              "    </tr>\n",
              "    <tr>\n",
              "      <th>75%</th>\n",
              "      <td>687.250000</td>\n",
              "      <td>9.036861e+06</td>\n",
              "    </tr>\n",
              "    <tr>\n",
              "      <th>max</th>\n",
              "      <td>1434.000000</td>\n",
              "      <td>1.157468e+07</td>\n",
              "    </tr>\n",
              "  </tbody>\n",
              "</table>\n",
              "</div>\n",
              "      <button class=\"colab-df-convert\" onclick=\"convertToInteractive('df-c44a23fd-b488-4777-b926-18669f0a3aa1')\"\n",
              "              title=\"Convert this dataframe to an interactive table.\"\n",
              "              style=\"display:none;\">\n",
              "        \n",
              "  <svg xmlns=\"http://www.w3.org/2000/svg\" height=\"24px\"viewBox=\"0 0 24 24\"\n",
              "       width=\"24px\">\n",
              "    <path d=\"M0 0h24v24H0V0z\" fill=\"none\"/>\n",
              "    <path d=\"M18.56 5.44l.94 2.06.94-2.06 2.06-.94-2.06-.94-.94-2.06-.94 2.06-2.06.94zm-11 1L8.5 8.5l.94-2.06 2.06-.94-2.06-.94L8.5 2.5l-.94 2.06-2.06.94zm10 10l.94 2.06.94-2.06 2.06-.94-2.06-.94-.94-2.06-.94 2.06-2.06.94z\"/><path d=\"M17.41 7.96l-1.37-1.37c-.4-.4-.92-.59-1.43-.59-.52 0-1.04.2-1.43.59L10.3 9.45l-7.72 7.72c-.78.78-.78 2.05 0 2.83L4 21.41c.39.39.9.59 1.41.59.51 0 1.02-.2 1.41-.59l7.78-7.78 2.81-2.81c.8-.78.8-2.07 0-2.86zM5.41 20L4 18.59l7.72-7.72 1.47 1.35L5.41 20z\"/>\n",
              "  </svg>\n",
              "      </button>\n",
              "      \n",
              "  <style>\n",
              "    .colab-df-container {\n",
              "      display:flex;\n",
              "      flex-wrap:wrap;\n",
              "      gap: 12px;\n",
              "    }\n",
              "\n",
              "    .colab-df-convert {\n",
              "      background-color: #E8F0FE;\n",
              "      border: none;\n",
              "      border-radius: 50%;\n",
              "      cursor: pointer;\n",
              "      display: none;\n",
              "      fill: #1967D2;\n",
              "      height: 32px;\n",
              "      padding: 0 0 0 0;\n",
              "      width: 32px;\n",
              "    }\n",
              "\n",
              "    .colab-df-convert:hover {\n",
              "      background-color: #E2EBFA;\n",
              "      box-shadow: 0px 1px 2px rgba(60, 64, 67, 0.3), 0px 1px 3px 1px rgba(60, 64, 67, 0.15);\n",
              "      fill: #174EA6;\n",
              "    }\n",
              "\n",
              "    [theme=dark] .colab-df-convert {\n",
              "      background-color: #3B4455;\n",
              "      fill: #D2E3FC;\n",
              "    }\n",
              "\n",
              "    [theme=dark] .colab-df-convert:hover {\n",
              "      background-color: #434B5C;\n",
              "      box-shadow: 0px 1px 3px 1px rgba(0, 0, 0, 0.15);\n",
              "      filter: drop-shadow(0px 1px 2px rgba(0, 0, 0, 0.3));\n",
              "      fill: #FFFFFF;\n",
              "    }\n",
              "  </style>\n",
              "\n",
              "      <script>\n",
              "        const buttonEl =\n",
              "          document.querySelector('#df-c44a23fd-b488-4777-b926-18669f0a3aa1 button.colab-df-convert');\n",
              "        buttonEl.style.display =\n",
              "          google.colab.kernel.accessAllowed ? 'block' : 'none';\n",
              "\n",
              "        async function convertToInteractive(key) {\n",
              "          const element = document.querySelector('#df-c44a23fd-b488-4777-b926-18669f0a3aa1');\n",
              "          const dataTable =\n",
              "            await google.colab.kernel.invokeFunction('convertToInteractive',\n",
              "                                                     [key], {});\n",
              "          if (!dataTable) return;\n",
              "\n",
              "          const docLinkHtml = 'Like what you see? Visit the ' +\n",
              "            '<a target=\"_blank\" href=https://colab.research.google.com/notebooks/data_table.ipynb>data table notebook</a>'\n",
              "            + ' to learn more about interactive tables.';\n",
              "          element.innerHTML = '';\n",
              "          dataTable['output_type'] = 'display_data';\n",
              "          await google.colab.output.renderOutput(dataTable, element);\n",
              "          const docLink = document.createElement('div');\n",
              "          docLink.innerHTML = docLinkHtml;\n",
              "          element.appendChild(docLink);\n",
              "        }\n",
              "      </script>\n",
              "    </div>\n",
              "  </div>\n",
              "  "
            ]
          },
          "metadata": {},
          "execution_count": 94
        }
      ]
    },
    {
      "cell_type": "code",
      "source": [
        "df3.isnull().sum()"
      ],
      "metadata": {
        "colab": {
          "base_uri": "https://localhost:8080/"
        },
        "id": "10SPos4CEwny",
        "outputId": "b5517eb6-759e-43b5-b74c-aff369140fc7"
      },
      "execution_count": 95,
      "outputs": [
        {
          "output_type": "execute_result",
          "data": {
            "text/plain": [
              "Unnamed: 0                  11\n",
              "Unnamed: 0.1                 0\n",
              "id                           0\n",
              "status                       0\n",
              "global_review_id             0\n",
              "hash_global_review_id        0\n",
              "listing_id                   0\n",
              "title                      128\n",
              "is_rating                    0\n",
              "score                        0\n",
              "created                      0\n",
              "OverAllRating                0\n",
              "Value For Money              0\n",
              "Ease of Use                  0\n",
              "Features                     0\n",
              "Customer Support             0\n",
              "Likelihood to recommned      0\n",
              "isAnonymous                  0\n",
              "is_verified                  0\n",
              "full_name                    0\n",
              "company_industry           476\n",
              "frequency_of_use           424\n",
              "time_used                  313\n",
              "source                       0\n",
              "incentivized               667\n",
              "ReviewDescription_score      0\n",
              "Pros_score                   0\n",
              "Unnamed: 27                 11\n",
              "dtype: int64"
            ]
          },
          "metadata": {},
          "execution_count": 95
        }
      ]
    },
    {
      "cell_type": "code",
      "source": [
        "df3.dropna(inplace=True)"
      ],
      "metadata": {
        "id": "DDqPSa7dPtvU"
      },
      "execution_count": 96,
      "outputs": []
    },
    {
      "cell_type": "code",
      "source": [
        "df3.isnull().sum()"
      ],
      "metadata": {
        "colab": {
          "base_uri": "https://localhost:8080/"
        },
        "id": "Ot8uurmRP5zX",
        "outputId": "b1ce858d-1cba-4775-d3a7-4b32ca8431fe"
      },
      "execution_count": 97,
      "outputs": [
        {
          "output_type": "execute_result",
          "data": {
            "text/plain": [
              "Unnamed: 0                 0\n",
              "Unnamed: 0.1               0\n",
              "id                         0\n",
              "status                     0\n",
              "global_review_id           0\n",
              "hash_global_review_id      0\n",
              "listing_id                 0\n",
              "title                      0\n",
              "is_rating                  0\n",
              "score                      0\n",
              "created                    0\n",
              "OverAllRating              0\n",
              "Value For Money            0\n",
              "Ease of Use                0\n",
              "Features                   0\n",
              "Customer Support           0\n",
              "Likelihood to recommned    0\n",
              "isAnonymous                0\n",
              "is_verified                0\n",
              "full_name                  0\n",
              "company_industry           0\n",
              "frequency_of_use           0\n",
              "time_used                  0\n",
              "source                     0\n",
              "incentivized               0\n",
              "ReviewDescription_score    0\n",
              "Pros_score                 0\n",
              "Unnamed: 27                0\n",
              "dtype: int64"
            ]
          },
          "metadata": {},
          "execution_count": 97
        }
      ]
    },
    {
      "cell_type": "code",
      "source": [
        "from scipy.stats import norm"
      ],
      "metadata": {
        "id": "Oy10uIN9TIHq"
      },
      "execution_count": 98,
      "outputs": []
    },
    {
      "cell_type": "code",
      "source": [
        "print(df3[df3.duplicated()])\n",
        "print('No Duplicates\\n')"
      ],
      "metadata": {
        "colab": {
          "base_uri": "https://localhost:8080/"
        },
        "id": "hw3a3QjiTq8y",
        "outputId": "fea47e39-ff78-43a2-a007-565f0c241043"
      },
      "execution_count": 100,
      "outputs": [
        {
          "output_type": "stream",
          "name": "stdout",
          "text": [
            "Empty DataFrame\n",
            "Columns: [Unnamed: 0, Unnamed: 0.1, id, status, global_review_id, hash_global_review_id, listing_id, title, is_rating, score, created, OverAllRating, Value For Money, Ease of Use, Features, Customer Support, Likelihood to recommned, isAnonymous, is_verified, full_name, company_industry, frequency_of_use, time_used, source, incentivized, ReviewDescription_score, Pros_score, Unnamed: 27]\n",
            "Index: []\n",
            "\n",
            "[0 rows x 28 columns]\n",
            "No Duplicates\n",
            "\n"
          ]
        }
      ]
    },
    {
      "cell_type": "code",
      "source": [
        "A1=df3.loc[(df3['incentivized']=='NominalGift') | (df3['incentivized']=='VendorReferredIncentivized')]\n",
        "print(A1.head(5).to_string())\n"
      ],
      "metadata": {
        "colab": {
          "base_uri": "https://localhost:8080/"
        },
        "id": "Kn6bOb4VTIKZ",
        "outputId": "042f9672-b50d-4254-eaf8-28af31871e7b"
      },
      "execution_count": 101,
      "outputs": [
        {
          "output_type": "stream",
          "name": "stdout",
          "text": [
            "    Unnamed: 0 Unnamed: 0.1       id     status         global_review_id hash_global_review_id listing_id                                                                                      title is_rating     score     created OverAllRating Value For Money Ease of Use Features Customer Support Likelihood to recommned isAnonymous is_verified   full_name           company_industry frequency_of_use           time_used          source incentivized ReviewDescription_score   Pros_score  Unnamed: 27\n",
            "1          1.0            1  1283833  Published  SoftwareAdvice___434035            8b72a5b935      90666                                               Reasonable CRM software for small businesses     FALSE  4.462893   6/22/2018             4               5           4        4                3                       9       FALSE       FALSE  Rushang D.  Marketing and Advertising            daily            2+ years  SoftwareAdvice  NominalGift             0.998566568   0.99880743  1711777.000\n",
            "2          2.0            2   841881  Published        Capterra___330384            0d580775b7      90666  Security certificate warning, basic lists inaccurate, clunky documents, HORRIBLE SUPPORT!     FALSE  4.462893  12/20/2017             1               1           1        1                1                       0       FALSE       FALSE   Julian G.          Computer Hardware            daily         6-12 months        Capterra  NominalGift             0.999743998  0.996420145  1122507.333\n",
            "3          3.0            3  1060237  Published  SoftwareAdvice___390950            a36d0ef509      90666                                          1CRM is a great started CRM for a Service Company     FALSE  4.462893    4/4/2018             4               5           3        3                3                       8       FALSE       FALSE    James C.      Management Consulting            daily           1-2 years  SoftwareAdvice  NominalGift             0.938319802  0.986604214  1413648.333\n",
            "17        17.0           17   846217  Published  SoftwareAdvice___341241            ec69ec93a9      90666                                                                   Functional & Easy To Use     FALSE  4.462893  12/22/2017             5               5           5        5                5                      10       FALSE       FALSE  Sabrina B.      Management Consulting            daily           1-2 years  SoftwareAdvice  NominalGift             0.999515414  0.999205172  1128283.667\n",
            "20        20.0           20  1300111  Published  SoftwareAdvice___436897            695de7bb9f      90666     good CRM, includes all the basics with focus in marketing, sales and customer support.     FALSE  4.462893   6/27/2018             5               0           4        4                0                       8       FALSE       FALSE     Jose R.      Management Consulting            daily  Less than 6 months  SoftwareAdvice  NominalGift             0.997060239  0.984327018  1733474.667\n"
          ]
        }
      ]
    },
    {
      "cell_type": "code",
      "source": [
        "A2=df3.loc[(df3['incentivized']=='NoIncentive') | (df3['incentivized']=='VendorReferred')]\n",
        "print(A2.head(5).to_string())"
      ],
      "metadata": {
        "colab": {
          "base_uri": "https://localhost:8080/"
        },
        "id": "kRHbCi9cUBLr",
        "outputId": "9b209ad6-851d-4d56-a9f7-2682eb386b2d"
      },
      "execution_count": 102,
      "outputs": [
        {
          "output_type": "stream",
          "name": "stdout",
          "text": [
            "    Unnamed: 0 Unnamed: 0.1       id     status         global_review_id hash_global_review_id listing_id                                                    title is_rating     score     created OverAllRating Value For Money Ease of Use Features Customer Support Likelihood to recommned isAnonymous is_verified   full_name    company_industry frequency_of_use           time_used          source incentivized ReviewDescription_score   Pros_score  Unnamed: 27\n",
            "10        10.0           10  1301781  Published  SoftwareAdvice___437237            f1a6a9cfb4      90666           Great software that covers a lot of situations     FALSE  4.462893   6/27/2018             5               0           4        4                0                       9       FALSE       FALSE  Eduardo D.  Telecommunications            daily            2+ years  SoftwareAdvice  NoIncentive             0.792923093  0.957252979  1735704.667\n",
            "14        14.0           14   761397  Published  SoftwareAdvice___313796            390a7f4c1b      90666                                          Amazing support     FALSE  4.462893  10/24/2017             5               5           5        5                5                      10       FALSE       FALSE   marcus y.   Computer Software            daily            2+ years  SoftwareAdvice  NoIncentive              0.99984467  0.976857305  1015191.333\n",
            "16        16.0           16  1301447  Published  SoftwareAdvice___437193            a80426575d      90666  Solid, User Friendly and Great for non-technical people     FALSE  4.462893   6/27/2018             5               4           5        5                4                       9       FALSE       FALSE   Rickus W.   Computer Software            daily            2+ years  SoftwareAdvice  NoIncentive             0.999574721  0.971120834  1735257.333\n",
            "19        19.0           19   766563  Published  SoftwareAdvice___315016            53a9d03c78      90666                                  Best bang for your buck     FALSE  4.462893  10/27/2017             5               5           5        4                5                      10       FALSE       FALSE    Terry C.   Computer Software            daily         6-12 months  SoftwareAdvice  NoIncentive             0.995381117  0.755809307  1022077.667\n",
            "29        29.0           29  1322601  Published  SoftwareAdvice___440469            98e3c3a97b      90666                                  1CRM helped my business     FALSE  4.462893    7/4/2018             5               5           5        5                5                      10       FALSE       FALSE  Gilbert A.           Insurance            daily  Less than 6 months  SoftwareAdvice  NoIncentive             0.844004273  0.988325715  1763458.333\n"
          ]
        }
      ]
    },
    {
      "cell_type": "code",
      "source": [
        "a_group = df3[(df3['incentivized'] == \"NoIncentive\") | (df3['incentivized'] == \"NonNominalGift\") | (df3['incentivized'] == \"VendorReferred\")]['OverAllRating']\n",
        "print(a_group.shape[0])\n",
        "print(A2.shape[0])\n",
        "A1['OverAllRating'] = A1['OverAllRating'].astype(float)\n",
        "A2['OverAllRating'] = A2['OverAllRating'].astype(float)"
      ],
      "metadata": {
        "colab": {
          "base_uri": "https://localhost:8080/"
        },
        "id": "nH0_la8VUBOH",
        "outputId": "88b9cab7-5d95-418e-e1d4-e7fb8c2c6e38"
      },
      "execution_count": 103,
      "outputs": [
        {
          "output_type": "stream",
          "name": "stdout",
          "text": [
            "1208\n",
            "1208\n"
          ]
        },
        {
          "output_type": "stream",
          "name": "stderr",
          "text": [
            "/usr/local/lib/python3.7/dist-packages/pyforest/__init__.py:4: SettingWithCopyWarning: \n",
            "A value is trying to be set on a copy of a slice from a DataFrame.\n",
            "Try using .loc[row_indexer,col_indexer] = value instead\n",
            "\n",
            "See the caveats in the documentation: https://pandas.pydata.org/pandas-docs/stable/user_guide/indexing.html#returning-a-view-versus-a-copy\n",
            "  get_user_symbols,\n",
            "/usr/local/lib/python3.7/dist-packages/pyforest/__init__.py:5: SettingWithCopyWarning: \n",
            "A value is trying to be set on a copy of a slice from a DataFrame.\n",
            "Try using .loc[row_indexer,col_indexer] = value instead\n",
            "\n",
            "See the caveats in the documentation: https://pandas.pydata.org/pandas-docs/stable/user_guide/indexing.html#returning-a-view-versus-a-copy\n",
            "  install_extensions,\n"
          ]
        }
      ]
    },
    {
      "cell_type": "code",
      "source": [
        "con = A1['OverAllRating'].shape[0]\n",
        "exp = A2['OverAllRating'].shape[0]\n",
        "\n",
        "# Significance Level\n",
        "alpha = 0.05\n",
        "\n",
        "mu_con = np.mean(A1['OverAllRating'])\n",
        "mu_exp = np.mean(A2['OverAllRating'])\n",
        "\n",
        "variance_con = np.var(A1['OverAllRating'])\n",
        "variance_exp = np.var(A2['OverAllRating'])\n",
        "\n",
        "# Pooled Variance\n",
        "pooled_variance = np.sqrt(variance_con/con + variance_exp/exp)\n",
        "\n",
        "# Test statistics\n",
        "T = (mu_con-mu_exp)/np.sqrt(variance_con/con + variance_exp/exp)\n",
        "\n",
        "# two sided test and using symmetry property of Normal distibution so we multiple with 2\n",
        "p_value = norm.sf(T)*2\n",
        "\n",
        "# Z value\n",
        "Z_crit  = norm.ppf(1-alpha/2)\n",
        "\n",
        "# error margin\n",
        "m = Z_crit*pooled_variance\n",
        "\n",
        "# Confidence Interval\n",
        "CI = [(mu_con - mu_exp) - m, (mu_con - mu_exp) + m]\n",
        "\n",
        "\n",
        "print(\"Test Statistics stat: \", T)\n",
        "print(\"Z-critical: \", Z_crit)\n",
        "print(\"P_value: \", p_value)\n",
        "print(\"Confidence Interval of 2 sample Z-test for proportions: \", np.round(CI,2))"
      ],
      "metadata": {
        "colab": {
          "base_uri": "https://localhost:8080/"
        },
        "id": "1V57LLvrUBQZ",
        "outputId": "7519e0a3-92c9-40a4-d9f2-4b5668254098"
      },
      "execution_count": 104,
      "outputs": [
        {
          "output_type": "stream",
          "name": "stdout",
          "text": [
            "Test Statistics stat:  -3.53942063214399\n",
            "Z-critical:  1.959963984540054\n",
            "P_value:  1.9995989936671095\n",
            "Confidence Interval of 2 sample Z-test for proportions:  [-0.22 -0.06]\n"
          ]
        }
      ]
    },
    {
      "cell_type": "code",
      "source": [
        "z = np.arange(-3,3,  0.1)\n",
        "plt.plot(z, norm.pdf(z), label = 'Standard Normal Distribution',color = 'blue',linewidth = 2.5)\n",
        "plt.fill_between(z[z>Z_crit], norm.pdf(z[z>Z_crit]), label = 'Right Rejection Region',color ='r' )\n",
        "plt.fill_between(z[z<(-1)*Z_crit], norm.pdf(z[z<(-1)*Z_crit]), label = 'Left Rejection Region',color ='r' )\n",
        "plt.title(\"Two Sample Z-test rejection region\")\n",
        "plt.legend()\n",
        "plt.show()"
      ],
      "metadata": {
        "colab": {
          "base_uri": "https://localhost:8080/",
          "height": 444
        },
        "id": "I9CyrLMdUBS5",
        "outputId": "d602ad1d-7c2b-4d23-9b5e-af9247e379a0"
      },
      "execution_count": 105,
      "outputs": [
        {
          "output_type": "display_data",
          "data": {
            "text/plain": [
              "<Figure size 1080x504 with 1 Axes>"
            ],
            "image/png": "[encoded data removed]"
          },
          "metadata": {
            "needs_background": "light"
          }
        }
      ]
    }
  ],
  "metadata": {
    "kernelspec": {
      "display_name": "Python 3",
      "language": "python",
      "name": "python3"
    },
    "language_info": {
      "codemirror_mode": {
        "name": "ipython",
        "version": 3
      },
      "file_extension": ".py",
      "mimetype": "text/x-python",
      "name": "python",
      "nbconvert_exporter": "python",
      "pygments_lexer": "ipython3",
      "version": "3.8.5"
    },
    "colab": {
      "name": "INFO 5502-Final Exam-Spring2022.ipynb",
      "provenance": [],
      "collapsed_sections": [],
      "include_colab_link": true
    }
  },
  "nbformat": 4,
  "nbformat_minor": 0
}