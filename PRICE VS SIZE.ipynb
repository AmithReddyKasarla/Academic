{
 "cells": [
  {
   "cell_type": "code",
   "execution_count": 58,
   "id": "3584408a",
   "metadata": {},
   "outputs": [],
   "source": [
    "import numpy as ny\n",
    "import pandas as ps\n",
    "import matplotlib.pyplot as pt\n",
    "from sklearn import linear_model\n",
    "from sklearn.metrics import mean_squared_error "
   ]
  },
  {
   "cell_type": "code",
   "execution_count": 59,
   "id": "89ed991d",
   "metadata": {},
   "outputs": [],
   "source": [
    "data = ps.read_csv(\"C:/Users/Amith Reddy/OneDrive/Desktop/monet.csv\")"
   ]
  },
  {
   "cell_type": "code",
   "execution_count": 60,
   "id": "aa2e532e",
   "metadata": {},
   "outputs": [
    {
     "data": {
      "text/html": [
       "<div>\n",
       "<style scoped>\n",
       "    .dataframe tbody tr th:only-of-type {\n",
       "        vertical-align: middle;\n",
       "    }\n",
       "\n",
       "    .dataframe tbody tr th {\n",
       "        vertical-align: top;\n",
       "    }\n",
       "\n",
       "    .dataframe thead th {\n",
       "        text-align: right;\n",
       "    }\n",
       "</style>\n",
       "<table border=\"1\" class=\"dataframe\">\n",
       "  <thead>\n",
       "    <tr style=\"text-align: right;\">\n",
       "      <th></th>\n",
       "      <th>PRICE</th>\n",
       "      <th>HEIGHT</th>\n",
       "      <th>WIDTH</th>\n",
       "      <th>SIGNED</th>\n",
       "      <th>PICTURE</th>\n",
       "      <th>HOUSE</th>\n",
       "    </tr>\n",
       "  </thead>\n",
       "  <tbody>\n",
       "    <tr>\n",
       "      <th>0</th>\n",
       "      <td>3.993780</td>\n",
       "      <td>21.3</td>\n",
       "      <td>25.6</td>\n",
       "      <td>1</td>\n",
       "      <td>1</td>\n",
       "      <td>1</td>\n",
       "    </tr>\n",
       "    <tr>\n",
       "      <th>1</th>\n",
       "      <td>8.800000</td>\n",
       "      <td>31.9</td>\n",
       "      <td>25.6</td>\n",
       "      <td>1</td>\n",
       "      <td>2</td>\n",
       "      <td>2</td>\n",
       "    </tr>\n",
       "    <tr>\n",
       "      <th>2</th>\n",
       "      <td>0.131694</td>\n",
       "      <td>6.9</td>\n",
       "      <td>15.9</td>\n",
       "      <td>0</td>\n",
       "      <td>3</td>\n",
       "      <td>3</td>\n",
       "    </tr>\n",
       "    <tr>\n",
       "      <th>3</th>\n",
       "      <td>2.037500</td>\n",
       "      <td>25.7</td>\n",
       "      <td>32.0</td>\n",
       "      <td>1</td>\n",
       "      <td>4</td>\n",
       "      <td>2</td>\n",
       "    </tr>\n",
       "    <tr>\n",
       "      <th>4</th>\n",
       "      <td>1.487500</td>\n",
       "      <td>25.7</td>\n",
       "      <td>32.0</td>\n",
       "      <td>1</td>\n",
       "      <td>4</td>\n",
       "      <td>2</td>\n",
       "    </tr>\n",
       "    <tr>\n",
       "      <th>...</th>\n",
       "      <td>...</td>\n",
       "      <td>...</td>\n",
       "      <td>...</td>\n",
       "      <td>...</td>\n",
       "      <td>...</td>\n",
       "      <td>...</td>\n",
       "    </tr>\n",
       "    <tr>\n",
       "      <th>425</th>\n",
       "      <td>5.282500</td>\n",
       "      <td>25.6</td>\n",
       "      <td>39.4</td>\n",
       "      <td>1</td>\n",
       "      <td>375</td>\n",
       "      <td>1</td>\n",
       "    </tr>\n",
       "    <tr>\n",
       "      <th>426</th>\n",
       "      <td>9.352500</td>\n",
       "      <td>25.9</td>\n",
       "      <td>39.6</td>\n",
       "      <td>1</td>\n",
       "      <td>375</td>\n",
       "      <td>2</td>\n",
       "    </tr>\n",
       "    <tr>\n",
       "      <th>427</th>\n",
       "      <td>8.252500</td>\n",
       "      <td>25.6</td>\n",
       "      <td>39.6</td>\n",
       "      <td>1</td>\n",
       "      <td>375</td>\n",
       "      <td>1</td>\n",
       "    </tr>\n",
       "    <tr>\n",
       "      <th>428</th>\n",
       "      <td>3.410000</td>\n",
       "      <td>25.6</td>\n",
       "      <td>39.4</td>\n",
       "      <td>1</td>\n",
       "      <td>386</td>\n",
       "      <td>2</td>\n",
       "    </tr>\n",
       "    <tr>\n",
       "      <th>429</th>\n",
       "      <td>1.542500</td>\n",
       "      <td>25.7</td>\n",
       "      <td>32.0</td>\n",
       "      <td>1</td>\n",
       "      <td>387</td>\n",
       "      <td>1</td>\n",
       "    </tr>\n",
       "  </tbody>\n",
       "</table>\n",
       "<p>430 rows × 6 columns</p>\n",
       "</div>"
      ],
      "text/plain": [
       "        PRICE  HEIGHT  WIDTH  SIGNED  PICTURE  HOUSE \n",
       "0    3.993780    21.3   25.6       1        1       1\n",
       "1    8.800000    31.9   25.6       1        2       2\n",
       "2    0.131694     6.9   15.9       0        3       3\n",
       "3    2.037500    25.7   32.0       1        4       2\n",
       "4    1.487500    25.7   32.0       1        4       2\n",
       "..        ...     ...    ...     ...      ...     ...\n",
       "425  5.282500    25.6   39.4       1      375       1\n",
       "426  9.352500    25.9   39.6       1      375       2\n",
       "427  8.252500    25.6   39.6       1      375       1\n",
       "428  3.410000    25.6   39.4       1      386       2\n",
       "429  1.542500    25.7   32.0       1      387       1\n",
       "\n",
       "[430 rows x 6 columns]"
      ]
     },
     "execution_count": 60,
     "metadata": {},
     "output_type": "execute_result"
    }
   ],
   "source": [
    "data"
   ]
  },
  {
   "cell_type": "code",
   "execution_count": 61,
   "id": "3fd1cab0",
   "metadata": {},
   "outputs": [],
   "source": [
    "data['SIZE'] = data.HEIGHT*data.WIDTH"
   ]
  },
  {
   "cell_type": "code",
   "execution_count": 62,
   "id": "c1273695",
   "metadata": {},
   "outputs": [],
   "source": [
    "train = data.sample(frac = 0.7)\n",
    "test = data.drop(train.index)"
   ]
  },
  {
   "cell_type": "code",
   "execution_count": 63,
   "id": "33c02096",
   "metadata": {},
   "outputs": [
    {
     "data": {
      "text/html": [
       "<div>\n",
       "<style scoped>\n",
       "    .dataframe tbody tr th:only-of-type {\n",
       "        vertical-align: middle;\n",
       "    }\n",
       "\n",
       "    .dataframe tbody tr th {\n",
       "        vertical-align: top;\n",
       "    }\n",
       "\n",
       "    .dataframe thead th {\n",
       "        text-align: right;\n",
       "    }\n",
       "</style>\n",
       "<table border=\"1\" class=\"dataframe\">\n",
       "  <thead>\n",
       "    <tr style=\"text-align: right;\">\n",
       "      <th></th>\n",
       "      <th>PRICE</th>\n",
       "      <th>HEIGHT</th>\n",
       "      <th>WIDTH</th>\n",
       "      <th>SIGNED</th>\n",
       "      <th>PICTURE</th>\n",
       "      <th>HOUSE</th>\n",
       "      <th>SIZE</th>\n",
       "    </tr>\n",
       "  </thead>\n",
       "  <tbody>\n",
       "    <tr>\n",
       "      <th>372</th>\n",
       "      <td>0.440718</td>\n",
       "      <td>18.3</td>\n",
       "      <td>15.0</td>\n",
       "      <td>1</td>\n",
       "      <td>322</td>\n",
       "      <td>2</td>\n",
       "      <td>274.50</td>\n",
       "    </tr>\n",
       "    <tr>\n",
       "      <th>212</th>\n",
       "      <td>1.463500</td>\n",
       "      <td>28.9</td>\n",
       "      <td>36.3</td>\n",
       "      <td>1</td>\n",
       "      <td>177</td>\n",
       "      <td>1</td>\n",
       "      <td>1049.07</td>\n",
       "    </tr>\n",
       "    <tr>\n",
       "      <th>243</th>\n",
       "      <td>4.237500</td>\n",
       "      <td>28.7</td>\n",
       "      <td>36.2</td>\n",
       "      <td>1</td>\n",
       "      <td>204</td>\n",
       "      <td>1</td>\n",
       "      <td>1038.94</td>\n",
       "    </tr>\n",
       "    <tr>\n",
       "      <th>196</th>\n",
       "      <td>0.772500</td>\n",
       "      <td>19.8</td>\n",
       "      <td>32.6</td>\n",
       "      <td>0</td>\n",
       "      <td>164</td>\n",
       "      <td>2</td>\n",
       "      <td>645.48</td>\n",
       "    </tr>\n",
       "    <tr>\n",
       "      <th>95</th>\n",
       "      <td>0.772500</td>\n",
       "      <td>23.6</td>\n",
       "      <td>31.9</td>\n",
       "      <td>1</td>\n",
       "      <td>76</td>\n",
       "      <td>2</td>\n",
       "      <td>752.84</td>\n",
       "    </tr>\n",
       "    <tr>\n",
       "      <th>...</th>\n",
       "      <td>...</td>\n",
       "      <td>...</td>\n",
       "      <td>...</td>\n",
       "      <td>...</td>\n",
       "      <td>...</td>\n",
       "      <td>...</td>\n",
       "      <td>...</td>\n",
       "    </tr>\n",
       "    <tr>\n",
       "      <th>397</th>\n",
       "      <td>1.762500</td>\n",
       "      <td>19.7</td>\n",
       "      <td>25.6</td>\n",
       "      <td>1</td>\n",
       "      <td>347</td>\n",
       "      <td>1</td>\n",
       "      <td>504.32</td>\n",
       "    </tr>\n",
       "    <tr>\n",
       "      <th>241</th>\n",
       "      <td>1.267500</td>\n",
       "      <td>25.6</td>\n",
       "      <td>39.4</td>\n",
       "      <td>1</td>\n",
       "      <td>202</td>\n",
       "      <td>1</td>\n",
       "      <td>1008.64</td>\n",
       "    </tr>\n",
       "    <tr>\n",
       "      <th>24</th>\n",
       "      <td>0.527446</td>\n",
       "      <td>22.7</td>\n",
       "      <td>28.1</td>\n",
       "      <td>1</td>\n",
       "      <td>18</td>\n",
       "      <td>1</td>\n",
       "      <td>637.87</td>\n",
       "    </tr>\n",
       "    <tr>\n",
       "      <th>216</th>\n",
       "      <td>7.728935</td>\n",
       "      <td>39.4</td>\n",
       "      <td>78.7</td>\n",
       "      <td>0</td>\n",
       "      <td>181</td>\n",
       "      <td>2</td>\n",
       "      <td>3100.78</td>\n",
       "    </tr>\n",
       "    <tr>\n",
       "      <th>231</th>\n",
       "      <td>0.245183</td>\n",
       "      <td>25.0</td>\n",
       "      <td>35.8</td>\n",
       "      <td>1</td>\n",
       "      <td>193</td>\n",
       "      <td>2</td>\n",
       "      <td>895.00</td>\n",
       "    </tr>\n",
       "  </tbody>\n",
       "</table>\n",
       "<p>301 rows × 7 columns</p>\n",
       "</div>"
      ],
      "text/plain": [
       "        PRICE  HEIGHT  WIDTH  SIGNED  PICTURE  HOUSE      SIZE\n",
       "372  0.440718    18.3   15.0       1      322       2   274.50\n",
       "212  1.463500    28.9   36.3       1      177       1  1049.07\n",
       "243  4.237500    28.7   36.2       1      204       1  1038.94\n",
       "196  0.772500    19.8   32.6       0      164       2   645.48\n",
       "95   0.772500    23.6   31.9       1       76       2   752.84\n",
       "..        ...     ...    ...     ...      ...     ...      ...\n",
       "397  1.762500    19.7   25.6       1      347       1   504.32\n",
       "241  1.267500    25.6   39.4       1      202       1  1008.64\n",
       "24   0.527446    22.7   28.1       1       18       1   637.87\n",
       "216  7.728935    39.4   78.7       0      181       2  3100.78\n",
       "231  0.245183    25.0   35.8       1      193       2   895.00\n",
       "\n",
       "[301 rows x 7 columns]"
      ]
     },
     "execution_count": 63,
     "metadata": {},
     "output_type": "execute_result"
    }
   ],
   "source": [
    "mod=linear_model.LinearRegression()\n",
    "mod.fit(train[['PRICE']],train.SIZE)\n",
    "train"
   ]
  },
  {
   "cell_type": "code",
   "execution_count": 75,
   "id": "1b3956c5",
   "metadata": {},
   "outputs": [],
   "source": [
    "x = mod.predict(test[['PRICE']])"
   ]
  },
  {
   "cell_type": "code",
   "execution_count": 76,
   "id": "354b2870",
   "metadata": {},
   "outputs": [
    {
     "data": {
      "text/plain": [
       "array([1258.68358811,  793.56558357,  886.83841197, 1069.94399113,\n",
       "       1058.31376863,  922.25223827,  806.04890369,  932.65478145,\n",
       "       1288.19511002,  985.74976539, 1010.78680401,  813.05960718,\n",
       "        809.65236783,  973.22668521,  851.74652954,  827.41342121,\n",
       "        827.30487246,  886.97255525,  847.30966002,  977.47156887,\n",
       "        843.4846985 ,  801.25499841,  845.20629337,  800.79891125,\n",
       "        822.16294586,  818.37168112,  801.33977696,  803.85780733,\n",
       "        842.57112909,  811.18160124,  827.8463284 ,  882.50451083,\n",
       "        916.48407716,  789.65970682,  842.57112909,  789.21134632,\n",
       "        789.29864676,  876.80395794, 1040.29832593,  824.99835922,\n",
       "        883.88725977,  825.25441192,  812.57926691,  875.35574707,\n",
       "        832.24209642,  820.43748765,  852.22193333,  842.89307297,\n",
       "        851.55872895,  904.6794684 ,  848.98629007,  866.31448991,\n",
       "        854.96865116,  808.28238932,  829.69374968,  869.2656421 ,\n",
       "        800.07453753,  817.62047874, 1675.41562811, 1364.925067  ,\n",
       "        850.15022449,  911.31306829,  810.33773268,  967.2170662 ,\n",
       "        943.15176151,  806.53450237,  816.01075937,  802.85709845,\n",
       "        805.38661148,  875.16794648,  807.29144607,  863.36333771,\n",
       "        825.45444638, 1269.3055897 ,  832.99066959,  815.74783854,\n",
       "        816.14490265,  857.88320907, 1435.88686288,  822.63743747,\n",
       "        934.19099031,  823.09352463,  951.76376018, 1317.70663194,\n",
       "        819.74203523,  898.64302073,  889.09201909,  830.76652033,\n",
       "        857.93107139,  948.81260799,  898.64302073, 1170.28316564,\n",
       "       1146.53980483, 1164.56866185,  849.317463  , 1868.6330888 ,\n",
       "        830.35094444,  934.36537658, 1034.39602155,  963.56836895,\n",
       "        797.99832148,  792.53767044,  836.99076858,  949.13455186,\n",
       "       1049.57798254, 1096.50436085,  791.8113114 , 1187.94822609,\n",
       "       1199.04257301,  792.91976416,  788.09586444, 1406.24119769,\n",
       "        788.00282266, 1105.35781743,  807.88167651,  901.90162932,\n",
       "        939.95915141,  855.77941316,  953.62459578,  803.15983301,\n",
       "       1156.86561806,  842.89307297,  856.2537438 , 1028.49371716,\n",
       "        822.95938135,  863.36333771, 1191.05702346,  845.84422516,\n",
       "       1069.94399113])"
      ]
     },
     "execution_count": 76,
     "metadata": {},
     "output_type": "execute_result"
    }
   ],
   "source": [
    "x"
   ]
  },
  {
   "cell_type": "code",
   "execution_count": 77,
   "id": "0fcfc687",
   "metadata": {},
   "outputs": [
    {
     "data": {
      "text/plain": [
       "0.10300448558149267"
      ]
     },
     "execution_count": 77,
     "metadata": {},
     "output_type": "execute_result"
    }
   ],
   "source": [
    "mod.score(test[['PRICE']],test.SIZE)"
   ]
  },
  {
   "cell_type": "code",
   "execution_count": 67,
   "id": "b2bbb273",
   "metadata": {},
   "outputs": [
    {
     "data": {
      "text/plain": [
       "array([53.65731257])"
      ]
     },
     "execution_count": 67,
     "metadata": {},
     "output_type": "execute_result"
    }
   ],
   "source": [
    "mod.coef_"
   ]
  },
  {
   "cell_type": "code",
   "execution_count": 68,
   "id": "ba530d48",
   "metadata": {},
   "outputs": [
    {
     "data": {
      "text/plain": [
       "786.4992374514854"
      ]
     },
     "execution_count": 68,
     "metadata": {},
     "output_type": "execute_result"
    }
   ],
   "source": [
    "mod.intercept_"
   ]
  },
  {
   "cell_type": "code",
   "execution_count": 69,
   "id": "b52c2fe9",
   "metadata": {},
   "outputs": [],
   "source": [
    "y = test.PRICE\n",
    "error = mean_squared_error(y,x)"
   ]
  },
  {
   "cell_type": "code",
   "execution_count": 70,
   "id": "4fe6b9dd",
   "metadata": {},
   "outputs": [
    {
     "data": {
      "text/plain": [
       "882795.3342223918"
      ]
     },
     "execution_count": 70,
     "metadata": {},
     "output_type": "execute_result"
    }
   ],
   "source": [
    "error"
   ]
  },
  {
   "cell_type": "code",
   "execution_count": 79,
   "id": "31530ab5",
   "metadata": {},
   "outputs": [
    {
     "data": {
      "text/plain": [
       "[<matplotlib.lines.Line2D at 0x1ca0ddb0fa0>]"
      ]
     },
     "execution_count": 79,
     "metadata": {},
     "output_type": "execute_result"
    },
    {
     "data": {
      "image/png": "[encoded data removed]",
      "text/plain": [
       "<Figure size 432x288 with 1 Axes>"
      ]
     },
     "metadata": {
      "needs_background": "light"
     },
     "output_type": "display_data"
    }
   ],
   "source": [
    "%matplotlib inline\n",
    "pt.xlabel(\"Price\")\n",
    "pt.ylabel(\"Size\")\n",
    "pt.title(\"PRICE VS SIZE\")\n",
    "pt.scatter(data.PRICE,data.SIZE, color='green', marker = '*')\n",
    "pt.plot(data.PRICE, mod.predict(data[['PRICE']]), color = 'black')\n"
   ]
  },
  {
   "cell_type": "code",
   "execution_count": null,
   "id": "c4c570a5",
   "metadata": {},
   "outputs": [],
   "source": []
  }
 ],
 "metadata": {
  "kernelspec": {
   "display_name": "Python 3 (ipykernel)",
   "language": "python",
   "name": "python3"
  },
  "language_info": {
   "codemirror_mode": {
    "name": "ipython",
    "version": 3
   },
   "file_extension": ".py",
   "mimetype": "text/x-python",
   "name": "python",
   "nbconvert_exporter": "python",
   "pygments_lexer": "ipython3",
   "version": "3.9.7"
  }
 },
 "nbformat": 4,
 "nbformat_minor": 5
}
