{
  "cells": [
    {
      "cell_type": "markdown",
      "metadata": {
        "id": "view-in-github",
        "colab_type": "text"
      },
      "source": [
        "<a href=\"https://colab.research.google.com/github/AmithReddyKasarla/AmithReddy_INFO5502_-Spring2022/blob/main/lab_assignment_09.ipynb\" target=\"_parent\"><img src=\"https://colab.research.google.com/assets/colab-badge.svg\" alt=\"Open In Colab\"/></a>"
      ]
    },
    {
      "cell_type": "markdown",
      "metadata": {
        "id": "_Jfat9H8KYDo"
      },
      "source": [
        "## The ninth Lab-assignment (04/14/2022, 50 points in total)"
      ]
    },
    {
      "cell_type": "markdown",
      "metadata": {
        "id": "olGBsBKkKYDs"
      },
      "source": [
        "The purpose of this assignment is to practice different Hypothesis Testing."
      ]
    },
    {
      "cell_type": "markdown",
      "metadata": {
        "id": "WcZmdnZ7KYDt"
      },
      "source": [
        "### Question 1 (15 points) \n",
        "\n",
        "During the 1980s, the general consensus is that about 5% of the nation’s children had autism. Some claimed that increases certain chemicals in the environment has led to an increase in autism. \n",
        "\n",
        "(1) Write an appropriate hypothesis test for this situation (5 points).  \n",
        "\n",
        "(2) Give an appropriate test for this hypothesis, stating what are the necessary conditions for performing the test (5 points). \n",
        "\n",
        "(3) A recent study examined 384 children and found that 46 showed signs of autism. Perform a test of the hypothesis and state the p-value (5 points). "
      ]
    },
    {
      "cell_type": "code",
      "execution_count": 58,
      "metadata": {
        "colab": {
          "base_uri": "https://localhost:8080/",
          "height": 122
        },
        "id": "-0n3w51pKYD7",
        "outputId": "c5554340-6c51-4370-bb9c-91dd34e5de99"
      },
      "outputs": [
        {
          "output_type": "execute_result",
          "data": {
            "text/plain": [
              "\"\\nHYPOTHESIS TESTING: This testing is used to determine the which statement is best supported by the sample data. Here we use mutually exclusive statements for our analysis.\\nIn this problem statement we can see that 5percent of the nation's children had autism. Some are claiming as due to the climate change that led to increase in autism.\\nTo test this claim we use hypothesis testing, where if 5percent of the childern had autism due to chemicals in environment.\\nSo we take 0.05 as null hypothsis which means we do not reject the claim, and alternative hypothesis as reject the claim.\\nPerforming the hypothesis:\\nWe need to claim our null and alternative hypothesis clearly.\\nDetermine the significance level\\nNow stating the test statistic\\nDetermine the critical value\\nNow state the conditions for rejection\\nIf the test statistic is in criticl region then reject the null hypothesis.\\n\""
            ],
            "application/vnd.google.colaboratory.intrinsic+json": {
              "type": "string"
            }
          },
          "metadata": {},
          "execution_count": 58
        }
      ],
      "source": [
        "# You answer here\n",
        "'''\n",
        "HYPOTHESIS TESTING: This testing is used to determine the which statement is best supported by the sample data. Here we use mutually exclusive statements for our analysis.\n",
        "In this problem statement we can see that 5percent of the nation's children had autism. Some are claiming as due to the climate change that led to increase in autism.\n",
        "To test this claim we use hypothesis testing, where if 5percent of the childern had autism due to chemicals in environment.\n",
        "So we take 0.05 as null hypothsis which means we do not reject the claim, and alternative hypothesis as reject the claim.\n",
        "Performing the hypothesis:\n",
        "We need to claim our null and alternative hypothesis clearly.\n",
        "Determine the significance level\n",
        "Now stating the test statistic\n",
        "Determine the critical value\n",
        "Now state the conditions for rejection\n",
        "If the test statistic is in criticl region then reject the null hypothesis.\n",
        "'''"
      ]
    },
    {
      "cell_type": "code",
      "execution_count": 59,
      "metadata": {
        "colab": {
          "base_uri": "https://localhost:8080/"
        },
        "id": "F72neTLwKYD8",
        "outputId": "ef952130-46f3-4a7f-e6f8-8b6bc0db1174"
      },
      "outputs": [
        {
          "output_type": "stream",
          "name": "stdout",
          "text": [
            "Number of Students examined are: 384\n",
            "Number of Students showed signs of autism are: 0.11979166666666667\n",
            "Significance Level: 0.05\n",
            "Z-Score: 6.27512493759735\n",
            "P-Value: 0.001\n"
          ]
        }
      ],
      "source": [
        "# your code here\n",
        "import math\n",
        "import scipy.stats\n",
        "\n",
        "n = 384\n",
        "x = 46/384\n",
        "a = 0.05\n",
        "z = (x-a)/math.sqrt((a*(1-a))/n)\n",
        "print('Number of Students examined are:',n)\n",
        "print('Number of Students showed signs of autism are:',x)\n",
        "print('Significance Level:',a)\n",
        "print('Z-Score:',z)\n",
        "p_value = 1-int((scipy.stats.t.cdf(z, df=n-1))*1000)/1000\n",
        "print('P-Value:',int((p_value)*1000)/1000)\n"
      ]
    },
    {
      "cell_type": "code",
      "source": [
        "'''\n",
        "From above, we can reject the null hypothesis because the p-value is less than a i.e, 0.05.\n",
        "'''"
      ],
      "metadata": {
        "colab": {
          "base_uri": "https://localhost:8080/",
          "height": 35
        },
        "id": "zJdSxTS8Snpn",
        "outputId": "5d1d5562-17af-4e9f-daa0-5d798122a931"
      },
      "execution_count": 60,
      "outputs": [
        {
          "output_type": "execute_result",
          "data": {
            "text/plain": [
              "'\\nFrom above, we can reject the null hypothesis because the p-value is less than a i.e, 0.05.\\n'"
            ],
            "application/vnd.google.colaboratory.intrinsic+json": {
              "type": "string"
            }
          },
          "metadata": {},
          "execution_count": 60
        }
      ]
    },
    {
      "cell_type": "markdown",
      "metadata": {
        "id": "-82Vi66SKYD9"
      },
      "source": [
        "### Question 2 (15 points) \n",
        "\n",
        "National data in the 1960s showed that about 44% of the adult population had never smoked. \n",
        "\n",
        "(1) State a null and alternative hypothesis to test that the fraction of the 1995 population of adults that had never smoked had increased (5 points).  \n",
        "\n",
        "(2) A national random sample of 891 adults were interviewed and 463 stated that they had never smoked. Perform a z-test of the hypothesis and give an approriate p-value (5 points). \n",
        "\n",
        "(3) Create a 98% confidence interval for the proportion of adults who had never been smokers (5 points). "
      ]
    },
    {
      "cell_type": "code",
      "execution_count": 61,
      "metadata": {
        "colab": {
          "base_uri": "https://localhost:8080/",
          "height": 53
        },
        "id": "uLHkqf8KKYD-",
        "outputId": "120bc40a-6b4e-4f23-bad0-a9cee79cabee"
      },
      "outputs": [
        {
          "output_type": "execute_result",
          "data": {
            "text/plain": [
              "'\\nHere, null hypothesis could state that the number of adults smoked has not increased, which means p-value is less than 0.44\\nAlternate hypothesise states that the number of adults who smoked has increased, which means p-value is greater than 0.44 \\n'"
            ],
            "application/vnd.google.colaboratory.intrinsic+json": {
              "type": "string"
            }
          },
          "metadata": {},
          "execution_count": 61
        }
      ],
      "source": [
        "# You answer here\n",
        "'''\n",
        "Here, null hypothesis could state that the number of adults smoked has not increased, which means p-value is less than 0.44\n",
        "Alternate hypothesise states that the number of adults who smoked has increased, which means p-value is greater than 0.44 \n",
        "'''"
      ]
    },
    {
      "cell_type": "code",
      "execution_count": 62,
      "metadata": {
        "colab": {
          "base_uri": "https://localhost:8080/"
        },
        "id": "1fV_-GVuKYD-",
        "outputId": "35e288b7-0a6c-48e1-fa2f-627c20a04fca"
      },
      "outputs": [
        {
          "output_type": "stream",
          "name": "stdout",
          "text": [
            "Number of Adults interviewed are: 891\n",
            "Number of Adults stated that they smoke are: 0.5178970917225951\n",
            "Significance Level: 0.44\n",
            "Z-Score: 4.684246531908031\n",
            "P-Value: 0.001\n",
            "The 98percent confidence interval who are smokers are: (0.479, 0.557)\n"
          ]
        }
      ],
      "source": [
        "# your code here\n",
        "import math\n",
        "import scipy.stats\n",
        "\n",
        "n = 891\n",
        "x = 463/894\n",
        "a = 0.44\n",
        "z = (x-a)/math.sqrt((a*(1-a))/n)\n",
        "print('Number of Adults interviewed are:',n)\n",
        "print('Number of Adults stated that they smoke are:',x)\n",
        "print('Significance Level:',a)\n",
        "print('Z-Score:',z)\n",
        "p_value = 1-int((scipy.stats.t.cdf(z, df=n-1))*1000)/1000\n",
        "print('P-Value:',int((p_value)*1000)/1000)\n",
        "ci = round(x-z/2*(math.sqrt(x*(1-x)/n)),3),round(x+z/2*(math.sqrt(x*(1-x)/n)),3)\n",
        "print('The 98percent confidence interval who are smokers are:',ci)"
      ]
    },
    {
      "cell_type": "code",
      "source": [
        "'''\n",
        "From the above results we can state that null hypothesis is not rejected, because p-vale is less than 0.44. Which means the number of adult smokers are not increased.\n",
        "'''"
      ],
      "metadata": {
        "colab": {
          "base_uri": "https://localhost:8080/",
          "height": 53
        },
        "id": "OKT1oSHBaLVZ",
        "outputId": "513aba21-9f6a-4791-f018-dc5d3115c2f5"
      },
      "execution_count": 63,
      "outputs": [
        {
          "output_type": "execute_result",
          "data": {
            "text/plain": [
              "'\\nFrom the above results we can state that null hypothesis is not rejected, because p-vale is less than 0.44. Which means the number of adult smokers are not increased.\\n'"
            ],
            "application/vnd.google.colaboratory.intrinsic+json": {
              "type": "string"
            }
          },
          "metadata": {},
          "execution_count": 63
        }
      ]
    },
    {
      "cell_type": "markdown",
      "metadata": {
        "id": "5ApQf5ZJKYEA"
      },
      "source": [
        "### Question 3 (15 points) \n",
        "In this problem,we will examine the sugar content of several national brands of cereals, here measured as a percentage of weight.\n",
        "\n",
        "\n",
        "(1) Give a summary of these two datasets (5 points). \n",
        "\n",
        "(2) Create side-by-side boxplots and interpret what you see (5 points). \n",
        "\n",
        "(3) Use python to create a 95% confidence interval for the difference in mean sugar content and explain your result (5 points). "
      ]
    },
    {
      "cell_type": "code",
      "execution_count": 64,
      "metadata": {
        "colab": {
          "base_uri": "https://localhost:8080/",
          "height": 53
        },
        "id": "Rg8HBrsvKYEB",
        "outputId": "b0242545-1339-49f2-aaac-c6c6973aea67"
      },
      "outputs": [
        {
          "output_type": "execute_result",
          "data": {
            "text/plain": [
              "\"\\nHere we have 2 features called children and adult.\\nChildren feature has 19 observations. Adult feature has 29 observations.\\nThe data doesn't have any missing or NaN values.\\nAnd below code, provide the summary of both the features.\\n\""
            ],
            "application/vnd.google.colaboratory.intrinsic+json": {
              "type": "string"
            }
          },
          "metadata": {},
          "execution_count": 64
        }
      ],
      "source": [
        "# You answer here\n",
        "'''\n",
        "Here we have 2 features called children and adult.\n",
        "Children feature has 19 observations. Adult feature has 29 observations.\n",
        "The data doesn't have any missing or NaN values.\n",
        "And below code, provide the summary of both the features.\n",
        "'''\n",
        "\n"
      ]
    },
    {
      "cell_type": "code",
      "execution_count": 65,
      "metadata": {
        "colab": {
          "base_uri": "https://localhost:8080/",
          "height": 1000
        },
        "id": "cnca7WxSKYEB",
        "outputId": "8392bcf8-f1f0-49b6-b0b0-f3e272cfe31d"
      },
      "outputs": [
        {
          "output_type": "stream",
          "name": "stdout",
          "text": [
            "   children\n",
            "0      40.3\n",
            "1      55.0\n",
            "2      45.7\n",
            "3      43.3\n",
            "4      50.3\n",
            "   adult\n",
            "0   20.0\n",
            "1   30.2\n",
            "2    2.2\n",
            "3    7.5\n",
            "4    4.4\n",
            "        children\n",
            "count  19.000000\n",
            "mean   46.800000\n",
            "std     6.418376\n",
            "min    33.600000\n",
            "25%    43.650000\n",
            "50%    45.900000\n",
            "75%    50.350000\n",
            "max    60.300000\n",
            "           adult\n",
            "count  29.000000\n",
            "mean   10.168966\n",
            "std     7.475680\n",
            "min     1.000000\n",
            "25%     4.100000\n",
            "50%     8.100000\n",
            "75%    15.800000\n",
            "max    30.200000\n",
            "The 95percent confidence interval for the differnce in means of sugar content is (array([32.54875262]), array([40.71331634]))\n"
          ]
        },
        {
          "output_type": "stream",
          "name": "stderr",
          "text": [
            "/usr/local/lib/python3.7/dist-packages/matplotlib/cbook/__init__.py:1376: VisibleDeprecationWarning: Creating an ndarray from ragged nested sequences (which is a list-or-tuple of lists-or-tuples-or ndarrays with different lengths or shapes) is deprecated. If you meant to do this, you must specify 'dtype=object' when creating the ndarray.\n",
            "  X = np.atleast_1d(X.T if isinstance(X, np.ndarray) else np.asarray(X))\n"
          ]
        },
        {
          "output_type": "display_data",
          "data": {
            "text/plain": [
              "<Figure size 648x360 with 1 Axes>"
            ],
            "image/png": "[encoded data removed]"
          },
          "metadata": {
            "needs_background": "light"
          }
        }
      ],
      "source": [
        "# your code here\n",
        "import pandas as pd\n",
        "import numpy as np\n",
        "import matplotlib.pyplot as plt\n",
        "import statsmodels.stats.api as sts\n",
        "children={'children':[40.3,55.0,45.7,43.3,50.3,45.9,53.5,43.0,44.2,44.0,33.6,55.1,48.8,50.4,37.8,60.3,46.6,47.4,44.0]}\n",
        "adult={'adult':[20.0,30.2,2.2,7.5,4.4,22.2,16.6,14.5,21.4,3.3,10.0,1.0,4.4,1.3,8.1,6.6,7.8,10.6,10.6,16.2,14.5,4.1,15.8,4.1,2.4,3.5,8.5,4.7,18.4]}\n",
        "childrens=pd.DataFrame(children)\n",
        "adults=pd.DataFrame(adult)\n",
        "print(childrens.head(5))\n",
        "print(adults.head(5))\n",
        "print(childrens.describe())\n",
        "print(adults.describe())\n",
        "#Question 2 - Plotting side-by-side boxplot\n",
        "fig=plt.figure(figsize=(9,5))\n",
        "ax = fig.add_axes([0,0,1,1]) \n",
        "ax.boxplot([childrens['children'],adults['adult']],widths=0.6)\n",
        "plt.title(\"Box Plots of Childrens and Adults\",fontsize=25)\n",
        "ax.set_xticklabels(['children','adult'])\n",
        "plt.show()\n",
        "#Question 3 -Creating 95% confidence Interval\n",
        "ci = sts.CompareMeans(sts.DescrStatsW(childrens), sts.DescrStatsW(adults))\n",
        "print('The 95percent confidence interval for the differnce in means of sugar content is',ci.tconfint_diff(usevar='unequal'))"
      ]
    },
    {
      "cell_type": "code",
      "source": [
        "'''\n",
        "From the above boxplot, we can interpret that weight percentage of sugar in cereals are higher in childerns when compared to adults. \n",
        "'''"
      ],
      "metadata": {
        "colab": {
          "base_uri": "https://localhost:8080/",
          "height": 35
        },
        "id": "XxRf0ITzcKnL",
        "outputId": "ddddbc47-3f00-4411-bd20-50d15e979495"
      },
      "execution_count": 66,
      "outputs": [
        {
          "output_type": "execute_result",
          "data": {
            "text/plain": [
              "'\\nFrom the above boxplot, we can interpret that weight percentage of sugar in cereals are higher in childerns when compared to adults. \\n'"
            ],
            "application/vnd.google.colaboratory.intrinsic+json": {
              "type": "string"
            }
          },
          "metadata": {},
          "execution_count": 66
        }
      ]
    },
    {
      "cell_type": "markdown",
      "metadata": {
        "id": "364caUW4KYEC"
      },
      "source": [
        "### Question 4 (15 points, with 10 extra point included) A/B Testing"
      ]
    },
    {
      "cell_type": "markdown",
      "metadata": {
        "id": "xr8CTDkCKYEC"
      },
      "source": [
        "Punishment for crime has many [philosophical justifications](http://plato.stanford.edu/entries/punishment/#ThePun).  An important one is that fear of punishment may *deter* people from committing crimes.\n",
        "\n",
        "In the United States, some jurisdictions execute people who are convicted of particularly serious crimes, such as murder.  This punishment is called the *death penalty* or *capital punishment*.  The death penalty is controversial, and deterrence has been one focal point of the debate.  There are other reasons to support or oppose the death penalty, but in this project we'll focus on deterrence.\n",
        "\n",
        "The key question about deterrence is:\n",
        "\n",
        "> Through our exploration, does instituting a death penalty for murder actually reduce the number of murders?\n",
        "\n",
        "You might have a strong intuition in one direction, but the evidence turns out to be surprisingly complex.  Different sides have variously argued that the death penalty has no deterrent effect and that each execution prevents 8 murders, all using statistical arguments!  We'll try to come to our own conclusion.\n",
        "\n",
        "#### The data\n",
        "\n",
        "The main data source for this lab comes from a [paper](http://cjlf.org/deathpenalty/DezRubShepDeterFinal.pdf) by three researchers, Dezhbakhsh, Rubin, and Shepherd.  The dataset contains rates of various violent crimes for every year 1960-2003 (44 years) in every US state.  The researchers compiled the data from the FBI's Uniform Crime Reports.\n",
        "\n",
        "Since crimes are committed by people, not states, we need to account for the number of people in each state when we're looking at state-level data.  Murder rates are calculated as follows:\n",
        "\n",
        "$$\\text{murder rate for state X in year Y} = \\frac{\\text{number of murders in state X in year Y}}{\\text{population in state X in year Y}}*100000$$\n",
        "\n",
        "(Murder is rare, so we multiply by 100,000 just to avoid dealing with tiny numbers.)\n",
        "\n",
        "Murder rates vary over time, and different states exhibit different trends. The rates in some states change dramatically from year to year, while others are quite stable. Let's plot a couple, just to see the variety.\n",
        "\n",
        "*Hint*: To create two lines, you will need create the table `ak_mn` with two columns of murder rates, in addition to a column of years. This table will have the following structure:\n",
        "\n",
        "| Year | Murder rate in Alaska | Murder rate in Minnesota |\n",
        "|------|-----------------------|--------------------------|\n",
        "| 1960 | 10.2                  | 1.2                      |\n",
        "| 1961 | 11.5                  | 1                        |\n",
        "| 1962 | 4.5                   | 0.9                      |\n",
        "\n",
        "<center>... (41 rows omitted)</center>\n",
        "\n",
        "Some US states have the death penalty, and others don't, and laws have changed over time. In addition to changes in murder rates, we will also consider whether the death penalty was in force in each state and each year.\n",
        "\n",
        "Using this information, we would like to investigate how the presence of the death penalty affects the murder rate of a state."
      ]
    },
    {
      "cell_type": "markdown",
      "metadata": {
        "id": "YZd8DwolKYED"
      },
      "source": [
        "(1) Use preban_rates_copy and postban_rates to create a table change_in_death_rates that contains each state's population, murder rate, and whether or not that state had the death penalty for both 1971 and 1973. (5 points)\n",
        "\n",
        "Create a table rate_means that contains the average murder rates for the states that had the death penalty and the states that didn't have the death penalty. It should have two columns: one indicating if the penalty was in place, and one that contains the average murder rate for each group.\n",
        "\n",
        "Hint: tbl_1.append(tbl_2) with create a new table that includes rows from both tbl_1 and tbl_2. Both tables must have the exactly the same columns, in the same order.\n",
        "\n",
        "(2) We want to figure out if there is a difference between the distribution of death rates in 1971 and 1973. Specifically, we want to test if murder rates were higher in 1973 than they were in 1971. You are required to conduct A/B Testing below (10 points):\n",
        "\n",
        "(2-1) Set observed_difference to the observed test statistic using the rate_means table. \n",
        "\n",
        "\n",
        "(2-2) Given a table like change_in_death_rates, a value column label, and a group column group_label, write a function that calculates the appropriate test statistic.\n",
        "\n",
        "(2-3) Write a function simulate_and_test_statistic to compute one trial of our A/B test. Your function should run a simulation and return a test statistic.\n",
        "\n",
        "(2-4) Simulate 5000 trials of our A/B test and store the test statistics in an array called differences.\n",
        "\n",
        "(2-5) Find the p-value for your test and assign it to empirical_P.\n",
        "\n",
        "(2-6) Using a 5% P-value cutoff, draw a conclusion about the null and alternative hypotheses. Describe your findings using simple, non-technical language. What does your analysis tell you about murder rates after the death penalty was suspended? What can you claim about causation from your statistical analysis?\n"
      ]
    },
    {
      "cell_type": "code",
      "execution_count": 67,
      "metadata": {
        "id": "WeseDdR2KYEE"
      },
      "outputs": [],
      "source": [
        "# You code here\n",
        "import pandas as pd\n",
        "import numpy as np\n",
        "import matplotlib.pyplot as plt\n",
        "import statsmodels.stats.api as sts\n",
        "from statistics import mean\n",
        "from datascience import Table,make_array\n",
        "from datascience.predicates import are\n",
        "\n",
        "df = pd.read_csv('https://raw.githubusercontent.com/AmithReddyKasarla/AmithReddy_INFO5502_-Spring2022/main/crime_rates.csv')\n"
      ]
    },
    {
      "cell_type": "code",
      "source": [
        "df.head(5)"
      ],
      "metadata": {
        "colab": {
          "base_uri": "https://localhost:8080/",
          "height": 268
        },
        "id": "hCmYYz6IqWyr",
        "outputId": "550ee6d1-4e75-449d-af71-cb6428165864"
      },
      "execution_count": 68,
      "outputs": [
        {
          "output_type": "execute_result",
          "data": {
            "text/plain": [
              "    State  Year  Population  Violent Crime Rate  Murder Rate  \\\n",
              "0  Alaska  1960      226167          104.300003         10.2   \n",
              "1  Alaska  1961      234000           88.900002         11.5   \n",
              "2  Alaska  1962      246000           91.500000          4.5   \n",
              "3  Alaska  1963      248000          109.699997          6.5   \n",
              "4  Alaska  1964      250000          150.000000         10.4   \n",
              "\n",
              "   Forcible Rape Rate  Robbery Rate  Aggraveted Assault Rate  \\\n",
              "0           20.799999     28.299999                45.099998   \n",
              "1           13.200000     12.400000                51.700001   \n",
              "2           18.700001     13.800000                54.500000   \n",
              "3           14.900000     22.200001                66.099998   \n",
              "4           22.400000     21.200001                96.000000   \n",
              "\n",
              "   Property Crime Rate  Burglary Rate  Larceny & Theft Rate  \\\n",
              "0          1544.900024     332.100006            970.500000   \n",
              "1          1540.599976     380.799988            950.000000   \n",
              "2          1564.599976     351.600006            985.400024   \n",
              "3          1952.800049     381.500000           1213.699951   \n",
              "4          2016.000000     443.600006           1218.400024   \n",
              "\n",
              "   Motor Vehicle Theft Rate  \n",
              "0                242.300003  \n",
              "1                209.800003  \n",
              "2                227.600006  \n",
              "3                357.700012  \n",
              "4                354.000000  "
            ],
            "text/html": [
              "\n",
              "  <div id=\"df-2d4873c4-e2c7-4e72-bfd3-d163f4e4c41c\">\n",
              "    <div class=\"colab-df-container\">\n",
              "      <div>\n",
              "<style scoped>\n",
              "    .dataframe tbody tr th:only-of-type {\n",
              "        vertical-align: middle;\n",
              "    }\n",
              "\n",
              "    .dataframe tbody tr th {\n",
              "        vertical-align: top;\n",
              "    }\n",
              "\n",
              "    .dataframe thead th {\n",
              "        text-align: right;\n",
              "    }\n",
              "</style>\n",
              "<table border=\"1\" class=\"dataframe\">\n",
              "  <thead>\n",
              "    <tr style=\"text-align: right;\">\n",
              "      <th></th>\n",
              "      <th>State</th>\n",
              "      <th>Year</th>\n",
              "      <th>Population</th>\n",
              "      <th>Violent Crime Rate</th>\n",
              "      <th>Murder Rate</th>\n",
              "      <th>Forcible Rape Rate</th>\n",
              "      <th>Robbery Rate</th>\n",
              "      <th>Aggraveted Assault Rate</th>\n",
              "      <th>Property Crime Rate</th>\n",
              "      <th>Burglary Rate</th>\n",
              "      <th>Larceny &amp; Theft Rate</th>\n",
              "      <th>Motor Vehicle Theft Rate</th>\n",
              "    </tr>\n",
              "  </thead>\n",
              "  <tbody>\n",
              "    <tr>\n",
              "      <th>0</th>\n",
              "      <td>Alaska</td>\n",
              "      <td>1960</td>\n",
              "      <td>226167</td>\n",
              "      <td>104.300003</td>\n",
              "      <td>10.2</td>\n",
              "      <td>20.799999</td>\n",
              "      <td>28.299999</td>\n",
              "      <td>45.099998</td>\n",
              "      <td>1544.900024</td>\n",
              "      <td>332.100006</td>\n",
              "      <td>970.500000</td>\n",
              "      <td>242.300003</td>\n",
              "    </tr>\n",
              "    <tr>\n",
              "      <th>1</th>\n",
              "      <td>Alaska</td>\n",
              "      <td>1961</td>\n",
              "      <td>234000</td>\n",
              "      <td>88.900002</td>\n",
              "      <td>11.5</td>\n",
              "      <td>13.200000</td>\n",
              "      <td>12.400000</td>\n",
              "      <td>51.700001</td>\n",
              "      <td>1540.599976</td>\n",
              "      <td>380.799988</td>\n",
              "      <td>950.000000</td>\n",
              "      <td>209.800003</td>\n",
              "    </tr>\n",
              "    <tr>\n",
              "      <th>2</th>\n",
              "      <td>Alaska</td>\n",
              "      <td>1962</td>\n",
              "      <td>246000</td>\n",
              "      <td>91.500000</td>\n",
              "      <td>4.5</td>\n",
              "      <td>18.700001</td>\n",
              "      <td>13.800000</td>\n",
              "      <td>54.500000</td>\n",
              "      <td>1564.599976</td>\n",
              "      <td>351.600006</td>\n",
              "      <td>985.400024</td>\n",
              "      <td>227.600006</td>\n",
              "    </tr>\n",
              "    <tr>\n",
              "      <th>3</th>\n",
              "      <td>Alaska</td>\n",
              "      <td>1963</td>\n",
              "      <td>248000</td>\n",
              "      <td>109.699997</td>\n",
              "      <td>6.5</td>\n",
              "      <td>14.900000</td>\n",
              "      <td>22.200001</td>\n",
              "      <td>66.099998</td>\n",
              "      <td>1952.800049</td>\n",
              "      <td>381.500000</td>\n",
              "      <td>1213.699951</td>\n",
              "      <td>357.700012</td>\n",
              "    </tr>\n",
              "    <tr>\n",
              "      <th>4</th>\n",
              "      <td>Alaska</td>\n",
              "      <td>1964</td>\n",
              "      <td>250000</td>\n",
              "      <td>150.000000</td>\n",
              "      <td>10.4</td>\n",
              "      <td>22.400000</td>\n",
              "      <td>21.200001</td>\n",
              "      <td>96.000000</td>\n",
              "      <td>2016.000000</td>\n",
              "      <td>443.600006</td>\n",
              "      <td>1218.400024</td>\n",
              "      <td>354.000000</td>\n",
              "    </tr>\n",
              "  </tbody>\n",
              "</table>\n",
              "</div>\n",
              "      <button class=\"colab-df-convert\" onclick=\"convertToInteractive('df-2d4873c4-e2c7-4e72-bfd3-d163f4e4c41c')\"\n",
              "              title=\"Convert this dataframe to an interactive table.\"\n",
              "              style=\"display:none;\">\n",
              "        \n",
              "  <svg xmlns=\"http://www.w3.org/2000/svg\" height=\"24px\"viewBox=\"0 0 24 24\"\n",
              "       width=\"24px\">\n",
              "    <path d=\"M0 0h24v24H0V0z\" fill=\"none\"/>\n",
              "    <path d=\"M18.56 5.44l.94 2.06.94-2.06 2.06-.94-2.06-.94-.94-2.06-.94 2.06-2.06.94zm-11 1L8.5 8.5l.94-2.06 2.06-.94-2.06-.94L8.5 2.5l-.94 2.06-2.06.94zm10 10l.94 2.06.94-2.06 2.06-.94-2.06-.94-.94-2.06-.94 2.06-2.06.94z\"/><path d=\"M17.41 7.96l-1.37-1.37c-.4-.4-.92-.59-1.43-.59-.52 0-1.04.2-1.43.59L10.3 9.45l-7.72 7.72c-.78.78-.78 2.05 0 2.83L4 21.41c.39.39.9.59 1.41.59.51 0 1.02-.2 1.41-.59l7.78-7.78 2.81-2.81c.8-.78.8-2.07 0-2.86zM5.41 20L4 18.59l7.72-7.72 1.47 1.35L5.41 20z\"/>\n",
              "  </svg>\n",
              "      </button>\n",
              "      \n",
              "  <style>\n",
              "    .colab-df-container {\n",
              "      display:flex;\n",
              "      flex-wrap:wrap;\n",
              "      gap: 12px;\n",
              "    }\n",
              "\n",
              "    .colab-df-convert {\n",
              "      background-color: #E8F0FE;\n",
              "      border: none;\n",
              "      border-radius: 50%;\n",
              "      cursor: pointer;\n",
              "      display: none;\n",
              "      fill: #1967D2;\n",
              "      height: 32px;\n",
              "      padding: 0 0 0 0;\n",
              "      width: 32px;\n",
              "    }\n",
              "\n",
              "    .colab-df-convert:hover {\n",
              "      background-color: #E2EBFA;\n",
              "      box-shadow: 0px 1px 2px rgba(60, 64, 67, 0.3), 0px 1px 3px 1px rgba(60, 64, 67, 0.15);\n",
              "      fill: #174EA6;\n",
              "    }\n",
              "\n",
              "    [theme=dark] .colab-df-convert {\n",
              "      background-color: #3B4455;\n",
              "      fill: #D2E3FC;\n",
              "    }\n",
              "\n",
              "    [theme=dark] .colab-df-convert:hover {\n",
              "      background-color: #434B5C;\n",
              "      box-shadow: 0px 1px 3px 1px rgba(0, 0, 0, 0.15);\n",
              "      filter: drop-shadow(0px 1px 2px rgba(0, 0, 0, 0.3));\n",
              "      fill: #FFFFFF;\n",
              "    }\n",
              "  </style>\n",
              "\n",
              "      <script>\n",
              "        const buttonEl =\n",
              "          document.querySelector('#df-2d4873c4-e2c7-4e72-bfd3-d163f4e4c41c button.colab-df-convert');\n",
              "        buttonEl.style.display =\n",
              "          google.colab.kernel.accessAllowed ? 'block' : 'none';\n",
              "\n",
              "        async function convertToInteractive(key) {\n",
              "          const element = document.querySelector('#df-2d4873c4-e2c7-4e72-bfd3-d163f4e4c41c');\n",
              "          const dataTable =\n",
              "            await google.colab.kernel.invokeFunction('convertToInteractive',\n",
              "                                                     [key], {});\n",
              "          if (!dataTable) return;\n",
              "\n",
              "          const docLinkHtml = 'Like what you see? Visit the ' +\n",
              "            '<a target=\"_blank\" href=https://colab.research.google.com/notebooks/data_table.ipynb>data table notebook</a>'\n",
              "            + ' to learn more about interactive tables.';\n",
              "          element.innerHTML = '';\n",
              "          dataTable['output_type'] = 'display_data';\n",
              "          await google.colab.output.renderOutput(dataTable, element);\n",
              "          const docLink = document.createElement('div');\n",
              "          docLink.innerHTML = docLinkHtml;\n",
              "          element.appendChild(docLink);\n",
              "        }\n",
              "      </script>\n",
              "    </div>\n",
              "  </div>\n",
              "  "
            ]
          },
          "metadata": {},
          "execution_count": 68
        }
      ]
    },
    {
      "cell_type": "code",
      "source": [
        "murder=Table.from_df(df[['State','Year','Population','Murder Rate']])\n",
        "murder.show(5)"
      ],
      "metadata": {
        "colab": {
          "base_uri": "https://localhost:8080/",
          "height": 236
        },
        "id": "dyqfd_w2qZa4",
        "outputId": "c90e2a61-ba32-4cd0-f481-2abb4498b86a"
      },
      "execution_count": 69,
      "outputs": [
        {
          "output_type": "display_data",
          "data": {
            "text/plain": [
              "<IPython.core.display.HTML object>"
            ],
            "text/html": [
              "<table border=\"1\" class=\"dataframe\">\n",
              "    <thead>\n",
              "        <tr>\n",
              "            <th>State</th> <th>Year</th> <th>Population</th> <th>Murder Rate</th>\n",
              "        </tr>\n",
              "    </thead>\n",
              "    <tbody>\n",
              "        <tr>\n",
              "            <td>Alaska</td> <td>1960</td> <td>226167    </td> <td>10.2       </td>\n",
              "        </tr>\n",
              "        <tr>\n",
              "            <td>Alaska</td> <td>1961</td> <td>234000    </td> <td>11.5       </td>\n",
              "        </tr>\n",
              "        <tr>\n",
              "            <td>Alaska</td> <td>1962</td> <td>246000    </td> <td>4.5        </td>\n",
              "        </tr>\n",
              "        <tr>\n",
              "            <td>Alaska</td> <td>1963</td> <td>248000    </td> <td>6.5        </td>\n",
              "        </tr>\n",
              "        <tr>\n",
              "            <td>Alaska</td> <td>1964</td> <td>250000    </td> <td>10.4       </td>\n",
              "        </tr>\n",
              "    </tbody>\n",
              "</table>\n",
              "<p>... (2195 rows omitted)</p>"
            ]
          },
          "metadata": {}
        }
      ]
    },
    {
      "cell_type": "code",
      "source": [
        "ak_mn = Table().with_columns(\"Year\", list(df['Year'].unique()),\n",
        "                             \"Murder rate in Alaska\",df['Murder Rate'].loc[df['State']=='Alaska'],\n",
        "                             \"Murder rate in Minnesota\",df['Murder Rate'].loc[df['State']=='Minnesota'])\n",
        "ak_mn.show(5)"
      ],
      "metadata": {
        "colab": {
          "base_uri": "https://localhost:8080/",
          "height": 236
        },
        "id": "yomHyVSUqcie",
        "outputId": "0471230e-7f6a-4a84-9cf3-0efe1a698fb2"
      },
      "execution_count": 70,
      "outputs": [
        {
          "output_type": "display_data",
          "data": {
            "text/plain": [
              "<IPython.core.display.HTML object>"
            ],
            "text/html": [
              "<table border=\"1\" class=\"dataframe\">\n",
              "    <thead>\n",
              "        <tr>\n",
              "            <th>Year</th> <th>Murder rate in Alaska</th> <th>Murder rate in Minnesota</th>\n",
              "        </tr>\n",
              "    </thead>\n",
              "    <tbody>\n",
              "        <tr>\n",
              "            <td>1960</td> <td>10.2                 </td> <td>1.2                     </td>\n",
              "        </tr>\n",
              "        <tr>\n",
              "            <td>1961</td> <td>11.5                 </td> <td>1                       </td>\n",
              "        </tr>\n",
              "        <tr>\n",
              "            <td>1962</td> <td>4.5                  </td> <td>0.9                     </td>\n",
              "        </tr>\n",
              "        <tr>\n",
              "            <td>1963</td> <td>6.5                  </td> <td>1.2                     </td>\n",
              "        </tr>\n",
              "        <tr>\n",
              "            <td>1964</td> <td>10.4                 </td> <td>1.4                     </td>\n",
              "        </tr>\n",
              "    </tbody>\n",
              "</table>\n",
              "<p>... (39 rows omitted)</p>"
            ]
          },
          "metadata": {}
        }
      ]
    },
    {
      "cell_type": "code",
      "source": [
        "plt.figure(figsize=(15,10))\n",
        "plt.title('Murder Rates in Alaska and Minnesota Over Years',fontsize=18)\n",
        "plt.plot(ak_mn['Year'],ak_mn['Murder rate in Alaska'],label='Alaska')\n",
        "plt.plot(ak_mn['Year'],ak_mn['Murder rate in Minnesota'],label='Minnesota')\n",
        "plt.xlabel('Year',fontsize=16)\n",
        "plt.ylabel('Murder Rate',fontsize=16)\n",
        "plt.legend()\n",
        "plt.grid()\n",
        "plt.show()"
      ],
      "metadata": {
        "colab": {
          "base_uri": "https://localhost:8080/",
          "height": 630
        },
        "id": "QTTDfPPGqyNJ",
        "outputId": "f8fa15f3-4894-486f-8476-84ee3787eee0"
      },
      "execution_count": 71,
      "outputs": [
        {
          "output_type": "display_data",
          "data": {
            "text/plain": [
              "<Figure size 1080x720 with 1 Axes>"
            ],
            "image/png": "[encoded data removed]"
          },
          "metadata": {
            "needs_background": "light"
          }
        }
      ]
    },
    {
      "cell_type": "code",
      "source": [
        "def hadDeathPenalty(state):\n",
        "  if state in noDeathPenaltyrates:\n",
        "    return False\n",
        "  else:\n",
        "    return True"
      ],
      "metadata": {
        "id": "gFt49hN0q14T"
      },
      "execution_count": 72,
      "outputs": []
    },
    {
      "cell_type": "code",
      "source": [
        "noDeathPenaltyrates = ['Alaska','Michigan','Minnesota','Hawaii']\n",
        "states = murder.group('State').select('State')\n",
        "deathPenalty = states.with_column('hadDeathPenalty', states.apply(hadDeathPenalty, 0))\n",
        "deathPenalty"
      ],
      "metadata": {
        "colab": {
          "base_uri": "https://localhost:8080/",
          "height": 392
        },
        "id": "CELuGnRXrFHQ",
        "outputId": "5a7a0f28-21e5-47f4-b300-9253fa216543"
      },
      "execution_count": 73,
      "outputs": [
        {
          "output_type": "execute_result",
          "data": {
            "text/plain": [
              "State       | hadDeathPenalty\n",
              "Alabama     | True\n",
              "Alaska      | False\n",
              "Arizona     | True\n",
              "Arkansas    | True\n",
              "California  | True\n",
              "Colorado    | True\n",
              "Connecticut | True\n",
              "Delaware    | True\n",
              "Florida     | True\n",
              "Georgia     | True\n",
              "... (40 rows omitted)"
            ],
            "text/html": [
              "<table border=\"1\" class=\"dataframe\">\n",
              "    <thead>\n",
              "        <tr>\n",
              "            <th>State</th> <th>hadDeathPenalty</th>\n",
              "        </tr>\n",
              "    </thead>\n",
              "    <tbody>\n",
              "        <tr>\n",
              "            <td>Alabama    </td> <td>True           </td>\n",
              "        </tr>\n",
              "        <tr>\n",
              "            <td>Alaska     </td> <td>False          </td>\n",
              "        </tr>\n",
              "        <tr>\n",
              "            <td>Arizona    </td> <td>True           </td>\n",
              "        </tr>\n",
              "        <tr>\n",
              "            <td>Arkansas   </td> <td>True           </td>\n",
              "        </tr>\n",
              "        <tr>\n",
              "            <td>California </td> <td>True           </td>\n",
              "        </tr>\n",
              "        <tr>\n",
              "            <td>Colorado   </td> <td>True           </td>\n",
              "        </tr>\n",
              "        <tr>\n",
              "            <td>Connecticut</td> <td>True           </td>\n",
              "        </tr>\n",
              "        <tr>\n",
              "            <td>Delaware   </td> <td>True           </td>\n",
              "        </tr>\n",
              "        <tr>\n",
              "            <td>Florida    </td> <td>True           </td>\n",
              "        </tr>\n",
              "        <tr>\n",
              "            <td>Georgia    </td> <td>True           </td>\n",
              "        </tr>\n",
              "    </tbody>\n",
              "</table>\n",
              "<p>... (40 rows omitted)</p>"
            ]
          },
          "metadata": {},
          "execution_count": 73
        }
      ]
    },
    {
      "cell_type": "code",
      "source": [
        "preban_rates=murder.where('Year',1971).join('State',deathPenalty.where('hadDeathPenalty',True))\n",
        "preban_rates"
      ],
      "metadata": {
        "colab": {
          "base_uri": "https://localhost:8080/",
          "height": 392
        },
        "id": "WDM1oRrVrGf4",
        "outputId": "653175f4-27b9-442b-b0c3-1d71ca9b0456"
      },
      "execution_count": 74,
      "outputs": [
        {
          "output_type": "execute_result",
          "data": {
            "text/plain": [
              "State       | Year | Population | Murder Rate | hadDeathPenalty\n",
              "Alabama     | 1971 | 3479000    | 15.1        | True\n",
              "Arizona     | 1971 | 1849000    | 6.7         | True\n",
              "Arkansas    | 1971 | 1944000    | 10.5        | True\n",
              "California  | 1971 | 20223000   | 8.1         | True\n",
              "Colorado    | 1971 | 2283000    | 6.5         | True\n",
              "Connecticut | 1971 | 3081000    | 3.1         | True\n",
              "Delaware    | 1971 | 558000     | 6.1         | True\n",
              "Florida     | 1971 | 7041000    | 13.3        | True\n",
              "Georgia     | 1971 | 4664000    | 16          | True\n",
              "Idaho       | 1971 | 732000     | 3.3         | True\n",
              "... (36 rows omitted)"
            ],
            "text/html": [
              "<table border=\"1\" class=\"dataframe\">\n",
              "    <thead>\n",
              "        <tr>\n",
              "            <th>State</th> <th>Year</th> <th>Population</th> <th>Murder Rate</th> <th>hadDeathPenalty</th>\n",
              "        </tr>\n",
              "    </thead>\n",
              "    <tbody>\n",
              "        <tr>\n",
              "            <td>Alabama    </td> <td>1971</td> <td>3479000   </td> <td>15.1       </td> <td>True           </td>\n",
              "        </tr>\n",
              "        <tr>\n",
              "            <td>Arizona    </td> <td>1971</td> <td>1849000   </td> <td>6.7        </td> <td>True           </td>\n",
              "        </tr>\n",
              "        <tr>\n",
              "            <td>Arkansas   </td> <td>1971</td> <td>1944000   </td> <td>10.5       </td> <td>True           </td>\n",
              "        </tr>\n",
              "        <tr>\n",
              "            <td>California </td> <td>1971</td> <td>20223000  </td> <td>8.1        </td> <td>True           </td>\n",
              "        </tr>\n",
              "        <tr>\n",
              "            <td>Colorado   </td> <td>1971</td> <td>2283000   </td> <td>6.5        </td> <td>True           </td>\n",
              "        </tr>\n",
              "        <tr>\n",
              "            <td>Connecticut</td> <td>1971</td> <td>3081000   </td> <td>3.1        </td> <td>True           </td>\n",
              "        </tr>\n",
              "        <tr>\n",
              "            <td>Delaware   </td> <td>1971</td> <td>558000    </td> <td>6.1        </td> <td>True           </td>\n",
              "        </tr>\n",
              "        <tr>\n",
              "            <td>Florida    </td> <td>1971</td> <td>7041000   </td> <td>13.3       </td> <td>True           </td>\n",
              "        </tr>\n",
              "        <tr>\n",
              "            <td>Georgia    </td> <td>1971</td> <td>4664000   </td> <td>16         </td> <td>True           </td>\n",
              "        </tr>\n",
              "        <tr>\n",
              "            <td>Idaho      </td> <td>1971</td> <td>732000    </td> <td>3.3        </td> <td>True           </td>\n",
              "        </tr>\n",
              "    </tbody>\n",
              "</table>\n",
              "<p>... (36 rows omitted)</p>"
            ]
          },
          "metadata": {},
          "execution_count": 74
        }
      ]
    },
    {
      "cell_type": "code",
      "source": [
        "postban_rates=murder.where('Year',1973).join('State',preban_rates).select('State','Year','Population','Murder Rate').with_column('hadDeathPenalty',False)\n",
        "postban_rates"
      ],
      "metadata": {
        "colab": {
          "base_uri": "https://localhost:8080/",
          "height": 392
        },
        "id": "1xu4zVQXrIdD",
        "outputId": "f852d191-6c14-40f9-937b-c66d19055553"
      },
      "execution_count": 75,
      "outputs": [
        {
          "output_type": "execute_result",
          "data": {
            "text/plain": [
              "State       | Year | Population | Murder Rate | hadDeathPenalty\n",
              "Alabama     | 1973 | 3539000    | 13.2        | False\n",
              "Arizona     | 1973 | 2058000    | 8.1         | False\n",
              "Arkansas    | 1973 | 2037000    | 8.8         | False\n",
              "California  | 1973 | 20601000   | 9           | False\n",
              "Colorado    | 1973 | 2437000    | 7.9         | False\n",
              "Connecticut | 1973 | 3076000    | 3.3         | False\n",
              "Delaware    | 1973 | 576000     | 5.9         | False\n",
              "Florida     | 1973 | 7678000    | 15.4        | False\n",
              "Georgia     | 1973 | 4786000    | 17.4        | False\n",
              "Idaho       | 1973 | 770000     | 2.6         | False\n",
              "... (36 rows omitted)"
            ],
            "text/html": [
              "<table border=\"1\" class=\"dataframe\">\n",
              "    <thead>\n",
              "        <tr>\n",
              "            <th>State</th> <th>Year</th> <th>Population</th> <th>Murder Rate</th> <th>hadDeathPenalty</th>\n",
              "        </tr>\n",
              "    </thead>\n",
              "    <tbody>\n",
              "        <tr>\n",
              "            <td>Alabama    </td> <td>1973</td> <td>3539000   </td> <td>13.2       </td> <td>False          </td>\n",
              "        </tr>\n",
              "        <tr>\n",
              "            <td>Arizona    </td> <td>1973</td> <td>2058000   </td> <td>8.1        </td> <td>False          </td>\n",
              "        </tr>\n",
              "        <tr>\n",
              "            <td>Arkansas   </td> <td>1973</td> <td>2037000   </td> <td>8.8        </td> <td>False          </td>\n",
              "        </tr>\n",
              "        <tr>\n",
              "            <td>California </td> <td>1973</td> <td>20601000  </td> <td>9          </td> <td>False          </td>\n",
              "        </tr>\n",
              "        <tr>\n",
              "            <td>Colorado   </td> <td>1973</td> <td>2437000   </td> <td>7.9        </td> <td>False          </td>\n",
              "        </tr>\n",
              "        <tr>\n",
              "            <td>Connecticut</td> <td>1973</td> <td>3076000   </td> <td>3.3        </td> <td>False          </td>\n",
              "        </tr>\n",
              "        <tr>\n",
              "            <td>Delaware   </td> <td>1973</td> <td>576000    </td> <td>5.9        </td> <td>False          </td>\n",
              "        </tr>\n",
              "        <tr>\n",
              "            <td>Florida    </td> <td>1973</td> <td>7678000   </td> <td>15.4       </td> <td>False          </td>\n",
              "        </tr>\n",
              "        <tr>\n",
              "            <td>Georgia    </td> <td>1973</td> <td>4786000   </td> <td>17.4       </td> <td>False          </td>\n",
              "        </tr>\n",
              "        <tr>\n",
              "            <td>Idaho      </td> <td>1973</td> <td>770000    </td> <td>2.6        </td> <td>False          </td>\n",
              "        </tr>\n",
              "    </tbody>\n",
              "</table>\n",
              "<p>... (36 rows omitted)</p>"
            ]
          },
          "metadata": {},
          "execution_count": 75
        }
      ]
    },
    {
      "cell_type": "code",
      "source": [
        "preban_rates_copy=preban_rates.copy()\n",
        "change_in_death_rates=preban_rates_copy.append(postban_rates)\n",
        "change_in_death_rates"
      ],
      "metadata": {
        "colab": {
          "base_uri": "https://localhost:8080/",
          "height": 392
        },
        "id": "fpNAb4mkrJ6A",
        "outputId": "d14c24c2-85cc-4183-f903-9bbd3695ec8b"
      },
      "execution_count": 76,
      "outputs": [
        {
          "output_type": "execute_result",
          "data": {
            "text/plain": [
              "State       | Year | Population | Murder Rate | hadDeathPenalty\n",
              "Alabama     | 1971 | 3479000    | 15.1        | True\n",
              "Arizona     | 1971 | 1849000    | 6.7         | True\n",
              "Arkansas    | 1971 | 1944000    | 10.5        | True\n",
              "California  | 1971 | 20223000   | 8.1         | True\n",
              "Colorado    | 1971 | 2283000    | 6.5         | True\n",
              "Connecticut | 1971 | 3081000    | 3.1         | True\n",
              "Delaware    | 1971 | 558000     | 6.1         | True\n",
              "Florida     | 1971 | 7041000    | 13.3        | True\n",
              "Georgia     | 1971 | 4664000    | 16          | True\n",
              "Idaho       | 1971 | 732000     | 3.3         | True\n",
              "... (82 rows omitted)"
            ],
            "text/html": [
              "<table border=\"1\" class=\"dataframe\">\n",
              "    <thead>\n",
              "        <tr>\n",
              "            <th>State</th> <th>Year</th> <th>Population</th> <th>Murder Rate</th> <th>hadDeathPenalty</th>\n",
              "        </tr>\n",
              "    </thead>\n",
              "    <tbody>\n",
              "        <tr>\n",
              "            <td>Alabama    </td> <td>1971</td> <td>3479000   </td> <td>15.1       </td> <td>True           </td>\n",
              "        </tr>\n",
              "        <tr>\n",
              "            <td>Arizona    </td> <td>1971</td> <td>1849000   </td> <td>6.7        </td> <td>True           </td>\n",
              "        </tr>\n",
              "        <tr>\n",
              "            <td>Arkansas   </td> <td>1971</td> <td>1944000   </td> <td>10.5       </td> <td>True           </td>\n",
              "        </tr>\n",
              "        <tr>\n",
              "            <td>California </td> <td>1971</td> <td>20223000  </td> <td>8.1        </td> <td>True           </td>\n",
              "        </tr>\n",
              "        <tr>\n",
              "            <td>Colorado   </td> <td>1971</td> <td>2283000   </td> <td>6.5        </td> <td>True           </td>\n",
              "        </tr>\n",
              "        <tr>\n",
              "            <td>Connecticut</td> <td>1971</td> <td>3081000   </td> <td>3.1        </td> <td>True           </td>\n",
              "        </tr>\n",
              "        <tr>\n",
              "            <td>Delaware   </td> <td>1971</td> <td>558000    </td> <td>6.1        </td> <td>True           </td>\n",
              "        </tr>\n",
              "        <tr>\n",
              "            <td>Florida    </td> <td>1971</td> <td>7041000   </td> <td>13.3       </td> <td>True           </td>\n",
              "        </tr>\n",
              "        <tr>\n",
              "            <td>Georgia    </td> <td>1971</td> <td>4664000   </td> <td>16         </td> <td>True           </td>\n",
              "        </tr>\n",
              "        <tr>\n",
              "            <td>Idaho      </td> <td>1971</td> <td>732000    </td> <td>3.3        </td> <td>True           </td>\n",
              "        </tr>\n",
              "    </tbody>\n",
              "</table>\n",
              "<p>... (82 rows omitted)</p>"
            ]
          },
          "metadata": {},
          "execution_count": 76
        }
      ]
    },
    {
      "cell_type": "code",
      "source": [
        "rate_means=(change_in_death_rates.group('hadDeathPenalty',mean)).select('hadDeathPenalty','Murder Rate mean')\n",
        "rate_means"
      ],
      "metadata": {
        "colab": {
          "base_uri": "https://localhost:8080/",
          "height": 112
        },
        "id": "wPaKbD4PrLRz",
        "outputId": "96134fc4-bb3b-4189-b22c-b6196b00d438"
      },
      "execution_count": 77,
      "outputs": [
        {
          "output_type": "execute_result",
          "data": {
            "text/plain": [
              "hadDeathPenalty | Murder Rate mean\n",
              "False           | 7.86957\n",
              "True            | 7.2913"
            ],
            "text/html": [
              "<table border=\"1\" class=\"dataframe\">\n",
              "    <thead>\n",
              "        <tr>\n",
              "            <th>hadDeathPenalty</th> <th>Murder Rate mean</th>\n",
              "        </tr>\n",
              "    </thead>\n",
              "    <tbody>\n",
              "        <tr>\n",
              "            <td>False          </td> <td>7.86957         </td>\n",
              "        </tr>\n",
              "        <tr>\n",
              "            <td>True           </td> <td>7.2913          </td>\n",
              "        </tr>\n",
              "    </tbody>\n",
              "</table>"
            ]
          },
          "metadata": {},
          "execution_count": 77
        }
      ]
    },
    {
      "cell_type": "code",
      "source": [
        "observed_difference=rate_means.where('hadDeathPenalty',False).column('Murder Rate mean').item(0)-rate_means.where('hadDeathPenalty',True).column('Murder Rate mean').item(0)\n",
        "observed_difference"
      ],
      "metadata": {
        "colab": {
          "base_uri": "https://localhost:8080/"
        },
        "id": "cZ5U2nCTrWgr",
        "outputId": "84654ec9-cc47-48ca-e862-3409e9d9498e"
      },
      "execution_count": 78,
      "outputs": [
        {
          "output_type": "execute_result",
          "data": {
            "text/plain": [
              "0.5782608456717391"
            ]
          },
          "metadata": {},
          "execution_count": 78
        }
      ]
    },
    {
      "cell_type": "code",
      "source": [
        "def findtestStatistic(table, columnLabel, groupLabel):\n",
        "  return table.group(groupLabel, mean).where(groupLabel,False).column('Murder Rate mean').item(0)-table.group(groupLabel, mean).where(groupLabel,True).column('Murder Rate mean').item(0)\n",
        "\n",
        "findtestStatistic(change_in_death_rates, \"Murder Rate\", \"hadDeathPenalty\")"
      ],
      "metadata": {
        "colab": {
          "base_uri": "https://localhost:8080/"
        },
        "id": "s_YdVQNjrZ1M",
        "outputId": "ae6b39ee-1ef6-4e44-b673-0c922dcf558c"
      },
      "execution_count": 79,
      "outputs": [
        {
          "output_type": "execute_result",
          "data": {
            "text/plain": [
              "0.5782608456717391"
            ]
          },
          "metadata": {},
          "execution_count": 79
        }
      ]
    },
    {
      "cell_type": "code",
      "source": [
        "def simulate_and_test_statistic(table, columnLabel, groupLabel):\n",
        "  randomColumns = table.sample(with_replacement = False).column(groupLabel) \n",
        "  return findtestStatistic(table.drop(groupLabel).with_column(\"random label\", randomColumns), columnLabel, \"random label\")\n",
        "\n",
        "simulate_and_test_statistic(change_in_death_rates, \"Murder Rate\", \"hadDeathPenalty\")"
      ],
      "metadata": {
        "colab": {
          "base_uri": "https://localhost:8080/"
        },
        "id": "-NXePlvarcoo",
        "outputId": "92dece2e-b735-4881-e614-f897806834c9"
      },
      "execution_count": 80,
      "outputs": [
        {
          "output_type": "execute_result",
          "data": {
            "text/plain": [
              "-1.408695652502173"
            ]
          },
          "metadata": {},
          "execution_count": 80
        }
      ]
    },
    {
      "cell_type": "code",
      "source": [
        "differences = make_array()\n",
        "for i in np.arange(5000):\n",
        "  test = simulate_and_test_statistic(change_in_death_rates, \"Murder Rate\", \"hadDeathPenalty\")\n",
        "  differences = np.append(differences, test)\n",
        "differences"
      ],
      "metadata": {
        "colab": {
          "base_uri": "https://localhost:8080/"
        },
        "id": "Yqso-HpIrdXC",
        "outputId": "cd94f218-38de-4760-826a-10bb484846f2"
      },
      "execution_count": 81,
      "outputs": [
        {
          "output_type": "execute_result",
          "data": {
            "text/plain": [
              "array([-0.573913  , -1.37826087,  1.62608692, ...,  0.27391302,\n",
              "        0.93913045,  1.17826083])"
            ]
          },
          "metadata": {},
          "execution_count": 81
        }
      ]
    },
    {
      "cell_type": "code",
      "source": [
        "P = sum(differences>=observed_difference)/len(differences)\n",
        "print('p-value',P)"
      ],
      "metadata": {
        "colab": {
          "base_uri": "https://localhost:8080/"
        },
        "id": "n9UEwwUtrhUm",
        "outputId": "106c6295-e2fc-4206-f0b6-53a6dcbdd1a2"
      },
      "execution_count": 82,
      "outputs": [
        {
          "output_type": "stream",
          "name": "stdout",
          "text": [
            "p-value 0.2618\n"
          ]
        }
      ]
    },
    {
      "cell_type": "code",
      "source": [
        "'''\n",
        "Here we can conclude that we reject the null hypothesis as p- value is higher then the prescribed 5percent cuttoff. \n",
        "'''"
      ],
      "metadata": {
        "colab": {
          "base_uri": "https://localhost:8080/",
          "height": 35
        },
        "id": "IRFxQaelrm3p",
        "outputId": "5ddc9df9-ca96-414c-cca7-2affeec7816a"
      },
      "execution_count": 83,
      "outputs": [
        {
          "output_type": "execute_result",
          "data": {
            "text/plain": [
              "'\\nHere we can conclude that we reject the null hypothesis as p- value is higher then the prescribed 5percent cuttoff. \\n'"
            ],
            "application/vnd.google.colaboratory.intrinsic+json": {
              "type": "string"
            }
          },
          "metadata": {},
          "execution_count": 83
        }
      ]
    }
  ],
  "metadata": {
    "kernelspec": {
      "display_name": "Python 3",
      "language": "python",
      "name": "python3"
    },
    "language_info": {
      "codemirror_mode": {
        "name": "ipython",
        "version": 3
      },
      "file_extension": ".py",
      "mimetype": "text/x-python",
      "name": "python",
      "nbconvert_exporter": "python",
      "pygments_lexer": "ipython3",
      "version": "3.8.5"
    },
    "colab": {
      "name": "lab_assignment_09.ipynb",
      "provenance": [],
      "collapsed_sections": [],
      "include_colab_link": true
    }
  },
  "nbformat": 4,
  "nbformat_minor": 0
}