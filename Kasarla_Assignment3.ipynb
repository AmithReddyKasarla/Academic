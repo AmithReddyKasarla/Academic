{
 "cells": [
  {
   "cell_type": "code",
   "execution_count": 23,
   "id": "a41952f0",
   "metadata": {},
   "outputs": [],
   "source": [
    "#Importing all the libraries required\n",
    "import pyforest\n",
    "from sklearn.cluster import KMeans\n",
    "from sklearn.metrics import silhouette_samples, silhouette_score\n",
    "import sklearn.cluster as cluster"
   ]
  },
  {
   "cell_type": "code",
   "execution_count": 24,
   "id": "a5760ecd",
   "metadata": {},
   "outputs": [
    {
     "data": {
      "application/javascript": [
       "\n",
       "        if (window._pyforest_update_imports_cell) { window._pyforest_update_imports_cell('import matplotlib.pyplot as plt\\nimport pandas as pd\\nfrom sklearn import metrics\\nfrom sklearn.cluster import KMeans\\nfrom sklearn.manifold import TSNE'); }\n",
       "    "
      ],
      "text/plain": [
       "<IPython.core.display.Javascript object>"
      ]
     },
     "metadata": {},
     "output_type": "display_data"
    }
   ],
   "source": [
    "#Reading the data from local machine\n",
    "Train_data = pd.read_csv(\"C:\\\\Users\\\\Amith Reddy\\\\OneDrive\\\\Desktop\\\\Data Sets\\\\ALS_TrainingData_2223.csv\")"
   ]
  },
  {
   "cell_type": "code",
   "execution_count": 25,
   "id": "c53035a5",
   "metadata": {},
   "outputs": [
    {
     "data": {
      "text/html": [
       "<div>\n",
       "<style scoped>\n",
       "    .dataframe tbody tr th:only-of-type {\n",
       "        vertical-align: middle;\n",
       "    }\n",
       "\n",
       "    .dataframe tbody tr th {\n",
       "        vertical-align: top;\n",
       "    }\n",
       "\n",
       "    .dataframe thead th {\n",
       "        text-align: right;\n",
       "    }\n",
       "</style>\n",
       "<table border=\"1\" class=\"dataframe\">\n",
       "  <thead>\n",
       "    <tr style=\"text-align: right;\">\n",
       "      <th></th>\n",
       "      <th>ID</th>\n",
       "      <th>Age_mean</th>\n",
       "      <th>Albumin_max</th>\n",
       "      <th>Albumin_median</th>\n",
       "      <th>Albumin_min</th>\n",
       "      <th>Albumin_range</th>\n",
       "      <th>ALSFRS_slope</th>\n",
       "      <th>ALSFRS_Total_max</th>\n",
       "      <th>ALSFRS_Total_median</th>\n",
       "      <th>ALSFRS_Total_min</th>\n",
       "      <th>...</th>\n",
       "      <th>Sodium_min</th>\n",
       "      <th>Sodium_range</th>\n",
       "      <th>SubjectID</th>\n",
       "      <th>trunk_max</th>\n",
       "      <th>trunk_median</th>\n",
       "      <th>trunk_min</th>\n",
       "      <th>trunk_range</th>\n",
       "      <th>Urine.Ph_max</th>\n",
       "      <th>Urine.Ph_median</th>\n",
       "      <th>Urine.Ph_min</th>\n",
       "    </tr>\n",
       "  </thead>\n",
       "  <tbody>\n",
       "    <tr>\n",
       "      <th>0</th>\n",
       "      <td>1</td>\n",
       "      <td>65</td>\n",
       "      <td>57.0</td>\n",
       "      <td>40.5</td>\n",
       "      <td>38.0</td>\n",
       "      <td>0.066202</td>\n",
       "      <td>-0.965608</td>\n",
       "      <td>30</td>\n",
       "      <td>28.0</td>\n",
       "      <td>22</td>\n",
       "      <td>...</td>\n",
       "      <td>143.0</td>\n",
       "      <td>0.017422</td>\n",
       "      <td>533</td>\n",
       "      <td>8</td>\n",
       "      <td>7.0</td>\n",
       "      <td>7</td>\n",
       "      <td>0.002646</td>\n",
       "      <td>6.00</td>\n",
       "      <td>6.0</td>\n",
       "      <td>6.0</td>\n",
       "    </tr>\n",
       "    <tr>\n",
       "      <th>1</th>\n",
       "      <td>2</td>\n",
       "      <td>48</td>\n",
       "      <td>45.0</td>\n",
       "      <td>41.0</td>\n",
       "      <td>39.0</td>\n",
       "      <td>0.010453</td>\n",
       "      <td>-0.921717</td>\n",
       "      <td>37</td>\n",
       "      <td>33.0</td>\n",
       "      <td>21</td>\n",
       "      <td>...</td>\n",
       "      <td>136.0</td>\n",
       "      <td>0.010453</td>\n",
       "      <td>649</td>\n",
       "      <td>8</td>\n",
       "      <td>7.0</td>\n",
       "      <td>5</td>\n",
       "      <td>0.005386</td>\n",
       "      <td>7.00</td>\n",
       "      <td>5.0</td>\n",
       "      <td>5.0</td>\n",
       "    </tr>\n",
       "    <tr>\n",
       "      <th>2</th>\n",
       "      <td>3</td>\n",
       "      <td>38</td>\n",
       "      <td>50.0</td>\n",
       "      <td>47.0</td>\n",
       "      <td>45.0</td>\n",
       "      <td>0.008929</td>\n",
       "      <td>-0.914787</td>\n",
       "      <td>24</td>\n",
       "      <td>14.0</td>\n",
       "      <td>10</td>\n",
       "      <td>...</td>\n",
       "      <td>140.0</td>\n",
       "      <td>0.008929</td>\n",
       "      <td>1234</td>\n",
       "      <td>5</td>\n",
       "      <td>0.0</td>\n",
       "      <td>0</td>\n",
       "      <td>0.008929</td>\n",
       "      <td>6.00</td>\n",
       "      <td>5.0</td>\n",
       "      <td>5.0</td>\n",
       "    </tr>\n",
       "    <tr>\n",
       "      <th>3</th>\n",
       "      <td>4</td>\n",
       "      <td>63</td>\n",
       "      <td>47.0</td>\n",
       "      <td>44.0</td>\n",
       "      <td>41.0</td>\n",
       "      <td>0.012111</td>\n",
       "      <td>-0.598361</td>\n",
       "      <td>30</td>\n",
       "      <td>29.0</td>\n",
       "      <td>24</td>\n",
       "      <td>...</td>\n",
       "      <td>138.0</td>\n",
       "      <td>0.012469</td>\n",
       "      <td>2492</td>\n",
       "      <td>5</td>\n",
       "      <td>5.0</td>\n",
       "      <td>3</td>\n",
       "      <td>0.004988</td>\n",
       "      <td>7.00</td>\n",
       "      <td>6.0</td>\n",
       "      <td>5.0</td>\n",
       "    </tr>\n",
       "    <tr>\n",
       "      <th>4</th>\n",
       "      <td>5</td>\n",
       "      <td>63</td>\n",
       "      <td>47.0</td>\n",
       "      <td>45.5</td>\n",
       "      <td>42.0</td>\n",
       "      <td>0.008292</td>\n",
       "      <td>-0.444039</td>\n",
       "      <td>32</td>\n",
       "      <td>27.5</td>\n",
       "      <td>20</td>\n",
       "      <td>...</td>\n",
       "      <td>138.0</td>\n",
       "      <td>0.008292</td>\n",
       "      <td>2956</td>\n",
       "      <td>6</td>\n",
       "      <td>4.0</td>\n",
       "      <td>1</td>\n",
       "      <td>0.008489</td>\n",
       "      <td>6.00</td>\n",
       "      <td>5.0</td>\n",
       "      <td>5.0</td>\n",
       "    </tr>\n",
       "    <tr>\n",
       "      <th>...</th>\n",
       "      <td>...</td>\n",
       "      <td>...</td>\n",
       "      <td>...</td>\n",
       "      <td>...</td>\n",
       "      <td>...</td>\n",
       "      <td>...</td>\n",
       "      <td>...</td>\n",
       "      <td>...</td>\n",
       "      <td>...</td>\n",
       "      <td>...</td>\n",
       "      <td>...</td>\n",
       "      <td>...</td>\n",
       "      <td>...</td>\n",
       "      <td>...</td>\n",
       "      <td>...</td>\n",
       "      <td>...</td>\n",
       "      <td>...</td>\n",
       "      <td>...</td>\n",
       "      <td>...</td>\n",
       "      <td>...</td>\n",
       "      <td>...</td>\n",
       "    </tr>\n",
       "    <tr>\n",
       "      <th>2218</th>\n",
       "      <td>2419</td>\n",
       "      <td>33</td>\n",
       "      <td>50.0</td>\n",
       "      <td>49.0</td>\n",
       "      <td>45.0</td>\n",
       "      <td>0.008772</td>\n",
       "      <td>-0.239501</td>\n",
       "      <td>35</td>\n",
       "      <td>32.5</td>\n",
       "      <td>30</td>\n",
       "      <td>...</td>\n",
       "      <td>136.0</td>\n",
       "      <td>0.014035</td>\n",
       "      <td>997136</td>\n",
       "      <td>7</td>\n",
       "      <td>5.0</td>\n",
       "      <td>5</td>\n",
       "      <td>0.003643</td>\n",
       "      <td>7.00</td>\n",
       "      <td>6.0</td>\n",
       "      <td>5.0</td>\n",
       "    </tr>\n",
       "    <tr>\n",
       "      <th>2219</th>\n",
       "      <td>2420</td>\n",
       "      <td>61</td>\n",
       "      <td>47.0</td>\n",
       "      <td>45.0</td>\n",
       "      <td>42.0</td>\n",
       "      <td>0.009074</td>\n",
       "      <td>-0.388711</td>\n",
       "      <td>31</td>\n",
       "      <td>26.0</td>\n",
       "      <td>17</td>\n",
       "      <td>...</td>\n",
       "      <td>141.0</td>\n",
       "      <td>0.009074</td>\n",
       "      <td>998047</td>\n",
       "      <td>5</td>\n",
       "      <td>4.0</td>\n",
       "      <td>3</td>\n",
       "      <td>0.003630</td>\n",
       "      <td>7.41</td>\n",
       "      <td>5.5</td>\n",
       "      <td>5.0</td>\n",
       "    </tr>\n",
       "    <tr>\n",
       "      <th>2220</th>\n",
       "      <td>2421</td>\n",
       "      <td>47</td>\n",
       "      <td>46.0</td>\n",
       "      <td>44.0</td>\n",
       "      <td>41.0</td>\n",
       "      <td>0.012111</td>\n",
       "      <td>-0.108631</td>\n",
       "      <td>26</td>\n",
       "      <td>23.0</td>\n",
       "      <td>20</td>\n",
       "      <td>...</td>\n",
       "      <td>135.0</td>\n",
       "      <td>0.013123</td>\n",
       "      <td>998773</td>\n",
       "      <td>5</td>\n",
       "      <td>4.0</td>\n",
       "      <td>4</td>\n",
       "      <td>0.001825</td>\n",
       "      <td>9.00</td>\n",
       "      <td>6.0</td>\n",
       "      <td>5.0</td>\n",
       "    </tr>\n",
       "    <tr>\n",
       "      <th>2221</th>\n",
       "      <td>2422</td>\n",
       "      <td>37</td>\n",
       "      <td>49.0</td>\n",
       "      <td>44.0</td>\n",
       "      <td>39.0</td>\n",
       "      <td>0.017857</td>\n",
       "      <td>-0.855880</td>\n",
       "      <td>34</td>\n",
       "      <td>29.5</td>\n",
       "      <td>21</td>\n",
       "      <td>...</td>\n",
       "      <td>136.0</td>\n",
       "      <td>0.007143</td>\n",
       "      <td>998908</td>\n",
       "      <td>8</td>\n",
       "      <td>4.5</td>\n",
       "      <td>2</td>\n",
       "      <td>0.010714</td>\n",
       "      <td>6.00</td>\n",
       "      <td>5.0</td>\n",
       "      <td>5.0</td>\n",
       "    </tr>\n",
       "    <tr>\n",
       "      <th>2222</th>\n",
       "      <td>2424</td>\n",
       "      <td>48</td>\n",
       "      <td>48.0</td>\n",
       "      <td>45.0</td>\n",
       "      <td>40.0</td>\n",
       "      <td>0.018476</td>\n",
       "      <td>-2.050562</td>\n",
       "      <td>37</td>\n",
       "      <td>34.0</td>\n",
       "      <td>11</td>\n",
       "      <td>...</td>\n",
       "      <td>137.0</td>\n",
       "      <td>0.018476</td>\n",
       "      <td>999482</td>\n",
       "      <td>8</td>\n",
       "      <td>8.0</td>\n",
       "      <td>1</td>\n",
       "      <td>0.016129</td>\n",
       "      <td>5.00</td>\n",
       "      <td>5.0</td>\n",
       "      <td>5.0</td>\n",
       "    </tr>\n",
       "  </tbody>\n",
       "</table>\n",
       "<p>2223 rows × 101 columns</p>\n",
       "</div>"
      ],
      "text/plain": [
       "        ID  Age_mean  Albumin_max  Albumin_median  Albumin_min  Albumin_range  \\\n",
       "0        1        65         57.0            40.5         38.0       0.066202   \n",
       "1        2        48         45.0            41.0         39.0       0.010453   \n",
       "2        3        38         50.0            47.0         45.0       0.008929   \n",
       "3        4        63         47.0            44.0         41.0       0.012111   \n",
       "4        5        63         47.0            45.5         42.0       0.008292   \n",
       "...    ...       ...          ...             ...          ...            ...   \n",
       "2218  2419        33         50.0            49.0         45.0       0.008772   \n",
       "2219  2420        61         47.0            45.0         42.0       0.009074   \n",
       "2220  2421        47         46.0            44.0         41.0       0.012111   \n",
       "2221  2422        37         49.0            44.0         39.0       0.017857   \n",
       "2222  2424        48         48.0            45.0         40.0       0.018476   \n",
       "\n",
       "      ALSFRS_slope  ALSFRS_Total_max  ALSFRS_Total_median  ALSFRS_Total_min  \\\n",
       "0        -0.965608                30                 28.0                22   \n",
       "1        -0.921717                37                 33.0                21   \n",
       "2        -0.914787                24                 14.0                10   \n",
       "3        -0.598361                30                 29.0                24   \n",
       "4        -0.444039                32                 27.5                20   \n",
       "...            ...               ...                  ...               ...   \n",
       "2218     -0.239501                35                 32.5                30   \n",
       "2219     -0.388711                31                 26.0                17   \n",
       "2220     -0.108631                26                 23.0                20   \n",
       "2221     -0.855880                34                 29.5                21   \n",
       "2222     -2.050562                37                 34.0                11   \n",
       "\n",
       "      ...  Sodium_min  Sodium_range  SubjectID  trunk_max  trunk_median  \\\n",
       "0     ...       143.0      0.017422        533          8           7.0   \n",
       "1     ...       136.0      0.010453        649          8           7.0   \n",
       "2     ...       140.0      0.008929       1234          5           0.0   \n",
       "3     ...       138.0      0.012469       2492          5           5.0   \n",
       "4     ...       138.0      0.008292       2956          6           4.0   \n",
       "...   ...         ...           ...        ...        ...           ...   \n",
       "2218  ...       136.0      0.014035     997136          7           5.0   \n",
       "2219  ...       141.0      0.009074     998047          5           4.0   \n",
       "2220  ...       135.0      0.013123     998773          5           4.0   \n",
       "2221  ...       136.0      0.007143     998908          8           4.5   \n",
       "2222  ...       137.0      0.018476     999482          8           8.0   \n",
       "\n",
       "      trunk_min  trunk_range  Urine.Ph_max  Urine.Ph_median  Urine.Ph_min  \n",
       "0             7     0.002646          6.00              6.0           6.0  \n",
       "1             5     0.005386          7.00              5.0           5.0  \n",
       "2             0     0.008929          6.00              5.0           5.0  \n",
       "3             3     0.004988          7.00              6.0           5.0  \n",
       "4             1     0.008489          6.00              5.0           5.0  \n",
       "...         ...          ...           ...              ...           ...  \n",
       "2218          5     0.003643          7.00              6.0           5.0  \n",
       "2219          3     0.003630          7.41              5.5           5.0  \n",
       "2220          4     0.001825          9.00              6.0           5.0  \n",
       "2221          2     0.010714          6.00              5.0           5.0  \n",
       "2222          1     0.016129          5.00              5.0           5.0  \n",
       "\n",
       "[2223 rows x 101 columns]"
      ]
     },
     "execution_count": 25,
     "metadata": {},
     "output_type": "execute_result"
    }
   ],
   "source": [
    "Train_data"
   ]
  },
  {
   "cell_type": "code",
   "execution_count": 26,
   "id": "0223ab6b",
   "metadata": {},
   "outputs": [],
   "source": [
    "#Preprocessing the data, taking all the required features \n",
    "Train_df = Train_data[['Age_mean',\n",
    "'Albumin_median',\n",
    "'ALSFRS_Total_median',\n",
    "'ALT.SGPT._median',\n",
    "'AST.SGOT._median',\n",
    "'Bicarbonate_median',\n",
    "'Blood.Urea.Nitrogen..BUN._median',\n",
    "'bp_diastolic_median',\n",
    "'bp_systolic_median',\n",
    "'Calcium_median',\n",
    "'Chloride_median',\n",
    "'Creatinine_median',\n",
    "'Glucose_median',\n",
    "'hands_median',\n",
    "'Hematocrit_median',\n",
    "'Hemoglobin_median',\n",
    "'leg_median',\n",
    "'mouth_median',\n",
    "'onset_delta_mean',\n",
    "'onset_site_mean',\n",
    "'Platelets_median',\n",
    "'Potassium_median',\n",
    "'pulse_median',\n",
    "'respiratory_median',\n",
    "'Sodium_median',\n",
    "'trunk_median',\n",
    "'Urine.Ph_median',\n",
    "'ALSFRS_slope']]"
   ]
  },
  {
   "cell_type": "code",
   "execution_count": 27,
   "id": "b9cb3004",
   "metadata": {},
   "outputs": [
    {
     "data": {
      "text/html": [
       "<div>\n",
       "<style scoped>\n",
       "    .dataframe tbody tr th:only-of-type {\n",
       "        vertical-align: middle;\n",
       "    }\n",
       "\n",
       "    .dataframe tbody tr th {\n",
       "        vertical-align: top;\n",
       "    }\n",
       "\n",
       "    .dataframe thead th {\n",
       "        text-align: right;\n",
       "    }\n",
       "</style>\n",
       "<table border=\"1\" class=\"dataframe\">\n",
       "  <thead>\n",
       "    <tr style=\"text-align: right;\">\n",
       "      <th></th>\n",
       "      <th>Age_mean</th>\n",
       "      <th>Albumin_median</th>\n",
       "      <th>ALSFRS_Total_median</th>\n",
       "      <th>ALT.SGPT._median</th>\n",
       "      <th>AST.SGOT._median</th>\n",
       "      <th>Bicarbonate_median</th>\n",
       "      <th>Blood.Urea.Nitrogen..BUN._median</th>\n",
       "      <th>bp_diastolic_median</th>\n",
       "      <th>bp_systolic_median</th>\n",
       "      <th>Calcium_median</th>\n",
       "      <th>...</th>\n",
       "      <th>onset_delta_mean</th>\n",
       "      <th>onset_site_mean</th>\n",
       "      <th>Platelets_median</th>\n",
       "      <th>Potassium_median</th>\n",
       "      <th>pulse_median</th>\n",
       "      <th>respiratory_median</th>\n",
       "      <th>Sodium_median</th>\n",
       "      <th>trunk_median</th>\n",
       "      <th>Urine.Ph_median</th>\n",
       "      <th>ALSFRS_slope</th>\n",
       "    </tr>\n",
       "  </thead>\n",
       "  <tbody>\n",
       "    <tr>\n",
       "      <th>0</th>\n",
       "      <td>65</td>\n",
       "      <td>40.5</td>\n",
       "      <td>28.0</td>\n",
       "      <td>22.0</td>\n",
       "      <td>27.5</td>\n",
       "      <td>28.0</td>\n",
       "      <td>7.11945</td>\n",
       "      <td>83.0</td>\n",
       "      <td>139.0</td>\n",
       "      <td>2.220550</td>\n",
       "      <td>...</td>\n",
       "      <td>-1023</td>\n",
       "      <td>1</td>\n",
       "      <td>169.0</td>\n",
       "      <td>4.25</td>\n",
       "      <td>68.0</td>\n",
       "      <td>3.0</td>\n",
       "      <td>145.5</td>\n",
       "      <td>7.0</td>\n",
       "      <td>6.0</td>\n",
       "      <td>-0.965608</td>\n",
       "    </tr>\n",
       "    <tr>\n",
       "      <th>1</th>\n",
       "      <td>48</td>\n",
       "      <td>41.0</td>\n",
       "      <td>33.0</td>\n",
       "      <td>13.0</td>\n",
       "      <td>17.0</td>\n",
       "      <td>28.0</td>\n",
       "      <td>4.74630</td>\n",
       "      <td>78.0</td>\n",
       "      <td>132.5</td>\n",
       "      <td>2.170650</td>\n",
       "      <td>...</td>\n",
       "      <td>-341</td>\n",
       "      <td>1</td>\n",
       "      <td>264.0</td>\n",
       "      <td>4.30</td>\n",
       "      <td>76.0</td>\n",
       "      <td>4.0</td>\n",
       "      <td>138.0</td>\n",
       "      <td>7.0</td>\n",
       "      <td>5.0</td>\n",
       "      <td>-0.921717</td>\n",
       "    </tr>\n",
       "    <tr>\n",
       "      <th>2</th>\n",
       "      <td>38</td>\n",
       "      <td>47.0</td>\n",
       "      <td>14.0</td>\n",
       "      <td>20.0</td>\n",
       "      <td>19.0</td>\n",
       "      <td>29.0</td>\n",
       "      <td>4.38120</td>\n",
       "      <td>76.0</td>\n",
       "      <td>110.0</td>\n",
       "      <td>2.295400</td>\n",
       "      <td>...</td>\n",
       "      <td>-1181</td>\n",
       "      <td>1</td>\n",
       "      <td>213.0</td>\n",
       "      <td>4.00</td>\n",
       "      <td>73.0</td>\n",
       "      <td>4.0</td>\n",
       "      <td>143.0</td>\n",
       "      <td>0.0</td>\n",
       "      <td>5.0</td>\n",
       "      <td>-0.914787</td>\n",
       "    </tr>\n",
       "    <tr>\n",
       "      <th>3</th>\n",
       "      <td>63</td>\n",
       "      <td>44.0</td>\n",
       "      <td>29.0</td>\n",
       "      <td>60.0</td>\n",
       "      <td>40.0</td>\n",
       "      <td>20.0</td>\n",
       "      <td>8.03220</td>\n",
       "      <td>80.0</td>\n",
       "      <td>130.0</td>\n",
       "      <td>2.345300</td>\n",
       "      <td>...</td>\n",
       "      <td>-365</td>\n",
       "      <td>2</td>\n",
       "      <td>233.0</td>\n",
       "      <td>4.20</td>\n",
       "      <td>72.0</td>\n",
       "      <td>3.0</td>\n",
       "      <td>139.0</td>\n",
       "      <td>5.0</td>\n",
       "      <td>6.0</td>\n",
       "      <td>-0.598361</td>\n",
       "    </tr>\n",
       "    <tr>\n",
       "      <th>4</th>\n",
       "      <td>63</td>\n",
       "      <td>45.5</td>\n",
       "      <td>27.5</td>\n",
       "      <td>26.5</td>\n",
       "      <td>26.5</td>\n",
       "      <td>28.0</td>\n",
       "      <td>4.19865</td>\n",
       "      <td>80.0</td>\n",
       "      <td>130.0</td>\n",
       "      <td>2.257975</td>\n",
       "      <td>...</td>\n",
       "      <td>-1768</td>\n",
       "      <td>2</td>\n",
       "      <td>283.5</td>\n",
       "      <td>3.75</td>\n",
       "      <td>96.0</td>\n",
       "      <td>4.0</td>\n",
       "      <td>140.0</td>\n",
       "      <td>4.0</td>\n",
       "      <td>5.0</td>\n",
       "      <td>-0.444039</td>\n",
       "    </tr>\n",
       "    <tr>\n",
       "      <th>...</th>\n",
       "      <td>...</td>\n",
       "      <td>...</td>\n",
       "      <td>...</td>\n",
       "      <td>...</td>\n",
       "      <td>...</td>\n",
       "      <td>...</td>\n",
       "      <td>...</td>\n",
       "      <td>...</td>\n",
       "      <td>...</td>\n",
       "      <td>...</td>\n",
       "      <td>...</td>\n",
       "      <td>...</td>\n",
       "      <td>...</td>\n",
       "      <td>...</td>\n",
       "      <td>...</td>\n",
       "      <td>...</td>\n",
       "      <td>...</td>\n",
       "      <td>...</td>\n",
       "      <td>...</td>\n",
       "      <td>...</td>\n",
       "      <td>...</td>\n",
       "    </tr>\n",
       "    <tr>\n",
       "      <th>2218</th>\n",
       "      <td>33</td>\n",
       "      <td>49.0</td>\n",
       "      <td>32.5</td>\n",
       "      <td>27.0</td>\n",
       "      <td>27.0</td>\n",
       "      <td>28.0</td>\n",
       "      <td>3.65100</td>\n",
       "      <td>78.0</td>\n",
       "      <td>115.0</td>\n",
       "      <td>2.320350</td>\n",
       "      <td>...</td>\n",
       "      <td>-817</td>\n",
       "      <td>2</td>\n",
       "      <td>202.0</td>\n",
       "      <td>4.10</td>\n",
       "      <td>67.5</td>\n",
       "      <td>4.0</td>\n",
       "      <td>141.0</td>\n",
       "      <td>5.0</td>\n",
       "      <td>6.0</td>\n",
       "      <td>-0.239501</td>\n",
       "    </tr>\n",
       "    <tr>\n",
       "      <th>2219</th>\n",
       "      <td>61</td>\n",
       "      <td>45.0</td>\n",
       "      <td>26.0</td>\n",
       "      <td>18.0</td>\n",
       "      <td>22.0</td>\n",
       "      <td>27.8</td>\n",
       "      <td>5.00000</td>\n",
       "      <td>90.0</td>\n",
       "      <td>140.0</td>\n",
       "      <td>2.300000</td>\n",
       "      <td>...</td>\n",
       "      <td>-527</td>\n",
       "      <td>1</td>\n",
       "      <td>217.0</td>\n",
       "      <td>4.25</td>\n",
       "      <td>78.0</td>\n",
       "      <td>4.0</td>\n",
       "      <td>143.0</td>\n",
       "      <td>4.0</td>\n",
       "      <td>5.5</td>\n",
       "      <td>-0.388711</td>\n",
       "    </tr>\n",
       "    <tr>\n",
       "      <th>2220</th>\n",
       "      <td>47</td>\n",
       "      <td>44.0</td>\n",
       "      <td>23.0</td>\n",
       "      <td>76.5</td>\n",
       "      <td>46.0</td>\n",
       "      <td>28.0</td>\n",
       "      <td>6.43000</td>\n",
       "      <td>86.0</td>\n",
       "      <td>120.0</td>\n",
       "      <td>2.340000</td>\n",
       "      <td>...</td>\n",
       "      <td>-1589</td>\n",
       "      <td>2</td>\n",
       "      <td>222.0</td>\n",
       "      <td>3.95</td>\n",
       "      <td>86.0</td>\n",
       "      <td>4.0</td>\n",
       "      <td>141.0</td>\n",
       "      <td>4.0</td>\n",
       "      <td>6.0</td>\n",
       "      <td>-0.108631</td>\n",
       "    </tr>\n",
       "    <tr>\n",
       "      <th>2221</th>\n",
       "      <td>37</td>\n",
       "      <td>44.0</td>\n",
       "      <td>29.5</td>\n",
       "      <td>51.0</td>\n",
       "      <td>44.0</td>\n",
       "      <td>29.0</td>\n",
       "      <td>4.01610</td>\n",
       "      <td>77.0</td>\n",
       "      <td>122.0</td>\n",
       "      <td>2.320350</td>\n",
       "      <td>...</td>\n",
       "      <td>-558</td>\n",
       "      <td>2</td>\n",
       "      <td>237.0</td>\n",
       "      <td>4.20</td>\n",
       "      <td>90.0</td>\n",
       "      <td>4.0</td>\n",
       "      <td>139.0</td>\n",
       "      <td>4.5</td>\n",
       "      <td>5.0</td>\n",
       "      <td>-0.855880</td>\n",
       "    </tr>\n",
       "    <tr>\n",
       "      <th>2222</th>\n",
       "      <td>48</td>\n",
       "      <td>45.0</td>\n",
       "      <td>34.0</td>\n",
       "      <td>32.0</td>\n",
       "      <td>28.0</td>\n",
       "      <td>27.0</td>\n",
       "      <td>5.36000</td>\n",
       "      <td>80.0</td>\n",
       "      <td>130.0</td>\n",
       "      <td>2.430000</td>\n",
       "      <td>...</td>\n",
       "      <td>-204</td>\n",
       "      <td>1</td>\n",
       "      <td>299.0</td>\n",
       "      <td>4.60</td>\n",
       "      <td>84.0</td>\n",
       "      <td>4.0</td>\n",
       "      <td>141.0</td>\n",
       "      <td>8.0</td>\n",
       "      <td>5.0</td>\n",
       "      <td>-2.050562</td>\n",
       "    </tr>\n",
       "  </tbody>\n",
       "</table>\n",
       "<p>2223 rows × 28 columns</p>\n",
       "</div>"
      ],
      "text/plain": [
       "      Age_mean  Albumin_median  ALSFRS_Total_median  ALT.SGPT._median  \\\n",
       "0           65            40.5                 28.0              22.0   \n",
       "1           48            41.0                 33.0              13.0   \n",
       "2           38            47.0                 14.0              20.0   \n",
       "3           63            44.0                 29.0              60.0   \n",
       "4           63            45.5                 27.5              26.5   \n",
       "...        ...             ...                  ...               ...   \n",
       "2218        33            49.0                 32.5              27.0   \n",
       "2219        61            45.0                 26.0              18.0   \n",
       "2220        47            44.0                 23.0              76.5   \n",
       "2221        37            44.0                 29.5              51.0   \n",
       "2222        48            45.0                 34.0              32.0   \n",
       "\n",
       "      AST.SGOT._median  Bicarbonate_median  Blood.Urea.Nitrogen..BUN._median  \\\n",
       "0                 27.5                28.0                           7.11945   \n",
       "1                 17.0                28.0                           4.74630   \n",
       "2                 19.0                29.0                           4.38120   \n",
       "3                 40.0                20.0                           8.03220   \n",
       "4                 26.5                28.0                           4.19865   \n",
       "...                ...                 ...                               ...   \n",
       "2218              27.0                28.0                           3.65100   \n",
       "2219              22.0                27.8                           5.00000   \n",
       "2220              46.0                28.0                           6.43000   \n",
       "2221              44.0                29.0                           4.01610   \n",
       "2222              28.0                27.0                           5.36000   \n",
       "\n",
       "      bp_diastolic_median  bp_systolic_median  Calcium_median  ...  \\\n",
       "0                    83.0               139.0        2.220550  ...   \n",
       "1                    78.0               132.5        2.170650  ...   \n",
       "2                    76.0               110.0        2.295400  ...   \n",
       "3                    80.0               130.0        2.345300  ...   \n",
       "4                    80.0               130.0        2.257975  ...   \n",
       "...                   ...                 ...             ...  ...   \n",
       "2218                 78.0               115.0        2.320350  ...   \n",
       "2219                 90.0               140.0        2.300000  ...   \n",
       "2220                 86.0               120.0        2.340000  ...   \n",
       "2221                 77.0               122.0        2.320350  ...   \n",
       "2222                 80.0               130.0        2.430000  ...   \n",
       "\n",
       "      onset_delta_mean  onset_site_mean  Platelets_median  Potassium_median  \\\n",
       "0                -1023                1             169.0              4.25   \n",
       "1                 -341                1             264.0              4.30   \n",
       "2                -1181                1             213.0              4.00   \n",
       "3                 -365                2             233.0              4.20   \n",
       "4                -1768                2             283.5              3.75   \n",
       "...                ...              ...               ...               ...   \n",
       "2218              -817                2             202.0              4.10   \n",
       "2219              -527                1             217.0              4.25   \n",
       "2220             -1589                2             222.0              3.95   \n",
       "2221              -558                2             237.0              4.20   \n",
       "2222              -204                1             299.0              4.60   \n",
       "\n",
       "      pulse_median  respiratory_median  Sodium_median  trunk_median  \\\n",
       "0             68.0                 3.0          145.5           7.0   \n",
       "1             76.0                 4.0          138.0           7.0   \n",
       "2             73.0                 4.0          143.0           0.0   \n",
       "3             72.0                 3.0          139.0           5.0   \n",
       "4             96.0                 4.0          140.0           4.0   \n",
       "...            ...                 ...            ...           ...   \n",
       "2218          67.5                 4.0          141.0           5.0   \n",
       "2219          78.0                 4.0          143.0           4.0   \n",
       "2220          86.0                 4.0          141.0           4.0   \n",
       "2221          90.0                 4.0          139.0           4.5   \n",
       "2222          84.0                 4.0          141.0           8.0   \n",
       "\n",
       "      Urine.Ph_median  ALSFRS_slope  \n",
       "0                 6.0     -0.965608  \n",
       "1                 5.0     -0.921717  \n",
       "2                 5.0     -0.914787  \n",
       "3                 6.0     -0.598361  \n",
       "4                 5.0     -0.444039  \n",
       "...               ...           ...  \n",
       "2218              6.0     -0.239501  \n",
       "2219              5.5     -0.388711  \n",
       "2220              6.0     -0.108631  \n",
       "2221              5.0     -0.855880  \n",
       "2222              5.0     -2.050562  \n",
       "\n",
       "[2223 rows x 28 columns]"
      ]
     },
     "execution_count": 27,
     "metadata": {},
     "output_type": "execute_result"
    }
   ],
   "source": [
    "Train_df"
   ]
  },
  {
   "cell_type": "code",
   "execution_count": 28,
   "id": "10f345a7",
   "metadata": {},
   "outputs": [
    {
     "data": {
      "application/javascript": [
       "\n",
       "        if (window._pyforest_update_imports_cell) { window._pyforest_update_imports_cell('import matplotlib.pyplot as plt\\nimport pandas as pd\\nfrom sklearn import metrics\\nfrom sklearn.cluster import KMeans\\nfrom sklearn.manifold import TSNE'); }\n",
       "    "
      ],
      "text/plain": [
       "<IPython.core.display.Javascript object>"
      ]
     },
     "metadata": {},
     "output_type": "display_data"
    },
    {
     "data": {
      "application/javascript": [
       "\n",
       "        if (window._pyforest_update_imports_cell) { window._pyforest_update_imports_cell('import matplotlib.pyplot as plt\\nimport pandas as pd\\nfrom sklearn import metrics\\nfrom sklearn.cluster import KMeans\\nfrom sklearn.manifold import TSNE'); }\n",
       "    "
      ],
      "text/plain": [
       "<IPython.core.display.Javascript object>"
      ]
     },
     "metadata": {},
     "output_type": "display_data"
    },
    {
     "data": {
      "application/javascript": [
       "\n",
       "        if (window._pyforest_update_imports_cell) { window._pyforest_update_imports_cell('import matplotlib.pyplot as plt\\nimport pandas as pd\\nfrom sklearn import metrics\\nfrom sklearn.cluster import KMeans\\nfrom sklearn.manifold import TSNE'); }\n",
       "    "
      ],
      "text/plain": [
       "<IPython.core.display.Javascript object>"
      ]
     },
     "metadata": {},
     "output_type": "display_data"
    },
    {
     "data": {
      "application/javascript": [
       "\n",
       "        if (window._pyforest_update_imports_cell) { window._pyforest_update_imports_cell('import matplotlib.pyplot as plt\\nimport pandas as pd\\nfrom sklearn import metrics\\nfrom sklearn.cluster import KMeans\\nfrom sklearn.manifold import TSNE'); }\n",
       "    "
      ],
      "text/plain": [
       "<IPython.core.display.Javascript object>"
      ]
     },
     "metadata": {},
     "output_type": "display_data"
    },
    {
     "data": {
      "application/javascript": [
       "\n",
       "        if (window._pyforest_update_imports_cell) { window._pyforest_update_imports_cell('import matplotlib.pyplot as plt\\nimport pandas as pd\\nfrom sklearn import metrics\\nfrom sklearn.cluster import KMeans\\nfrom sklearn.manifold import TSNE'); }\n",
       "    "
      ],
      "text/plain": [
       "<IPython.core.display.Javascript object>"
      ]
     },
     "metadata": {},
     "output_type": "display_data"
    },
    {
     "data": {
      "image/png": "[encoded data removed]",
      "text/plain": [
       "<Figure size 432x288 with 1 Axes>"
      ]
     },
     "metadata": {
      "needs_background": "light"
     },
     "output_type": "display_data"
    }
   ],
   "source": [
    "#Building Elbow method, wcss is within clusters sum of squares.\n",
    "wcss=[]\n",
    "for k in range(1,10):\n",
    "    kmeans=KMeans(n_clusters=k, init='k-means++', random_state=0)\n",
    "    kmeans.fit(Train_df)\n",
    "    wcss.append(kmeans.inertia_)\n",
    "plt.title('Elbow Method. for Train Data')\n",
    "plt.xlabel('Number of Clusters')\n",
    "plt.ylabel('WCSS')\n",
    "plt.plot(range(1,10),wcss,marker = '*')\n",
    "plt.show()"
   ]
  },
  {
   "cell_type": "code",
   "execution_count": 29,
   "id": "db68b429",
   "metadata": {},
   "outputs": [
    {
     "data": {
      "application/javascript": [
       "\n",
       "        if (window._pyforest_update_imports_cell) { window._pyforest_update_imports_cell('import matplotlib.pyplot as plt\\nimport pandas as pd\\nfrom sklearn import metrics\\nfrom sklearn.cluster import KMeans\\nfrom sklearn.manifold import TSNE'); }\n",
       "    "
      ],
      "text/plain": [
       "<IPython.core.display.Javascript object>"
      ]
     },
     "metadata": {},
     "output_type": "display_data"
    },
    {
     "name": "stdout",
     "output_type": "stream",
     "text": [
      "Silhouette score for cluster = 2 is 0.6146502214569362\n"
     ]
    },
    {
     "data": {
      "application/javascript": [
       "\n",
       "        if (window._pyforest_update_imports_cell) { window._pyforest_update_imports_cell('import matplotlib.pyplot as plt\\nimport pandas as pd\\nfrom sklearn import metrics\\nfrom sklearn.cluster import KMeans\\nfrom sklearn.manifold import TSNE'); }\n",
       "    "
      ],
      "text/plain": [
       "<IPython.core.display.Javascript object>"
      ]
     },
     "metadata": {},
     "output_type": "display_data"
    },
    {
     "name": "stdout",
     "output_type": "stream",
     "text": [
      "Silhouette score for cluster = 3 is 0.5293525995236155\n"
     ]
    },
    {
     "data": {
      "application/javascript": [
       "\n",
       "        if (window._pyforest_update_imports_cell) { window._pyforest_update_imports_cell('import matplotlib.pyplot as plt\\nimport pandas as pd\\nfrom sklearn import metrics\\nfrom sklearn.cluster import KMeans\\nfrom sklearn.manifold import TSNE'); }\n",
       "    "
      ],
      "text/plain": [
       "<IPython.core.display.Javascript object>"
      ]
     },
     "metadata": {},
     "output_type": "display_data"
    },
    {
     "name": "stdout",
     "output_type": "stream",
     "text": [
      "Silhouette score for cluster = 4 is 0.4847972474623274\n"
     ]
    },
    {
     "data": {
      "application/javascript": [
       "\n",
       "        if (window._pyforest_update_imports_cell) { window._pyforest_update_imports_cell('import matplotlib.pyplot as plt\\nimport pandas as pd\\nfrom sklearn import metrics\\nfrom sklearn.cluster import KMeans\\nfrom sklearn.manifold import TSNE'); }\n",
       "    "
      ],
      "text/plain": [
       "<IPython.core.display.Javascript object>"
      ]
     },
     "metadata": {},
     "output_type": "display_data"
    },
    {
     "name": "stdout",
     "output_type": "stream",
     "text": [
      "Silhouette score for cluster = 5 is 0.43257325758057585\n"
     ]
    },
    {
     "data": {
      "application/javascript": [
       "\n",
       "        if (window._pyforest_update_imports_cell) { window._pyforest_update_imports_cell('import matplotlib.pyplot as plt\\nimport pandas as pd\\nfrom sklearn import metrics\\nfrom sklearn.cluster import KMeans\\nfrom sklearn.manifold import TSNE'); }\n",
       "    "
      ],
      "text/plain": [
       "<IPython.core.display.Javascript object>"
      ]
     },
     "metadata": {},
     "output_type": "display_data"
    },
    {
     "name": "stdout",
     "output_type": "stream",
     "text": [
      "Silhouette score for cluster = 6 is 0.41097515333145546\n"
     ]
    },
    {
     "data": {
      "application/javascript": [
       "\n",
       "        if (window._pyforest_update_imports_cell) { window._pyforest_update_imports_cell('import matplotlib.pyplot as plt\\nimport pandas as pd\\nfrom sklearn import metrics\\nfrom sklearn.cluster import KMeans\\nfrom sklearn.manifold import TSNE'); }\n",
       "    "
      ],
      "text/plain": [
       "<IPython.core.display.Javascript object>"
      ]
     },
     "metadata": {},
     "output_type": "display_data"
    },
    {
     "name": "stdout",
     "output_type": "stream",
     "text": [
      "Silhouette score for cluster = 7 is 0.37676184919454514\n"
     ]
    },
    {
     "data": {
      "application/javascript": [
       "\n",
       "        if (window._pyforest_update_imports_cell) { window._pyforest_update_imports_cell('import matplotlib.pyplot as plt\\nimport pandas as pd\\nfrom sklearn import metrics\\nfrom sklearn.cluster import KMeans\\nfrom sklearn.manifold import TSNE'); }\n",
       "    "
      ],
      "text/plain": [
       "<IPython.core.display.Javascript object>"
      ]
     },
     "metadata": {},
     "output_type": "display_data"
    },
    {
     "name": "stdout",
     "output_type": "stream",
     "text": [
      "Silhouette score for cluster = 8 is 0.37806291852466234\n"
     ]
    },
    {
     "data": {
      "application/javascript": [
       "\n",
       "        if (window._pyforest_update_imports_cell) { window._pyforest_update_imports_cell('import matplotlib.pyplot as plt\\nimport pandas as pd\\nfrom sklearn import metrics\\nfrom sklearn.cluster import KMeans\\nfrom sklearn.manifold import TSNE'); }\n",
       "    "
      ],
      "text/plain": [
       "<IPython.core.display.Javascript object>"
      ]
     },
     "metadata": {},
     "output_type": "display_data"
    },
    {
     "name": "stdout",
     "output_type": "stream",
     "text": [
      "Silhouette score for cluster = 9 is 0.3391390248011139\n"
     ]
    }
   ],
   "source": [
    "#Finding the Silhouette score \n",
    "for i in range(2,10):\n",
    "    labels=cluster.KMeans(n_clusters=i,init='k-means++',random_state=200).fit(Train_df).labels_\n",
    "    print(\"Silhouette score for cluster = \" +str(i)+ \" is \"+str(metrics.silhouette_score(Train_df,labels,metric='euclidean',sample_size=1000,random_state=200)))"
   ]
  },
  {
   "cell_type": "code",
   "execution_count": 30,
   "id": "ed2864b9",
   "metadata": {},
   "outputs": [
    {
     "data": {
      "application/javascript": [
       "\n",
       "        if (window._pyforest_update_imports_cell) { window._pyforest_update_imports_cell('import matplotlib.pyplot as plt\\nimport pandas as pd\\nfrom sklearn import metrics\\nfrom sklearn.cluster import KMeans\\nfrom sklearn.manifold import TSNE'); }\n",
       "    "
      ],
      "text/plain": [
       "<IPython.core.display.Javascript object>"
      ]
     },
     "metadata": {},
     "output_type": "display_data"
    },
    {
     "data": {
      "application/javascript": [
       "\n",
       "        if (window._pyforest_update_imports_cell) { window._pyforest_update_imports_cell('import matplotlib.pyplot as plt\\nimport pandas as pd\\nfrom sklearn import metrics\\nfrom sklearn.cluster import KMeans\\nfrom sklearn.manifold import TSNE'); }\n",
       "    "
      ],
      "text/plain": [
       "<IPython.core.display.Javascript object>"
      ]
     },
     "metadata": {},
     "output_type": "display_data"
    },
    {
     "data": {
      "application/javascript": [
       "\n",
       "        if (window._pyforest_update_imports_cell) { window._pyforest_update_imports_cell('import matplotlib.pyplot as plt\\nimport pandas as pd\\nfrom sklearn import metrics\\nfrom sklearn.cluster import KMeans\\nfrom sklearn.manifold import TSNE'); }\n",
       "    "
      ],
      "text/plain": [
       "<IPython.core.display.Javascript object>"
      ]
     },
     "metadata": {},
     "output_type": "display_data"
    },
    {
     "data": {
      "application/javascript": [
       "\n",
       "        if (window._pyforest_update_imports_cell) { window._pyforest_update_imports_cell('import matplotlib.pyplot as plt\\nimport pandas as pd\\nfrom sklearn import metrics\\nfrom sklearn.cluster import KMeans\\nfrom sklearn.manifold import TSNE'); }\n",
       "    "
      ],
      "text/plain": [
       "<IPython.core.display.Javascript object>"
      ]
     },
     "metadata": {},
     "output_type": "display_data"
    },
    {
     "data": {
      "application/javascript": [
       "\n",
       "        if (window._pyforest_update_imports_cell) { window._pyforest_update_imports_cell('import matplotlib.pyplot as plt\\nimport pandas as pd\\nfrom sklearn import metrics\\nfrom sklearn.cluster import KMeans\\nfrom sklearn.manifold import TSNE'); }\n",
       "    "
      ],
      "text/plain": [
       "<IPython.core.display.Javascript object>"
      ]
     },
     "metadata": {},
     "output_type": "display_data"
    },
    {
     "data": {
      "text/plain": [
       "<matplotlib.legend.Legend at 0x2660d80cca0>"
      ]
     },
     "execution_count": 30,
     "metadata": {},
     "output_type": "execute_result"
    },
    {
     "data": {
      "image/png": "[encoded data removed]",
      "text/plain": [
       "<Figure size 432x288 with 1 Axes>"
      ]
     },
     "metadata": {
      "needs_background": "light"
     },
     "output_type": "display_data"
    }
   ],
   "source": [
    "#plotting clusters with K = 2\n",
    "tsne = TSNE().fit_transform(Train_df)\n",
    "\n",
    "km = KMeans(n_clusters=2, random_state = 0)     \n",
    "y_km = km.fit_predict(tsne)     \n",
    "\n",
    "plt.scatter(tsne[y_km==0,0],tsne[y_km==0,1],s=50,c=\"orange\",marker=\"o\",label=\"cluster 1\")    \n",
    "plt.scatter(tsne[y_km==1,0],tsne[y_km==1,1],s=50,c=\"green\",marker=\"o\",label=\"cluster 2\")  \n",
    "plt.scatter(km.cluster_centers_[:,0],km.cluster_centers_[:,1],s=250,marker=\"*\",c=\"red\",label=\"cluster center\")   \n",
    "plt.legend()"
   ]
  },
  {
   "cell_type": "code",
   "execution_count": 31,
   "id": "fa5085a0",
   "metadata": {},
   "outputs": [
    {
     "data": {
      "application/javascript": [
       "\n",
       "        if (window._pyforest_update_imports_cell) { window._pyforest_update_imports_cell('import matplotlib.pyplot as plt\\nimport pandas as pd\\nfrom sklearn import metrics\\nfrom sklearn.cluster import KMeans\\nfrom sklearn.manifold import TSNE'); }\n",
       "    "
      ],
      "text/plain": [
       "<IPython.core.display.Javascript object>"
      ]
     },
     "metadata": {},
     "output_type": "display_data"
    },
    {
     "data": {
      "application/javascript": [
       "\n",
       "        if (window._pyforest_update_imports_cell) { window._pyforest_update_imports_cell('import matplotlib.pyplot as plt\\nimport pandas as pd\\nfrom sklearn import metrics\\nfrom sklearn.cluster import KMeans\\nfrom sklearn.manifold import TSNE'); }\n",
       "    "
      ],
      "text/plain": [
       "<IPython.core.display.Javascript object>"
      ]
     },
     "metadata": {},
     "output_type": "display_data"
    },
    {
     "data": {
      "application/javascript": [
       "\n",
       "        if (window._pyforest_update_imports_cell) { window._pyforest_update_imports_cell('import matplotlib.pyplot as plt\\nimport pandas as pd\\nfrom sklearn import metrics\\nfrom sklearn.cluster import KMeans\\nfrom sklearn.manifold import TSNE'); }\n",
       "    "
      ],
      "text/plain": [
       "<IPython.core.display.Javascript object>"
      ]
     },
     "metadata": {},
     "output_type": "display_data"
    },
    {
     "data": {
      "application/javascript": [
       "\n",
       "        if (window._pyforest_update_imports_cell) { window._pyforest_update_imports_cell('import matplotlib.pyplot as plt\\nimport pandas as pd\\nfrom sklearn import metrics\\nfrom sklearn.cluster import KMeans\\nfrom sklearn.manifold import TSNE'); }\n",
       "    "
      ],
      "text/plain": [
       "<IPython.core.display.Javascript object>"
      ]
     },
     "metadata": {},
     "output_type": "display_data"
    },
    {
     "data": {
      "application/javascript": [
       "\n",
       "        if (window._pyforest_update_imports_cell) { window._pyforest_update_imports_cell('import matplotlib.pyplot as plt\\nimport pandas as pd\\nfrom sklearn import metrics\\nfrom sklearn.cluster import KMeans\\nfrom sklearn.manifold import TSNE'); }\n",
       "    "
      ],
      "text/plain": [
       "<IPython.core.display.Javascript object>"
      ]
     },
     "metadata": {},
     "output_type": "display_data"
    },
    {
     "data": {
      "application/javascript": [
       "\n",
       "        if (window._pyforest_update_imports_cell) { window._pyforest_update_imports_cell('import matplotlib.pyplot as plt\\nimport pandas as pd\\nfrom sklearn import metrics\\nfrom sklearn.cluster import KMeans\\nfrom sklearn.manifold import TSNE'); }\n",
       "    "
      ],
      "text/plain": [
       "<IPython.core.display.Javascript object>"
      ]
     },
     "metadata": {},
     "output_type": "display_data"
    },
    {
     "data": {
      "text/plain": [
       "<matplotlib.legend.Legend at 0x2660b82bee0>"
      ]
     },
     "execution_count": 31,
     "metadata": {},
     "output_type": "execute_result"
    },
    {
     "data": {
      "image/png": "[encoded data removed]",
      "text/plain": [
       "<Figure size 432x288 with 1 Axes>"
      ]
     },
     "metadata": {
      "needs_background": "light"
     },
     "output_type": "display_data"
    }
   ],
   "source": [
    "#plotting clusters with K = 3\n",
    "tsne = TSNE().fit_transform(Train_df)\n",
    "\n",
    "km = KMeans(n_clusters=3, random_state = 0)     \n",
    "y_km = km.fit_predict(tsne)     \n",
    "\n",
    "plt.scatter(tsne[y_km==0,0],tsne[y_km==0,1],s=50,c=\"orange\",marker=\"o\",label=\"cluster 1\")    \n",
    "plt.scatter(tsne[y_km==1,0],tsne[y_km==1,1],s=50,c=\"blue\",marker=\"o\",label=\"cluster 2\")    \n",
    "plt.scatter(tsne[y_km==2,0],tsne[y_km==2,1],s=50,c=\"green\",marker=\"o\",label=\"cluster 3\") \n",
    "plt.scatter(km.cluster_centers_[:,0],km.cluster_centers_[:,1],s=250,marker=\"*\",c=\"red\",label=\"cluster center\")   \n",
    "plt.legend()"
   ]
  },
  {
   "cell_type": "code",
   "execution_count": 32,
   "id": "3e6957d1",
   "metadata": {},
   "outputs": [
    {
     "data": {
      "application/javascript": [
       "\n",
       "        if (window._pyforest_update_imports_cell) { window._pyforest_update_imports_cell('import matplotlib.pyplot as plt\\nimport pandas as pd\\nfrom sklearn import metrics\\nfrom sklearn.cluster import KMeans\\nfrom sklearn.manifold import TSNE'); }\n",
       "    "
      ],
      "text/plain": [
       "<IPython.core.display.Javascript object>"
      ]
     },
     "metadata": {},
     "output_type": "display_data"
    },
    {
     "data": {
      "application/javascript": [
       "\n",
       "        if (window._pyforest_update_imports_cell) { window._pyforest_update_imports_cell('import matplotlib.pyplot as plt\\nimport pandas as pd\\nfrom sklearn import metrics\\nfrom sklearn.cluster import KMeans\\nfrom sklearn.manifold import TSNE'); }\n",
       "    "
      ],
      "text/plain": [
       "<IPython.core.display.Javascript object>"
      ]
     },
     "metadata": {},
     "output_type": "display_data"
    },
    {
     "data": {
      "application/javascript": [
       "\n",
       "        if (window._pyforest_update_imports_cell) { window._pyforest_update_imports_cell('import matplotlib.pyplot as plt\\nimport pandas as pd\\nfrom sklearn import metrics\\nfrom sklearn.cluster import KMeans\\nfrom sklearn.manifold import TSNE'); }\n",
       "    "
      ],
      "text/plain": [
       "<IPython.core.display.Javascript object>"
      ]
     },
     "metadata": {},
     "output_type": "display_data"
    },
    {
     "data": {
      "application/javascript": [
       "\n",
       "        if (window._pyforest_update_imports_cell) { window._pyforest_update_imports_cell('import matplotlib.pyplot as plt\\nimport pandas as pd\\nfrom sklearn import metrics\\nfrom sklearn.cluster import KMeans\\nfrom sklearn.manifold import TSNE'); }\n",
       "    "
      ],
      "text/plain": [
       "<IPython.core.display.Javascript object>"
      ]
     },
     "metadata": {},
     "output_type": "display_data"
    },
    {
     "data": {
      "application/javascript": [
       "\n",
       "        if (window._pyforest_update_imports_cell) { window._pyforest_update_imports_cell('import matplotlib.pyplot as plt\\nimport pandas as pd\\nfrom sklearn import metrics\\nfrom sklearn.cluster import KMeans\\nfrom sklearn.manifold import TSNE'); }\n",
       "    "
      ],
      "text/plain": [
       "<IPython.core.display.Javascript object>"
      ]
     },
     "metadata": {},
     "output_type": "display_data"
    },
    {
     "data": {
      "application/javascript": [
       "\n",
       "        if (window._pyforest_update_imports_cell) { window._pyforest_update_imports_cell('import matplotlib.pyplot as plt\\nimport pandas as pd\\nfrom sklearn import metrics\\nfrom sklearn.cluster import KMeans\\nfrom sklearn.manifold import TSNE'); }\n",
       "    "
      ],
      "text/plain": [
       "<IPython.core.display.Javascript object>"
      ]
     },
     "metadata": {},
     "output_type": "display_data"
    },
    {
     "data": {
      "application/javascript": [
       "\n",
       "        if (window._pyforest_update_imports_cell) { window._pyforest_update_imports_cell('import matplotlib.pyplot as plt\\nimport pandas as pd\\nfrom sklearn import metrics\\nfrom sklearn.cluster import KMeans\\nfrom sklearn.manifold import TSNE'); }\n",
       "    "
      ],
      "text/plain": [
       "<IPython.core.display.Javascript object>"
      ]
     },
     "metadata": {},
     "output_type": "display_data"
    },
    {
     "data": {
      "text/plain": [
       "<matplotlib.legend.Legend at 0x2660d7cddc0>"
      ]
     },
     "execution_count": 32,
     "metadata": {},
     "output_type": "execute_result"
    },
    {
     "data": {
      "image/png": "[encoded data removed]",
      "text/plain": [
       "<Figure size 432x288 with 1 Axes>"
      ]
     },
     "metadata": {
      "needs_background": "light"
     },
     "output_type": "display_data"
    }
   ],
   "source": [
    "#plotting clusters with K = 4\n",
    "tsne = TSNE().fit_transform(Train_df)\n",
    "\n",
    "km = KMeans(n_clusters=4, random_state = 0)     \n",
    "y_km = km.fit_predict(tsne)     \n",
    "\n",
    "plt.scatter(tsne[y_km==0,0],tsne[y_km==0,1],s=50,c=\"orange\",marker=\"o\",label=\"cluster 1\")    \n",
    "plt.scatter(tsne[y_km==1,0],tsne[y_km==1,1],s=50,c=\"blue\",marker=\"o\",label=\"cluster 2\")    \n",
    "plt.scatter(tsne[y_km==2,0],tsne[y_km==2,1],s=50,c=\"green\",marker=\"o\",label=\"cluster 3\") \n",
    "plt.scatter(tsne[y_km==3,0],tsne[y_km==3,1],s=50,c=\"yellow\",marker=\"o\",label=\"cluster 4\")     \n",
    "plt.scatter(km.cluster_centers_[:,0],km.cluster_centers_[:,1],s=250,marker=\"*\",c=\"red\",label=\"cluster center\")   \n",
    "plt.legend()"
   ]
  },
  {
   "cell_type": "code",
   "execution_count": 33,
   "id": "3509e79e",
   "metadata": {},
   "outputs": [
    {
     "data": {
      "application/javascript": [
       "\n",
       "        if (window._pyforest_update_imports_cell) { window._pyforest_update_imports_cell('import matplotlib.pyplot as plt\\nimport pandas as pd\\nfrom sklearn import metrics\\nfrom sklearn.cluster import KMeans\\nfrom sklearn.manifold import TSNE'); }\n",
       "    "
      ],
      "text/plain": [
       "<IPython.core.display.Javascript object>"
      ]
     },
     "metadata": {},
     "output_type": "display_data"
    },
    {
     "data": {
      "application/javascript": [
       "\n",
       "        if (window._pyforest_update_imports_cell) { window._pyforest_update_imports_cell('import matplotlib.pyplot as plt\\nimport pandas as pd\\nfrom sklearn import metrics\\nfrom sklearn.cluster import KMeans\\nfrom sklearn.manifold import TSNE'); }\n",
       "    "
      ],
      "text/plain": [
       "<IPython.core.display.Javascript object>"
      ]
     },
     "metadata": {},
     "output_type": "display_data"
    },
    {
     "data": {
      "application/javascript": [
       "\n",
       "        if (window._pyforest_update_imports_cell) { window._pyforest_update_imports_cell('import matplotlib.pyplot as plt\\nimport pandas as pd\\nfrom sklearn import metrics\\nfrom sklearn.cluster import KMeans\\nfrom sklearn.manifold import TSNE'); }\n",
       "    "
      ],
      "text/plain": [
       "<IPython.core.display.Javascript object>"
      ]
     },
     "metadata": {},
     "output_type": "display_data"
    },
    {
     "data": {
      "application/javascript": [
       "\n",
       "        if (window._pyforest_update_imports_cell) { window._pyforest_update_imports_cell('import matplotlib.pyplot as plt\\nimport pandas as pd\\nfrom sklearn import metrics\\nfrom sklearn.cluster import KMeans\\nfrom sklearn.manifold import TSNE'); }\n",
       "    "
      ],
      "text/plain": [
       "<IPython.core.display.Javascript object>"
      ]
     },
     "metadata": {},
     "output_type": "display_data"
    },
    {
     "data": {
      "application/javascript": [
       "\n",
       "        if (window._pyforest_update_imports_cell) { window._pyforest_update_imports_cell('import matplotlib.pyplot as plt\\nimport pandas as pd\\nfrom sklearn import metrics\\nfrom sklearn.cluster import KMeans\\nfrom sklearn.manifold import TSNE'); }\n",
       "    "
      ],
      "text/plain": [
       "<IPython.core.display.Javascript object>"
      ]
     },
     "metadata": {},
     "output_type": "display_data"
    },
    {
     "data": {
      "application/javascript": [
       "\n",
       "        if (window._pyforest_update_imports_cell) { window._pyforest_update_imports_cell('import matplotlib.pyplot as plt\\nimport pandas as pd\\nfrom sklearn import metrics\\nfrom sklearn.cluster import KMeans\\nfrom sklearn.manifold import TSNE'); }\n",
       "    "
      ],
      "text/plain": [
       "<IPython.core.display.Javascript object>"
      ]
     },
     "metadata": {},
     "output_type": "display_data"
    },
    {
     "data": {
      "application/javascript": [
       "\n",
       "        if (window._pyforest_update_imports_cell) { window._pyforest_update_imports_cell('import matplotlib.pyplot as plt\\nimport pandas as pd\\nfrom sklearn import metrics\\nfrom sklearn.cluster import KMeans\\nfrom sklearn.manifold import TSNE'); }\n",
       "    "
      ],
      "text/plain": [
       "<IPython.core.display.Javascript object>"
      ]
     },
     "metadata": {},
     "output_type": "display_data"
    },
    {
     "data": {
      "application/javascript": [
       "\n",
       "        if (window._pyforest_update_imports_cell) { window._pyforest_update_imports_cell('import matplotlib.pyplot as plt\\nimport pandas as pd\\nfrom sklearn import metrics\\nfrom sklearn.cluster import KMeans\\nfrom sklearn.manifold import TSNE'); }\n",
       "    "
      ],
      "text/plain": [
       "<IPython.core.display.Javascript object>"
      ]
     },
     "metadata": {},
     "output_type": "display_data"
    },
    {
     "data": {
      "text/plain": [
       "<matplotlib.legend.Legend at 0x2660d87cd90>"
      ]
     },
     "execution_count": 33,
     "metadata": {},
     "output_type": "execute_result"
    },
    {
     "data": {
      "image/png": "[encoded data removed]",
      "text/plain": [
       "<Figure size 432x288 with 1 Axes>"
      ]
     },
     "metadata": {
      "needs_background": "light"
     },
     "output_type": "display_data"
    }
   ],
   "source": [
    "#plotting clusters with K = 5\n",
    "tsne = TSNE().fit_transform(Train_df)\n",
    "\n",
    "km = KMeans(n_clusters=5, random_state = 0)     \n",
    "y_km = km.fit_predict(tsne)     \n",
    "\n",
    "plt.scatter(tsne[y_km==0,0],tsne[y_km==0,1],s=50,c=\"purple\",marker=\"o\",label=\"cluster 1\")    \n",
    "plt.scatter(tsne[y_km==1,0],tsne[y_km==1,1],s=50,c=\"green\",marker=\"o\",label=\"cluster 2\")    \n",
    "plt.scatter(tsne[y_km==2,0],tsne[y_km==2,1],s=50,c=\"blue\",marker=\"o\",label=\"cluster 3\") \n",
    "plt.scatter(tsne[y_km==3,0],tsne[y_km==3,1],s=50,c=\"yellow\",marker=\"o\",label=\"cluster 4\") \n",
    "plt.scatter(tsne[y_km==4,0],tsne[y_km==4,1],s=50,c=\"purple\",marker=\"o\",label=\"cluster 5\")\n",
    "plt.scatter(km.cluster_centers_[:,0],km.cluster_centers_[:,1],s=250,marker=\"*\",c=\"red\",label=\"cluster center\")   \n",
    "plt.legend()"
   ]
  },
  {
   "cell_type": "code",
   "execution_count": 34,
   "id": "fa244c2a",
   "metadata": {},
   "outputs": [
    {
     "data": {
      "text/plain": [
       "array([2, 4, 2, ..., 3, 1, 4])"
      ]
     },
     "execution_count": 34,
     "metadata": {},
     "output_type": "execute_result"
    }
   ],
   "source": [
    "#Predicting the clusters for train data\n",
    "Train_predict = km.fit_predict(Train_df)\n",
    "Train_predict"
   ]
  },
  {
   "cell_type": "code",
   "execution_count": 35,
   "id": "831e9a61",
   "metadata": {},
   "outputs": [
    {
     "data": {
      "application/javascript": [
       "\n",
       "        if (window._pyforest_update_imports_cell) { window._pyforest_update_imports_cell('import matplotlib.pyplot as plt\\nimport pandas as pd\\nfrom sklearn import metrics\\nfrom sklearn.cluster import KMeans\\nfrom sklearn.manifold import TSNE'); }\n",
       "    "
      ],
      "text/plain": [
       "<IPython.core.display.Javascript object>"
      ]
     },
     "metadata": {},
     "output_type": "display_data"
    },
    {
     "data": {
      "text/html": [
       "<div>\n",
       "<style scoped>\n",
       "    .dataframe tbody tr th:only-of-type {\n",
       "        vertical-align: middle;\n",
       "    }\n",
       "\n",
       "    .dataframe tbody tr th {\n",
       "        vertical-align: top;\n",
       "    }\n",
       "\n",
       "    .dataframe thead th {\n",
       "        text-align: right;\n",
       "    }\n",
       "</style>\n",
       "<table border=\"1\" class=\"dataframe\">\n",
       "  <thead>\n",
       "    <tr style=\"text-align: right;\">\n",
       "      <th></th>\n",
       "      <th>ID</th>\n",
       "      <th>Age_mean</th>\n",
       "      <th>Albumin_max</th>\n",
       "      <th>Albumin_median</th>\n",
       "      <th>Albumin_min</th>\n",
       "      <th>Albumin_range</th>\n",
       "      <th>ALSFRS_slope</th>\n",
       "      <th>ALSFRS_Total_max</th>\n",
       "      <th>ALSFRS_Total_median</th>\n",
       "      <th>ALSFRS_Total_min</th>\n",
       "      <th>...</th>\n",
       "      <th>trunk_min</th>\n",
       "      <th>trunk_range</th>\n",
       "      <th>Urine.Ph_max</th>\n",
       "      <th>Urine.Ph_median</th>\n",
       "      <th>Urine.Ph_min</th>\n",
       "      <th>Urine.Ph_range</th>\n",
       "      <th>White.Blood.Cell..WBC._max</th>\n",
       "      <th>White.Blood.Cell..WBC._median</th>\n",
       "      <th>White.Blood.Cell..WBC._min</th>\n",
       "      <th>White.Blood.Cell..WBC._range</th>\n",
       "    </tr>\n",
       "  </thead>\n",
       "  <tbody>\n",
       "    <tr>\n",
       "      <th>0</th>\n",
       "      <td>3</td>\n",
       "      <td>65.906849</td>\n",
       "      <td>46.0</td>\n",
       "      <td>44.0</td>\n",
       "      <td>43</td>\n",
       "      <td>0.024590</td>\n",
       "      <td>-1.767329</td>\n",
       "      <td>33</td>\n",
       "      <td>5.0</td>\n",
       "      <td>2</td>\n",
       "      <td>...</td>\n",
       "      <td>0</td>\n",
       "      <td>0.006440</td>\n",
       "      <td>6.5</td>\n",
       "      <td>6.00</td>\n",
       "      <td>6.0</td>\n",
       "      <td>0.004098</td>\n",
       "      <td>8.57</td>\n",
       "      <td>7.680</td>\n",
       "      <td>6.60</td>\n",
       "      <td>0.016148</td>\n",
       "    </tr>\n",
       "    <tr>\n",
       "      <th>1</th>\n",
       "      <td>4</td>\n",
       "      <td>54.000000</td>\n",
       "      <td>39.0</td>\n",
       "      <td>36.0</td>\n",
       "      <td>33</td>\n",
       "      <td>0.013100</td>\n",
       "      <td>-1.351852</td>\n",
       "      <td>32</td>\n",
       "      <td>23.0</td>\n",
       "      <td>14</td>\n",
       "      <td>...</td>\n",
       "      <td>0</td>\n",
       "      <td>0.013100</td>\n",
       "      <td>6.5</td>\n",
       "      <td>5.50</td>\n",
       "      <td>5.0</td>\n",
       "      <td>0.003275</td>\n",
       "      <td>8.04</td>\n",
       "      <td>6.620</td>\n",
       "      <td>4.97</td>\n",
       "      <td>0.006703</td>\n",
       "    </tr>\n",
       "    <tr>\n",
       "      <th>2</th>\n",
       "      <td>5</td>\n",
       "      <td>56.394521</td>\n",
       "      <td>46.0</td>\n",
       "      <td>43.0</td>\n",
       "      <td>39</td>\n",
       "      <td>0.009736</td>\n",
       "      <td>-0.412429</td>\n",
       "      <td>15</td>\n",
       "      <td>10.0</td>\n",
       "      <td>2</td>\n",
       "      <td>...</td>\n",
       "      <td>0</td>\n",
       "      <td>0.000000</td>\n",
       "      <td>7.5</td>\n",
       "      <td>6.75</td>\n",
       "      <td>6.0</td>\n",
       "      <td>0.003456</td>\n",
       "      <td>8.90</td>\n",
       "      <td>7.160</td>\n",
       "      <td>5.01</td>\n",
       "      <td>0.005410</td>\n",
       "    </tr>\n",
       "    <tr>\n",
       "      <th>3</th>\n",
       "      <td>6</td>\n",
       "      <td>72.619178</td>\n",
       "      <td>50.0</td>\n",
       "      <td>42.5</td>\n",
       "      <td>41</td>\n",
       "      <td>0.092784</td>\n",
       "      <td>-0.383403</td>\n",
       "      <td>34</td>\n",
       "      <td>24.0</td>\n",
       "      <td>21</td>\n",
       "      <td>...</td>\n",
       "      <td>5</td>\n",
       "      <td>0.007752</td>\n",
       "      <td>7.5</td>\n",
       "      <td>7.00</td>\n",
       "      <td>6.0</td>\n",
       "      <td>0.024194</td>\n",
       "      <td>12.38</td>\n",
       "      <td>7.905</td>\n",
       "      <td>4.96</td>\n",
       "      <td>0.076495</td>\n",
       "    </tr>\n",
       "    <tr>\n",
       "      <th>4</th>\n",
       "      <td>9</td>\n",
       "      <td>65.000000</td>\n",
       "      <td>45.0</td>\n",
       "      <td>42.0</td>\n",
       "      <td>36</td>\n",
       "      <td>0.021327</td>\n",
       "      <td>0.000000</td>\n",
       "      <td>37</td>\n",
       "      <td>37.0</td>\n",
       "      <td>37</td>\n",
       "      <td>...</td>\n",
       "      <td>7</td>\n",
       "      <td>0.000000</td>\n",
       "      <td>6.0</td>\n",
       "      <td>5.50</td>\n",
       "      <td>5.0</td>\n",
       "      <td>0.002370</td>\n",
       "      <td>11.53</td>\n",
       "      <td>9.290</td>\n",
       "      <td>7.94</td>\n",
       "      <td>0.008507</td>\n",
       "    </tr>\n",
       "    <tr>\n",
       "      <th>...</th>\n",
       "      <td>...</td>\n",
       "      <td>...</td>\n",
       "      <td>...</td>\n",
       "      <td>...</td>\n",
       "      <td>...</td>\n",
       "      <td>...</td>\n",
       "      <td>...</td>\n",
       "      <td>...</td>\n",
       "      <td>...</td>\n",
       "      <td>...</td>\n",
       "      <td>...</td>\n",
       "      <td>...</td>\n",
       "      <td>...</td>\n",
       "      <td>...</td>\n",
       "      <td>...</td>\n",
       "      <td>...</td>\n",
       "      <td>...</td>\n",
       "      <td>...</td>\n",
       "      <td>...</td>\n",
       "      <td>...</td>\n",
       "      <td>...</td>\n",
       "    </tr>\n",
       "    <tr>\n",
       "      <th>73</th>\n",
       "      <td>96</td>\n",
       "      <td>45.000000</td>\n",
       "      <td>42.0</td>\n",
       "      <td>39.5</td>\n",
       "      <td>37</td>\n",
       "      <td>0.010823</td>\n",
       "      <td>-0.683521</td>\n",
       "      <td>33</td>\n",
       "      <td>28.0</td>\n",
       "      <td>23</td>\n",
       "      <td>...</td>\n",
       "      <td>5</td>\n",
       "      <td>0.004329</td>\n",
       "      <td>6.0</td>\n",
       "      <td>5.50</td>\n",
       "      <td>5.0</td>\n",
       "      <td>0.002165</td>\n",
       "      <td>12.45</td>\n",
       "      <td>8.370</td>\n",
       "      <td>5.56</td>\n",
       "      <td>0.014913</td>\n",
       "    </tr>\n",
       "    <tr>\n",
       "      <th>74</th>\n",
       "      <td>97</td>\n",
       "      <td>47.709589</td>\n",
       "      <td>47.0</td>\n",
       "      <td>44.0</td>\n",
       "      <td>41</td>\n",
       "      <td>0.005381</td>\n",
       "      <td>-0.324733</td>\n",
       "      <td>26</td>\n",
       "      <td>19.0</td>\n",
       "      <td>11</td>\n",
       "      <td>...</td>\n",
       "      <td>0</td>\n",
       "      <td>0.005381</td>\n",
       "      <td>7.5</td>\n",
       "      <td>6.00</td>\n",
       "      <td>5.5</td>\n",
       "      <td>0.001845</td>\n",
       "      <td>13.92</td>\n",
       "      <td>10.265</td>\n",
       "      <td>8.37</td>\n",
       "      <td>0.004978</td>\n",
       "    </tr>\n",
       "    <tr>\n",
       "      <th>75</th>\n",
       "      <td>98</td>\n",
       "      <td>59.928767</td>\n",
       "      <td>47.0</td>\n",
       "      <td>44.0</td>\n",
       "      <td>40</td>\n",
       "      <td>0.009333</td>\n",
       "      <td>-0.330616</td>\n",
       "      <td>33</td>\n",
       "      <td>24.0</td>\n",
       "      <td>10</td>\n",
       "      <td>...</td>\n",
       "      <td>1</td>\n",
       "      <td>0.008000</td>\n",
       "      <td>7.5</td>\n",
       "      <td>6.50</td>\n",
       "      <td>6.0</td>\n",
       "      <td>0.002000</td>\n",
       "      <td>16.69</td>\n",
       "      <td>5.445</td>\n",
       "      <td>4.48</td>\n",
       "      <td>0.016280</td>\n",
       "    </tr>\n",
       "    <tr>\n",
       "      <th>76</th>\n",
       "      <td>99</td>\n",
       "      <td>61.000000</td>\n",
       "      <td>42.0</td>\n",
       "      <td>39.0</td>\n",
       "      <td>38</td>\n",
       "      <td>0.007843</td>\n",
       "      <td>-0.439230</td>\n",
       "      <td>37</td>\n",
       "      <td>33.0</td>\n",
       "      <td>31</td>\n",
       "      <td>...</td>\n",
       "      <td>4</td>\n",
       "      <td>0.005882</td>\n",
       "      <td>6.5</td>\n",
       "      <td>6.00</td>\n",
       "      <td>5.5</td>\n",
       "      <td>0.001961</td>\n",
       "      <td>10.66</td>\n",
       "      <td>7.390</td>\n",
       "      <td>5.81</td>\n",
       "      <td>0.009510</td>\n",
       "    </tr>\n",
       "    <tr>\n",
       "      <th>77</th>\n",
       "      <td>100</td>\n",
       "      <td>47.210959</td>\n",
       "      <td>50.0</td>\n",
       "      <td>46.0</td>\n",
       "      <td>43</td>\n",
       "      <td>0.011129</td>\n",
       "      <td>-0.434524</td>\n",
       "      <td>35</td>\n",
       "      <td>31.0</td>\n",
       "      <td>22</td>\n",
       "      <td>...</td>\n",
       "      <td>3</td>\n",
       "      <td>0.007949</td>\n",
       "      <td>8.5</td>\n",
       "      <td>6.50</td>\n",
       "      <td>6.0</td>\n",
       "      <td>0.003975</td>\n",
       "      <td>7.74</td>\n",
       "      <td>5.865</td>\n",
       "      <td>4.88</td>\n",
       "      <td>0.004547</td>\n",
       "    </tr>\n",
       "  </tbody>\n",
       "</table>\n",
       "<p>78 rows × 131 columns</p>\n",
       "</div>"
      ],
      "text/plain": [
       "     ID   Age_mean  Albumin_max  Albumin_median  Albumin_min  Albumin_range  \\\n",
       "0     3  65.906849         46.0            44.0           43       0.024590   \n",
       "1     4  54.000000         39.0            36.0           33       0.013100   \n",
       "2     5  56.394521         46.0            43.0           39       0.009736   \n",
       "3     6  72.619178         50.0            42.5           41       0.092784   \n",
       "4     9  65.000000         45.0            42.0           36       0.021327   \n",
       "..  ...        ...          ...             ...          ...            ...   \n",
       "73   96  45.000000         42.0            39.5           37       0.010823   \n",
       "74   97  47.709589         47.0            44.0           41       0.005381   \n",
       "75   98  59.928767         47.0            44.0           40       0.009333   \n",
       "76   99  61.000000         42.0            39.0           38       0.007843   \n",
       "77  100  47.210959         50.0            46.0           43       0.011129   \n",
       "\n",
       "    ALSFRS_slope  ALSFRS_Total_max  ALSFRS_Total_median  ALSFRS_Total_min  \\\n",
       "0      -1.767329                33                  5.0                 2   \n",
       "1      -1.351852                32                 23.0                14   \n",
       "2      -0.412429                15                 10.0                 2   \n",
       "3      -0.383403                34                 24.0                21   \n",
       "4       0.000000                37                 37.0                37   \n",
       "..           ...               ...                  ...               ...   \n",
       "73     -0.683521                33                 28.0                23   \n",
       "74     -0.324733                26                 19.0                11   \n",
       "75     -0.330616                33                 24.0                10   \n",
       "76     -0.439230                37                 33.0                31   \n",
       "77     -0.434524                35                 31.0                22   \n",
       "\n",
       "    ...  trunk_min  trunk_range  Urine.Ph_max  Urine.Ph_median  Urine.Ph_min  \\\n",
       "0   ...          0     0.006440           6.5             6.00           6.0   \n",
       "1   ...          0     0.013100           6.5             5.50           5.0   \n",
       "2   ...          0     0.000000           7.5             6.75           6.0   \n",
       "3   ...          5     0.007752           7.5             7.00           6.0   \n",
       "4   ...          7     0.000000           6.0             5.50           5.0   \n",
       "..  ...        ...          ...           ...              ...           ...   \n",
       "73  ...          5     0.004329           6.0             5.50           5.0   \n",
       "74  ...          0     0.005381           7.5             6.00           5.5   \n",
       "75  ...          1     0.008000           7.5             6.50           6.0   \n",
       "76  ...          4     0.005882           6.5             6.00           5.5   \n",
       "77  ...          3     0.007949           8.5             6.50           6.0   \n",
       "\n",
       "    Urine.Ph_range  White.Blood.Cell..WBC._max  White.Blood.Cell..WBC._median  \\\n",
       "0         0.004098                        8.57                          7.680   \n",
       "1         0.003275                        8.04                          6.620   \n",
       "2         0.003456                        8.90                          7.160   \n",
       "3         0.024194                       12.38                          7.905   \n",
       "4         0.002370                       11.53                          9.290   \n",
       "..             ...                         ...                            ...   \n",
       "73        0.002165                       12.45                          8.370   \n",
       "74        0.001845                       13.92                         10.265   \n",
       "75        0.002000                       16.69                          5.445   \n",
       "76        0.001961                       10.66                          7.390   \n",
       "77        0.003975                        7.74                          5.865   \n",
       "\n",
       "    White.Blood.Cell..WBC._min  White.Blood.Cell..WBC._range  \n",
       "0                         6.60                      0.016148  \n",
       "1                         4.97                      0.006703  \n",
       "2                         5.01                      0.005410  \n",
       "3                         4.96                      0.076495  \n",
       "4                         7.94                      0.008507  \n",
       "..                         ...                           ...  \n",
       "73                        5.56                      0.014913  \n",
       "74                        8.37                      0.004978  \n",
       "75                        4.48                      0.016280  \n",
       "76                        5.81                      0.009510  \n",
       "77                        4.88                      0.004547  \n",
       "\n",
       "[78 rows x 131 columns]"
      ]
     },
     "execution_count": 35,
     "metadata": {},
     "output_type": "execute_result"
    }
   ],
   "source": [
    "#Reading the Test data from local machine\n",
    "Test_data = pd.read_csv(\"C:\\\\Users\\\\Amith Reddy\\\\OneDrive\\\\Desktop\\\\Data Sets\\\\ALS_TestingData_78_ML.csv\")\n",
    "Test_data"
   ]
  },
  {
   "cell_type": "code",
   "execution_count": 36,
   "id": "aec31ee7",
   "metadata": {},
   "outputs": [
    {
     "data": {
      "text/html": [
       "<div>\n",
       "<style scoped>\n",
       "    .dataframe tbody tr th:only-of-type {\n",
       "        vertical-align: middle;\n",
       "    }\n",
       "\n",
       "    .dataframe tbody tr th {\n",
       "        vertical-align: top;\n",
       "    }\n",
       "\n",
       "    .dataframe thead th {\n",
       "        text-align: right;\n",
       "    }\n",
       "</style>\n",
       "<table border=\"1\" class=\"dataframe\">\n",
       "  <thead>\n",
       "    <tr style=\"text-align: right;\">\n",
       "      <th></th>\n",
       "      <th>Age_mean</th>\n",
       "      <th>Albumin_median</th>\n",
       "      <th>ALSFRS_Total_median</th>\n",
       "      <th>ALT.SGPT._median</th>\n",
       "      <th>AST.SGOT._median</th>\n",
       "      <th>Basophils_median</th>\n",
       "      <th>Bicarbonate_median</th>\n",
       "      <th>Bilirubin..total._median</th>\n",
       "      <th>Blood.Urea.Nitrogen..BUN._median</th>\n",
       "      <th>bp_diastolic_median</th>\n",
       "      <th>...</th>\n",
       "      <th>Platelets_median</th>\n",
       "      <th>Potassium_median</th>\n",
       "      <th>pulse_median</th>\n",
       "      <th>Red.Blood.Cells..RBC._median</th>\n",
       "      <th>respiratory_median</th>\n",
       "      <th>Sodium_median</th>\n",
       "      <th>trunk_median</th>\n",
       "      <th>Urine.Ph_median</th>\n",
       "      <th>White.Blood.Cell..WBC._median</th>\n",
       "      <th>ALSFRS_slope</th>\n",
       "    </tr>\n",
       "  </thead>\n",
       "  <tbody>\n",
       "    <tr>\n",
       "      <th>0</th>\n",
       "      <td>65.906849</td>\n",
       "      <td>44.0</td>\n",
       "      <td>5.0</td>\n",
       "      <td>26.0</td>\n",
       "      <td>24.0</td>\n",
       "      <td>0.5</td>\n",
       "      <td>25.0</td>\n",
       "      <td>7.00</td>\n",
       "      <td>7.100</td>\n",
       "      <td>76.0</td>\n",
       "      <td>...</td>\n",
       "      <td>275.0</td>\n",
       "      <td>4.20</td>\n",
       "      <td>77.0</td>\n",
       "      <td>4640</td>\n",
       "      <td>0.0</td>\n",
       "      <td>138.0</td>\n",
       "      <td>0.0</td>\n",
       "      <td>6.00</td>\n",
       "      <td>7.680</td>\n",
       "      <td>-1.767329</td>\n",
       "    </tr>\n",
       "    <tr>\n",
       "      <th>1</th>\n",
       "      <td>54.000000</td>\n",
       "      <td>36.0</td>\n",
       "      <td>23.0</td>\n",
       "      <td>35.5</td>\n",
       "      <td>33.0</td>\n",
       "      <td>0.7</td>\n",
       "      <td>25.0</td>\n",
       "      <td>9.50</td>\n",
       "      <td>4.300</td>\n",
       "      <td>96.0</td>\n",
       "      <td>...</td>\n",
       "      <td>270.0</td>\n",
       "      <td>4.20</td>\n",
       "      <td>80.0</td>\n",
       "      <td>5100</td>\n",
       "      <td>4.0</td>\n",
       "      <td>140.5</td>\n",
       "      <td>3.0</td>\n",
       "      <td>5.50</td>\n",
       "      <td>6.620</td>\n",
       "      <td>-1.351852</td>\n",
       "    </tr>\n",
       "    <tr>\n",
       "      <th>2</th>\n",
       "      <td>56.394521</td>\n",
       "      <td>43.0</td>\n",
       "      <td>10.0</td>\n",
       "      <td>22.0</td>\n",
       "      <td>22.0</td>\n",
       "      <td>0.7</td>\n",
       "      <td>24.0</td>\n",
       "      <td>3.00</td>\n",
       "      <td>5.400</td>\n",
       "      <td>72.5</td>\n",
       "      <td>...</td>\n",
       "      <td>391.0</td>\n",
       "      <td>4.50</td>\n",
       "      <td>103.5</td>\n",
       "      <td>4590</td>\n",
       "      <td>4.0</td>\n",
       "      <td>139.0</td>\n",
       "      <td>0.0</td>\n",
       "      <td>6.75</td>\n",
       "      <td>7.160</td>\n",
       "      <td>-0.412429</td>\n",
       "    </tr>\n",
       "    <tr>\n",
       "      <th>3</th>\n",
       "      <td>72.619178</td>\n",
       "      <td>42.5</td>\n",
       "      <td>24.0</td>\n",
       "      <td>39.5</td>\n",
       "      <td>42.0</td>\n",
       "      <td>0.7</td>\n",
       "      <td>26.0</td>\n",
       "      <td>5.00</td>\n",
       "      <td>5.200</td>\n",
       "      <td>59.0</td>\n",
       "      <td>...</td>\n",
       "      <td>383.0</td>\n",
       "      <td>4.50</td>\n",
       "      <td>73.0</td>\n",
       "      <td>3950</td>\n",
       "      <td>4.0</td>\n",
       "      <td>140.0</td>\n",
       "      <td>5.5</td>\n",
       "      <td>7.00</td>\n",
       "      <td>7.905</td>\n",
       "      <td>-0.383403</td>\n",
       "    </tr>\n",
       "    <tr>\n",
       "      <th>4</th>\n",
       "      <td>65.000000</td>\n",
       "      <td>42.0</td>\n",
       "      <td>37.0</td>\n",
       "      <td>16.5</td>\n",
       "      <td>25.0</td>\n",
       "      <td>0.8</td>\n",
       "      <td>22.9</td>\n",
       "      <td>9.50</td>\n",
       "      <td>6.100</td>\n",
       "      <td>85.0</td>\n",
       "      <td>...</td>\n",
       "      <td>258.0</td>\n",
       "      <td>4.45</td>\n",
       "      <td>67.5</td>\n",
       "      <td>4700</td>\n",
       "      <td>4.0</td>\n",
       "      <td>144.0</td>\n",
       "      <td>7.0</td>\n",
       "      <td>5.50</td>\n",
       "      <td>9.290</td>\n",
       "      <td>0.000000</td>\n",
       "    </tr>\n",
       "    <tr>\n",
       "      <th>...</th>\n",
       "      <td>...</td>\n",
       "      <td>...</td>\n",
       "      <td>...</td>\n",
       "      <td>...</td>\n",
       "      <td>...</td>\n",
       "      <td>...</td>\n",
       "      <td>...</td>\n",
       "      <td>...</td>\n",
       "      <td>...</td>\n",
       "      <td>...</td>\n",
       "      <td>...</td>\n",
       "      <td>...</td>\n",
       "      <td>...</td>\n",
       "      <td>...</td>\n",
       "      <td>...</td>\n",
       "      <td>...</td>\n",
       "      <td>...</td>\n",
       "      <td>...</td>\n",
       "      <td>...</td>\n",
       "      <td>...</td>\n",
       "      <td>...</td>\n",
       "    </tr>\n",
       "    <tr>\n",
       "      <th>73</th>\n",
       "      <td>45.000000</td>\n",
       "      <td>39.5</td>\n",
       "      <td>28.0</td>\n",
       "      <td>60.0</td>\n",
       "      <td>50.0</td>\n",
       "      <td>0.4</td>\n",
       "      <td>23.2</td>\n",
       "      <td>9.00</td>\n",
       "      <td>5.700</td>\n",
       "      <td>85.0</td>\n",
       "      <td>...</td>\n",
       "      <td>219.0</td>\n",
       "      <td>4.45</td>\n",
       "      <td>80.0</td>\n",
       "      <td>4700</td>\n",
       "      <td>2.0</td>\n",
       "      <td>140.5</td>\n",
       "      <td>7.0</td>\n",
       "      <td>5.50</td>\n",
       "      <td>8.370</td>\n",
       "      <td>-0.683521</td>\n",
       "    </tr>\n",
       "    <tr>\n",
       "      <th>74</th>\n",
       "      <td>47.709589</td>\n",
       "      <td>44.0</td>\n",
       "      <td>19.0</td>\n",
       "      <td>16.0</td>\n",
       "      <td>21.0</td>\n",
       "      <td>0.4</td>\n",
       "      <td>23.5</td>\n",
       "      <td>5.00</td>\n",
       "      <td>4.600</td>\n",
       "      <td>87.0</td>\n",
       "      <td>...</td>\n",
       "      <td>499.0</td>\n",
       "      <td>4.30</td>\n",
       "      <td>88.0</td>\n",
       "      <td>4675</td>\n",
       "      <td>4.0</td>\n",
       "      <td>139.0</td>\n",
       "      <td>1.0</td>\n",
       "      <td>6.00</td>\n",
       "      <td>10.265</td>\n",
       "      <td>-0.324733</td>\n",
       "    </tr>\n",
       "    <tr>\n",
       "      <th>75</th>\n",
       "      <td>59.928767</td>\n",
       "      <td>44.0</td>\n",
       "      <td>24.0</td>\n",
       "      <td>24.0</td>\n",
       "      <td>23.0</td>\n",
       "      <td>0.5</td>\n",
       "      <td>27.0</td>\n",
       "      <td>3.00</td>\n",
       "      <td>6.100</td>\n",
       "      <td>90.0</td>\n",
       "      <td>...</td>\n",
       "      <td>248.0</td>\n",
       "      <td>4.20</td>\n",
       "      <td>94.0</td>\n",
       "      <td>4210</td>\n",
       "      <td>4.0</td>\n",
       "      <td>142.0</td>\n",
       "      <td>4.0</td>\n",
       "      <td>6.50</td>\n",
       "      <td>5.445</td>\n",
       "      <td>-0.330616</td>\n",
       "    </tr>\n",
       "    <tr>\n",
       "      <th>76</th>\n",
       "      <td>61.000000</td>\n",
       "      <td>39.0</td>\n",
       "      <td>33.0</td>\n",
       "      <td>16.0</td>\n",
       "      <td>24.0</td>\n",
       "      <td>0.6</td>\n",
       "      <td>24.4</td>\n",
       "      <td>13.68</td>\n",
       "      <td>4.284</td>\n",
       "      <td>72.0</td>\n",
       "      <td>...</td>\n",
       "      <td>230.5</td>\n",
       "      <td>4.20</td>\n",
       "      <td>72.0</td>\n",
       "      <td>4600</td>\n",
       "      <td>4.0</td>\n",
       "      <td>140.0</td>\n",
       "      <td>5.0</td>\n",
       "      <td>6.00</td>\n",
       "      <td>7.390</td>\n",
       "      <td>-0.439230</td>\n",
       "    </tr>\n",
       "    <tr>\n",
       "      <th>77</th>\n",
       "      <td>47.210959</td>\n",
       "      <td>46.0</td>\n",
       "      <td>31.0</td>\n",
       "      <td>30.5</td>\n",
       "      <td>26.0</td>\n",
       "      <td>0.5</td>\n",
       "      <td>24.0</td>\n",
       "      <td>5.00</td>\n",
       "      <td>4.600</td>\n",
       "      <td>76.0</td>\n",
       "      <td>...</td>\n",
       "      <td>321.0</td>\n",
       "      <td>4.10</td>\n",
       "      <td>80.0</td>\n",
       "      <td>4420</td>\n",
       "      <td>4.0</td>\n",
       "      <td>140.0</td>\n",
       "      <td>6.0</td>\n",
       "      <td>6.50</td>\n",
       "      <td>5.865</td>\n",
       "      <td>-0.434524</td>\n",
       "    </tr>\n",
       "  </tbody>\n",
       "</table>\n",
       "<p>78 rows × 35 columns</p>\n",
       "</div>"
      ],
      "text/plain": [
       "     Age_mean  Albumin_median  ALSFRS_Total_median  ALT.SGPT._median  \\\n",
       "0   65.906849            44.0                  5.0              26.0   \n",
       "1   54.000000            36.0                 23.0              35.5   \n",
       "2   56.394521            43.0                 10.0              22.0   \n",
       "3   72.619178            42.5                 24.0              39.5   \n",
       "4   65.000000            42.0                 37.0              16.5   \n",
       "..        ...             ...                  ...               ...   \n",
       "73  45.000000            39.5                 28.0              60.0   \n",
       "74  47.709589            44.0                 19.0              16.0   \n",
       "75  59.928767            44.0                 24.0              24.0   \n",
       "76  61.000000            39.0                 33.0              16.0   \n",
       "77  47.210959            46.0                 31.0              30.5   \n",
       "\n",
       "    AST.SGOT._median  Basophils_median  Bicarbonate_median  \\\n",
       "0               24.0               0.5                25.0   \n",
       "1               33.0               0.7                25.0   \n",
       "2               22.0               0.7                24.0   \n",
       "3               42.0               0.7                26.0   \n",
       "4               25.0               0.8                22.9   \n",
       "..               ...               ...                 ...   \n",
       "73              50.0               0.4                23.2   \n",
       "74              21.0               0.4                23.5   \n",
       "75              23.0               0.5                27.0   \n",
       "76              24.0               0.6                24.4   \n",
       "77              26.0               0.5                24.0   \n",
       "\n",
       "    Bilirubin..total._median  Blood.Urea.Nitrogen..BUN._median  \\\n",
       "0                       7.00                             7.100   \n",
       "1                       9.50                             4.300   \n",
       "2                       3.00                             5.400   \n",
       "3                       5.00                             5.200   \n",
       "4                       9.50                             6.100   \n",
       "..                       ...                               ...   \n",
       "73                      9.00                             5.700   \n",
       "74                      5.00                             4.600   \n",
       "75                      3.00                             6.100   \n",
       "76                     13.68                             4.284   \n",
       "77                      5.00                             4.600   \n",
       "\n",
       "    bp_diastolic_median  ...  Platelets_median  Potassium_median  \\\n",
       "0                  76.0  ...             275.0              4.20   \n",
       "1                  96.0  ...             270.0              4.20   \n",
       "2                  72.5  ...             391.0              4.50   \n",
       "3                  59.0  ...             383.0              4.50   \n",
       "4                  85.0  ...             258.0              4.45   \n",
       "..                  ...  ...               ...               ...   \n",
       "73                 85.0  ...             219.0              4.45   \n",
       "74                 87.0  ...             499.0              4.30   \n",
       "75                 90.0  ...             248.0              4.20   \n",
       "76                 72.0  ...             230.5              4.20   \n",
       "77                 76.0  ...             321.0              4.10   \n",
       "\n",
       "    pulse_median  Red.Blood.Cells..RBC._median  respiratory_median  \\\n",
       "0           77.0                          4640                 0.0   \n",
       "1           80.0                          5100                 4.0   \n",
       "2          103.5                          4590                 4.0   \n",
       "3           73.0                          3950                 4.0   \n",
       "4           67.5                          4700                 4.0   \n",
       "..           ...                           ...                 ...   \n",
       "73          80.0                          4700                 2.0   \n",
       "74          88.0                          4675                 4.0   \n",
       "75          94.0                          4210                 4.0   \n",
       "76          72.0                          4600                 4.0   \n",
       "77          80.0                          4420                 4.0   \n",
       "\n",
       "    Sodium_median  trunk_median  Urine.Ph_median  \\\n",
       "0           138.0           0.0             6.00   \n",
       "1           140.5           3.0             5.50   \n",
       "2           139.0           0.0             6.75   \n",
       "3           140.0           5.5             7.00   \n",
       "4           144.0           7.0             5.50   \n",
       "..            ...           ...              ...   \n",
       "73          140.5           7.0             5.50   \n",
       "74          139.0           1.0             6.00   \n",
       "75          142.0           4.0             6.50   \n",
       "76          140.0           5.0             6.00   \n",
       "77          140.0           6.0             6.50   \n",
       "\n",
       "    White.Blood.Cell..WBC._median  ALSFRS_slope  \n",
       "0                           7.680     -1.767329  \n",
       "1                           6.620     -1.351852  \n",
       "2                           7.160     -0.412429  \n",
       "3                           7.905     -0.383403  \n",
       "4                           9.290      0.000000  \n",
       "..                            ...           ...  \n",
       "73                          8.370     -0.683521  \n",
       "74                         10.265     -0.324733  \n",
       "75                          5.445     -0.330616  \n",
       "76                          7.390     -0.439230  \n",
       "77                          5.865     -0.434524  \n",
       "\n",
       "[78 rows x 35 columns]"
      ]
     },
     "execution_count": 36,
     "metadata": {},
     "output_type": "execute_result"
    }
   ],
   "source": [
    "#Preprocessing the data, taking all the required features \n",
    "Test_df = Test_data[['Age_mean',\n",
    "'Albumin_median',\n",
    "'ALSFRS_Total_median',\n",
    "'ALT.SGPT._median',\n",
    "'AST.SGOT._median',\n",
    "'Basophils_median',\n",
    "'Bicarbonate_median',\n",
    "'Bilirubin..total._median',\n",
    "'Blood.Urea.Nitrogen..BUN._median',\n",
    "'bp_diastolic_median',\n",
    "'bp_systolic_median',\n",
    "'Calcium_median',\n",
    "'Chloride_median',\n",
    "'Creatinine_median',\n",
    "'Eosinophils_median',\n",
    "'Glucose_median',\n",
    "'hands_median',\n",
    "'Hematocrit_median',\n",
    "'Hemoglobin_median',\n",
    "'leg_median',\n",
    "'Lymphocytes_median',\n",
    "'Monocytes_median',\n",
    "'mouth_median',\n",
    "'onset_delta_mean',\n",
    "'onset_site_mean',\n",
    "'Platelets_median',\n",
    "'Potassium_median',\n",
    "'pulse_median',\n",
    "'Red.Blood.Cells..RBC._median',\n",
    "'respiratory_median',\n",
    "'Sodium_median',\n",
    "'trunk_median',\n",
    "'Urine.Ph_median',\n",
    "'White.Blood.Cell..WBC._median',\n",
    "'ALSFRS_slope']]\n",
    "Test_df"
   ]
  },
  {
   "cell_type": "code",
   "execution_count": 37,
   "id": "6efc92ae",
   "metadata": {},
   "outputs": [
    {
     "name": "stderr",
     "output_type": "stream",
     "text": [
      "C:\\Users\\Amith Reddy\\anaconda3\\lib\\site-packages\\sklearn\\cluster\\_kmeans.py:881: UserWarning: KMeans is known to have a memory leak on Windows with MKL, when there are less chunks than available threads. You can avoid it by setting the environment variable OMP_NUM_THREADS=1.\n",
      "  warnings.warn(\n"
     ]
    },
    {
     "data": {
      "application/javascript": [
       "\n",
       "        if (window._pyforest_update_imports_cell) { window._pyforest_update_imports_cell('import matplotlib.pyplot as plt\\nimport pandas as pd\\nfrom sklearn import metrics\\nfrom sklearn.cluster import KMeans\\nfrom sklearn.manifold import TSNE'); }\n",
       "    "
      ],
      "text/plain": [
       "<IPython.core.display.Javascript object>"
      ]
     },
     "metadata": {},
     "output_type": "display_data"
    },
    {
     "data": {
      "application/javascript": [
       "\n",
       "        if (window._pyforest_update_imports_cell) { window._pyforest_update_imports_cell('import matplotlib.pyplot as plt\\nimport pandas as pd\\nfrom sklearn import metrics\\nfrom sklearn.cluster import KMeans\\nfrom sklearn.manifold import TSNE'); }\n",
       "    "
      ],
      "text/plain": [
       "<IPython.core.display.Javascript object>"
      ]
     },
     "metadata": {},
     "output_type": "display_data"
    },
    {
     "data": {
      "application/javascript": [
       "\n",
       "        if (window._pyforest_update_imports_cell) { window._pyforest_update_imports_cell('import matplotlib.pyplot as plt\\nimport pandas as pd\\nfrom sklearn import metrics\\nfrom sklearn.cluster import KMeans\\nfrom sklearn.manifold import TSNE'); }\n",
       "    "
      ],
      "text/plain": [
       "<IPython.core.display.Javascript object>"
      ]
     },
     "metadata": {},
     "output_type": "display_data"
    },
    {
     "data": {
      "application/javascript": [
       "\n",
       "        if (window._pyforest_update_imports_cell) { window._pyforest_update_imports_cell('import matplotlib.pyplot as plt\\nimport pandas as pd\\nfrom sklearn import metrics\\nfrom sklearn.cluster import KMeans\\nfrom sklearn.manifold import TSNE'); }\n",
       "    "
      ],
      "text/plain": [
       "<IPython.core.display.Javascript object>"
      ]
     },
     "metadata": {},
     "output_type": "display_data"
    },
    {
     "data": {
      "application/javascript": [
       "\n",
       "        if (window._pyforest_update_imports_cell) { window._pyforest_update_imports_cell('import matplotlib.pyplot as plt\\nimport pandas as pd\\nfrom sklearn import metrics\\nfrom sklearn.cluster import KMeans\\nfrom sklearn.manifold import TSNE'); }\n",
       "    "
      ],
      "text/plain": [
       "<IPython.core.display.Javascript object>"
      ]
     },
     "metadata": {},
     "output_type": "display_data"
    },
    {
     "data": {
      "image/png": "[encoded data removed]",
      "text/plain": [
       "<Figure size 432x288 with 1 Axes>"
      ]
     },
     "metadata": {
      "needs_background": "light"
     },
     "output_type": "display_data"
    }
   ],
   "source": [
    "#Building Elbow method, wcss is within clusters sum of squares.\n",
    "wcss=[]\n",
    "for k in range(1,10):\n",
    "    kmeans=KMeans(n_clusters=k, init='k-means++', random_state=0)\n",
    "    kmeans.fit(Test_df)\n",
    "    wcss.append(kmeans.inertia_)\n",
    "plt.title('Elbow Method for Test Data')\n",
    "plt.xlabel('Number of Clusters')\n",
    "plt.ylabel('WCSS')\n",
    "plt.plot(range(1,10),wcss,marker = '*')\n",
    "plt.show()"
   ]
  },
  {
   "cell_type": "code",
   "execution_count": 38,
   "id": "7a055f0c",
   "metadata": {},
   "outputs": [
    {
     "data": {
      "application/javascript": [
       "\n",
       "        if (window._pyforest_update_imports_cell) { window._pyforest_update_imports_cell('import matplotlib.pyplot as plt\\nimport pandas as pd\\nfrom sklearn import metrics\\nfrom sklearn.cluster import KMeans\\nfrom sklearn.manifold import TSNE'); }\n",
       "    "
      ],
      "text/plain": [
       "<IPython.core.display.Javascript object>"
      ]
     },
     "metadata": {},
     "output_type": "display_data"
    },
    {
     "name": "stdout",
     "output_type": "stream",
     "text": [
      "Silhouette score for cluster = 2 is 0.37311568244051774\n"
     ]
    },
    {
     "data": {
      "application/javascript": [
       "\n",
       "        if (window._pyforest_update_imports_cell) { window._pyforest_update_imports_cell('import matplotlib.pyplot as plt\\nimport pandas as pd\\nfrom sklearn import metrics\\nfrom sklearn.cluster import KMeans\\nfrom sklearn.manifold import TSNE'); }\n",
       "    "
      ],
      "text/plain": [
       "<IPython.core.display.Javascript object>"
      ]
     },
     "metadata": {},
     "output_type": "display_data"
    },
    {
     "name": "stdout",
     "output_type": "stream",
     "text": [
      "Silhouette score for cluster = 3 is 0.30408904425567396\n"
     ]
    },
    {
     "data": {
      "application/javascript": [
       "\n",
       "        if (window._pyforest_update_imports_cell) { window._pyforest_update_imports_cell('import matplotlib.pyplot as plt\\nimport pandas as pd\\nfrom sklearn import metrics\\nfrom sklearn.cluster import KMeans\\nfrom sklearn.manifold import TSNE'); }\n",
       "    "
      ],
      "text/plain": [
       "<IPython.core.display.Javascript object>"
      ]
     },
     "metadata": {},
     "output_type": "display_data"
    },
    {
     "name": "stdout",
     "output_type": "stream",
     "text": [
      "Silhouette score for cluster = 4 is 0.3210521690534384\n"
     ]
    },
    {
     "data": {
      "application/javascript": [
       "\n",
       "        if (window._pyforest_update_imports_cell) { window._pyforest_update_imports_cell('import matplotlib.pyplot as plt\\nimport pandas as pd\\nfrom sklearn import metrics\\nfrom sklearn.cluster import KMeans\\nfrom sklearn.manifold import TSNE'); }\n",
       "    "
      ],
      "text/plain": [
       "<IPython.core.display.Javascript object>"
      ]
     },
     "metadata": {},
     "output_type": "display_data"
    },
    {
     "name": "stdout",
     "output_type": "stream",
     "text": [
      "Silhouette score for cluster = 5 is 0.32019328594187607\n"
     ]
    },
    {
     "data": {
      "application/javascript": [
       "\n",
       "        if (window._pyforest_update_imports_cell) { window._pyforest_update_imports_cell('import matplotlib.pyplot as plt\\nimport pandas as pd\\nfrom sklearn import metrics\\nfrom sklearn.cluster import KMeans\\nfrom sklearn.manifold import TSNE'); }\n",
       "    "
      ],
      "text/plain": [
       "<IPython.core.display.Javascript object>"
      ]
     },
     "metadata": {},
     "output_type": "display_data"
    },
    {
     "name": "stdout",
     "output_type": "stream",
     "text": [
      "Silhouette score for cluster = 6 is 0.331100154529059\n"
     ]
    },
    {
     "data": {
      "application/javascript": [
       "\n",
       "        if (window._pyforest_update_imports_cell) { window._pyforest_update_imports_cell('import matplotlib.pyplot as plt\\nimport pandas as pd\\nfrom sklearn import metrics\\nfrom sklearn.cluster import KMeans\\nfrom sklearn.manifold import TSNE'); }\n",
       "    "
      ],
      "text/plain": [
       "<IPython.core.display.Javascript object>"
      ]
     },
     "metadata": {},
     "output_type": "display_data"
    },
    {
     "name": "stdout",
     "output_type": "stream",
     "text": [
      "Silhouette score for cluster = 7 is 0.37040031365666964\n"
     ]
    },
    {
     "data": {
      "application/javascript": [
       "\n",
       "        if (window._pyforest_update_imports_cell) { window._pyforest_update_imports_cell('import matplotlib.pyplot as plt\\nimport pandas as pd\\nfrom sklearn import metrics\\nfrom sklearn.cluster import KMeans\\nfrom sklearn.manifold import TSNE'); }\n",
       "    "
      ],
      "text/plain": [
       "<IPython.core.display.Javascript object>"
      ]
     },
     "metadata": {},
     "output_type": "display_data"
    },
    {
     "name": "stdout",
     "output_type": "stream",
     "text": [
      "Silhouette score for cluster = 8 is 0.3487385082098975\n"
     ]
    },
    {
     "data": {
      "application/javascript": [
       "\n",
       "        if (window._pyforest_update_imports_cell) { window._pyforest_update_imports_cell('import matplotlib.pyplot as plt\\nimport pandas as pd\\nfrom sklearn import metrics\\nfrom sklearn.cluster import KMeans\\nfrom sklearn.manifold import TSNE'); }\n",
       "    "
      ],
      "text/plain": [
       "<IPython.core.display.Javascript object>"
      ]
     },
     "metadata": {},
     "output_type": "display_data"
    },
    {
     "name": "stdout",
     "output_type": "stream",
     "text": [
      "Silhouette score for cluster = 9 is 0.33080120446916805\n"
     ]
    }
   ],
   "source": [
    "#Finding the Silhouette score \n",
    "for i in range(2,10):\n",
    "    labels=cluster.KMeans(n_clusters=i,init='k-means++',random_state=200).fit(Test_df).labels_\n",
    "    print(\"Silhouette score for cluster = \" +str(i)+ \" is \"+str(metrics.silhouette_score(Test_df,labels,metric='euclidean',sample_size=1000,random_state=200)))"
   ]
  },
  {
   "cell_type": "code",
   "execution_count": 39,
   "id": "093eb104",
   "metadata": {},
   "outputs": [
    {
     "data": {
      "application/javascript": [
       "\n",
       "        if (window._pyforest_update_imports_cell) { window._pyforest_update_imports_cell('import matplotlib.pyplot as plt\\nimport pandas as pd\\nfrom sklearn import metrics\\nfrom sklearn.cluster import KMeans\\nfrom sklearn.manifold import TSNE'); }\n",
       "    "
      ],
      "text/plain": [
       "<IPython.core.display.Javascript object>"
      ]
     },
     "metadata": {},
     "output_type": "display_data"
    },
    {
     "data": {
      "application/javascript": [
       "\n",
       "        if (window._pyforest_update_imports_cell) { window._pyforest_update_imports_cell('import matplotlib.pyplot as plt\\nimport pandas as pd\\nfrom sklearn import metrics\\nfrom sklearn.cluster import KMeans\\nfrom sklearn.manifold import TSNE'); }\n",
       "    "
      ],
      "text/plain": [
       "<IPython.core.display.Javascript object>"
      ]
     },
     "metadata": {},
     "output_type": "display_data"
    },
    {
     "data": {
      "application/javascript": [
       "\n",
       "        if (window._pyforest_update_imports_cell) { window._pyforest_update_imports_cell('import matplotlib.pyplot as plt\\nimport pandas as pd\\nfrom sklearn import metrics\\nfrom sklearn.cluster import KMeans\\nfrom sklearn.manifold import TSNE'); }\n",
       "    "
      ],
      "text/plain": [
       "<IPython.core.display.Javascript object>"
      ]
     },
     "metadata": {},
     "output_type": "display_data"
    },
    {
     "data": {
      "application/javascript": [
       "\n",
       "        if (window._pyforest_update_imports_cell) { window._pyforest_update_imports_cell('import matplotlib.pyplot as plt\\nimport pandas as pd\\nfrom sklearn import metrics\\nfrom sklearn.cluster import KMeans\\nfrom sklearn.manifold import TSNE'); }\n",
       "    "
      ],
      "text/plain": [
       "<IPython.core.display.Javascript object>"
      ]
     },
     "metadata": {},
     "output_type": "display_data"
    },
    {
     "data": {
      "application/javascript": [
       "\n",
       "        if (window._pyforest_update_imports_cell) { window._pyforest_update_imports_cell('import matplotlib.pyplot as plt\\nimport pandas as pd\\nfrom sklearn import metrics\\nfrom sklearn.cluster import KMeans\\nfrom sklearn.manifold import TSNE'); }\n",
       "    "
      ],
      "text/plain": [
       "<IPython.core.display.Javascript object>"
      ]
     },
     "metadata": {},
     "output_type": "display_data"
    },
    {
     "data": {
      "text/plain": [
       "<matplotlib.legend.Legend at 0x2660d8b9340>"
      ]
     },
     "execution_count": 39,
     "metadata": {},
     "output_type": "execute_result"
    },
    {
     "data": {
      "image/png": "[encoded data removed]",
      "text/plain": [
       "<Figure size 432x288 with 1 Axes>"
      ]
     },
     "metadata": {
      "needs_background": "light"
     },
     "output_type": "display_data"
    }
   ],
   "source": [
    "#plotting clusters with K = 2\n",
    "tsne = TSNE().fit_transform(Test_df)\n",
    "\n",
    "km = KMeans(n_clusters=2, random_state = 0)     \n",
    "y_km = km.fit_predict(tsne)     \n",
    "\n",
    "plt.scatter(tsne[y_km==0,0],tsne[y_km==0,1],s=50,c=\"orange\",marker=\"o\",label=\"cluster 1\")    \n",
    "plt.scatter(tsne[y_km==1,0],tsne[y_km==1,1],s=50,c=\"blue\",marker=\"o\",label=\"cluster 2\")      \n",
    "plt.scatter(km.cluster_centers_[:,0],km.cluster_centers_[:,1],s=250,marker=\"*\",c=\"red\",label=\"cluster center\")   \n",
    "plt.legend()"
   ]
  },
  {
   "cell_type": "code",
   "execution_count": 40,
   "id": "21d5f186",
   "metadata": {},
   "outputs": [
    {
     "data": {
      "application/javascript": [
       "\n",
       "        if (window._pyforest_update_imports_cell) { window._pyforest_update_imports_cell('import matplotlib.pyplot as plt\\nimport pandas as pd\\nfrom sklearn import metrics\\nfrom sklearn.cluster import KMeans\\nfrom sklearn.manifold import TSNE'); }\n",
       "    "
      ],
      "text/plain": [
       "<IPython.core.display.Javascript object>"
      ]
     },
     "metadata": {},
     "output_type": "display_data"
    },
    {
     "data": {
      "application/javascript": [
       "\n",
       "        if (window._pyforest_update_imports_cell) { window._pyforest_update_imports_cell('import matplotlib.pyplot as plt\\nimport pandas as pd\\nfrom sklearn import metrics\\nfrom sklearn.cluster import KMeans\\nfrom sklearn.manifold import TSNE'); }\n",
       "    "
      ],
      "text/plain": [
       "<IPython.core.display.Javascript object>"
      ]
     },
     "metadata": {},
     "output_type": "display_data"
    },
    {
     "data": {
      "application/javascript": [
       "\n",
       "        if (window._pyforest_update_imports_cell) { window._pyforest_update_imports_cell('import matplotlib.pyplot as plt\\nimport pandas as pd\\nfrom sklearn import metrics\\nfrom sklearn.cluster import KMeans\\nfrom sklearn.manifold import TSNE'); }\n",
       "    "
      ],
      "text/plain": [
       "<IPython.core.display.Javascript object>"
      ]
     },
     "metadata": {},
     "output_type": "display_data"
    },
    {
     "data": {
      "application/javascript": [
       "\n",
       "        if (window._pyforest_update_imports_cell) { window._pyforest_update_imports_cell('import matplotlib.pyplot as plt\\nimport pandas as pd\\nfrom sklearn import metrics\\nfrom sklearn.cluster import KMeans\\nfrom sklearn.manifold import TSNE'); }\n",
       "    "
      ],
      "text/plain": [
       "<IPython.core.display.Javascript object>"
      ]
     },
     "metadata": {},
     "output_type": "display_data"
    },
    {
     "data": {
      "application/javascript": [
       "\n",
       "        if (window._pyforest_update_imports_cell) { window._pyforest_update_imports_cell('import matplotlib.pyplot as plt\\nimport pandas as pd\\nfrom sklearn import metrics\\nfrom sklearn.cluster import KMeans\\nfrom sklearn.manifold import TSNE'); }\n",
       "    "
      ],
      "text/plain": [
       "<IPython.core.display.Javascript object>"
      ]
     },
     "metadata": {},
     "output_type": "display_data"
    },
    {
     "data": {
      "application/javascript": [
       "\n",
       "        if (window._pyforest_update_imports_cell) { window._pyforest_update_imports_cell('import matplotlib.pyplot as plt\\nimport pandas as pd\\nfrom sklearn import metrics\\nfrom sklearn.cluster import KMeans\\nfrom sklearn.manifold import TSNE'); }\n",
       "    "
      ],
      "text/plain": [
       "<IPython.core.display.Javascript object>"
      ]
     },
     "metadata": {},
     "output_type": "display_data"
    },
    {
     "data": {
      "text/plain": [
       "<matplotlib.legend.Legend at 0x2660da02df0>"
      ]
     },
     "execution_count": 40,
     "metadata": {},
     "output_type": "execute_result"
    },
    {
     "data": {
      "image/png": "[encoded data removed]",
      "text/plain": [
       "<Figure size 432x288 with 1 Axes>"
      ]
     },
     "metadata": {
      "needs_background": "light"
     },
     "output_type": "display_data"
    }
   ],
   "source": [
    "#plotting clusters with K = 3\n",
    "tsne = TSNE().fit_transform(Test_df)\n",
    "\n",
    "km = KMeans(n_clusters=3, random_state = 0)     \n",
    "y_km = km.fit_predict(tsne)     \n",
    "\n",
    "plt.scatter(tsne[y_km==0,0],tsne[y_km==0,1],s=50,c=\"orange\",marker=\"o\",label=\"cluster 1\")    \n",
    "plt.scatter(tsne[y_km==1,0],tsne[y_km==1,1],s=50,c=\"blue\",marker=\"o\",label=\"cluster 2\")    \n",
    "plt.scatter(tsne[y_km==2,0],tsne[y_km==2,1],s=50,c=\"green\",marker=\"o\",label=\"cluster 3\")     \n",
    "plt.scatter(km.cluster_centers_[:,0],km.cluster_centers_[:,1],s=250,marker=\"*\",c=\"red\",label=\"cluster center\")   \n",
    "plt.legend()"
   ]
  },
  {
   "cell_type": "code",
   "execution_count": 41,
   "id": "1c78da3c",
   "metadata": {},
   "outputs": [
    {
     "data": {
      "application/javascript": [
       "\n",
       "        if (window._pyforest_update_imports_cell) { window._pyforest_update_imports_cell('import matplotlib.pyplot as plt\\nimport pandas as pd\\nfrom sklearn import metrics\\nfrom sklearn.cluster import KMeans\\nfrom sklearn.manifold import TSNE'); }\n",
       "    "
      ],
      "text/plain": [
       "<IPython.core.display.Javascript object>"
      ]
     },
     "metadata": {},
     "output_type": "display_data"
    },
    {
     "data": {
      "application/javascript": [
       "\n",
       "        if (window._pyforest_update_imports_cell) { window._pyforest_update_imports_cell('import matplotlib.pyplot as plt\\nimport pandas as pd\\nfrom sklearn import metrics\\nfrom sklearn.cluster import KMeans\\nfrom sklearn.manifold import TSNE'); }\n",
       "    "
      ],
      "text/plain": [
       "<IPython.core.display.Javascript object>"
      ]
     },
     "metadata": {},
     "output_type": "display_data"
    },
    {
     "data": {
      "application/javascript": [
       "\n",
       "        if (window._pyforest_update_imports_cell) { window._pyforest_update_imports_cell('import matplotlib.pyplot as plt\\nimport pandas as pd\\nfrom sklearn import metrics\\nfrom sklearn.cluster import KMeans\\nfrom sklearn.manifold import TSNE'); }\n",
       "    "
      ],
      "text/plain": [
       "<IPython.core.display.Javascript object>"
      ]
     },
     "metadata": {},
     "output_type": "display_data"
    },
    {
     "data": {
      "application/javascript": [
       "\n",
       "        if (window._pyforest_update_imports_cell) { window._pyforest_update_imports_cell('import matplotlib.pyplot as plt\\nimport pandas as pd\\nfrom sklearn import metrics\\nfrom sklearn.cluster import KMeans\\nfrom sklearn.manifold import TSNE'); }\n",
       "    "
      ],
      "text/plain": [
       "<IPython.core.display.Javascript object>"
      ]
     },
     "metadata": {},
     "output_type": "display_data"
    },
    {
     "data": {
      "application/javascript": [
       "\n",
       "        if (window._pyforest_update_imports_cell) { window._pyforest_update_imports_cell('import matplotlib.pyplot as plt\\nimport pandas as pd\\nfrom sklearn import metrics\\nfrom sklearn.cluster import KMeans\\nfrom sklearn.manifold import TSNE'); }\n",
       "    "
      ],
      "text/plain": [
       "<IPython.core.display.Javascript object>"
      ]
     },
     "metadata": {},
     "output_type": "display_data"
    },
    {
     "data": {
      "application/javascript": [
       "\n",
       "        if (window._pyforest_update_imports_cell) { window._pyforest_update_imports_cell('import matplotlib.pyplot as plt\\nimport pandas as pd\\nfrom sklearn import metrics\\nfrom sklearn.cluster import KMeans\\nfrom sklearn.manifold import TSNE'); }\n",
       "    "
      ],
      "text/plain": [
       "<IPython.core.display.Javascript object>"
      ]
     },
     "metadata": {},
     "output_type": "display_data"
    },
    {
     "data": {
      "application/javascript": [
       "\n",
       "        if (window._pyforest_update_imports_cell) { window._pyforest_update_imports_cell('import matplotlib.pyplot as plt\\nimport pandas as pd\\nfrom sklearn import metrics\\nfrom sklearn.cluster import KMeans\\nfrom sklearn.manifold import TSNE'); }\n",
       "    "
      ],
      "text/plain": [
       "<IPython.core.display.Javascript object>"
      ]
     },
     "metadata": {},
     "output_type": "display_data"
    },
    {
     "data": {
      "text/plain": [
       "<matplotlib.legend.Legend at 0x2660da8af70>"
      ]
     },
     "execution_count": 41,
     "metadata": {},
     "output_type": "execute_result"
    },
    {
     "data": {
      "image/png": "[encoded data removed]",
      "text/plain": [
       "<Figure size 432x288 with 1 Axes>"
      ]
     },
     "metadata": {
      "needs_background": "light"
     },
     "output_type": "display_data"
    }
   ],
   "source": [
    "#plotting clusters with K = 4\n",
    "tsne = TSNE().fit_transform(Test_df)\n",
    "\n",
    "km = KMeans(n_clusters=4, random_state = 0)     \n",
    "y_km = km.fit_predict(tsne)     \n",
    "\n",
    "plt.scatter(tsne[y_km==0,0],tsne[y_km==0,1],s=50,c=\"orange\",marker=\"o\",label=\"cluster 1\")    \n",
    "plt.scatter(tsne[y_km==1,0],tsne[y_km==1,1],s=50,c=\"blue\",marker=\"o\",label=\"cluster 2\")    \n",
    "plt.scatter(tsne[y_km==2,0],tsne[y_km==2,1],s=50,c=\"green\",marker=\"o\",label=\"cluster 3\") \n",
    "plt.scatter(tsne[y_km==3,0],tsne[y_km==3,1],s=50,c=\"yellow\",marker=\"o\",label=\"cluster 4\")     \n",
    "plt.scatter(km.cluster_centers_[:,0],km.cluster_centers_[:,1],s=250,marker=\"*\",c=\"red\",label=\"cluster center\")   \n",
    "plt.legend()"
   ]
  },
  {
   "cell_type": "code",
   "execution_count": 42,
   "id": "47ba5c6a",
   "metadata": {},
   "outputs": [
    {
     "data": {
      "application/javascript": [
       "\n",
       "        if (window._pyforest_update_imports_cell) { window._pyforest_update_imports_cell('import matplotlib.pyplot as plt\\nimport pandas as pd\\nfrom sklearn import metrics\\nfrom sklearn.cluster import KMeans\\nfrom sklearn.manifold import TSNE'); }\n",
       "    "
      ],
      "text/plain": [
       "<IPython.core.display.Javascript object>"
      ]
     },
     "metadata": {},
     "output_type": "display_data"
    },
    {
     "data": {
      "application/javascript": [
       "\n",
       "        if (window._pyforest_update_imports_cell) { window._pyforest_update_imports_cell('import matplotlib.pyplot as plt\\nimport pandas as pd\\nfrom sklearn import metrics\\nfrom sklearn.cluster import KMeans\\nfrom sklearn.manifold import TSNE'); }\n",
       "    "
      ],
      "text/plain": [
       "<IPython.core.display.Javascript object>"
      ]
     },
     "metadata": {},
     "output_type": "display_data"
    },
    {
     "data": {
      "application/javascript": [
       "\n",
       "        if (window._pyforest_update_imports_cell) { window._pyforest_update_imports_cell('import matplotlib.pyplot as plt\\nimport pandas as pd\\nfrom sklearn import metrics\\nfrom sklearn.cluster import KMeans\\nfrom sklearn.manifold import TSNE'); }\n",
       "    "
      ],
      "text/plain": [
       "<IPython.core.display.Javascript object>"
      ]
     },
     "metadata": {},
     "output_type": "display_data"
    },
    {
     "data": {
      "application/javascript": [
       "\n",
       "        if (window._pyforest_update_imports_cell) { window._pyforest_update_imports_cell('import matplotlib.pyplot as plt\\nimport pandas as pd\\nfrom sklearn import metrics\\nfrom sklearn.cluster import KMeans\\nfrom sklearn.manifold import TSNE'); }\n",
       "    "
      ],
      "text/plain": [
       "<IPython.core.display.Javascript object>"
      ]
     },
     "metadata": {},
     "output_type": "display_data"
    },
    {
     "data": {
      "application/javascript": [
       "\n",
       "        if (window._pyforest_update_imports_cell) { window._pyforest_update_imports_cell('import matplotlib.pyplot as plt\\nimport pandas as pd\\nfrom sklearn import metrics\\nfrom sklearn.cluster import KMeans\\nfrom sklearn.manifold import TSNE'); }\n",
       "    "
      ],
      "text/plain": [
       "<IPython.core.display.Javascript object>"
      ]
     },
     "metadata": {},
     "output_type": "display_data"
    },
    {
     "data": {
      "application/javascript": [
       "\n",
       "        if (window._pyforest_update_imports_cell) { window._pyforest_update_imports_cell('import matplotlib.pyplot as plt\\nimport pandas as pd\\nfrom sklearn import metrics\\nfrom sklearn.cluster import KMeans\\nfrom sklearn.manifold import TSNE'); }\n",
       "    "
      ],
      "text/plain": [
       "<IPython.core.display.Javascript object>"
      ]
     },
     "metadata": {},
     "output_type": "display_data"
    },
    {
     "data": {
      "application/javascript": [
       "\n",
       "        if (window._pyforest_update_imports_cell) { window._pyforest_update_imports_cell('import matplotlib.pyplot as plt\\nimport pandas as pd\\nfrom sklearn import metrics\\nfrom sklearn.cluster import KMeans\\nfrom sklearn.manifold import TSNE'); }\n",
       "    "
      ],
      "text/plain": [
       "<IPython.core.display.Javascript object>"
      ]
     },
     "metadata": {},
     "output_type": "display_data"
    },
    {
     "data": {
      "application/javascript": [
       "\n",
       "        if (window._pyforest_update_imports_cell) { window._pyforest_update_imports_cell('import matplotlib.pyplot as plt\\nimport pandas as pd\\nfrom sklearn import metrics\\nfrom sklearn.cluster import KMeans\\nfrom sklearn.manifold import TSNE'); }\n",
       "    "
      ],
      "text/plain": [
       "<IPython.core.display.Javascript object>"
      ]
     },
     "metadata": {},
     "output_type": "display_data"
    },
    {
     "data": {
      "text/plain": [
       "<matplotlib.legend.Legend at 0x2660db1ceb0>"
      ]
     },
     "execution_count": 42,
     "metadata": {},
     "output_type": "execute_result"
    },
    {
     "data": {
      "image/png": "[encoded data removed]",
      "text/plain": [
       "<Figure size 432x288 with 1 Axes>"
      ]
     },
     "metadata": {
      "needs_background": "light"
     },
     "output_type": "display_data"
    }
   ],
   "source": [
    "#plotting clusters with K = 5\n",
    "tsne = TSNE().fit_transform(Train_df)\n",
    "\n",
    "km = KMeans(n_clusters=5, random_state = 0)     \n",
    "y_km = km.fit_predict(tsne)     \n",
    "\n",
    "plt.scatter(tsne[y_km==0,0],tsne[y_km==0,1],s=50,c=\"orange\",marker=\"o\",label=\"cluster 1\")    \n",
    "plt.scatter(tsne[y_km==1,0],tsne[y_km==1,1],s=50,c=\"blue\",marker=\"o\",label=\"cluster 2\")    \n",
    "plt.scatter(tsne[y_km==2,0],tsne[y_km==2,1],s=50,c=\"green\",marker=\"o\",label=\"cluster 3\") \n",
    "plt.scatter(tsne[y_km==3,0],tsne[y_km==3,1],s=50,c=\"yellow\",marker=\"o\",label=\"cluster 4\")     \n",
    "plt.scatter(tsne[y_km==4,0],tsne[y_km==4,1],s=50,c=\"yellow\",marker=\"o\",label=\"cluster 5\")     \n",
    "plt.scatter(km.cluster_centers_[:,0],km.cluster_centers_[:,1],s=250,marker=\"*\",c=\"red\",label=\"cluster center\")   \n",
    "plt.legend()"
   ]
  },
  {
   "cell_type": "code",
   "execution_count": 43,
   "id": "4d135910",
   "metadata": {},
   "outputs": [
    {
     "data": {
      "text/plain": [
       "array([2, 4, 3, 0, 4, 0, 3, 2, 2, 4, 3, 1, 2, 4, 2, 3, 1, 1, 4, 4, 4, 3,\n",
       "       4, 1, 3, 4, 0, 0, 2, 2, 4, 2, 4, 2, 4, 2, 2, 2, 0, 4, 1, 1, 4, 0,\n",
       "       1, 2, 3, 3, 4, 2, 2, 2, 1, 2, 4, 0, 2, 1, 4, 0, 2, 4, 4, 4, 1, 2,\n",
       "       4, 4, 2, 2, 3, 3, 4, 4, 3, 0, 2, 2])"
      ]
     },
     "execution_count": 43,
     "metadata": {},
     "output_type": "execute_result"
    }
   ],
   "source": [
    "#Predicting the clusters for test data\n",
    "Test_predict = km.fit_predict(Test_df)\n",
    "Test_predict"
   ]
  }
 ],
 "metadata": {
  "kernelspec": {
   "display_name": "Python 3 (ipykernel)",
   "language": "python",
   "name": "python3"
  },
  "language_info": {
   "codemirror_mode": {
    "name": "ipython",
    "version": 3
   },
   "file_extension": ".py",
   "mimetype": "text/x-python",
   "name": "python",
   "nbconvert_exporter": "python",
   "pygments_lexer": "ipython3",
   "version": "3.9.7"
  }
 },
 "nbformat": 4,
 "nbformat_minor": 5
}
