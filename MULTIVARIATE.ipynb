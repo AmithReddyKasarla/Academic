{
 "cells": [
  {
   "cell_type": "code",
   "execution_count": 13,
   "id": "14b64e10",
   "metadata": {},
   "outputs": [],
   "source": [
    "import numpy as ny\n",
    "import pandas as ps\n",
    "import matplotlib.pyplot as pt\n",
    "from sklearn import linear_model\n",
    "from sklearn.metrics import mean_squared_error "
   ]
  },
  {
   "cell_type": "code",
   "execution_count": 14,
   "id": "dc703258",
   "metadata": {},
   "outputs": [],
   "source": [
    "data = ps.read_csv(\"C:/Users/Amith Reddy/OneDrive/Desktop/monet.csv\")"
   ]
  },
  {
   "cell_type": "code",
   "execution_count": 15,
   "id": "6a0370ac",
   "metadata": {},
   "outputs": [
    {
     "data": {
      "text/html": [
       "<div>\n",
       "<style scoped>\n",
       "    .dataframe tbody tr th:only-of-type {\n",
       "        vertical-align: middle;\n",
       "    }\n",
       "\n",
       "    .dataframe tbody tr th {\n",
       "        vertical-align: top;\n",
       "    }\n",
       "\n",
       "    .dataframe thead th {\n",
       "        text-align: right;\n",
       "    }\n",
       "</style>\n",
       "<table border=\"1\" class=\"dataframe\">\n",
       "  <thead>\n",
       "    <tr style=\"text-align: right;\">\n",
       "      <th></th>\n",
       "      <th>PRICE</th>\n",
       "      <th>HEIGHT</th>\n",
       "      <th>WIDTH</th>\n",
       "      <th>SIGNED</th>\n",
       "      <th>PICTURE</th>\n",
       "      <th>HOUSE</th>\n",
       "    </tr>\n",
       "  </thead>\n",
       "  <tbody>\n",
       "    <tr>\n",
       "      <th>0</th>\n",
       "      <td>3.993780</td>\n",
       "      <td>21.3</td>\n",
       "      <td>25.6</td>\n",
       "      <td>1</td>\n",
       "      <td>1</td>\n",
       "      <td>1</td>\n",
       "    </tr>\n",
       "    <tr>\n",
       "      <th>1</th>\n",
       "      <td>8.800000</td>\n",
       "      <td>31.9</td>\n",
       "      <td>25.6</td>\n",
       "      <td>1</td>\n",
       "      <td>2</td>\n",
       "      <td>2</td>\n",
       "    </tr>\n",
       "    <tr>\n",
       "      <th>2</th>\n",
       "      <td>0.131694</td>\n",
       "      <td>6.9</td>\n",
       "      <td>15.9</td>\n",
       "      <td>0</td>\n",
       "      <td>3</td>\n",
       "      <td>3</td>\n",
       "    </tr>\n",
       "    <tr>\n",
       "      <th>3</th>\n",
       "      <td>2.037500</td>\n",
       "      <td>25.7</td>\n",
       "      <td>32.0</td>\n",
       "      <td>1</td>\n",
       "      <td>4</td>\n",
       "      <td>2</td>\n",
       "    </tr>\n",
       "    <tr>\n",
       "      <th>4</th>\n",
       "      <td>1.487500</td>\n",
       "      <td>25.7</td>\n",
       "      <td>32.0</td>\n",
       "      <td>1</td>\n",
       "      <td>4</td>\n",
       "      <td>2</td>\n",
       "    </tr>\n",
       "    <tr>\n",
       "      <th>...</th>\n",
       "      <td>...</td>\n",
       "      <td>...</td>\n",
       "      <td>...</td>\n",
       "      <td>...</td>\n",
       "      <td>...</td>\n",
       "      <td>...</td>\n",
       "    </tr>\n",
       "    <tr>\n",
       "      <th>425</th>\n",
       "      <td>5.282500</td>\n",
       "      <td>25.6</td>\n",
       "      <td>39.4</td>\n",
       "      <td>1</td>\n",
       "      <td>375</td>\n",
       "      <td>1</td>\n",
       "    </tr>\n",
       "    <tr>\n",
       "      <th>426</th>\n",
       "      <td>9.352500</td>\n",
       "      <td>25.9</td>\n",
       "      <td>39.6</td>\n",
       "      <td>1</td>\n",
       "      <td>375</td>\n",
       "      <td>2</td>\n",
       "    </tr>\n",
       "    <tr>\n",
       "      <th>427</th>\n",
       "      <td>8.252500</td>\n",
       "      <td>25.6</td>\n",
       "      <td>39.6</td>\n",
       "      <td>1</td>\n",
       "      <td>375</td>\n",
       "      <td>1</td>\n",
       "    </tr>\n",
       "    <tr>\n",
       "      <th>428</th>\n",
       "      <td>3.410000</td>\n",
       "      <td>25.6</td>\n",
       "      <td>39.4</td>\n",
       "      <td>1</td>\n",
       "      <td>386</td>\n",
       "      <td>2</td>\n",
       "    </tr>\n",
       "    <tr>\n",
       "      <th>429</th>\n",
       "      <td>1.542500</td>\n",
       "      <td>25.7</td>\n",
       "      <td>32.0</td>\n",
       "      <td>1</td>\n",
       "      <td>387</td>\n",
       "      <td>1</td>\n",
       "    </tr>\n",
       "  </tbody>\n",
       "</table>\n",
       "<p>430 rows × 6 columns</p>\n",
       "</div>"
      ],
      "text/plain": [
       "        PRICE  HEIGHT  WIDTH  SIGNED  PICTURE  HOUSE \n",
       "0    3.993780    21.3   25.6       1        1       1\n",
       "1    8.800000    31.9   25.6       1        2       2\n",
       "2    0.131694     6.9   15.9       0        3       3\n",
       "3    2.037500    25.7   32.0       1        4       2\n",
       "4    1.487500    25.7   32.0       1        4       2\n",
       "..        ...     ...    ...     ...      ...     ...\n",
       "425  5.282500    25.6   39.4       1      375       1\n",
       "426  9.352500    25.9   39.6       1      375       2\n",
       "427  8.252500    25.6   39.6       1      375       1\n",
       "428  3.410000    25.6   39.4       1      386       2\n",
       "429  1.542500    25.7   32.0       1      387       1\n",
       "\n",
       "[430 rows x 6 columns]"
      ]
     },
     "execution_count": 15,
     "metadata": {},
     "output_type": "execute_result"
    }
   ],
   "source": [
    "data"
   ]
  },
  {
   "cell_type": "code",
   "execution_count": 16,
   "id": "693b3d0f",
   "metadata": {},
   "outputs": [],
   "source": [
    "train = data.sample(frac = 0.7)\n",
    "test = data.drop(train.index)"
   ]
  },
  {
   "cell_type": "code",
   "execution_count": 17,
   "id": "e13ab15d",
   "metadata": {},
   "outputs": [
    {
     "data": {
      "text/plain": [
       "LinearRegression()"
      ]
     },
     "execution_count": 17,
     "metadata": {},
     "output_type": "execute_result"
    }
   ],
   "source": [
    "mod = linear_model.LinearRegression()\n",
    "mod.fit(train[['HEIGHT','WIDTH','PICTURE']],train.PRICE)"
   ]
  },
  {
   "cell_type": "code",
   "execution_count": 18,
   "id": "05fda8c3",
   "metadata": {},
   "outputs": [
    {
     "data": {
      "text/plain": [
       "array([ 2.22285343,  2.38815501,  2.6653432 ,  2.86082012,  2.84194749,\n",
       "        2.8584603 ,  2.50099388,  1.74748851,  1.42312354,  2.42655366,\n",
       "        1.38235097,  1.36295481,  3.06261129,  5.38355256,  2.32983711,\n",
       "        3.07569035,  2.47405965,  2.48985275,  3.57513492,  2.53519644,\n",
       "        2.14485474,  1.29855053,  2.44412015,  1.08018832,  2.47557194,\n",
       "        2.81479686,  2.41148845,  2.11149401,  3.27867725,  2.38645679,\n",
       "        2.58342531,  1.65701048,  2.12538454,  3.70448523,  0.66798489,\n",
       "        2.78885594,  2.50545333,  5.37033181,  8.08366301,  4.74732152,\n",
       "        8.05673014,  2.20087048,  2.01169976,  3.72950449,  2.71618252,\n",
       "        3.52370395,  2.71552775, 11.66471122,  2.72142434,  3.22429798,\n",
       "        1.85902966,  2.12823197,  3.22999841,  2.01838416,  2.60439894,\n",
       "        2.60439894,  2.78157897,  2.26665925,  0.65548839,  2.47813498,\n",
       "        2.47813498,  1.04916922,  2.01086509,  4.46818676,  1.73451203,\n",
       "        8.94993004,  6.08569701,  2.19504566,  1.79337122,  2.67929504,\n",
       "        3.25909221,  3.92758379,  2.67365954,  2.39941646,  3.72185761,\n",
       "        3.72460975,  2.8361221 ,  4.00542954,  1.82395479,  3.92083491,\n",
       "        5.22957077,  3.48016731,  1.63251283,  2.76174682,  0.87262543,\n",
       "        2.49255406,  3.62539748,  1.59889909,  3.76836097,  4.38161234,\n",
       "        4.32669952, -1.38402333, -1.52785674,  1.36702469,  2.46141101,\n",
       "        4.29895382,  4.77288901,  2.09913318,  1.78690606,  8.46424546,\n",
       "        4.4439942 ,  4.49104294,  0.83320881,  4.42295155, 10.35230555,\n",
       "        3.15253201,  3.76378883,  0.86996723,  1.7977107 ,  1.63827717,\n",
       "        3.7417655 ,  3.95295012,  2.55387019,  0.43093986,  0.37327491,\n",
       "        3.26320245,  3.73586755,  5.09752815,  4.27895554,  3.14757051,\n",
       "        3.75532865,  2.78406047,  1.51987275,  1.00449442,  4.19422342,\n",
       "       -0.03669675,  2.66094096,  3.24695574,  4.22235371])"
      ]
     },
     "execution_count": 18,
     "metadata": {},
     "output_type": "execute_result"
    }
   ],
   "source": [
    "pr = mod.predict(test[['HEIGHT','WIDTH','PICTURE']])\n",
    "pr"
   ]
  },
  {
   "cell_type": "code",
   "execution_count": 19,
   "id": "97149a37",
   "metadata": {},
   "outputs": [
    {
     "data": {
      "text/plain": [
       "array([0.08583788, 0.10812378, 0.00275213])"
      ]
     },
     "execution_count": 19,
     "metadata": {},
     "output_type": "execute_result"
    }
   ],
   "source": [
    "mod.coef_"
   ]
  },
  {
   "cell_type": "code",
   "execution_count": 20,
   "id": "d26ca169",
   "metadata": {},
   "outputs": [
    {
     "data": {
      "text/plain": [
       "-3.2888480050416855"
      ]
     },
     "execution_count": 20,
     "metadata": {},
     "output_type": "execute_result"
    }
   ],
   "source": [
    "mod.intercept_"
   ]
  },
  {
   "cell_type": "code",
   "execution_count": 21,
   "id": "143609c9",
   "metadata": {},
   "outputs": [
    {
     "data": {
      "text/plain": [
       "0.1251857923998274"
      ]
     },
     "execution_count": 21,
     "metadata": {},
     "output_type": "execute_result"
    }
   ],
   "source": [
    "mod.score(test[['HEIGHT','WIDTH','PICTURE']],test.PRICE)"
   ]
  },
  {
   "cell_type": "code",
   "execution_count": 22,
   "id": "c0e5c626",
   "metadata": {},
   "outputs": [],
   "source": [
    "y = test.PRICE\n",
    "error = mean_squared_error(y,pr)"
   ]
  },
  {
   "cell_type": "code",
   "execution_count": 23,
   "id": "e6c907e3",
   "metadata": {},
   "outputs": [
    {
     "data": {
      "text/plain": [
       "17.609829529714975"
      ]
     },
     "execution_count": 23,
     "metadata": {},
     "output_type": "execute_result"
    }
   ],
   "source": [
    "error"
   ]
  }
 ],
 "metadata": {
  "kernelspec": {
   "display_name": "Python 3 (ipykernel)",
   "language": "python",
   "name": "python3"
  },
  "language_info": {
   "codemirror_mode": {
    "name": "ipython",
    "version": 3
   },
   "file_extension": ".py",
   "mimetype": "text/x-python",
   "name": "python",
   "nbconvert_exporter": "python",
   "pygments_lexer": "ipython3",
   "version": "3.9.7"
  }
 },
 "nbformat": 4,
 "nbformat_minor": 5
}
